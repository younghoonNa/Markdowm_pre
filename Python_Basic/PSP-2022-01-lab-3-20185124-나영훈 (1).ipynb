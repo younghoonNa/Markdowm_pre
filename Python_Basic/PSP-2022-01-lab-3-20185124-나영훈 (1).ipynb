{
 "cells": [
  {
   "cell_type": "markdown",
   "metadata": {},
   "source": [
    "<h1 align='center'> 파이썬과학프로그래밍기초 실습 3</h1>\n",
    "\n",
    "<p style=\"text-align: right\"> 2022.3.24</p>"
   ]
  },
  {
   "cell_type": "markdown",
   "metadata": {},
   "source": [
    "<div class=\"alert alert-block alert-info\">\n",
    "    \n",
    "- 파일 이름에서 20185124을 자신의 학번으로, name을 자신의 이름으로 수정하세요.\n",
    "\n",
    "- 다음 줄에 자신의 이름, 학번, 학과(전공)을 적으세요.\n",
    "\n",
    "* 이름:   나영훈         학번:   20185124         학과(전공):   빅데이터 전공\n",
    "    \n",
    "    \n",
    "</div>\n",
    "\n",
    "- JupyterLab 문서의 최신 버전은 [JupyterLab Documentation](https://jupyterlab.readthedocs.io/en/stable/index.html#/)을  참고하라\n",
    "\n",
    "- Markdown은 [Markdown Guide](https://www.markdownguide.org/)를 참고하라.\n",
    "- [Markdown Cheat Sheet](https://www.markdownguide.org/cheat-sheet/)\n",
    "\n",
    "* 제출 마감: 3월 30일 (수) 오후 6:00까지 최종본을 SmartLEAD에 제출"
   ]
  },
  {
   "cell_type": "markdown",
   "metadata": {},
   "source": [
    "## 예제 1. \n",
    "\n",
    "다음과 같이 주어지는 리스트가 있다.\n",
    "\n",
    "```\n",
    "[7, 1, 0, 4, 6, 9, 9, 9, 8, 5, 6, 3, 8, 8, 5, 10, 9, 3, 3, 3]\n",
    "```\n",
    "\n",
    "이 리스트의 item 중에서 3으로 나누었을 때 나머지가 1인 정수들의 합을 구하는 프로그램을 작성하라"
   ]
  },
  {
   "cell_type": "code",
   "execution_count": 30,
   "metadata": {},
   "outputs": [
    {
     "name": "stdout",
     "output_type": "stream",
     "text": [
      "22\n"
     ]
    }
   ],
   "source": [
    "lst = [7, 1, 0, 4, 6, 9, 9, 9, 8, 5, 6, 3, 8, 8, 5, 10, 9, 3, 3, 3]\n",
    "\n",
    "total = 0\n",
    "for n in lst:\n",
    "    if n%3==1:\n",
    "        total+= n\n",
    "    \n",
    "print(total)"
   ]
  },
  {
   "cell_type": "markdown",
   "metadata": {},
   "source": [
    "## 예제 2. \n",
    "\n",
    "문제 1에 주어진 리스트에서 인덱스가 0을 제외한 5의 배수인 item들의 곱을 구하는 프로그램을 작성하라."
   ]
  },
  {
   "cell_type": "code",
   "execution_count": 31,
   "metadata": {},
   "outputs": [
    {
     "name": "stdout",
     "output_type": "stream",
     "text": [
      "540\n"
     ]
    }
   ],
   "source": [
    "m = 1\n",
    "\n",
    "for n in range(len(lst)):\n",
    "    if not(n%5) and n != 0 :\n",
    "        m *= lst[n]\n",
    "        \n",
    "print(m)"
   ]
  },
  {
   "cell_type": "code",
   "execution_count": 32,
   "metadata": {},
   "outputs": [
    {
     "name": "stdout",
     "output_type": "stream",
     "text": [
      "540\n"
     ]
    }
   ],
   "source": [
    "lst = [7, 1, 0, 4, 6, 9, 9, 9, 8, 5, 6, 3, 8, 8, 5, 10, 9, 3, 3, 3]\n",
    "p = [lst[idx] for idx in range(len(lst)) if (idx!=0) and (idx % 5 ==0 )]\n",
    "\n",
    "\n",
    "m = 1\n",
    "for n in p:\n",
    "    m *= n\n",
    "\n",
    "print(m)"
   ]
  },
  {
   "cell_type": "markdown",
   "metadata": {},
   "source": [
    "## 예제 3. \n",
    "\n",
    "문제 1에 주어진 리스트에서 인덱스를 4로 나누었을 때 나머지가 2인 item들의 합을 구하는 프로그램을 작성하라.\n"
   ]
  },
  {
   "cell_type": "code",
   "execution_count": 33,
   "metadata": {},
   "outputs": [
    {
     "name": "stdout",
     "output_type": "stream",
     "text": [
      "23\n"
     ]
    }
   ],
   "source": [
    "s = 0\n",
    "\n",
    "for idx in range(len(lst)):\n",
    "    if idx%4==2:\n",
    "        s += lst[idx]\n",
    "    \n",
    "print(s)"
   ]
  },
  {
   "cell_type": "code",
   "execution_count": 34,
   "metadata": {},
   "outputs": [
    {
     "data": {
      "text/plain": [
       "23"
      ]
     },
     "execution_count": 34,
     "metadata": {},
     "output_type": "execute_result"
    }
   ],
   "source": [
    "sum([lst[idx] for idx in range(len(lst)) if idx % 4 == 2])"
   ]
  },
  {
   "cell_type": "markdown",
   "metadata": {},
   "source": [
    "## 예제 4\n",
    "\n",
    "List의 append 메쏘드를 사용해서 아래 셀의 리스트 x에서 음수값을 가진 원소들을 다음과 같이 모두 부호를 양으로 바꾸어 새로운 리스트 y를 만들고, y를 출력하라.\n",
    "```\n",
    "[-3, 4, -4, -1, -4, 2, 2, 2, 5, 1, -2, -4, 2, -5, 1, 1, 4, -5, 2, -1]\n",
    "```\n",
    "다음 리스트가 출력되어야 한다.\n",
    "```\n",
    "[3, 4, 4, 1, 4, 2, 2, 2, 5, 1, 2, 4, 2, 5, 1, 1, 4, 5, 2, 1]\n",
    "```"
   ]
  },
  {
   "cell_type": "code",
   "execution_count": 35,
   "metadata": {},
   "outputs": [
    {
     "name": "stdout",
     "output_type": "stream",
     "text": [
      "[3, 4, 4, 1, 4, 2, 2, 2, 5, 1, 2, 4, 2, 5, 1, 1, 4, 5, 2, 1]\n"
     ]
    }
   ],
   "source": [
    "x = [-3, 4, -4, -1, -4, 2, 2, 2, 5, 1, -2, -4, 2, -5, 1, 1, 4, -5, 2, -1]\n",
    "\n",
    "y = []\n",
    "\n",
    "for n in x:\n",
    "    if n <= 0:\n",
    "        n *= -1\n",
    "    \n",
    "    y.append(n)\n",
    "\n",
    "print(y)"
   ]
  },
  {
   "cell_type": "code",
   "execution_count": 36,
   "metadata": {},
   "outputs": [
    {
     "name": "stdout",
     "output_type": "stream",
     "text": [
      "[4, 2, 2, 2, 5, 1, 2, 1, 1, 4, 2]\n"
     ]
    }
   ],
   "source": [
    "a = [e for e in x if e >= 0]\n",
    "print(a)"
   ]
  },
  {
   "cell_type": "code",
   "execution_count": 37,
   "metadata": {},
   "outputs": [
    {
     "name": "stdout",
     "output_type": "stream",
     "text": [
      "[3, 4, 4, 1, 4, 2, 2, 2, 5, 1, 2, 4, 2, 5, 1, 1, 4, 5, 2, 1]\n"
     ]
    }
   ],
   "source": [
    "a = [e if e >= 0 else -e for e in x ]\n",
    "print(a)"
   ]
  },
  {
   "cell_type": "code",
   "execution_count": 38,
   "metadata": {},
   "outputs": [
    {
     "data": {
      "text/plain": [
       "[[3, 4, 4, 1, 4, 2, 2, 2, 5, 1, 2, 4, 2, 5, 1, 1, 4, 5, 2, 1]]"
      ]
     },
     "execution_count": 38,
     "metadata": {},
     "output_type": "execute_result"
    }
   ],
   "source": [
    "y = []\n",
    "y.append([e if e >= 0 else -e for e in x ])\n",
    "y"
   ]
  },
  {
   "cell_type": "markdown",
   "metadata": {},
   "source": [
    "## 예제 5. \n",
    "\n",
    "다음과 같이 주어지는 리스트가 있다.\n",
    "\n",
    "```\n",
    "[3, 9, 9, 3, 6, 7, 2, 4, 3, 2, 8, 3, 1, 9, 3, 1, 8, 6, 8, 1]\n",
    "```\n",
    "\n",
    "이 리스트의 원소 중에서 5 번째로 큰 수를 출력하는 프로그램을 작성하라. 단, 중복된 수는 하나로 취급해야 한다. 단, 수업시간에 배운 함수나 method는 사용해도 좋지만 set() 함수는 사용하지 말아야 한다.\n",
    "\n"
   ]
  },
  {
   "cell_type": "code",
   "execution_count": 39,
   "metadata": {
    "scrolled": true
   },
   "outputs": [
    {
     "name": "stdout",
     "output_type": "stream",
     "text": [
      "4\n"
     ]
    }
   ],
   "source": [
    "li = [3, 9, 9, 3, 6, 7, 2, 4, 3, 2, 8, 3, 1, 9, 3, 1, 8, 6, 8, 1]\n",
    "\n",
    "li = sorted(li, reverse = True)\n",
    "# print(li)\n",
    "\n",
    "cnt = 0\n",
    "for n in range(len(li)):\n",
    "    if li[n] == li[n+1]:\n",
    "        continue\n",
    "    else:\n",
    "        cnt+=1\n",
    "        \n",
    "    if cnt == 4:\n",
    "        break\n",
    "        \n",
    "print(li[n+1])"
   ]
  },
  {
   "cell_type": "markdown",
   "metadata": {},
   "source": [
    "## 예제 6.\n",
    "\n",
    "다음과 같이 주어지는 두 개의 리스트가 있다.\n",
    "```\n",
    "lst_1 = [1, 10, 9, 5, 3, 3, 2, 1, 7, 8]\n",
    "lst_2 = [1, 2, 11, 15, 6, 3, 3, 6]\n",
    "```\n",
    "\n",
    "for loop을 사용하여 lst_1과 lst_2에 공통적으로 있는 원소들을 원소로 갖는 리스트 lst 를 만들어라.\n",
    "단, lst에 중복된 원소는 없어야 하고, 원소의 크기는 오름차순으로 정렬되어야 하고, set() 함수는 사용하지 말아야 한다.\n",
    "답은 다음과 같아야 한다.\n",
    "```\n",
    "lst: [1, 2, 3]\n",
    "```"
   ]
  },
  {
   "cell_type": "code",
   "execution_count": 40,
   "metadata": {},
   "outputs": [
    {
     "data": {
      "text/plain": [
       "[1, 3, 2]"
      ]
     },
     "execution_count": 40,
     "metadata": {},
     "output_type": "execute_result"
    }
   ],
   "source": [
    "lst_1 = [1, 10, 9, 5, 3, 3, 2, 1, 7, 8]\n",
    "lst_2 = [1, 2, 11, 15, 6, 3, 3, 6]\n",
    "\n",
    "lst = []\n",
    "for e in lst_1:\n",
    "    if e in lst_2 and e not in lst:\n",
    "        lst.append(e)\n",
    "        \n",
    "lst"
   ]
  },
  {
   "cell_type": "markdown",
   "metadata": {},
   "source": [
    "## 예제 7.\n",
    "구간 $[0, 10]$에 있는 정수 $n$에 대해서 $x[n]$은 다음과 같이 표현된다.\n",
    "$$\n",
    "x = \\begin{cases}\n",
    "3n + 2 & 0 \\le n \\le 5 \\\\\n",
    "27 - 2n & 5 < n \\le 10\n",
    "\\end{cases}\n",
    "$$\n",
    "List의 + 연산을 사용하지 말고 for loop와 if-else 문을 사용하여 x를 리스트로 표현하는 아래 프로그램을 완성하라."
   ]
  },
  {
   "cell_type": "code",
   "execution_count": 41,
   "metadata": {},
   "outputs": [
    {
     "data": {
      "text/plain": [
       "[2, 5, 8, 11, 14, 17, 15, 13, 11, 9, 7]"
      ]
     },
     "execution_count": 41,
     "metadata": {},
     "output_type": "execute_result"
    }
   ],
   "source": [
    "[3*n + 2 for n in range(6)] + [27-2*n for n in range(6,11)]"
   ]
  },
  {
   "cell_type": "code",
   "execution_count": 42,
   "metadata": {},
   "outputs": [
    {
     "name": "stdout",
     "output_type": "stream",
     "text": [
      "[2, 5, 8, 11, 14, 17, 15, 13, 11, 9, 7]\n"
     ]
    }
   ],
   "source": [
    "x = []\n",
    "\n",
    "for n in range(11):\n",
    "    if n<5:\n",
    "        x.append(3*n + 2)\n",
    "    else:\n",
    "        x.append(27- 2*n)\n",
    "        \n",
    "print(x)"
   ]
  },
  {
   "cell_type": "code",
   "execution_count": 43,
   "metadata": {},
   "outputs": [
    {
     "data": {
      "text/plain": [
       "[[2, 5, 8, 11, 14, 17, 15, 13, 11, 9, 7]]"
      ]
     },
     "execution_count": 43,
     "metadata": {},
     "output_type": "execute_result"
    }
   ],
   "source": [
    "x = []\n",
    "x.append([3*n + 2 if n<5 else 27 - 2*n for n in range(11)])\n",
    "x"
   ]
  },
  {
   "cell_type": "markdown",
   "metadata": {},
   "source": [
    "## 예제 8.\n",
    "예제 7에서 작성한 프로그램을 list comprehension을 이용하여 다시 작성하라."
   ]
  },
  {
   "cell_type": "code",
   "execution_count": 44,
   "metadata": {},
   "outputs": [
    {
     "name": "stdout",
     "output_type": "stream",
     "text": [
      "[2, 5, 8, 11, 14, 17, 15, 13, 11, 9, 7]\n"
     ]
    }
   ],
   "source": [
    "x = [3*n + 2 for n in range(6)] + [27 - 2*n for n in range(6, 11)]\n",
    "print(x)"
   ]
  },
  {
   "cell_type": "code",
   "execution_count": 45,
   "metadata": {
    "scrolled": true
   },
   "outputs": [
    {
     "name": "stdout",
     "output_type": "stream",
     "text": [
      "[2, 5, 8, 11, 14, 17, 15, 13, 11, 9, 7]\n"
     ]
    }
   ],
   "source": [
    "x = [3*n + 2 if n <= 5 else 27 - 2*n for n in range(11)]\n",
    "print(x)"
   ]
  },
  {
   "cell_type": "markdown",
   "metadata": {},
   "source": [
    "## 예제 9.\n",
    "아래 두 개의 셀은 각각 예제 8의 신호를 줄기 그래프(stem graph)와 선 그래프로 표시하는 프로그램이다.\n",
    "각 줄의 기능을 설명하라."
   ]
  },
  {
   "cell_type": "code",
   "execution_count": 46,
   "metadata": {},
   "outputs": [
    {
     "data": {
      "image/png": "[encoded data removed]",
      "text/plain": [
       "<Figure size 432x288 with 1 Axes>"
      ]
     },
     "metadata": {
      "needs_background": "light"
     },
     "output_type": "display_data"
    }
   ],
   "source": [
    "import matplotlib.pyplot as plt #matplotlib의 pyplot을 plt로 불러옴. \n",
    "plt.stem(x, linefmt='--') #줄기 그래프를 그리는 법. linefmt = lineformat, \n",
    "plt.ylabel(\"$x[n]$\") # y label 표시 $ $ 표시는 수식이라는 표시\n",
    "plt.xlabel(\"$n$\") # x label 표시\n",
    "plt.yticks(range(0, 18, 2)) # 0부터 17까지 2씩 증가하게 y 눈금을 그림.\n",
    "plt.show() # jupyter lab에서는 plt.show()가 없어도 그래프를 보여줌. but 다른 idle에서는 그래프를 그리기 위해 필요"
   ]
  },
  {
   "cell_type": "code",
   "execution_count": 47,
   "metadata": {},
   "outputs": [
    {
     "data": {
      "image/png": "[encoded data removed]",
      "text/plain": [
       "<Figure size 432x288 with 1 Axes>"
      ]
     },
     "metadata": {
      "needs_background": "light"
     },
     "output_type": "display_data"
    }
   ],
   "source": [
    "plt.plot(x) #plot은 선그래프를 그림. \n",
    "plt.ylabel(\"$x[n]$\")\n",
    "plt.xlabel(\"$n$\")\n",
    "plt.yticks(range(0, 18, 2))\n",
    "plt.show()"
   ]
  },
  {
   "cell_type": "markdown",
   "metadata": {},
   "source": [
    "## 예제 10.\n",
    "구간 $[0, 15]$에 있는 정수 $n$에 대해서 $a[n]$은 다음과 같이 표현된다.\n",
    "$$\n",
    "a[n] = \\begin{cases}\n",
    "3n + 2 & 0 \\le n \\le 5 \\\\\n",
    "27 - 2n & 5 < n \\le 10 \\\\\n",
    "2n - 13 & 10 < n \\le 15 \n",
    "\\end{cases}\n",
    "$$\n",
    "\n",
    "List의 + 연산을 사용하지 말고 \n",
    "for loop와 if-else 문을 사용하여 $a[n]$를 리스트 a로 표현하rh a를 콘솔에 출력하는 아래 프로그램을 완성하라."
   ]
  },
  {
   "cell_type": "code",
   "execution_count": 48,
   "metadata": {},
   "outputs": [
    {
     "name": "stdout",
     "output_type": "stream",
     "text": [
      "[2, 5, 8, 11, 14, 17, 15, 13, 11, 9, 7, 9, 11, 13, 15, 17]\n"
     ]
    }
   ],
   "source": [
    "a = []\n",
    "\n",
    "for n in range(16):\n",
    "    if n<6:\n",
    "        a.append(3*n+2)\n",
    "    else:\n",
    "        if n < 11:\n",
    "            a.append(27-2*n)\n",
    "        else:\n",
    "            a.append(2*n-13)\n",
    "\n",
    "print(a)"
   ]
  },
  {
   "cell_type": "markdown",
   "metadata": {},
   "source": [
    "## 예제 11.\n",
    "예제 11에서 작성한 프로그램을 list comprehension을 이용하여 다시 작성하라."
   ]
  },
  {
   "cell_type": "code",
   "execution_count": 49,
   "metadata": {},
   "outputs": [
    {
     "data": {
      "text/plain": [
       "[2, 5, 8, 11, 14, 17, 15, 13, 11, 9, 7, 9, 11, 13, 15, 17]"
      ]
     },
     "execution_count": 49,
     "metadata": {},
     "output_type": "execute_result"
    }
   ],
   "source": [
    "a = [] \n",
    "\n",
    "[3*n + 2 if n<6 else (27-2*n if n<11 else 2*n-13 ) for n in range(16)]"
   ]
  },
  {
   "cell_type": "markdown",
   "metadata": {},
   "source": [
    "## 예제 12.\n",
    "\n",
    "다음과 같은 결과가 나오는 이유를 설명하라."
   ]
  },
  {
   "cell_type": "code",
   "execution_count": 50,
   "metadata": {},
   "outputs": [],
   "source": [
    "from copy import deepcopy\n",
    "lst1 = [1, 3, 4]\n",
    "lst2 = lst1\n",
    "lst3 = lst1.copy()\n",
    "lst4 = deepcopy(lst1)"
   ]
  },
  {
   "cell_type": "code",
   "execution_count": 51,
   "metadata": {},
   "outputs": [
    {
     "name": "stdout",
     "output_type": "stream",
     "text": [
      "[1, 13, 4] [1, 13, 4] [1, 3, 4] [1, 3, 4]\n"
     ]
    }
   ],
   "source": [
    "lst1[1] = 13\n",
    "print(lst1, lst2, lst3, lst4)"
   ]
  },
  {
   "cell_type": "markdown",
   "metadata": {},
   "source": [
    "**설명**: copy(), deepcopy 함수는 deep copy를 진행한다. = 연산자를 활용한 복사는 shallow copy이기 때문이다.\n",
    "\n",
    "여기서 shallow copy란 객체의 메모리 주소값을 복사한다. 따라서 기존 원소의 변화가 있을 경우 같이 바뀌게 된다.\n",
    "deep copy란 객체의 내용물을 그대로 복사해서 새로운 메모리에 할당한다. 따라서 기존 원소의 변화가 있어도 deep copy의 내용은 바뀌지 않는다.\n",
    "따라서 deep copy를 진행한 lst3, lst4s는 lst1에 값이 바뀌어도 변화가 없다. \n",
    "하지만 lst2의 경우는 shallow copy를 진행하였기 때문에 1번째 원소가 13으로 lst1, lst2 모두 값의 변화가 생긴다."
   ]
  },
  {
   "cell_type": "code",
   "execution_count": 52,
   "metadata": {},
   "outputs": [],
   "source": [
    "lst5 = [[1, 3], 4, 5, 6]\n",
    "lst6 = lst5\n",
    "lst7 = lst5.copy()\n",
    "lst8 = deepcopy(lst5)"
   ]
  },
  {
   "cell_type": "code",
   "execution_count": 53,
   "metadata": {},
   "outputs": [
    {
     "name": "stdout",
     "output_type": "stream",
     "text": [
      "[[1, 13], 4, 5, 16] [[1, 13], 4, 5, 16] [[1, 13], 4, 5, 6] [[1, 3], 4, 5, 6]\n"
     ]
    }
   ],
   "source": [
    "lst5[0][1] = 13\n",
    "lst5[3] = 16\n",
    "print(lst5, lst6, lst7, lst8)"
   ]
  },
  {
   "cell_type": "code",
   "execution_count": 54,
   "metadata": {},
   "outputs": [
    {
     "data": {
      "text/plain": [
       "(140696691962432, 140696691962432, 140695885157696, 140696155758976)"
      ]
     },
     "execution_count": 54,
     "metadata": {},
     "output_type": "execute_result"
    }
   ],
   "source": [
    "id(lst5), id(lst6), id(lst7), id(lst8)"
   ]
  },
  {
   "cell_type": "markdown",
   "metadata": {},
   "source": [
    "**설명**: 우선 lst5는 list안에 list가 존재하는 Nested list 구조입니다. lst5부터 8까지의 ID를 찍어보면 shallow copy를 진행한 lst5와 lst6의 주소가 같은 것을 볼 수 있습니다. deep copy를 진행한 lst7, lst8은 주소가 다릅니다. (deep copy는 새로운 주소에 객체의 내용물을 할당하기 때문.)\n",
    "따라서 lst5[0][1] = 13을 하게 되면 0번째 index인 [1,3]에서 1번째 인덱스인 3에 13이 들어가게 됩니다. 여기서 shallow copy를 한 lst6의 값도 바뀌며 deep copy를 진행한 lst7, lst8은 값이 바뀌지않는 것을 알 수 있습니다. 다시 lst[3] = 16을 넣게 되면 3번째 index인 6에 16이 들어갑니다. 위와 마찬가지로 shallow copy를 진행한 lst6은 값이 바뀌게 되며 lst7, lst8은 기존과 같은 것을 볼 수 있습니다.\n"
   ]
  },
  {
   "cell_type": "markdown",
   "metadata": {},
   "source": [
    "## 예제 13.\n",
    "\n",
    "다음과 같은 8-bit minifloat format이 있다고 가정하자.\n",
    "\n",
    "\n",
    "\n",
    "<table style=\"border:1px solid black;\">\n",
    "    <thead>\n",
    "        <tr>\n",
    "            <th style=\"border:1px solid black;\">b7</th>\n",
    "            <th style=\"border:1px solid black;\">b6</th>\n",
    "            <th style=\"border:1px solid black;\">b5</th>\n",
    "            <th style=\"border:1px solid black;\">b4</th>\n",
    "            <th style=\"border:1px solid black;\">b3</th>\n",
    "            <th style=\"border:1px solid black;\">b2</th>\n",
    "            <th style=\"border:1px solid black;\">b1</th>\n",
    "            <th style=\"border:1px solid black;\">b0</th>\n",
    "        </tr>\n",
    "        <tr>\n",
    "            <td style=\"border:1px solid black;\">sign (1 bit)</td>\n",
    "            <td colspan=4 style=\"border:1px solid black;\">q = e + 7 (4 btis)</td>\n",
    "            <td colspan=3 style=\"border:1px solid black;\">mantissa (3 btis))</td>\n",
    "        </tr>\n",
    "    </thead>\n",
    "    \n",
    "</table>\n",
    "\n",
    "위 형식으로 표현된 8 bits 이진수를 10 진수 실수로 변환하면 다음과 같다.\n",
    "\n",
    "$$x=(-1)^s×(1.b_2 b_1 b_0)_2×2^e=(-1)^s×(1.b_2 b_1 b_0)_2×2^{q-7}$$\n",
    "\n",
    "여기에서, 다음 4 가지 이진수는 다음과 같은 의미를 갖는다고 정의하자.\n",
    "- 0 0000 000 = 0\n",
    "- 1 0000 000 = -0\n",
    "- 0 1111 000 = +infinity\n",
    "- 1 1111 000 = -infinity\n",
    "\n",
    "위의 4 가지 이진수 이외의 이진수들은 다음과 같이 변환된다.\n",
    "\n",
    "예를 들면, 0 1011 101은 다음과 같다.\n",
    "$$0 1011 101 = (-1)^0 \\times (1.101)_2\\times 2^{11-7}=(1.101)_2\\times 2^4=(11010)_2$$\n",
    "$$(11010)_2 = 0 \\times 1 + 1 \\times 2^1 + 0 \\times 2^2 + 1 \\times 2^3 + 1 \\times 2^4 = 2 + 8 + 16 = 26$$\n",
    "\n",
    "예를 들면, 1 0110 001은 다음과 같다.\n",
    "$$ 1 0110 001 = (-1)^1\\times(1.001)_2\\times2^{6-7}=-(1.001)_2\\times2^{-1}=-(0.1001)_2$$\n",
    "$$ -(0.1001)_2 = -\\left(1\\times 2^{-1} + 2^{-4} = 0.5 + 0.1625\\right) =  -0.5625$$\n",
    "\n",
    "\n",
    "8-bit minifloat format으로 표현된 다음 8 bits 이진수들을 10 진수 실수로 변환하는 과정을 설명하라.\n",
    "\n",
    "1) 0 1011 111 \n",
    "\n",
    "2) 0 0011 011 \n",
    "\n",
    "3) 1 0110 101 "
   ]
  },
  {
   "cell_type": "markdown",
   "metadata": {
    "tags": []
   },
   "source": [
    "##### 답:\n",
    "\n",
    "1) 0 1011 111 \n",
    "    - $ (-1)^0×(1.111)_2×2^{11-7} = (1.111)_2×2^4 = (11110)_2 = 2+4+8+16 = 30 $\n",
    "\n",
    "2) 0 0011 011 \n",
    "    - $ (-1)^0×(1.011)_2×2^{3-7} = (1.011)_2×2^{-4} = (0.0001011)_2 = \\\n",
    "        0.5×0+0 5×0+0.125×0+0.0625×1+0.03125×0+0.015625×1+0.0078125×1=0.0859375 $\n",
    "\n",
    "\n",
    "3) 1 0110 101  <br>\n",
    "    - `내 풀이`\n",
    "    - $ (-1)^1×(1.101)_2×2^{6-7} = (1.101)_2×2^{-1} = (0.1101)_2 = 0.5 + 0.25 + 0.0625 = 0.8125×-1 = -0.8125  $\n",
    "    <br>\n",
    "    - `교수님의 풀이`\n",
    "    - $ {-1}^1 X (1.101) X 2^{6-7} $ = -0.8125\n"
   ]
  },
  {
   "cell_type": "markdown",
   "metadata": {},
   "source": [
    "## 예제 14.\n",
    "\n",
    "키보드로 8 자리 이진문자열을 입력 받아서, 이 문자열을 예제 15에 정의된 minifloat format으로 표현된 8 비트 이진수라고 가정하고 $(1.𝑏_2 𝑏_1 𝑏_0)_2$를 실수로 계산하여 콘솔에 출력하는 프로그램을 작성하라.\n"
   ]
  },
  {
   "cell_type": "code",
   "execution_count": 563,
   "metadata": {
    "tags": []
   },
   "outputs": [
    {
     "name": "stdin",
     "output_type": "stream",
     "text": [
      "Enter an 8-bit binary string:  00011011\n"
     ]
    },
    {
     "name": "stdout",
     "output_type": "stream",
     "text": [
      "1.375\n",
      "0.0859375\n"
     ]
    }
   ],
   "source": [
    "# s = '10110101'\n",
    "s = input(\"Enter an 8-bit binary string: \")\n",
    "f = 1 + eval('0b' + s[-3:]) / 8\n",
    "print(f)\n",
    "\n",
    "if s[0] == '1':\n",
    "    sign = -1\n",
    "else:\n",
    "    sign = 1\n",
    "\n",
    "e = eval('0b' + s[1:5]) - 7\n",
    "print(sign * f * 2 ** e)\n",
    "\n",
    "# s[-3:]\"\n",
    "# 1 + eval('0b'+s[-3:])/8"
   ]
  },
  {
   "cell_type": "markdown",
   "metadata": {
    "tags": []
   },
   "source": [
    "## 문제 1. a.\n",
    "\n",
    "\n",
    "random.seed(5) 후에 random.randint(1, 20)을 이용해서 다음과 같은 4 x 4 행렬 A 를 다음과 같이 중첩 리스트로 표현하라.\n",
    "출력은 다음과 같아야 한다.\n",
    "\n",
    "```\n",
    "[[20, 9, 12, 17], [1, 15, 8, 2], [6, 4, 12, 16], [8, 13, 18, 4]]\n",
    "```\n",
    "\n",
    "단, list의 append 메소드를 사용하거나 list comprehension을 사용해야 하고, 다른 방법을 사용하면 안된다.\n",
    "\n",
    "참고: 행렬 A와 A의 전치행렬 $A^\\intercal$는 다음과 같다.\n",
    "\n",
    "$$A = \\begin{bmatrix}\n",
    "20 &  9 & 12 & 17 \\\\\n",
    " 1 & 15 &  8 &  2 \\\\\n",
    " 6 &  4 & 12 & 16 \\\\\n",
    " 8 & 13 & 18 &  4 \n",
    "\\end{bmatrix},\n",
    "\\;\\;\\;\\;\n",
    "A^\\intercal =  \\begin{bmatrix}\n",
    "20 &  1 &  6 &  8 \\\\\n",
    " 9 & 15 &  4 & 13 \\\\\n",
    "12 &  8 & 12 & 18 \\\\\n",
    "17 &  2 & 16 &  4\n",
    "\\end{bmatrix}\n",
    "$$\n",
    "\n",
    "\n",
    "\n"
   ]
  },
  {
   "cell_type": "markdown",
   "metadata": {},
   "source": [
    "### List Comprehension으로 변환하기 전 for문을 이용한 전치"
   ]
  },
  {
   "cell_type": "code",
   "execution_count": 294,
   "metadata": {},
   "outputs": [
    {
     "name": "stdout",
     "output_type": "stream",
     "text": [
      "[[20, 9, 12, 17], [1, 15, 8, 2], [6, 4, 12, 16], [8, 13, 18, 4]]\n",
      "=====Transpose=====\n",
      "[[20, 1, 6, 8], [9, 15, 4, 13], [12, 8, 12, 18], [17, 2, 16, 4]]\n"
     ]
    }
   ],
   "source": [
    "import random\n",
    "random.seed(5)\n",
    "\n",
    "A = []\n",
    "a = []\n",
    "for n in range(1,17):\n",
    "    a.append(random.randint(1,20))\n",
    "    \n",
    "    if not (n%4):\n",
    "        A.append(a)\n",
    "        a = []\n",
    "\n",
    "print(A)\n",
    "print(\"=====Transpose=====\")\n",
    "\n",
    "for i in range(0,4):\n",
    "    for j in range(0,i):\n",
    "        A[i][j], A[j][i] = A[j][i], A[i][j]\n",
    "        \n",
    "print(A)"
   ]
  },
  {
   "cell_type": "markdown",
   "metadata": {
    "tags": []
   },
   "source": [
    "# List Comprehension을 이용한 전치"
   ]
  },
  {
   "cell_type": "code",
   "execution_count": 319,
   "metadata": {},
   "outputs": [
    {
     "name": "stdout",
     "output_type": "stream",
     "text": [
      "[[20, 9, 12, 17], [1, 15, 8, 2], [6, 4, 12, 16], [8, 13, 18, 4]]\n",
      "=====Transpose=====\n",
      "[[20, 1, 6, 8], [9, 15, 4, 13], [12, 8, 12, 18], [17, 2, 16, 4]]\n"
     ]
    }
   ],
   "source": [
    "import random\n",
    "random.seed(5)\n",
    "A = []\n",
    "A = [[random.randint(1,20) for i in range(4)] for j in range(4)]\n",
    "print(A)\n",
    "print(\"=====Transpose=====\")\n",
    "A = [[A[i][j] for i in range(4)] for j in range(4)]\n",
    "print(A)\n"
   ]
  },
  {
   "cell_type": "markdown",
   "metadata": {
    "tags": []
   },
   "source": [
    "## 문제 1. b.\n",
    "\n",
    "문제 11.a에서 만든 행렬 A에서 각 행의 최대값을 item으로 하는 새로운 리스트를 콘솔에 출력하라. 단, list comprehension을 사용해야 하고, 출력은 다음과 같아야 한다.\n",
    "\n",
    "[20, 15, 16, 18]"
   ]
  },
  {
   "cell_type": "code",
   "execution_count": 432,
   "metadata": {},
   "outputs": [
    {
     "name": "stdout",
     "output_type": "stream",
     "text": [
      "[[20, 9, 12, 17], [1, 15, 8, 2], [6, 4, 12, 16], [8, 13, 18, 4]]\n",
      "=====MAX=====\n",
      "[20, 15, 16, 18]\n"
     ]
    }
   ],
   "source": [
    "import random\n",
    "random.seed(5)\n",
    "A = []\n",
    "A = [[random.randint(1,20) for i in range(4)] for j in range(4)]\n",
    "print(A)\n",
    "print(\"=====MAX=====\")\n",
    "print([max(A[i]) for i in range(4)])\n"
   ]
  },
  {
   "cell_type": "markdown",
   "metadata": {},
   "source": [
    "#### 문제 1. c.\n",
    "\n",
    "다음은 문제 11.a에서 만든 행렬의 전치 행렬을 구하는 프로그램이다. "
   ]
  },
  {
   "cell_type": "code",
   "execution_count": 313,
   "metadata": {},
   "outputs": [
    {
     "name": "stdout",
     "output_type": "stream",
     "text": [
      "[[20, 1, 6, 8], [9, 15, 4, 13], [12, 8, 12, 18], [17, 2, 16, 4]]\n"
     ]
    }
   ],
   "source": [
    "A = [[20, 9, 12, 17], [1, 15, 8, 2], [6, 4, 12, 16], [8, 13, 18, 4]]\n",
    "A_t = []\n",
    "for i in range(len(A[0])):\n",
    "    row_t = []\n",
    "    for row in A:\n",
    "        row_t.append(row[i])\n",
    "    A_t.append(row_t)\n",
    "print(A_t)"
   ]
  },
  {
   "cell_type": "markdown",
   "metadata": {},
   "source": [
    "list comprension을 이용하여 이 프로그램을 다시 작성하라."
   ]
  },
  {
   "cell_type": "code",
   "execution_count": 318,
   "metadata": {},
   "outputs": [
    {
     "data": {
      "text/plain": [
       "[[20, 1, 6, 8], [9, 15, 4, 13], [12, 8, 12, 18], [17, 2, 16, 4]]"
      ]
     },
     "execution_count": 318,
     "metadata": {},
     "output_type": "execute_result"
    }
   ],
   "source": [
    "A = [[20, 9, 12, 17], [1, 15, 8, 2], [6, 4, 12, 16], [8, 13, 18, 4]]\n",
    "A_t = [[row[i] for row in A] for i in range(len(A[0]))]\n",
    "A_t"
   ]
  },
  {
   "cell_type": "markdown",
   "metadata": {},
   "source": [
    "## 문제 1. d.\n",
    "\n",
    "문제 11.a에서 만든 행렬 A에서 각 열의 최대값을 item으로 하는 새로운 리스트를 콘솔에 출력하라. 단, list comprehension을 사용한 한 줄 프로그램이어야 하고, 출력은 다음과 같아야 한다.\n",
    "\n",
    "```\n",
    "[20, 15, 18, 17]\n",
    "```"
   ]
  },
  {
   "cell_type": "code",
   "execution_count": 560,
   "metadata": {
    "scrolled": true
   },
   "outputs": [
    {
     "data": {
      "text/plain": [
       "[[20, 9, 12, 17], [1, 15, 8, 2], [6, 4, 12, 16], [8, 13, 18, 4]]"
      ]
     },
     "execution_count": 560,
     "metadata": {},
     "output_type": "execute_result"
    }
   ],
   "source": [
    "# A 다시 출력하기\n",
    "\n",
    "import random\n",
    "random.seed(5)\n",
    "A = [[random.randint(1,20) for i in range(4)] for j in range(4)]\n",
    "A "
   ]
  },
  {
   "cell_type": "code",
   "execution_count": 562,
   "metadata": {},
   "outputs": [
    {
     "name": "stdout",
     "output_type": "stream",
     "text": [
      "[20, 15, 18, 17]\n"
     ]
    }
   ],
   "source": [
    "print([[max([A[i][j] for i in range(4)])][0] for j in range(4)])"
   ]
  }
 ],
 "metadata": {
  "kernelspec": {
   "display_name": "Python 3 (ipykernel)",
   "language": "python",
   "name": "python3"
  },
  "language_info": {
   "codemirror_mode": {
    "name": "ipython",
    "version": 3
   },
   "file_extension": ".py",
   "mimetype": "text/x-python",
   "name": "python",
   "nbconvert_exporter": "python",
   "pygments_lexer": "ipython3",
   "version": "3.9.7"
  },
  "latex_envs": {
   "LaTeX_envs_menu_present": true,
   "autoclose": false,
   "autocomplete": true,
   "bibliofile": "biblio.bib",
   "cite_by": "apalike",
   "current_citInitial": 1,
   "eqLabelWithNumbers": true,
   "eqNumInitial": 1,
   "hotkeys": {
    "equation": "Ctrl-E",
    "itemize": "Ctrl-I"
   },
   "labels_anchors": false,
   "latex_user_defs": false,
   "report_style_numbering": false,
   "user_envs_cfg": false
  },
  "toc": {
   "base_numbering": 1,
   "nav_menu": {},
   "number_sections": false,
   "sideBar": true,
   "skip_h1_title": false,
   "title_cell": "Table of Contents",
   "title_sidebar": "Contents",
   "toc_cell": false,
   "toc_position": {
    "height": "calc(100% - 180px)",
    "left": "10px",
    "top": "150px",
    "width": "270.5px"
   },
   "toc_section_display": true,
   "toc_window_display": false
  }
 },
 "nbformat": 4,
 "nbformat_minor": 4
}
