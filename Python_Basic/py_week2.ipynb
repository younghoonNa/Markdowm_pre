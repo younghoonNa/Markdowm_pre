{
 "cells": [
  {
   "cell_type": "markdown",
   "id": "a1effdd4-da82-4894-95c1-1b78205838e8",
   "metadata": {},
   "source": [
    "# 2주차 파이썬"
   ]
  },
  {
   "cell_type": "code",
   "execution_count": 1,
   "id": "731f39c9-5242-4b0a-846f-009c13145ca6",
   "metadata": {},
   "outputs": [
    {
     "data": {
      "text/plain": [
       "7"
      ]
     },
     "execution_count": 1,
     "metadata": {},
     "output_type": "execute_result"
    }
   ],
   "source": [
    "2+5"
   ]
  },
  {
   "cell_type": "code",
   "execution_count": 2,
   "id": "9da1d801-77ed-43a7-b082-4b7fc0ae02be",
   "metadata": {},
   "outputs": [
    {
     "data": {
      "text/plain": [
       "5.5"
      ]
     },
     "execution_count": 2,
     "metadata": {},
     "output_type": "execute_result"
    }
   ],
   "source": [
    "3.5 + 2"
   ]
  },
  {
   "cell_type": "code",
   "execution_count": 3,
   "id": "a450dbb1-2dbf-4bcd-a7b9-8d4c28a05848",
   "metadata": {},
   "outputs": [
    {
     "data": {
      "text/plain": [
       "3"
      ]
     },
     "execution_count": 3,
     "metadata": {},
     "output_type": "execute_result"
    }
   ],
   "source": [
    "5-2"
   ]
  },
  {
   "cell_type": "code",
   "execution_count": 4,
   "id": "bbea4f70-c443-403e-9ae6-71d30b2d2327",
   "metadata": {},
   "outputs": [
    {
     "data": {
      "text/plain": [
       "11.2"
      ]
     },
     "execution_count": 4,
     "metadata": {},
     "output_type": "execute_result"
    }
   ],
   "source": [
    "23.5-12.3"
   ]
  },
  {
   "cell_type": "code",
   "execution_count": 5,
   "id": "dfcc21d2-69cb-44ef-b928-5db64c7d8efe",
   "metadata": {},
   "outputs": [
    {
     "data": {
      "text/plain": [
       "3.0"
      ]
     },
     "execution_count": 5,
     "metadata": {},
     "output_type": "execute_result"
    }
   ],
   "source": [
    "5.0 - 2"
   ]
  },
  {
   "cell_type": "code",
   "execution_count": 6,
   "id": "29e20763-1df0-4557-a5fb-7b0302ba4324",
   "metadata": {},
   "outputs": [
    {
     "data": {
      "text/plain": [
       "20"
      ]
     },
     "execution_count": 6,
     "metadata": {},
     "output_type": "execute_result"
    }
   ],
   "source": [
    "10 * 2"
   ]
  },
  {
   "cell_type": "code",
   "execution_count": 7,
   "id": "041e3195-1b43-42af-bbad-2af192c20cfd",
   "metadata": {},
   "outputs": [
    {
     "data": {
      "text/plain": [
       "5.0"
      ]
     },
     "execution_count": 7,
     "metadata": {},
     "output_type": "execute_result"
    }
   ],
   "source": [
    "2.5 * 2"
   ]
  },
  {
   "cell_type": "code",
   "execution_count": 8,
   "id": "0a496aaa-d562-4d55-868f-bcebff3a4b8f",
   "metadata": {},
   "outputs": [
    {
     "data": {
      "text/plain": [
       "2.25"
      ]
     },
     "execution_count": 8,
     "metadata": {},
     "output_type": "execute_result"
    }
   ],
   "source": [
    "9/4"
   ]
  },
  {
   "cell_type": "code",
   "execution_count": 9,
   "id": "92f9afb6-5f22-4c9f-bdb0-3e836b0b232e",
   "metadata": {},
   "outputs": [
    {
     "data": {
      "text/plain": [
       "2.6571428571428575"
      ]
     },
     "execution_count": 9,
     "metadata": {},
     "output_type": "execute_result"
    }
   ],
   "source": [
    "9.3/3.5"
   ]
  },
  {
   "cell_type": "code",
   "execution_count": 10,
   "id": "9497189a-0e53-4893-ae7a-d8a9ca884629",
   "metadata": {},
   "outputs": [
    {
     "data": {
      "text/plain": [
       "2"
      ]
     },
     "execution_count": 10,
     "metadata": {},
     "output_type": "execute_result"
    }
   ],
   "source": [
    "9//4"
   ]
  },
  {
   "cell_type": "code",
   "execution_count": 11,
   "id": "ad39ae3c-4442-4fee-8e82-3a455fc76ffd",
   "metadata": {},
   "outputs": [
    {
     "data": {
      "text/plain": [
       "2.0"
      ]
     },
     "execution_count": 11,
     "metadata": {},
     "output_type": "execute_result"
    }
   ],
   "source": [
    "9.5 // 3.5"
   ]
  },
  {
   "cell_type": "code",
   "execution_count": 12,
   "id": "a04024ad-cc00-4971-a359-de3728153e78",
   "metadata": {},
   "outputs": [
    {
     "data": {
      "text/plain": [
       "1"
      ]
     },
     "execution_count": 12,
     "metadata": {},
     "output_type": "execute_result"
    }
   ],
   "source": [
    "9%4"
   ]
  },
  {
   "cell_type": "code",
   "execution_count": 13,
   "id": "e26213fe-dfaf-4aa1-b9cc-2a4650b1bdab",
   "metadata": {},
   "outputs": [
    {
     "data": {
      "text/plain": [
       "2.5"
      ]
     },
     "execution_count": 13,
     "metadata": {},
     "output_type": "execute_result"
    }
   ],
   "source": [
    "9.5%3.5"
   ]
  },
  {
   "cell_type": "code",
   "execution_count": 15,
   "id": "b0575abb-e5de-4ca4-9e63-7515dafc7797",
   "metadata": {},
   "outputs": [
    {
     "data": {
      "text/plain": [
       "8"
      ]
     },
     "execution_count": 15,
     "metadata": {},
     "output_type": "execute_result"
    }
   ],
   "source": [
    "2**3 \n",
    "# 2의 3승"
   ]
  },
  {
   "cell_type": "code",
   "execution_count": 17,
   "id": "b7b01cb7-d8e0-46e0-a170-bc667584aac5",
   "metadata": {},
   "outputs": [
    {
     "data": {
      "text/plain": [
       "22.54218602980021"
      ]
     },
     "execution_count": 17,
     "metadata": {},
     "output_type": "execute_result"
    }
   ],
   "source": [
    "2.5**3.4"
   ]
  },
  {
   "cell_type": "markdown",
   "id": "d52b599a-b26c-46f3-8562-be4e5a38b2ee",
   "metadata": {},
   "source": [
    "- j는 복소수 자료형,\n",
    "- 복소수란? a+ bj 의 꼴로 a는 정수부분 bj는 허수 부분이다\n",
    "- 허수란 ? $ \\iota = \\sqrt{-1} $꼴을 가짐\n",
    "- 제곱해도 음수가 되는 수."
   ]
  },
  {
   "cell_type": "code",
   "execution_count": null,
   "id": "8a9e42c7-bf43-4b09-9cf2-930da4d8d0d4",
   "metadata": {},
   "outputs": [
    {
     "data": {
      "text/plain": [
       "(5+6j)"
      ]
     },
     "execution_count": 18,
     "metadata": {},
     "output_type": "execute_result"
    }
   ],
   "source": [
    "(3+4j) + (2+2j)"
   ]
  },
  {
   "cell_type": "code",
   "execution_count": 20,
   "id": "8ecb8648-d618-4628-bdd5-4ffe32402497",
   "metadata": {},
   "outputs": [
    {
     "data": {
      "text/plain": [
       "(1+2j)"
      ]
     },
     "execution_count": 20,
     "metadata": {},
     "output_type": "execute_result"
    }
   ],
   "source": [
    "(3+4j) - (2+2J)\n",
    "#대문자여도 상관없음"
   ]
  },
  {
   "cell_type": "code",
   "execution_count": 22,
   "id": "1caaff18-c479-47b5-bcda-d963e5ea81c0",
   "metadata": {},
   "outputs": [
    {
     "data": {
      "text/plain": [
       "(-2+14j)"
      ]
     },
     "execution_count": 22,
     "metadata": {},
     "output_type": "execute_result"
    }
   ],
   "source": [
    "(3+4j) * (2+2J)\n",
    "#정수부분(6 + (8 * j^2) -> 6+(-8))\n",
    "#허수 부분(6j + 8j) = 14j"
   ]
  },
  {
   "cell_type": "code",
   "execution_count": 23,
   "id": "8ca0d472-a064-413d-9d58-c8a5a2e58326",
   "metadata": {},
   "outputs": [
    {
     "data": {
      "text/plain": [
       "(1.75+0.25j)"
      ]
     },
     "execution_count": 23,
     "metadata": {},
     "output_type": "execute_result"
    }
   ],
   "source": [
    "(3+4j) / (2+2J)"
   ]
  },
  {
   "cell_type": "markdown",
   "id": "1dc1aae5-d078-4f8f-988b-bdb8220beea0",
   "metadata": {},
   "source": [
    "## 오류 발생. 복소수는 곱셈과 나눗셈만 가능. (몫, 나머지는 불가능)"
   ]
  },
  {
   "cell_type": "code",
   "execution_count": 24,
   "id": "d80d535f-4d4b-4d9c-9f8d-bf48273be2a8",
   "metadata": {},
   "outputs": [
    {
     "ename": "TypeError",
     "evalue": "can't take floor of complex number.",
     "output_type": "error",
     "traceback": [
      "\u001b[0;31m---------------------------------------------------------------------------\u001b[0m",
      "\u001b[0;31mTypeError\u001b[0m                                 Traceback (most recent call last)",
      "\u001b[0;32m/var/folders/hp/zz_v74bx3912w8s2fz07537r0000gn/T/ipykernel_6558/1303193688.py\u001b[0m in \u001b[0;36m<module>\u001b[0;34m\u001b[0m\n\u001b[0;32m----> 1\u001b[0;31m \u001b[0;34m(\u001b[0m\u001b[0;36m3\u001b[0m\u001b[0;34m+\u001b[0m\u001b[0;36m4j\u001b[0m\u001b[0;34m)\u001b[0m \u001b[0;34m//\u001b[0m \u001b[0;34m(\u001b[0m\u001b[0;36m2\u001b[0m\u001b[0;34m+\u001b[0m\u001b[0;36m2J\u001b[0m\u001b[0;34m)\u001b[0m\u001b[0;34m\u001b[0m\u001b[0;34m\u001b[0m\u001b[0m\n\u001b[0m",
      "\u001b[0;31mTypeError\u001b[0m: can't take floor of complex number."
     ]
    }
   ],
   "source": [
    "(3+4j) // (2+2J)"
   ]
  },
  {
   "cell_type": "code",
   "execution_count": 25,
   "id": "0fb6bdc9-f9d2-47db-be1d-e33ae69a65ac",
   "metadata": {},
   "outputs": [
    {
     "ename": "TypeError",
     "evalue": "can't mod complex numbers.",
     "output_type": "error",
     "traceback": [
      "\u001b[0;31m---------------------------------------------------------------------------\u001b[0m",
      "\u001b[0;31mTypeError\u001b[0m                                 Traceback (most recent call last)",
      "\u001b[0;32m/var/folders/hp/zz_v74bx3912w8s2fz07537r0000gn/T/ipykernel_6558/3866638559.py\u001b[0m in \u001b[0;36m<module>\u001b[0;34m\u001b[0m\n\u001b[0;32m----> 1\u001b[0;31m \u001b[0;34m(\u001b[0m\u001b[0;36m3\u001b[0m\u001b[0;34m+\u001b[0m\u001b[0;36m4j\u001b[0m\u001b[0;34m)\u001b[0m \u001b[0;34m%\u001b[0m \u001b[0;34m(\u001b[0m\u001b[0;36m2\u001b[0m\u001b[0;34m+\u001b[0m\u001b[0;36m2J\u001b[0m\u001b[0;34m)\u001b[0m\u001b[0;34m\u001b[0m\u001b[0;34m\u001b[0m\u001b[0m\n\u001b[0m",
      "\u001b[0;31mTypeError\u001b[0m: can't mod complex numbers."
     ]
    }
   ],
   "source": [
    "(3+4j) % (2+2J)"
   ]
  },
  {
   "cell_type": "code",
   "execution_count": 26,
   "id": "38e2066a-0ee6-406b-8b5e-d0b98ce76373",
   "metadata": {},
   "outputs": [
    {
     "data": {
      "text/plain": [
       "(-1+0j)"
      ]
     },
     "execution_count": 26,
     "metadata": {},
     "output_type": "execute_result"
    }
   ],
   "source": [
    "(1j) ** 2"
   ]
  },
  {
   "cell_type": "code",
   "execution_count": 27,
   "id": "847cc884-2a55-4cb4-8980-ef8e045434a6",
   "metadata": {},
   "outputs": [
    {
     "data": {
      "text/plain": [
       "(5+6j)"
      ]
     },
     "execution_count": 27,
     "metadata": {},
     "output_type": "execute_result"
    }
   ],
   "source": [
    "(3+4j) + (2+2j)"
   ]
  },
  {
   "cell_type": "code",
   "execution_count": 28,
   "id": "cb3a5552-ffa6-4bf4-96ba-b89865da2401",
   "metadata": {},
   "outputs": [
    {
     "data": {
      "text/plain": [
       "(25.4-0.29999999999999893j)"
      ]
     },
     "execution_count": 28,
     "metadata": {},
     "output_type": "execute_result"
    }
   ],
   "source": [
    "(3+4j) * (3.0 - 4.1j)"
   ]
  },
  {
   "cell_type": "code",
   "execution_count": 29,
   "id": "b9d4354e-56d8-4b8c-bb92-e77425fbd5f8",
   "metadata": {},
   "outputs": [
    {
     "data": {
      "text/plain": [
       "(7.0848910828829155-5.591849979636082j)"
      ]
     },
     "execution_count": 29,
     "metadata": {},
     "output_type": "execute_result"
    }
   ],
   "source": [
    "(1.5 + 1.1j) ** (1.2 - 2.3j)"
   ]
  },
  {
   "cell_type": "markdown",
   "id": "0283bd85-39ca-41ad-8c3e-12cc0b593495",
   "metadata": {},
   "source": [
    "# 파이썬의 기본 자료형\n",
    "\n",
    "- True : 1 , False = 0"
   ]
  },
  {
   "cell_type": "code",
   "execution_count": 30,
   "id": "baf3336c-bb3d-4423-a569-2b3b150a1413",
   "metadata": {},
   "outputs": [
    {
     "data": {
      "text/plain": [
       "4"
      ]
     },
     "execution_count": 30,
     "metadata": {},
     "output_type": "execute_result"
    }
   ],
   "source": [
    "3+True"
   ]
  },
  {
   "cell_type": "code",
   "execution_count": 31,
   "id": "b52c63a7-fa1f-408c-a7f7-af158c1bd4f7",
   "metadata": {},
   "outputs": [
    {
     "data": {
      "text/plain": [
       "2"
      ]
     },
     "execution_count": 31,
     "metadata": {},
     "output_type": "execute_result"
    }
   ],
   "source": [
    "2+False"
   ]
  },
  {
   "cell_type": "code",
   "execution_count": 32,
   "id": "be6170a9-5c0b-4d3b-ac1c-5d75e93f407d",
   "metadata": {},
   "outputs": [
    {
     "data": {
      "text/plain": [
       "3"
      ]
     },
     "execution_count": 32,
     "metadata": {},
     "output_type": "execute_result"
    }
   ],
   "source": [
    "3 * True"
   ]
  },
  {
   "cell_type": "code",
   "execution_count": 33,
   "id": "cf047b3e-b294-4d73-acea-748386aeaf6d",
   "metadata": {},
   "outputs": [
    {
     "data": {
      "text/plain": [
       "0"
      ]
     },
     "execution_count": 33,
     "metadata": {},
     "output_type": "execute_result"
    }
   ],
   "source": [
    "3 * False"
   ]
  },
  {
   "cell_type": "code",
   "execution_count": 34,
   "id": "f0f15d02-2e34-4dad-b3bb-4782cb739fb7",
   "metadata": {},
   "outputs": [
    {
     "data": {
      "text/plain": [
       "3.4"
      ]
     },
     "execution_count": 34,
     "metadata": {},
     "output_type": "execute_result"
    }
   ],
   "source": [
    "x = 3.4\n",
    "x"
   ]
  },
  {
   "cell_type": "code",
   "execution_count": 35,
   "id": "76e58924-0f3b-4e17-8d0e-c906fe5f70d9",
   "metadata": {},
   "outputs": [
    {
     "data": {
      "text/plain": [
       "2.8"
      ]
     },
     "execution_count": 35,
     "metadata": {},
     "output_type": "execute_result"
    }
   ],
   "source": [
    "y = 2.8\n",
    "y"
   ]
  },
  {
   "cell_type": "code",
   "execution_count": 36,
   "id": "c6c46bec-1e26-4cf5-b1e8-f4e3a9b24feb",
   "metadata": {},
   "outputs": [],
   "source": [
    "n = 5"
   ]
  },
  {
   "cell_type": "code",
   "execution_count": 37,
   "id": "bbcb1f7e-67bc-4c98-b400-5f7e21556d64",
   "metadata": {},
   "outputs": [
    {
     "data": {
      "text/plain": [
       "17.4"
      ]
     },
     "execution_count": 37,
     "metadata": {},
     "output_type": "execute_result"
    }
   ],
   "source": [
    "x + y * n"
   ]
  },
  {
   "cell_type": "markdown",
   "id": "62273158-0595-473b-807f-59832e393d96",
   "metadata": {},
   "source": [
    "# 파이썬의 식별자 또는 이름.\n",
    "    - 파이썬 식별자는 변수, 함수, 클래스, 모듈 혹은 기타 객체들을 표현하기 위하여 사용자가 정하는 이름\n",
    "    - 파이썬 3의 식별자는 Unicode를 기반으로 한다.\n",
    "    - Ascii 코드만을 사용하는 경우 식별자 명명 규칙은 python2의 식별자 명명 규칙과 같다."
   ]
  },
  {
   "cell_type": "markdown",
   "id": "24e94411-e479-4151-b07f-b70085872da0",
   "metadata": {},
   "source": [
    "## 문자 코드 : ASCII vs Unicode\n",
    "    - 컴퓨터는 모든 것을 숫자로 표현한다.\n",
    "    - 문자의 각 글자에 고유한 숫자를 배정.\n",
    "    - ASCII (American Standard code for Information Interchange)\n",
    "    - Unicode(UTF-8, UTF-16 and UTF-32) vs ASCII (7bits)\n",
    "    - Unicode (거의 대부분 언어와 숫자 심볼) vs ASCII (영어 알파벳, 숫자, 심볼 등.. )\n",
    "    - Unicode의 일부 vs 처음 128글자가 ASCII와 동일"
   ]
  },
  {
   "cell_type": "markdown",
   "id": "f9092657-6dad-41a0-8ed2-036b7125d3ee",
   "metadata": {},
   "source": [
    "## python2의 식별자 명명규칙\n",
    "    - 식별자는 A-Z or a-z  사이의 문자 또는 _ 밑줄문자 다음에 0개 이상의 문자나 밑줄문자 혹은 숫자를 결합하여 만들 수 있다.\n",
    "    - !, @, #, %, & 와 같은 특수문자를 사용할 수 있다\n",
    "    - 식별자의 대소문자를 구분한다.\n",
    "    - 식별자의 이름으로 키워드를 사용할 수 있다.\n",
    "    - 식별자의 길이에 제한은 없으나 PEP 8은 python 프로그램에서 한줄의 길이를 최대 79자로 제한할 것을 권장한다"
   ]
  },
  {
   "cell_type": "markdown",
   "id": "0820bd8c-0deb-4d3c-a3e4-ae5192e1f9fc",
   "metadata": {},
   "source": [
    "Python 2 식별자 (Identifiers) 의 Lexical Definition\n",
    "- identifier ::= (letter | \"_\" ) (letter | digit| \"_\") * \n",
    "- letter ::= lowercase | uppercase\n",
    "- lowercase ::= \"a\".. \"z\"\n",
    "- uppercase ::= \"A\".. \"Z\"\n",
    "- digit ::= \"0\"..\"9\"\n"
   ]
  },
  {
   "cell_type": "code",
   "execution_count": 39,
   "id": "10093f76-76d1-4019-9bf0-6ea53017ce7f",
   "metadata": {},
   "outputs": [
    {
     "data": {
      "text/plain": [
       "(65, 97, 44032, 45208)"
      ]
     },
     "execution_count": 39,
     "metadata": {},
     "output_type": "execute_result"
    }
   ],
   "source": [
    "ord(\"A\") , ord('a') , ord('가') , ord('나')"
   ]
  },
  {
   "cell_type": "code",
   "execution_count": 40,
   "id": "fbe180a3-a0f1-4603-a19c-1b4309d500ae",
   "metadata": {},
   "outputs": [
    {
     "data": {
      "text/plain": [
       "False"
      ]
     },
     "execution_count": 40,
     "metadata": {},
     "output_type": "execute_result"
    }
   ],
   "source": [
    "'A' > 'a'"
   ]
  },
  {
   "cell_type": "code",
   "execution_count": 41,
   "id": "b4f34bb5-341d-414b-b526-086e94ea8e17",
   "metadata": {},
   "outputs": [
    {
     "data": {
      "text/plain": [
       "('A', 'a', '가')"
      ]
     },
     "execution_count": 41,
     "metadata": {},
     "output_type": "execute_result"
    }
   ],
   "source": [
    "chr(65), chr(97), chr(44032)"
   ]
  },
  {
   "cell_type": "code",
   "execution_count": 44,
   "id": "106e9212-e541-472b-9512-b20cd9e75053",
   "metadata": {},
   "outputs": [
    {
     "name": "stdout",
     "output_type": "stream",
     "text": [
      "ꥠ ꥡ ꥢ ꥣ ꥤ ꥥ ꥦ ꥧ ꥨ ꥩ ꥪ ꥫ ꥬ ꥭ ꥮ ꥯ ꥰ ꥱ ꥲ ꥳ ꥴ ꥵ ꥶ ꥷ ꥸ ꥹ ꥺ ꥻ ꥼ ꥽ ꥾ ꥿ "
     ]
    }
   ],
   "source": [
    "for n in range(0xA960 , 0xA980):\n",
    "    print(chr(n) , end = \" \")\n",
    "    # 16진수 A960 부터 16진수 A980 까지 출력하기. "
   ]
  },
  {
   "cell_type": "code",
   "execution_count": 46,
   "id": "4da822c1-f9c8-4297-ab1c-6274efe0bb7a",
   "metadata": {},
   "outputs": [
    {
     "data": {
      "text/plain": [
       "('Lu', 'Ll', 'Nd', 'Lo', 'Lo')"
      ]
     },
     "execution_count": 46,
     "metadata": {},
     "output_type": "execute_result"
    }
   ],
   "source": [
    "import unicodedata as ucd \n",
    "ucd.category('A'), ucd.category('a'), ucd.category('3'), ucd.category('가'), ucd.category('ㄲ')"
   ]
  },
  {
   "cell_type": "markdown",
   "id": "a2e55d4b-420e-415d-9938-4a123f32279f",
   "metadata": {},
   "source": [
    "- Lu : uppercase letters\n",
    "- Li : lowercase letters\n",
    "- Lt : titlecase lettters\n",
    "- Lm : modifier letters\n",
    "- Lo : other letters\n",
    "- Ni : letter numbers\n",
    "- Mn : nonspacing marks\n",
    "- Mc : spacing combining marks\n",
    "- Nd : decimial numbers\n",
    "\n",
    "<br>\n",
    "\n",
    "- 'A' : Lu -> Uppercase letters\n",
    "- 'a' : Li -> lowercase letters\n",
    "- '3' : Nd -> decimial numbers\n",
    "- '가' & 'ㄲ' : Lo' -> other numers"
   ]
  },
  {
   "cell_type": "code",
   "execution_count": 1,
   "id": "488af90f-de1c-4cc7-84f5-860da886c0d1",
   "metadata": {},
   "outputs": [
    {
     "data": {
      "text/plain": [
       "10"
      ]
     },
     "execution_count": 1,
     "metadata": {},
     "output_type": "execute_result"
    }
   ],
   "source": [
    "sum([1,2,3,4])"
   ]
  },
  {
   "cell_type": "code",
   "execution_count": 2,
   "id": "de35b284-9f7e-4fc3-91b8-4f72af153ac3",
   "metadata": {},
   "outputs": [
    {
     "data": {
      "text/plain": [
       "10"
      ]
     },
     "execution_count": 2,
     "metadata": {},
     "output_type": "execute_result"
    }
   ],
   "source": [
    "a = 1\n",
    "b = 2\n",
    "c = 3\n",
    "d = 4\n",
    "\n",
    "sum([a,b,c,d])"
   ]
  },
  {
   "cell_type": "code",
   "execution_count": 3,
   "id": "7e0bd1d4-1449-4519-9a67-e25c5ed6fbe5",
   "metadata": {},
   "outputs": [
    {
     "data": {
      "text/plain": [
       "10"
      ]
     },
     "execution_count": 3,
     "metadata": {},
     "output_type": "execute_result"
    }
   ],
   "source": [
    "일 = 1\n",
    "이 = 2\n",
    "삼 = 3\n",
    "사 = 4\n",
    "sum([일, 이, 삼, 사])"
   ]
  },
  {
   "cell_type": "code",
   "execution_count": 4,
   "id": "b60f0c68-8f56-4761-aff9-fbd555e974d0",
   "metadata": {},
   "outputs": [],
   "source": [
    "합 = sum"
   ]
  },
  {
   "cell_type": "code",
   "execution_count": 5,
   "id": "45181e68-bdbe-43ff-baff-7fc97d4090d8",
   "metadata": {},
   "outputs": [
    {
     "data": {
      "text/plain": [
       "10"
      ]
     },
     "execution_count": 5,
     "metadata": {},
     "output_type": "execute_result"
    }
   ],
   "source": [
    "합([일,이,삼,사])"
   ]
  },
  {
   "cell_type": "code",
   "execution_count": 7,
   "id": "f03b65b7-3d71-4409-a145-965482f69a38",
   "metadata": {},
   "outputs": [
    {
     "data": {
      "text/plain": [
       "(140187733042496, 140187733042496)"
      ]
     },
     "execution_count": 7,
     "metadata": {},
     "output_type": "execute_result"
    }
   ],
   "source": [
    "id(sum), id(합)"
   ]
  },
  {
   "cell_type": "code",
   "execution_count": 9,
   "id": "2cc03ef2-9bc6-4bc5-9d86-97b28539057f",
   "metadata": {},
   "outputs": [
    {
     "data": {
      "text/plain": [
       "(20, 2022, 3)"
      ]
     },
     "execution_count": 9,
     "metadata": {},
     "output_type": "execute_result"
    }
   ],
   "source": [
    "age = 20\n",
    "year = 2022\n",
    "month = 3\n",
    "\n",
    "age, year, month"
   ]
  },
  {
   "cell_type": "code",
   "execution_count": 10,
   "id": "459488c1-1947-4145-9dcc-db30e62feae1",
   "metadata": {},
   "outputs": [
    {
     "data": {
      "text/plain": [
       "(3, 5, 3, 5)"
      ]
     },
     "execution_count": 10,
     "metadata": {},
     "output_type": "execute_result"
    }
   ],
   "source": [
    "cats = 3\n",
    "dogs = 5\n",
    "_cats = 3\n",
    "_dogs = 5\n",
    "\n",
    "cats, dogs, _cats, _dogs"
   ]
  },
  {
   "cell_type": "code",
   "execution_count": 11,
   "id": "9c1ac1cb-28be-4457-b814-9960ac853de4",
   "metadata": {},
   "outputs": [
    {
     "data": {
      "text/plain": [
       "(5.3, 3.2, 5.3, 3.2)"
      ]
     },
     "execution_count": 11,
     "metadata": {},
     "output_type": "execute_result"
    }
   ],
   "source": [
    "length = 5.3\n",
    "width = 3.2\n",
    "길이 = 5.3\n",
    "넓이 = 3.2\n",
    "\n",
    "length, width, 길이, 넓이"
   ]
  },
  {
   "cell_type": "code",
   "execution_count": 12,
   "id": "f609d9a5-8d23-4473-bc80-02587fe56881",
   "metadata": {},
   "outputs": [],
   "source": [
    "age0 = 23\n",
    "age1 = 30\n",
    "_age1 = 23\n"
   ]
  },
  {
   "cell_type": "code",
   "execution_count": 13,
   "id": "6a7d6015-1f0e-4ff0-881d-ce01fd92fa2c",
   "metadata": {},
   "outputs": [],
   "source": [
    "#0age = 23\n",
    "# -> 오류 발생 숫자가 먼저 올 수는 없음"
   ]
  },
  {
   "cell_type": "code",
   "execution_count": 16,
   "id": "4cdfaf1d-b0d0-41a7-9e11-9d877b3f5b39",
   "metadata": {},
   "outputs": [
    {
     "data": {
      "text/plain": [
       "32"
      ]
     },
     "execution_count": 16,
     "metadata": {},
     "output_type": "execute_result"
    }
   ],
   "source": [
    "asdjkasdjlajdkasldjaksdkdjlsad = 32\n",
    "asdjkasdjlajdkasldjaksdkdjlsad\n",
    "#가능"
   ]
  },
  {
   "cell_type": "code",
   "execution_count": null,
   "id": "aa637d8b-e146-4089-8c2b-003bcce7e909",
   "metadata": {},
   "outputs": [],
   "source": []
  }
 ],
 "metadata": {
  "kernelspec": {
   "display_name": "Python 3 (ipykernel)",
   "language": "python",
   "name": "python3"
  },
  "language_info": {
   "codemirror_mode": {
    "name": "ipython",
    "version": 3
   },
   "file_extension": ".py",
   "mimetype": "text/x-python",
   "name": "python",
   "nbconvert_exporter": "python",
   "pygments_lexer": "ipython3",
   "version": "3.9.7"
  }
 },
 "nbformat": 4,
 "nbformat_minor": 5
}
