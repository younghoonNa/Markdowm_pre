{
 "cells": [
  {
   "cell_type": "markdown",
   "metadata": {},
   "source": [
    "<h1 align='center'> 파이썬과학프로그래밍기초 실습 6</h1>\n",
    "\n",
    "<p style=\"text-align: right\"> 2022.4.14.</p>"
   ]
  },
  {
   "cell_type": "markdown",
   "metadata": {},
   "source": [
    "\n",
    "<div class=\"alert alert-block alert-info\">\n",
    "    \n",
    "- 파일 이름에서 00000000을 자신의 학번으로, name을 자신의 이름으로 수정하세요.\n",
    "\n",
    "- 다음 줄에 자신의 이름, 학번, 학과(전공)을 적으세요.\n",
    "\n",
    "* 이름:   나영훈         \n",
    "* 학번:   20185124\n",
    "* 학과(전공): 박데이터 전공\n",
    "    \n",
    "</div>\n",
    "\n",
    "- JupyterLab 문서의 최신 버전은 [JupyterLab Documentation](https://jupyterlab.readthedocs.io/en/stable/index.html#/)을  참고하라\n",
    "\n",
    "- Markdown은 [Markdown Guide](https://www.markdownguide.org/)를 참고하라.\n",
    "- [Markdown Cheat Sheet](https://www.markdownguide.org/cheat-sheet/)\n",
    "\n",
    "* 제출 마감: **4월 18일 (월) 오후 6:00**까지 최종본을 SmartLEAD에 제출\n"
   ]
  },
  {
   "cell_type": "markdown",
   "metadata": {
    "tags": []
   },
   "source": [
    "## 지난 주 문제 1.\n",
    "\n",
    "\n",
    "<ol>\n",
    "<li> 양의 정수를 parameter로 받아들여서 완전수이면 True를, 아니면 False를 반환하는 함수 is\\_a\\_perfect\\_number(n)을 작성하라. \n",
    "   parameter가 정수가 아니거나 0 또는 음의 정수이면 False를 반환해야 한다.\n",
    "\n",
    "    \n",
    "\n",
    "<li> 문제 1에서 작성한 함수를 이용해서 1과 10000 사이의 모든 완전수를 콘솔에 출력하는 프로그램을 작성하라.\n",
    "\n",
    "    답은 6, 28, 496, 8128\n",
    "\n",
    "<li> 문제 2에서 완전수를 찾으려고 하는 정수 (b번 문제에서는 10000)가 다음과 같을 때 각 정수에 대해서 문제 b)에서 작성한 프로그램이 실행되는 평균 시간을 측정해서 비교하는 막대 그래프를 그리는 프로그램을 작성하라.\n",
    "    \n",
    "  -  N = range(500, 10001, 500)\n",
    "</ol>\n",
    "\n",
    "참고: [위키피디아의 완전수 설명](https://ko.wikipedia.org/wiki/%EC%99%84%EC%A0%84%EC%88%98)을 참조하라."
   ]
  },
  {
   "cell_type": "code",
   "execution_count": 1,
   "metadata": {},
   "outputs": [
    {
     "name": "stdout",
     "output_type": "stream",
     "text": [
      "6\n",
      "28\n",
      "496\n",
      "8128\n"
     ]
    }
   ],
   "source": [
    "def is_a_perfect_number(n):\n",
    "    if isinstance(n, int) and n > 0:\n",
    "        total = 0\n",
    "        for k in range(1, n):\n",
    "            if n % k == 0:\n",
    "                total += k\n",
    "        return total == n\n",
    "    else:\n",
    "        return False\n",
    "    \n",
    "for n in range(1, 10001):\n",
    "    if is_a_perfect_number(n):\n",
    "        print(n)"
   ]
  },
  {
   "cell_type": "code",
   "execution_count": 2,
   "metadata": {},
   "outputs": [
    {
     "data": {
      "text/plain": [
       "[6, 28, 496, 8128]"
      ]
     },
     "execution_count": 2,
     "metadata": {},
     "output_type": "execute_result"
    }
   ],
   "source": [
    "[n for n in range(1, 10001) if is_a_perfect_number(n)]"
   ]
  },
  {
   "cell_type": "code",
   "execution_count": 3,
   "metadata": {},
   "outputs": [],
   "source": [
    "from timeit import timeit\n",
    "repeat = 1\n",
    "avg_exec_time = {}\n",
    "for number in range(500, 10001, 500):\n",
    "    code = f\"[n for n in range(1, {number}) if is_a_perfect_number(n)]\"\n",
    "    avg_time = timeit(code,  globals=globals(), number=repeat) / repeat\n",
    "    # is_a_perfect_numer 라는 함수를 찾기 위해 globals에서 검색함.\n",
    "    avg_exec_time[number] = avg_time"
   ]
  },
  {
   "cell_type": "code",
   "execution_count": 4,
   "metadata": {},
   "outputs": [
    {
     "data": {
      "text/plain": [
       "{500: 0.0036288999999989358,\n",
       " 1000: 0.01627200000000073,\n",
       " 1500: 0.036487900000000906,\n",
       " 2000: 0.06608289999999961,\n",
       " 2500: 0.10372970000000059,\n",
       " 3000: 0.14962230000000076,\n",
       " 3500: 0.2062122999999989,\n",
       " 4000: 0.2733098999999992,\n",
       " 4500: 0.34815990000000063,\n",
       " 5000: 0.43449709999999975,\n",
       " 5500: 0.5327377000000002,\n",
       " 6000: 0.6377055000000027,\n",
       " 6500: 0.7487580999999999,\n",
       " 7000: 0.8746742000000012,\n",
       " 7500: 1.0019722999999985,\n",
       " 8000: 1.145843499999998,\n",
       " 8500: 1.292746300000001,\n",
       " 9000: 1.4506356000000018,\n",
       " 9500: 1.6211859000000004,\n",
       " 10000: 1.8053992}"
      ]
     },
     "execution_count": 4,
     "metadata": {},
     "output_type": "execute_result"
    }
   ],
   "source": [
    "avg_exec_time"
   ]
  },
  {
   "cell_type": "code",
   "execution_count": 5,
   "metadata": {},
   "outputs": [
    {
     "data": {
      "text/plain": [
       "<BarContainer object of 20 artists>"
      ]
     },
     "execution_count": 5,
     "metadata": {},
     "output_type": "execute_result"
    },
    {
     "data": {
      "image/png": "[encoded data removed]",
      "text/plain": [
       "<Figure size 432x288 with 1 Axes>"
      ]
     },
     "metadata": {
      "needs_background": "light"
     },
     "output_type": "display_data"
    }
   ],
   "source": [
    "import matplotlib.pyplot as plt\n",
    "plt.bar(avg_exec_time.keys(), avg_exec_time.values(), width=400)"
   ]
  },
  {
   "cell_type": "markdown",
   "metadata": {},
   "source": [
    "## 예제 1. 리스트의 숫자를 sorting하는 예\n",
    "\n",
    "```\n",
    "lst = [5, 1, 3, 7, 8]\n",
    "```\n",
    "\n",
    "### 1) 내장 함수 sorted 이용"
   ]
  },
  {
   "cell_type": "code",
   "execution_count": 6,
   "metadata": {},
   "outputs": [
    {
     "name": "stdout",
     "output_type": "stream",
     "text": [
      "original: [9, 8, 3, 7, 5]\n",
      "sorted: [3, 5, 7, 8, 9]\n"
     ]
    }
   ],
   "source": [
    "lst = [9, 8, 3, 7, 5]\n",
    "lst_1 = sorted(lst)\n",
    "print('original:', lst)\n",
    "print('sorted:', lst_1)"
   ]
  },
  {
   "cell_type": "markdown",
   "metadata": {},
   "source": [
    "### 2) Bubble sort\n",
    "\n",
    "\n",
    "### 2.1) 알고리즘 실행 예\n",
    "- [**9, 8**, 3, 7, 5]\n",
    "- [8, **9, 3**, 7, 5]\n",
    "- [8, 3, **9, 7**, 5]\n",
    "- [8, 3, 7, **9, 5**]\n",
    "- [**8, 3**, 7, 5, 9]\n",
    "- [3, **8, 7**, 5, 9]\n",
    "- [3, 7, **8, 5**, 9]\n",
    "- [**3, 7**, 5, 8, 9]\n",
    "- [3, **7, 5**, 8, 9]\n",
    "- [**3, 5**, 7, 8, 9]\n",
    "- [3, 5, 7, 8, 9]"
   ]
  },
  {
   "cell_type": "markdown",
   "metadata": {},
   "source": [
    "### 2.2) 반복 Bubble sort 함수 예"
   ]
  },
  {
   "cell_type": "code",
   "execution_count": 7,
   "metadata": {},
   "outputs": [
    {
     "name": "stdout",
     "output_type": "stream",
     "text": [
      "input array: [9, 8, 3, 7, 5]\n",
      "[3, 5, 7, 8, 9]\n"
     ]
    }
   ],
   "source": [
    "def bubble_sort(array):\n",
    "    \"\"\"\n",
    "    Iterative bubble sort function\n",
    "    input\n",
    "      - array: mutable iterable\n",
    "    \"\"\"\n",
    "    print(f'input array: {array}')\n",
    "    \n",
    "    n = len(array)\n",
    "    \n",
    "    for i in range(n):\n",
    "        for j in range(n-1-i):\n",
    "            if array[j] > array[j+1]:\n",
    "                array[j], array[j+1] = array[j+1], array[j]\n",
    "\n",
    "\n",
    "    \n",
    "    \n",
    "\n",
    "    \n",
    "lst_1 = [9, 8, 3, 7, 5]\n",
    "bubble_sort(lst_1)\n",
    "print(lst_1)"
   ]
  },
  {
   "cell_type": "code",
   "execution_count": 8,
   "metadata": {
    "tags": []
   },
   "outputs": [
    {
     "name": "stdout",
     "output_type": "stream",
     "text": [
      "input array: [5, 3, 7, 9, 6]\n"
     ]
    },
    {
     "data": {
      "text/plain": [
       "[3, 5, 6, 7, 9]"
      ]
     },
     "execution_count": 8,
     "metadata": {},
     "output_type": "execute_result"
    }
   ],
   "source": [
    "lst_2 = [5, 3, 7, 9, 6]\n",
    "bubble_sort(lst_2)\n",
    "lst_2"
   ]
  },
  {
   "cell_type": "markdown",
   "metadata": {
    "tags": []
   },
   "source": [
    "### 2.3) 위 함수의 단점을 보완한 새로운 Bubble sort 함수 예"
   ]
  },
  {
   "cell_type": "code",
   "execution_count": 9,
   "metadata": {},
   "outputs": [
    {
     "name": "stdout",
     "output_type": "stream",
     "text": [
      "0 0 [1, 3, 6, 9, 7]\n",
      "0 1 [1, 3, 6, 9, 7]\n",
      "0 2 [1, 3, 6, 9, 7]\n",
      "0 3 [1, 3, 6, 7, 9]\n",
      "1 0 [1, 3, 6, 7, 9]\n",
      "1 1 [1, 3, 6, 7, 9]\n",
      "1 2 [1, 3, 6, 7, 9]\n"
     ]
    },
    {
     "data": {
      "text/plain": [
       "[1, 3, 6, 7, 9]"
      ]
     },
     "execution_count": 9,
     "metadata": {},
     "output_type": "execute_result"
    }
   ],
   "source": [
    "def bubble_sort_2(array, / , show_intermediate = False):\n",
    "    # print(f'input array: {array}')\n",
    "    \n",
    "    n = len(array)\n",
    "    \n",
    "    for i in range(n):\n",
    "        done = True\n",
    "        for j in range(n-1-i):\n",
    "            if array[j] > array[j+1]:\n",
    "                array[j], array[j+1] = array[j+1], array[j]\n",
    "                done = False\n",
    "            \n",
    "            if show_intermediate:\n",
    "                print(i, j, array)\n",
    "        \n",
    "        if done:\n",
    "            break\n",
    "\n",
    "\n",
    "lst = [1,3,6,9,7]\n",
    "# lst = [9,8,3,7,5]\n",
    "bubble_sort_2(lst, show_intermediate=True)\n",
    "lst"
   ]
  },
  {
   "cell_type": "code",
   "execution_count": 10,
   "metadata": {},
   "outputs": [
    {
     "data": {
      "text/plain": [
       "[3, 5, 7, 8, 9]"
      ]
     },
     "execution_count": 10,
     "metadata": {},
     "output_type": "execute_result"
    }
   ],
   "source": [
    "lst_3 = [5, 3, 7, 8, 9]\n",
    "bubble_sort_2(lst_3)\n",
    "lst_3"
   ]
  },
  {
   "cell_type": "markdown",
   "metadata": {
    "tags": []
   },
   "source": [
    "### 2.4) 재귀 bubble sort 함수\n",
    "\n",
    "```\n",
    "lst = [9, 8, 3, 7, 5]\n",
    "```\n",
    "- 함수의 동작\n",
    "\n",
    "  - 기초 단계: len(lst) < 2이면 lst를 반환한다.\n",
    "  - 재귀 단계:\n",
    "      - n 개의 원소에 대해서 bubble sort 실행\n",
    "      - 처음 n-1 개의 원소에 재귀 함수 적용\n"
   ]
  },
  {
   "cell_type": "code",
   "execution_count": 11,
   "metadata": {},
   "outputs": [
    {
     "name": "stdout",
     "output_type": "stream",
     "text": [
      "[9, 8, 3, 7, 5]\n",
      "[8, 3, 7, 5, 9]\n",
      "[3, 7, 5, 8, 9]\n",
      "[3, 5, 7, 8, 9]\n",
      "[3, 5, 7, 8, 9]\n"
     ]
    },
    {
     "data": {
      "text/plain": [
       "[3, 5, 7, 8, 9]"
      ]
     },
     "execution_count": 11,
     "metadata": {},
     "output_type": "execute_result"
    }
   ],
   "source": [
    "def recursive_bubble_sort(array, n=None):\n",
    "    # n = len(array) \n",
    "    print(array)\n",
    "    \n",
    "    if (n < 2):\n",
    "        return lst\n",
    "    \n",
    "    for j in range(n-1):\n",
    "        if (array[j] > array[j+1]):\n",
    "            array[j], array[j+1] = array[j+1], array[j]\n",
    "    recursive_bubble_sort(array, n-1)\n",
    "\n",
    "lst_4 = [9, 8, 3, 7, 5]\n",
    "recursive_bubble_sort(lst_4, len(lst_4))\n",
    "lst_4"
   ]
  },
  {
   "cell_type": "code",
   "execution_count": 12,
   "metadata": {},
   "outputs": [
    {
     "name": "stdout",
     "output_type": "stream",
     "text": [
      "[9, 8, 3, 7, 5]\n",
      "[8, 3, 7, 5, 9]\n",
      "[3, 7, 5, 8, 9]\n",
      "[3, 5, 7, 8, 9]\n",
      "[3, 5, 7, 8, 9]\n"
     ]
    },
    {
     "data": {
      "text/plain": [
       "[3, 5, 7, 8, 9]"
      ]
     },
     "execution_count": 12,
     "metadata": {},
     "output_type": "execute_result"
    }
   ],
   "source": [
    "def recursive_bubble_sort_2(array, n=None):\n",
    "    # n = len(array) \n",
    "    # print(array)\n",
    "    \n",
    "    if (n < 2):\n",
    "        return lst\n",
    "    \n",
    "    # array[j], array[j+1][array[j+1], array[j] for j in range(n-1) if (array[j] > array[j+1])] \n",
    "    # for j in range(n-1): \n",
    "    #     if (array[j] > array[j+1]):\n",
    "    #         array[j], array[j+1] = array[j+1], array[j]\n",
    "    recursive_bubble_sort(array, n-1)\n",
    "\n",
    "lst_4 = [9, 8, 3, 7, 5]\n",
    "recursive_bubble_sort(lst_4, len(lst_4))\n",
    "lst_4"
   ]
  },
  {
   "cell_type": "code",
   "execution_count": 13,
   "metadata": {},
   "outputs": [
    {
     "name": "stdout",
     "output_type": "stream",
     "text": [
      "[5, 1, 5, 3, 7, 8, 4, 9, 1, 0, 4, 6, 7]\n",
      "[1, 5, 3, 5, 7, 4, 8, 1, 0, 4, 6, 7, 9]\n",
      "[1, 3, 5, 5, 4, 7, 1, 0, 4, 6, 7, 8, 9]\n",
      "[1, 3, 5, 4, 5, 1, 0, 4, 6, 7, 7, 8, 9]\n",
      "[1, 3, 4, 5, 1, 0, 4, 5, 6, 7, 7, 8, 9]\n",
      "[1, 3, 4, 1, 0, 4, 5, 5, 6, 7, 7, 8, 9]\n",
      "[1, 3, 1, 0, 4, 4, 5, 5, 6, 7, 7, 8, 9]\n",
      "[1, 1, 0, 3, 4, 4, 5, 5, 6, 7, 7, 8, 9]\n",
      "[1, 0, 1, 3, 4, 4, 5, 5, 6, 7, 7, 8, 9]\n",
      "[0, 1, 1, 3, 4, 4, 5, 5, 6, 7, 7, 8, 9]\n",
      "[0, 1, 1, 3, 4, 4, 5, 5, 6, 7, 7, 8, 9]\n",
      "[0, 1, 1, 3, 4, 4, 5, 5, 6, 7, 7, 8, 9]\n",
      "[0, 1, 1, 3, 4, 4, 5, 5, 6, 7, 7, 8, 9]\n"
     ]
    },
    {
     "data": {
      "text/plain": [
       "[0, 1, 1, 3, 4, 4, 5, 5, 6, 7, 7, 8, 9]"
      ]
     },
     "execution_count": 13,
     "metadata": {},
     "output_type": "execute_result"
    }
   ],
   "source": [
    "lst_5 = [5, 1, 5, 3, 7, 8, 4, 9, 1, 0, 4, 6, 7]\n",
    "recursive_bubble_sort(lst_5, len(lst_5))\n",
    "lst_5"
   ]
  },
  {
   "cell_type": "markdown",
   "metadata": {
    "tags": []
   },
   "source": [
    "### 3) 또 다른 재귀 sort 함수\n",
    "\n",
    "```\n",
    "lst = [5, 1, 5, 3, 7, 8, 4, 9, 1, 0, 4, 6, 7]\n",
    "```\n",
    "- 함수의 동작은 다음과 같다.\n",
    "\n",
    "  - 기초 단계: len(lst) < 2이면 lst를 반환한다.\n",
    "  - 재귀 단계:\n",
    "      - pivot = lst[0]\n",
    "      - pivot보다 작은 숫자들: [1, 3, 4, 1, 0, 4]\n",
    "      - pivot과 같은 숫자들: [5, 5]\n",
    "      - pivot보다 큰숫자들: [7, 8, 9, 6, 7]\n",
    "      - 큰 숫자들과 작은 숫자들을 자기 자신을 호출하면서 argument로 전달\n",
    "      - sort_recursive(작은 숫자들) + 같은 숫자들 + sort_recursive(큰 숫자들)을 반환한다.\n",
    "\n",
    "```\n",
    "[5, 1, 5, 3, 7, 8, 4, 9, 1, 0, 4, 6, 7] --> [1, 3, 4, 1, 0, 4] + [5, 5] + [7, 8, 9, 6, 7]\n",
    "\n",
    "[1, 3, 4, 1, 0, 4] --> [0] + [1, 1] + [3, 4, 4]\n",
    "\n",
    "[0]\n",
    "\n",
    "[3, 4, 4] --> [3] + [4, 4]\n",
    "\n",
    "[3]\n",
    "\n",
    "[]\n",
    "\n",
    "[7, 8, 9, 6, 7] --> [6] + [7, 7] + [8, 9]\n",
    "\n",
    "[6]\n",
    "\n",
    "[8, 9] --> [] + [8] + [9]\n",
    "\n",
    "[]\n",
    "\n",
    "[9]\n",
    "\n",
    "[0] + [1, 1] + [3, 4, 4] + [5, 5] + [6] + [7, 7] + [8, 9]\n",
    "\n",
    "[8, 9] --> [] + [8] + [9]\n",
    "\n",
    "```"
   ]
  },
  {
   "cell_type": "code",
   "execution_count": 14,
   "metadata": {},
   "outputs": [
    {
     "data": {
      "text/plain": [
       "[0, 1, 1, 3, 4, 4, 5, 5, 6, 7, 7, 8, 9]"
      ]
     },
     "execution_count": 14,
     "metadata": {},
     "output_type": "execute_result"
    }
   ],
   "source": [
    "lst = [5, 1, 5, 3, 7, 8, 4, 9, 1, 0, 4, 6, 7]\n",
    "sorted(lst)"
   ]
  },
  {
   "cell_type": "code",
   "execution_count": 18,
   "metadata": {},
   "outputs": [
    {
     "name": "stdout",
     "output_type": "stream",
     "text": [
      "3.72 µs ± 35.2 ns per loop (mean ± std. dev. of 7 runs, 100000 loops each)\n"
     ]
    }
   ],
   "source": [
    "%%timeit\n",
    "\n",
    "def quick_sort(lst):\n",
    "    \n",
    "    if len(lst) < 2:\n",
    "        return lst\n",
    "    else:\n",
    "        pivot = lst[0]\n",
    "        greater = []\n",
    "        lesser = []\n",
    "        equals = [pivot]\n",
    "        \n",
    "        for i in lst[1:]:\n",
    "            if i > pivot:\n",
    "                greater.append(i)\n",
    "            elif i == pivot:\n",
    "                equals.append(i)\n",
    "            else:\n",
    "                lesser.append(i)\n",
    "        \n",
    "        return quick_sort(lesser) + equals + quick_sort(greater)\n",
    "        # recursive_sort_with_pivot(greater)\n",
    "     \n",
    "\n",
    "lst = [5, 1, 5, 3, 7, 8, 4, 9, 1, 0, 4, 6, 7]\n",
    "sorted_lst = quick_sort(lst)\n",
    "# print(lst)\n",
    "# print(sorted_lst)"
   ]
  },
  {
   "cell_type": "code",
   "execution_count": 19,
   "metadata": {},
   "outputs": [
    {
     "name": "stdout",
     "output_type": "stream",
     "text": [
      "244 ns ± 0.45 ns per loop (mean ± std. dev. of 7 runs, 1000000 loops each)\n"
     ]
    }
   ],
   "source": [
    "%%timeit\n",
    "sorted(lst)"
   ]
  },
  {
   "cell_type": "code",
   "execution_count": 20,
   "metadata": {},
   "outputs": [
    {
     "name": "stdout",
     "output_type": "stream",
     "text": [
      "[0, 1, 1, 3, 4, 4, 5, 5, 6, 7, 7, 8, 9]\n"
     ]
    }
   ],
   "source": [
    "def quick_sort_2(lst):\n",
    "    if len(lst) < 2:\n",
    "        return lst\n",
    "    else:\n",
    "        pivot = lst[0]\n",
    "        greater = [e for  e in lst[1:] if e > pivot]\n",
    "        lesser = [ e for e in lst[1:] if e < pivot]\n",
    "        equals = [ e for e in lst if e == pivot]\n",
    "        \n",
    "        return quick_sort_2(lesser) + equals + quick_sort_2(greater)\n",
    "        # recursive_sort_with_pivot(greater)\n",
    "\n",
    "lst = [5, 1, 5, 3, 7, 8, 4, 9, 1, 0, 4, 6, 7]\n",
    "sorted_lst = quick_sort_2(lst)\n",
    "print(sorted_lst)"
   ]
  },
  {
   "cell_type": "code",
   "execution_count": 21,
   "metadata": {},
   "outputs": [
    {
     "name": "stdout",
     "output_type": "stream",
     "text": [
      "[5, 1, 5, 3, 7, 8, 4, 9, 1, 0, 4, 6, 7]\n",
      "[0, 1, 1, 3, 4, 4, 5, 5, 6, 7, 7, 8, 9]\n"
     ]
    }
   ],
   "source": [
    "def recursive_sort_with_pivot_3(lst):\n",
    "    if len(lst) < 2:\n",
    "        return lst\n",
    "    else:\n",
    "        pivot = lst[0]\n",
    "        greater = list(filter(lambda x: x > pivot, lst[1:]))\n",
    "        lesser = list(filter(lambda x: x < pivot, lst[1:]))\n",
    "        equals = list(filter(lambda x: x == pivot, lst))\n",
    "        \n",
    "        return recursive_sort_with_pivot_3(lesser) + equals + recursive_sort_with_pivot_3(greater)\n",
    "        # recursive_sort_with_pivot(greater)\n",
    "\n",
    "\n",
    "        \n",
    "lst = [5, 1, 5, 3, 7, 8, 4, 9, 1, 0, 4, 6, 7]\n",
    "sorted_lst = recursive_sort_with_pivot_3(lst)\n",
    "print(lst)\n",
    "print(sorted_lst)"
   ]
  },
  {
   "cell_type": "markdown",
   "metadata": {},
   "source": [
    "## 예제 2.\n",
    "문자열을 입력받아서 문자열의 순서를 반대로 만든 문자열을 반환하는 재귀 함수 reverse_string_recursive(s)를 작성하라."
   ]
  },
  {
   "cell_type": "code",
   "execution_count": 22,
   "metadata": {},
   "outputs": [
    {
     "name": "stdout",
     "output_type": "stream",
     "text": [
      "dcba\n"
     ]
    }
   ],
   "source": [
    "def reverse_string (s):\n",
    "    return s[::-1]\n",
    "    \n",
    "s2 = reverse_string('abcd')\n",
    "print(s2)"
   ]
  },
  {
   "cell_type": "code",
   "execution_count": 23,
   "metadata": {},
   "outputs": [
    {
     "name": "stdout",
     "output_type": "stream",
     "text": [
      "dcba\n"
     ]
    }
   ],
   "source": [
    "def reverse_string_2 (s):\n",
    "    r = ''\n",
    "    for c in s:\n",
    "        r = c + r\n",
    "    return r\n",
    "    \n",
    "s2 = reverse_string_2('abcd')\n",
    "print(s2)"
   ]
  },
  {
   "cell_type": "code",
   "execution_count": 24,
   "metadata": {},
   "outputs": [
    {
     "data": {
      "text/plain": [
       "'dcba'"
      ]
     },
     "execution_count": 24,
     "metadata": {},
     "output_type": "execute_result"
    }
   ],
   "source": [
    "def recursive_reverse_string (s):\n",
    "    if len(s) == 1:\n",
    "        return s\n",
    "    else:\n",
    "        return recursive_reverse_string(s[1:]) + recursive_reverse_string(s[0])\n",
    "    \n",
    "recursive_reverse_string('abcd')"
   ]
  },
  {
   "cell_type": "markdown",
   "metadata": {},
   "source": [
    "## 예제 3.\n",
    "x**n을 반환하는 재귀 함수 power_recursive(x, n)를 작성하라.\n",
    "\n",
    "단, n은 0보다 크거나 같은 정수라고 가정한다."
   ]
  },
  {
   "cell_type": "code",
   "execution_count": 25,
   "metadata": {},
   "outputs": [
    {
     "data": {
      "text/plain": [
       "6"
      ]
     },
     "execution_count": 25,
     "metadata": {},
     "output_type": "execute_result"
    }
   ],
   "source": [
    "def power_recursive(x, n):\n",
    "    assert isinstance(n, int) and n >= 0\n",
    "\n",
    "    if n==0:\n",
    "        return 1\n",
    "    else:\n",
    "        return power_recursive(x, n-1) * n\n",
    "    \n",
    "power_recursive(5,3)"
   ]
  },
  {
   "cell_type": "code",
   "execution_count": 26,
   "metadata": {},
   "outputs": [
    {
     "name": "stdout",
     "output_type": "stream",
     "text": [
      "611 ns ± 4.15 ns per loop (mean ± std. dev. of 7 runs, 1000000 loops each)\n"
     ]
    }
   ],
   "source": [
    "%%timeit\n",
    "power_recursive(3, 5)\n",
    "    "
   ]
  },
  {
   "cell_type": "code",
   "execution_count": 27,
   "metadata": {},
   "outputs": [
    {
     "name": "stdout",
     "output_type": "stream",
     "text": [
      "5.3 ns ± 0.0268 ns per loop (mean ± std. dev. of 7 runs, 100000000 loops each)\n"
     ]
    }
   ],
   "source": [
    "%%timeit\n",
    "3**5"
   ]
  },
  {
   "cell_type": "markdown",
   "metadata": {
    "tags": []
   },
   "source": [
    "## 예제 4.\n",
    "검색"
   ]
  },
  {
   "cell_type": "code",
   "execution_count": 2,
   "metadata": {},
   "outputs": [],
   "source": [
    "from random import seed, choices\n",
    "seed(153)"
   ]
  },
  {
   "cell_type": "code",
   "execution_count": 29,
   "metadata": {},
   "outputs": [
    {
     "data": {
      "text/plain": [
       "[7, 26, 56, 59, 83, 85, 88, 89, 97, 99]"
      ]
     },
     "execution_count": 29,
     "metadata": {},
     "output_type": "execute_result"
    }
   ],
   "source": [
    "lst = sorted(choices(range(100), k=10))\n",
    "lst"
   ]
  },
  {
   "cell_type": "code",
   "execution_count": 30,
   "metadata": {},
   "outputs": [
    {
     "name": "stdout",
     "output_type": "stream",
     "text": [
      "Help on method choices in module random:\n",
      "\n",
      "choices(population, weights=None, *, cum_weights=None, k=1) method of random.Random instance\n",
      "    Return a k sized list of population elements chosen with replacement.\n",
      "    \n",
      "    If the relative weights or cumulative weights are not specified,\n",
      "    the selections are made with equal probability.\n",
      "\n"
     ]
    }
   ],
   "source": [
    "help(choices)"
   ]
  },
  {
   "cell_type": "code",
   "execution_count": 31,
   "metadata": {},
   "outputs": [
    {
     "data": {
      "text/plain": [
       "False"
      ]
     },
     "execution_count": 31,
     "metadata": {},
     "output_type": "execute_result"
    }
   ],
   "source": [
    "n = 43\n",
    "n in lst"
   ]
  },
  {
   "cell_type": "code",
   "execution_count": 32,
   "metadata": {},
   "outputs": [],
   "source": [
    "def is_in (lst, n):\n",
    "    for e in lst:\n",
    "        if n == e:\n",
    "            return True\n",
    "    return False"
   ]
  },
  {
   "cell_type": "code",
   "execution_count": 33,
   "metadata": {
    "scrolled": true
   },
   "outputs": [
    {
     "data": {
      "text/plain": [
       "False"
      ]
     },
     "execution_count": 33,
     "metadata": {},
     "output_type": "execute_result"
    }
   ],
   "source": [
    "is_in(lst, 3)"
   ]
  },
  {
   "cell_type": "code",
   "execution_count": 34,
   "metadata": {},
   "outputs": [],
   "source": [
    "def get_index(lst, n):\n",
    "    for idx in range(len(lst)):\n",
    "        if n == lst[idx]:\n",
    "            return idx\n",
    "    return -1"
   ]
  },
  {
   "cell_type": "code",
   "execution_count": 35,
   "metadata": {},
   "outputs": [
    {
     "data": {
      "text/plain": [
       "9"
      ]
     },
     "execution_count": 35,
     "metadata": {},
     "output_type": "execute_result"
    }
   ],
   "source": [
    "get_index(lst, 99)"
   ]
  },
  {
   "cell_type": "code",
   "execution_count": 36,
   "metadata": {},
   "outputs": [],
   "source": [
    "def get_index_2(lst, n):\n",
    "    # 일련번호를 튜플로 같이 반환해줌.\n",
    "    for idx, e in enumerate(lst):\n",
    "        if n == e:\n",
    "            return idx\n",
    "    return -1"
   ]
  },
  {
   "cell_type": "code",
   "execution_count": 37,
   "metadata": {},
   "outputs": [
    {
     "data": {
      "text/plain": [
       "-1"
      ]
     },
     "execution_count": 37,
     "metadata": {},
     "output_type": "execute_result"
    }
   ],
   "source": [
    "get_index_2(lst, 39)"
   ]
  },
  {
   "cell_type": "markdown",
   "metadata": {
    "tags": []
   },
   "source": [
    "## 예제 5.\n",
    "이진 검색 방법을 이용한 원소 검색"
   ]
  },
  {
   "cell_type": "code",
   "execution_count": 38,
   "metadata": {},
   "outputs": [],
   "source": [
    "def binary_search(lst, e) -> int :\n",
    "    \"\"\"\n",
    "    lst에 원소 n의 index를 반환한다.\n",
    "    lst에 n이 없는 경우에는 -1을 반환한다.\n",
    "    입력:\n",
    "        - lst: 시퀀스형 데이터\n",
    "        - e: 원소\n",
    "\n",
    "    \"\"\"\n",
    "    \n",
    "    idx_l = 0\n",
    "    idx_h = len(lst) - 1\n",
    "    \n",
    "    while idx_l <= idx_h:\n",
    "        idx_m = (idx_l + idx_h)//2\n",
    "        \n",
    "        if lst[idx_m] < e:\n",
    "            idx_l = idx_m + 1\n",
    "        elif lst[idx_m] > e:\n",
    "            idx_h = idx_m - 1\n",
    "        else:\n",
    "            return idx_m\n",
    "    return -1\n",
    "    "
   ]
  },
  {
   "cell_type": "code",
   "execution_count": 39,
   "metadata": {
    "tags": []
   },
   "outputs": [
    {
     "name": "stdout",
     "output_type": "stream",
     "text": [
      "[7, 26, 56, 59, 83, 85, 88, 89, 97, 99]\n"
     ]
    },
    {
     "data": {
      "text/plain": [
       "-1"
      ]
     },
     "execution_count": 39,
     "metadata": {},
     "output_type": "execute_result"
    }
   ],
   "source": [
    "lst = [7, 26, 56, 59, 83, 85, 88, 89, 97, 99]\n",
    "lst = sorted(lst)\n",
    "print(lst)\n",
    "binary_search(lst, 44)"
   ]
  },
  {
   "cell_type": "code",
   "execution_count": 40,
   "metadata": {},
   "outputs": [
    {
     "name": "stdout",
     "output_type": "stream",
     "text": [
      "[7, 26, 56, 59, 83, 85, 88, 89, 97, 99]\n"
     ]
    },
    {
     "data": {
      "text/plain": [
       "9"
      ]
     },
     "execution_count": 40,
     "metadata": {},
     "output_type": "execute_result"
    }
   ],
   "source": [
    "print(lst)\n",
    "binary_search(lst, 99)"
   ]
  },
  {
   "cell_type": "code",
   "execution_count": 41,
   "metadata": {},
   "outputs": [
    {
     "data": {
      "text/plain": [
       "-1"
      ]
     },
     "execution_count": 41,
     "metadata": {},
     "output_type": "execute_result"
    }
   ],
   "source": [
    "binary_search([], 99)"
   ]
  },
  {
   "cell_type": "markdown",
   "metadata": {
    "tags": []
   },
   "source": [
    "## 예제 6.\n",
    "예제 5를 순환 함수 형식으로 바꾸어라."
   ]
  },
  {
   "cell_type": "code",
   "execution_count": 42,
   "metadata": {},
   "outputs": [],
   "source": [
    "def recursive_binary_search(lst, e, idx_l, idx_h) -> int :\n",
    "    \"\"\"\n",
    "    lst에 원소 n의 index를 반환한다.\n",
    "    lst에 n이 없는 경우에는 -1을 반환한다.\n",
    "    입력:\n",
    "        - lst: 크기 순으로 정렬된 원소를 가진 시퀀스형 데이터\n",
    "        - e: 원소\n",
    "        - idx_l: 검색 범위의 가장 첫 인덱스\n",
    "        - idx_h: 검색 범위의 가장 마지막 인덱스\n",
    "    반환 값:\n",
    "        - e의 index (lst에 n이 없는 경우에는 -1)\n",
    "    \"\"\"\n",
    "    \n",
    "    mid = (idx_l+idx_h)//2\n",
    "    \n",
    "    if idx_l > idx_h or lst == []:\n",
    "        return -1\n",
    "    \n",
    "    if(lst[mid] == e):\n",
    "        return mid\n",
    "    elif(lst[mid] < e):\n",
    "        return recursive_binary_search(lst, e, mid+1, idx_h)\n",
    "    else:\n",
    "        return recursive_binary_search(lst, e, idx_l, mid-1)\n",
    "\n",
    "    \n"
   ]
  },
  {
   "cell_type": "code",
   "execution_count": 43,
   "metadata": {},
   "outputs": [
    {
     "name": "stdout",
     "output_type": "stream",
     "text": [
      "[7, 26, 35, 38, 47, 51, 56, 59, 83, 85, 88, 89, 97, 99]\n"
     ]
    },
    {
     "data": {
      "text/plain": [
       "-1"
      ]
     },
     "execution_count": 43,
     "metadata": {},
     "output_type": "execute_result"
    }
   ],
   "source": [
    "lst = [7, 26, 35, 38, 47, 51, 56, 59, 83, 85, 88, 89, 97, 99]\n",
    "print(lst)\n",
    "recursive_binary_search(lst, 44, 0, len(lst)-1)"
   ]
  },
  {
   "cell_type": "code",
   "execution_count": 44,
   "metadata": {},
   "outputs": [
    {
     "name": "stdout",
     "output_type": "stream",
     "text": [
      "[7, 26, 35, 38, 47, 51, 56, 59, 83, 85, 88, 89, 97, 99]\n"
     ]
    },
    {
     "data": {
      "text/plain": [
       "-1"
      ]
     },
     "execution_count": 44,
     "metadata": {},
     "output_type": "execute_result"
    }
   ],
   "source": [
    "print(lst)\n",
    "recursive_binary_search(lst, 9, 0, len(lst)-1)"
   ]
  },
  {
   "cell_type": "code",
   "execution_count": 45,
   "metadata": {},
   "outputs": [
    {
     "name": "stdout",
     "output_type": "stream",
     "text": [
      "[7, 26, 35, 38, 47, 51, 56, 59, 83, 85, 88, 89, 97, 99]\n"
     ]
    },
    {
     "data": {
      "text/plain": [
       "1"
      ]
     },
     "execution_count": 45,
     "metadata": {},
     "output_type": "execute_result"
    }
   ],
   "source": [
    "print(lst)\n",
    "recursive_binary_search(lst, 26, 0, len(lst)-1)"
   ]
  },
  {
   "cell_type": "markdown",
   "metadata": {},
   "source": [
    "## 예제 7.\n",
    "다음 프로그램의 결과가 나오는 과정을 설명하라."
   ]
  },
  {
   "cell_type": "code",
   "execution_count": 46,
   "metadata": {},
   "outputs": [
    {
     "data": {
      "text/plain": [
       "[5, 4, 6, 6, 10]"
      ]
     },
     "execution_count": 46,
     "metadata": {},
     "output_type": "execute_result"
    }
   ],
   "source": [
    "fruits = ['apple', 'pear', 'banana', 'orange', 'strawberry']\n",
    "list(map(len, fruits))"
   ]
  },
  {
   "cell_type": "markdown",
   "metadata": {},
   "source": [
    "**답**: map은 각각의 데이터에 매핑을 해주는 함수이다. len 함수가 있으므로 각각의 길이를 return 해준다."
   ]
  },
  {
   "cell_type": "markdown",
   "metadata": {},
   "source": [
    "## 예제 8.\n",
    "아래 프로그램을 map() 함수를 이용해서 바꾸고, for loop과 map 함수를 사용한 경우의 실행 시간을 비교하라."
   ]
  },
  {
   "cell_type": "code",
   "execution_count": 50,
   "metadata": {},
   "outputs": [
    {
     "name": "stdout",
     "output_type": "stream",
     "text": [
      "['apple', 'pear', 'banana', 'orange', 'strawberry']\n",
      "[1261811113207789137, 7118895611504384632, -9020379583663591227, -6890407846272467301, -215071666661694985]\n"
     ]
    }
   ],
   "source": [
    "secret_fruits = []\n",
    "for i in range(len(fruits)):\n",
    "    secret_fruits.append(hash(fruits[i]))\n",
    "print(fruits)\n",
    "print(secret_fruits)"
   ]
  },
  {
   "cell_type": "code",
   "execution_count": 48,
   "metadata": {},
   "outputs": [
    {
     "data": {
      "text/plain": [
       "[1261811113207789137,\n",
       " 7118895611504384632,\n",
       " -9020379583663591227,\n",
       " -6890407846272467301,\n",
       " -215071666661694985]"
      ]
     },
     "execution_count": 48,
     "metadata": {},
     "output_type": "execute_result"
    }
   ],
   "source": [
    "# print(fruits)\n",
    "secret_fruits2 =  list(map(hash, fruits))\n",
    "secret_fruits2"
   ]
  },
  {
   "cell_type": "code",
   "execution_count": 51,
   "metadata": {},
   "outputs": [
    {
     "name": "stdout",
     "output_type": "stream",
     "text": [
      "597 ns ± 2.26 ns per loop (mean ± std. dev. of 7 runs, 1000000 loops each)\n"
     ]
    }
   ],
   "source": [
    "%%timeit\n",
    "secret_fruits = []\n",
    "for i in range(len(fruits)):\n",
    "    secret_fruits.append(hash(fruits[i]))"
   ]
  },
  {
   "cell_type": "code",
   "execution_count": 52,
   "metadata": {},
   "outputs": [
    {
     "name": "stdout",
     "output_type": "stream",
     "text": [
      "281 ns ± 3.1 ns per loop (mean ± std. dev. of 7 runs, 1000000 loops each)\n"
     ]
    }
   ],
   "source": [
    "%%timeit\n",
    "secret_fruits2 =  list(map(hash, fruits))\n",
    "secret_fruits2"
   ]
  },
  {
   "cell_type": "markdown",
   "metadata": {},
   "source": [
    "## 예제 9.\n",
    "데이터 정규화: 모든 데이터를 0과 1 사이의 값으로 조정\n",
    "$$z = \\frac{x - \\min(x)}{\\max(x) - \\min(x)}$$\n",
    "\n",
    "- 예: 1, 3, 5, 6\n",
    " * 최댓값: 6\n",
    " * 최솟값: 1\n",
    " * 정규화된 후의 값: (1-1)/5. (3-1)/5, (5-1)/5, (6-1)/5 --> 0.0, 0.4, 0.8, 1.0\n"
   ]
  },
  {
   "cell_type": "code",
   "execution_count": 53,
   "metadata": {},
   "outputs": [
    {
     "name": "stdout",
     "output_type": "stream",
     "text": [
      "[0.0, 0.4, 0.8, 1.0]\n"
     ]
    }
   ],
   "source": [
    "def normalize(arr):\n",
    "    _min = min(arr)\n",
    "    _max = max(arr)\n",
    "\n",
    "    den = _max - _min\n",
    "    return [(e-_min)/den for e in arr]\n",
    "    \n",
    "\n",
    "x = [1, 3, 5, 6]\n",
    "xn = normalize(x)\n",
    "print(xn)"
   ]
  },
  {
   "cell_type": "markdown",
   "metadata": {},
   "source": [
    "- 위 프로그래램을 map 함수를 이용해서 다시 작성하라"
   ]
  },
  {
   "cell_type": "code",
   "execution_count": 54,
   "metadata": {},
   "outputs": [
    {
     "name": "stdout",
     "output_type": "stream",
     "text": [
      "[0.0, 0.4, 0.8, 1.0]\n"
     ]
    }
   ],
   "source": [
    "def normalize_3(arr):\n",
    "    _min = min(arr)\n",
    "    _max = max(arr)\n",
    "\n",
    "    den = _max - _min\n",
    "    return list(map(lambda e: (e - _min)/den, arr))\n",
    "    \n",
    "x = [1, 3, 5, 6]\n",
    "xn = normalize_3(x)\n",
    "print(xn)"
   ]
  },
  {
   "cell_type": "markdown",
   "metadata": {},
   "source": [
    "## 예제 10.  \n",
    "다음 리스트에 있는 모든 정수의 합을 구하는 함수를 reduce 함수를 이용하여 만들어라.\n",
    "\n",
    "- [1, 3, 5, 7, 9] "
   ]
  },
  {
   "cell_type": "code",
   "execution_count": 55,
   "metadata": {},
   "outputs": [
    {
     "data": {
      "text/plain": [
       "25"
      ]
     },
     "execution_count": 55,
     "metadata": {},
     "output_type": "execute_result"
    }
   ],
   "source": [
    "sum([1, 3, 5, 7, 9])"
   ]
  },
  {
   "cell_type": "code",
   "execution_count": 56,
   "metadata": {},
   "outputs": [
    {
     "data": {
      "text/plain": [
       "25"
      ]
     },
     "execution_count": 56,
     "metadata": {},
     "output_type": "execute_result"
    }
   ],
   "source": [
    "from functools import reduce\n",
    "reduce(lambda a,b: a+b, [1,3,5,7,9])"
   ]
  },
  {
   "cell_type": "markdown",
   "metadata": {},
   "source": [
    "## 예제 11.  \n",
    "다음 리스트에 있는 모든 정수의 곱을 구하는 함수를 reduce 함수를 이용하여 만들어라.\n",
    "\n",
    "- [1, 3, 5, 7, 9] "
   ]
  },
  {
   "cell_type": "code",
   "execution_count": 57,
   "metadata": {},
   "outputs": [
    {
     "data": {
      "text/plain": [
       "945"
      ]
     },
     "execution_count": 57,
     "metadata": {},
     "output_type": "execute_result"
    }
   ],
   "source": [
    "from math import prod\n",
    "prod([1, 3, 5, 7, 9])"
   ]
  },
  {
   "cell_type": "code",
   "execution_count": 58,
   "metadata": {},
   "outputs": [
    {
     "name": "stdout",
     "output_type": "stream",
     "text": [
      "945\n"
     ]
    }
   ],
   "source": [
    "product = 1\n",
    "for n in [1, 3, 5, 7, 9]:\n",
    "    product *= n\n",
    "print(product)"
   ]
  },
  {
   "cell_type": "markdown",
   "metadata": {},
   "source": [
    "- reduce 함수 이용하기"
   ]
  },
  {
   "cell_type": "code",
   "execution_count": 59,
   "metadata": {},
   "outputs": [
    {
     "data": {
      "text/plain": [
       "945"
      ]
     },
     "execution_count": 59,
     "metadata": {},
     "output_type": "execute_result"
    }
   ],
   "source": [
    "reduce(lambda a,b: a*b, [1,3,5,7,9])"
   ]
  },
  {
   "cell_type": "code",
   "execution_count": 60,
   "metadata": {},
   "outputs": [
    {
     "data": {
      "text/plain": [
       "945"
      ]
     },
     "execution_count": 60,
     "metadata": {},
     "output_type": "execute_result"
    }
   ],
   "source": [
    "from operator import mul\n",
    "reduce(mul, [1,3,5,7,9])"
   ]
  },
  {
   "cell_type": "markdown",
   "metadata": {
    "tags": []
   },
   "source": [
    "## 예제 12.  \n",
    "다음 리스트 lst에 있는 정수 중에서 최솟값을 구하라."
   ]
  },
  {
   "cell_type": "code",
   "execution_count": 70,
   "metadata": {},
   "outputs": [
    {
     "data": {
      "text/plain": [
       "[16, 3, 2, 9, 23, 28, 14, 29, 19, 19]"
      ]
     },
     "execution_count": 70,
     "metadata": {},
     "output_type": "execute_result"
    }
   ],
   "source": [
    "import random\n",
    "random.seed(153)\n",
    "lst = [random.randint(1,30) for n in range(10)]\n",
    "lst"
   ]
  },
  {
   "cell_type": "code",
   "execution_count": 71,
   "metadata": {},
   "outputs": [
    {
     "data": {
      "text/plain": [
       "2"
      ]
     },
     "execution_count": 71,
     "metadata": {},
     "output_type": "execute_result"
    }
   ],
   "source": [
    "min(lst)"
   ]
  },
  {
   "cell_type": "markdown",
   "metadata": {},
   "source": [
    "- reduce 함수 이용하기"
   ]
  },
  {
   "cell_type": "code",
   "execution_count": 77,
   "metadata": {},
   "outputs": [
    {
     "data": {
      "text/plain": [
       "2"
      ]
     },
     "execution_count": 77,
     "metadata": {},
     "output_type": "execute_result"
    }
   ],
   "source": [
    "reduce(lambda a,b: a if a<b else b, lst)"
   ]
  },
  {
   "cell_type": "markdown",
   "metadata": {
    "tags": []
   },
   "source": [
    "## 예제 13.  \n",
    "다음 리스트 lst에 있는 정수 중에서 모든 홀수들의 합을 구하라."
   ]
  },
  {
   "cell_type": "code",
   "execution_count": 78,
   "metadata": {},
   "outputs": [],
   "source": [
    "lst = [16, 3, 2, 9, 23, 28, 14, 29, 19, 19]"
   ]
  },
  {
   "cell_type": "code",
   "execution_count": 79,
   "metadata": {},
   "outputs": [
    {
     "name": "stdout",
     "output_type": "stream",
     "text": [
      "102\n"
     ]
    }
   ],
   "source": [
    "total = 0\n",
    "for n in lst:\n",
    "    if n % 2:\n",
    "        total += n\n",
    "print(total)"
   ]
  },
  {
   "cell_type": "markdown",
   "metadata": {},
   "source": [
    "- reduce 함수 이용하기"
   ]
  },
  {
   "cell_type": "code",
   "execution_count": 80,
   "metadata": {},
   "outputs": [
    {
     "data": {
      "text/plain": [
       "118"
      ]
     },
     "execution_count": 80,
     "metadata": {},
     "output_type": "execute_result"
    }
   ],
   "source": [
    "reduce(lambda a,b: a+b if b%2 else a, lst)"
   ]
  },
  {
   "cell_type": "markdown",
   "metadata": {
    "tags": []
   },
   "source": [
    "## 예제 14.\n",
    "2차원 그리드 grid의 왼쪽 위 63에서 시작해서 오른쪽 아래 19로 이동한다. \n",
    "\n",
    "단, 이동 중에 한 번에 오른쪽으로 한 칸 또는 아래쪽으로 한 칸만 이동할 수 있다. (왼쪽이나 위로 갈 수 없다).\n",
    "\n",
    "이 때 이동 경로에 있는 칸에 있는 수를 더했을 때 가장 큰 수가 나오는 경로를 찾아라.\n",
    "\n",
    "예:\n",
    "```\n",
    "[[1, 2, 3],\n",
    "[4, 5, 6],\n",
    "[7, 8, 9]] --> 1 + 4 + 7 + 8 + 9 = 29\n",
    "\n",
    "[[1,  2, 3],\n",
    "[4, 10, 6],\n",
    "[7,  8, 9]] --> 1 + 4 + 10 + 8 + 9 = 32\n",
    "\n",
    "[[1, 2, 13],\n",
    "[4, 5,  6],\n",
    "[7, 8,  9]] --> 1 + 2 + 13 + 6 + 9 = 31\n",
    "\n",
    "[[18, 73, 98,  9, 33],\n",
    " [16, 64, 98, 58, 61],\n",
    " [84, 49, 27, 13, 63],\n",
    " [ 4, 50, 56, 78, 98],\n",
    " [99,  1, 90, 58, 35]] --> 18 + 73 + 98 + 98 + 58 + 61 + 63 + 98 + 35 = 602\n",
    " \n",
    "[[63, 10, 5, 34, 91, 54, 75, 73],\n",
    " [77, 72, 41, 55, 32, 66, 66, 41],\n",
    " [85, 77, 27, 99, 32, 29, 54, 85],\n",
    " [78, 73, 10, 84, 33, 28, 45, 92],\n",
    " [98, 38, 8, 46, 89, 53, 85, 64],\n",
    " [81, 22, 6, 73, 22, 75, 22, 83],\n",
    " [54, 58, 97, 81, 6, 22, 28, 50],\n",
    " [23, 42, 75, 40, 95, 46, 71, 19]] --> 63 + ..... = ??? \n",
    "```"
   ]
  },
  {
   "cell_type": "code",
   "execution_count": 81,
   "metadata": {},
   "outputs": [],
   "source": [
    "grid1 = [[1, 2, 3],\n",
    "        [4, 5, 6],\n",
    "        [7, 8, 9]]\n",
    "grid2 = [[1,  2, 3],\n",
    "        [4, 10, 6],\n",
    "        [7,  8, 9]]\n",
    "grid3 = [[1, 2, 13],\n",
    "        [4, 5,  6],\n",
    "        [7, 8,  9]]\n",
    "grid4 = [[18, 73, 98,  9, 33],\n",
    "         [16, 64, 98, 58, 61],\n",
    "         [84, 49, 27, 13, 63],\n",
    "         [ 4, 50, 56, 78, 98],\n",
    "         [99,  1, 90, 58, 35]]\n",
    "grid5 = [[63, 10, 5, 34, 91, 54, 75, 73],\n",
    " [77, 72, 41, 55, 32, 66, 66, 41],\n",
    " [85, 77, 27, 99, 32, 29, 54, 85],\n",
    " [78, 73, 10, 84, 33, 28, 45, 92],\n",
    " [98, 38, 8, 46, 89, 53, 85, 100064],\n",
    " [81, 22, 6, 73, 22, 75, 22, 83],\n",
    " [54, 58, 97, 81, 6, 22, 28, 50],\n",
    " [23, 42, 75, 40, 95, 1046, 10071, 19]] "
   ]
  },
  {
   "cell_type": "code",
   "execution_count": 82,
   "metadata": {},
   "outputs": [
    {
     "name": "stdout",
     "output_type": "stream",
     "text": [
      "Init step\n",
      "[63, 10, 5, 34, 91, 54, 75, 73]\n",
      "[77, 72, 41, 55, 32, 66, 66, 41]\n",
      "[85, 77, 27, 99, 32, 29, 54, 85]\n",
      "[78, 73, 10, 84, 33, 28, 45, 92]\n",
      "[98, 38, 8, 46, 89, 53, 85, 100064]\n",
      "[81, 22, 6, 73, 22, 75, 22, 83]\n",
      "[54, 58, 97, 81, 6, 22, 28, 50]\n",
      "[23, 42, 75, 40, 95, 1046, 10071, 19]\n",
      "First step\n",
      "[63, 10, 5, 34, 91, 54, 75, 73]\n",
      "[140, 72, 41, 55, 32, 66, 66, 41]\n",
      "[225, 77, 27, 99, 32, 29, 54, 85]\n",
      "[303, 73, 10, 84, 33, 28, 45, 92]\n",
      "[401, 38, 8, 46, 89, 53, 85, 100064]\n",
      "[482, 22, 6, 73, 22, 75, 22, 83]\n",
      "[536, 58, 97, 81, 6, 22, 28, 50]\n",
      "[559, 42, 75, 40, 95, 1046, 10071, 19]\n",
      "Second step\n",
      "[63, 73, 78, 112, 203, 257, 332, 405]\n",
      "[140, 72, 41, 55, 32, 66, 66, 41]\n",
      "[225, 77, 27, 99, 32, 29, 54, 85]\n",
      "[303, 73, 10, 84, 33, 28, 45, 92]\n",
      "[401, 38, 8, 46, 89, 53, 85, 100064]\n",
      "[482, 22, 6, 73, 22, 75, 22, 83]\n",
      "[536, 58, 97, 81, 6, 22, 28, 50]\n",
      "[559, 42, 75, 40, 95, 1046, 10071, 19]\n",
      "Third step\n",
      "[63, 73, 78, 112, 203, 257, 332, 405]\n",
      "[140, 212, 253, 308, 340, 406, 472, 513]\n",
      "[225, 302, 329, 428, 460, 489, 543, 628]\n",
      "[303, 376, 386, 512, 545, 573, 618, 720]\n",
      "[401, 439, 447, 558, 647, 700, 785, 100849]\n",
      "[482, 504, 510, 631, 669, 775, 807, 100932]\n",
      "[536, 594, 691, 772, 778, 800, 835, 100982]\n",
      "[559, 636, 766, 812, 907, 1953, 12024, 101001]\n",
      "101001\n"
     ]
    }
   ],
   "source": [
    "def print_grid(grid):\n",
    "    for row in grid:\n",
    "        print(row)\n",
    "        \n",
    "def find_max_sum(grid, rows, cols):\n",
    "    \n",
    "    print(\"Init step\")\n",
    "    print_grid(grid)\n",
    "    for i in range(1, rows):\n",
    "        grid[i][0] += grid[i - 1][0]\n",
    "    \n",
    "    print(\"First step\")\n",
    "    print_grid(grid)\n",
    "    for j in range(1, cols):\n",
    "        grid[0][j] += grid[0][j - 1]\n",
    "    print(\"Second step\")\n",
    "    print_grid(grid)\n",
    "    \n",
    "    for i in range(1, rows):\n",
    "        for j in range(1, cols):\n",
    "            grid[i][j] += max(grid[i][j - 1], grid[i - 1][j])\n",
    "    print(\"Third step\")\n",
    "    print_grid(grid)\n",
    "    \n",
    "    return grid\n",
    "\n",
    "\n",
    "grid = grid5\n",
    "rows = len(grid)\n",
    "cols = len(grid[0])\n",
    "res = find_max_sum(grid, rows, cols)\n",
    "print(res[rows-1][cols-1])"
   ]
  },
  {
   "cell_type": "code",
   "execution_count": 83,
   "metadata": {},
   "outputs": [
    {
     "data": {
      "text/plain": [
       "1043"
      ]
     },
     "execution_count": 83,
     "metadata": {},
     "output_type": "execute_result"
    }
   ],
   "source": [
    "def find_max_sum_with_backward_recursion(grid, row, col):\n",
    "        \n",
    "    if row == 0 and col == 0:\n",
    "        return grid[row][col]\n",
    "    elif row == 0:\n",
    "        return grid[row][col] + find_max_sum_with_backward_recursion(grid, row, col-1)\n",
    "    elif col == 0:\n",
    "        return grid[row][col] + find_max_sum_with_backward_recursion(grid, row-1, col)\n",
    "    else:\n",
    "        return grid[row][col] + \\\n",
    "                max(find_max_sum_with_backward_recursion(grid, row, col-1), \\\n",
    "                find_max_sum_with_backward_recursion(grid, row-1, col)) \n",
    "    \n",
    "    return \n",
    "    \n",
    "def print_grid(grid):\n",
    "    global n\n",
    "    print(n)\n",
    "    n+=1\n",
    "    for row in grid:\n",
    "        print(row)\n",
    "\n",
    "n = 0\n",
    "grid5 = [[63, 10, 5, 34, 91, 54, 75, 73],\n",
    " [77, 72, 41, 55, 32, 66, 66, 41],\n",
    " [85, 77, 27, 99, 32, 29, 54, 85],\n",
    " [78, 73, 10, 84, 33, 28, 45, 92],\n",
    " [98, 38, 8, 46, 89, 53, 85, 64],\n",
    " [81, 22, 6, 73, 22, 75, 22, 83],\n",
    " [54, 58, 97, 81, 6, 22, 28, 50],\n",
    " [23, 42, 75, 40, 95, 46, 71, 19]] \n",
    "\n",
    "find_max_sum_with_backward_recursion(grid5, 7, 7)"
   ]
  },
  {
   "cell_type": "code",
   "execution_count": 84,
   "metadata": {},
   "outputs": [
    {
     "data": {
      "text/plain": [
       "1000937"
      ]
     },
     "execution_count": 84,
     "metadata": {},
     "output_type": "execute_result"
    }
   ],
   "source": [
    "def find_max_sum_with_backward_recursion(grid, row, col):        \n",
    "    if row == len(grid5)-1 and col == len(grid5)-1:\n",
    "        return grid[row][col]\n",
    "    elif row == len(grid5)-1:\n",
    "        return grid[row][col] + find_max_sum_with_backward_recursion(grid, row, col+1)\n",
    "    elif col == len(grid5)-1:\n",
    "        return grid[row][col] + find_max_sum_with_backward_recursion(grid, row+1, col)\n",
    "    else:\n",
    "        return grid[row][col] + \\\n",
    "                max(find_max_sum_with_backward_recursion(grid, row, col+1), \\\n",
    "                find_max_sum_with_backward_recursion(grid, row+1, col)) \n",
    "    \n",
    "    return \n",
    "    \n",
    "def print_grid(grid):\n",
    "    for row in grid:\n",
    "        print(row)\n",
    "\n",
    "n = 0\n",
    "grid5 = [[63, 10, 5, 34, 91, 54, 75, 73],\n",
    " [77, 72, 41, 55, 32, 66, 66, 41],\n",
    " [85, 77, 27, 99, 32, 29, 54, 85],\n",
    " [78, 73, 10, 84, 33, 28, 45, 92],\n",
    " [98, 38, 8, 46, 89, 53, 85, 1000000],\n",
    " [81, 22, 6, 73, 22, 75, 22, 83],\n",
    " [54, 58, 97, 81, 6, 22, 28, 50],\n",
    " [23, 42, 75, 40, 95, 46, 71, 19]] \n",
    "\n",
    "find_max_sum_with_backward_recursion(grid5, 0, 0)"
   ]
  },
  {
   "cell_type": "code",
   "execution_count": 85,
   "metadata": {},
   "outputs": [
    {
     "data": {
      "text/plain": [
       "8"
      ]
     },
     "execution_count": 85,
     "metadata": {},
     "output_type": "execute_result"
    }
   ],
   "source": [
    "len(grid5)"
   ]
  },
  {
   "cell_type": "markdown",
   "metadata": {},
   "source": [
    "## 문제 1. \n",
    "예제 14에서 구한 프로그램을 리스트의 [0][0] 원소에서 시작해서 [-1][-1] 원소 방향으로 검색하는 프로그램으로 수정하라.\n",
    "\n"
   ]
  },
  {
   "cell_type": "code",
   "execution_count": 86,
   "metadata": {},
   "outputs": [
    {
     "data": {
      "text/plain": [
       "101001"
      ]
     },
     "execution_count": 86,
     "metadata": {},
     "output_type": "execute_result"
    }
   ],
   "source": [
    "def find_max_sum_with_forward_recursion(grid, row, col):\n",
    "    if row == len(grid5)-1 and col == len(grid5)-1:\n",
    "        return grid[row][col]\n",
    "    elif row == len(grid5)-1:\n",
    "        return grid[row][col] + find_max_sum_with_backward_recursion(grid, row, col+1)\n",
    "    elif col == len(grid5)-1:\n",
    "        return grid[row][col] + find_max_sum_with_backward_recursion(grid, row+1, col)\n",
    "    else:\n",
    "        return grid[row][col] + \\\n",
    "                max(find_max_sum_with_backward_recursion(grid, row, col+1), \\\n",
    "                find_max_sum_with_backward_recursion(grid, row+1, col)) \n",
    "    \n",
    "    return \n",
    "\n",
    "\n",
    "\n",
    "grid5 = [[63, 10, 5, 34, 91, 54, 75, 73],\n",
    " [77, 72, 41, 55, 32, 66, 66, 41],\n",
    " [85, 77, 27, 99, 32, 29, 54, 85],\n",
    " [78, 73, 10, 84, 33, 28, 45, 92],\n",
    " [98, 38, 8, 46, 89, 53, 85, 100064],\n",
    " [81, 22, 6, 73, 22, 75, 22, 83],\n",
    " [54, 58, 97, 81, 6, 22, 28, 50],\n",
    " [23, 42, 75, 40, 95, 1046, 10071, 19]] \n",
    "\n",
    "find_max_sum_with_forward_recursion(grid5, 0, 0)"
   ]
  },
  {
   "cell_type": "markdown",
   "metadata": {
    "tags": []
   },
   "source": [
    "## 문제 2.\n",
    "zip 함수를 이용하면 두 개의 iterables의 같은 위치에 있는 원소의 tuple을 원소로 갖는 iterable을 만들 수 있다.\n",
    "\n",
    "```\n",
    "provinces = ['경기도', '강원도']\n",
    "cities = ['수원', '춘천']\n",
    "result = list(zip(provinces, cities))\n",
    "print(result)\n",
    "```\n",
    "\n",
    "위 네 줄을 실행하면 다음 결과를 얻는다.\n",
    "\n",
    "[('경기도', '수원'), ('강원도', '춘천')]\n",
    "\n",
    "\n",
    "map 함수를 이용하여 result를 구하여라."
   ]
  },
  {
   "cell_type": "code",
   "execution_count": 3,
   "metadata": {},
   "outputs": [
    {
     "data": {
      "text/plain": [
       "[('경기도', '수원'), ('강원도', '춘천')]"
      ]
     },
     "execution_count": 3,
     "metadata": {},
     "output_type": "execute_result"
    }
   ],
   "source": [
    "provinces = ['경기도', '강원도']\n",
    "cities = ['수원', '춘천']\n",
    "list(zip(provinces, cities))"
   ]
  },
  {
   "cell_type": "code",
   "execution_count": 18,
   "metadata": {},
   "outputs": [
    {
     "name": "stdout",
     "output_type": "stream",
     "text": [
      "['경기도', '강원도'] ['수원', '춘천']\n"
     ]
    }
   ],
   "source": [
    "from functools import reduce\n",
    "reduce(lambda a,b: print(a,b), [provinces, cities])"
   ]
  },
  {
   "cell_type": "code",
   "execution_count": null,
   "metadata": {},
   "outputs": [],
   "source": []
  }
 ],
 "metadata": {
  "kernelspec": {
   "display_name": "Python 3 (ipykernel)",
   "language": "python",
   "name": "python3"
  },
  "language_info": {
   "codemirror_mode": {
    "name": "ipython",
    "version": 3
   },
   "file_extension": ".py",
   "mimetype": "text/x-python",
   "name": "python",
   "nbconvert_exporter": "python",
   "pygments_lexer": "ipython3",
   "version": "3.9.7"
  },
  "latex_envs": {
   "LaTeX_envs_menu_present": true,
   "autoclose": false,
   "autocomplete": true,
   "bibliofile": "biblio.bib",
   "cite_by": "apalike",
   "current_citInitial": 1,
   "eqLabelWithNumbers": true,
   "eqNumInitial": 1,
   "hotkeys": {
    "equation": "Ctrl-E",
    "itemize": "Ctrl-I"
   },
   "labels_anchors": false,
   "latex_user_defs": false,
   "report_style_numbering": false,
   "user_envs_cfg": false
  },
  "toc": {
   "base_numbering": 1,
   "nav_menu": {},
   "number_sections": false,
   "sideBar": true,
   "skip_h1_title": false,
   "title_cell": "Table of Contents",
   "title_sidebar": "Contents",
   "toc_cell": false,
   "toc_position": {
    "height": "calc(100% - 180px)",
    "left": "10px",
    "top": "150px",
    "width": "270.5px"
   },
   "toc_section_display": true,
   "toc_window_display": false
  }
 },
 "nbformat": 4,
 "nbformat_minor": 4
}
