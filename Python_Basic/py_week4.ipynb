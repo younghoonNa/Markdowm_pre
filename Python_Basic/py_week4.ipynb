{
 "cells": [
  {
   "cell_type": "markdown",
   "id": "64ba7dd3-8223-415e-8b77-002d13499315",
   "metadata": {},
   "source": [
    "# Python 시퀀스 형 데이터\n",
    "- Range 형\n",
    "- List 형\n",
    "- 튜플 형\n",
    "- 인덱싱과 인덱스 슬라이싱\n",
    "- 시퀀스 형 데이터 연산자 (+, *, in)"
   ]
  },
  {
   "cell_type": "markdown",
   "id": "fe066fc6-087b-44a8-a17e-84bc23cd0212",
   "metadata": {},
   "source": [
    "## 시퀀스 형 데이터\n",
    "\n",
    "- Range\n",
    "- List\n",
    "- Tuple\n",
    "- String\n",
    "- bytes\n",
    "- bytesarray"
   ]
  },
  {
   "attachments": {
    "6c7617d1-7406-48bd-bfc3-a57bbea048b2.png": {
     "image/png": "[encoded data removed]"
    }
   },
   "cell_type": "markdown",
   "id": "c55efeb6-45de-4322-b33c-a6d241275ab2",
   "metadata": {},
   "source": [
    "### Range 형\n",
    "\n",
    "- (1,10,1) : 1부터 10미만까지 1씩 증가\n",
    "- (1,10) 과 같음\n",
    "\n",
    "> (5) : 0부터 4까지 출력\n",
    ">> (5, 0, -2) : 5부터 0초과로 -2씩 찍기 -> 5 3 1 찍어냄\n",
    "\n",
    "![image.png](attachment:6c7617d1-7406-48bd-bfc3-a57bbea048b2.png)"
   ]
  },
  {
   "cell_type": "code",
   "execution_count": 2,
   "id": "3089bd76-51f6-419d-af67-3b394b7bb52d",
   "metadata": {},
   "outputs": [
    {
     "name": "stdout",
     "output_type": "stream",
     "text": [
      "1\n",
      "4\n",
      "7\n"
     ]
    }
   ],
   "source": [
    "for n in range(1,10,3):\n",
    "    print(n)"
   ]
  },
  {
   "cell_type": "code",
   "execution_count": 3,
   "id": "9f262b66-4a22-4a5c-8556-b65f21e9f72e",
   "metadata": {},
   "outputs": [
    {
     "name": "stdout",
     "output_type": "stream",
     "text": [
      "1\n",
      "2\n",
      "3\n",
      "4\n"
     ]
    }
   ],
   "source": [
    "for n in range(1,5):\n",
    "    print(n)"
   ]
  },
  {
   "cell_type": "code",
   "execution_count": 4,
   "id": "84d41e68-c270-4620-81b3-1fb87680f3d5",
   "metadata": {},
   "outputs": [
    {
     "name": "stdout",
     "output_type": "stream",
     "text": [
      "1\n",
      "2\n",
      "3\n",
      "4\n"
     ]
    }
   ],
   "source": [
    "for n in range(1,5,1):\n",
    "    print(n)"
   ]
  },
  {
   "cell_type": "code",
   "execution_count": 5,
   "id": "5a1dbfdb-206d-46e5-99ce-527b25d07e2d",
   "metadata": {},
   "outputs": [
    {
     "name": "stdout",
     "output_type": "stream",
     "text": [
      "0\n",
      "1\n",
      "2\n",
      "3\n",
      "4\n"
     ]
    }
   ],
   "source": [
    "for n in range(5):\n",
    "    print(n)"
   ]
  },
  {
   "cell_type": "code",
   "execution_count": 8,
   "id": "b3ca6fb8-a1b1-42ff-b6bc-ce8c173c55be",
   "metadata": {},
   "outputs": [
    {
     "name": "stdout",
     "output_type": "stream",
     "text": [
      "0\n",
      "1\n",
      "2\n",
      "3\n",
      "4\n"
     ]
    }
   ],
   "source": [
    "for n in range(0,5,1):\n",
    "    print(n)"
   ]
  },
  {
   "cell_type": "code",
   "execution_count": 9,
   "id": "461167e9-9a45-4c58-96c9-900e9622b302",
   "metadata": {},
   "outputs": [
    {
     "name": "stdout",
     "output_type": "stream",
     "text": [
      "-6\n",
      "-4\n",
      "-2\n",
      "0\n",
      "2\n",
      "4\n",
      "6\n"
     ]
    }
   ],
   "source": [
    "for n in range(-6, 7, 2):\n",
    "    print(n)"
   ]
  },
  {
   "cell_type": "code",
   "execution_count": 10,
   "id": "c4938464-1dd3-4c9c-af86-e15aa6f4a3b3",
   "metadata": {},
   "outputs": [
    {
     "name": "stdout",
     "output_type": "stream",
     "text": [
      "5\n",
      "4\n",
      "3\n",
      "2\n",
      "1\n"
     ]
    }
   ],
   "source": [
    "for n in range(5, 0, -1):\n",
    "    print(n)"
   ]
  },
  {
   "cell_type": "code",
   "execution_count": 11,
   "id": "b5cc843a-fa94-4a83-b589-7889ae447432",
   "metadata": {},
   "outputs": [
    {
     "name": "stdout",
     "output_type": "stream",
     "text": [
      "9\n",
      "7\n",
      "5\n",
      "3\n",
      "1\n"
     ]
    }
   ],
   "source": [
    "for n in range(9, 0, -2):\n",
    "    print(n)"
   ]
  },
  {
   "cell_type": "markdown",
   "id": "e2a87c07-9a41-4580-9375-5ee2052fdbfd",
   "metadata": {},
   "source": [
    "## List 와 Tuple 에 대해서\n",
    "\n",
    "### List와 tuple의 특징\n",
    "\n",
    "- list\n",
    "    - Sequence 형\n",
    "    - `Mutable (수정, 추가, 삭제 가능)`\n",
    "    - 정렬 가능\n",
    "    - 범용\n",
    "    - Python 데이터 유형 중에서 가장 널리 사용\n",
    "    - 리스트 내의 원소의 개수는 제한이 없고, 원소는 어떤 유형의 데이터도 사용가능.\n",
    "    \n",
    "- tuple\n",
    "    - Sequence 형\n",
    "    - `Immutable (수정, 추가, 삭제 불가능)`\n",
    "    - 정렬 불가능\n",
    "    - 고정형 데이터에 적합\n",
    "    - 튜플 내의 원소의 개수는 제한이 없고, 원소는 어떤 유형의 데이터도 사용 가능."
   ]
  },
  {
   "cell_type": "markdown",
   "id": "fd1b00e4-c9bd-4412-9404-18d26d9a1f17",
   "metadata": {},
   "source": [
    "#### List 표기 법 (literal)\n",
    "- [] 안에 항목(또는 원소)를 쉼표(,) 로 분리\n",
    "\n",
    "a = [1, 3, 5]"
   ]
  },
  {
   "cell_type": "markdown",
   "id": "cf75f783-f4df-434b-9422-11e9ad4afa13",
   "metadata": {},
   "source": [
    "#### 리스트 생성 방법\n",
    "\n",
    "##### 빈 리스트"
   ]
  },
  {
   "cell_type": "code",
   "execution_count": 12,
   "id": "7fc61b92-6b98-44b9-8911-3aaa194e95b0",
   "metadata": {},
   "outputs": [
    {
     "data": {
      "text/plain": [
       "[]"
      ]
     },
     "execution_count": 12,
     "metadata": {},
     "output_type": "execute_result"
    }
   ],
   "source": [
    "list1 = []\n",
    "list1"
   ]
  },
  {
   "cell_type": "code",
   "execution_count": 13,
   "id": "0889ba20-eb6c-4b23-a4df-f5b3977bfb27",
   "metadata": {},
   "outputs": [
    {
     "data": {
      "text/plain": [
       "[]"
      ]
     },
     "execution_count": 13,
     "metadata": {},
     "output_type": "execute_result"
    }
   ],
   "source": [
    "list2 = list()\n",
    "list2"
   ]
  },
  {
   "cell_type": "markdown",
   "id": "36d8336c-5291-41fd-a137-58c1a78ed33e",
   "metadata": {},
   "source": [
    "### 단일 원소 리스트"
   ]
  },
  {
   "cell_type": "code",
   "execution_count": 14,
   "id": "828d689c-6b0f-49ad-a917-33ac8cbc46d1",
   "metadata": {},
   "outputs": [
    {
     "data": {
      "text/plain": [
       "[3]"
      ]
     },
     "execution_count": 14,
     "metadata": {},
     "output_type": "execute_result"
    }
   ],
   "source": [
    "list_s = [3]\n",
    "list_s"
   ]
  },
  {
   "cell_type": "code",
   "execution_count": 15,
   "id": "c82febdd-98c6-42c2-84fb-34e500900c5b",
   "metadata": {},
   "outputs": [
    {
     "data": {
      "text/plain": [
       "[3]"
      ]
     },
     "execution_count": 15,
     "metadata": {},
     "output_type": "execute_result"
    }
   ],
   "source": [
    "list((3,))"
   ]
  },
  {
   "cell_type": "code",
   "execution_count": 16,
   "id": "33f84dc5-86ee-494d-8fed-19040a585184",
   "metadata": {},
   "outputs": [
    {
     "data": {
      "text/plain": [
       "[3]"
      ]
     },
     "execution_count": 16,
     "metadata": {},
     "output_type": "execute_result"
    }
   ],
   "source": [
    "list(range(3,4))"
   ]
  },
  {
   "cell_type": "markdown",
   "id": "fcf067e8-601f-402d-872f-b7e908280de7",
   "metadata": {},
   "source": [
    "### 정수 리스트"
   ]
  },
  {
   "cell_type": "code",
   "execution_count": 17,
   "id": "558c8386-a379-47fe-b21c-161dcb5f0236",
   "metadata": {},
   "outputs": [
    {
     "data": {
      "text/plain": [
       "[1, 3, 5]"
      ]
     },
     "execution_count": 17,
     "metadata": {},
     "output_type": "execute_result"
    }
   ],
   "source": [
    "list_i = [1,3,5]\n",
    "list_i"
   ]
  },
  {
   "cell_type": "markdown",
   "id": "11397cc3-74e2-4601-a448-5eae6c764c1c",
   "metadata": {},
   "source": [
    "### 실수 리스트"
   ]
  },
  {
   "cell_type": "code",
   "execution_count": 18,
   "id": "de26baa8-e23a-427a-9e63-a18d59b33a12",
   "metadata": {},
   "outputs": [
    {
     "data": {
      "text/plain": [
       "[1.0, 3.0, 5.0]"
      ]
     },
     "execution_count": 18,
     "metadata": {},
     "output_type": "execute_result"
    }
   ],
   "source": [
    "list_f = [1., 3., 5.]\n",
    "list_f"
   ]
  },
  {
   "cell_type": "markdown",
   "id": "692ac37d-4b7b-45b6-988e-b66aec852463",
   "metadata": {},
   "source": [
    "### 복합 리스트"
   ]
  },
  {
   "cell_type": "code",
   "execution_count": 20,
   "id": "bcebe287-4009-4666-8bed-262381780236",
   "metadata": {},
   "outputs": [
    {
     "data": {
      "text/plain": [
       "[1.0, '3', [1, 3.0, 'text']]"
      ]
     },
     "execution_count": 20,
     "metadata": {},
     "output_type": "execute_result"
    }
   ],
   "source": [
    "list_complex = [1., '3', [1, 3., 'text']]\n",
    "list_complex"
   ]
  },
  {
   "cell_type": "markdown",
   "id": "36c6549c-855e-4bd7-93f3-2998bac996c8",
   "metadata": {},
   "source": [
    "### List 클래스의 생성자 list() 이용"
   ]
  },
  {
   "cell_type": "code",
   "execution_count": 21,
   "id": "e975e995-e328-4566-88f4-cb3acd89cfde",
   "metadata": {},
   "outputs": [
    {
     "data": {
      "text/plain": [
       "[0, 1, 2, 3, 4]"
      ]
     },
     "execution_count": 21,
     "metadata": {},
     "output_type": "execute_result"
    }
   ],
   "source": [
    "list3 = list(range(5))\n",
    "list3"
   ]
  },
  {
   "cell_type": "code",
   "execution_count": 22,
   "id": "047ca869-ca36-435d-8ddc-8cc810a3b9a0",
   "metadata": {},
   "outputs": [
    {
     "data": {
      "text/plain": [
       "[1, 3, 5]"
      ]
     },
     "execution_count": 22,
     "metadata": {},
     "output_type": "execute_result"
    }
   ],
   "source": [
    "list4 = list({1,3,5})\n",
    "list4"
   ]
  },
  {
   "cell_type": "code",
   "execution_count": 24,
   "id": "38483361-3646-4b9a-968a-30431f1d44e0",
   "metadata": {},
   "outputs": [
    {
     "data": {
      "text/plain": [
       "['a', 'b', 'c']"
      ]
     },
     "execution_count": 24,
     "metadata": {},
     "output_type": "execute_result"
    }
   ],
   "source": [
    "list5 = list('abc')\n",
    "list5"
   ]
  },
  {
   "cell_type": "markdown",
   "id": "86a568cc-bbac-4d1c-b1d1-27ff1b91c9ee",
   "metadata": {},
   "source": [
    "### 리스트 컴프리헨션(Comprehension, 조건제시법)"
   ]
  },
  {
   "cell_type": "code",
   "execution_count": 26,
   "id": "b791f6ca-bbb3-455f-94d9-ebf74ce80dd5",
   "metadata": {},
   "outputs": [
    {
     "data": {
      "text/plain": [
       "[0, 1, 2, 3, 4]"
      ]
     },
     "execution_count": 26,
     "metadata": {},
     "output_type": "execute_result"
    }
   ],
   "source": [
    "list6 = []\n",
    "for n in range(5):\n",
    "    list6.append(n)\n",
    "list6"
   ]
  },
  {
   "cell_type": "code",
   "execution_count": 27,
   "id": "52925674-cd9f-4991-82a6-90d0d04dc122",
   "metadata": {},
   "outputs": [
    {
     "data": {
      "text/plain": [
       "[0, 1, 2, 3, 4]"
      ]
     },
     "execution_count": 27,
     "metadata": {},
     "output_type": "execute_result"
    }
   ],
   "source": [
    "list(range(5))"
   ]
  },
  {
   "cell_type": "code",
   "execution_count": 29,
   "id": "51f4840a-9cb2-4240-9ed6-338e3b751399",
   "metadata": {},
   "outputs": [
    {
     "data": {
      "text/plain": [
       "[0, 1, 2, 3, 4]"
      ]
     },
     "execution_count": 29,
     "metadata": {},
     "output_type": "execute_result"
    }
   ],
   "source": [
    "list7 = [n for n in range(5)]\n",
    "list7"
   ]
  },
  {
   "cell_type": "code",
   "execution_count": 31,
   "id": "91337d7c-cf99-4477-ab2d-1c8f6befa20e",
   "metadata": {},
   "outputs": [
    {
     "name": "stdout",
     "output_type": "stream",
     "text": [
      "[0, 1, 2, 3, 4]\n",
      "[0, 1, 4, 9, 16]\n"
     ]
    }
   ],
   "source": [
    "x = [n for n in range(5)]\n",
    "y = [n**2 for n in range(5)]\n",
    "print(x)\n",
    "print(y)"
   ]
  },
  {
   "cell_type": "code",
   "execution_count": 35,
   "id": "9c26b860-a0fc-4721-a58b-1b4535c0ab01",
   "metadata": {},
   "outputs": [
    {
     "data": {
      "text/plain": [
       "[1, 2, 4, 5, 7, 8]"
      ]
     },
     "execution_count": 35,
     "metadata": {},
     "output_type": "execute_result"
    }
   ],
   "source": [
    "x = [n for n in range(10) if n % 3 ] #뒤의 조건이 참 일 때만..!\n",
    "x"
   ]
  },
  {
   "cell_type": "markdown",
   "id": "dda190c7-3eed-4ce2-a138-7cd200e6a20b",
   "metadata": {},
   "source": [
    "### 중첩 리스트 - Nested List"
   ]
  },
  {
   "cell_type": "code",
   "execution_count": 36,
   "id": "209aebf2-cc18-49d8-8533-bc82ab2102ca",
   "metadata": {},
   "outputs": [
    {
     "data": {
      "text/plain": [
       "[[1, 2, 3], [4, 5, 6]]"
      ]
     },
     "execution_count": 36,
     "metadata": {},
     "output_type": "execute_result"
    }
   ],
   "source": [
    "list_n = [[1,2,3], [4,5,6]]\n",
    "list_n"
   ]
  },
  {
   "cell_type": "markdown",
   "id": "ac85e88d-c72d-42f6-b2fb-523c25a76dbf",
   "metadata": {},
   "source": [
    "## 튜플 구문\n",
    "- ( ) 안에 항목(또는 원소)를 쉼표(,)로 분리\n",
    "\n",
    "`b = (1, 3, 5)`\n",
    "\n",
    "### 튜플 생성 방법\n",
    "#### 빈 튜플"
   ]
  },
  {
   "cell_type": "code",
   "execution_count": 37,
   "id": "edcc116b-75bf-40da-ae0c-a83da7e7fdb2",
   "metadata": {},
   "outputs": [
    {
     "data": {
      "text/plain": [
       "()"
      ]
     },
     "execution_count": 37,
     "metadata": {},
     "output_type": "execute_result"
    }
   ],
   "source": [
    "tuple1 = ()\n",
    "tuple1"
   ]
  },
  {
   "cell_type": "code",
   "execution_count": 38,
   "id": "1b778f2a-dcbe-4182-b2d8-702048923f50",
   "metadata": {},
   "outputs": [
    {
     "data": {
      "text/plain": [
       "()"
      ]
     },
     "execution_count": 38,
     "metadata": {},
     "output_type": "execute_result"
    }
   ],
   "source": [
    "tuple2 = tuple()\n",
    "tuple2"
   ]
  },
  {
   "cell_type": "markdown",
   "id": "2e8795a4-0789-48d4-be35-f4808abec96d",
   "metadata": {},
   "source": [
    "### 단일 원소 튜플 -> 하나만 있을 땐 쉼표 붙여야함."
   ]
  },
  {
   "cell_type": "code",
   "execution_count": 39,
   "id": "f4a20bf8-de6e-4dbd-90f5-1bbcbe9d6ddc",
   "metadata": {},
   "outputs": [
    {
     "data": {
      "text/plain": [
       "(1,)"
      ]
     },
     "execution_count": 39,
     "metadata": {},
     "output_type": "execute_result"
    }
   ],
   "source": [
    "tuple_s = (1,)\n",
    "tuple_s"
   ]
  },
  {
   "cell_type": "code",
   "execution_count": 40,
   "id": "51132960-7c5a-46bc-aa30-a5b1f9f3f577",
   "metadata": {},
   "outputs": [
    {
     "data": {
      "text/plain": [
       "1"
      ]
     },
     "execution_count": 40,
     "metadata": {},
     "output_type": "execute_result"
    }
   ],
   "source": [
    "(1)"
   ]
  },
  {
   "cell_type": "markdown",
   "id": "e316e5e5-2b1a-4e0c-90ae-6e2f91b51c5f",
   "metadata": {},
   "source": [
    "### 정수 튜플"
   ]
  },
  {
   "cell_type": "code",
   "execution_count": 41,
   "id": "d66b5fc5-7635-4581-91c7-7d6a4b2d6ff5",
   "metadata": {},
   "outputs": [
    {
     "data": {
      "text/plain": [
       "(1, 3, 5)"
      ]
     },
     "execution_count": 41,
     "metadata": {},
     "output_type": "execute_result"
    }
   ],
   "source": [
    "tuple_i = (1,3,5)\n",
    "tuple_i"
   ]
  },
  {
   "cell_type": "markdown",
   "id": "c6bf4197-0ed5-4791-bce8-f9c7f18ba59e",
   "metadata": {},
   "source": [
    "### 실수 튜플"
   ]
  },
  {
   "cell_type": "code",
   "execution_count": 42,
   "id": "7411e9d6-a719-4bda-b2af-aa770c5ca97c",
   "metadata": {},
   "outputs": [
    {
     "data": {
      "text/plain": [
       "(1.0, 3.0, 5.0)"
      ]
     },
     "execution_count": 42,
     "metadata": {},
     "output_type": "execute_result"
    }
   ],
   "source": [
    "tuple_f = (1., 3., 5.)\n",
    "tuple_f"
   ]
  },
  {
   "cell_type": "markdown",
   "id": "4b63174f-19ae-4e8d-a3a7-150d92e3cceb",
   "metadata": {},
   "source": [
    "### 복합 튜플"
   ]
  },
  {
   "cell_type": "code",
   "execution_count": 44,
   "id": "908a8ce3-de3a-40e8-be72-cc67ede0ec06",
   "metadata": {},
   "outputs": [
    {
     "data": {
      "text/plain": [
       "(1.0, '3', (1, 3, 'text'))"
      ]
     },
     "execution_count": 44,
     "metadata": {},
     "output_type": "execute_result"
    }
   ],
   "source": [
    "tuple_complex = (1., '3', (1, 3, 'text'))\n",
    "tuple_complex"
   ]
  },
  {
   "cell_type": "markdown",
   "id": "c76d883e-15bd-4e0a-9270-38eda2548133",
   "metadata": {},
   "source": [
    "### Tuple 클래스의 생성자 tuple() 함수 이용"
   ]
  },
  {
   "cell_type": "code",
   "execution_count": 45,
   "id": "c3791fe0-b7ad-4904-817f-e45c7911c714",
   "metadata": {},
   "outputs": [
    {
     "data": {
      "text/plain": [
       "(0, 1, 2)"
      ]
     },
     "execution_count": 45,
     "metadata": {},
     "output_type": "execute_result"
    }
   ],
   "source": [
    "tuple3 = tuple(range(3))\n",
    "tuple3"
   ]
  },
  {
   "cell_type": "code",
   "execution_count": 46,
   "id": "00375166-bdbf-417c-b97c-c7249ee60030",
   "metadata": {},
   "outputs": [
    {
     "data": {
      "text/plain": [
       "('a', 'b', 'c')"
      ]
     },
     "execution_count": 46,
     "metadata": {},
     "output_type": "execute_result"
    }
   ],
   "source": [
    "tuple4 = tuple('abc')\n",
    "tuple4"
   ]
  },
  {
   "cell_type": "code",
   "execution_count": 49,
   "id": "ee181e9b-f06f-4af9-bdf8-15f571bc57ec",
   "metadata": {},
   "outputs": [
    {
     "data": {
      "text/plain": [
       "(1, 3, 5)"
      ]
     },
     "execution_count": 49,
     "metadata": {},
     "output_type": "execute_result"
    }
   ],
   "source": [
    "tuple5 = tuple([1,3,5])\n",
    "tuple5"
   ]
  },
  {
   "cell_type": "markdown",
   "id": "baa4fc07-d127-4d2a-8fdb-8cc861368b9a",
   "metadata": {},
   "source": [
    "# 튜플 컴프리헨션은 없음."
   ]
  },
  {
   "cell_type": "code",
   "execution_count": 53,
   "id": "14752e91-1474-4848-b802-6cfe176c6a7a",
   "metadata": {},
   "outputs": [
    {
     "name": "stdout",
     "output_type": "stream",
     "text": [
      "<generator object <genexpr> at 0x7fda68035040>\n"
     ]
    }
   ],
   "source": [
    "x = (n for n in range(5))\n",
    "print(x)"
   ]
  },
  {
   "cell_type": "code",
   "execution_count": 55,
   "id": "cbba66fc-26cc-4820-a7cb-8db0a30e6120",
   "metadata": {},
   "outputs": [
    {
     "name": "stdout",
     "output_type": "stream",
     "text": [
      "1\n",
      "2\n",
      "3\n",
      "4\n"
     ]
    }
   ],
   "source": [
    "for n in x:\n",
    "    print(n)"
   ]
  },
  {
   "cell_type": "code",
   "execution_count": 56,
   "id": "cce07c1d-c5bc-4bb6-884a-46e029ba6688",
   "metadata": {},
   "outputs": [
    {
     "name": "stdout",
     "output_type": "stream",
     "text": [
      "(0, 1, 2, 3, 4)\n"
     ]
    }
   ],
   "source": [
    "x = *(n for n in range(5)),\n",
    "print(x)"
   ]
  },
  {
   "cell_type": "code",
   "execution_count": 57,
   "id": "a037e956-34e7-42aa-8f21-f4dd8e4ce863",
   "metadata": {},
   "outputs": [
    {
     "data": {
      "text/plain": [
       "0"
      ]
     },
     "execution_count": 57,
     "metadata": {},
     "output_type": "execute_result"
    }
   ],
   "source": [
    "x = (n for n in range(5))\n",
    "next(x)"
   ]
  },
  {
   "cell_type": "code",
   "execution_count": 58,
   "id": "ac882269-3417-4eac-b604-62288dbaa8d5",
   "metadata": {},
   "outputs": [
    {
     "data": {
      "text/plain": [
       "1"
      ]
     },
     "execution_count": 58,
     "metadata": {},
     "output_type": "execute_result"
    }
   ],
   "source": [
    "next(x)"
   ]
  },
  {
   "cell_type": "code",
   "execution_count": 59,
   "id": "be501d57-b8a9-4c22-8e3c-f5a510c041f2",
   "metadata": {},
   "outputs": [
    {
     "name": "stdout",
     "output_type": "stream",
     "text": [
      "(0, 1, 2, 3, 4)\n"
     ]
    }
   ],
   "source": [
    "x = tuple ([n for n in range(5)])\n",
    "print(x)"
   ]
  },
  {
   "cell_type": "markdown",
   "id": "d8eb7241-7885-4124-957f-0af914f81456",
   "metadata": {},
   "source": [
    "## Nested Tuple (중첩 튜플)"
   ]
  },
  {
   "cell_type": "code",
   "execution_count": 60,
   "id": "834ccf06-2a71-4323-a988-53da52e29ab6",
   "metadata": {},
   "outputs": [
    {
     "data": {
      "text/plain": [
       "((1, 2, 3), (4, 5, 6))"
      ]
     },
     "execution_count": 60,
     "metadata": {},
     "output_type": "execute_result"
    }
   ],
   "source": [
    "tuple_n = ((1,2,3), (4,5,6))\n",
    "tuple_n"
   ]
  },
  {
   "cell_type": "markdown",
   "id": "5a98118b-18a3-476f-a619-8857105e88bd",
   "metadata": {},
   "source": [
    "# 시퀀스 자료형 다루기\n",
    "## 시퀀스 자료형의 원소 접근\n",
    "### 정수 인덱스를 통한 시퀀스 자료형의 원소 접근\n",
    "- index를 통해서 list의 원소에 접근\n",
    "- 앞에서부터 뒤로 가면서 0, 1, 2 · · ·\n",
    "- 뒤에서부터 앞으로 가면서 −1, −2, · · ·\n",
    "\n",
    "lst = ['a', 'b', 'c', 'd', 'e']일 경우"
   ]
  },
  {
   "attachments": {
    "7d8c98e9-c7a1-4eb4-b3b8-b183aab410b3.png": {
     "image/png": "[encoded data removed]"
    }
   },
   "cell_type": "markdown",
   "id": "da0fa7bd-4f23-4014-8a94-be3a5f246fd2",
   "metadata": {},
   "source": [
    "![image.png](attachment:7d8c98e9-c7a1-4eb4-b3b8-b183aab410b3.png)"
   ]
  },
  {
   "cell_type": "code",
   "execution_count": 61,
   "id": "158b6d63-546e-47d2-b32a-6750dc3ccbf8",
   "metadata": {},
   "outputs": [
    {
     "name": "stdout",
     "output_type": "stream",
     "text": [
      "a\n",
      "d\n",
      "f\n"
     ]
    }
   ],
   "source": [
    "l = ['a', 'b', 'c', 'd', 'e', 'f', 'g']\n",
    "print(l[0])\n",
    "print(l[3])\n",
    "print(l[-2])"
   ]
  },
  {
   "cell_type": "markdown",
   "id": "45a236bb-64fb-476a-a4a6-e103d3fc94f2",
   "metadata": {},
   "source": [
    "## 튜플"
   ]
  },
  {
   "cell_type": "code",
   "execution_count": 62,
   "id": "74a31a52-b926-4a04-8c36-6c26476c5c36",
   "metadata": {},
   "outputs": [
    {
     "name": "stdout",
     "output_type": "stream",
     "text": [
      "0\n",
      "6\n",
      "12\n"
     ]
    }
   ],
   "source": [
    "t = (0, 2, 4, 6, 8, 10, 12, 14)\n",
    "print(t[0])\n",
    "print(t[3])\n",
    "print(t[-2])"
   ]
  },
  {
   "cell_type": "markdown",
   "id": "d9c62cdb-cde8-44f6-ba0f-100f462a75f4",
   "metadata": {},
   "source": [
    "## 스트링"
   ]
  },
  {
   "cell_type": "code",
   "execution_count": 63,
   "id": "9299c08a-cdeb-4180-9d7a-f5a915b4e962",
   "metadata": {},
   "outputs": [
    {
     "name": "stdout",
     "output_type": "stream",
     "text": [
      "a\n",
      "d\n",
      "f\n"
     ]
    }
   ],
   "source": [
    "s = \"abcdefg\"\n",
    "print(s[0])\n",
    "print(s[3])\n",
    "print(s[-2])"
   ]
  },
  {
   "cell_type": "markdown",
   "id": "808bcf15-4241-4586-b0c7-919a1783e2ee",
   "metadata": {},
   "source": [
    "## Range"
   ]
  },
  {
   "cell_type": "code",
   "execution_count": 64,
   "id": "fed7786c-e782-4b4d-9aa8-53ea6cb87dbe",
   "metadata": {},
   "outputs": [
    {
     "name": "stdout",
     "output_type": "stream",
     "text": [
      "0\n",
      "3\n",
      "5\n"
     ]
    }
   ],
   "source": [
    "r = range(7)\n",
    "print(r[0])\n",
    "print(r[3])\n",
    "print(r[-2])"
   ]
  },
  {
   "cell_type": "markdown",
   "id": "d55ffcad-af2e-400d-ab3f-d902a917384a",
   "metadata": {},
   "source": [
    "## 인덱스 슬라이싱 통한 시퀀스 자료형의 원소 접근"
   ]
  },
  {
   "cell_type": "code",
   "execution_count": 66,
   "id": "a5d3d64b-cfd5-477c-8d77-dd7b96900b05",
   "metadata": {},
   "outputs": [
    {
     "name": "stdout",
     "output_type": "stream",
     "text": [
      "['b', 'c']\n",
      "(2, 4)\n",
      "bc\n",
      "range(1, 3)\n"
     ]
    }
   ],
   "source": [
    "print(l[1:3]) # 1부터 2까지.\n",
    "print(t[1:3])\n",
    "print(s[1:3])\n",
    "print(r[1:3])"
   ]
  },
  {
   "cell_type": "code",
   "execution_count": 68,
   "id": "cb3e535a-0fba-4175-b7ef-abfe09046fb6",
   "metadata": {},
   "outputs": [
    {
     "name": "stdout",
     "output_type": "stream",
     "text": [
      "['a', 'c', 'e', 'g']\n",
      "(14, 12, 10, 8, 6, 4, 2, 0)\n",
      "geca\n",
      "range(0, 7, 2)\n"
     ]
    }
   ],
   "source": [
    "print(l[::2] )\n",
    "print(t[::-1])\n",
    "print(s[::-2])\n",
    "print(r[::2])"
   ]
  },
  {
   "cell_type": "markdown",
   "id": "91891ad9-438d-4451-a785-9fd0b706af49",
   "metadata": {},
   "source": [
    "## 슬라이스 객체를 이용한 시퀀스 자료형의 원소 접근\n",
    "- slice(stop)\n",
    "- slice(start, stop[, step])"
   ]
  },
  {
   "cell_type": "code",
   "execution_count": 70,
   "id": "d5258184-2f9c-4b14-b082-ee16f9568497",
   "metadata": {},
   "outputs": [
    {
     "name": "stdout",
     "output_type": "stream",
     "text": [
      "['a', 'b', 'c', 'd', 'e', 'f', 'g']\n",
      "['a', 'b', 'c', 'd']\n",
      "['a', 'b', 'c', 'd']\n"
     ]
    }
   ],
   "source": [
    "print(l)\n",
    "print(l[:4])\n",
    "print(l[slice(4)])"
   ]
  },
  {
   "cell_type": "code",
   "execution_count": 72,
   "id": "4347010f-3a14-4175-bf49-4ca321637373",
   "metadata": {},
   "outputs": [
    {
     "name": "stdout",
     "output_type": "stream",
     "text": [
      "['a', 'c', 'e', 'g']\n",
      "(0, 4, 8, 12)\n",
      "aceg\n",
      "range(0, 7, 2)\n"
     ]
    }
   ],
   "source": [
    "idx = slice(0,8,2) # 변수에 할당도 가능.\n",
    "print(l[idx])\n",
    "print(t[idx])\n",
    "12\n",
    "print(s[idx])\n",
    "print(r[idx])"
   ]
  },
  {
   "cell_type": "markdown",
   "id": "111bc1ff-4360-421a-945e-c53f79452cae",
   "metadata": {},
   "source": [
    "## 중첩리스트/튜플의 인덱싱"
   ]
  },
  {
   "cell_type": "code",
   "execution_count": 73,
   "id": "6cc90a3d-a427-4bd3-871f-576fbccceed0",
   "metadata": {},
   "outputs": [
    {
     "data": {
      "text/plain": [
       "[3, 4, 5]"
      ]
     },
     "execution_count": 73,
     "metadata": {},
     "output_type": "execute_result"
    }
   ],
   "source": [
    "a = [[1,2] , [3,4,5]]\n",
    "a[1]"
   ]
  },
  {
   "cell_type": "code",
   "execution_count": 74,
   "id": "d54b5bbc-2767-4362-9ae9-bfec29bddfb3",
   "metadata": {},
   "outputs": [
    {
     "data": {
      "text/plain": [
       "4"
      ]
     },
     "execution_count": 74,
     "metadata": {},
     "output_type": "execute_result"
    }
   ],
   "source": [
    "a[1][1]"
   ]
  },
  {
   "cell_type": "code",
   "execution_count": 77,
   "id": "623d7560-f53a-40b8-b1aa-ba80f877a682",
   "metadata": {},
   "outputs": [
    {
     "name": "stdout",
     "output_type": "stream",
     "text": [
      "[[1, 3, 2], (3, 4, 5), 'abc']\n",
      "abc\n",
      "b\n"
     ]
    }
   ],
   "source": [
    "a = [[1,3,2] , (3,4,5), 'abc']\n",
    "print(a)\n",
    "print(a[2])\n",
    "print(a[2][1])"
   ]
  },
  {
   "cell_type": "markdown",
   "id": "6d9fb6e3-abf6-454d-8291-3d36147f6c8d",
   "metadata": {},
   "source": [
    "### 리스트 원소 변경 및 제거.\n"
   ]
  },
  {
   "cell_type": "code",
   "execution_count": 78,
   "id": "e5785563-601d-400c-965f-fdd66e5c0256",
   "metadata": {},
   "outputs": [
    {
     "data": {
      "text/plain": [
       "[1, 2, 3, 4]"
      ]
     },
     "execution_count": 78,
     "metadata": {},
     "output_type": "execute_result"
    }
   ],
   "source": [
    "a = list(range(1,5))\n",
    "a"
   ]
  },
  {
   "cell_type": "code",
   "execution_count": 79,
   "id": "b3ba5742-b589-4727-a3d4-18f7befbdd60",
   "metadata": {},
   "outputs": [
    {
     "data": {
      "text/plain": [
       "[1, 2, 3, 33]"
      ]
     },
     "execution_count": 79,
     "metadata": {},
     "output_type": "execute_result"
    }
   ],
   "source": [
    "a[3] = 33\n",
    "a"
   ]
  },
  {
   "cell_type": "code",
   "execution_count": 80,
   "id": "8a34d5a4-7dd7-4a3e-b556-6ded052d8d53",
   "metadata": {},
   "outputs": [
    {
     "data": {
      "text/plain": [
       "[1, 2]"
      ]
     },
     "execution_count": 80,
     "metadata": {},
     "output_type": "execute_result"
    }
   ],
   "source": [
    "a[0:2]"
   ]
  },
  {
   "cell_type": "code",
   "execution_count": 81,
   "id": "1eb04e7e-44e2-43a6-b6e1-34e1eda249e1",
   "metadata": {},
   "outputs": [
    {
     "ename": "TypeError",
     "evalue": "can only assign an iterable",
     "output_type": "error",
     "traceback": [
      "\u001b[0;31m---------------------------------------------------------------------------\u001b[0m",
      "\u001b[0;31mTypeError\u001b[0m                                 Traceback (most recent call last)",
      "\u001b[0;32m/var/folders/hp/zz_v74bx3912w8s2fz07537r0000gn/T/ipykernel_93746/3109746312.py\u001b[0m in \u001b[0;36m<module>\u001b[0;34m\u001b[0m\n\u001b[0;32m----> 1\u001b[0;31m \u001b[0ma\u001b[0m\u001b[0;34m[\u001b[0m\u001b[0;36m0\u001b[0m\u001b[0;34m:\u001b[0m\u001b[0;36m2\u001b[0m\u001b[0;34m]\u001b[0m \u001b[0;34m=\u001b[0m \u001b[0;36m3\u001b[0m\u001b[0;34m\u001b[0m\u001b[0;34m\u001b[0m\u001b[0m\n\u001b[0m",
      "\u001b[0;31mTypeError\u001b[0m: can only assign an iterable"
     ]
    }
   ],
   "source": [
    "a[0:2] = 3"
   ]
  },
  {
   "cell_type": "markdown",
   "id": "de16873f-549e-4869-847a-a93d263a141c",
   "metadata": {},
   "source": [
    "### 일부 원소 변경."
   ]
  },
  {
   "cell_type": "code",
   "execution_count": 82,
   "id": "a6ae607b-b9ce-46ef-b8e1-cc69f7ec4ee9",
   "metadata": {},
   "outputs": [
    {
     "data": {
      "text/plain": [
       "[11, 12, 13, 3, 33]"
      ]
     },
     "execution_count": 82,
     "metadata": {},
     "output_type": "execute_result"
    }
   ],
   "source": [
    "a[0:2] = [11,12,13]\n",
    "a"
   ]
  },
  {
   "cell_type": "code",
   "execution_count": 83,
   "id": "3ebbcf1d-a864-492c-add6-692c7070df86",
   "metadata": {},
   "outputs": [
    {
     "data": {
      "text/plain": [
       "[11, 12, 13, 13, 3, 33]"
      ]
     },
     "execution_count": 83,
     "metadata": {},
     "output_type": "execute_result"
    }
   ],
   "source": [
    "a[0:2] = (11,12,13)\n",
    "a"
   ]
  },
  {
   "cell_type": "markdown",
   "id": "51ce074e-7261-499f-be34-d5a3eaa261c2",
   "metadata": {},
   "source": [
    "### 일부 원소 제거"
   ]
  },
  {
   "cell_type": "code",
   "execution_count": 84,
   "id": "d7be8325-d759-4400-afa6-a2f7ab875a8a",
   "metadata": {},
   "outputs": [
    {
     "data": {
      "text/plain": [
       "[13, 13, 3, 33]"
      ]
     },
     "execution_count": 84,
     "metadata": {},
     "output_type": "execute_result"
    }
   ],
   "source": [
    "a[0:2] = []\n",
    "a"
   ]
  },
  {
   "cell_type": "code",
   "execution_count": 85,
   "id": "58fe341c-09c5-4197-a538-0c8b08e7c205",
   "metadata": {},
   "outputs": [
    {
     "data": {
      "text/plain": [
       "[13, 31, 32, 13, 3, 33]"
      ]
     },
     "execution_count": 85,
     "metadata": {},
     "output_type": "execute_result"
    }
   ],
   "source": [
    "a[1:1] = [31,32]\n",
    "a"
   ]
  },
  {
   "cell_type": "code",
   "execution_count": 87,
   "id": "176b7874-f904-43a0-b139-3d0b21e34418",
   "metadata": {},
   "outputs": [
    {
     "data": {
      "text/plain": [
       "[13, 31, 3, 33]"
      ]
     },
     "execution_count": 87,
     "metadata": {},
     "output_type": "execute_result"
    }
   ],
   "source": [
    "del a[2]\n",
    "a #원소 삭제"
   ]
  },
  {
   "cell_type": "code",
   "execution_count": 89,
   "id": "088a1dfa-4312-4023-935d-91e615745a9e",
   "metadata": {},
   "outputs": [
    {
     "data": {
      "text/plain": [
       "[]"
      ]
     },
     "execution_count": 89,
     "metadata": {},
     "output_type": "execute_result"
    }
   ],
   "source": [
    "a[:] = []\n",
    "a"
   ]
  },
  {
   "cell_type": "code",
   "execution_count": 90,
   "id": "969a84a5-6f52-4f04-8f0f-e33233bc9581",
   "metadata": {},
   "outputs": [
    {
     "data": {
      "text/plain": [
       "[]"
      ]
     },
     "execution_count": 90,
     "metadata": {},
     "output_type": "execute_result"
    }
   ],
   "source": [
    "a = [1,3,5] \n",
    "a = []\n",
    "a"
   ]
  },
  {
   "cell_type": "code",
   "execution_count": 91,
   "id": "1f3579af-7819-432d-af35-d821b7718f85",
   "metadata": {},
   "outputs": [
    {
     "name": "stdout",
     "output_type": "stream",
     "text": [
      "140576024506944\n",
      "140576024506944\n"
     ]
    }
   ],
   "source": [
    "a = [1, 3]\n",
    "print(id(a))\n",
    "a[:] = []\n",
    "print(id(a))"
   ]
  },
  {
   "cell_type": "markdown",
   "id": "7c389a7c-f6e8-4e2e-89f3-1610c0a93ea1",
   "metadata": {},
   "source": [
    "## 시퀀스 자료형의 연산\n",
    "\n",
    "- +, * 연산자를 이용한 이어붙이기 (concatenation)"
   ]
  },
  {
   "cell_type": "code",
   "execution_count": 92,
   "id": "1ccb0b98-4191-4639-9329-a61df1b084dc",
   "metadata": {},
   "outputs": [
    {
     "data": {
      "text/plain": [
       "[1, 2, 10, 11]"
      ]
     },
     "execution_count": 92,
     "metadata": {},
     "output_type": "execute_result"
    }
   ],
   "source": [
    "a = [1,2]\n",
    "b = [10, 11]\n",
    "a +b"
   ]
  },
  {
   "cell_type": "code",
   "execution_count": 93,
   "id": "d8dcb151-b481-44f5-bf27-8462d79d3461",
   "metadata": {},
   "outputs": [
    {
     "data": {
      "text/plain": [
       "(1, 2, 1, 2, 1, 2)"
      ]
     },
     "execution_count": 93,
     "metadata": {},
     "output_type": "execute_result"
    }
   ],
   "source": [
    "c = (1,2)\n",
    "d = c * 3\n",
    "d"
   ]
  },
  {
   "cell_type": "code",
   "execution_count": 94,
   "id": "b53786bd-7fd2-4969-8663-2e42a563c620",
   "metadata": {},
   "outputs": [
    {
     "data": {
      "text/plain": [
       "'abcabc'"
      ]
     },
     "execution_count": 94,
     "metadata": {},
     "output_type": "execute_result"
    }
   ],
   "source": [
    "s = \"abc\"\n",
    "b = s+s\n",
    "b"
   ]
  },
  {
   "cell_type": "code",
   "execution_count": 95,
   "id": "c9840836-db31-4762-b17c-225c82a38aff",
   "metadata": {},
   "outputs": [
    {
     "data": {
      "text/plain": [
       "'abcabcabcabcabc'"
      ]
     },
     "execution_count": 95,
     "metadata": {},
     "output_type": "execute_result"
    }
   ],
   "source": [
    "5*s"
   ]
  },
  {
   "cell_type": "markdown",
   "id": "d34e9f06-84e6-4b58-a6cd-2fb954ba75ec",
   "metadata": {},
   "source": [
    "## 시퀀스 자료형의 멤버쉽 확인"
   ]
  },
  {
   "cell_type": "code",
   "execution_count": 96,
   "id": "003b618f-a7b5-43d1-9e3d-e9596fcdc175",
   "metadata": {},
   "outputs": [],
   "source": [
    "l = ['a', 'b', 'c', 'd', 'e', 'f', 'g']\n",
    "t = (0, 2, 4, 6, 8, 10, 12, 14)\n",
    "s = \"abcdefg\"\n",
    "r = range(7)"
   ]
  },
  {
   "cell_type": "code",
   "execution_count": 97,
   "id": "df868bc2-7909-4dd2-a2ef-3fa3aed8be38",
   "metadata": {},
   "outputs": [
    {
     "data": {
      "text/plain": [
       "True"
      ]
     },
     "execution_count": 97,
     "metadata": {},
     "output_type": "execute_result"
    }
   ],
   "source": [
    "'a' in l"
   ]
  },
  {
   "cell_type": "code",
   "execution_count": 98,
   "id": "0ca1737c-af35-4802-a602-c2f797ce4afc",
   "metadata": {},
   "outputs": [
    {
     "data": {
      "text/plain": [
       "True"
      ]
     },
     "execution_count": 98,
     "metadata": {},
     "output_type": "execute_result"
    }
   ],
   "source": [
    "'b' not in t"
   ]
  },
  {
   "cell_type": "code",
   "execution_count": 102,
   "id": "941a016a-a6f8-4db0-ae91-ac9e64beeec6",
   "metadata": {},
   "outputs": [
    {
     "data": {
      "text/plain": [
       "True"
      ]
     },
     "execution_count": 102,
     "metadata": {},
     "output_type": "execute_result"
    }
   ],
   "source": [
    "'cd' in s"
   ]
  },
  {
   "cell_type": "code",
   "execution_count": 104,
   "id": "66cd6c9f-b55b-433a-bef3-2ca546402000",
   "metadata": {},
   "outputs": [
    {
     "data": {
      "text/plain": [
       "(False, False)"
      ]
     },
     "execution_count": 104,
     "metadata": {},
     "output_type": "execute_result"
    }
   ],
   "source": [
    "'ce' in s, 'dc' in s"
   ]
  },
  {
   "cell_type": "code",
   "execution_count": 105,
   "id": "7225c33e-3ca3-4e4d-8281-6d5bd36a5faf",
   "metadata": {},
   "outputs": [
    {
     "data": {
      "text/plain": [
       "True"
      ]
     },
     "execution_count": 105,
     "metadata": {},
     "output_type": "execute_result"
    }
   ],
   "source": [
    "8 not in r"
   ]
  }
 ],
 "metadata": {
  "kernelspec": {
   "display_name": "Python 3 (ipykernel)",
   "language": "python",
   "name": "python3"
  },
  "language_info": {
   "codemirror_mode": {
    "name": "ipython",
    "version": 3
   },
   "file_extension": ".py",
   "mimetype": "text/x-python",
   "name": "python",
   "nbconvert_exporter": "python",
   "pygments_lexer": "ipython3",
   "version": "3.9.7"
  }
 },
 "nbformat": 4,
 "nbformat_minor": 5
}
