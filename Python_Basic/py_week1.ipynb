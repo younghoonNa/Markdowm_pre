{
 "cells": [
  {
   "cell_type": "code",
   "execution_count": 1,
   "id": "1f7bc1af-5281-45ea-afd7-4d6b9ab1177e",
   "metadata": {},
   "outputs": [
    {
     "data": {
      "text/plain": [
       "11"
      ]
     },
     "execution_count": 1,
     "metadata": {},
     "output_type": "execute_result"
    }
   ],
   "source": [
    "3+4*2"
   ]
  },
  {
   "cell_type": "code",
   "execution_count": 3,
   "id": "cca6a886-d2bd-4b7d-b934-d9e5243160ed",
   "metadata": {},
   "outputs": [
    {
     "name": "stdout",
     "output_type": "stream",
     "text": [
      "0\n",
      "2\n",
      "4\n",
      "6\n",
      "8\n"
     ]
    }
   ],
   "source": [
    "for i in range(5):\n",
    "    print(2*i)"
   ]
  },
  {
   "cell_type": "code",
   "execution_count": 5,
   "id": "948e6cf5-6445-48c9-9b17-f5b117da51d6",
   "metadata": {},
   "outputs": [
    {
     "data": {
      "text/plain": [
       "[<matplotlib.lines.Line2D at 0x7f82b0209fa0>]"
      ]
     },
     "execution_count": 5,
     "metadata": {},
     "output_type": "execute_result"
    },
    {
     "data": {
      "image/png": "[encoded data removed]",
      "text/plain": [
       "<Figure size 432x288 with 1 Axes>"
      ]
     },
     "metadata": {
      "needs_background": "light"
     },
     "output_type": "display_data"
    }
   ],
   "source": [
    "import numpy as np\n",
    "import matplotlib.pyplot as plt\n",
    "\n",
    "t = np.linspace(0, 4*np.pi, 101)\n",
    "x = np.sin(t + np.pi/3)\n",
    "\n",
    "plt.plot(t , x)\n"
   ]
  },
  {
   "cell_type": "markdown",
   "id": "9da6b977-ce73-4525-940a-a55f0a9af969",
   "metadata": {},
   "source": [
    "# MarkDown\n",
    "## heading 2\n",
    "\n",
    "- 수식을 표현할 때는 LaTex 수식 문법을 이용합니다.\n",
    "- 위에 있는 그래프의 식은 다음과 같습니다.\n",
    "\n",
    "$$ x(t) = \\sin\\left(t + \\frac {\\pi}{3}\\right) , \\;\\; \\le t \\le 4\\pi$$"
   ]
  },
  {
   "cell_type": "raw",
   "id": "ea025a16-5158-4278-9b90-9b7ab6c5fa1f",
   "metadata": {},
   "source": [
    "import numpy as np\n",
    "import matplotlib.pyplot as plt\n",
    "\n",
    "t = np.linspace(0, 4*np.pi, 101)\n",
    "x = np.sin(t + np.pi/3)\n",
    "\n",
    "plt.plot(t , x)\n",
    "\n",
    "\n",
    "# raw는 수정하고 실행해도 아무런 변화가 없음."
   ]
  },
  {
   "cell_type": "markdown",
   "id": "e5f13da6-d68c-47c2-89c8-5dc4e408b155",
   "metadata": {},
   "source": [
    "# Markdown에서 수식 사용하기.\n",
    "\n",
    "- 그리스어 알파벳\n",
    "\n",
    "### 그리스어 알파벳 소문자\n",
    "$ \\alpha, \\beta, \\gamma, \\delta, \\epsilon, \\eta, \\theta, \\iota, \\kappa, \\lambda, \\mu, \\nu, \\xi, \\omicron, \\pi,\n",
    "\\rho, \\tau, \\upsilon, \\phi, \\chi, \\psi, \\omega$\n",
    "\n",
    "## 사용법\n",
    "\\alpha, \\beta, \\gamma, \\delta, \\epsilon, \\eta, \\theta, \\iota, \\kappa, \\lambda, \\mu, \\nu, \\xi, \\omicron, \\pi,\n",
    "\\rho, \\tau, \\upsilon, \\phi, \\chi, \\psi, \\omega\n",
    "\n",
    "\n",
    "### 그리스어 알파벳 대문자  (빨간 글씨는 안되는 친구들)\n",
    "$\\Alpha, \\Beta, \\Gamma, \\Delta, \\Epsilon, \\Eta, \\Theta, \\Iota, \\Kappa, \\Lambda, \\Mu, \\Nu, \\Xi, \\Omicron, \\Pi,\n",
    "\\Rho, \\Tau, \\Upsilon, \\Phi, \\Chi, \\Psi, \\Omega$"
   ]
  },
  {
   "cell_type": "markdown",
   "id": "58c35d42-b35c-4ab2-9482-bfab10484ad8",
   "metadata": {},
   "source": [
    "## 선형 회기 \n",
    "\n",
    "$$ \\hat{y} = \\theta_0 + \\theta_1 x + 1 $$"
   ]
  },
  {
   "cell_type": "markdown",
   "id": "e6131145-fb46-4211-88ff-110be900e785",
   "metadata": {},
   "source": [
    "### Mse\n",
    "\n",
    "MSE = $ \\displaystyle \\frac {1}{n} \\sum_ {i=1}^{n} \\left(y - \\hat{y}\\right)^2 $"
   ]
  },
  {
   "cell_type": "code",
   "execution_count": 12,
   "id": "c4822ec9-0c37-4527-a328-edd9a5111ed7",
   "metadata": {},
   "outputs": [],
   "source": [
    "# MSE = $ \\displaystyle \\frac {1}{n} \\sum_ {i=1}^{n} \\left(y - \\hat{y}\\right)^2 $"
   ]
  },
  {
   "cell_type": "markdown",
   "id": "3b95dc5a-f8be-4de4-8845-710aec65575d",
   "metadata": {},
   "source": [
    "### Logistic regression cost function\n",
    "\n",
    "$$ J(\\Theta) = -\\frac{1}{m} \\sum_{i=1}^m y^i \\log({\\hat{y}}^i) + (1-y^i) \\log(1 - \\hat{y}) $$"
   ]
  },
  {
   "cell_type": "code",
   "execution_count": 1,
   "id": "89c88534-933b-4bc6-b270-51381f196dfb",
   "metadata": {},
   "outputs": [],
   "source": [
    "# $$ J(\\Theta) = -\\frac{1}{m} \\sum_{i=1}^m y^i \\log({\\hat{y}}^i) + (1-y^i) \\log(1 - \\hat{y}) $$"
   ]
  },
  {
   "cell_type": "code",
   "execution_count": null,
   "id": "79800604-cc9a-430f-88bb-1d06d421c961",
   "metadata": {},
   "outputs": [],
   "source": []
  }
 ],
 "metadata": {
  "kernelspec": {
   "display_name": "Python 3 (ipykernel)",
   "language": "python",
   "name": "python3"
  },
  "language_info": {
   "codemirror_mode": {
    "name": "ipython",
    "version": 3
   },
   "file_extension": ".py",
   "mimetype": "text/x-python",
   "name": "python",
   "nbconvert_exporter": "python",
   "pygments_lexer": "ipython3",
   "version": "3.9.7"
  }
 },
 "nbformat": 4,
 "nbformat_minor": 5
}
