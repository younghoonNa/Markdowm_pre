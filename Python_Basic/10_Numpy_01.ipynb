{
 "cells": [
  {
   "cell_type": "markdown",
   "id": "727e629b-6e68-46ee-a960-d1d798e69bc2",
   "metadata": {},
   "source": [
    "# Numpy 다차원 배열 변수의 Assignment, Shallow Copy, Deep Copy"
   ]
  },
  {
   "cell_type": "markdown",
   "id": "e9182ae7-2929-4b11-818f-5824a46b7722",
   "metadata": {},
   "source": [
    "## Numpy 다차원 배열 변수의 Assignment"
   ]
  },
  {
   "cell_type": "code",
   "execution_count": 1,
   "id": "d11a4d7c-40b6-444a-8ba8-4c1834de94dc",
   "metadata": {},
   "outputs": [
    {
     "name": "stdout",
     "output_type": "stream",
     "text": [
      "3104189388720 3104189388720\n"
     ]
    }
   ],
   "source": [
    "import numpy as np\n",
    "\n",
    "x = np.arange(5)\n",
    "y = x\n",
    "print(id(x), id(y))"
   ]
  },
  {
   "cell_type": "code",
   "execution_count": 2,
   "id": "0879a216-3945-4de6-bf26-fe8a53fdffc3",
   "metadata": {},
   "outputs": [
    {
     "name": "stdout",
     "output_type": "stream",
     "text": [
      "x =  [0 1 2 3 4]\n",
      "y =  [0 1 2 3 4]\n",
      "x =  [ 0  1  2 10  4]\n",
      "y =  [ 0  1  2 10  4]\n"
     ]
    }
   ],
   "source": [
    "print(\"x = \", x)\n",
    "print(\"y = \", y)\n",
    "x[3] = 10\n",
    "print(\"x = \", x)\n",
    "print(\"y = \", y)"
   ]
  },
  {
   "cell_type": "markdown",
   "id": "09100b35-4698-43a6-9174-8b5367b3faed",
   "metadata": {},
   "source": [
    "## Numpy 다차원 배열 변수의 View는 Shallow copy"
   ]
  },
  {
   "cell_type": "code",
   "execution_count": 3,
   "id": "1b7e096c-38c6-4561-9d0b-1bfe466217a4",
   "metadata": {},
   "outputs": [
    {
     "name": "stdout",
     "output_type": "stream",
     "text": [
      "x =  [0 1 2 3 4]\n",
      "y =  [1 2 3]\n",
      "3104211137712 3104190116752\n"
     ]
    }
   ],
   "source": [
    "x = np.arange(5)\n",
    "print(\"x = \", x)\n",
    "y = x[1:4]\n",
    "print(\"y = \", y)\n",
    "print(id(x), id(y))"
   ]
  },
  {
   "cell_type": "code",
   "execution_count": 4,
   "id": "59fbd257-0463-4926-8a5c-7db1515432c9",
   "metadata": {},
   "outputs": [
    {
     "name": "stdout",
     "output_type": "stream",
     "text": [
      "y =  [ 1 10  3]\n",
      "x =  [ 0  1 10  3  4]\n"
     ]
    }
   ],
   "source": [
    "y[1] = 10\n",
    "print(\"y = \", y)\n",
    "print(\"x = \", x)"
   ]
  },
  {
   "cell_type": "markdown",
   "id": "5706826d-1a8e-4a87-83f7-a8dcffeffdcc",
   "metadata": {},
   "source": [
    "####  -> 이런 현상이 나타나는 이유는 x의 일부 원소와 바인딩 되어 만들어진 변수 y는 x의 변수를 공유하기 때문에 위와 같은 현상 발생"
   ]
  },
  {
   "cell_type": "code",
   "execution_count": 7,
   "id": "da2375fe-42b8-4b48-8914-5bc0bdc54a09",
   "metadata": {},
   "outputs": [
    {
     "name": "stdout",
     "output_type": "stream",
     "text": [
      "y =  [ 1 10 20]\n",
      "x =  [ 0  1 10 20  4]\n"
     ]
    }
   ],
   "source": [
    "x[3] = 20\n",
    "print(\"y = \", y)\n",
    "print(\"x = \", x)"
   ]
  },
  {
   "cell_type": "markdown",
   "id": "e83a666a-4732-4b05-ab39-d164ed178f75",
   "metadata": {},
   "source": [
    "### 어느 ndarray가 다른 원소를 공유하는 부분을 view라고 함."
   ]
  },
  {
   "cell_type": "code",
   "execution_count": 9,
   "id": "af494b28-a1ac-4bc4-b830-0c0087f12da7",
   "metadata": {},
   "outputs": [
    {
     "name": "stdout",
     "output_type": "stream",
     "text": [
      "[ 0  1 10 20  4]\n",
      "[ 0  1 10 20  4]\n"
     ]
    }
   ],
   "source": [
    "xx = x.view()\n",
    "print(x)\n",
    "print(xx)"
   ]
  },
  {
   "cell_type": "code",
   "execution_count": 10,
   "id": "eca74403-0fd8-4cc8-8aa2-2e9bc0f9d2cc",
   "metadata": {},
   "outputs": [
    {
     "name": "stdout",
     "output_type": "stream",
     "text": [
      "3104211137712 3104211139632\n"
     ]
    }
   ],
   "source": [
    "print(id(x), id(xx))"
   ]
  },
  {
   "cell_type": "code",
   "execution_count": 11,
   "id": "bee791bb-0480-4fa9-8b21-79a69632e256",
   "metadata": {},
   "outputs": [
    {
     "name": "stdout",
     "output_type": "stream",
     "text": [
      "x =  [ 0  1 10 30  4]\n",
      "xx =  [ 0  1 10 30  4]\n"
     ]
    }
   ],
   "source": [
    "x[3] = 30\n",
    "print(\"x = \", x)\n",
    "print(\"xx = \", xx)"
   ]
  },
  {
   "cell_type": "code",
   "execution_count": 12,
   "id": "3642aace-1568-436e-9bc7-8a24d080a3ae",
   "metadata": {},
   "outputs": [
    {
     "data": {
      "text/plain": [
       "array([[[ 0,  1,  2,  3],\n",
       "        [ 4,  5,  6,  7],\n",
       "        [ 8,  9, 10, 11]],\n",
       "\n",
       "       [[12, 13, 14, 15],\n",
       "        [16, 17, 18, 19],\n",
       "        [20, 21, 22, 23]]])"
      ]
     },
     "execution_count": 12,
     "metadata": {},
     "output_type": "execute_result"
    }
   ],
   "source": [
    "a = np.arange(24).reshape(2,3,4)\n",
    "a"
   ]
  },
  {
   "cell_type": "code",
   "execution_count": 13,
   "id": "09939ab3-ae0e-4ae6-9a25-b7d78a91dd93",
   "metadata": {},
   "outputs": [
    {
     "name": "stdout",
     "output_type": "stream",
     "text": [
      "(2, 3, 2)\n"
     ]
    },
    {
     "data": {
      "text/plain": [
       "array([[[ 0,  2],\n",
       "        [ 4,  6],\n",
       "        [ 8, 10]],\n",
       "\n",
       "       [[12, 14],\n",
       "        [16, 18],\n",
       "        [20, 22]]])"
      ]
     },
     "execution_count": 13,
     "metadata": {},
     "output_type": "execute_result"
    }
   ],
   "source": [
    "b = a[:, :, ::2]\n",
    "print(b.shape)\n",
    "b"
   ]
  },
  {
   "cell_type": "code",
   "execution_count": 14,
   "id": "2bd37f0a-fb25-48f1-843c-796b01b77158",
   "metadata": {},
   "outputs": [
    {
     "data": {
      "text/plain": [
       "array([[[ 0,  2],\n",
       "        [ 4,  6],\n",
       "        [88, 10]],\n",
       "\n",
       "       [[12, 14],\n",
       "        [16, 18],\n",
       "        [20, 22]]])"
      ]
     },
     "execution_count": 14,
     "metadata": {},
     "output_type": "execute_result"
    }
   ],
   "source": [
    "b[0,2,0] = 88\n",
    "b"
   ]
  },
  {
   "cell_type": "code",
   "execution_count": 15,
   "id": "9aec984e-52d1-4aff-bd10-587b0ea6b741",
   "metadata": {},
   "outputs": [
    {
     "data": {
      "text/plain": [
       "array([[[ 0,  1,  2,  3],\n",
       "        [ 4,  5,  6,  7],\n",
       "        [88,  9, 10, 11]],\n",
       "\n",
       "       [[12, 13, 14, 15],\n",
       "        [16, 17, 18, 19],\n",
       "        [20, 21, 22, 23]]])"
      ]
     },
     "execution_count": 15,
     "metadata": {},
     "output_type": "execute_result"
    }
   ],
   "source": [
    "a"
   ]
  },
  {
   "cell_type": "code",
   "execution_count": 16,
   "id": "e6b9f28a-0511-4b93-9868-39a72e91f12c",
   "metadata": {},
   "outputs": [
    {
     "data": {
      "text/plain": [
       "array([[[  0,   1,   2,   3],\n",
       "        [  4,   5,   6,   7],\n",
       "        [ 88,   9,  10,  11]],\n",
       "\n",
       "       [[ 12,  13,  14,  15],\n",
       "        [ 16,  17,  18,  19],\n",
       "        [ 20,  21, 220,  23]]])"
      ]
     },
     "execution_count": 16,
     "metadata": {},
     "output_type": "execute_result"
    }
   ],
   "source": [
    "a[1,2,2] = 220\n",
    "a"
   ]
  },
  {
   "cell_type": "code",
   "execution_count": 17,
   "id": "bc202638-c53e-4d92-9bb3-371b03a5aa87",
   "metadata": {},
   "outputs": [
    {
     "data": {
      "text/plain": [
       "array([[[  0,   2],\n",
       "        [  4,   6],\n",
       "        [ 88,  10]],\n",
       "\n",
       "       [[ 12,  14],\n",
       "        [ 16,  18],\n",
       "        [ 20, 220]]])"
      ]
     },
     "execution_count": 17,
     "metadata": {},
     "output_type": "execute_result"
    }
   ],
   "source": [
    "b"
   ]
  },
  {
   "cell_type": "markdown",
   "id": "771d9a5e-0dc0-4a31-bca4-ddca4265c5e5",
   "metadata": {},
   "source": [
    "## Numpy 다차원 배열 변수의 Deep Copy : ndarray.copy"
   ]
  },
  {
   "cell_type": "code",
   "execution_count": 18,
   "id": "a05a72b4-fdad-4420-b067-e51cd3539d63",
   "metadata": {},
   "outputs": [
    {
     "name": "stdout",
     "output_type": "stream",
     "text": [
      "x =  [0 1 2 3]\n",
      "y =  [0 1 2 3]\n",
      "z =  [0 1 2 3]\n",
      "3104211140208 3104211139824 3104190116752\n"
     ]
    }
   ],
   "source": [
    "import numpy as np\n",
    "x = np.arange(4)\n",
    "y = np.copy(x)\n",
    "z = x.copy()\n",
    "print(\"x = \", x)\n",
    "print(\"y = \", y)\n",
    "print(\"z = \", z)\n",
    "\n",
    "print(id(x), id(y), id(z))"
   ]
  },
  {
   "cell_type": "code",
   "execution_count": 20,
   "id": "df73fd75-1106-4737-a6df-cc40893c555f",
   "metadata": {},
   "outputs": [
    {
     "name": "stdout",
     "output_type": "stream",
     "text": [
      "x =  [ 0 10  2  3]\n",
      "y =  [0 1 2 3]\n",
      "z =  [0 1 2 3]\n"
     ]
    }
   ],
   "source": [
    "# 모두 Deep copy이기 때문에 독립된 객체임.\n",
    "x[1] = 10\n",
    "print(\"x = \", x)\n",
    "print(\"y = \", y)\n",
    "print(\"z = \", z)"
   ]
  },
  {
   "cell_type": "markdown",
   "id": "1105178a-9f2d-4cf1-82af-392ff03623f7",
   "metadata": {},
   "source": [
    "# Numpy 다차원 배열의 재구성"
   ]
  },
  {
   "cell_type": "markdown",
   "id": "c150d69a-cfe8-4a0e-a82a-73a543e0e409",
   "metadata": {},
   "source": [
    "## Numpy 다차원 배열의 shape 변경"
   ]
  },
  {
   "cell_type": "code",
   "execution_count": 21,
   "id": "cc17cf98-84a9-431b-85ea-a3bcd0282690",
   "metadata": {},
   "outputs": [
    {
     "data": {
      "text/plain": [
       "array([[0, 1, 2],\n",
       "       [3, 4, 5]])"
      ]
     },
     "execution_count": 21,
     "metadata": {},
     "output_type": "execute_result"
    }
   ],
   "source": [
    "np.arange(6).reshape(2,3)"
   ]
  },
  {
   "cell_type": "code",
   "execution_count": 22,
   "id": "2b4268fa-3ecb-45d5-b1ed-04cc9dc74219",
   "metadata": {},
   "outputs": [
    {
     "data": {
      "text/plain": [
       "array([[0, 1, 2],\n",
       "       [3, 4, 5]])"
      ]
     },
     "execution_count": 22,
     "metadata": {},
     "output_type": "execute_result"
    }
   ],
   "source": [
    "np.arange(6).reshape(2,-1)"
   ]
  },
  {
   "cell_type": "code",
   "execution_count": 23,
   "id": "20269d63-5488-45fa-9e80-24fe153bbd6d",
   "metadata": {},
   "outputs": [
    {
     "data": {
      "text/plain": [
       "array([[0, 1, 2],\n",
       "       [3, 4, 5]])"
      ]
     },
     "execution_count": 23,
     "metadata": {},
     "output_type": "execute_result"
    }
   ],
   "source": [
    "np.arange(6).reshape(-1, 3)"
   ]
  },
  {
   "cell_type": "code",
   "execution_count": 24,
   "id": "0f9bf6dc-4f8e-4626-ae7d-97e88ac178be",
   "metadata": {},
   "outputs": [
    {
     "data": {
      "text/plain": [
       "array([[[ 0,  1,  2,  3],\n",
       "        [ 4,  5,  6,  7]],\n",
       "\n",
       "       [[ 8,  9, 10, 11],\n",
       "        [12, 13, 14, 15]],\n",
       "\n",
       "       [[16, 17, 18, 19],\n",
       "        [20, 21, 22, 23]]])"
      ]
     },
     "execution_count": 24,
     "metadata": {},
     "output_type": "execute_result"
    }
   ],
   "source": [
    "np.arange(24).reshape(3,2,4)"
   ]
  },
  {
   "cell_type": "code",
   "execution_count": 25,
   "id": "c57bd037-8f45-4f85-afa4-1794ef35c69c",
   "metadata": {},
   "outputs": [
    {
     "data": {
      "text/plain": [
       "array([[[ 0,  1,  2,  3],\n",
       "        [ 4,  5,  6,  7]],\n",
       "\n",
       "       [[ 8,  9, 10, 11],\n",
       "        [12, 13, 14, 15]],\n",
       "\n",
       "       [[16, 17, 18, 19],\n",
       "        [20, 21, 22, 23]]])"
      ]
     },
     "execution_count": 25,
     "metadata": {},
     "output_type": "execute_result"
    }
   ],
   "source": [
    "np.arange(24).reshape(3,2,-1)"
   ]
  },
  {
   "cell_type": "code",
   "execution_count": 26,
   "id": "00d0a045-6895-419e-a886-775eac0f4ac6",
   "metadata": {},
   "outputs": [
    {
     "data": {
      "text/plain": [
       "array([[[ 0,  1,  2,  3],\n",
       "        [ 4,  5,  6,  7]],\n",
       "\n",
       "       [[ 8,  9, 10, 11],\n",
       "        [12, 13, 14, 15]],\n",
       "\n",
       "       [[16, 17, 18, 19],\n",
       "        [20, 21, 22, 23]]])"
      ]
     },
     "execution_count": 26,
     "metadata": {},
     "output_type": "execute_result"
    }
   ],
   "source": [
    "np.arange(24).reshape(3,-1, 4)"
   ]
  },
  {
   "cell_type": "code",
   "execution_count": 27,
   "id": "7ad559ee-a0ff-49d3-9597-f323df7cd01d",
   "metadata": {},
   "outputs": [
    {
     "data": {
      "text/plain": [
       "array([[[ 0,  1,  2,  3],\n",
       "        [ 4,  5,  6,  7]],\n",
       "\n",
       "       [[ 8,  9, 10, 11],\n",
       "        [12, 13, 14, 15]],\n",
       "\n",
       "       [[16, 17, 18, 19],\n",
       "        [20, 21, 22, 23]]])"
      ]
     },
     "execution_count": 27,
     "metadata": {},
     "output_type": "execute_result"
    }
   ],
   "source": [
    "np.arange(24).reshape(-1,2,4)"
   ]
  },
  {
   "cell_type": "markdown",
   "id": "7ead3999-f421-405a-bf0d-54a4b3eb158a",
   "metadata": {},
   "source": [
    "## Numpy 다차원 배열의 shape 변경"
   ]
  },
  {
   "cell_type": "code",
   "execution_count": 28,
   "id": "9305c00f-1bcb-4255-bb9e-42e7dd7f5f74",
   "metadata": {},
   "outputs": [
    {
     "data": {
      "text/plain": [
       "array([0, 1, 2, 3, 4, 5])"
      ]
     },
     "execution_count": 28,
     "metadata": {},
     "output_type": "execute_result"
    }
   ],
   "source": [
    "a = np.arange(6).reshape(2,3)\n",
    "a.reshape(6)"
   ]
  },
  {
   "cell_type": "code",
   "execution_count": 29,
   "id": "2c19a101-7172-410b-a9c6-c90d33f1b2dc",
   "metadata": {},
   "outputs": [],
   "source": [
    "a = np.arange(6).reshape(2,3)"
   ]
  },
  {
   "cell_type": "code",
   "execution_count": 30,
   "id": "ee3fcca2-acba-46a2-9b78-4f9a882606f0",
   "metadata": {},
   "outputs": [
    {
     "data": {
      "text/plain": [
       "array([0, 1, 2, 3, 4, 5])"
      ]
     },
     "execution_count": 30,
     "metadata": {},
     "output_type": "execute_result"
    }
   ],
   "source": [
    "a.reshape(6,)"
   ]
  },
  {
   "cell_type": "code",
   "execution_count": 31,
   "id": "2b17983a-7268-4fdd-a988-754cb478b2c4",
   "metadata": {},
   "outputs": [
    {
     "data": {
      "text/plain": [
       "array([0, 1, 2, 3, 4, 5])"
      ]
     },
     "execution_count": 31,
     "metadata": {},
     "output_type": "execute_result"
    }
   ],
   "source": [
    "a = np.arange(6).reshape(2,3)\n",
    "a.reshape(-1)"
   ]
  },
  {
   "cell_type": "code",
   "execution_count": 32,
   "id": "aec06bb6-0f9b-4ade-9c1f-18493c009a0d",
   "metadata": {},
   "outputs": [
    {
     "data": {
      "text/plain": [
       "array([0, 1, 2, 3, 4, 5])"
      ]
     },
     "execution_count": 32,
     "metadata": {},
     "output_type": "execute_result"
    }
   ],
   "source": [
    "a = np.arange(6).reshape(2,3)\n",
    "a.reshape(-1,)"
   ]
  },
  {
   "cell_type": "code",
   "execution_count": 33,
   "id": "9c2dd8be-0cc3-4727-9fc1-8eb26bed1851",
   "metadata": {},
   "outputs": [
    {
     "data": {
      "text/plain": [
       "array([ 0,  1,  2,  3,  4,  5,  6,  7,  8,  9, 10, 11, 12, 13, 14, 15, 16,\n",
       "       17, 18, 19, 20, 21, 22, 23])"
      ]
     },
     "execution_count": 33,
     "metadata": {},
     "output_type": "execute_result"
    }
   ],
   "source": [
    "a = np.arange(24).reshape(3,2,4)\n",
    "a.reshape(-1)"
   ]
  },
  {
   "cell_type": "code",
   "execution_count": 35,
   "id": "e4247e62-cfd8-465e-8d02-845415a669d8",
   "metadata": {},
   "outputs": [
    {
     "data": {
      "text/plain": [
       "array([[ 0,  1,  2,  3,  4,  5],\n",
       "       [ 6,  7,  8,  9, 10, 11],\n",
       "       [12, 13, 14, 15, 16, 17],\n",
       "       [18, 19, 20, 21, 22, 23]])"
      ]
     },
     "execution_count": 35,
     "metadata": {},
     "output_type": "execute_result"
    }
   ],
   "source": [
    "a = np.arange(24).reshape(3,2,4)\n",
    "a.reshape(-1,6)"
   ]
  },
  {
   "cell_type": "code",
   "execution_count": 36,
   "id": "e6d542c0-a3f6-4d64-b6dc-3b7c935ecaf5",
   "metadata": {},
   "outputs": [
    {
     "data": {
      "text/plain": [
       "array([[[ 0,  1],\n",
       "        [ 2,  3],\n",
       "        [ 4,  5]],\n",
       "\n",
       "       [[ 6,  7],\n",
       "        [ 8,  9],\n",
       "        [10, 11]],\n",
       "\n",
       "       [[12, 13],\n",
       "        [14, 15],\n",
       "        [16, 17]],\n",
       "\n",
       "       [[18, 19],\n",
       "        [20, 21],\n",
       "        [22, 23]]])"
      ]
     },
     "execution_count": 36,
     "metadata": {},
     "output_type": "execute_result"
    }
   ],
   "source": [
    "a = np.arange(24).reshape(3,2,4)\n",
    "a.reshape(4,3,2)"
   ]
  },
  {
   "cell_type": "markdown",
   "id": "f8dd6ea4-5e75-4e10-9f80-d4761c51c643",
   "metadata": {},
   "source": [
    "#### 여기서 a와 b의 주소가 다르기 때문에 a와 b가 다른 객체라 생각할 수 있지만 b는 a의 view이므로 같음."
   ]
  },
  {
   "cell_type": "code",
   "execution_count": 39,
   "id": "283f80e9-255d-4548-8cc3-9d536a1c9648",
   "metadata": {},
   "outputs": [
    {
     "name": "stdout",
     "output_type": "stream",
     "text": [
      "Address of a: 3104212208880\n",
      "Address of b: 3104212208208\n",
      "[[[  0   1   2   3]\n",
      "  [  4   5   6   7]]\n",
      "\n",
      " [[  8   9  10  11]\n",
      "  [ 12  13  14 100]]\n",
      "\n",
      " [[ 16  17  18  19]\n",
      "  [ 20  21  22  23]]]\n",
      "[[  0   1   2   3   4   5   6   7   8   9  10  11]\n",
      " [ 12  13  14 100  16  17  18  19  20  21  22  23]]\n",
      "100\n"
     ]
    }
   ],
   "source": [
    "a = np.arange(24).reshape(3, 2, 4)\n",
    "b = a.reshape(2,-1)\n",
    "b[1,3] = 100\n",
    "\n",
    "print(\"Address of a:\", id(a))\n",
    "print(\"Address of b:\", id(b))\n",
    "\n",
    "print(a)\n",
    "print(b)\n",
    "print(a[1,1,3])\n"
   ]
  },
  {
   "cell_type": "markdown",
   "id": "4190855b-532b-4345-9e02-4e1e9f6afb29",
   "metadata": {},
   "source": [
    "## ravel() & faltten()\n",
    "\n",
    "- raval() : 원 배열의 view를 반환\n",
    "- flatten() : 원 배열의 복사본을 반환"
   ]
  },
  {
   "cell_type": "code",
   "execution_count": 41,
   "id": "91efb035-8e34-4878-8ee6-0d8e144a9306",
   "metadata": {},
   "outputs": [
    {
     "name": "stdout",
     "output_type": "stream",
     "text": [
      "[0 1 2 3 4 5]\n",
      "[0 1 2 3 4 5]\n"
     ]
    }
   ],
   "source": [
    "a = np.arange(6).reshape(2,3)\n",
    "b = a.ravel()\n",
    "print(b)\n",
    "c = a.flatten()\n",
    "print(c)"
   ]
  },
  {
   "cell_type": "code",
   "execution_count": 42,
   "id": "3e2eaae6-9f70-416b-953b-7c60bc51976c",
   "metadata": {},
   "outputs": [
    {
     "name": "stdout",
     "output_type": "stream",
     "text": [
      "a =  [[10  1  2]\n",
      " [ 3  4  5]]\n",
      "b =  [10  1  2  3  4  5]\n",
      "c =  [0 1 2 3 4 5]\n"
     ]
    }
   ],
   "source": [
    "a[0,0] = 10\n",
    "print(\"a = \", a)\n",
    "print(\"b = \", b)\n",
    "print(\"c = \", c)"
   ]
  },
  {
   "cell_type": "markdown",
   "id": "32b76164-948d-4944-89d2-751974621ed5",
   "metadata": {},
   "source": [
    "## tile()\n",
    "- 주어진 배열을 이어붙어 새 배열을 만든 후 반환."
   ]
  },
  {
   "cell_type": "code",
   "execution_count": 43,
   "id": "0b24ba35-97e8-487a-93be-b35eb6bbe210",
   "metadata": {},
   "outputs": [
    {
     "data": {
      "text/plain": [
       "array([0, 1, 2, 0, 1, 2, 0, 1, 2])"
      ]
     },
     "execution_count": 43,
     "metadata": {},
     "output_type": "execute_result"
    }
   ],
   "source": [
    "np.tile(np.arange(3), 3)"
   ]
  },
  {
   "cell_type": "code",
   "execution_count": 44,
   "id": "d443e6a1-caee-41d0-a19c-1d7ebb215f72",
   "metadata": {},
   "outputs": [
    {
     "data": {
      "text/plain": [
       "array([[0, 1, 2, 0, 1, 2],\n",
       "       [0, 1, 2, 0, 1, 2],\n",
       "       [0, 1, 2, 0, 1, 2]])"
      ]
     },
     "execution_count": 44,
     "metadata": {},
     "output_type": "execute_result"
    }
   ],
   "source": [
    "np.tile(np.arange(3), (3,2))"
   ]
  },
  {
   "cell_type": "code",
   "execution_count": 45,
   "id": "e584646b-aec0-47ea-98ac-753a3de33dcb",
   "metadata": {},
   "outputs": [
    {
     "data": {
      "text/plain": [
       "array([[0, 1, 2, 0, 1, 2, 0, 1, 2],\n",
       "       [3, 4, 5, 3, 4, 5, 3, 4, 5]])"
      ]
     },
     "execution_count": 45,
     "metadata": {},
     "output_type": "execute_result"
    }
   ],
   "source": [
    "np.tile(np.arange(6).reshape(2,3), 3)"
   ]
  },
  {
   "cell_type": "code",
   "execution_count": 46,
   "id": "c67d89c2-f05c-466a-bd75-6b2627fff2ac",
   "metadata": {},
   "outputs": [
    {
     "data": {
      "text/plain": [
       "array([[0, 1, 2, 0, 1, 2],\n",
       "       [3, 4, 5, 3, 4, 5],\n",
       "       [0, 1, 2, 0, 1, 2],\n",
       "       [3, 4, 5, 3, 4, 5],\n",
       "       [0, 1, 2, 0, 1, 2],\n",
       "       [3, 4, 5, 3, 4, 5]])"
      ]
     },
     "execution_count": 46,
     "metadata": {},
     "output_type": "execute_result"
    }
   ],
   "source": [
    "np.tile(np.arange(6).reshape(2,3), (3,2))"
   ]
  },
  {
   "cell_type": "code",
   "execution_count": 47,
   "id": "9d98f998-7707-446b-86a0-fa62203719d9",
   "metadata": {},
   "outputs": [
    {
     "name": "stdout",
     "output_type": "stream",
     "text": [
      "[[0 1 2 0 1 2]\n",
      " [3 4 5 3 4 5]\n",
      " [0 1 2 0 1 2]\n",
      " [3 4 5 3 4 5]\n",
      " [0 1 2 0 1 2]\n",
      " [3 4 5 3 4 5]]\n"
     ]
    }
   ],
   "source": [
    "a = np.arange(6).reshape(2,3)\n",
    "b = np.tile(a, (3,2))\n",
    "a[0,0] = 10\n",
    "print(b)"
   ]
  },
  {
   "cell_type": "markdown",
   "id": "a7c7b583-1ff1-418b-97e6-610fb4240aeb",
   "metadata": {},
   "source": [
    "## stack(), vstack(), hstack()"
   ]
  },
  {
   "cell_type": "code",
   "execution_count": 48,
   "id": "89920ca2-29db-4cd7-aac1-23558bbf37c9",
   "metadata": {},
   "outputs": [
    {
     "name": "stdout",
     "output_type": "stream",
     "text": [
      "[[0 1 2]\n",
      " [3 4 5]]\n",
      "(2, 3)\n"
     ]
    }
   ],
   "source": [
    "a = np.arange(3)\n",
    "b = np.arange(3,6)\n",
    "c = np.stack((a,b))\n",
    "print(c)\n",
    "print(c.shape)"
   ]
  },
  {
   "cell_type": "code",
   "execution_count": 49,
   "id": "fedbe328-f7c8-4c10-8fcc-9671c97e7570",
   "metadata": {},
   "outputs": [
    {
     "name": "stdout",
     "output_type": "stream",
     "text": [
      "[[[ 0  1  2]\n",
      "  [ 3  4  5]]\n",
      "\n",
      " [[10 11 12]\n",
      "  [13 14 15]]]\n",
      "(2, 2, 3)\n"
     ]
    }
   ],
   "source": [
    "d = np.arange(10,16).reshape(2,3)\n",
    "e = np.stack((c,d), axis = 0)\n",
    "print(e)\n",
    "print(e.shape)\n",
    "\n",
    "# 0 일경우 ->"
   ]
  },
  {
   "cell_type": "code",
   "execution_count": 50,
   "id": "9f459fe9-ed1e-4796-8979-39d955cd511f",
   "metadata": {},
   "outputs": [
    {
     "name": "stdout",
     "output_type": "stream",
     "text": [
      "[[[ 0  1  2]\n",
      "  [10 11 12]]\n",
      "\n",
      " [[ 3  4  5]\n",
      "  [13 14 15]]]\n",
      "(2, 2, 3)\n"
     ]
    }
   ],
   "source": [
    "f = np.stack((c,d), axis = 1)\n",
    "print(f)\n",
    "print(f.shape)\n",
    "\n",
    "# c, d의 0번째 axis를 가지고 이어붙임"
   ]
  },
  {
   "cell_type": "code",
   "execution_count": 52,
   "id": "8d39324b-f2ff-46ee-b8e4-cb02163db639",
   "metadata": {},
   "outputs": [
    {
     "name": "stdout",
     "output_type": "stream",
     "text": [
      "[[[ 0 10]\n",
      "  [ 1 11]\n",
      "  [ 2 12]]\n",
      "\n",
      " [[ 3 13]\n",
      "  [ 4 14]\n",
      "  [ 5 15]]]\n",
      "(2, 3, 2)\n"
     ]
    }
   ],
   "source": [
    "g = np.stack((c,d), axis = 2)\n",
    "print(g)\n",
    "print(g.shape) # 2,3 이 앞에오고 뒤에 갯수가 옴."
   ]
  },
  {
   "cell_type": "code",
   "execution_count": 53,
   "id": "211a8aff-7883-46c4-ab07-242de3a864ae",
   "metadata": {},
   "outputs": [
    {
     "name": "stdout",
     "output_type": "stream",
     "text": [
      "[1 2 3 4]\n",
      "(4,)\n"
     ]
    }
   ],
   "source": [
    "h1 = np.hstack((np.array([1,2]), np.array([3,4])))\n",
    "print(h1)\n",
    "print(h1.shape)"
   ]
  },
  {
   "cell_type": "code",
   "execution_count": 55,
   "id": "a1ca11cd-f2ac-464d-9b51-2bcd443b4849",
   "metadata": {},
   "outputs": [
    {
     "name": "stdout",
     "output_type": "stream",
     "text": [
      "[1 2 3 3 4]\n",
      "(5,)\n"
     ]
    }
   ],
   "source": [
    "h2 = np.hstack((np.array([1,2,3]), np.array([3,4])))\n",
    "print(h2)\n",
    "print(h2.shape)\n",
    "# 원소가 다르면 1차원으로 반환함."
   ]
  },
  {
   "cell_type": "code",
   "execution_count": 56,
   "id": "29795d02-d1fc-4b46-a9be-1c837a6531c1",
   "metadata": {},
   "outputs": [
    {
     "name": "stdout",
     "output_type": "stream",
     "text": [
      "[1 2 3 3 4 3 4 5 7]\n",
      "(9,)\n"
     ]
    }
   ],
   "source": [
    "h3 = np.hstack((np.array([1,2,3]), np.array([3,4]),  np.array([3,4,5,7])))\n",
    "print(h3)\n",
    "print(h3.shape)\n",
    "# 원소가 다르면 1차원으로 반환함."
   ]
  },
  {
   "cell_type": "code",
   "execution_count": 57,
   "id": "403ce963-948e-4984-898a-ab272d178f29",
   "metadata": {},
   "outputs": [
    {
     "name": "stdout",
     "output_type": "stream",
     "text": [
      "[1 2 3 4]\n",
      "(4,)\n"
     ]
    }
   ],
   "source": [
    "h4 = np.hstack(([1,2], [3,4]))\n",
    "print(h4)\n",
    "print(h4.shape)"
   ]
  },
  {
   "cell_type": "code",
   "execution_count": 59,
   "id": "f84e8abf-3d3e-4ff7-afcb-3ba7609703a8",
   "metadata": {},
   "outputs": [
    {
     "name": "stdout",
     "output_type": "stream",
     "text": [
      "[[0 1 2]\n",
      " [3 4 5]]\n",
      "[[10 11 12]\n",
      " [13 14 15]]\n",
      "(2, 3)\n",
      "(2, 3)\n",
      "[[ 0  1  2 10 11 12]\n",
      " [ 3  4  5 13 14 15]]\n",
      "(2, 6)\n"
     ]
    }
   ],
   "source": [
    "h5 = np.hstack((c,d))\n",
    "print(c)\n",
    "print(d)\n",
    "print(c.shape)\n",
    "print(d.shape)\n",
    "print(h5)\n",
    "print(h5.shape)"
   ]
  },
  {
   "cell_type": "markdown",
   "id": "869d6297-02eb-4f04-9227-ef7b377bf992",
   "metadata": {},
   "source": [
    "## hstack을 3차원에서 할 경우 (a,b,c) , (d,e,f)중 a와d , c와 f가 같아야 함.!\n",
    "-> 결과는 (a,b+e,c) "
   ]
  },
  {
   "cell_type": "code",
   "execution_count": 63,
   "id": "31c71755-cd99-4e7c-87b6-e69598090ef7",
   "metadata": {},
   "outputs": [
    {
     "name": "stdout",
     "output_type": "stream",
     "text": [
      "(2, 3, 4)\n",
      "(2, 4, 4)\n",
      "(2, 7, 4)\n",
      "[[[ 0  1  2  3]\n",
      "  [ 4  5  6  7]\n",
      "  [ 8  9 10 11]]\n",
      "\n",
      " [[12 13 14 15]\n",
      "  [16 17 18 19]\n",
      "  [20 21 22 23]]]\n",
      "[[[ 0  1  2  3]\n",
      "  [ 4  5  6  7]\n",
      "  [ 8  9 10 11]\n",
      "  [12 13 14 15]]\n",
      "\n",
      " [[16 17 18 19]\n",
      "  [20 21 22 23]\n",
      "  [24 25 26 27]\n",
      "  [28 29 30 31]]]\n",
      "[[[ 0  1  2  3]\n",
      "  [ 4  5  6  7]\n",
      "  [ 8  9 10 11]\n",
      "  [ 0  1  2  3]\n",
      "  [ 4  5  6  7]\n",
      "  [ 8  9 10 11]\n",
      "  [12 13 14 15]]\n",
      "\n",
      " [[12 13 14 15]\n",
      "  [16 17 18 19]\n",
      "  [20 21 22 23]\n",
      "  [16 17 18 19]\n",
      "  [20 21 22 23]\n",
      "  [24 25 26 27]\n",
      "  [28 29 30 31]]]\n"
     ]
    }
   ],
   "source": [
    "aa = np.arange(24).reshape(2,3,4)\n",
    "bb = np.arange(32).reshape(2,4,4)\n",
    "\n",
    "h6 = np.hstack((aa,bb))\n",
    "print(aa.shape)\n",
    "print(bb.shape)\n",
    "print(h6.shape)\n",
    "\n",
    "print(aa)\n",
    "print(bb)\n",
    "print(h6)"
   ]
  },
  {
   "cell_type": "code",
   "execution_count": 64,
   "id": "7efa8819-28b0-428b-ab63-b9895ac8ace0",
   "metadata": {},
   "outputs": [
    {
     "name": "stdout",
     "output_type": "stream",
     "text": [
      "[[0 1 2]\n",
      " [3 4 5]\n",
      " [6 7 8]]\n",
      "(3, 3)\n"
     ]
    }
   ],
   "source": [
    "aa = np.arange(3)\n",
    "bb = np.arange(3,6)\n",
    "cc = np.arange(6,9)\n",
    "h7 = np.vstack((aa,bb,cc))\n",
    "print(h7)\n",
    "print(h7.shape)\n"
   ]
  },
  {
   "cell_type": "code",
   "execution_count": 65,
   "id": "dde9e9cc-b6a7-4b3d-b042-f8fd65cbccf9",
   "metadata": {},
   "outputs": [
    {
     "name": "stdout",
     "output_type": "stream",
     "text": [
      "[[[ 0  1  2  3]\n",
      "  [ 4  5  6  7]\n",
      "  [ 8  9 10 11]]\n",
      "\n",
      " [[12 13 14 15]\n",
      "  [16 17 18 19]\n",
      "  [20 21 22 23]]\n",
      "\n",
      " [[24 25 26 27]\n",
      "  [28 29 30 31]\n",
      "  [32 33 34 35]]\n",
      "\n",
      " [[36 37 38 39]\n",
      "  [40 41 42 43]\n",
      "  [44 45 46 47]]\n",
      "\n",
      " [[48 49 50 51]\n",
      "  [52 53 54 55]\n",
      "  [56 57 58 59]]]\n",
      "(5, 3, 4)\n"
     ]
    }
   ],
   "source": [
    "aa = np.arange(24).reshape(2,3,4)\n",
    "bb = np.arange(24, 60).reshape(3,3,4)\n",
    "h8 = np.vstack((aa,bb))\n",
    "print(h8)\n",
    "print(h8.shape)\n"
   ]
  },
  {
   "cell_type": "code",
   "execution_count": null,
   "id": "f9a504af-b33d-46bb-8146-77e64cf52f91",
   "metadata": {},
   "outputs": [],
   "source": []
  }
 ],
 "metadata": {
  "kernelspec": {
   "display_name": "Python 3 (ipykernel)",
   "language": "python",
   "name": "python3"
  },
  "language_info": {
   "codemirror_mode": {
    "name": "ipython",
    "version": 3
   },
   "file_extension": ".py",
   "mimetype": "text/x-python",
   "name": "python",
   "nbconvert_exporter": "python",
   "pygments_lexer": "ipython3",
   "version": "3.9.7"
  }
 },
 "nbformat": 4,
 "nbformat_minor": 5
}
