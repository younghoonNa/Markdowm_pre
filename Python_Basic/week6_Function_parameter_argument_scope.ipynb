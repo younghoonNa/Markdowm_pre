{
 "cells": [
  {
   "cell_type": "markdown",
   "id": "bfca5814-2dcd-48ee-b5c1-5278035effce",
   "metadata": {},
   "source": [
    "# 6주차 함수 2"
   ]
  },
  {
   "cell_type": "markdown",
   "id": "4fe2d41b-ff02-4f60-9ef3-b801b79708e8",
   "metadata": {},
   "source": [
    "- 함수를 생성, 정의할 때 괄호 () 안의 변수를 parameter 라고 한다.\n",
    "    - 파라메타에는 Positional parameter, keyword parameter가 있다.\n",
    "        - / 이전에 오는 변수는 Positional parameter\n",
    "        - /와 * 사이에 오는 변수는 Positional or Keyword parameter 이다.\n",
    "        - * 이후에 오는 변수는 Keyword paramter라고 한다.\n",
    "- 함수를 호출 할 때 괄호 안의 변수를 argument라고 한다.\n"
   ]
  },
  {
   "cell_type": "code",
   "execution_count": 3,
   "id": "5933f0e4-9aa1-428c-b4b3-ff88f62194f1",
   "metadata": {},
   "outputs": [
    {
     "data": {
      "text/plain": [
       "9"
      ]
     },
     "execution_count": 3,
     "metadata": {},
     "output_type": "execute_result"
    }
   ],
   "source": [
    "lst = [1,3,5]\n",
    "sum(lst)"
   ]
  },
  {
   "cell_type": "code",
   "execution_count": 4,
   "id": "84aec6cf-096a-44c4-8bfc-e179bff64295",
   "metadata": {},
   "outputs": [
    {
     "name": "stdout",
     "output_type": "stream",
     "text": [
      "Help on built-in function sum in module builtins:\n",
      "\n",
      "sum(iterable, /, start=0)\n",
      "    Return the sum of a 'start' value (default: 0) plus an iterable of numbers\n",
      "    \n",
      "    When the iterable is empty, return the start value.\n",
      "    This function is intended specifically for use with numeric values and may\n",
      "    reject non-numeric types.\n",
      "\n"
     ]
    }
   ],
   "source": [
    "help(sum)"
   ]
  },
  {
   "cell_type": "code",
   "execution_count": 5,
   "id": "54cd98fc-d4fb-4d39-8b7c-fdc5fb6ab127",
   "metadata": {},
   "outputs": [
    {
     "data": {
      "text/plain": [
       "19"
      ]
     },
     "execution_count": 5,
     "metadata": {},
     "output_type": "execute_result"
    }
   ],
   "source": [
    "sum(lst, 10)"
   ]
  },
  {
   "cell_type": "code",
   "execution_count": 6,
   "id": "b2485405-4460-4f83-84c4-e61cfdfd932d",
   "metadata": {},
   "outputs": [],
   "source": [
    "# 리스트나 튜플 이 아닌 경우, 혹은 리스트나 튜플 안에 iterable하지않는 변수가 들어갈경우 연산 x\n",
    "\n",
    "def my_sum(iterable, init = 0): \n",
    "    total = init\n",
    "    for a in iterable:\n",
    "        total += a\n",
    "        \n",
    "    return total"
   ]
  },
  {
   "cell_type": "code",
   "execution_count": 7,
   "id": "203cd8e8-f7a5-4206-b4bf-18cb65affc5a",
   "metadata": {},
   "outputs": [
    {
     "data": {
      "text/plain": [
       "9"
      ]
     },
     "execution_count": 7,
     "metadata": {},
     "output_type": "execute_result"
    }
   ],
   "source": [
    "my_sum(lst)"
   ]
  },
  {
   "cell_type": "code",
   "execution_count": 6,
   "id": "05d3207a-bdcc-40f7-b183-d5c762821d48",
   "metadata": {},
   "outputs": [
    {
     "data": {
      "text/plain": [
       "19"
      ]
     },
     "execution_count": 6,
     "metadata": {},
     "output_type": "execute_result"
    }
   ],
   "source": [
    "my_sum(lst, 10)"
   ]
  },
  {
   "cell_type": "code",
   "execution_count": 7,
   "id": "b21566a0-7aa1-419c-afc6-a0bae8cbbb82",
   "metadata": {},
   "outputs": [
    {
     "data": {
      "text/plain": [
       "19"
      ]
     },
     "execution_count": 7,
     "metadata": {},
     "output_type": "execute_result"
    }
   ],
   "source": [
    "my_sum(lst, init= 10)"
   ]
  },
  {
   "cell_type": "code",
   "execution_count": 8,
   "id": "1bd79582-0d16-4cdb-8893-d6096c144343",
   "metadata": {},
   "outputs": [],
   "source": [
    "def my_sum_2(lst, *, init= 0):\n",
    "    total = init\n",
    "    for a in lst:\n",
    "        total += a\n",
    "        \n",
    "    return total"
   ]
  },
  {
   "cell_type": "code",
   "execution_count": 9,
   "id": "a70b29de-3029-4126-b3d9-eb441d7d263b",
   "metadata": {},
   "outputs": [
    {
     "data": {
      "text/plain": [
       "9"
      ]
     },
     "execution_count": 9,
     "metadata": {},
     "output_type": "execute_result"
    }
   ],
   "source": [
    "my_sum_2(lst)"
   ]
  },
  {
   "cell_type": "code",
   "execution_count": 10,
   "id": "0845def8-ed59-456b-b85e-ee9617185ec9",
   "metadata": {},
   "outputs": [
    {
     "data": {
      "text/plain": [
       "19"
      ]
     },
     "execution_count": 10,
     "metadata": {},
     "output_type": "execute_result"
    }
   ],
   "source": [
    "my_sum_2(lst, init=10)"
   ]
  },
  {
   "cell_type": "code",
   "execution_count": 13,
   "id": "d3222d23-31f9-4a10-9358-113c4e862754",
   "metadata": {},
   "outputs": [],
   "source": [
    "# my_sum_2(lst, 10)\n",
    "\n",
    "# * 뒤에는 Keyword parameter가 반드시 와야함\n",
    "\n",
    "#복습\n",
    "# / 앞에는 Positional parameter\n",
    "# / 와 * 사이는 Positional parameter 와 Keyword parameter \n",
    "# * 뒤에는 반드시 Keyword parameter"
   ]
  },
  {
   "cell_type": "markdown",
   "id": "30649974-0ad0-4644-9b60-3baba7e5a6c7",
   "metadata": {},
   "source": [
    "## 가변길이 Argument\n",
    "\n",
    "### 인수의 최댓값을 반환하는 함수"
   ]
  },
  {
   "cell_type": "code",
   "execution_count": 17,
   "id": "9bc1b5ec-a376-4e21-b990-d93f85f3d6c0",
   "metadata": {},
   "outputs": [
    {
     "data": {
      "text/plain": [
       "[5, 3]"
      ]
     },
     "execution_count": 17,
     "metadata": {},
     "output_type": "execute_result"
    }
   ],
   "source": [
    "max([5,3], [4,10], [1,3])\n",
    "# 첫번째 쑷자 차이"
   ]
  },
  {
   "cell_type": "code",
   "execution_count": 10,
   "id": "52321ddf-3b3e-4e97-b6f4-3b365c5a7b21",
   "metadata": {},
   "outputs": [
    {
     "data": {
      "text/plain": [
       "(4, 5)"
      ]
     },
     "execution_count": 10,
     "metadata": {},
     "output_type": "execute_result"
    }
   ],
   "source": [
    "max((2,3), (4,5))"
   ]
  },
  {
   "cell_type": "code",
   "execution_count": 11,
   "id": "064cab8a-b183-4b8f-af05-a8da92a27d3c",
   "metadata": {},
   "outputs": [
    {
     "data": {
      "text/plain": [
       "3"
      ]
     },
     "execution_count": 11,
     "metadata": {},
     "output_type": "execute_result"
    }
   ],
   "source": [
    "max([2,3])"
   ]
  },
  {
   "cell_type": "code",
   "execution_count": 12,
   "id": "2b3edc51-4a09-4954-a9ed-de59719d7dab",
   "metadata": {},
   "outputs": [
    {
     "data": {
      "text/plain": [
       "3"
      ]
     },
     "execution_count": 12,
     "metadata": {},
     "output_type": "execute_result"
    }
   ],
   "source": [
    "max(2,3)"
   ]
  },
  {
   "cell_type": "code",
   "execution_count": 13,
   "id": "4152de05-bcb6-4649-a130-3c0b9a69c681",
   "metadata": {},
   "outputs": [
    {
     "data": {
      "text/plain": [
       "5"
      ]
     },
     "execution_count": 13,
     "metadata": {},
     "output_type": "execute_result"
    }
   ],
   "source": [
    "max(2,5,3)"
   ]
  },
  {
   "cell_type": "code",
   "execution_count": 23,
   "id": "10a5c833-68d7-43f5-b9a4-e1eb81a652bb",
   "metadata": {},
   "outputs": [
    {
     "name": "stdout",
     "output_type": "stream",
     "text": [
      "5\n"
     ]
    }
   ],
   "source": [
    "def my_max(a,b):\n",
    "    if a>b: return a\n",
    "    else: return b\n",
    "\n",
    "print(my_max(3,5))"
   ]
  },
  {
   "cell_type": "code",
   "execution_count": 25,
   "id": "3aa6400b-9806-48b7-adce-c3b8c54f233d",
   "metadata": {},
   "outputs": [
    {
     "name": "stdout",
     "output_type": "stream",
     "text": [
      "3\n",
      "5\n"
     ]
    }
   ],
   "source": [
    "def dummy(a,b):\n",
    "    print(a)\n",
    "    print(b)\n",
    "    \n",
    "dummy(3,5)"
   ]
  },
  {
   "cell_type": "markdown",
   "id": "1da097df-ee28-4520-a837-8fe038177692",
   "metadata": {},
   "source": [
    "### 함수의 Positional parameter에 packing operator *를 이용하는 방법.\n",
    "\n",
    "- Packing operator를 활용하여 함수의 parameter 수가 넘어가더라도 처리할 수 있음."
   ]
  },
  {
   "cell_type": "code",
   "execution_count": 27,
   "id": "eda8d1f8-be6c-4137-9b1b-da931c00bad8",
   "metadata": {},
   "outputs": [
    {
     "name": "stdout",
     "output_type": "stream",
     "text": [
      "3\n",
      "(5,)\n",
      "<class 'tuple'>\n"
     ]
    }
   ],
   "source": [
    "def dummy(a, *b):\n",
    "    print(a)\n",
    "    print(b)\n",
    "    print(type(b))\n",
    "    \n",
    "dummy(3,5)"
   ]
  },
  {
   "cell_type": "code",
   "execution_count": 19,
   "id": "08c8572c-f8a4-41f6-a854-1acb51806acc",
   "metadata": {},
   "outputs": [
    {
     "name": "stdout",
     "output_type": "stream",
     "text": [
      "3\n",
      "(5, 8, 5, 9)\n",
      "<class 'tuple'>\n"
     ]
    }
   ],
   "source": [
    "def dummy(a, *b):\n",
    "    print(a)\n",
    "    print(b)\n",
    "    print(type(b))\n",
    "    \n",
    "dummy(3,5,8,5,9) #나머지 Argument가 b로 튜플 형태로 들어감.\n",
    "# 여기서 *은 packing operator"
   ]
  },
  {
   "cell_type": "code",
   "execution_count": 17,
   "id": "3299ac4b-ffbc-414a-af7a-1195b9278a12",
   "metadata": {},
   "outputs": [
    {
     "name": "stdout",
     "output_type": "stream",
     "text": [
      "The maximum value is None\n",
      "The maximum value is 3\n",
      "The maximum value is 5\n",
      "The maximum value is 6\n",
      "The maximum value is 7\n"
     ]
    }
   ],
   "source": [
    "def my_max(*iterator):\n",
    "    if len(iterator) < 1: return None\n",
    "    else:\n",
    "        _max = iterator[0]\n",
    "        for e in iterator[1:]:\n",
    "            if e > _max:\n",
    "                _max = e\n",
    "        return _max\n",
    "    \n",
    "print(f\"The maximum value is {my_max()}\")\n",
    "print(f\"The maximum value is {my_max(3)}\")\n",
    "print(f\"The maximum value is {my_max(3,5)}\")\n",
    "print(f\"The maximum value is {my_max(3,5,6)}\")\n",
    "print(f\"The maximum value is {my_max(3,5,6,7)}\")"
   ]
  },
  {
   "cell_type": "markdown",
   "id": "abb0d869-8692-47eb-b36a-27ca718765a0",
   "metadata": {},
   "source": [
    "## 변수의 Scope\n",
    "\n",
    "- 변수에 접근할 수 있는 코딩 영역\n",
    "- local scope \n",
    "    - 함수 내에서 생성된 변수의 scope는 그 함수 내부이다.\n",
    "    \n",
    "- global scope\n",
    "    - Main Body에서 생성된 변수의 scope는 main body 뿐만 아니라 모든 함수 내에서 접근 가능\n",
    "  \n",
    "- Built-in scope\n",
    "    - sum() , len() 과 같이 이미 정의 되어있는 함수.\n",
    "    \n",
    "- Built-in scope > global scope > local scope 순"
   ]
  },
  {
   "cell_type": "code",
   "execution_count": 34,
   "id": "6bb22724-e165-4c59-828a-b04e949401e0",
   "metadata": {},
   "outputs": [],
   "source": [
    "import turtle\n",
    "t = turtle.Turtle()\n",
    "\n",
    "def forward_and_right(distance):\n",
    "    t.forward(distance)\n",
    "    t.right(90)\n",
    "    \n",
    "def draw_a_rectangle(side):\n",
    "    \"\"\"\n",
    "    변의 길이가 side인 정사각형 그리기\n",
    "    parameter : \n",
    "        - side : 정사각형 한 변의 길이.\n",
    "    \"\"\"\n",
    "    \n",
    "    for _ in range(4):\n",
    "        forward_and_right(side)\n",
    "        \n",
    "draw_a_rectangle(100)\n",
    "draw_a_rectangle(120)\n",
    "\n",
    "turtle.exitonclick()"
   ]
  },
  {
   "cell_type": "code",
   "execution_count": 21,
   "id": "0d154222-1ed4-4d25-a52d-2d22159b8292",
   "metadata": {},
   "outputs": [
    {
     "name": "stdout",
     "output_type": "stream",
     "text": [
      "140504101297264 140504101295696\n",
      "1000 2000 3000\n",
      "140504101297264 140504101295696 3000 1000 2000\n"
     ]
    }
   ],
   "source": [
    "def add_two_variables(x,y):\n",
    "    # 여기서 부터 생기는 변수는 local scope가 적용이 됨.\n",
    "    \n",
    "    z = x + y\n",
    "    \n",
    "    print(x,y,z,)\n",
    "    print(id(x), id(y), z,a,b)\n",
    "    \n",
    "    return z\n",
    "\n",
    "#main body\n",
    "a = 1000\n",
    "b = 2000\n",
    "print(id(a), id(b))\n",
    "c = add_two_variables(a,b)\n",
    "# print(z) z는 Error를 야기함. -> 함수 내부에서 만들어진 local variable은 Main의 전역변수와 접근을 못햄.."
   ]
  },
  {
   "cell_type": "code",
   "execution_count": 43,
   "id": "b872a520-ced1-4ac3-a28e-335a799e0513",
   "metadata": {},
   "outputs": [
    {
     "name": "stdout",
     "output_type": "stream",
     "text": [
      "1000 2000 3000 1000 2000\n",
      "3000\n"
     ]
    }
   ],
   "source": [
    "def add_two(x,y):\n",
    "    # local scope of add_tmp funtion\n",
    "    \n",
    "    z = x+y           # z는 지역변수.\n",
    "    print(x,y,z,a,b)  # a,b는 전역변수\n",
    "    return z\n",
    "    \n",
    "# main body -- global scope\n",
    "a = 1000\n",
    "b = 2000\n",
    "c = add_two(a,b)\n",
    "print(c)\n",
    "#print(z)"
   ]
  },
  {
   "cell_type": "code",
   "execution_count": 23,
   "id": "25ac8f59-d1db-4aa3-a21b-5216375f2e72",
   "metadata": {},
   "outputs": [
    {
     "ename": "UnboundLocalError",
     "evalue": "local variable 'a' referenced before assignment",
     "output_type": "error",
     "traceback": [
      "\u001b[0;31m---------------------------------------------------------------------------\u001b[0m",
      "\u001b[0;31mUnboundLocalError\u001b[0m                         Traceback (most recent call last)",
      "\u001b[0;32m/var/folders/hp/zz_v74bx3912w8s2fz07537r0000gn/T/ipykernel_67096/3551125054.py\u001b[0m in \u001b[0;36m<module>\u001b[0;34m\u001b[0m\n\u001b[1;32m     13\u001b[0m \u001b[0ma\u001b[0m \u001b[0;34m=\u001b[0m \u001b[0;36m1000\u001b[0m\u001b[0;34m\u001b[0m\u001b[0;34m\u001b[0m\u001b[0m\n\u001b[1;32m     14\u001b[0m \u001b[0mb\u001b[0m \u001b[0;34m=\u001b[0m \u001b[0;36m2000\u001b[0m\u001b[0;34m\u001b[0m\u001b[0;34m\u001b[0m\u001b[0m\n\u001b[0;32m---> 15\u001b[0;31m \u001b[0mc\u001b[0m \u001b[0;34m=\u001b[0m \u001b[0madd_two\u001b[0m\u001b[0;34m(\u001b[0m\u001b[0;34m)\u001b[0m\u001b[0;34m\u001b[0m\u001b[0;34m\u001b[0m\u001b[0m\n\u001b[0m\u001b[1;32m     16\u001b[0m \u001b[0mprint\u001b[0m\u001b[0;34m(\u001b[0m\u001b[0mx\u001b[0m\u001b[0;34m,\u001b[0m\u001b[0my\u001b[0m\u001b[0;34m,\u001b[0m\u001b[0ma\u001b[0m\u001b[0;34m,\u001b[0m\u001b[0mb\u001b[0m\u001b[0;34m,\u001b[0m\u001b[0mc\u001b[0m\u001b[0;34m)\u001b[0m\u001b[0;34m\u001b[0m\u001b[0;34m\u001b[0m\u001b[0m\n\u001b[1;32m     17\u001b[0m \u001b[0;31m# print(z)\u001b[0m\u001b[0;34m\u001b[0m\u001b[0;34m\u001b[0m\u001b[0m\n",
      "\u001b[0;32m/var/folders/hp/zz_v74bx3912w8s2fz07537r0000gn/T/ipykernel_67096/3551125054.py\u001b[0m in \u001b[0;36madd_two\u001b[0;34m()\u001b[0m\n\u001b[1;32m      1\u001b[0m \u001b[0;32mdef\u001b[0m \u001b[0madd_two\u001b[0m\u001b[0;34m(\u001b[0m\u001b[0;34m)\u001b[0m\u001b[0;34m:\u001b[0m\u001b[0;34m\u001b[0m\u001b[0;34m\u001b[0m\u001b[0m\n\u001b[1;32m      2\u001b[0m     \u001b[0mz\u001b[0m \u001b[0;34m=\u001b[0m \u001b[0mx\u001b[0m \u001b[0;34m+\u001b[0m \u001b[0my\u001b[0m\u001b[0;34m\u001b[0m\u001b[0;34m\u001b[0m\u001b[0m\n\u001b[0;32m----> 3\u001b[0;31m     \u001b[0ma\u001b[0m \u001b[0;34m=\u001b[0m \u001b[0ma\u001b[0m \u001b[0;34m+\u001b[0m \u001b[0;36m1\u001b[0m\u001b[0;34m\u001b[0m\u001b[0;34m\u001b[0m\u001b[0m\n\u001b[0m\u001b[1;32m      4\u001b[0m     \u001b[0;31m# 함수 내부에서 a가 선언되기 때문에 local variable이 되어버림.\u001b[0m\u001b[0;34m\u001b[0m\u001b[0;34m\u001b[0m\u001b[0m\n\u001b[1;32m      5\u001b[0m     \u001b[0mprint\u001b[0m\u001b[0;34m(\u001b[0m\u001b[0mx\u001b[0m\u001b[0;34m,\u001b[0m\u001b[0my\u001b[0m\u001b[0;34m,\u001b[0m\u001b[0mz\u001b[0m\u001b[0;34m,\u001b[0m\u001b[0mw\u001b[0m\u001b[0;34m,\u001b[0m\u001b[0ma\u001b[0m\u001b[0;34m,\u001b[0m\u001b[0mb\u001b[0m\u001b[0;34m)\u001b[0m\u001b[0;34m\u001b[0m\u001b[0;34m\u001b[0m\u001b[0m\n",
      "\u001b[0;31mUnboundLocalError\u001b[0m: local variable 'a' referenced before assignment"
     ]
    }
   ],
   "source": [
    "def add_two():\n",
    "    z = x + y\n",
    "    a = a + 1\n",
    "    # 함수 내부에서 a가 선언되기 때문에 local variable이 되어버림.\n",
    "    print(x,y,z,w,a,b)\n",
    "    return z\n",
    "\n",
    "# main body\n",
    "\n",
    "x = 5000\n",
    "y = 6000\n",
    "w = 7000\n",
    "a = 1000\n",
    "b = 2000\n",
    "c = add_two()\n",
    "print(x,y,a,b,c)\n",
    "# print(z)"
   ]
  },
  {
   "cell_type": "code",
   "execution_count": 26,
   "id": "139920e9-e956-49a8-928e-0945a1dc9448",
   "metadata": {},
   "outputs": [
    {
     "name": "stdout",
     "output_type": "stream",
     "text": [
      "5000 6000 11000 7000 1001 2000\n",
      "5000 6000 1001 2000 11000\n"
     ]
    }
   ],
   "source": [
    "def add_two():\n",
    "    global a # global을 붙이지 않으면 ERROR가 발생. \n",
    "    # 1. global을 붙이지 않으면 local variable a를 찾으려고 하는데 local 변수 a는 정의되어 있지 않음.\n",
    "    # 2. 따라서 gloabl을 선언해주면 global 변수 a를 local area에서 사용가능하게 됨.\n",
    "    z = x + y\n",
    "    a = a + 1\n",
    "    # 함수 내부에서 a가 선언되기 때문에 local variable이 되어버림.\n",
    "    print(x,y,z,w,a,b)\n",
    "    return z\n",
    "\n",
    "# main body\n",
    "\n",
    "x = 5000\n",
    "y = 6000\n",
    "w = 7000\n",
    "a = 1000\n",
    "b = 2000\n",
    "c = add_two()\n",
    "print(x,y,a,b,c)\n",
    "# print(z)"
   ]
  },
  {
   "cell_type": "markdown",
   "id": "beefdda6-54ce-45c0-a739-5d8a45d458e1",
   "metadata": {},
   "source": [
    "### Scope을 기준으로 한 변수의 분류\n",
    "\n",
    "- 전역변수 (global variable)\n",
    "- 지역변수 (local variable)\n",
    "- 비지역변수 (nonlocal variable)\n",
    "    - 함수 안에 함수에서, 안의 함수 기준으로 바깥에서 사용한 변수얌.!"
   ]
  },
  {
   "cell_type": "code",
   "execution_count": 24,
   "id": "717ef841-f167-4cb4-8153-487f92e8dc91",
   "metadata": {},
   "outputs": [
    {
     "name": "stdout",
     "output_type": "stream",
     "text": [
      "In add_two : 4 16 20 11\n",
      "In outer Function : 4 16 11 20\n",
      "In main body :  2 6 7 1000 20\n"
     ]
    }
   ],
   "source": [
    "def outer_function(x,y):\n",
    "    \"\"\"\n",
    "    x*2 + y+10\n",
    "    \"\"\"\n",
    "    \n",
    "    def add_two(x,y):\n",
    "        #global u\n",
    "        nonlocal u\n",
    "        u = u+1\n",
    "        z = x+y\n",
    "        print(\"In add_two :\" , x,y,z,u)\n",
    "        return z\n",
    "    \n",
    "    x = x**2\n",
    "    u = 10\n",
    "    y = y+u\n",
    "    v = add_two(x,y)\n",
    "    print(\"In outer Function :\" ,x,y,u,v)\n",
    "    return v\n",
    "\n",
    "# main body\n",
    "\n",
    "x = 2\n",
    "y = 6\n",
    "z = 7\n",
    "u = 1000\n",
    "res = outer_function(x,y)\n",
    "print(\"In main body : \", x,y,z,u,res)"
   ]
  },
  {
   "cell_type": "code",
   "execution_count": null,
   "id": "74bf90af-3c97-4d85-90de-a325397684c8",
   "metadata": {},
   "outputs": [],
   "source": []
  }
 ],
 "metadata": {
  "kernelspec": {
   "display_name": "Python 3 (ipykernel)",
   "language": "python",
   "name": "python3"
  },
  "language_info": {
   "codemirror_mode": {
    "name": "ipython",
    "version": 3
   },
   "file_extension": ".py",
   "mimetype": "text/x-python",
   "name": "python",
   "nbconvert_exporter": "python",
   "pygments_lexer": "ipython3",
   "version": "3.9.7"
  }
 },
 "nbformat": 4,
 "nbformat_minor": 5
}
