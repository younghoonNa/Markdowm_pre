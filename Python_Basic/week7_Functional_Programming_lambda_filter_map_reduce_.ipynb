{
 "cells": [
  {
   "cell_type": "markdown",
   "id": "13bfcabc-bef8-4728-9b91-0696c3514aa8",
   "metadata": {},
   "source": [
    "# 함수형 프로그래밍\n",
    "\n",
    "- 함수형 프로그래밍은 문제를 함수들의 조합으로 해결한다.\n",
    "- Python에서 함수형 프로그래밍 기법을 공부해야하는 이유\n",
    "    - 다른 사람들이 만든 코드에서 함수형 프로그래밍 기법이 사용된 경우.\n",
    "    - 함수형 프로그래밍 기법을 사용하는 것이 더 효율적인 경우.\n",
    "    \n",
    "## 함수형 프로그래밍의 주요 개념\n",
    "- 순수 함수 (pure function)\n",
    "    - 동일한 입력에 항상 동일한 출력을 하는 함수\n",
    "    - 함수의 외부 상태를 변경하지 않고, 외부 상테에 영향을 받지 않고 입력을 변경하지 않는 함수\n",
    "    - 재귀(recursion) : \"for\" 또는 \"while\" loop 대신에 recursion 으로 반복 구조를 구현\n",
    "    - 모든 함수들은 일급(first-class) 객체이자 함수 \n",
    "        - 일급 객체\n",
    "            - 변수에 할당 될 수 있는 객체\n",
    "            - 함수의 파라미터로 사용될 수 있는 객체\n",
    "            - 함수의 반환값으로 사용될 수 있는 객체\n",
    "        - 고차 함수\n",
    "            - 다른 함수들을 자신의 파라미터로 사용하는 함수.\n",
    "    - 변수들은 immutable\n",
    "    - 따라서 함수형 프로그래밍을 하기 위해서는 immutable 자료형과 함수만 있으면 가능함."
   ]
  },
  {
   "cell_type": "markdown",
   "id": "e1fead90-f744-4350-aea4-a0bbd23f3821",
   "metadata": {},
   "source": [
    "### 순수 함수의 예\n",
    "`math.sin(x)`"
   ]
  },
  {
   "cell_type": "code",
   "execution_count": 3,
   "id": "4ef1c17f-df4b-4835-8c46-4318936cdc89",
   "metadata": {},
   "outputs": [],
   "source": [
    "def f(x):\n",
    "    return 2*x+1"
   ]
  },
  {
   "cell_type": "markdown",
   "id": "705bbe84-9883-4c63-9777-939df52bf442",
   "metadata": {},
   "source": [
    "## 순수 함수가 아닌 예 -> 동일한 입력에 대해 다른 출력값을 제공하기 때문\n",
    "\n",
    "random.randint() <br>\n",
    "print() -> 파라메타로 전달되는 문자열을 stream이나 문자열로 보내고 어떠한 함수도 반환하지않기 때문\n"
   ]
  },
  {
   "cell_type": "code",
   "execution_count": 6,
   "id": "ffc45ed9-23eb-4061-a984-2699741ce6a7",
   "metadata": {},
   "outputs": [
    {
     "name": "stdout",
     "output_type": "stream",
     "text": [
      "Help on method randint in module random:\n",
      "\n",
      "randint(a, b) method of random.Random instance\n",
      "    Return random integer in range [a, b], including both end points.\n",
      "\n"
     ]
    }
   ],
   "source": [
    "import random\n",
    "help(random.randint)"
   ]
  },
  {
   "cell_type": "code",
   "execution_count": 7,
   "id": "2a9adb78-77d7-4a84-8b47-d25050494af9",
   "metadata": {},
   "outputs": [
    {
     "name": "stdout",
     "output_type": "stream",
     "text": [
      "Help on built-in function print in module builtins:\n",
      "\n",
      "print(...)\n",
      "    print(value, ..., sep=' ', end='\\n', file=sys.stdout, flush=False)\n",
      "    \n",
      "    Prints the values to a stream, or to sys.stdout by default.\n",
      "    Optional keyword arguments:\n",
      "    file:  a file-like object (stream); defaults to the current sys.stdout.\n",
      "    sep:   string inserted between values, default a space.\n",
      "    end:   string appended after the last value, default a newline.\n",
      "    flush: whether to forcibly flush the stream.\n",
      "\n"
     ]
    }
   ],
   "source": [
    "help(print)"
   ]
  },
  {
   "cell_type": "code",
   "execution_count": 65,
   "id": "c9d552e7-36ae-4564-82fd-034b7b0e539f",
   "metadata": {},
   "outputs": [],
   "source": [
    "gx = 3 # global variable의 값이 달라지면 출력이 달라지기 때문.\n",
    "def g(x):\n",
    "    return gx + x + 3"
   ]
  },
  {
   "cell_type": "markdown",
   "id": "e4e02755-95ce-43fb-af63-85b626c3b3ca",
   "metadata": {},
   "source": [
    "## 객체로서의 함수 \n",
    "- 함수는 또 다른 함수의 배개 변수로 사용될 수 있다.\n",
    "- 함수는 또 다른 함수의 반환값으로 사용될 수 있다."
   ]
  },
  {
   "cell_type": "code",
   "execution_count": 10,
   "id": "dd6f1330-3472-41ff-b4c5-a70097a4388b",
   "metadata": {},
   "outputs": [
    {
     "name": "stdout",
     "output_type": "stream",
     "text": [
      "a =  10 , b =  28\n"
     ]
    }
   ],
   "source": [
    "def f(x):\n",
    "    return x**2 + 1\n",
    "\n",
    "def g(x):\n",
    "    return x**3 + 1\n",
    "\n",
    "def applier(q,x):\n",
    "    return q(x)\n",
    "\n",
    "a = applier(f,3)\n",
    "b = applier(g,3)\n",
    "print(\"a = \", a, \", b = \", b)"
   ]
  },
  {
   "cell_type": "markdown",
   "id": "29dd5fcc-7b87-4542-bb27-0c6879252306",
   "metadata": {},
   "source": [
    "## 함수는 객체이다.\n",
    "- 변수에 함수를 할당할 수 있다.\n",
    "- 함수는 튜플이나 리스트의 일부로 사용될 수 있다.\n"
   ]
  },
  {
   "cell_type": "code",
   "execution_count": 12,
   "id": "f4a45b92-a03b-4545-86fc-a760dfc9f5d6",
   "metadata": {},
   "outputs": [
    {
     "name": "stdout",
     "output_type": "stream",
     "text": [
      "a = 1.0, b = 1.0, c = 1.0, f = [<built-in function sin>, <built-in function cos>]\n"
     ]
    }
   ],
   "source": [
    "import math\n",
    "a = math.sin(math.pi/2)\n",
    "s = math.sin\n",
    "b = s(math.pi/2)\n",
    "f = [math.sin, math.cos]\n",
    "c = f[0](math.pi/2)\n",
    "\n",
    "print(\"a = {0}, b = {1}, c = {2}, f = {3}\".format(a,b,c,f))"
   ]
  },
  {
   "cell_type": "markdown",
   "id": "1c38f4e8-3c0b-4caf-a8b2-a3fe2c4b6584",
   "metadata": {},
   "source": [
    "## lambda를 이용한 무명함수 (anonymous function)\n",
    "- lambda 표현 형식 `lambda arguments : expression`\n",
    "- return 타입이 없는 이유는 lambda는 항상 순수함수가 되어야 하기 때문."
   ]
  },
  {
   "cell_type": "code",
   "execution_count": 14,
   "id": "a311eaf6-6744-4273-b11c-bda9f49cc4f9",
   "metadata": {},
   "outputs": [
    {
     "name": "stdout",
     "output_type": "stream",
     "text": [
      "15\n"
     ]
    }
   ],
   "source": [
    "def f(a):\n",
    "    return a + 10\n",
    "\n",
    "print(f(5))"
   ]
  },
  {
   "cell_type": "code",
   "execution_count": 15,
   "id": "793d21c9-e966-47e2-93c5-1cb9aead144c",
   "metadata": {},
   "outputs": [
    {
     "data": {
      "text/plain": [
       "<function __main__.<lambda>(a)>"
      ]
     },
     "execution_count": 15,
     "metadata": {},
     "output_type": "execute_result"
    }
   ],
   "source": [
    "lambda a : a+10"
   ]
  },
  {
   "cell_type": "code",
   "execution_count": 16,
   "id": "47deee85-8ba9-4d68-aa05-bb8edf5ef5eb",
   "metadata": {},
   "outputs": [
    {
     "data": {
      "text/plain": [
       "15"
      ]
     },
     "execution_count": 16,
     "metadata": {},
     "output_type": "execute_result"
    }
   ],
   "source": [
    "(lambda a : a+10)(5)"
   ]
  },
  {
   "cell_type": "code",
   "execution_count": 66,
   "id": "81e3e9d6-f169-41f8-9111-f73ff28bf02a",
   "metadata": {},
   "outputs": [
    {
     "name": "stdout",
     "output_type": "stream",
     "text": [
      "15\n"
     ]
    }
   ],
   "source": [
    "g= lambda a : a+10 #람다식은 순수함수 이므로 일급 변수인 g에 대입가능.\n",
    "print(g(5))"
   ]
  },
  {
   "cell_type": "code",
   "execution_count": 19,
   "id": "dfc5e1ed-2f0c-4e97-b06a-366c9ddadefe",
   "metadata": {},
   "outputs": [],
   "source": [
    "def factorial(n):\n",
    "    return 1 if n==0 else n * factorial(n-1)"
   ]
  },
  {
   "cell_type": "code",
   "execution_count": 20,
   "id": "3c9c2bec-5845-4679-8dcf-c3503dd3d4f0",
   "metadata": {},
   "outputs": [
    {
     "data": {
      "text/plain": [
       "<function __main__.<lambda>(n)>"
      ]
     },
     "execution_count": 20,
     "metadata": {},
     "output_type": "execute_result"
    }
   ],
   "source": [
    "lambda n:1 if n==0 else n * factorial(n-1)"
   ]
  },
  {
   "cell_type": "code",
   "execution_count": 24,
   "id": "42984a42-16d4-47a6-a83b-4bb8a3bc5c76",
   "metadata": {},
   "outputs": [
    {
     "name": "stdout",
     "output_type": "stream",
     "text": [
      "120\n"
     ]
    }
   ],
   "source": [
    "factorial_lambda = lambda n: 1 if n==0 else n *factorial_lambda(n-1)\n",
    "print(factorial_lambda(5))"
   ]
  },
  {
   "cell_type": "code",
   "execution_count": 25,
   "id": "cf5d7c5d-fb07-4b66-bc34-068f97d4fe8c",
   "metadata": {},
   "outputs": [
    {
     "data": {
      "text/plain": [
       "6"
      ]
     },
     "execution_count": 25,
     "metadata": {},
     "output_type": "execute_result"
    }
   ],
   "source": [
    "x = lambda a,b,c : a+b+c\n",
    "x(1,2,3)"
   ]
  },
  {
   "cell_type": "code",
   "execution_count": 27,
   "id": "47f5c466-92ed-43cb-a3a2-0bdf40a3781b",
   "metadata": {},
   "outputs": [
    {
     "data": {
      "text/plain": [
       "6"
      ]
     },
     "execution_count": 27,
     "metadata": {},
     "output_type": "execute_result"
    }
   ],
   "source": [
    "x = lambda a,/,b=2, *, c=3 : a+b+c\n",
    "x(1,2,c=3)"
   ]
  },
  {
   "cell_type": "code",
   "execution_count": 28,
   "id": "7e9d8dfd-57f7-4021-9f7f-c15c15c621eb",
   "metadata": {},
   "outputs": [
    {
     "ename": "TypeError",
     "evalue": "<lambda>() takes from 1 to 2 positional arguments but 3 were given",
     "output_type": "error",
     "traceback": [
      "\u001b[0;31m---------------------------------------------------------------------------\u001b[0m",
      "\u001b[0;31mTypeError\u001b[0m                                 Traceback (most recent call last)",
      "\u001b[0;32m/var/folders/hp/zz_v74bx3912w8s2fz07537r0000gn/T/ipykernel_68643/1952346218.py\u001b[0m in \u001b[0;36m<module>\u001b[0;34m\u001b[0m\n\u001b[0;32m----> 1\u001b[0;31m \u001b[0mx\u001b[0m\u001b[0;34m(\u001b[0m\u001b[0;36m1\u001b[0m\u001b[0;34m,\u001b[0m\u001b[0;36m2\u001b[0m\u001b[0;34m,\u001b[0m\u001b[0;36m3\u001b[0m\u001b[0;34m)\u001b[0m\u001b[0;34m\u001b[0m\u001b[0;34m\u001b[0m\u001b[0m\n\u001b[0m",
      "\u001b[0;31mTypeError\u001b[0m: <lambda>() takes from 1 to 2 positional arguments but 3 were given"
     ]
    }
   ],
   "source": [
    "x(1,2,3)"
   ]
  },
  {
   "cell_type": "markdown",
   "id": "7af1893d-96f4-4951-a95b-e601a39f12a1",
   "metadata": {},
   "source": [
    "### Filter 함수 : Filter 함수의 문법\n",
    "filter(function_to_apply, iterable)"
   ]
  },
  {
   "cell_type": "code",
   "execution_count": 29,
   "id": "a7eb0e6d-f2ba-4e20-8504-006b87ace054",
   "metadata": {},
   "outputs": [],
   "source": [
    "# 예시 : 리스트에 있는 정수 중에서 홀수 골라내기\n",
    "\n",
    "lst = [1,3,4,6,8,5,9]"
   ]
  },
  {
   "cell_type": "code",
   "execution_count": 30,
   "id": "e88081ba-6ad7-4fe6-b0a3-9079ff11bfef",
   "metadata": {},
   "outputs": [
    {
     "name": "stdout",
     "output_type": "stream",
     "text": [
      "[1, 3, 5, 9]\n"
     ]
    }
   ],
   "source": [
    "odd_lst = []\n",
    "for n in lst:\n",
    "    if n%2:\n",
    "        odd_lst.append(n)\n",
    "        \n",
    "print(odd_lst)"
   ]
  },
  {
   "cell_type": "markdown",
   "id": "d77dea0c-b661-42dc-b887-dcf58ebc1a74",
   "metadata": {},
   "source": [
    "- List comprehension을 사용한 문법."
   ]
  },
  {
   "cell_type": "code",
   "execution_count": 32,
   "id": "835a79e3-361d-4663-b22d-1509d9817ee8",
   "metadata": {},
   "outputs": [
    {
     "data": {
      "text/plain": [
       "[1, 3, 5, 9]"
      ]
     },
     "execution_count": 32,
     "metadata": {},
     "output_type": "execute_result"
    }
   ],
   "source": [
    "odd_lst = [x for x in lst if x%2]\n",
    "odd_lst"
   ]
  },
  {
   "cell_type": "markdown",
   "id": "d848b2a0-c199-4d62-b2aa-28f3792985c9",
   "metadata": {},
   "source": [
    "- filter 함수는 iterator를 반환한다."
   ]
  },
  {
   "cell_type": "code",
   "execution_count": 35,
   "id": "e808d23a-0782-44fa-9532-cd154ed3ac51",
   "metadata": {},
   "outputs": [
    {
     "data": {
      "text/plain": [
       "<filter at 0x7f91a8951100>"
      ]
     },
     "execution_count": 35,
     "metadata": {},
     "output_type": "execute_result"
    }
   ],
   "source": [
    "new_lst = filter(lambda x: x%2 , lst)\n",
    "new_lst"
   ]
  },
  {
   "cell_type": "code",
   "execution_count": 36,
   "id": "4944ad94-d6f0-4a4e-95e1-0f7c344401b3",
   "metadata": {},
   "outputs": [
    {
     "data": {
      "text/plain": [
       "[1, 3, 5, 9]"
      ]
     },
     "execution_count": 36,
     "metadata": {},
     "output_type": "execute_result"
    }
   ],
   "source": [
    "list(new_lst)"
   ]
  },
  {
   "cell_type": "code",
   "execution_count": 37,
   "id": "e00e5a10-98df-4a20-8e13-db09c7e1144f",
   "metadata": {},
   "outputs": [
    {
     "data": {
      "text/plain": [
       "1"
      ]
     },
     "execution_count": 37,
     "metadata": {},
     "output_type": "execute_result"
    }
   ],
   "source": [
    "new_lst = filter(lambda x : x%2, lst)\n",
    "next(new_lst)"
   ]
  },
  {
   "cell_type": "code",
   "execution_count": 38,
   "id": "5f37a39a-b001-4e00-81a9-c09a6b3c7055",
   "metadata": {},
   "outputs": [
    {
     "data": {
      "text/plain": [
       "3"
      ]
     },
     "execution_count": 38,
     "metadata": {},
     "output_type": "execute_result"
    }
   ],
   "source": [
    "next(new_lst)"
   ]
  },
  {
   "cell_type": "code",
   "execution_count": 39,
   "id": "20ee6417-87a5-4d86-a834-69b433a58021",
   "metadata": {},
   "outputs": [
    {
     "data": {
      "text/plain": [
       "5"
      ]
     },
     "execution_count": 39,
     "metadata": {},
     "output_type": "execute_result"
    }
   ],
   "source": [
    "next(new_lst)"
   ]
  },
  {
   "cell_type": "code",
   "execution_count": 40,
   "id": "c8cd925a-8dab-4cb5-b56c-abf3f50df218",
   "metadata": {},
   "outputs": [
    {
     "data": {
      "text/plain": [
       "9"
      ]
     },
     "execution_count": 40,
     "metadata": {},
     "output_type": "execute_result"
    }
   ],
   "source": [
    "next(new_lst)"
   ]
  },
  {
   "cell_type": "code",
   "execution_count": 41,
   "id": "543b1c53-74ff-4b10-a0f6-7f865359d0ce",
   "metadata": {},
   "outputs": [
    {
     "ename": "StopIteration",
     "evalue": "",
     "output_type": "error",
     "traceback": [
      "\u001b[0;31m---------------------------------------------------------------------------\u001b[0m",
      "\u001b[0;31mStopIteration\u001b[0m                             Traceback (most recent call last)",
      "\u001b[0;32m/var/folders/hp/zz_v74bx3912w8s2fz07537r0000gn/T/ipykernel_68643/4168795204.py\u001b[0m in \u001b[0;36m<module>\u001b[0;34m\u001b[0m\n\u001b[0;32m----> 1\u001b[0;31m \u001b[0mnext\u001b[0m\u001b[0;34m(\u001b[0m\u001b[0mnew_lst\u001b[0m\u001b[0;34m)\u001b[0m\u001b[0;34m\u001b[0m\u001b[0;34m\u001b[0m\u001b[0m\n\u001b[0m",
      "\u001b[0;31mStopIteration\u001b[0m: "
     ]
    }
   ],
   "source": [
    "next(new_lst)"
   ]
  },
  {
   "cell_type": "markdown",
   "id": "30aaf5d2-96e1-49a5-9663-ae3a543721b2",
   "metadata": {},
   "source": [
    "### map 함수 map(function_to_apply, iterable)\n",
    "- 리스트 원소의 제곱을 리스트로 반환하기\n",
    "- for loop 이용하기.\n"
   ]
  },
  {
   "cell_type": "code",
   "execution_count": 42,
   "id": "f5c7fb97-82ed-4bbb-8292-70676bad3444",
   "metadata": {},
   "outputs": [
    {
     "data": {
      "text/plain": [
       "[1, 4, 9, 16, 25]"
      ]
     },
     "execution_count": 42,
     "metadata": {},
     "output_type": "execute_result"
    }
   ],
   "source": [
    "lst = [1,2,3,4,5]\n",
    "lst_squared = []\n",
    "\n",
    "for n in lst:\n",
    "    lst_squared.append(n**2)\n",
    "    \n",
    "lst_squared"
   ]
  },
  {
   "cell_type": "code",
   "execution_count": 44,
   "id": "424aeb80-8c8a-43c8-86d6-5efd6cf9481b",
   "metadata": {},
   "outputs": [
    {
     "data": {
      "text/plain": [
       "[1, 4, 9, 16, 25]"
      ]
     },
     "execution_count": 44,
     "metadata": {},
     "output_type": "execute_result"
    }
   ],
   "source": [
    "#List comprehension 이용하기.\n",
    "lst = [1,2,3,4,5]\n",
    "lst_squared = [x**2 for x in lst]\n",
    "lst_squared"
   ]
  },
  {
   "cell_type": "code",
   "execution_count": 45,
   "id": "04a7b4cc-da42-4b59-ab71-589c55235a65",
   "metadata": {},
   "outputs": [
    {
     "data": {
      "text/plain": [
       "[1, 4, 9, 16, 25]"
      ]
     },
     "execution_count": 45,
     "metadata": {},
     "output_type": "execute_result"
    }
   ],
   "source": [
    "# map 함수 이용하기.\n",
    "def square(x):\n",
    "    return x**2\n",
    "\n",
    "lst = [1,2,3,4,5]\n",
    "lst_squared = list(map(square, lst))\n",
    "lst_squared\n"
   ]
  },
  {
   "cell_type": "markdown",
   "id": "a79cc113-71f0-49a7-869a-4c4a18c593c6",
   "metadata": {},
   "source": [
    "### map() 과 lambda 이용하기."
   ]
  },
  {
   "cell_type": "code",
   "execution_count": 48,
   "id": "da8aa8ea-ec80-4d44-96cc-b1de0b325777",
   "metadata": {},
   "outputs": [
    {
     "name": "stdout",
     "output_type": "stream",
     "text": [
      "[1, 2, 3, 4, 5]\n",
      "[1, 4, 9, 16, 25]\n"
     ]
    }
   ],
   "source": [
    "print(lst)\n",
    "lst_squared = list(map(lambda x : x**2, lst))\n",
    "print(lst_squared)"
   ]
  },
  {
   "cell_type": "code",
   "execution_count": 50,
   "id": "913b1383-5888-494c-8f58-71a2401ed177",
   "metadata": {},
   "outputs": [
    {
     "data": {
      "text/plain": [
       "1"
      ]
     },
     "execution_count": 50,
     "metadata": {},
     "output_type": "execute_result"
    }
   ],
   "source": [
    "lst_squared = map(lambda x: x**2, lst)\n",
    "next(lst_squared)"
   ]
  },
  {
   "cell_type": "markdown",
   "id": "5c2f7e91-821c-4a05-9a02-6b7e5c85a13a",
   "metadata": {},
   "source": [
    "### reduce()\n",
    "- reduce(function_to_apply, iterable[, inital])\n",
    "- 1부터 5까지의 합 구하기"
   ]
  },
  {
   "cell_type": "code",
   "execution_count": 51,
   "id": "af5c2952-b404-40a2-9fc2-7f70d1a31954",
   "metadata": {},
   "outputs": [
    {
     "name": "stdout",
     "output_type": "stream",
     "text": [
      "15\n"
     ]
    }
   ],
   "source": [
    "lst = range(1,6)\n",
    "total = 0\n",
    "\n",
    "for n in lst:\n",
    "    total += n\n",
    "    \n",
    "print(total)"
   ]
  },
  {
   "cell_type": "code",
   "execution_count": 52,
   "id": "d5c66cdc-b803-4084-8c95-d49beedaa0d9",
   "metadata": {},
   "outputs": [
    {
     "name": "stdout",
     "output_type": "stream",
     "text": [
      "15\n"
     ]
    }
   ],
   "source": [
    "from functools import reduce\n",
    "total = reduce(lambda a,b : a+b, lst)\n",
    "print(total)"
   ]
  },
  {
   "cell_type": "code",
   "execution_count": 54,
   "id": "be1177d0-fed8-4670-b7b0-8c923acd48cf",
   "metadata": {},
   "outputs": [
    {
     "data": {
      "text/plain": [
       "1"
      ]
     },
     "execution_count": 54,
     "metadata": {},
     "output_type": "execute_result"
    }
   ],
   "source": [
    "# reduce 함수를 사용하여 factorial 다시 구현하기.\n",
    "\n",
    "from functools import reduce\n",
    "def factorial_4(n):\n",
    "    assert n>=0\n",
    "    \n",
    "    if n == 0:\n",
    "        return 1\n",
    "    else : return reduce(lambda a,b: a*b, range(1, n+1))\n",
    "\n",
    "factorial_4(1)"
   ]
  },
  {
   "cell_type": "code",
   "execution_count": 55,
   "id": "7f915a63-3647-494a-8f59-26bf84a3a822",
   "metadata": {},
   "outputs": [
    {
     "name": "stdout",
     "output_type": "stream",
     "text": [
      "0 1\n",
      "1 1\n",
      "2 2\n",
      "3 6\n",
      "4 24\n"
     ]
    }
   ],
   "source": [
    "for n in range(5):\n",
    "    print(n, factorial_4(n))"
   ]
  },
  {
   "cell_type": "code",
   "execution_count": 56,
   "id": "aa2d64bc-2e96-43ad-872e-e827c813483e",
   "metadata": {},
   "outputs": [
    {
     "name": "stdout",
     "output_type": "stream",
     "text": [
      "ABBCCC\n"
     ]
    }
   ],
   "source": [
    "from functools import reduce\n",
    "a = reduce(lambda x,y: x+y, ['A', 'BB', 'CCC'])\n",
    "print(a)"
   ]
  },
  {
   "cell_type": "code",
   "execution_count": 57,
   "id": "fc79a4bd-463b-429c-99f9-a15324f3c75c",
   "metadata": {},
   "outputs": [
    {
     "name": "stdout",
     "output_type": "stream",
     "text": [
      "Help on built-in function reduce in module _functools:\n",
      "\n",
      "reduce(...)\n",
      "    reduce(function, sequence[, initial]) -> value\n",
      "    \n",
      "    Apply a function of two arguments cumulatively to the items of a sequence,\n",
      "    from left to right, so as to reduce the sequence to a single value.\n",
      "    For example, reduce(lambda x, y: x+y, [1, 2, 3, 4, 5]) calculates\n",
      "    ((((1+2)+3)+4)+5).  If initial is present, it is placed before the items\n",
      "    of the sequence in the calculation, and serves as a default when the\n",
      "    sequence is empty.\n",
      "\n"
     ]
    }
   ],
   "source": [
    "help(reduce)"
   ]
  },
  {
   "cell_type": "code",
   "execution_count": 58,
   "id": "cdc3de34-3a8d-4fe7-9214-9c6ec6c7fddd",
   "metadata": {},
   "outputs": [
    {
     "data": {
      "text/plain": [
       "25"
      ]
     },
     "execution_count": 58,
     "metadata": {},
     "output_type": "execute_result"
    }
   ],
   "source": [
    "reduce(lambda a,b : a+b, range(1,6), 10)"
   ]
  },
  {
   "cell_type": "code",
   "execution_count": 59,
   "id": "064a6809-c4d7-4af4-b24d-b55fc53256e0",
   "metadata": {},
   "outputs": [
    {
     "data": {
      "text/plain": [
       "10"
      ]
     },
     "execution_count": 59,
     "metadata": {},
     "output_type": "execute_result"
    }
   ],
   "source": [
    "reduce(lambda a,b : a+b, [], 10)"
   ]
  },
  {
   "cell_type": "code",
   "execution_count": 60,
   "id": "22660171-6f4b-44df-92a3-ed062a2a43c2",
   "metadata": {},
   "outputs": [
    {
     "name": "stdout",
     "output_type": "stream",
     "text": [
      "1 + 2 = 3\n",
      "3 + 3 = 6\n",
      "6 + 4 = 10\n",
      "10 + 5 = 15\n"
     ]
    },
    {
     "data": {
      "text/plain": [
       "15"
      ]
     },
     "execution_count": 60,
     "metadata": {},
     "output_type": "execute_result"
    }
   ],
   "source": [
    "def add_and_print(a,b):\n",
    "    res = a+b\n",
    "    print(f\"{a} + {b} = {res}\")\n",
    "    return res\n",
    "\n",
    "reduce(add_and_print, range(1,6))"
   ]
  },
  {
   "cell_type": "code",
   "execution_count": 61,
   "id": "1bca4937-4788-4b4c-b61c-5f8db91fcd8d",
   "metadata": {},
   "outputs": [
    {
     "name": "stdout",
     "output_type": "stream",
     "text": [
      "10 + 1 = 11\n",
      "11 + 2 = 13\n",
      "13 + 3 = 16\n",
      "16 + 4 = 20\n",
      "20 + 5 = 25\n"
     ]
    },
    {
     "data": {
      "text/plain": [
       "25"
      ]
     },
     "execution_count": 61,
     "metadata": {},
     "output_type": "execute_result"
    }
   ],
   "source": [
    "reduce(add_and_print, range(1, 6), 10)"
   ]
  },
  {
   "cell_type": "code",
   "execution_count": 63,
   "id": "f2b9f66c-d22a-4618-a33d-0adf4e222bf7",
   "metadata": {},
   "outputs": [
    {
     "data": {
      "text/plain": [
       "8"
      ]
     },
     "execution_count": 63,
     "metadata": {},
     "output_type": "execute_result"
    }
   ],
   "source": [
    "lst = [1, 5, 2, 7, 8]\n",
    "reduce(lambda a, b: a if a >= b else b, lst)"
   ]
  },
  {
   "cell_type": "code",
   "execution_count": 64,
   "id": "54358a04-08f2-4985-a8ee-7016d08b50e1",
   "metadata": {},
   "outputs": [
    {
     "data": {
      "text/plain": [
       "1"
      ]
     },
     "execution_count": 64,
     "metadata": {},
     "output_type": "execute_result"
    }
   ],
   "source": [
    "lst = [1, 5, 2, 7, 8]\n",
    "reduce(lambda a, b: b if a >= b else a, lst)"
   ]
  },
  {
   "cell_type": "code",
   "execution_count": null,
   "id": "15d214a1-86c8-4079-9547-aec6ea07235a",
   "metadata": {},
   "outputs": [],
   "source": []
  }
 ],
 "metadata": {
  "kernelspec": {
   "display_name": "Python 3 (ipykernel)",
   "language": "python",
   "name": "python3"
  },
  "language_info": {
   "codemirror_mode": {
    "name": "ipython",
    "version": 3
   },
   "file_extension": ".py",
   "mimetype": "text/x-python",
   "name": "python",
   "nbconvert_exporter": "python",
   "pygments_lexer": "ipython3",
   "version": "3.9.7"
  }
 },
 "nbformat": 4,
 "nbformat_minor": 5
}
