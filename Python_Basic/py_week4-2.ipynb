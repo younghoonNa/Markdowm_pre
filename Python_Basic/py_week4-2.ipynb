{
 "cells": [
  {
   "cell_type": "markdown",
   "id": "50d966b1-92e0-456a-b5c8-72d06abf73aa",
   "metadata": {},
   "source": [
    "# Set\n",
    "\n",
    "`set_name = {element, element, ⋯} `\n",
    "\n",
    "## Set 특징\n",
    "- 순서가 없는 (unordered) 데이터 모음\n",
    "- 중복된 원소가 없음\n",
    "- Iterable\n",
    "- set 자체는 mutable이지만 원소는 immutable"
   ]
  },
  {
   "cell_type": "markdown",
   "id": "8785acb8-713c-4d30-9dc7-8ac6afdbe109",
   "metadata": {},
   "source": [
    "### Empty Set 생성"
   ]
  },
  {
   "cell_type": "code",
   "execution_count": 2,
   "id": "b3a26b1d-ef2b-4eff-b1ac-d1c1022160fa",
   "metadata": {},
   "outputs": [
    {
     "name": "stdout",
     "output_type": "stream",
     "text": [
      "set()\n",
      "원소의 갯수 : 0\n"
     ]
    }
   ],
   "source": [
    "set_1 = set()\n",
    "print(set_1)\n",
    "print(f\"원소의 갯수 : {len(set_1)}\")"
   ]
  },
  {
   "cell_type": "code",
   "execution_count": 6,
   "id": "581e6e99-cc32-48c6-9a6f-537f8b24f43c",
   "metadata": {},
   "outputs": [],
   "source": [
    "s1 = set([1, 5, 7, 3, 9])\n",
    "s2 = set([7, 3, 5, 3, 5, 7, 14]) # 중복된 원소는 제거된다\n",
    "s3 = {5, 21, 4, 3, 5}"
   ]
  },
  {
   "cell_type": "code",
   "execution_count": 8,
   "id": "3cd78670-a364-49bf-85f6-1e919ea9a336",
   "metadata": {},
   "outputs": [
    {
     "name": "stdout",
     "output_type": "stream",
     "text": [
      "{1, 3, 5, 7, 9}\n",
      "{3, 5, 14, 7}\n",
      "{5, 3, 4, 21}\n"
     ]
    }
   ],
   "source": [
    "print(s1)\n",
    "print(s2)\n",
    "print(s3)"
   ]
  },
  {
   "cell_type": "code",
   "execution_count": 9,
   "id": "cddcc4b5-4ced-4d42-b23f-066df9cf052e",
   "metadata": {},
   "outputs": [
    {
     "name": "stdout",
     "output_type": "stream",
     "text": [
      "{'a', 'b', 'c'}\n"
     ]
    }
   ],
   "source": [
    "s4 = set(\"abc\")\n",
    "print(s4)"
   ]
  },
  {
   "cell_type": "code",
   "execution_count": 10,
   "id": "184635cf-9c81-42ed-960a-128e10f16921",
   "metadata": {},
   "outputs": [
    {
     "data": {
      "text/plain": [
       "{'abc'}"
      ]
     },
     "execution_count": 10,
     "metadata": {},
     "output_type": "execute_result"
    }
   ],
   "source": [
    "s5 = {'abc'}\n",
    "s5"
   ]
  },
  {
   "cell_type": "markdown",
   "id": "74d6236d-06f0-4446-b324-310de1f826df",
   "metadata": {},
   "source": [
    "## Set의 원소로 hashable 객체만 사용가능\n",
    "- Python의 튜플, 정수, 실수, 문자열 등과 같은 모든 immutable 데이터 유형들은 hashable\n",
    "-  Python의 리스트, 딕셔너리, set 등과 같은 모든 mutable 데이터 유형들은 unhashable"
   ]
  },
  {
   "cell_type": "code",
   "execution_count": 11,
   "id": "21ad0151-b560-4033-9c42-9f1db2630ea8",
   "metadata": {},
   "outputs": [],
   "source": [
    "s4 = {1,3,5, 'abc'}\n",
    "s5 = {1,3,5, 'abc', (12,3)}"
   ]
  },
  {
   "cell_type": "code",
   "execution_count": 12,
   "id": "a14de966-dd46-4bc4-ad83-cc944315ccf1",
   "metadata": {},
   "outputs": [
    {
     "ename": "TypeError",
     "evalue": "unhashable type: 'list'",
     "output_type": "error",
     "traceback": [
      "\u001b[0;31m---------------------------------------------------------------------------\u001b[0m",
      "\u001b[0;31mTypeError\u001b[0m                                 Traceback (most recent call last)",
      "\u001b[0;32m/var/folders/hp/zz_v74bx3912w8s2fz07537r0000gn/T/ipykernel_94496/1374794781.py\u001b[0m in \u001b[0;36m<module>\u001b[0;34m\u001b[0m\n\u001b[0;32m----> 1\u001b[0;31m \u001b[0ms6\u001b[0m \u001b[0;34m=\u001b[0m \u001b[0;34m{\u001b[0m\u001b[0;36m1\u001b[0m\u001b[0;34m,\u001b[0m\u001b[0;36m3\u001b[0m\u001b[0;34m,\u001b[0m\u001b[0;36m5\u001b[0m\u001b[0;34m,\u001b[0m \u001b[0;34m'abc'\u001b[0m\u001b[0;34m,\u001b[0m \u001b[0;34m[\u001b[0m\u001b[0;36m12\u001b[0m\u001b[0;34m,\u001b[0m \u001b[0;36m3\u001b[0m\u001b[0;34m]\u001b[0m\u001b[0;34m}\u001b[0m\u001b[0;34m\u001b[0m\u001b[0;34m\u001b[0m\u001b[0m\n\u001b[0m",
      "\u001b[0;31mTypeError\u001b[0m: unhashable type: 'list'"
     ]
    }
   ],
   "source": [
    "s6 = {1,3,5, 'abc', [12, 3]}"
   ]
  },
  {
   "cell_type": "code",
   "execution_count": 13,
   "id": "5f822728-ed18-4aa9-a520-b051fbf9c1a3",
   "metadata": {},
   "outputs": [
    {
     "ename": "TypeError",
     "evalue": "unhashable type: 'set'",
     "output_type": "error",
     "traceback": [
      "\u001b[0;31m---------------------------------------------------------------------------\u001b[0m",
      "\u001b[0;31mTypeError\u001b[0m                                 Traceback (most recent call last)",
      "\u001b[0;32m/var/folders/hp/zz_v74bx3912w8s2fz07537r0000gn/T/ipykernel_94496/1082327172.py\u001b[0m in \u001b[0;36m<module>\u001b[0;34m\u001b[0m\n\u001b[0;32m----> 1\u001b[0;31m \u001b[0ms7\u001b[0m \u001b[0;34m=\u001b[0m \u001b[0;34m{\u001b[0m\u001b[0;36m1\u001b[0m\u001b[0;34m,\u001b[0m\u001b[0;36m3\u001b[0m\u001b[0;34m,\u001b[0m\u001b[0;36m5\u001b[0m\u001b[0;34m,\u001b[0m\u001b[0;34m'abc'\u001b[0m\u001b[0;34m,\u001b[0m \u001b[0;34m{\u001b[0m\u001b[0;36m12\u001b[0m\u001b[0;34m,\u001b[0m\u001b[0;36m3\u001b[0m\u001b[0;34m}\u001b[0m\u001b[0;34m}\u001b[0m\u001b[0;34m\u001b[0m\u001b[0;34m\u001b[0m\u001b[0m\n\u001b[0m",
      "\u001b[0;31mTypeError\u001b[0m: unhashable type: 'set'"
     ]
    }
   ],
   "source": [
    "s7 = {1,3,5,'abc', {12,3}}"
   ]
  },
  {
   "cell_type": "code",
   "execution_count": 14,
   "id": "b267e3fc-af16-4054-9b20-4d2d81406880",
   "metadata": {},
   "outputs": [
    {
     "ename": "TypeError",
     "evalue": "unhashable type: 'dict'",
     "output_type": "error",
     "traceback": [
      "\u001b[0;31m---------------------------------------------------------------------------\u001b[0m",
      "\u001b[0;31mTypeError\u001b[0m                                 Traceback (most recent call last)",
      "\u001b[0;32m/var/folders/hp/zz_v74bx3912w8s2fz07537r0000gn/T/ipykernel_94496/4060660612.py\u001b[0m in \u001b[0;36m<module>\u001b[0;34m\u001b[0m\n\u001b[0;32m----> 1\u001b[0;31m \u001b[0ms8\u001b[0m \u001b[0;34m=\u001b[0m \u001b[0;34m{\u001b[0m\u001b[0;36m1\u001b[0m\u001b[0;34m,\u001b[0m\u001b[0;36m3\u001b[0m\u001b[0;34m,\u001b[0m\u001b[0;36m5\u001b[0m\u001b[0;34m,\u001b[0m\u001b[0;34m'abc'\u001b[0m\u001b[0;34m,\u001b[0m \u001b[0;34m{\u001b[0m\u001b[0;34m'a'\u001b[0m\u001b[0;34m:\u001b[0m\u001b[0;36m12\u001b[0m\u001b[0;34m}\u001b[0m\u001b[0;34m}\u001b[0m\u001b[0;34m\u001b[0m\u001b[0;34m\u001b[0m\u001b[0m\n\u001b[0m",
      "\u001b[0;31mTypeError\u001b[0m: unhashable type: 'dict'"
     ]
    }
   ],
   "source": [
    "s8 = {1,3,5,'abc', {'a':12}}"
   ]
  },
  {
   "cell_type": "markdown",
   "id": "18965030-3772-41b6-8853-399599735658",
   "metadata": {},
   "source": [
    "## Set Comprehension"
   ]
  },
  {
   "cell_type": "code",
   "execution_count": 15,
   "id": "544f3a70-4fbe-4979-b59a-2fdc4b66ed58",
   "metadata": {},
   "outputs": [
    {
     "data": {
      "text/plain": [
       "{1, 2, 3, 4, 5}"
      ]
     },
     "execution_count": 15,
     "metadata": {},
     "output_type": "execute_result"
    }
   ],
   "source": [
    "{ n for n in range(1,6)}"
   ]
  },
  {
   "cell_type": "code",
   "execution_count": 16,
   "id": "3ad30769-1f21-4ea2-aa73-e180ad862850",
   "metadata": {},
   "outputs": [
    {
     "data": {
      "text/plain": [
       "{1, 3, 5, 7, 9}"
      ]
     },
     "execution_count": 16,
     "metadata": {},
     "output_type": "execute_result"
    }
   ],
   "source": [
    "{2*n+1 for n in range(5)}"
   ]
  },
  {
   "cell_type": "code",
   "execution_count": 17,
   "id": "6ab58659-da4a-428e-8def-eed0d159ddd9",
   "metadata": {},
   "outputs": [
    {
     "data": {
      "text/plain": [
       "{(1, 0), (1, 1), (1, 2), (5, 0), (5, 1), (5, 2)}"
      ]
     },
     "execution_count": 17,
     "metadata": {},
     "output_type": "execute_result"
    }
   ],
   "source": [
    "{ (m,n) for m in [1,5] for n in range(3) }"
   ]
  },
  {
   "cell_type": "code",
   "execution_count": 18,
   "id": "1510bd89-61c3-4bdc-998a-e7cb84d75b70",
   "metadata": {},
   "outputs": [
    {
     "data": {
      "text/plain": [
       "{1, 9, 25}"
      ]
     },
     "execution_count": 18,
     "metadata": {},
     "output_type": "execute_result"
    }
   ],
   "source": [
    "ss = {1,5,'abc', (1,2), 3}\n",
    "{ n**2 for n in ss if type(n) == int }"
   ]
  },
  {
   "cell_type": "markdown",
   "id": "e8d7c2c2-29b0-43a1-ad07-42bf9cc455fe",
   "metadata": {},
   "source": [
    "## Set은 List에 비해서 처리하는 속도가 빠르다.\n",
    "\n",
    "- 일반적으로 set은 list보다 검색 속도가 빠르다. 그 이유는?\n",
    "- list는 동적배열구조, set은 hashable 구조."
   ]
  },
  {
   "cell_type": "code",
   "execution_count": 19,
   "id": "e57904fa-1a92-44ab-9f1c-7589225ad17a",
   "metadata": {},
   "outputs": [],
   "source": [
    "import random\n",
    "random.seed(0)"
   ]
  },
  {
   "cell_type": "code",
   "execution_count": 20,
   "id": "e59a9cbe-c3b4-4647-93ac-872ea35845bc",
   "metadata": {},
   "outputs": [],
   "source": [
    "N = 100\n",
    "lst = list(range(N+1))\n",
    "s = set(lst)"
   ]
  },
  {
   "cell_type": "code",
   "execution_count": 21,
   "id": "41981c53-334d-41d3-99a3-83d44fd3bf51",
   "metadata": {},
   "outputs": [
    {
     "name": "stdout",
     "output_type": "stream",
     "text": [
      "69.5 µs ± 116 ns per loop (mean ± std. dev. of 7 runs, 10000 loops each)\n"
     ]
    }
   ],
   "source": [
    "%%timeit\n",
    "for i_ in range(50):\n",
    "    n = random.randint(0, 2*N)\n",
    "    n in lst"
   ]
  },
  {
   "cell_type": "code",
   "execution_count": 22,
   "id": "5e6687da-c82b-4feb-b16f-c0b00bf53c93",
   "metadata": {},
   "outputs": [
    {
     "name": "stdout",
     "output_type": "stream",
     "text": [
      "31.8 µs ± 343 ns per loop (mean ± std. dev. of 7 runs, 10000 loops each)\n"
     ]
    }
   ],
   "source": [
    "%%timeit\n",
    "for i_ in range(50):\n",
    "    n = random.randint(0, 2*N)\n",
    "    n in s"
   ]
  },
  {
   "cell_type": "code",
   "execution_count": 23,
   "id": "291c449f-d368-4ec4-988f-e131dcd59d08",
   "metadata": {},
   "outputs": [
    {
     "name": "stdout",
     "output_type": "stream",
     "text": [
      "14.1 ms ± 102 µs per loop (mean ± std. dev. of 7 runs, 100 loops each)\n"
     ]
    }
   ],
   "source": [
    "%%timeit\n",
    "for i_ in range(10000):\n",
    "    n = random.randint(0, 2*N)\n",
    "    n in lst"
   ]
  },
  {
   "cell_type": "code",
   "execution_count": 24,
   "id": "21940a07-6e45-4353-9200-e083c51483ca",
   "metadata": {},
   "outputs": [
    {
     "name": "stdout",
     "output_type": "stream",
     "text": [
      "6.47 ms ± 38.5 µs per loop (mean ± std. dev. of 7 runs, 100 loops each)\n"
     ]
    }
   ],
   "source": [
    "%%timeit\n",
    "for i_ in range(10000):\n",
    "    n = random.randint(0, 2*N)\n",
    "    n in s"
   ]
  },
  {
   "cell_type": "code",
   "execution_count": 26,
   "id": "916abfd6-0a40-4d77-b498-f9a07cab175d",
   "metadata": {},
   "outputs": [
    {
     "data": {
      "text/plain": [
       "(2.1855345911949686, 2.179289026275116)"
      ]
     },
     "execution_count": 26,
     "metadata": {},
     "output_type": "execute_result"
    }
   ],
   "source": [
    "69.5 / 31.8 , 14.1/6.47"
   ]
  },
  {
   "cell_type": "markdown",
   "id": "12815717-fd3c-4019-9038-e338f7b802f8",
   "metadata": {},
   "source": [
    "## Set 연산과 메소드\n",
    "### 멤버쉽 확인"
   ]
  },
  {
   "cell_type": "code",
   "execution_count": 27,
   "id": "ce7cfade-5978-46fc-98c5-925e327e08b5",
   "metadata": {},
   "outputs": [
    {
     "data": {
      "text/plain": [
       "(True, True)"
      ]
     },
     "execution_count": 27,
     "metadata": {},
     "output_type": "execute_result"
    }
   ],
   "source": [
    "s1 = {1,2,3,4,5}\n",
    "s2 = {3,5,7,9}\n",
    "\n",
    "4 in s1, 4 not in s2"
   ]
  },
  {
   "cell_type": "markdown",
   "id": "7be1d43f-5576-4332-9711-9f0f47a620a9",
   "metadata": {},
   "source": [
    "`Add`\n",
    "- set.add(element): 세트에 새로운 element를 추가. element가 이미 원소로 존재하면 아무 일도 일어나지 않음"
   ]
  },
  {
   "cell_type": "code",
   "execution_count": 29,
   "id": "75ceb1af-c060-4f7e-8170-c9c06b28c18f",
   "metadata": {},
   "outputs": [
    {
     "name": "stdout",
     "output_type": "stream",
     "text": [
      "{1, 3}\n",
      "{1, 3, 6}\n",
      "{1, 3, 6}\n",
      "{'abc', 1, 3, 6}\n"
     ]
    },
    {
     "ename": "TypeError",
     "evalue": "unhashable type: 'set'",
     "output_type": "error",
     "traceback": [
      "\u001b[0;31m---------------------------------------------------------------------------\u001b[0m",
      "\u001b[0;31mTypeError\u001b[0m                                 Traceback (most recent call last)",
      "\u001b[0;32m/var/folders/hp/zz_v74bx3912w8s2fz07537r0000gn/T/ipykernel_94496/1830487112.py\u001b[0m in \u001b[0;36m<module>\u001b[0;34m\u001b[0m\n\u001b[1;32m      7\u001b[0m \u001b[0mset_1\u001b[0m\u001b[0;34m.\u001b[0m\u001b[0madd\u001b[0m\u001b[0;34m(\u001b[0m\u001b[0;34m\"abc\"\u001b[0m\u001b[0;34m)\u001b[0m\u001b[0;34m\u001b[0m\u001b[0;34m\u001b[0m\u001b[0m\n\u001b[1;32m      8\u001b[0m \u001b[0mprint\u001b[0m\u001b[0;34m(\u001b[0m\u001b[0mset_1\u001b[0m\u001b[0;34m)\u001b[0m\u001b[0;34m\u001b[0m\u001b[0;34m\u001b[0m\u001b[0m\n\u001b[0;32m----> 9\u001b[0;31m \u001b[0mset_1\u001b[0m\u001b[0;34m.\u001b[0m\u001b[0madd\u001b[0m\u001b[0;34m(\u001b[0m\u001b[0;34m{\u001b[0m\u001b[0;36m1\u001b[0m\u001b[0;34m,\u001b[0m\u001b[0;36m3\u001b[0m\u001b[0;34m}\u001b[0m\u001b[0;34m)\u001b[0m \u001b[0;31m# mutable 객체이기 때문에 에러가 남.\u001b[0m\u001b[0;34m\u001b[0m\u001b[0;34m\u001b[0m\u001b[0m\n\u001b[0m\u001b[1;32m     10\u001b[0m \u001b[0mprint\u001b[0m\u001b[0;34m(\u001b[0m\u001b[0mset_1\u001b[0m\u001b[0;34m)\u001b[0m\u001b[0;34m\u001b[0m\u001b[0;34m\u001b[0m\u001b[0m\n",
      "\u001b[0;31mTypeError\u001b[0m: unhashable type: 'set'"
     ]
    }
   ],
   "source": [
    "set_1 = {1, 3}\n",
    "print(set_1)\n",
    "set_1.add(6)\n",
    "print(set_1)\n",
    "set_1.add(6)\n",
    "print(set_1)\n",
    "set_1.add(\"abc\")\n",
    "print(set_1)\n",
    "set_1.add({1,3}) # mutable 객체이기 때문에 에러가 남.\n",
    "print(set_1)"
   ]
  },
  {
   "cell_type": "markdown",
   "id": "e15c14f6-255e-423f-955c-1f980306659c",
   "metadata": {},
   "source": [
    "`pop`\n",
    "- set.pop() : 셋에서 임의의 원소를 제거하고 제거된 원소를 반환함."
   ]
  },
  {
   "cell_type": "code",
   "execution_count": 32,
   "id": "1536f207-daa3-4ec1-b577-19e56dcec2b2",
   "metadata": {},
   "outputs": [
    {
     "name": "stdout",
     "output_type": "stream",
     "text": [
      "{1, 3, 6}\n",
      "1\n",
      "{3, 6}\n"
     ]
    }
   ],
   "source": [
    "print(set_1)\n",
    "element = set_1.pop()\n",
    "print(element)\n",
    "print(set_1)"
   ]
  },
  {
   "cell_type": "markdown",
   "id": "b224a11b-cc17-4a67-89bb-c739504cf4ff",
   "metadata": {},
   "source": [
    "`Discard`\n",
    "- set.discard(element):\n",
    "    - 셋에서 element를 제거.\n",
    "    - element가 세트의 원소가 아니면 아무 일도 일어나지 않음."
   ]
  },
  {
   "cell_type": "code",
   "execution_count": 33,
   "id": "e816e574-f973-402c-b32e-67d30b7a6d9b",
   "metadata": {},
   "outputs": [
    {
     "data": {
      "text/plain": [
       "{'b', 'g', 'r'}"
      ]
     },
     "execution_count": 33,
     "metadata": {},
     "output_type": "execute_result"
    }
   ],
   "source": [
    "color = {'r' , 'g', 'b'}\n",
    "color"
   ]
  },
  {
   "cell_type": "code",
   "execution_count": 34,
   "id": "c814bc31-1c93-4a34-9b64-54241f9fff46",
   "metadata": {},
   "outputs": [
    {
     "data": {
      "text/plain": [
       "{'b', 'g', 'r'}"
      ]
     },
     "execution_count": 34,
     "metadata": {},
     "output_type": "execute_result"
    }
   ],
   "source": [
    "color.discard('m')\n",
    "color"
   ]
  },
  {
   "cell_type": "code",
   "execution_count": 35,
   "id": "62593044-9b5d-47e7-90bd-54ae4b594686",
   "metadata": {},
   "outputs": [
    {
     "data": {
      "text/plain": [
       "{'g', 'r'}"
      ]
     },
     "execution_count": 35,
     "metadata": {},
     "output_type": "execute_result"
    }
   ],
   "source": [
    "color.discard('b')\n",
    "color"
   ]
  },
  {
   "cell_type": "markdown",
   "id": "991ba482-54f7-45fa-930d-1b99f3abb622",
   "metadata": {},
   "source": [
    "`Remove`\n",
    "\n",
    "- set.remove(element):\n",
    "    - 세트에서 element를 제거\n",
    "    - element가 세트의 원소가 아니면 KeyError 발생."
   ]
  },
  {
   "cell_type": "code",
   "execution_count": 39,
   "id": "a29815a1-de16-4490-ba26-44ff2f134442",
   "metadata": {},
   "outputs": [
    {
     "data": {
      "text/plain": [
       "{'b', 'g', 'r'}"
      ]
     },
     "execution_count": 39,
     "metadata": {},
     "output_type": "execute_result"
    }
   ],
   "source": [
    "color = {'r', 'g', 'b'}\n",
    "color"
   ]
  },
  {
   "cell_type": "code",
   "execution_count": 40,
   "id": "9a7078bd-a79f-4362-8086-1e85e2352da1",
   "metadata": {},
   "outputs": [
    {
     "data": {
      "text/plain": [
       "{'g', 'r'}"
      ]
     },
     "execution_count": 40,
     "metadata": {},
     "output_type": "execute_result"
    }
   ],
   "source": [
    "color.remove('b')\n",
    "color"
   ]
  },
  {
   "cell_type": "code",
   "execution_count": 41,
   "id": "3c7ac49c-98bd-4992-940c-eeb0ef004aba",
   "metadata": {},
   "outputs": [
    {
     "ename": "KeyError",
     "evalue": "'m'",
     "output_type": "error",
     "traceback": [
      "\u001b[0;31m---------------------------------------------------------------------------\u001b[0m",
      "\u001b[0;31mKeyError\u001b[0m                                  Traceback (most recent call last)",
      "\u001b[0;32m/var/folders/hp/zz_v74bx3912w8s2fz07537r0000gn/T/ipykernel_94496/1760891637.py\u001b[0m in \u001b[0;36m<module>\u001b[0;34m\u001b[0m\n\u001b[0;32m----> 1\u001b[0;31m \u001b[0mcolor\u001b[0m\u001b[0;34m.\u001b[0m\u001b[0mremove\u001b[0m\u001b[0;34m(\u001b[0m\u001b[0;34m'm'\u001b[0m\u001b[0;34m)\u001b[0m\u001b[0;34m\u001b[0m\u001b[0;34m\u001b[0m\u001b[0m\n\u001b[0m\u001b[1;32m      2\u001b[0m \u001b[0mcolor\u001b[0m\u001b[0;34m\u001b[0m\u001b[0;34m\u001b[0m\u001b[0m\n",
      "\u001b[0;31mKeyError\u001b[0m: 'm'"
     ]
    }
   ],
   "source": [
    "color.remove('m')\n",
    "color"
   ]
  },
  {
   "cell_type": "markdown",
   "id": "1d21c738-bd96-4419-b952-60b62ee8de5b",
   "metadata": {},
   "source": [
    "`clear`\n",
    "- set.clear() : 세트에서 모든 원소를 제거."
   ]
  },
  {
   "cell_type": "code",
   "execution_count": 42,
   "id": "2677a183-26de-4c92-ac0f-0bceddf98055",
   "metadata": {},
   "outputs": [
    {
     "name": "stdout",
     "output_type": "stream",
     "text": [
      "{3, 6}\n",
      "set()\n"
     ]
    }
   ],
   "source": [
    "print(set_1)\n",
    "set_1.clear()\n",
    "print(set_1)"
   ]
  },
  {
   "cell_type": "markdown",
   "id": "6dc48e44-f6a8-4b1a-86c2-f05673a96e73",
   "metadata": {},
   "source": [
    "`copy`\n",
    "- set.copy() : 셋 객체의 shallow copy를 반환"
   ]
  },
  {
   "cell_type": "code",
   "execution_count": 47,
   "id": "d843871d-88ba-4d54-8f84-b7f87e455ab7",
   "metadata": {},
   "outputs": [
    {
     "name": "stdout",
     "output_type": "stream",
     "text": [
      "{1, 3, 5} {1, 3, 5} {1, 3, 5}\n"
     ]
    }
   ],
   "source": [
    "set_2 = {1,3,5}\n",
    "set_3 = set_2\n",
    "set_4 = set_2.copy()\n",
    "print(set_2, set_3, set_4)"
   ]
  },
  {
   "cell_type": "code",
   "execution_count": 48,
   "id": "5e87d127-d53e-498a-8332-fbc93d35bec5",
   "metadata": {},
   "outputs": [
    {
     "name": "stdout",
     "output_type": "stream",
     "text": [
      "{1, 3, 4, 5} {1, 3, 4, 5} {1, 3, 5}\n",
      "140496187139456 140496187139456 140496187139680\n"
     ]
    }
   ],
   "source": [
    "set_2.add(4)\n",
    "print(set_2, set_3, set_4)\n",
    "print(id(set_2), id(set_3), id(set_4))"
   ]
  },
  {
   "cell_type": "markdown",
   "id": "2ef636bc-796f-4bcf-94e5-ae3b6ad9fdb9",
   "metadata": {},
   "source": [
    "# 교집합 연산: intersection( ), &, intersection_update( )\n",
    "\n",
    "- set1.intersection(set2):\n",
    "    - 두 세트 set1과 set2의 교집합을 반환.\n",
    "    - 두 세트는 변화 없음.\n",
    "- set1.intersection_update(set2):\n",
    "    - set2는 변화가 없고,\n",
    "    - set1이 두 세트의 교집합이 됨"
   ]
  },
  {
   "cell_type": "code",
   "execution_count": 56,
   "id": "9e97c4f0-c779-4ade-be1e-7bd793ee056f",
   "metadata": {},
   "outputs": [
    {
     "ename": "ModuleNotFoundError",
     "evalue": "No module named 'pspmisc'",
     "output_type": "error",
     "traceback": [
      "\u001b[0;31m---------------------------------------------------------------------------\u001b[0m",
      "\u001b[0;31mModuleNotFoundError\u001b[0m                       Traceback (most recent call last)",
      "\u001b[0;32m/var/folders/hp/zz_v74bx3912w8s2fz07537r0000gn/T/ipykernel_94496/3472669779.py\u001b[0m in \u001b[0;36m<module>\u001b[0;34m\u001b[0m\n\u001b[0;32m----> 1\u001b[0;31m \u001b[0;32mimport\u001b[0m \u001b[0mpspmisc\u001b[0m\u001b[0;34m\u001b[0m\u001b[0;34m\u001b[0m\u001b[0m\n\u001b[0m",
      "\u001b[0;31mModuleNotFoundError\u001b[0m: No module named 'pspmisc'"
     ]
    }
   ],
   "source": [
    "import pspmisc"
   ]
  },
  {
   "cell_type": "code",
   "execution_count": 54,
   "id": "0bbe6723-e50e-4ce8-a2de-4af98b406c86",
   "metadata": {},
   "outputs": [
    {
     "ename": "NameError",
     "evalue": "name 'pspmisc' is not defined",
     "output_type": "error",
     "traceback": [
      "\u001b[0;31m---------------------------------------------------------------------------\u001b[0m",
      "\u001b[0;31mNameError\u001b[0m                                 Traceback (most recent call last)",
      "\u001b[0;32m/var/folders/hp/zz_v74bx3912w8s2fz07537r0000gn/T/ipykernel_94496/3316234521.py\u001b[0m in \u001b[0;36m<module>\u001b[0;34m\u001b[0m\n\u001b[1;32m      1\u001b[0m \u001b[0ms1\u001b[0m \u001b[0;34m=\u001b[0m \u001b[0;34m{\u001b[0m\u001b[0;36m1\u001b[0m\u001b[0;34m,\u001b[0m \u001b[0;36m3\u001b[0m\u001b[0;34m,\u001b[0m \u001b[0;36m5\u001b[0m\u001b[0;34m,\u001b[0m \u001b[0;36m7\u001b[0m\u001b[0;34m,\u001b[0m \u001b[0;36m9\u001b[0m\u001b[0;34m}\u001b[0m\u001b[0;34m\u001b[0m\u001b[0;34m\u001b[0m\u001b[0m\n\u001b[1;32m      2\u001b[0m \u001b[0ms2\u001b[0m \u001b[0;34m=\u001b[0m \u001b[0;34m{\u001b[0m\u001b[0;36m7\u001b[0m\u001b[0;34m,\u001b[0m \u001b[0;36m9\u001b[0m\u001b[0;34m,\u001b[0m \u001b[0;36m11\u001b[0m\u001b[0;34m,\u001b[0m \u001b[0;36m13\u001b[0m\u001b[0;34m}\u001b[0m\u001b[0;34m\u001b[0m\u001b[0;34m\u001b[0m\u001b[0m\n\u001b[0;32m----> 3\u001b[0;31m \u001b[0mpspmisc\u001b[0m\u001b[0;34m.\u001b[0m\u001b[0mplot_venn_diagram\u001b[0m\u001b[0;34m(\u001b[0m\u001b[0ms1\u001b[0m\u001b[0;34m,\u001b[0m \u001b[0ms2\u001b[0m\u001b[0;34m)\u001b[0m\u001b[0;34m\u001b[0m\u001b[0;34m\u001b[0m\u001b[0m\n\u001b[0m\u001b[1;32m      4\u001b[0m \u001b[0mprint\u001b[0m\u001b[0;34m(\u001b[0m\u001b[0;34m\"Before intersection operation\"\u001b[0m\u001b[0;34m)\u001b[0m\u001b[0;34m\u001b[0m\u001b[0;34m\u001b[0m\u001b[0m\n\u001b[1;32m      5\u001b[0m \u001b[0mprint\u001b[0m\u001b[0;34m(\u001b[0m\u001b[0;34m\"s1 = \"\u001b[0m\u001b[0;34m,\u001b[0m \u001b[0ms1\u001b[0m\u001b[0;34m)\u001b[0m\u001b[0;34m\u001b[0m\u001b[0;34m\u001b[0m\u001b[0m\n",
      "\u001b[0;31mNameError\u001b[0m: name 'pspmisc' is not defined"
     ]
    }
   ],
   "source": [
    "s1 = {1, 3, 5, 7, 9}\n",
    "s2 = {7, 9, 11, 13}\n",
    "pspmisc.plot_venn_diagram(s1, s2)\n",
    "print(\"Before intersection operation\")\n",
    "print(\"s1 = \", s1)\n",
    "print(\"s2 = \", s2)\n",
    "s3 = s1.intersection(s2)\n",
    "s4 = s1 & s2\n",
    "print(\"After s1.intersection(s2)\")\n",
    "print(\"s1 = \", s1)\n",
    "print(\"s2 = \", s2)\n",
    "print(\"s3 = \", s3)\n",
    "print(\"s4 = \", s4)\n",
    "s1.intersection_update(s2)\n",
    "print(\"After s1.intersection_update(s2)\")\n",
    "print(\"s1 = \", s1)\n",
    "print(\"s2 = \", s2)\n",
    "print(\"s3 = \", s3)\n",
    "print(\"s4 = \", s4)"
   ]
  },
  {
   "cell_type": "markdown",
   "id": "44632ec5-7a1f-497e-9fe0-44061c1b7d49",
   "metadata": {},
   "source": [
    "# 합집합 연산: union( ), |, update( )\n",
    "- set1.union(set2):\n",
    "    - 두 세트 set1과 set2의 합집합을 반환.\n",
    "    - 두 세트는 변화 없음.\n",
    "- set1.update(set2):\n",
    "    - set2는 변화가 없고,\n",
    "    - set1이 두 세트의 합집합이 됨"
   ]
  },
  {
   "cell_type": "code",
   "execution_count": 57,
   "id": "f56da66e-03f5-44dc-8f80-c2e6a277db27",
   "metadata": {},
   "outputs": [
    {
     "ename": "NameError",
     "evalue": "name 'pspmisc' is not defined",
     "output_type": "error",
     "traceback": [
      "\u001b[0;31m---------------------------------------------------------------------------\u001b[0m",
      "\u001b[0;31mNameError\u001b[0m                                 Traceback (most recent call last)",
      "\u001b[0;32m/var/folders/hp/zz_v74bx3912w8s2fz07537r0000gn/T/ipykernel_94496/796893922.py\u001b[0m in \u001b[0;36m<module>\u001b[0;34m\u001b[0m\n\u001b[1;32m      1\u001b[0m \u001b[0ms1\u001b[0m \u001b[0;34m=\u001b[0m \u001b[0;34m{\u001b[0m\u001b[0;36m1\u001b[0m\u001b[0;34m,\u001b[0m \u001b[0;36m3\u001b[0m\u001b[0;34m,\u001b[0m \u001b[0;36m5\u001b[0m\u001b[0;34m,\u001b[0m \u001b[0;36m7\u001b[0m\u001b[0;34m,\u001b[0m \u001b[0;36m9\u001b[0m\u001b[0;34m}\u001b[0m\u001b[0;34m\u001b[0m\u001b[0;34m\u001b[0m\u001b[0m\n\u001b[1;32m      2\u001b[0m \u001b[0ms2\u001b[0m \u001b[0;34m=\u001b[0m \u001b[0;34m{\u001b[0m\u001b[0;36m7\u001b[0m\u001b[0;34m,\u001b[0m \u001b[0;36m9\u001b[0m\u001b[0;34m,\u001b[0m \u001b[0;36m11\u001b[0m\u001b[0;34m,\u001b[0m \u001b[0;36m13\u001b[0m\u001b[0;34m}\u001b[0m\u001b[0;34m\u001b[0m\u001b[0;34m\u001b[0m\u001b[0m\n\u001b[0;32m----> 3\u001b[0;31m \u001b[0mpspmisc\u001b[0m\u001b[0;34m.\u001b[0m\u001b[0mplot_venn_diagram\u001b[0m\u001b[0;34m(\u001b[0m\u001b[0ms1\u001b[0m\u001b[0;34m,\u001b[0m \u001b[0ms2\u001b[0m\u001b[0;34m)\u001b[0m\u001b[0;34m\u001b[0m\u001b[0;34m\u001b[0m\u001b[0m\n\u001b[0m\u001b[1;32m      4\u001b[0m \u001b[0mprint\u001b[0m\u001b[0;34m(\u001b[0m\u001b[0;34m\"Before union operation\"\u001b[0m\u001b[0;34m)\u001b[0m\u001b[0;34m\u001b[0m\u001b[0;34m\u001b[0m\u001b[0m\n\u001b[1;32m      5\u001b[0m \u001b[0mprint\u001b[0m\u001b[0;34m(\u001b[0m\u001b[0;34m\"s1 = \"\u001b[0m\u001b[0;34m,\u001b[0m \u001b[0ms1\u001b[0m\u001b[0;34m)\u001b[0m\u001b[0;34m\u001b[0m\u001b[0;34m\u001b[0m\u001b[0m\n",
      "\u001b[0;31mNameError\u001b[0m: name 'pspmisc' is not defined"
     ]
    }
   ],
   "source": [
    "s1 = {1, 3, 5, 7, 9}\n",
    "s2 = {7, 9, 11, 13}\n",
    "pspmisc.plot_venn_diagram(s1, s2)\n",
    "print(\"Before union operation\")\n",
    "print(\"s1 = \", s1)\n",
    "print(\"s2 = \", s2)\n",
    "s5 = s1.union(s2)\n",
    "s6 = s1 | s2\n",
    "print(\"After s1.union(s2)\")\n",
    "print(\"s1 = \", s1)\n",
    "print(\"s2 = \", s2)\n",
    "print(\"s5 = \", s5)\n",
    "print(\"s6 = \", s6)\n",
    "s3 = s1.update(s2)\n",
    "print(\"After s1.update(s2)\")\n",
    "print(\"s1 = \", s1)\n",
    "print(\"s2 = \", s2)\n",
    "print(\"s5 = \", s5)\n",
    "print(\"s6 = \", s6)"
   ]
  },
  {
   "cell_type": "markdown",
   "id": "61daf527-3737-4281-999a-ec187dbbfa3a",
   "metadata": {},
   "source": [
    "# 차집합 연산 (Difference Set): difference( ), -, difference_update\n",
    "- set1.difference(set2):\n",
    "    - set1에서 set2을 뺀 차집합을 반환.\n",
    "    - 두 세트는 변화 없음.\n",
    "- set1.difference_update(set2):\n",
    "    - set2는 변화가 없고,\n",
    "    - set1이 두 세트의 차집합이 됨"
   ]
  },
  {
   "cell_type": "code",
   "execution_count": 58,
   "id": "7c97cf8b-0d45-46b7-ae16-6f6abf6d0682",
   "metadata": {},
   "outputs": [
    {
     "name": "stdout",
     "output_type": "stream",
     "text": [
      "Before difference operation\n",
      "s1 =  {1, 3, 5, 7, 9}\n",
      "s2 =  {9, 11, 13, 7}\n"
     ]
    },
    {
     "ename": "NameError",
     "evalue": "name 'pspmisc' is not defined",
     "output_type": "error",
     "traceback": [
      "\u001b[0;31m---------------------------------------------------------------------------\u001b[0m",
      "\u001b[0;31mNameError\u001b[0m                                 Traceback (most recent call last)",
      "\u001b[0;32m/var/folders/hp/zz_v74bx3912w8s2fz07537r0000gn/T/ipykernel_94496/3448721321.py\u001b[0m in \u001b[0;36m<module>\u001b[0;34m\u001b[0m\n\u001b[1;32m      4\u001b[0m \u001b[0mprint\u001b[0m\u001b[0;34m(\u001b[0m\u001b[0;34m\"s1 = \"\u001b[0m\u001b[0;34m,\u001b[0m \u001b[0ms1\u001b[0m\u001b[0;34m)\u001b[0m\u001b[0;34m\u001b[0m\u001b[0;34m\u001b[0m\u001b[0m\n\u001b[1;32m      5\u001b[0m \u001b[0mprint\u001b[0m\u001b[0;34m(\u001b[0m\u001b[0;34m\"s2 = \"\u001b[0m\u001b[0;34m,\u001b[0m \u001b[0ms2\u001b[0m\u001b[0;34m)\u001b[0m\u001b[0;34m\u001b[0m\u001b[0;34m\u001b[0m\u001b[0m\n\u001b[0;32m----> 6\u001b[0;31m \u001b[0mpspmisc\u001b[0m\u001b[0;34m.\u001b[0m\u001b[0mplot_venn_diagram\u001b[0m\u001b[0;34m(\u001b[0m\u001b[0ms1\u001b[0m\u001b[0;34m,\u001b[0m \u001b[0ms2\u001b[0m\u001b[0;34m)\u001b[0m\u001b[0;34m\u001b[0m\u001b[0;34m\u001b[0m\u001b[0m\n\u001b[0m\u001b[1;32m      7\u001b[0m \u001b[0ms7\u001b[0m \u001b[0;34m=\u001b[0m \u001b[0ms1\u001b[0m\u001b[0;34m.\u001b[0m\u001b[0mdifference\u001b[0m\u001b[0;34m(\u001b[0m\u001b[0ms2\u001b[0m\u001b[0;34m)\u001b[0m\u001b[0;34m\u001b[0m\u001b[0;34m\u001b[0m\u001b[0m\n\u001b[1;32m      8\u001b[0m \u001b[0ms8\u001b[0m \u001b[0;34m=\u001b[0m \u001b[0ms1\u001b[0m \u001b[0;34m-\u001b[0m \u001b[0ms2\u001b[0m\u001b[0;34m\u001b[0m\u001b[0;34m\u001b[0m\u001b[0m\n",
      "\u001b[0;31mNameError\u001b[0m: name 'pspmisc' is not defined"
     ]
    }
   ],
   "source": [
    "s1 = {1, 3, 5, 7, 9}\n",
    "s2 = {7, 9, 11, 13}\n",
    "print(\"Before difference operation\")\n",
    "print(\"s1 = \", s1)\n",
    "print(\"s2 = \", s2)\n",
    "pspmisc.plot_venn_diagram(s1, s2)\n",
    "s7 = s1.difference(s2)\n",
    "s8 = s1 - s2\n",
    "print(\"After s1.difference(s2)\")\n",
    "print(\"s1 = \", s1)\n",
    "print(\"s2 = \", s2)\n",
    "print(\"s7 = \", s7)\n",
    "print(\"s8 = \", s8)\n",
    "s1.difference_update(s2)\n",
    "print(\"After s1.difference_update(s2)\")\n",
    "print(\"s1 = \", s1)\n",
    "print(\"s2 = \", s2)\n",
    "print(\"s7 = \", s7)\n",
    "print(\"s8 = \", s8)"
   ]
  },
  {
   "cell_type": "code",
   "execution_count": 60,
   "id": "88bac115-4745-4f82-9ce1-e3584c6662a5",
   "metadata": {},
   "outputs": [
    {
     "data": {
      "text/plain": [
       "True"
      ]
     },
     "execution_count": 60,
     "metadata": {},
     "output_type": "execute_result"
    }
   ],
   "source": [
    "s1 - s2 == s1 - (s1 & s2)"
   ]
  },
  {
   "cell_type": "markdown",
   "id": "877e1fc0-7b38-4230-b7c4-8eb8b58005c2",
   "metadata": {},
   "source": [
    "# 대칭차집합 (Symmetric Difference Set): symmetric_difference(), ^, symmetric_difference_update\n",
    "- set1.symmetric_difference(set2):\n",
    "    - set1에서 set2을 뺀 대칭차집합을 반환.\n",
    "    - 두 세트는 변화 없음.\n",
    "- set1.symmetric_difference_update(set2):\n",
    "    - set2는 변화가 없고,\n",
    "    - set1이 두 세트의 대칭차집합이 됨"
   ]
  },
  {
   "cell_type": "code",
   "execution_count": 61,
   "id": "6fb7d489-9969-4163-b8d0-a36baa54a2a6",
   "metadata": {},
   "outputs": [
    {
     "name": "stdout",
     "output_type": "stream",
     "text": [
      "Before symmetric_difference operation\n",
      "s1 =  {1, 3, 5, 7, 9}\n",
      "s2 =  {9, 11, 13, 7}\n"
     ]
    },
    {
     "ename": "NameError",
     "evalue": "name 'pspmisc' is not defined",
     "output_type": "error",
     "traceback": [
      "\u001b[0;31m---------------------------------------------------------------------------\u001b[0m",
      "\u001b[0;31mNameError\u001b[0m                                 Traceback (most recent call last)",
      "\u001b[0;32m/var/folders/hp/zz_v74bx3912w8s2fz07537r0000gn/T/ipykernel_94496/3637877290.py\u001b[0m in \u001b[0;36m<module>\u001b[0;34m\u001b[0m\n\u001b[1;32m      4\u001b[0m \u001b[0mprint\u001b[0m\u001b[0;34m(\u001b[0m\u001b[0;34m\"s1 = \"\u001b[0m\u001b[0;34m,\u001b[0m \u001b[0ms1\u001b[0m\u001b[0;34m)\u001b[0m\u001b[0;34m\u001b[0m\u001b[0;34m\u001b[0m\u001b[0m\n\u001b[1;32m      5\u001b[0m \u001b[0mprint\u001b[0m\u001b[0;34m(\u001b[0m\u001b[0;34m\"s2 = \"\u001b[0m\u001b[0;34m,\u001b[0m \u001b[0ms2\u001b[0m\u001b[0;34m)\u001b[0m\u001b[0;34m\u001b[0m\u001b[0;34m\u001b[0m\u001b[0m\n\u001b[0;32m----> 6\u001b[0;31m \u001b[0mpspmisc\u001b[0m\u001b[0;34m.\u001b[0m\u001b[0mplot_venn_diagram\u001b[0m\u001b[0;34m(\u001b[0m\u001b[0ms1\u001b[0m\u001b[0;34m,\u001b[0m \u001b[0ms2\u001b[0m\u001b[0;34m)\u001b[0m\u001b[0;34m\u001b[0m\u001b[0;34m\u001b[0m\u001b[0m\n\u001b[0m\u001b[1;32m      7\u001b[0m \u001b[0ms9\u001b[0m \u001b[0;34m=\u001b[0m \u001b[0ms1\u001b[0m\u001b[0;34m.\u001b[0m\u001b[0msymmetric_difference\u001b[0m\u001b[0;34m(\u001b[0m\u001b[0ms2\u001b[0m\u001b[0;34m)\u001b[0m\u001b[0;34m\u001b[0m\u001b[0;34m\u001b[0m\u001b[0m\n\u001b[1;32m      8\u001b[0m \u001b[0ms10\u001b[0m \u001b[0;34m=\u001b[0m \u001b[0ms1\u001b[0m \u001b[0;34m^\u001b[0m \u001b[0ms2\u001b[0m\u001b[0;34m\u001b[0m\u001b[0;34m\u001b[0m\u001b[0m\n",
      "\u001b[0;31mNameError\u001b[0m: name 'pspmisc' is not defined"
     ]
    }
   ],
   "source": [
    "s1 = {1, 3, 5, 7, 9}\n",
    "s2 = {7, 9, 11, 13}\n",
    "print(\"Before symmetric_difference operation\")\n",
    "print(\"s1 = \", s1)\n",
    "print(\"s2 = \", s2)\n",
    "pspmisc.plot_venn_diagram(s1, s2)\n",
    "s9 = s1.symmetric_difference(s2)\n",
    "s10 = s1 ^ s2\n",
    "print(\"After s1.difference(s2)\")\n",
    "print(\"s1 = \", s1)\n",
    "print(\"s2 = \", s2)\n",
    "print(\"s9 = \", s9)\n",
    "print(\"s10 = \", s10)\n",
    "s1.symmetric_difference_update(s2)\n",
    "print(\"After s1.symmetric_difference_update(s2)\")\n",
    "print(\"s1 = \", s1)\n",
    "print(\"s2 = \", s2)\n",
    "print(\"s9 = \", s9)\n",
    "print(\"s10 = \", s10)"
   ]
  },
  {
   "cell_type": "markdown",
   "id": "4a1bdc9b-a380-4873-9d21-64b6c057bab8",
   "metadata": {},
   "source": [
    "# 부분집합과 진부분집합 확인\n",
    "- 부분집합 (subset) 확인: `issubset()` , `<=` , 안에 속하는지 여부, 같은건 False \n",
    "- 진부분집합 (proper subset) 확인: `<` , 안에 속하는지 + 같은지 , 같으면 True"
   ]
  },
  {
   "cell_type": "code",
   "execution_count": 62,
   "id": "1d265955-9251-4729-a8d5-59f2a154858b",
   "metadata": {},
   "outputs": [
    {
     "name": "stdout",
     "output_type": "stream",
     "text": [
      "ss1 < ss2 :  False\n",
      "ss1 <= ss2 :  True\n",
      "ss1 < ss3 :  True\n",
      "ss1 <= ss3 :  True\n",
      "ss1.issubset(ss2) : True\n",
      "ss1.issubset(ss3) : True\n"
     ]
    }
   ],
   "source": [
    "ss1 = {1, 3, 5, 7}\n",
    "ss2 = {1, 3, 5, 7}\n",
    "ss3 = {1, 3, 5, 7, 9, 11, 13}\n",
    "print(\"ss1 < ss2 : \", ss1 < ss2)\n",
    "print(\"ss1 <= ss2 : \", ss1 <= ss2)\n",
    "print(\"ss1 < ss3 : \", ss1 < ss3)\n",
    "print(\"ss1 <= ss3 : \", ss1 <= ss3)\n",
    "print(\"ss1.issubset(ss2) :\", ss1.issubset(ss2))\n",
    "print(\"ss1.issubset(ss3) :\", ss1.issubset(ss3))"
   ]
  },
  {
   "cell_type": "markdown",
   "id": "340b3512-2349-4b5e-9ab6-8ba68cd71b3c",
   "metadata": {},
   "source": [
    "# 상위집합과 진상위집합 확인\n",
    "- 상위집합 (superset) 확인: `issuperset()` , `>=`\n",
    "- 진상위집합 (proper superset) 확인: >"
   ]
  },
  {
   "cell_type": "code",
   "execution_count": 63,
   "id": "1fa09aff-0663-4c7d-9270-286e7ea6c2cc",
   "metadata": {},
   "outputs": [
    {
     "name": "stdout",
     "output_type": "stream",
     "text": [
      "ss2 > ss1 :  False\n",
      "ss3 > ss1 :  True\n",
      "ss2 >= ss1 :  True\n",
      "ss3 >= ss1 :  True\n",
      "ss2.issuperset(ss1) : True\n",
      "ss3.issuperset(ss1) : True\n"
     ]
    }
   ],
   "source": [
    "ss1 = {1, 3, 5, 7}\n",
    "ss2 = {1, 3, 5, 7}\n",
    "ss3 = {1, 3, 5, 7, 9, 11, 13}\n",
    "print(\"ss2 > ss1 : \", ss2 > ss1)\n",
    "print(\"ss3 > ss1 : \", ss3 > ss1)\n",
    "print(\"ss2 >= ss1 : \", ss2 >= ss1)\n",
    "print(\"ss3 >= ss1 : \", ss3 >= ss1)\n",
    "print(\"ss2.issuperset(ss1) :\", ss2.issuperset(ss1))\n",
    "print(\"ss3.issuperset(ss1) :\", ss3.issuperset(ss1))"
   ]
  },
  {
   "cell_type": "markdown",
   "id": "3f0d8896-7b93-4004-abe9-87234f667a0b",
   "metadata": {},
   "source": [
    "# 서로소집합 확인: \n",
    "`isdisjoint()` , `>=`"
   ]
  },
  {
   "cell_type": "code",
   "execution_count": 64,
   "id": "b7fa7e0b-ab7c-4885-83ac-93f53fabf340",
   "metadata": {},
   "outputs": [
    {
     "name": "stdout",
     "output_type": "stream",
     "text": [
      "False\n",
      "False\n",
      "True\n",
      "True\n"
     ]
    }
   ],
   "source": [
    "a = {1, 3, 5}\n",
    "b = {3, 5, 7}\n",
    "c = {10, 11}\n",
    "print(a.isdisjoint(b))\n",
    "print(b.isdisjoint(a))\n",
    "print(a.isdisjoint(c))\n",
    "print(c.isdisjoint(a))"
   ]
  },
  {
   "cell_type": "markdown",
   "id": "2cbf65e5-a497-4725-be05-688c7e696256",
   "metadata": {},
   "source": [
    "# Set 관련 메쏘드\n",
    "- len(object): 컨테이너 내의 항목의 개수 반환\n",
    "- sum(iterable, start=0): iterable의 합과 start의 합을 반환\n",
    "- min(iterable): iterable 내의 최솟값을 반환\n",
    "- max(iterable): iterable 내의 최댓값을 반환\n",
    "- any(iterable): iterable 내의 어떤 x가 True이면 True를 반환\n",
    "- all(iterable): iterable 내의 모든 x가 True이면 True를 반환\n",
    "- sorted(sequence, key=None, reverse=False): sequence의 모든 값을 정렬하여 만든 리스트를 반환\n",
    "- enumerate(iterable, start=0): start로 시작하는 카운트와 iterable 내의 value의 쌍을 가진 enumerate 객체를 반환\n",
    "- filter(function, iterable): iterable의 항목 x 중에서 function(x)의 결과가 True인 x를 iterable로 반환"
   ]
  },
  {
   "cell_type": "code",
   "execution_count": 68,
   "id": "404d3d8b-5594-4664-a996-81a877b16c66",
   "metadata": {},
   "outputs": [
    {
     "name": "stdout",
     "output_type": "stream",
     "text": [
      "4\n",
      "18\n",
      "28\n",
      "1\n",
      "9\n",
      "True\n",
      "True\n",
      "[1, 3, 5, 9]\n",
      "[9, 5, 3, 1]\n"
     ]
    }
   ],
   "source": [
    "s = {1, 3, 9, 5}\n",
    "print(len(s))\n",
    "print(sum(s))\n",
    "print(sum(s, 10))\n",
    "print(min(s))\n",
    "print(max(s))\n",
    "print(any(s))\n",
    "print(all(s))\n",
    "print(sorted(s))\n",
    "print(sorted(s, reverse=True))"
   ]
  },
  {
   "cell_type": "markdown",
   "id": "60df1274-acc7-4620-848f-0a0a34c6e74e",
   "metadata": {},
   "source": [
    "# 어떤 객체를 먼저 반환할지 모름."
   ]
  },
  {
   "cell_type": "code",
   "execution_count": 70,
   "id": "17a851cf-3927-4459-a1d3-29daa6bc32ea",
   "metadata": {},
   "outputs": [
    {
     "name": "stdout",
     "output_type": "stream",
     "text": [
      "0 0\n",
      "1 1\n",
      "2 3\n",
      "3 5\n",
      "10 0\n",
      "11 1\n",
      "12 3\n",
      "13 5\n"
     ]
    }
   ],
   "source": [
    "a = {1, 5, 0, 3}\n",
    "for n, v in enumerate(a): \n",
    "    print(n, v)\n",
    "for n, v in enumerate(a, 10):\n",
    "    print(n, v)"
   ]
  },
  {
   "cell_type": "markdown",
   "id": "05885ce0-1503-473d-a3ce-647b5ac15345",
   "metadata": {},
   "source": [
    "## filter 함수는 특정한 함수를 적용했을 때 참인 결과만 반환하는 함수"
   ]
  },
  {
   "cell_type": "code",
   "execution_count": 71,
   "id": "ba437e5f-e749-4cb3-a13b-3764a9446fd3",
   "metadata": {},
   "outputs": [
    {
     "name": "stdout",
     "output_type": "stream",
     "text": [
      "{1, 5, 9}\n"
     ]
    }
   ],
   "source": [
    "a = {1, -3, 5, -7, 9}\n",
    "y = filter(lambda x: x>0, a)\n",
    "print(set(y))"
   ]
  },
  {
   "cell_type": "markdown",
   "id": "4f99699b-8663-46a2-96e0-f826c014341b",
   "metadata": {},
   "source": [
    "# Frozen set\n",
    "- Immuatable 객체\n",
    "- Set 메소드 중에서 연산결과가 set에 영향을 미치지 않는 연산만 적용 가능.\n",
    "\n",
    "## Fronzen set 생성"
   ]
  },
  {
   "cell_type": "code",
   "execution_count": 72,
   "id": "da6814c7-917f-455b-a8f1-23a0321a93b6",
   "metadata": {},
   "outputs": [
    {
     "name": "stdout",
     "output_type": "stream",
     "text": [
      "frozenset()\n",
      "원소의 갯수  0\n"
     ]
    }
   ],
   "source": [
    "set_1 = frozenset()\n",
    "print(set_1)\n",
    "print(\"원소의 갯수 \" , len(set_1))"
   ]
  },
  {
   "cell_type": "code",
   "execution_count": 73,
   "id": "bc414a67-d515-495a-b886-be079dac015c",
   "metadata": {},
   "outputs": [
    {
     "name": "stdout",
     "output_type": "stream",
     "text": [
      "frozenset({1, 3, 5, 7, 9})\n",
      "frozenset({3, 5, 14, 7})\n"
     ]
    }
   ],
   "source": [
    "fs1 = frozenset([1, 5, 7, 3, 9])\n",
    "fs2 = frozenset([7, 3, 5, 3, 5, 7, 14]) # 중복된 원소는 제거된다\n",
    "print(fs1)\n",
    "print(fs2)"
   ]
  },
  {
   "cell_type": "code",
   "execution_count": 74,
   "id": "c928b7a9-cb7e-4ca5-9758-e5d4e656c14e",
   "metadata": {},
   "outputs": [
    {
     "data": {
      "text/plain": [
       "frozenset({1, 3, 5, 7, 9, 14})"
      ]
     },
     "execution_count": 74,
     "metadata": {},
     "output_type": "execute_result"
    }
   ],
   "source": [
    "fs1.union(fs2)"
   ]
  },
  {
   "cell_type": "code",
   "execution_count": 75,
   "id": "219a1b17-5446-4f07-ac17-5a62d8194630",
   "metadata": {},
   "outputs": [
    {
     "ename": "AttributeError",
     "evalue": "'frozenset' object has no attribute 'update'",
     "output_type": "error",
     "traceback": [
      "\u001b[0;31m---------------------------------------------------------------------------\u001b[0m",
      "\u001b[0;31mAttributeError\u001b[0m                            Traceback (most recent call last)",
      "\u001b[0;32m/var/folders/hp/zz_v74bx3912w8s2fz07537r0000gn/T/ipykernel_94496/3545644146.py\u001b[0m in \u001b[0;36m<module>\u001b[0;34m\u001b[0m\n\u001b[0;32m----> 1\u001b[0;31m \u001b[0mfs1\u001b[0m\u001b[0;34m.\u001b[0m\u001b[0mupdate\u001b[0m\u001b[0;34m(\u001b[0m\u001b[0mfs2\u001b[0m\u001b[0;34m)\u001b[0m\u001b[0;34m\u001b[0m\u001b[0;34m\u001b[0m\u001b[0m\n\u001b[0m",
      "\u001b[0;31mAttributeError\u001b[0m: 'frozenset' object has no attribute 'update'"
     ]
    }
   ],
   "source": [
    "fs1.update(fs2)"
   ]
  },
  {
   "cell_type": "code",
   "execution_count": 77,
   "id": "b05ba4fc-3e2c-4ece-b1d4-4fcdcf496ef9",
   "metadata": {},
   "outputs": [
    {
     "name": "stdout",
     "output_type": "stream",
     "text": [
      "frozenset({'a', 'b', 'c'})\n"
     ]
    }
   ],
   "source": [
    "fs3 = frozenset(\"abc\")\n",
    "print(fs3)"
   ]
  },
  {
   "cell_type": "code",
   "execution_count": 78,
   "id": "2cf1b411-3ad0-4d10-b22e-f21157c67068",
   "metadata": {
    "tags": []
   },
   "outputs": [
    {
     "data": {
      "text/plain": [
       "{'abc'}"
      ]
     },
     "execution_count": 78,
     "metadata": {},
     "output_type": "execute_result"
    }
   ],
   "source": [
    "s5 = {'abc'}\n",
    "s5"
   ]
  }
 ],
 "metadata": {
  "kernelspec": {
   "display_name": "Python 3 (ipykernel)",
   "language": "python",
   "name": "python3"
  },
  "language_info": {
   "codemirror_mode": {
    "name": "ipython",
    "version": 3
   },
   "file_extension": ".py",
   "mimetype": "text/x-python",
   "name": "python",
   "nbconvert_exporter": "python",
   "pygments_lexer": "ipython3",
   "version": "3.9.7"
  }
 },
 "nbformat": 4,
 "nbformat_minor": 5
}
