{
 "cells": [
  {
   "cell_type": "markdown",
   "id": "7820abd4-c1c2-45bf-9d7c-ae5305917eeb",
   "metadata": {},
   "source": [
    "# Numpy 개요\n",
    "- 수학, 과학, 공학, 데이터 과학 분야 응용 분야에서 Python으로 사용할 수 있는 open source 라이브러리\n",
    "- C/C++ Fortran과 통합하기 쉬움\n",
    "- 데이터 구조\n",
    "    - ndarray 클래스 : array 클래스라고 부르기도 함\n",
    "    - 동일한 데이터형 원소들 (주로 숫자형 데이터)의 다차원 배열\n",
    "    - indexing : 정수들의 tuple로 인덱스를 표현\n",
    "    - broadcastring\n",
    "- 다양한 수치 연산 도구\n",
    "    - 다차원 배열에 적용할 수 있는 벡터화 함수\n",
    "    - 선형대수 , 퓨리에 변환 ,콘볼류션, 통계 라이브러리 등.. ect\n",
    "    "
   ]
  },
  {
   "cell_type": "markdown",
   "id": "94121840-1325-4729-94e9-76a2b077e548",
   "metadata": {},
   "source": [
    "# Numpy의 장점\n",
    "\n",
    "- 다차원 배열 또는 행렬 연산의 편리함\n",
    "- 우수한 메모리 효율\n",
    "- 빠른 처리속도\n"
   ]
  },
  {
   "cell_type": "code",
   "execution_count": 1,
   "id": "3cf53726-c254-4d67-9c3e-80956557aff4",
   "metadata": {},
   "outputs": [
    {
     "data": {
      "text/plain": [
       "'1.20.3'"
      ]
     },
     "execution_count": 1,
     "metadata": {},
     "output_type": "execute_result"
    }
   ],
   "source": [
    "import numpy as np\n",
    "np.__version__"
   ]
  },
  {
   "cell_type": "code",
   "execution_count": 2,
   "id": "2d205aee-3041-4cf4-9b50-e096c77dc8da",
   "metadata": {},
   "outputs": [],
   "source": [
    "lst = [1,3,4]\n",
    "lst2 = [[1,3,4], [3,2,1]]\n",
    "\n",
    "a = np.array(lst)\n",
    "a2 = np.array(lst2)"
   ]
  },
  {
   "cell_type": "code",
   "execution_count": 3,
   "id": "ab97f120-19f3-4761-adca-826c3e6d2cb0",
   "metadata": {},
   "outputs": [
    {
     "data": {
      "text/plain": [
       "array([1, 3, 4])"
      ]
     },
     "execution_count": 3,
     "metadata": {},
     "output_type": "execute_result"
    }
   ],
   "source": [
    "a\n"
   ]
  },
  {
   "cell_type": "code",
   "execution_count": 4,
   "id": "2074ad6b-ed81-4a61-a0e5-c1b372e7f9b6",
   "metadata": {},
   "outputs": [
    {
     "data": {
      "text/plain": [
       "array([[1, 3, 4],\n",
       "       [3, 2, 1]])"
      ]
     },
     "execution_count": 4,
     "metadata": {},
     "output_type": "execute_result"
    }
   ],
   "source": [
    "a2"
   ]
  },
  {
   "cell_type": "code",
   "execution_count": 5,
   "id": "24d7c3ae-af3d-483f-a5d9-068451f9c2a7",
   "metadata": {},
   "outputs": [
    {
     "data": {
      "text/plain": [
       "1"
      ]
     },
     "execution_count": 5,
     "metadata": {},
     "output_type": "execute_result"
    }
   ],
   "source": [
    "a[0]"
   ]
  },
  {
   "cell_type": "code",
   "execution_count": 6,
   "id": "70238137-d35d-4fc9-b7ca-cdf356dda459",
   "metadata": {},
   "outputs": [
    {
     "data": {
      "text/plain": [
       "4"
      ]
     },
     "execution_count": 6,
     "metadata": {},
     "output_type": "execute_result"
    }
   ],
   "source": [
    "a[-1]"
   ]
  },
  {
   "cell_type": "code",
   "execution_count": 7,
   "id": "1e36ef4c-bd64-4f07-9bdf-dab057e7ea71",
   "metadata": {},
   "outputs": [
    {
     "data": {
      "text/plain": [
       "array([3, 4])"
      ]
     },
     "execution_count": 7,
     "metadata": {},
     "output_type": "execute_result"
    }
   ],
   "source": [
    "a[1:3]"
   ]
  },
  {
   "cell_type": "code",
   "execution_count": 8,
   "id": "7b36437f-2dfb-49e1-9742-31713b840f35",
   "metadata": {},
   "outputs": [
    {
     "data": {
      "text/plain": [
       "1"
      ]
     },
     "execution_count": 8,
     "metadata": {},
     "output_type": "execute_result"
    }
   ],
   "source": [
    "a2[1][2]"
   ]
  },
  {
   "cell_type": "code",
   "execution_count": 9,
   "id": "2bb5afa6-5ff5-4993-b4f2-cbff8a92d571",
   "metadata": {},
   "outputs": [
    {
     "data": {
      "text/plain": [
       "1"
      ]
     },
     "execution_count": 9,
     "metadata": {},
     "output_type": "execute_result"
    }
   ],
   "source": [
    "a2[1,2]"
   ]
  },
  {
   "cell_type": "code",
   "execution_count": 11,
   "id": "30051bb6-00d8-4366-a069-ae856749ffb2",
   "metadata": {},
   "outputs": [],
   "source": [
    "a_row = 10\n",
    "a_col = 10\n",
    "b_row = 10\n",
    "b_col = 10"
   ]
  },
  {
   "cell_type": "code",
   "execution_count": 12,
   "id": "e9c4e42b-0329-4006-b2a8-52549546ebe0",
   "metadata": {},
   "outputs": [],
   "source": [
    "na = np.random.randn(a_row, a_col)\n",
    "nb = np.random.randn(b_row, b_col)"
   ]
  },
  {
   "cell_type": "code",
   "execution_count": 13,
   "id": "a368de1b-c4d4-4040-9eba-47cc710a5489",
   "metadata": {},
   "outputs": [],
   "source": [
    "la = na.tolist()\n",
    "lb = nb.tolist()"
   ]
  },
  {
   "cell_type": "code",
   "execution_count": 14,
   "id": "aa4fca65-a4aa-49a3-a0d9-123660b6f7a3",
   "metadata": {},
   "outputs": [],
   "source": [
    "ma = np.matrix(na)\n",
    "mb = np.matrix(nb)"
   ]
  },
  {
   "cell_type": "code",
   "execution_count": 17,
   "id": "13f6675c-a5e8-4a1a-95d4-0c769ef43000",
   "metadata": {},
   "outputs": [
    {
     "name": "stdout",
     "output_type": "stream",
     "text": [
      "659 ns ± 1.33 ns per loop (mean ± std. dev. of 7 runs, 1000000 loops each)\n",
      "1.03 µs ± 5.4 ns per loop (mean ± std. dev. of 7 runs, 1000000 loops each)\n",
      "76.4 µs ± 641 ns per loop (mean ± std. dev. of 7 runs, 10000 loops each)\n",
      "1.07 µs ± 11.7 ns per loop (mean ± std. dev. of 7 runs, 1000000 loops each)\n",
      "2.21 µs ± 23 ns per loop (mean ± std. dev. of 7 runs, 100000 loops each)\n"
     ]
    }
   ],
   "source": [
    "%timeit na.dot(nb) \n",
    "%timeit na @ nb\n",
    "%timeit [[sum([r*c for r,c in zip(row, col)]) for col in zip(*lb)] for row in la]\n",
    "%timeit ma.dot(mb)\n",
    "%timeit ma @ mb\n"
   ]
  },
  {
   "cell_type": "code",
   "execution_count": 81,
   "id": "aa54c8ee-ac19-48c7-a821-6281cc1f6100",
   "metadata": {},
   "outputs": [],
   "source": [
    "# 소요 시간 비교 na.dot(nb) < ma.dot(mb) < na @ nb < ma @ mb < list 곱셈"
   ]
  },
  {
   "cell_type": "markdown",
   "id": "74ee24d0-c7ff-41b0-abc5-88cbdb046253",
   "metadata": {},
   "source": [
    "# Numpy의 다차원 배열과 리스트 객체의 구조 비교\n",
    "- 리스트\n",
    "    - 이질 (heterogeneous) 데이터 형 원소 가능\n",
    "    - 동적 배열\n",
    "    - 리스트는 선언시56 byte 원소 하나 추가할 때마다 8 * 4 만큼 늘어남.  head + address + addr 추가공간 형태\n",
    "    - 새로운 원소가 추가 될 때 마다 여유공간에 하나씩 채워넣음 따라서 용량이 늘어나진 않지만 하지만 참조 주소가 가르키는 용량 추가\n",
    "    \n",
    "- numpy 다차원배열 \n",
    "    - 동질 (homogeneous) 데이터 형 원소만 가능\n",
    "    - 고정크기 배열"
   ]
  },
  {
   "cell_type": "code",
   "execution_count": 83,
   "id": "fdd5267c-4ad3-4a42-b923-971bdda1bde0",
   "metadata": {},
   "outputs": [],
   "source": [
    "from sys import getsizeof"
   ]
  },
  {
   "cell_type": "code",
   "execution_count": 21,
   "id": "ad55f923-3c2e-4bff-bac7-62754fafe0ab",
   "metadata": {},
   "outputs": [
    {
     "name": "stdout",
     "output_type": "stream",
     "text": [
      "Addr. of lst: 2738107912896, No. of item(s): 0, Size of lst: 56 bytes, Size of items: 0 bytes\n",
      "Addr. of lst: 2738107912896, No. of item(s): 1, Size of lst: 88 bytes, Size of items: 28 bytes\n",
      "Addr. of lst: 2738107912896, No. of item(s): 2, Size of lst: 88 bytes, Size of items: 56 bytes\n",
      "Addr. of lst: 2738107912896, No. of item(s): 3, Size of lst: 88 bytes, Size of items: 84 bytes\n",
      "Addr. of lst: 2738107912896, No. of item(s): 4, Size of lst: 88 bytes, Size of items: 112 bytes\n",
      "Addr. of lst: 2738107912896, No. of item(s): 5, Size of lst: 120 bytes, Size of items: 140 bytes\n",
      "Addr. of lst: 2738107912896, No. of item(s): 6, Size of lst: 120 bytes, Size of items: 168 bytes\n",
      "Addr. of lst: 2738107912896, No. of item(s): 7, Size of lst: 120 bytes, Size of items: 196 bytes\n",
      "Addr. of lst: 2738107912896, No. of item(s): 8, Size of lst: 120 bytes, Size of items: 224 bytes\n",
      "Addr. of lst: 2738107912896, No. of item(s): 9, Size of lst: 184 bytes, Size of items: 252 bytes\n"
     ]
    }
   ],
   "source": [
    "lst = []\n",
    "for n in range(10):\n",
    "    if n > 0:\n",
    "        lst.append(n)\n",
    "    print(f\"Addr. of lst: {id(lst)}\", end=\", \")\n",
    "    print(f\"No. of item(s): {len(lst)}\", end=\", \")\n",
    "    print(f\"Size of lst: {getsizeof(lst)} bytes\", end=\", \")\n",
    "    print(f\"Size of items: {sum([getsizeof(item) for item in lst])} bytes\")\n"
   ]
  },
  {
   "cell_type": "code",
   "execution_count": 22,
   "id": "e0f5b2f7-683e-4afb-a685-dffb39d127a3",
   "metadata": {},
   "outputs": [
    {
     "name": "stdout",
     "output_type": "stream",
     "text": [
      "Size of numpy array x: 104 bytes\n"
     ]
    }
   ],
   "source": [
    "import numpy as np\n",
    "x = np.array([])\n",
    "print(f\"Size of numpy array x: {getsizeof(x)} bytes\")"
   ]
  },
  {
   "cell_type": "code",
   "execution_count": 84,
   "id": "5989cf94-422f-4acf-98ce-3afbb0f5fe2f",
   "metadata": {},
   "outputs": [
    {
     "name": "stdout",
     "output_type": "stream",
     "text": [
      "int32\n",
      "Addr. of x: 2738166757488, No. of item(s): 0, Size of x: 104 bytes\n",
      "Addr. of x: 2738166757392, No. of item(s): 1, Size of x: 108 bytes\n",
      "Addr. of x: 2738166758256, No. of item(s): 2, Size of x: 112 bytes\n",
      "Addr. of x: 2738166757488, No. of item(s): 3, Size of x: 116 bytes\n",
      "Addr. of x: 2738166757392, No. of item(s): 4, Size of x: 120 bytes\n",
      "Addr. of x: 2738166757488, No. of item(s): 5, Size of x: 124 bytes\n",
      "Addr. of x: 2738166759216, No. of item(s): 6, Size of x: 128 bytes\n",
      "Addr. of x: 2738166757488, No. of item(s): 7, Size of x: 132 bytes\n",
      "Addr. of x: 2738166759216, No. of item(s): 8, Size of x: 136 bytes\n",
      "Addr. of x: 2738166757488, No. of item(s): 9, Size of x: 140 bytes\n"
     ]
    }
   ],
   "source": [
    "# 정수가 하나씩 추가 될 때마다 4바이트와 주소가 바뀜\n",
    "x = np.array([], np.int32)\n",
    "print(x.dtype)\n",
    "for n in range(10):\n",
    "    if n > 0:\n",
    "        x = np.append(x, [n])\n",
    "    print(f\"Addr. of x: {id(x)}\", end=\", \")\n",
    "    print(f\"No. of item(s): {len(x)}\", end=\", \")\n",
    "    print(f\"Size of x: {getsizeof(x)} bytes\")\n"
   ]
  },
  {
   "cell_type": "code",
   "execution_count": 85,
   "id": "20843a21-8160-4ca0-abf4-224ac87cd9e6",
   "metadata": {},
   "outputs": [
    {
     "name": "stdout",
     "output_type": "stream",
     "text": [
      "int64\n",
      "Addr. of x: 2738166756048, No. of item(s): 0, Size of x: 104 bytes\n",
      "Addr. of x: 2738166758640, No. of item(s): 1, Size of x: 112 bytes\n",
      "Addr. of x: 2738166757488, No. of item(s): 2, Size of x: 120 bytes\n",
      "Addr. of x: 2738166756048, No. of item(s): 3, Size of x: 128 bytes\n",
      "Addr. of x: 2738166758640, No. of item(s): 4, Size of x: 136 bytes\n",
      "Addr. of x: 2738166757488, No. of item(s): 5, Size of x: 144 bytes\n",
      "Addr. of x: 2738166756048, No. of item(s): 6, Size of x: 152 bytes\n",
      "Addr. of x: 2738166758640, No. of item(s): 7, Size of x: 160 bytes\n",
      "Addr. of x: 2738166757488, No. of item(s): 8, Size of x: 168 bytes\n",
      "Addr. of x: 2738166756528, No. of item(s): 9, Size of x: 176 bytes\n"
     ]
    }
   ],
   "source": [
    "# int64 이기 때문에 8씩 증가함.\n",
    "x = np.array([], np.int64)\n",
    "print(x.dtype)\n",
    "for n in range(10):\n",
    "    if n > 0:\n",
    "        x = np.append(x, [n])\n",
    "    print(f\"Addr. of x: {id(x)}\", end=\", \")\n",
    "    print(f\"No. of item(s): {len(x)}\", end=\", \")\n",
    "    print(f\"Size of x: {getsizeof(x)} bytes\")\n"
   ]
  },
  {
   "cell_type": "code",
   "execution_count": 86,
   "id": "7bd651c2-ce3a-4cd9-8e18-6ae7ece97bfa",
   "metadata": {},
   "outputs": [
    {
     "data": {
      "text/plain": [
       "dtype('int64')"
      ]
     },
     "execution_count": 86,
     "metadata": {},
     "output_type": "execute_result"
    }
   ],
   "source": [
    "x.dtype"
   ]
  },
  {
   "cell_type": "markdown",
   "id": "c5d92389-7a49-4455-9908-cc8b41f23abb",
   "metadata": {},
   "source": [
    "# Numpy의 다차원 배열을 이용한 1차원 벡터의 표현과 연산."
   ]
  },
  {
   "cell_type": "code",
   "execution_count": 87,
   "id": "3cc6593a-d86b-4941-a290-19a362145954",
   "metadata": {},
   "outputs": [
    {
     "data": {
      "text/plain": [
       "array([ 4,  8, 12,  4,  3])"
      ]
     },
     "execution_count": 87,
     "metadata": {},
     "output_type": "execute_result"
    }
   ],
   "source": [
    "import numpy as np\n",
    "a = np.array([1, 3, 5, 3, 1])\n",
    "b = np.array([3, 5, 7, 1, 2])\n",
    "a + b"
   ]
  },
  {
   "cell_type": "code",
   "execution_count": 88,
   "id": "626a3545-5583-4719-be1a-29c979f4efec",
   "metadata": {},
   "outputs": [
    {
     "data": {
      "text/plain": [
       "array([ 2,  6, 10,  6,  2])"
      ]
     },
     "execution_count": 88,
     "metadata": {},
     "output_type": "execute_result"
    }
   ],
   "source": [
    "2 * a"
   ]
  },
  {
   "cell_type": "markdown",
   "id": "24d6ec42-043d-4833-8209-345c967dd649",
   "metadata": {},
   "source": [
    "## NumPy 다차원 배열 클래스 ndarray의 주요 attributes\n",
    "- ndarray.ndim: axes (dimensions)의 수\n",
    "- ndarray.shape: axes별 원소의 개수를 튜플로 표현\n",
    "- ndarray.size: 원소의 개수\n",
    "- ndarray.dtype: numpy.int32, numpy.int16, numpy.float64 등\n",
    "- ndarray.itemsize: 각 원소의 크기를 byte 단위\n",
    "- ndarray.nbytes: 전체 데이터의 크기를 byte 단위로 표시"
   ]
  },
  {
   "cell_type": "code",
   "execution_count": 89,
   "id": "0db779e4-72c9-42db-bf91-2a46141dc884",
   "metadata": {},
   "outputs": [
    {
     "data": {
      "text/plain": [
       "array([[4, 8, 2, 2],\n",
       "       [5, 1, 9, 4],\n",
       "       [5, 4, 7, 1]])"
      ]
     },
     "execution_count": 89,
     "metadata": {},
     "output_type": "execute_result"
    }
   ],
   "source": [
    "na = np.random.randint(1, 10, (3, 4)) # 1이상 10 미만의 랜덤 정수 생성 후 3,4 배열로  수정.\n",
    "na"
   ]
  },
  {
   "cell_type": "code",
   "execution_count": 90,
   "id": "412a4b78-93a9-472b-87a3-0b5e7f4903cc",
   "metadata": {},
   "outputs": [
    {
     "data": {
      "text/plain": [
       "2"
      ]
     },
     "execution_count": 90,
     "metadata": {},
     "output_type": "execute_result"
    }
   ],
   "source": [
    "na.ndim"
   ]
  },
  {
   "cell_type": "code",
   "execution_count": 91,
   "id": "7ad5cabe-d6f0-40c3-8e7e-0b02feaba0cf",
   "metadata": {},
   "outputs": [
    {
     "data": {
      "text/plain": [
       "(3, 4)"
      ]
     },
     "execution_count": 91,
     "metadata": {},
     "output_type": "execute_result"
    }
   ],
   "source": [
    "na.shape"
   ]
  },
  {
   "cell_type": "code",
   "execution_count": 92,
   "id": "d39f9b73-23b0-45e4-bff1-fa836313e363",
   "metadata": {},
   "outputs": [
    {
     "data": {
      "text/plain": [
       "dtype('int32')"
      ]
     },
     "execution_count": 92,
     "metadata": {},
     "output_type": "execute_result"
    }
   ],
   "source": [
    "na.dtype"
   ]
  },
  {
   "cell_type": "code",
   "execution_count": 93,
   "id": "7675433e-510d-439b-b348-3a4445aa6c93",
   "metadata": {},
   "outputs": [
    {
     "data": {
      "text/plain": [
       "12"
      ]
     },
     "execution_count": 93,
     "metadata": {},
     "output_type": "execute_result"
    }
   ],
   "source": [
    "na.size"
   ]
  },
  {
   "cell_type": "code",
   "execution_count": 94,
   "id": "687855c5-e944-4f79-b50c-8f5ff8dbefb4",
   "metadata": {},
   "outputs": [
    {
     "data": {
      "text/plain": [
       "4"
      ]
     },
     "execution_count": 94,
     "metadata": {},
     "output_type": "execute_result"
    }
   ],
   "source": [
    "na.itemsize # size를 바이트로"
   ]
  },
  {
   "cell_type": "code",
   "execution_count": 35,
   "id": "6d13d318-a379-40b6-ae20-04ab44bbd0e3",
   "metadata": {},
   "outputs": [
    {
     "data": {
      "text/plain": [
       "48"
      ]
     },
     "execution_count": 35,
     "metadata": {},
     "output_type": "execute_result"
    }
   ],
   "source": [
    "na.nbytes # size를 "
   ]
  },
  {
   "cell_type": "code",
   "execution_count": 36,
   "id": "561b44cc-f167-47d0-8edc-ad3c98f1960a",
   "metadata": {},
   "outputs": [
    {
     "name": "stdout",
     "output_type": "stream",
     "text": [
      "int8 1\n",
      "uint8 1\n",
      "int16 2\n",
      "uint16 2\n",
      "int32 4\n",
      "uint32 4\n",
      "int64 8\n",
      "uint64 8\n",
      "int8 1\n",
      "int16 2\n",
      "int32 4\n",
      "int64 8\n",
      "uint8 1\n",
      "uint16 2\n",
      "uint32 4\n",
      "uint64 8\n"
     ]
    }
   ],
   "source": [
    "int_dt = [np.int8, np.uint8,\n",
    "            np.int16, np.uint16,\n",
    "            np.int32, np.uint32,\n",
    "          np.int64, np.uint64, 'i1', 'i2', 'i4', 'i8', 'u1', 'u2', 'u4', 'u8']\n",
    "for dt in int_dt:\n",
    "    x = np.array([1, 2, 3], dtype=dt)\n",
    "    print(x.dtype, x.itemsize)\n"
   ]
  },
  {
   "cell_type": "code",
   "execution_count": 37,
   "id": "722abcdc-307f-478b-af81-77f54d300df3",
   "metadata": {},
   "outputs": [
    {
     "name": "stdout",
     "output_type": "stream",
     "text": [
      "int8 1\n",
      "uint8 1\n",
      "int16 2\n",
      "uint16 2\n",
      "int32 4\n",
      "uint32 4\n",
      "int64 8\n",
      "uint64 8\n"
     ]
    }
   ],
   "source": [
    "# dtype을 문자형으로 변환\n",
    "int_dt = ['<b', '<B',\n",
    "            '<h', '<H',\n",
    "            '<i', '<I',\n",
    "            '<q', '<Q']\n",
    "for dt in int_dt:\n",
    "    x = np.array([1, 2, 3], dtype=dt)\n",
    "    print(x.dtype, x.itemsize)\n"
   ]
  },
  {
   "cell_type": "code",
   "execution_count": 38,
   "id": "9c741a68-8bff-4561-aca3-0019cd9ad7ef",
   "metadata": {},
   "outputs": [
    {
     "name": "stdout",
     "output_type": "stream",
     "text": [
      "float16 2\n",
      "float32 4\n",
      "float64 8\n",
      "float16 2\n",
      "float32 4\n",
      "float64 8\n"
     ]
    }
   ],
   "source": [
    "float_dt = [np.float16, np.float32, np.float64, 'f2', 'f4', 'f8']\n",
    "for dt in float_dt:\n",
    "    x = np.array([1, 2, 3], dtype=dt)\n",
    "    print(x.dtype, x.itemsize)"
   ]
  },
  {
   "cell_type": "code",
   "execution_count": 39,
   "id": "8c522b59-5de8-41a4-b181-1720af30898a",
   "metadata": {},
   "outputs": [
    {
     "name": "stdout",
     "output_type": "stream",
     "text": [
      "float16 2\n",
      "float32 4\n",
      "float64 8\n"
     ]
    }
   ],
   "source": [
    "float_dt = ['<e', '<f', '<d']\n",
    "for dt in float_dt:\n",
    "    x = np.array([1, 2, 3], dtype=dt)\n",
    "    print(x.dtype, x.itemsize)\n"
   ]
  },
  {
   "cell_type": "markdown",
   "id": "d64f13a8-d6be-402f-b0b4-42978bb5974e",
   "metadata": {},
   "source": [
    "# 복소수 데이터 타입"
   ]
  },
  {
   "cell_type": "code",
   "execution_count": 96,
   "id": "b1ab4f95-911c-40be-9109-4fcb710f9e99",
   "metadata": {},
   "outputs": [
    {
     "name": "stdout",
     "output_type": "stream",
     "text": [
      "complex64 8\n",
      "complex128 16\n"
     ]
    }
   ],
   "source": [
    "complex_dt = [np.csingle, np.cdouble]\n",
    "for dt in complex_dt:\n",
    "    x = np.array([1, 2, 3], dtype=dt)\n",
    "    print(x.dtype, x.itemsize)"
   ]
  },
  {
   "cell_type": "code",
   "execution_count": 42,
   "id": "2fcedd74-fcf6-475d-84d9-b52b064b12d2",
   "metadata": {},
   "outputs": [
    {
     "name": "stdout",
     "output_type": "stream",
     "text": [
      "complex64 8\n",
      "complex128 16\n"
     ]
    }
   ],
   "source": [
    "complex_dt = ['<F', '<G']\n",
    "for dt in complex_dt:\n",
    "    x = np.array([1, 2, 3], dtype=dt)\n",
    "    print(x.dtype, x.itemsize)\n"
   ]
  },
  {
   "cell_type": "markdown",
   "id": "1b4b6a3b-27d4-4863-be22-30e9595b0cf0",
   "metadata": {},
   "source": [
    "# numpy 정수형의 overflow와 underflow"
   ]
  },
  {
   "cell_type": "code",
   "execution_count": 97,
   "id": "fc09c803-83d0-4a0a-80b8-e933514732d6",
   "metadata": {},
   "outputs": [
    {
     "data": {
      "text/plain": [
       "array([100, -56], dtype=int8)"
      ]
     },
     "execution_count": 97,
     "metadata": {},
     "output_type": "execute_result"
    }
   ],
   "source": [
    "import numpy as np\n",
    "a = np.array([100, 200], np.int8)\n",
    "a"
   ]
  },
  {
   "cell_type": "code",
   "execution_count": 44,
   "id": "6735d86c-306a-4416-ad6d-e692b05af5df",
   "metadata": {},
   "outputs": [
    {
     "data": {
      "text/plain": [
       "iinfo(min=-128, max=127, dtype=int8)"
      ]
     },
     "execution_count": 44,
     "metadata": {},
     "output_type": "execute_result"
    }
   ],
   "source": [
    "np.iinfo(np.int8)\n",
    "# 최솟값 -128, 최대값 127"
   ]
  },
  {
   "cell_type": "code",
   "execution_count": 98,
   "id": "bdb89899-8b94-490b-9db7-ee3b622c9ada",
   "metadata": {},
   "outputs": [
    {
     "data": {
      "text/plain": [
       "array([ -56, -112], dtype=int8)"
      ]
     },
     "execution_count": 98,
     "metadata": {},
     "output_type": "execute_result"
    }
   ],
   "source": [
    "a + a # 최댓값을 넘어가기 때문"
   ]
  },
  {
   "cell_type": "code",
   "execution_count": 47,
   "id": "527e033d-83a5-4b58-9983-1155828aa601",
   "metadata": {},
   "outputs": [
    {
     "data": {
      "text/plain": [
       "array([44, 88], dtype=int8)"
      ]
     },
     "execution_count": 47,
     "metadata": {},
     "output_type": "execute_result"
    }
   ],
   "source": [
    "3 * a"
   ]
  },
  {
   "cell_type": "code",
   "execution_count": 103,
   "id": "047e539f-d67d-4115-937b-198104a03b17",
   "metadata": {},
   "outputs": [
    {
     "data": {
      "text/plain": [
       "array([100, 200], dtype=uint8)"
      ]
     },
     "execution_count": 103,
     "metadata": {},
     "output_type": "execute_result"
    }
   ],
   "source": [
    "b = np.array([100, 200], np.uint8)\n",
    "b\n"
   ]
  },
  {
   "cell_type": "code",
   "execution_count": 104,
   "id": "3dea4712-d335-44a6-bbf9-e7a130f7b138",
   "metadata": {},
   "outputs": [
    {
     "data": {
      "text/plain": [
       "iinfo(min=0, max=255, dtype=uint8)"
      ]
     },
     "execution_count": 104,
     "metadata": {},
     "output_type": "execute_result"
    }
   ],
   "source": [
    "# unsigend\n",
    "np.iinfo(np.uint8)"
   ]
  },
  {
   "cell_type": "code",
   "execution_count": 105,
   "id": "1ff7f533-b02f-4026-b01d-fbd2e659fbb0",
   "metadata": {},
   "outputs": [
    {
     "data": {
      "text/plain": [
       "array([200, 144], dtype=uint8)"
      ]
     },
     "execution_count": 105,
     "metadata": {},
     "output_type": "execute_result"
    }
   ],
   "source": [
    " 2 * b"
   ]
  },
  {
   "cell_type": "markdown",
   "id": "d93654ee-af8e-42fc-bb07-1f02d57f52d4",
   "metadata": {},
   "source": [
    "# Ndarray 생성\n",
    "- 리스트와 튜플을 이용한 ndarray 생성"
   ]
  },
  {
   "cell_type": "code",
   "execution_count": 107,
   "id": "5f794c29-c15e-4f9c-8c59-6ba65158831b",
   "metadata": {},
   "outputs": [],
   "source": [
    "data1 = (1, 2, 3, 4, 5) # tuple : 모든 원소의 데이터 유형이 같아야 함.\n",
    "arr1 = np.array(data1) # 1d array\n"
   ]
  },
  {
   "cell_type": "code",
   "execution_count": 102,
   "id": "e728697c-d712-4459-a96b-590bd47f0013",
   "metadata": {},
   "outputs": [
    {
     "data": {
      "text/plain": [
       "array([1, 2, 3, 4, 5])"
      ]
     },
     "execution_count": 102,
     "metadata": {},
     "output_type": "execute_result"
    }
   ],
   "source": [
    "arr1"
   ]
  },
  {
   "cell_type": "code",
   "execution_count": 53,
   "id": "0114c925-c91e-4a25-8402-9b99777c19f1",
   "metadata": {},
   "outputs": [
    {
     "data": {
      "text/plain": [
       "dtype('int32')"
      ]
     },
     "execution_count": 53,
     "metadata": {},
     "output_type": "execute_result"
    }
   ],
   "source": [
    "arr1.dtype"
   ]
  },
  {
   "cell_type": "code",
   "execution_count": 54,
   "id": "e3c4f94e-c17b-4803-b37f-6a6cce6f9f6c",
   "metadata": {},
   "outputs": [
    {
     "data": {
      "text/plain": [
       "1"
      ]
     },
     "execution_count": 54,
     "metadata": {},
     "output_type": "execute_result"
    }
   ],
   "source": [
    "arr1.ndim # 1차원이기 때문에"
   ]
  },
  {
   "cell_type": "code",
   "execution_count": 55,
   "id": "0805274e-72a0-4158-8b8e-9b3745b99aa8",
   "metadata": {},
   "outputs": [
    {
     "data": {
      "text/plain": [
       "5"
      ]
     },
     "execution_count": 55,
     "metadata": {},
     "output_type": "execute_result"
    }
   ],
   "source": [
    "arr1.size #원소 개수"
   ]
  },
  {
   "cell_type": "code",
   "execution_count": 56,
   "id": "39085e38-bd5e-4da6-86d3-0c86dc4b04b1",
   "metadata": {},
   "outputs": [],
   "source": [
    "data2 = [[1, 2, 3., 4], [5, 6, 7, 8.]] # nested list\n",
    "arr2 = np.array(data2) # 2d array"
   ]
  },
  {
   "cell_type": "code",
   "execution_count": 58,
   "id": "3131a65b-957f-4b29-aa6c-a274ed79c464",
   "metadata": {},
   "outputs": [
    {
     "data": {
      "text/plain": [
       "[[1, 2, 3.0, 4], [5, 6, 7, 8.0]]"
      ]
     },
     "execution_count": 58,
     "metadata": {},
     "output_type": "execute_result"
    }
   ],
   "source": [
    "data2"
   ]
  },
  {
   "cell_type": "code",
   "execution_count": 108,
   "id": "cc6ad1fa-016e-4234-9e13-7cff7fdf3eab",
   "metadata": {},
   "outputs": [
    {
     "data": {
      "text/plain": [
       "array([[1., 2., 3., 4.],\n",
       "       [5., 6., 7., 8.]])"
      ]
     },
     "execution_count": 108,
     "metadata": {},
     "output_type": "execute_result"
    }
   ],
   "source": [
    "arr2 # 모두 실수로 변환 후 생성됨."
   ]
  },
  {
   "cell_type": "code",
   "execution_count": 109,
   "id": "9e5b8775-85d7-400c-9fa1-e4b91dee50ce",
   "metadata": {},
   "outputs": [
    {
     "data": {
      "text/plain": [
       "dtype('float64')"
      ]
     },
     "execution_count": 109,
     "metadata": {},
     "output_type": "execute_result"
    }
   ],
   "source": [
    "arr2.dtype"
   ]
  },
  {
   "cell_type": "code",
   "execution_count": 110,
   "id": "5181aae3-4b47-4ca9-89ea-5b0ff22b4b26",
   "metadata": {},
   "outputs": [
    {
     "data": {
      "text/plain": [
       "2"
      ]
     },
     "execution_count": 110,
     "metadata": {},
     "output_type": "execute_result"
    }
   ],
   "source": [
    "arr2.ndim"
   ]
  },
  {
   "cell_type": "code",
   "execution_count": 111,
   "id": "d08713da-1dbf-47a2-8525-043a41cc42fc",
   "metadata": {},
   "outputs": [
    {
     "data": {
      "text/plain": [
       "8"
      ]
     },
     "execution_count": 111,
     "metadata": {},
     "output_type": "execute_result"
    }
   ],
   "source": [
    "arr2.size"
   ]
  },
  {
   "cell_type": "code",
   "execution_count": 112,
   "id": "d03fcf55-ee55-4562-bc17-1345236d841b",
   "metadata": {},
   "outputs": [],
   "source": [
    "data3 = [[1, 2, 3., 4], [5+1j, 6, 7, 8.]] # nested list\n",
    "arr3 = np.array(data3) # 2d array\n"
   ]
  },
  {
   "cell_type": "code",
   "execution_count": 113,
   "id": "3c95c8c6-30fe-47d3-998d-141a6682c90e",
   "metadata": {},
   "outputs": [
    {
     "data": {
      "text/plain": [
       "[[1, 2, 3.0, 4], [(5+1j), 6, 7, 8.0]]"
      ]
     },
     "execution_count": 113,
     "metadata": {},
     "output_type": "execute_result"
    }
   ],
   "source": [
    "data3 "
   ]
  },
  {
   "cell_type": "code",
   "execution_count": 115,
   "id": "c23ead22-3f0e-4d1a-90af-c626206f7e02",
   "metadata": {},
   "outputs": [
    {
     "data": {
      "text/plain": [
       "array([[1.+0.j, 2.+0.j, 3.+0.j, 4.+0.j],\n",
       "       [5.+1.j, 6.+0.j, 7.+0.j, 8.+0.j]])"
      ]
     },
     "execution_count": 115,
     "metadata": {},
     "output_type": "execute_result"
    }
   ],
   "source": [
    "arr3 # 모두 복소수 형태로 변환됨."
   ]
  },
  {
   "cell_type": "code",
   "execution_count": 117,
   "id": "08bd2ff7-da26-4cf6-824e-9b6727436220",
   "metadata": {},
   "outputs": [
    {
     "data": {
      "text/plain": [
       "dtype('complex128')"
      ]
     },
     "execution_count": 117,
     "metadata": {},
     "output_type": "execute_result"
    }
   ],
   "source": [
    "arr3.dtype #default"
   ]
  },
  {
   "cell_type": "code",
   "execution_count": 67,
   "id": "40185df7-d5e3-45e7-a13d-49988ff3c267",
   "metadata": {},
   "outputs": [
    {
     "data": {
      "text/plain": [
       "2"
      ]
     },
     "execution_count": 67,
     "metadata": {},
     "output_type": "execute_result"
    }
   ],
   "source": [
    "arr3.ndim"
   ]
  },
  {
   "cell_type": "code",
   "execution_count": 68,
   "id": "6cb40521-0244-4ee3-ad03-4971c22655c8",
   "metadata": {},
   "outputs": [
    {
     "data": {
      "text/plain": [
       "8"
      ]
     },
     "execution_count": 68,
     "metadata": {},
     "output_type": "execute_result"
    }
   ],
   "source": [
    "arr3.size"
   ]
  },
  {
   "cell_type": "code",
   "execution_count": 121,
   "id": "b0875cb1-83f1-4bd8-9349-fd5e43354368",
   "metadata": {},
   "outputs": [],
   "source": [
    "data4 = ['a', 'b']\n",
    "arr4 = np.array(data4)\n"
   ]
  },
  {
   "cell_type": "code",
   "execution_count": 122,
   "id": "016296d1-9922-4882-9878-13673906dd05",
   "metadata": {},
   "outputs": [
    {
     "data": {
      "text/plain": [
       "dtype('<U1')"
      ]
     },
     "execution_count": 122,
     "metadata": {},
     "output_type": "execute_result"
    }
   ],
   "source": [
    "arr4.dtype # 4바이트 길이의 Unicode 문자열"
   ]
  },
  {
   "cell_type": "code",
   "execution_count": 71,
   "id": "7379fdfb-822d-488c-8061-a12f35cf6b4c",
   "metadata": {},
   "outputs": [
    {
     "data": {
      "text/plain": [
       "4"
      ]
     },
     "execution_count": 71,
     "metadata": {},
     "output_type": "execute_result"
    }
   ],
   "source": [
    "arr4.itemsize"
   ]
  },
  {
   "cell_type": "code",
   "execution_count": 72,
   "id": "3ff09bab-cf9e-4940-b6bf-1c980d15baf9",
   "metadata": {},
   "outputs": [],
   "source": [
    "data5 = ['ab', 'b']\n",
    "arr5 = np.array(data5)"
   ]
  },
  {
   "cell_type": "code",
   "execution_count": 123,
   "id": "35722553-c2fa-4b02-a2c8-b12f1c1c4aec",
   "metadata": {},
   "outputs": [
    {
     "data": {
      "text/plain": [
       "dtype('<U2')"
      ]
     },
     "execution_count": 123,
     "metadata": {},
     "output_type": "execute_result"
    }
   ],
   "source": [
    "arr5.dtype  # 8바이트 길이의 Unicode 문자열"
   ]
  },
  {
   "cell_type": "code",
   "execution_count": 74,
   "id": "04a6a5db-2201-4571-898b-6df849a0c129",
   "metadata": {},
   "outputs": [
    {
     "data": {
      "text/plain": [
       "8"
      ]
     },
     "execution_count": 74,
     "metadata": {},
     "output_type": "execute_result"
    }
   ],
   "source": [
    "arr5.itemsize"
   ]
  },
  {
   "cell_type": "code",
   "execution_count": 124,
   "id": "95327c1f-e9ec-4e92-8190-a087ccc0b5c9",
   "metadata": {},
   "outputs": [],
   "source": [
    "data6 = ['abc', 'b']\n",
    "arr6 = np.array(data6)\n"
   ]
  },
  {
   "cell_type": "code",
   "execution_count": 128,
   "id": "05b6ef2c-4fd4-43de-a997-3a36bf16e6ea",
   "metadata": {},
   "outputs": [
    {
     "data": {
      "text/plain": [
       "dtype('<U3')"
      ]
     },
     "execution_count": 128,
     "metadata": {},
     "output_type": "execute_result"
    }
   ],
   "source": [
    "arr6.dtype  # 12바이트 길이의 Unicode 문자열"
   ]
  },
  {
   "cell_type": "code",
   "execution_count": 129,
   "id": "0513e2ed-3419-42e2-b401-8f5300a62252",
   "metadata": {},
   "outputs": [
    {
     "data": {
      "text/plain": [
       "12"
      ]
     },
     "execution_count": 129,
     "metadata": {},
     "output_type": "execute_result"
    }
   ],
   "source": [
    "arr6.itemsize"
   ]
  },
  {
   "cell_type": "code",
   "execution_count": 130,
   "id": "320e425b-4eac-4393-a67c-f2b49ac072af",
   "metadata": {},
   "outputs": [
    {
     "data": {
      "text/plain": [
       "(104, 128)"
      ]
     },
     "execution_count": 130,
     "metadata": {},
     "output_type": "execute_result"
    }
   ],
   "source": [
    "getsizeof(np.array([])), getsizeof(arr6)\n",
    "# 길이가 달라도 가장 길이가 긴 걸 저장함.\n",
    "# 글자 하나당 4바이트의 길이로"
   ]
  },
  {
   "cell_type": "code",
   "execution_count": 80,
   "id": "fdf2fe7d-9480-4d71-a516-44df192de370",
   "metadata": {},
   "outputs": [
    {
     "name": "stdout",
     "output_type": "stream",
     "text": [
      " <U1 4 92\n",
      "a <U1 4 92\n",
      "ab <U2 8 96\n",
      "abc <U3 12 100\n",
      "abcd <U4 16 104\n",
      "abcde <U5 20 108\n",
      "abcdef <U6 24 112\n",
      "abcdefg <U7 28 116\n",
      "abcdefgh <U8 32 120\n",
      "abcdefghi <U9 36 124\n",
      "abcdefghij <U10 40 128\n",
      "abcdefghijk <U11 44 132\n",
      "abcdefghijkl <U12 48 136\n",
      "abcdefghijklm <U13 52 140\n",
      "abcdefghijklmn <U14 56 144\n",
      "abcdefghijklmno <U15 60 148\n",
      "abcdefghijklmnop <U16 64 152\n",
      "abcdefghijklmnopq <U17 68 156\n",
      "abcdefghijklmnopqr <U18 72 160\n",
      "abcdefghijklmnopqrs <U19 76 164\n",
      "abcdefghijklmnopqrst <U20 80 168\n",
      "abcdefghijklmnopqrstu <U21 84 172\n",
      "abcdefghijklmnopqrstuv <U22 88 176\n",
      "abcdefghijklmnopqrstuvw <U23 92 180\n",
      "abcdefghijklmnopqrstuvwx <U24 96 184\n",
      "abcdefghijklmnopqrstuvwxy <U25 100 188\n",
      "abcdefghijklmnopqrstuvwxyz <U26 104 192\n",
      "abcdefghijklmnopqrstuvwxyza <U27 108 196\n",
      "abcdefghijklmnopqrstuvwxyzab <U28 112 200\n",
      "abcdefghijklmnopqrstuvwxyzabc <U29 116 204\n",
      "abcdefghijklmnopqrstuvwxyzabcd <U30 120 208\n",
      "abcdefghijklmnopqrstuvwxyzabcde <U31 124 212\n",
      "abcdefghijklmnopqrstuvwxyzabcdef <U32 128 216\n",
      "abcdefghijklmnopqrstuvwxyzabcdefg <U33 132 220\n",
      "abcdefghijklmnopqrstuvwxyzabcdefgh <U34 136 224\n",
      "abcdefghijklmnopqrstuvwxyzabcdefghi <U35 140 228\n",
      "abcdefghijklmnopqrstuvwxyzabcdefghij <U36 144 232\n",
      "abcdefghijklmnopqrstuvwxyzabcdefghijk <U37 148 236\n",
      "abcdefghijklmnopqrstuvwxyzabcdefghijkl <U38 152 240\n",
      "abcdefghijklmnopqrstuvwxyzabcdefghijklm <U39 156 244\n",
      "abcdefghijklmnopqrstuvwxyzabcdefghijklmn <U40 160 248\n",
      "abcdefghijklmnopqrstuvwxyzabcdefghijklmno <U41 164 252\n",
      "abcdefghijklmnopqrstuvwxyzabcdefghijklmnop <U42 168 256\n",
      "abcdefghijklmnopqrstuvwxyzabcdefghijklmnopq <U43 172 260\n",
      "abcdefghijklmnopqrstuvwxyzabcdefghijklmnopqr <U44 176 264\n",
      "abcdefghijklmnopqrstuvwxyzabcdefghijklmnopqrs <U45 180 268\n",
      "abcdefghijklmnopqrstuvwxyzabcdefghijklmnopqrst <U46 184 272\n",
      "abcdefghijklmnopqrstuvwxyzabcdefghijklmnopqrstu <U47 188 276\n",
      "abcdefghijklmnopqrstuvwxyzabcdefghijklmnopqrstuv <U48 192 280\n",
      "abcdefghijklmnopqrstuvwxyzabcdefghijklmnopqrstuvw <U49 196 284\n",
      "abcdefghijklmnopqrstuvwxyzabcdefghijklmnopqrstuvwx <U50 200 288\n",
      "abcdefghijklmnopqrstuvwxyzabcdefghijklmnopqrstuvwxy <U51 204 292\n",
      "abcdefghijklmnopqrstuvwxyzabcdefghijklmnopqrstuvwxyz <U52 208 296\n"
     ]
    }
   ],
   "source": [
    "for n in range(0, 53):\n",
    "    data_s = 'abcdefghijklmnopqrstuvwxyzabcdefghijklmnopqrstuvwxyz'[:n]\n",
    "    arr_s = np.array(data_s)\n",
    "    print(arr_s, arr_s.dtype, arr_s.itemsize, getsizeof(arr_s))"
   ]
  },
  {
   "cell_type": "code",
   "execution_count": null,
   "id": "92c7b6c4-ef08-4b44-b420-22dd2a575445",
   "metadata": {},
   "outputs": [],
   "source": []
  }
 ],
 "metadata": {
  "kernelspec": {
   "display_name": "Python 3 (ipykernel)",
   "language": "python",
   "name": "python3"
  },
  "language_info": {
   "codemirror_mode": {
    "name": "ipython",
    "version": 3
   },
   "file_extension": ".py",
   "mimetype": "text/x-python",
   "name": "python",
   "nbconvert_exporter": "python",
   "pygments_lexer": "ipython3",
   "version": "3.9.7"
  }
 },
 "nbformat": 4,
 "nbformat_minor": 5
}
