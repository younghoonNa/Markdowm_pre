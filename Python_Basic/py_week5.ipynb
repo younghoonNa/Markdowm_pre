{
 "cells": [
  {
   "cell_type": "markdown",
   "id": "371031db-b9e4-4d52-be91-ff1ce9886f6d",
   "metadata": {},
   "source": [
    "# Hash 함수\n",
    "\n",
    "- 데이터를 hash라는 고정길이 값으로 매핑하는 함수\n",
    "- 주요 특징\n",
    "    - 같은 데이터에 대해서 늘 같은 결과 제공\n",
    "    - 빠른 계산 속도\n",
    "    - 데이터의 크기와 관계없이 결과는 고정 길이 값.\n",
    "    - Hash 값으로부터 원래 데이터 복원 불가능.\n",
    "    "
   ]
  },
  {
   "cell_type": "markdown",
   "id": "983aecf3-8551-476b-937e-52271976b5c7",
   "metadata": {},
   "source": [
    "## 정수의 Hash 값.\n",
    "- 64 비트 시스템의 경우 [$ -2^{61} + 2 , 2^{61} - 2 $] 범위의 정수는 hash 값이 자신과 같음"
   ]
  },
  {
   "cell_type": "code",
   "execution_count": 2,
   "id": "700b1c16-1d93-4d78-822a-9c44b7a34f32",
   "metadata": {},
   "outputs": [
    {
     "name": "stdout",
     "output_type": "stream",
     "text": [
      "           n                     hash(n)         '\n",
      "-2, -2305843009213693954,                   -3\n",
      "-1, -2305843009213693953,                   -2\n",
      " 0, -2305843009213693952,                   -2\n",
      " 1, -2305843009213693951,                    0\n",
      " 2, -2305843009213693950, -2305843009213693950\n",
      " 3, -2305843009213693949, -2305843009213693949\n",
      "\n",
      "-3,  2305843009213693949,  2305843009213693949\n",
      "-2,  2305843009213693950,  2305843009213693950\n",
      "-1,  2305843009213693951,                    0\n",
      " 0,  2305843009213693952,                    1\n",
      " 1,  2305843009213693953,                    2\n"
     ]
    }
   ],
   "source": [
    "n = 2**61\n",
    "print(f\"{'n':^24} {'hash(n)':^24}'\")\n",
    "for i in range(-2, 4):\n",
    "    print(f\"{i:2}, {-n+i:20}, {hash(-n+i):20}\")\n",
    "print()\n",
    "for i in range(-3, 2):\n",
    "    print(f\"{i:2}, {n+i:20}, {hash(n+i):20}\")"
   ]
  },
  {
   "cell_type": "code",
   "execution_count": 3,
   "id": "6fa770e3-43c1-4076-af86-5e94c6748c72",
   "metadata": {},
   "outputs": [
    {
     "data": {
      "text/plain": [
       "(2, 2)"
      ]
     },
     "execution_count": 3,
     "metadata": {},
     "output_type": "execute_result"
    }
   ],
   "source": [
    "hash(2), hash(2.0)"
   ]
  },
  {
   "cell_type": "code",
   "execution_count": 4,
   "id": "199d6c4f-0956-4ac3-8808-eb3cc69a83d0",
   "metadata": {},
   "outputs": [
    {
     "data": {
      "text/plain": [
       "46116860184273921"
      ]
     },
     "execution_count": 4,
     "metadata": {},
     "output_type": "execute_result"
    }
   ],
   "source": [
    "hash(1.02)"
   ]
  },
  {
   "cell_type": "code",
   "execution_count": 5,
   "id": "8a682b4f-f904-4e63-b270-5280f26978e6",
   "metadata": {},
   "outputs": [
    {
     "data": {
      "text/plain": [
       "int"
      ]
     },
     "execution_count": 5,
     "metadata": {},
     "output_type": "execute_result"
    }
   ],
   "source": [
    "type(hash(1.01))"
   ]
  },
  {
   "cell_type": "code",
   "execution_count": 6,
   "id": "823aaa20-751b-4342-8d39-77752a1707ac",
   "metadata": {},
   "outputs": [
    {
     "data": {
      "text/plain": [
       "5883023189608143291"
      ]
     },
     "execution_count": 6,
     "metadata": {},
     "output_type": "execute_result"
    }
   ],
   "source": [
    "hash('a string')"
   ]
  },
  {
   "cell_type": "code",
   "execution_count": 7,
   "id": "6127c36f-e6aa-4c04-aac9-2df9f43eec90",
   "metadata": {},
   "outputs": [
    {
     "data": {
      "text/plain": [
       "-791094737796391719"
      ]
     },
     "execution_count": 7,
     "metadata": {},
     "output_type": "execute_result"
    }
   ],
   "source": [
    "hash(\"A string is an immutable object\")"
   ]
  },
  {
   "cell_type": "markdown",
   "id": "fd17d72b-188c-429b-a1e2-f13dbe6ba00d",
   "metadata": {},
   "source": [
    "### hash 구조의 경우 hash 값이 같을 가능성은 매우 희박하다."
   ]
  },
  {
   "cell_type": "markdown",
   "id": "0f8df597-8ae4-4a41-832c-53024789647c",
   "metadata": {},
   "source": [
    "## Hashable object\n",
    "\n",
    "- Python의 모든 immutable 객체는 hashable 객체이다.\n",
    "    - bool, int, float, tuple, string, frozenset\n",
    "- imuutable 객체는 `__hash__()` method를 가지고 있다.\n",
    "- 객체가 생성되어서 소멸되기 전 까지의 생명주기 동안 객체의 hash 값은 변하지 않는다."
   ]
  },
  {
   "cell_type": "code",
   "execution_count": 8,
   "id": "20ae8cf9-69a4-4134-a827-79f874b9c86b",
   "metadata": {},
   "outputs": [
    {
     "name": "stdout",
     "output_type": "stream",
     "text": [
      "157\n",
      "157\n"
     ]
    }
   ],
   "source": [
    "n = 157\n",
    "print(n.__hash__())\n",
    "print(hash(n))"
   ]
  },
  {
   "cell_type": "code",
   "execution_count": 9,
   "id": "2053fbc2-bab2-4924-80c5-943731ebac1c",
   "metadata": {},
   "outputs": [
    {
     "name": "stdout",
     "output_type": "stream",
     "text": [
      "362017352446574749\n",
      "362017352446574749\n"
     ]
    }
   ],
   "source": [
    "f = 157.157\n",
    "print(f.__hash__())\n",
    "print(hash(f))"
   ]
  },
  {
   "cell_type": "code",
   "execution_count": 11,
   "id": "8c0b7c21-13ff-427c-b917-0b05f4d610bc",
   "metadata": {},
   "outputs": [
    {
     "name": "stdout",
     "output_type": "stream",
     "text": [
      "1\n",
      "1\n"
     ]
    }
   ],
   "source": [
    "f = 1.0\n",
    "print(f.__hash__())\n",
    "print(hash(f))"
   ]
  },
  {
   "cell_type": "code",
   "execution_count": 12,
   "id": "dbc41328-d0d8-480f-9123-44d395d949e3",
   "metadata": {},
   "outputs": [
    {
     "name": "stdout",
     "output_type": "stream",
     "text": [
      "1\n",
      "1\n"
     ]
    }
   ],
   "source": [
    "b = True\n",
    "print(b.__hash__())\n",
    "print(hash(b))"
   ]
  },
  {
   "cell_type": "code",
   "execution_count": 15,
   "id": "54b17c95-c6f2-49c6-96c0-48888c65a6db",
   "metadata": {},
   "outputs": [
    {
     "data": {
      "text/plain": [
       "(461313, 230401)"
      ]
     },
     "execution_count": 15,
     "metadata": {},
     "output_type": "execute_result"
    }
   ],
   "source": [
    "b = 1.0000000000002\n",
    "b_ = 1.0000000000001\n",
    "hash(b), hash(b_)\n",
    "# 값은 엄청나게 조금 차이나더라도 hash값은 차이가 남."
   ]
  },
  {
   "cell_type": "code",
   "execution_count": 16,
   "id": "9f7965f8-97e4-4536-8a08-0e7e5d9018e8",
   "metadata": {},
   "outputs": [
    {
     "name": "stdout",
     "output_type": "stream",
     "text": [
      "7312118434359956082\n",
      "7312118434359956082\n"
     ]
    }
   ],
   "source": [
    "s = 'string is immuatable.'\n",
    "print(s.__hash__())\n",
    "print(hash(s))"
   ]
  },
  {
   "cell_type": "code",
   "execution_count": 17,
   "id": "d1751d3a-9ac0-45ee-abaf-923899c1a42f",
   "metadata": {},
   "outputs": [
    {
     "name": "stdout",
     "output_type": "stream",
     "text": [
      "-9186792959810590049\n",
      "-9186792959810590049\n"
     ]
    }
   ],
   "source": [
    "tpl = (1, (4,7,3), ( (1,2,3), (1,2) ))\n",
    "print(tpl.__hash__())\n",
    "print(hash(tpl))"
   ]
  },
  {
   "cell_type": "markdown",
   "id": "96211f01-f5a2-4b67-93c8-87af835c7f2d",
   "metadata": {
    "tags": []
   },
   "source": [
    "# 해쉬불가능(Unhashable) 객체 : list, dictionary, set"
   ]
  },
  {
   "cell_type": "code",
   "execution_count": 18,
   "id": "2fbec205-2e9d-4431-972a-fdf268c2ab16",
   "metadata": {},
   "outputs": [
    {
     "ename": "TypeError",
     "evalue": "unhashable type: 'list'",
     "output_type": "error",
     "traceback": [
      "\u001b[0;31m---------------------------------------------------------------------------\u001b[0m",
      "\u001b[0;31mTypeError\u001b[0m                                 Traceback (most recent call last)",
      "\u001b[0;32m/var/folders/hp/zz_v74bx3912w8s2fz07537r0000gn/T/ipykernel_12543/457228901.py\u001b[0m in \u001b[0;36m<module>\u001b[0;34m\u001b[0m\n\u001b[1;32m      1\u001b[0m \u001b[0mt\u001b[0m \u001b[0;34m=\u001b[0m \u001b[0;34m[\u001b[0m\u001b[0;36m1\u001b[0m\u001b[0;34m,\u001b[0m\u001b[0;36m2\u001b[0m\u001b[0;34m]\u001b[0m\u001b[0;34m\u001b[0m\u001b[0;34m\u001b[0m\u001b[0m\n\u001b[0;32m----> 2\u001b[0;31m \u001b[0mhash\u001b[0m\u001b[0;34m(\u001b[0m\u001b[0mt\u001b[0m\u001b[0;34m)\u001b[0m\u001b[0;34m\u001b[0m\u001b[0;34m\u001b[0m\u001b[0m\n\u001b[0m",
      "\u001b[0;31mTypeError\u001b[0m: unhashable type: 'list'"
     ]
    }
   ],
   "source": [
    "t = [1,2]\n",
    "hash(t)"
   ]
  },
  {
   "cell_type": "code",
   "execution_count": 19,
   "id": "51685e33-f259-4755-ab2e-745c99c1698d",
   "metadata": {},
   "outputs": [
    {
     "ename": "TypeError",
     "evalue": "unhashable type: 'dict'",
     "output_type": "error",
     "traceback": [
      "\u001b[0;31m---------------------------------------------------------------------------\u001b[0m",
      "\u001b[0;31mTypeError\u001b[0m                                 Traceback (most recent call last)",
      "\u001b[0;32m/var/folders/hp/zz_v74bx3912w8s2fz07537r0000gn/T/ipykernel_12543/2951648682.py\u001b[0m in \u001b[0;36m<module>\u001b[0;34m\u001b[0m\n\u001b[1;32m      1\u001b[0m \u001b[0md\u001b[0m \u001b[0;34m=\u001b[0m \u001b[0;34m{\u001b[0m\u001b[0;34m'a'\u001b[0m\u001b[0;34m:\u001b[0m\u001b[0;36m1\u001b[0m\u001b[0;34m}\u001b[0m\u001b[0;34m\u001b[0m\u001b[0;34m\u001b[0m\u001b[0m\n\u001b[0;32m----> 2\u001b[0;31m \u001b[0mhash\u001b[0m\u001b[0;34m(\u001b[0m\u001b[0md\u001b[0m\u001b[0;34m)\u001b[0m\u001b[0;34m\u001b[0m\u001b[0;34m\u001b[0m\u001b[0m\n\u001b[0m",
      "\u001b[0;31mTypeError\u001b[0m: unhashable type: 'dict'"
     ]
    }
   ],
   "source": [
    "d = {'a':1}\n",
    "hash(d)"
   ]
  },
  {
   "cell_type": "code",
   "execution_count": 20,
   "id": "6c1f23f2-749f-4c28-9aa9-4b1721c13a6a",
   "metadata": {},
   "outputs": [
    {
     "ename": "TypeError",
     "evalue": "unhashable type: 'list'",
     "output_type": "error",
     "traceback": [
      "\u001b[0;31m---------------------------------------------------------------------------\u001b[0m",
      "\u001b[0;31mTypeError\u001b[0m                                 Traceback (most recent call last)",
      "\u001b[0;32m/var/folders/hp/zz_v74bx3912w8s2fz07537r0000gn/T/ipykernel_12543/3952721407.py\u001b[0m in \u001b[0;36m<module>\u001b[0;34m\u001b[0m\n\u001b[1;32m      1\u001b[0m \u001b[0mtpl\u001b[0m \u001b[0;34m=\u001b[0m \u001b[0;34m(\u001b[0m\u001b[0;36m1\u001b[0m\u001b[0;34m,\u001b[0m \u001b[0;34m(\u001b[0m\u001b[0;36m4\u001b[0m\u001b[0;34m,\u001b[0m\u001b[0;36m7\u001b[0m\u001b[0;34m,\u001b[0m\u001b[0;36m3\u001b[0m\u001b[0;34m)\u001b[0m\u001b[0;34m,\u001b[0m \u001b[0;34m(\u001b[0m\u001b[0;34m[\u001b[0m\u001b[0;36m1\u001b[0m\u001b[0;34m,\u001b[0m\u001b[0;36m2\u001b[0m\u001b[0;34m,\u001b[0m\u001b[0;36m3\u001b[0m\u001b[0;34m]\u001b[0m\u001b[0;34m,\u001b[0m \u001b[0;34m(\u001b[0m\u001b[0;36m1\u001b[0m\u001b[0;34m,\u001b[0m\u001b[0;36m2\u001b[0m\u001b[0;34m)\u001b[0m\u001b[0;34m)\u001b[0m\u001b[0;34m)\u001b[0m\u001b[0;34m\u001b[0m\u001b[0;34m\u001b[0m\u001b[0m\n\u001b[0;32m----> 2\u001b[0;31m \u001b[0mhash\u001b[0m\u001b[0;34m(\u001b[0m\u001b[0mtpl\u001b[0m\u001b[0;34m)\u001b[0m\u001b[0;34m\u001b[0m\u001b[0;34m\u001b[0m\u001b[0m\n\u001b[0m",
      "\u001b[0;31mTypeError\u001b[0m: unhashable type: 'list'"
     ]
    }
   ],
   "source": [
    "tpl = (1, (4,7,3), ([1,2,3], (1,2)))\n",
    "hash(tpl)"
   ]
  },
  {
   "cell_type": "markdown",
   "id": "d4816402-37ce-4956-a9ad-3973d42ed486",
   "metadata": {},
   "source": [
    "# Dictionary\n",
    "## Dictionary 문법\n",
    "- dictionary_name = {key:value, key:value, ⋯..}\n",
    "\n",
    "## Dictionary 특징\n",
    "- Dictionary:key-value 쌍 원소의 모음\n",
    "    - Key : immutable. 키는 중복되지 않는다.\n",
    "    - value : muatable과 immutable 모두 가능\n",
    "- 순서가 유지됨.\n",
    "- Iterable -> 객체의 원소를 한번에 하나씩 반환 가능.\n",
    "- mutable"
   ]
  },
  {
   "cell_type": "markdown",
   "id": "58731755-391e-4356-81da-9a8c48030e3e",
   "metadata": {},
   "source": [
    "### Empty Dictionary 만들기."
   ]
  },
  {
   "cell_type": "code",
   "execution_count": 21,
   "id": "51a59ae3-b5b4-4f42-81a9-c5d8c11bdea3",
   "metadata": {},
   "outputs": [
    {
     "name": "stdout",
     "output_type": "stream",
     "text": [
      "{}\n",
      "{}\n"
     ]
    }
   ],
   "source": [
    "empty_dict_1 = {}\n",
    "empty_dict_2 = dict()\n",
    "print(empty_dict_1)\n",
    "print(empty_dict_2)"
   ]
  },
  {
   "cell_type": "markdown",
   "id": "083a0b74-9fa0-4746-a800-f03a64698c43",
   "metadata": {},
   "source": [
    "## Dictionary 만들기.\n",
    "- Dictionary의 키는 반드시 hashable 객체 (bool, int, float, str, tuple, fronzenset)이여야 한다."
   ]
  },
  {
   "cell_type": "code",
   "execution_count": 24,
   "id": "d92ec868-37a8-4623-9254-e51ef5ab3402",
   "metadata": {},
   "outputs": [
    {
     "name": "stdout",
     "output_type": "stream",
     "text": [
      "{'one': 1, 'two': 2, 'three': 3, 'ten': 10}\n"
     ]
    }
   ],
   "source": [
    "digits = {'one':1, 'two':2, 'three' : 3, 'ten':10}\n",
    "print(digits)"
   ]
  },
  {
   "cell_type": "code",
   "execution_count": 25,
   "id": "9ee07f32-bcbf-4ff2-a94b-724915fe5176",
   "metadata": {},
   "outputs": [
    {
     "name": "stdout",
     "output_type": "stream",
     "text": [
      "{0: 1, 1: 4, 2: 10}\n"
     ]
    }
   ],
   "source": [
    "d1 = dict(enumerate([1,4,10]))\n",
    "print(d1)"
   ]
  },
  {
   "cell_type": "code",
   "execution_count": 26,
   "id": "18baf1a8-9b11-4f97-a119-d596e2d5e183",
   "metadata": {},
   "outputs": [
    {
     "name": "stdout",
     "output_type": "stream",
     "text": [
      "{'one': 1, 'four': 4, 'ten': 10}\n"
     ]
    }
   ],
   "source": [
    "d2 = dict(zip(['one', 'four', 'ten'], [1,4,10]))\n",
    "print(d2)"
   ]
  },
  {
   "cell_type": "code",
   "execution_count": 28,
   "id": "d180d87e-6690-4eed-aa5c-de404e315f99",
   "metadata": {},
   "outputs": [
    {
     "name": "stdout",
     "output_type": "stream",
     "text": [
      "{'one': 1, 'four': 4, 'ten': 10}\n"
     ]
    },
    {
     "data": {
      "text/plain": [
       "(None, dict)"
      ]
     },
     "execution_count": 28,
     "metadata": {},
     "output_type": "execute_result"
    }
   ],
   "source": [
    "d3 = dict((('one',1), ('four', 4), ('ten',10)))\n",
    "print(d3), type(d3)"
   ]
  },
  {
   "cell_type": "code",
   "execution_count": 29,
   "id": "b0fb80ab-2706-4e81-8586-d4fce258b212",
   "metadata": {},
   "outputs": [
    {
     "name": "stdout",
     "output_type": "stream",
     "text": [
      "{'one': 1, 'four': 4, 'ten': 10}\n"
     ]
    }
   ],
   "source": [
    "d4 = dict([('one',1), ('four',4), ('ten',10)])\n",
    "print(d4)"
   ]
  },
  {
   "cell_type": "code",
   "execution_count": 30,
   "id": "fc1d0280-22fa-4eec-b105-c272d39205e9",
   "metadata": {},
   "outputs": [
    {
     "name": "stdout",
     "output_type": "stream",
     "text": [
      "{'one': 1, 'four': 4, 'ten': 10}\n"
     ]
    }
   ],
   "source": [
    "d5 = dict(one=1, four=4, ten=10)\n",
    "print(d5)"
   ]
  },
  {
   "cell_type": "markdown",
   "id": "cf2ade49-b537-46f7-83c0-ebfe39681159",
   "metadata": {},
   "source": [
    "## Key를 이용한 접근"
   ]
  },
  {
   "cell_type": "code",
   "execution_count": 31,
   "id": "2be3ebd5-cd7c-4ce8-88ea-63651051980c",
   "metadata": {},
   "outputs": [
    {
     "data": {
      "text/plain": [
       "4"
      ]
     },
     "execution_count": 31,
     "metadata": {},
     "output_type": "execute_result"
    }
   ],
   "source": [
    "d5['four']"
   ]
  },
  {
   "cell_type": "code",
   "execution_count": 32,
   "id": "bec52d4f-e947-48fe-90d0-92b21f69d209",
   "metadata": {},
   "outputs": [
    {
     "data": {
      "text/plain": [
       "4"
      ]
     },
     "execution_count": 32,
     "metadata": {},
     "output_type": "execute_result"
    }
   ],
   "source": [
    "d5.get('four')"
   ]
  },
  {
   "cell_type": "markdown",
   "id": "821169f4-985f-476a-ad53-8e610b3a26af",
   "metadata": {},
   "source": [
    "## Key를 이용한 value 수정 / 새 원소 삽입"
   ]
  },
  {
   "cell_type": "code",
   "execution_count": 33,
   "id": "5f712f53-7034-4aa0-875f-d9c2f6ed7ef5",
   "metadata": {},
   "outputs": [
    {
     "name": "stdout",
     "output_type": "stream",
     "text": [
      "{'one': 1, 'four': 5, 'ten': 10}\n"
     ]
    }
   ],
   "source": [
    "d5['four'] = 5\n",
    "print(d5)"
   ]
  },
  {
   "cell_type": "code",
   "execution_count": 34,
   "id": "5968aa95-7305-4b5f-92df-b65ad23eb1c6",
   "metadata": {},
   "outputs": [
    {
     "name": "stdout",
     "output_type": "stream",
     "text": [
      "{'one': 1, 'four': 4, 'ten': 10}\n"
     ]
    }
   ],
   "source": [
    "d5['four'] = 4\n",
    "print(d5)"
   ]
  },
  {
   "cell_type": "code",
   "execution_count": 35,
   "id": "4b8daa3d-bcc4-4547-b5fb-d6950a888f94",
   "metadata": {},
   "outputs": [
    {
     "name": "stdout",
     "output_type": "stream",
     "text": [
      "{'one': 1, 'four': 4, 'ten': 10, 'five': 5}\n"
     ]
    }
   ],
   "source": [
    "d5['five'] = 5\n",
    "print(d5)"
   ]
  },
  {
   "cell_type": "markdown",
   "id": "7f34c1a5-35cd-48a4-9a1e-b26f64235d25",
   "metadata": {},
   "source": [
    "## Dictionary 객체"
   ]
  },
  {
   "cell_type": "code",
   "execution_count": 36,
   "id": "8de71a5d-ad36-49fa-8cb7-62ce769c3c33",
   "metadata": {},
   "outputs": [
    {
     "name": "stdout",
     "output_type": "stream",
     "text": [
      "48\n"
     ]
    }
   ],
   "source": [
    "my_dict = {}\n",
    "print(my_dict.__sizeof__())"
   ]
  },
  {
   "cell_type": "code",
   "execution_count": 37,
   "id": "9778c92e-d291-4649-8eae-1406ceeb0003",
   "metadata": {},
   "outputs": [
    {
     "name": "stdout",
     "output_type": "stream",
     "text": [
      "216\n"
     ]
    }
   ],
   "source": [
    "my_dict['one'] = 1\n",
    "print(my_dict.__sizeof__())"
   ]
  },
  {
   "cell_type": "code",
   "execution_count": 39,
   "id": "26808f0c-5f44-45f3-96e2-1e5c2b03ca4d",
   "metadata": {},
   "outputs": [
    {
     "name": "stdout",
     "output_type": "stream",
     "text": [
      "216\n"
     ]
    }
   ],
   "source": [
    "my_dict['two'] = 2\n",
    "print(my_dict.__sizeof__())"
   ]
  },
  {
   "cell_type": "code",
   "execution_count": 40,
   "id": "74128a07-0fb5-48a0-9f39-853d58b6d4cb",
   "metadata": {},
   "outputs": [
    {
     "name": "stdout",
     "output_type": "stream",
     "text": [
      "216\n"
     ]
    }
   ],
   "source": [
    "my_dict['three'] = 3\n",
    "print(my_dict.__sizeof__())"
   ]
  },
  {
   "cell_type": "code",
   "execution_count": 41,
   "id": "10ff0b9e-5e36-4c8c-bffd-9a92f985c985",
   "metadata": {},
   "outputs": [
    {
     "name": "stdout",
     "output_type": "stream",
     "text": [
      "216\n"
     ]
    }
   ],
   "source": [
    "my_dict['four'] = 4\n",
    "print(my_dict.__sizeof__())"
   ]
  },
  {
   "cell_type": "code",
   "execution_count": 42,
   "id": "8e8fbb35-171e-4f11-934f-9ba5aef0f71e",
   "metadata": {},
   "outputs": [
    {
     "name": "stdout",
     "output_type": "stream",
     "text": [
      "216\n"
     ]
    }
   ],
   "source": [
    "my_dict['five'] = 5\n",
    "print(my_dict.__sizeof__())"
   ]
  },
  {
   "cell_type": "code",
   "execution_count": 44,
   "id": "9d4f7196-460b-4dbf-aee1-292769cfc727",
   "metadata": {},
   "outputs": [
    {
     "name": "stdout",
     "output_type": "stream",
     "text": [
      "{'one': 1, 'two': 2, 'three': 3, 'four': 4, 'five': 5, 'six': 6}\n",
      "344\n"
     ]
    }
   ],
   "source": [
    "my_dict['six'] = 6\n",
    "print(my_dict)\n",
    "print(my_dict.__sizeof__())"
   ]
  },
  {
   "cell_type": "markdown",
   "id": "136d232d-6a5d-49b9-926b-e7436c8413a4",
   "metadata": {},
   "source": [
    "- dictionary 객체의 크기는 empty일 때 48, 하나가 추가되면 128 byte가 추가된 216이 된다. 원소의 수가 6개가 되면 다시 128이 증가한 344가 된다.\n",
    "- 여유분을 만들고 그 안에 추가하는 방식으로 딕션너리는 메모리를 관리함."
   ]
  },
  {
   "cell_type": "markdown",
   "id": "2f245d0e-c67b-4078-897b-a3b666ccc049",
   "metadata": {},
   "source": [
    "# Dictionary의 Key는 해쉬가능 객체이어야 한다."
   ]
  },
  {
   "cell_type": "code",
   "execution_count": 45,
   "id": "8e78432d-227b-4f77-9f85-e3e435151137",
   "metadata": {},
   "outputs": [
    {
     "name": "stdout",
     "output_type": "stream",
     "text": [
      "{1: 3, 'a': 5, (1, 2): 5}\n"
     ]
    }
   ],
   "source": [
    "d1 = {1:3, 'a':5, (1,2):5}\n",
    "print(d1)"
   ]
  },
  {
   "cell_type": "code",
   "execution_count": 46,
   "id": "d7387290-cd98-4cb0-86b9-16a01c1e0e20",
   "metadata": {},
   "outputs": [
    {
     "ename": "TypeError",
     "evalue": "unhashable type: 'list'",
     "output_type": "error",
     "traceback": [
      "\u001b[0;31m---------------------------------------------------------------------------\u001b[0m",
      "\u001b[0;31mTypeError\u001b[0m                                 Traceback (most recent call last)",
      "\u001b[0;32m/var/folders/hp/zz_v74bx3912w8s2fz07537r0000gn/T/ipykernel_12543/1471893083.py\u001b[0m in \u001b[0;36m<module>\u001b[0;34m\u001b[0m\n\u001b[0;32m----> 1\u001b[0;31m \u001b[0md2\u001b[0m \u001b[0;34m=\u001b[0m \u001b[0;34m{\u001b[0m\u001b[0;34m[\u001b[0m\u001b[0;36m1\u001b[0m\u001b[0;34m,\u001b[0m\u001b[0;36m2\u001b[0m\u001b[0;34m]\u001b[0m\u001b[0;34m:\u001b[0m\u001b[0;36m3\u001b[0m\u001b[0;34m,\u001b[0m \u001b[0;34m'b'\u001b[0m\u001b[0;34m:\u001b[0m\u001b[0;36m5\u001b[0m\u001b[0;34m}\u001b[0m\u001b[0;34m\u001b[0m\u001b[0;34m\u001b[0m\u001b[0m\n\u001b[0m",
      "\u001b[0;31mTypeError\u001b[0m: unhashable type: 'list'"
     ]
    }
   ],
   "source": [
    "d2 = {[1,2]:3, 'b':5}"
   ]
  },
  {
   "cell_type": "code",
   "execution_count": 49,
   "id": "b02892c1-77ad-4957-817f-28a7aba80913",
   "metadata": {},
   "outputs": [
    {
     "name": "stdout",
     "output_type": "stream",
     "text": [
      "1\n",
      "1\n",
      "{1: 3, 'a': 5, (1, 2): 5}\n"
     ]
    }
   ],
   "source": [
    "d1 = {1:3, 'a':5, (1,2):5}\n",
    "print(hash(1))\n",
    "print(hash(1.0))\n",
    "print(d1)"
   ]
  },
  {
   "cell_type": "code",
   "execution_count": 50,
   "id": "85ccaec4-ead9-4093-b593-fe2b15c1b108",
   "metadata": {},
   "outputs": [
    {
     "name": "stdout",
     "output_type": "stream",
     "text": [
      "3\n",
      "3\n"
     ]
    }
   ],
   "source": [
    "print(d1[1])\n",
    "print(d1[1.0])"
   ]
  },
  {
   "cell_type": "markdown",
   "id": "838d77fd-4533-4109-aa7c-28e7439a8dab",
   "metadata": {},
   "source": [
    "# 딕셔너리는 키값으로 딕셔너리의 value를 찾는 것이 아닌, 해쉬 값을 통해 value를 찾아온다."
   ]
  },
  {
   "cell_type": "markdown",
   "id": "2a176e98-eadc-48c0-a005-65ef858423de",
   "metadata": {},
   "source": [
    "# Dictionary Comprehension"
   ]
  },
  {
   "cell_type": "code",
   "execution_count": 52,
   "id": "c513c61a-562f-4c41-b39d-858f8ceb2711",
   "metadata": {},
   "outputs": [
    {
     "data": {
      "text/plain": [
       "{0: 0, 2: 4, 4: 16, 6: 36, 8: 64}"
      ]
     },
     "execution_count": 52,
     "metadata": {},
     "output_type": "execute_result"
    }
   ],
   "source": [
    "dict_squares = {n:n**2 for n in range(0,10,2)}\n",
    "dict_squares"
   ]
  },
  {
   "cell_type": "code",
   "execution_count": 53,
   "id": "9089a3c8-4368-4202-a8ea-6c7bbc863b34",
   "metadata": {},
   "outputs": [
    {
     "data": {
      "text/plain": [
       "{0: 0, 2: 4, 4: 16, 6: 36, 8: 64}"
      ]
     },
     "execution_count": 53,
     "metadata": {},
     "output_type": "execute_result"
    }
   ],
   "source": [
    "dict_squares = {}\n",
    "\n",
    "for n in range(0, 10, 2):\n",
    "    dict_squares[n] = n**2\n",
    "    \n",
    "dict_squares"
   ]
  },
  {
   "cell_type": "code",
   "execution_count": 54,
   "id": "9ebf38d4-f550-485c-a45f-d7919908b1ff",
   "metadata": {},
   "outputs": [
    {
     "data": {
      "text/plain": [
       "{'one': 1, 'two': 2, 'three': 3}"
      ]
     },
     "execution_count": 54,
     "metadata": {},
     "output_type": "execute_result"
    }
   ],
   "source": [
    "keys = ['one', 'two', 'three']\n",
    "d1 = {keys[n]: n+1 for n in range(3)}\n",
    "d1"
   ]
  },
  {
   "cell_type": "code",
   "execution_count": 55,
   "id": "3ab88a34-3e8b-4362-8d84-09b9b389e90d",
   "metadata": {},
   "outputs": [
    {
     "data": {
      "text/plain": [
       "dict_items([('one', 1), ('two', 2), ('three', 3)])"
      ]
     },
     "execution_count": 55,
     "metadata": {},
     "output_type": "execute_result"
    }
   ],
   "source": [
    "d1.items()"
   ]
  },
  {
   "cell_type": "code",
   "execution_count": 57,
   "id": "37f6988c-29b5-4f4b-b53e-171b57a2c396",
   "metadata": {},
   "outputs": [
    {
     "data": {
      "text/plain": [
       "{'one': 1, 'two': 4, 'three': 9}"
      ]
     },
     "execution_count": 57,
     "metadata": {},
     "output_type": "execute_result"
    }
   ],
   "source": [
    "dd = {key:v**2 for (key, v) in d1.items()}\n",
    "dd"
   ]
  },
  {
   "cell_type": "markdown",
   "id": "6928289b-5a61-4bc5-a550-536d3393da22",
   "metadata": {},
   "source": [
    "# Dictionary 연산 "
   ]
  },
  {
   "cell_type": "markdown",
   "id": "a1c895ef-3d3c-467e-95de-b8f420f3aa50",
   "metadata": {},
   "source": [
    "## Pop\n",
    "- dict.pop(k, [d]): key k를 제거하고 그에 해당하는 value를 반환.\n",
    "- key가 없는 경우에는, d가 주어지면 d를 반환하고,\n",
    "- 그렇지 않은 경우에는 KeyError를 발생시킨다."
   ]
  },
  {
   "cell_type": "code",
   "execution_count": 58,
   "id": "579b78ff-8f3b-4879-b86c-2b381d896162",
   "metadata": {},
   "outputs": [
    {
     "data": {
      "text/plain": [
       "100"
      ]
     },
     "execution_count": 58,
     "metadata": {},
     "output_type": "execute_result"
    }
   ],
   "source": [
    "d1 = {'a': 100, 'b': 25, 'c': 47}\n",
    "d1.pop('a')"
   ]
  },
  {
   "cell_type": "code",
   "execution_count": 59,
   "id": "b0de2862-d23a-4c16-be50-656ef3168ff3",
   "metadata": {},
   "outputs": [
    {
     "data": {
      "text/plain": [
       "{'b': 25, 'c': 47}"
      ]
     },
     "execution_count": 59,
     "metadata": {},
     "output_type": "execute_result"
    }
   ],
   "source": [
    "d1"
   ]
  },
  {
   "cell_type": "code",
   "execution_count": 60,
   "id": "62367988-7be3-4f20-a7ab-9c223e8bc8f3",
   "metadata": {},
   "outputs": [
    {
     "data": {
      "text/plain": [
       "4"
      ]
     },
     "execution_count": 60,
     "metadata": {},
     "output_type": "execute_result"
    }
   ],
   "source": [
    "d1.pop('who', 4) # d1에는 who가 없어서 4를 반환함."
   ]
  },
  {
   "cell_type": "code",
   "execution_count": 61,
   "id": "af01aa35-036e-422b-a4f9-bc6116560cd3",
   "metadata": {},
   "outputs": [
    {
     "data": {
      "text/plain": [
       "{'b': 25, 'c': 47}"
      ]
     },
     "execution_count": 61,
     "metadata": {},
     "output_type": "execute_result"
    }
   ],
   "source": [
    "d1"
   ]
  },
  {
   "cell_type": "code",
   "execution_count": 62,
   "id": "67d0f170-2d9b-424a-b0c7-364e9f0a4761",
   "metadata": {},
   "outputs": [
    {
     "ename": "KeyError",
     "evalue": "'who'",
     "output_type": "error",
     "traceback": [
      "\u001b[0;31m---------------------------------------------------------------------------\u001b[0m",
      "\u001b[0;31mKeyError\u001b[0m                                  Traceback (most recent call last)",
      "\u001b[0;32m/var/folders/hp/zz_v74bx3912w8s2fz07537r0000gn/T/ipykernel_12543/3173284993.py\u001b[0m in \u001b[0;36m<module>\u001b[0;34m\u001b[0m\n\u001b[0;32m----> 1\u001b[0;31m \u001b[0md1\u001b[0m\u001b[0;34m.\u001b[0m\u001b[0mpop\u001b[0m\u001b[0;34m(\u001b[0m\u001b[0;34m'who'\u001b[0m\u001b[0;34m)\u001b[0m \u001b[0;31m#이건 없으니까 오류\u001b[0m\u001b[0;34m\u001b[0m\u001b[0;34m\u001b[0m\u001b[0m\n\u001b[0m",
      "\u001b[0;31mKeyError\u001b[0m: 'who'"
     ]
    }
   ],
   "source": [
    "d1.pop('who') #이건 없으니까 오류"
   ]
  },
  {
   "cell_type": "markdown",
   "id": "e5efa71c-60ae-4ece-b2b9-7fe923ee9b47",
   "metadata": {},
   "source": [
    "## Popitem\n",
    "`dict.popitem():`\n",
    "마지막 key-value 쌍을 제거하고, 제거된 쌍을 튜풀로 반환"
   ]
  },
  {
   "cell_type": "code",
   "execution_count": 63,
   "id": "a00c0b54-d30e-4402-ab27-3604faf9384d",
   "metadata": {},
   "outputs": [],
   "source": [
    "d1 = {'a':100, 'b':25, 'c':47}\n",
    "k, v = d1.popitem()"
   ]
  },
  {
   "cell_type": "code",
   "execution_count": 64,
   "id": "aab9450b-675e-4e85-aca6-98d1ac8496ce",
   "metadata": {},
   "outputs": [
    {
     "name": "stdout",
     "output_type": "stream",
     "text": [
      "c 47\n"
     ]
    }
   ],
   "source": [
    "print(k,v)"
   ]
  },
  {
   "cell_type": "code",
   "execution_count": 65,
   "id": "7bb91e38-3359-4799-a4d1-8d6410779865",
   "metadata": {},
   "outputs": [
    {
     "name": "stdout",
     "output_type": "stream",
     "text": [
      "{'a': 100, 'b': 25}\n"
     ]
    }
   ],
   "source": [
    "print(d1)"
   ]
  },
  {
   "cell_type": "markdown",
   "id": "9c28c275-1b47-40ed-be77-0cca2163d9ff",
   "metadata": {},
   "source": [
    "## Fromkeys\n",
    "`dict.fromkeys(iterable, v=None):`\n",
    "iterable을 key로 사용하고,\n",
    "values를 v로 설정한 새 딕셔너리를 생성하여 반환"
   ]
  },
  {
   "cell_type": "code",
   "execution_count": 66,
   "id": "6568fe0e-c47a-4070-b4f1-7cfb950399b1",
   "metadata": {},
   "outputs": [
    {
     "data": {
      "text/plain": [
       "{1: None, 3: None, 5: None}"
      ]
     },
     "execution_count": 66,
     "metadata": {},
     "output_type": "execute_result"
    }
   ],
   "source": [
    "k = [1,3,5]\n",
    "d2 = dict.fromkeys(k)\n",
    "d2"
   ]
  },
  {
   "cell_type": "code",
   "execution_count": 67,
   "id": "bbeae80b-0a13-40bd-8da0-e057d267a8f7",
   "metadata": {},
   "outputs": [
    {
     "data": {
      "text/plain": [
       "{1: 10, 3: 10, 5: 10}"
      ]
     },
     "execution_count": 67,
     "metadata": {},
     "output_type": "execute_result"
    }
   ],
   "source": [
    "d3 = dict.fromkeys(k,10)\n",
    "d3"
   ]
  },
  {
   "cell_type": "code",
   "execution_count": 68,
   "id": "854100b0-e70b-40b5-8cfe-fc553461b448",
   "metadata": {},
   "outputs": [
    {
     "data": {
      "text/plain": [
       "{'a': 'ABC', 'b': 'ABC', 'c': 'ABC'}"
      ]
     },
     "execution_count": 68,
     "metadata": {},
     "output_type": "execute_result"
    }
   ],
   "source": [
    "d3 = dict.fromkeys('abc', 'ABC')\n",
    "d3"
   ]
  },
  {
   "cell_type": "markdown",
   "id": "57e66673-bdb0-4a60-8eca-c41248a67e27",
   "metadata": {},
   "source": [
    "# Copy\n",
    "- `dict.copy()` : 딕셔너리의 shallow copy 를 반환"
   ]
  },
  {
   "cell_type": "code",
   "execution_count": 69,
   "id": "24de7832-72bb-4cfa-b6bd-442d4f793499",
   "metadata": {},
   "outputs": [
    {
     "name": "stdout",
     "output_type": "stream",
     "text": [
      "{1: 'a', 2: 'b'}\n",
      "{1: 'a', 2: 'b'}\n",
      "{1: 'a', 2: 'b', 3: 'c'}\n"
     ]
    }
   ],
   "source": [
    "d1 = {1:'a', 2:'b', 3:'c'}\n",
    "d2 = d1\n",
    "d3 = d1.copy()\n",
    "d1.popitem()\n",
    "print(d1)\n",
    "print(d2)\n",
    "print(d3)"
   ]
  },
  {
   "cell_type": "markdown",
   "id": "76dfed88-45da-47e8-a1bb-7924da855b3d",
   "metadata": {},
   "source": [
    "# clear\n",
    "- `dict.clear()` : 딕셔너리의 모든 원소를 제거."
   ]
  },
  {
   "cell_type": "code",
   "execution_count": 70,
   "id": "74e4ca5a-feef-424c-901e-296581e97b5d",
   "metadata": {},
   "outputs": [
    {
     "data": {
      "text/plain": [
       "{}"
      ]
     },
     "execution_count": 70,
     "metadata": {},
     "output_type": "execute_result"
    }
   ],
   "source": [
    "d1.clear()\n",
    "d1"
   ]
  },
  {
   "cell_type": "code",
   "execution_count": 71,
   "id": "62cb08fd-5070-4f34-8fd0-18466188a469",
   "metadata": {},
   "outputs": [
    {
     "data": {
      "text/plain": [
       "{}"
      ]
     },
     "execution_count": 71,
     "metadata": {},
     "output_type": "execute_result"
    }
   ],
   "source": [
    "d2"
   ]
  },
  {
   "cell_type": "markdown",
   "id": "ba2a913e-3433-4768-ae65-c7d4399b7c5a",
   "metadata": {},
   "source": [
    "# get\n",
    "- `dict.get()` : 딕셔너리에 key가 있느면 해당 value를 반환하고 없으면 default값을 반환."
   ]
  },
  {
   "cell_type": "code",
   "execution_count": 72,
   "id": "f4366f72-4431-4fc6-947e-365969a405c2",
   "metadata": {},
   "outputs": [
    {
     "data": {
      "text/plain": [
       "'a'"
      ]
     },
     "execution_count": 72,
     "metadata": {},
     "output_type": "execute_result"
    }
   ],
   "source": [
    "d1 = {1:'a', 2:'b', 3:'c'}\n",
    "d1.get(1,'none')"
   ]
  },
  {
   "cell_type": "code",
   "execution_count": 77,
   "id": "20ae1fd1-3720-47ff-95b3-f0ee4411f33b",
   "metadata": {},
   "outputs": [],
   "source": [
    "d1.get(10)  # no outputs"
   ]
  },
  {
   "cell_type": "code",
   "execution_count": 76,
   "id": "a6df0584-d723-41d4-acdb-c074c87a31f6",
   "metadata": {},
   "outputs": [
    {
     "data": {
      "text/plain": [
       "'no keys'"
      ]
     },
     "execution_count": 76,
     "metadata": {},
     "output_type": "execute_result"
    }
   ],
   "source": [
    "d1.get(10, 'no keys')"
   ]
  },
  {
   "cell_type": "markdown",
   "id": "5f564bc0-74b2-4ef7-ad5f-9bb16cf84b27",
   "metadata": {},
   "source": [
    "# items\n",
    "- `dict.items()` : 딕셔너리에 있는 모든 (key, values) 쌍을 튜플로 반환"
   ]
  },
  {
   "cell_type": "code",
   "execution_count": 79,
   "id": "dd72db37-da47-48c5-a6d9-1bacd8ddc7f1",
   "metadata": {},
   "outputs": [
    {
     "data": {
      "text/plain": [
       "{1: 'a', 2: 'b', 3: 'c'}"
      ]
     },
     "execution_count": 79,
     "metadata": {},
     "output_type": "execute_result"
    }
   ],
   "source": [
    "d1"
   ]
  },
  {
   "cell_type": "code",
   "execution_count": 80,
   "id": "56adf811-7aae-4beb-adc5-a2af8fd00db2",
   "metadata": {},
   "outputs": [
    {
     "data": {
      "text/plain": [
       "dict_items([(1, 'a'), (2, 'b'), (3, 'c')])"
      ]
     },
     "execution_count": 80,
     "metadata": {},
     "output_type": "execute_result"
    }
   ],
   "source": [
    "d1.items()"
   ]
  },
  {
   "cell_type": "markdown",
   "id": "cc5bb43d-273f-40f5-b7ff-75d6b89b3511",
   "metadata": {},
   "source": [
    "# Keys\n",
    "- `dict.keys()` : 딕셔너리에 있는 모든 key반환"
   ]
  },
  {
   "cell_type": "code",
   "execution_count": 81,
   "id": "0f42e0f5-0ffc-4b81-8655-fd9564a82de2",
   "metadata": {},
   "outputs": [
    {
     "data": {
      "text/plain": [
       "{1: 'a', 2: 'b', 3: 'c'}"
      ]
     },
     "execution_count": 81,
     "metadata": {},
     "output_type": "execute_result"
    }
   ],
   "source": [
    "d1"
   ]
  },
  {
   "cell_type": "code",
   "execution_count": 82,
   "id": "00377c14-cc8d-4f9a-b84a-129a71d448e6",
   "metadata": {},
   "outputs": [
    {
     "data": {
      "text/plain": [
       "dict_keys([1, 2, 3])"
      ]
     },
     "execution_count": 82,
     "metadata": {},
     "output_type": "execute_result"
    }
   ],
   "source": [
    "d1.keys()"
   ]
  },
  {
   "cell_type": "markdown",
   "id": "d78e3a5a-5f8d-44e3-a0d9-69386d743b0f",
   "metadata": {},
   "source": [
    "# values\n",
    "- `dict.values()` : 딕셔너리에 있는 모든 value 반환"
   ]
  },
  {
   "cell_type": "code",
   "execution_count": 83,
   "id": "ee8ec7c7-08d0-4391-88cd-2a2438780f34",
   "metadata": {},
   "outputs": [
    {
     "data": {
      "text/plain": [
       "{1: 'a', 2: 'b', 3: 'c'}"
      ]
     },
     "execution_count": 83,
     "metadata": {},
     "output_type": "execute_result"
    }
   ],
   "source": [
    "d1"
   ]
  },
  {
   "cell_type": "code",
   "execution_count": 84,
   "id": "e69e3d3e-10be-47ee-8796-5783c7ec98e5",
   "metadata": {},
   "outputs": [
    {
     "data": {
      "text/plain": [
       "dict_values(['a', 'b', 'c'])"
      ]
     },
     "execution_count": 84,
     "metadata": {},
     "output_type": "execute_result"
    }
   ],
   "source": [
    "d1.values()"
   ]
  },
  {
   "cell_type": "markdown",
   "id": "fcb5ae33-15b6-4254-8ffd-6c2f3316e073",
   "metadata": {},
   "source": [
    "# Update\n",
    "`dict.update(iterable)` \n",
    "- 딕셔너리에 iterable 삽입. 딕셔너리에 이미 동일한 key가 있는 경우에 해당 value를 새 value로 대치하고, key가 기존 딕셔너리에 없는 경우에 key, value 쌍을 삽입"
   ]
  },
  {
   "cell_type": "code",
   "execution_count": 85,
   "id": "69ee6985-218d-44e6-b446-ad41781d1f5d",
   "metadata": {},
   "outputs": [
    {
     "data": {
      "text/plain": [
       "{1: 'aaa', 2: 'b', 3: 'c', 4: 'bbb'}"
      ]
     },
     "execution_count": 85,
     "metadata": {},
     "output_type": "execute_result"
    }
   ],
   "source": [
    "d1 = {1:'a', 2:'b', 3:'c'}\n",
    "d2 = {1:'aaa', 4:'bbb'}\n",
    "d1.update(d2)\n",
    "d1"
   ]
  },
  {
   "cell_type": "code",
   "execution_count": 86,
   "id": "718df0ac-3abe-4cbb-bda8-813b3f0e3bf4",
   "metadata": {},
   "outputs": [
    {
     "data": {
      "text/plain": [
       "{'a': 'A', 'b': 'B', 'c': 5, 'd': 7}"
      ]
     },
     "execution_count": 86,
     "metadata": {},
     "output_type": "execute_result"
    }
   ],
   "source": [
    "d3 = {'a':'A', 'b':'B', 'c':'C'}\n",
    "d3.update(c = 5, d=7)\n",
    "d3"
   ]
  },
  {
   "cell_type": "markdown",
   "id": "454d17c5-b1ca-4d66-93bf-ddd6f6f5a213",
   "metadata": {},
   "source": [
    "# Dictionary 관련 메쏘드\n",
    "- len(object): 컨테이너 내의 항목의 개수 반환\n",
    "- sum(iterable, start=0): iterable의 합과 start의 합을 반환\n",
    "- min(iterable): iterable 내의 최솟값을 반환\n",
    "- max(iterable): iterable 내의 최댓값을 반환\n",
    "- any(iterable): iterable 내의 어떤 x가 True이면 True를 반환\n",
    "- all(iterable): iterable 내의 모든 x가 True이면 True를 반환\n",
    "- sorted(sequence, key=None, reverse=False): sequence의 모든 값을 정렬하여 만든 리스트를 반환\n",
    "- enumerate(iterable, start=0): start로 시작하는 카운트와 iterable 내의 value의 쌍을 가진 enumerate 객체를 반환\n",
    "- filter(function, iterable): iterable의 항목 x 중에서 function(x)의 결과가 True인 x를 iterable로 반환"
   ]
  },
  {
   "cell_type": "code",
   "execution_count": 88,
   "id": "b730659f-65e9-4de0-8331-9054909f73bf",
   "metadata": {},
   "outputs": [
    {
     "name": "stdout",
     "output_type": "stream",
     "text": [
      "3\n",
      "1\n",
      "3\n",
      "6\n",
      "16\n",
      "[1, 2, 3]\n",
      "[3, 2, 1]\n"
     ]
    }
   ],
   "source": [
    "d1 = {1:'a', 2:'b', 3:'c'}\n",
    "print(len(d1))\n",
    "print(min(d1))\n",
    "print(max(d1))\n",
    "print(sum(d1))\n",
    "print(sum(d1, 10))\n",
    "print(sorted(d1))\n",
    "print(sorted(d1, reverse=True))"
   ]
  },
  {
   "cell_type": "code",
   "execution_count": 89,
   "id": "4a36ec4f-e422-4b92-89c5-e45147f34aad",
   "metadata": {},
   "outputs": [
    {
     "name": "stdout",
     "output_type": "stream",
     "text": [
      "3\n",
      "a\n",
      "c\n",
      "['a', 'b', 'c']\n",
      "['c', 'b', 'a']\n"
     ]
    }
   ],
   "source": [
    "d2 = {'a':1, 'b':2, 'c':3}\n",
    "print(len(d2))\n",
    "print(min(d2))\n",
    "print(max(d2))\n",
    "print(sorted(d2))\n",
    "print(sorted(d2, reverse=True))"
   ]
  },
  {
   "cell_type": "code",
   "execution_count": 95,
   "id": "44d3bc27-e12d-4928-9aef-44a9b0c6778d",
   "metadata": {},
   "outputs": [
    {
     "name": "stdout",
     "output_type": "stream",
     "text": [
      "0 a\n",
      "1 b\n",
      "2 c\n"
     ]
    }
   ],
   "source": [
    "for i, k in enumerate(d2): #앞의 값 a에 0, 1, 2 와 같이 index묶어서 배달.\n",
    "    print(i, k)"
   ]
  },
  {
   "cell_type": "code",
   "execution_count": 92,
   "id": "04427cf9-51de-4f23-a0b7-002962afe89e",
   "metadata": {},
   "outputs": [
    {
     "data": {
      "text/plain": [
       "{'a': 1, 'b': 2, 'c': 3}"
      ]
     },
     "execution_count": 92,
     "metadata": {},
     "output_type": "execute_result"
    }
   ],
   "source": [
    "d2"
   ]
  },
  {
   "cell_type": "code",
   "execution_count": 97,
   "id": "22dc97b7-d3ef-40d0-b9cb-5f70c4d6d8ed",
   "metadata": {},
   "outputs": [
    {
     "name": "stdout",
     "output_type": "stream",
     "text": [
      "a\n",
      "b\n",
      "c\n"
     ]
    }
   ],
   "source": [
    "for s in d2:\n",
    "    print(s)"
   ]
  },
  {
   "cell_type": "code",
   "execution_count": 98,
   "id": "4553d93b-fe8e-4484-a5db-4cb6166e0597",
   "metadata": {},
   "outputs": [
    {
     "name": "stdout",
     "output_type": "stream",
     "text": [
      "A\n",
      "B\n",
      "C\n"
     ]
    }
   ],
   "source": [
    "for s in d2.keys():\n",
    "    print(s.upper())"
   ]
  },
  {
   "cell_type": "code",
   "execution_count": 99,
   "id": "eb9c1456-b9bd-4675-96b6-b5736882e211",
   "metadata": {},
   "outputs": [
    {
     "name": "stdout",
     "output_type": "stream",
     "text": [
      "1\n",
      "2\n",
      "3\n"
     ]
    }
   ],
   "source": [
    "for s in d2.values():\n",
    "    print(s)"
   ]
  },
  {
   "cell_type": "code",
   "execution_count": null,
   "id": "6142b391-2453-4818-94c4-39f67d7feddd",
   "metadata": {},
   "outputs": [],
   "source": []
  }
 ],
 "metadata": {
  "kernelspec": {
   "display_name": "Python 3 (ipykernel)",
   "language": "python",
   "name": "python3"
  },
  "language_info": {
   "codemirror_mode": {
    "name": "ipython",
    "version": 3
   },
   "file_extension": ".py",
   "mimetype": "text/x-python",
   "name": "python",
   "nbconvert_exporter": "python",
   "pygments_lexer": "ipython3",
   "version": "3.9.7"
  }
 },
 "nbformat": 4,
 "nbformat_minor": 5
}
