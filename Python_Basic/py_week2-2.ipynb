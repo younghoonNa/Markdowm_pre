{
 "cells": [
  {
   "cell_type": "markdown",
   "id": "53d6aa34-0e4a-49d2-94c5-8749ee50bdbd",
   "metadata": {},
   "source": [
    "# 지난 시간 배운 내용.\n",
    "\n",
    "## Python의 숫자 자료형.\n",
    "- Integer (정수)\n",
    "- Boolean type (bool 형), \n",
    "- Floating-point numbers (실수)\n",
    "- Complex numbers (복소수)"
   ]
  },
  {
   "cell_type": "markdown",
   "id": "91a67077-7f0f-4484-9467-d706c0030daf",
   "metadata": {},
   "source": [
    "1. 덧셈 : +\n",
    "1. 뺄셈 : - \n",
    "3. 곱셈 : *\n",
    "4. 정수, 실수 나눗셈 : /\n",
    "5. 나눗셈의 몫 : //\n",
    "6. 나눗셈의 나머지 : %\n",
    "7. 지수승 ** "
   ]
  },
  {
   "cell_type": "markdown",
   "id": "846b8eb3-25f0-4b59-a8de-07e9346535d6",
   "metadata": {},
   "source": [
    "## Phython2의 Identifiers의 Lexical Definition\n",
    "- identifier ::= (letter | \"_\" ) (letter | digit| \"_\") * \n",
    "- letter ::= lowercase | uppercase\n",
    "- lowercase ::= \"a\".. \"z\"\n",
    "- uppercase ::= \"A\".. \"Z\"\n",
    "- digit ::= \"0\"..\"9\"\n",
    "\n",
    "## Python2와 3의 차이점이라고 하면 \n",
    "- Python2 : 아스키 코드만 사용 가능\n",
    "- Python3 : 아스키 코드와 유니코드가 사용가능."
   ]
  },
  {
   "cell_type": "code",
   "execution_count": 4,
   "id": "4826c5c7-ebbd-4a00-ae8a-4ed4e80f61f9",
   "metadata": {},
   "outputs": [
    {
     "name": "stdout",
     "output_type": "stream",
     "text": [
      "(3, 2)\n",
      "(3.0, 1.5999999999999988)\n"
     ]
    }
   ],
   "source": [
    "#정수와 실수만 적용 가능.\n",
    "print(divmod(11,3))\n",
    "print(divmod(11.2, 3.2))\n",
    "\n",
    "#나눗셈의 몫과 나머지를 튜플 형태로 반환"
   ]
  },
  {
   "cell_type": "markdown",
   "id": "af7e39c1-d7d3-42f2-9366-39dbdd009ed1",
   "metadata": {},
   "source": [
    "# Python 키워드\n",
    "- 키워드는 상수나, 변수 혹은 다른 식별자들의 이름으로 사용할 수 없다.\n",
    "- 예약어는 모두 소문자로 구성되어 있다.\n",
    "- `None` 은 키워드는 아니지만 Python에서 상수로 사용하고 있는 내장 객체이므로, 사용자가 다른 용도로 사용하면 안된다.\n",
    "- Python 언어의 Keyword 리스트"
   ]
  },
  {
   "cell_type": "code",
   "execution_count": 5,
   "id": "dc03d4ae-94d4-41fb-9b41-4b93b36c1fdc",
   "metadata": {},
   "outputs": [
    {
     "data": {
      "text/plain": [
       "'3.9.7 (default, Sep 16 2021, 08:50:36) \\n[Clang 10.0.0 ]'"
      ]
     },
     "execution_count": 5,
     "metadata": {},
     "output_type": "execute_result"
    }
   ],
   "source": [
    "import sys\n",
    "sys.version"
   ]
  },
  {
   "cell_type": "markdown",
   "id": "50356a10-0bb3-49e8-af76-9174f274c1d0",
   "metadata": {},
   "source": [
    "# 모듈\n",
    "- 파이썬 코드의 조직화 단위를 담당하는 객체\n",
    "- 임의의 파이썬 객체들을 담는 이름 공간을 찾는다.\n",
    "- importing 절차의 의해 파이썬으로 로드 된다.\n",
    "- 일종의 library\n",
    "\n",
    "## <b> 키워드를 절대로 식별자로 사용하면 안됨! </b>"
   ]
  },
  {
   "cell_type": "code",
   "execution_count": 9,
   "id": "27c8c812-b1ed-4e20-b9f8-91ea58ba9cb5",
   "metadata": {},
   "outputs": [
    {
     "data": {
      "text/plain": [
       "36"
      ]
     },
     "execution_count": 9,
     "metadata": {},
     "output_type": "execute_result"
    }
   ],
   "source": [
    "import keyword\n",
    "len(keyword.kwlist)\n",
    "#kwlist = keyword list"
   ]
  },
  {
   "cell_type": "code",
   "execution_count": 8,
   "id": "bd2f1cd2-d4be-4e8b-a212-a85aa60c0f6d",
   "metadata": {},
   "outputs": [
    {
     "data": {
      "text/plain": [
       "['False',\n",
       " 'None',\n",
       " 'True',\n",
       " '__peg_parser__',\n",
       " 'and',\n",
       " 'as',\n",
       " 'assert',\n",
       " 'async',\n",
       " 'await',\n",
       " 'break',\n",
       " 'class',\n",
       " 'continue',\n",
       " 'def',\n",
       " 'del',\n",
       " 'elif',\n",
       " 'else',\n",
       " 'except',\n",
       " 'finally',\n",
       " 'for',\n",
       " 'from',\n",
       " 'global',\n",
       " 'if',\n",
       " 'import',\n",
       " 'in',\n",
       " 'is',\n",
       " 'lambda',\n",
       " 'nonlocal',\n",
       " 'not',\n",
       " 'or',\n",
       " 'pass',\n",
       " 'raise',\n",
       " 'return',\n",
       " 'try',\n",
       " 'while',\n",
       " 'with',\n",
       " 'yield']"
      ]
     },
     "execution_count": 8,
     "metadata": {},
     "output_type": "execute_result"
    }
   ],
   "source": [
    "keyword.kwlist"
   ]
  },
  {
   "cell_type": "markdown",
   "id": "cfe459eb-d058-41d2-9cf5-18d12117919a",
   "metadata": {},
   "source": [
    "# print() 정보를 화면에 표시하기."
   ]
  },
  {
   "cell_type": "code",
   "execution_count": 10,
   "id": "8d98bd4e-3a64-4ecd-a5cb-072744bfbd2f",
   "metadata": {},
   "outputs": [],
   "source": [
    "a = 3\n",
    "b = 4"
   ]
  },
  {
   "cell_type": "code",
   "execution_count": 11,
   "id": "5bf895ca-4032-4165-9a8e-904175061255",
   "metadata": {},
   "outputs": [
    {
     "data": {
      "text/plain": [
       "12"
      ]
     },
     "execution_count": 11,
     "metadata": {},
     "output_type": "execute_result"
    }
   ],
   "source": [
    "a * b"
   ]
  },
  {
   "cell_type": "code",
   "execution_count": 12,
   "id": "afcf1b54-81ad-46e9-b471-cce3c844db4c",
   "metadata": {},
   "outputs": [
    {
     "data": {
      "text/plain": [
       "6"
      ]
     },
     "execution_count": 12,
     "metadata": {},
     "output_type": "execute_result"
    }
   ],
   "source": [
    "a * b\n",
    "2 * a"
   ]
  },
  {
   "cell_type": "code",
   "execution_count": 13,
   "id": "b4eedfb9-62f0-4cdb-b348-91366011f7b1",
   "metadata": {},
   "outputs": [
    {
     "name": "stdout",
     "output_type": "stream",
     "text": [
      "12\n",
      "6\n"
     ]
    }
   ],
   "source": [
    "print(a * b)\n",
    "print(2 * a)"
   ]
  },
  {
   "cell_type": "code",
   "execution_count": 15,
   "id": "adead439-32c0-4ff2-800b-1de9197d740f",
   "metadata": {},
   "outputs": [
    {
     "name": "stdout",
     "output_type": "stream",
     "text": [
      "3\n",
      "3 4\n",
      "b =  4\n",
      "3 4 \n",
      "\n",
      "3.4\n"
     ]
    }
   ],
   "source": [
    "a = 3\n",
    "b = 4\n",
    "\n",
    "print(a) #a에 할당된 정수 3을 문자로 변환하여 출력\n",
    "print(a,b) # 각 변수에 할당된 값을 문자열로 변환하여 출력하며 공백을 하나 넣어서 출력\n",
    "print(\"b = \", b) \n",
    "print(a,b, '\\n')\n",
    "print(a,b, sep = '.') # sep은 구분자로 중간에 공백 대신 지정문자를 넣어줌."
   ]
  },
  {
   "cell_type": "code",
   "execution_count": 19,
   "id": "af5410ba-21a0-4e27-b382-f89f13ffd69c",
   "metadata": {},
   "outputs": [
    {
     "name": "stdout",
     "output_type": "stream",
     "text": [
      "1 2; 2, 3"
     ]
    }
   ],
   "source": [
    "a = 1\n",
    "b = 2\n",
    "c = 3\n",
    "print(a,b, end ='; ') #원래 print문이 끝나면 \\n으로 줄바꿈을 하지만... end를 사용하면 해당 문자를 마지막으로 사용.\n",
    "print(b, end = ', ')\n",
    "print(c, end = '')"
   ]
  },
  {
   "cell_type": "markdown",
   "id": "1cb65efb-256a-4eda-8070-c2c7673ef7c2",
   "metadata": {},
   "source": [
    "# 키보드를 이용한 문자열 입력"
   ]
  },
  {
   "cell_type": "code",
   "execution_count": 22,
   "id": "f3808a96-aac6-43ef-aac4-afb09d5750db",
   "metadata": {},
   "outputs": [
    {
     "name": "stdin",
     "output_type": "stream",
     "text": [
      "문자열을 입력하세요 :  ㄴㅇ\n"
     ]
    },
    {
     "data": {
      "text/plain": [
       "'ㄴㅇ'"
      ]
     },
     "execution_count": 22,
     "metadata": {},
     "output_type": "execute_result"
    }
   ],
   "source": [
    "input(\"문자열을 입력하세요 : \")\n",
    "# 얘는 출력 프롬프트가 보임."
   ]
  },
  {
   "cell_type": "code",
   "execution_count": 23,
   "id": "75c31bad-c6fa-4eda-b6e4-82a224266841",
   "metadata": {},
   "outputs": [
    {
     "name": "stdin",
     "output_type": "stream",
     "text": [
      "문자열을 입력하세요 :  ㄴㅇ\n"
     ]
    },
    {
     "name": "stdout",
     "output_type": "stream",
     "text": [
      "ㄴㅇ\n"
     ]
    }
   ],
   "source": [
    "s = input(\"문자열을 입력하세요 : \")\n",
    "print(s)\n",
    "#얘는 출력 프롬프트가 보이지 않음."
   ]
  },
  {
   "cell_type": "markdown",
   "id": "af320a22-2ec5-4e4a-b249-6041fec30acb",
   "metadata": {},
   "source": [
    "# 변수 \n",
    "- 변수를 사용할 때 변수형을 사전에 선언하지 않는다.\n",
    "- 변수는 메모리에 있는 객체의 이름 // 식별자가 부여된 메모리의 위치.\n",
    "- 변수는 객체의 참조일 뿐, 변수에 객체를 복사하지 않는다.\n",
    "- binding : 변수에 객체를 참조할 수 있도록 연결하는 것."
   ]
  },
  {
   "cell_type": "code",
   "execution_count": 24,
   "id": "c82deacc-2e8f-4cd3-bbd5-a416fee7c7fe",
   "metadata": {},
   "outputs": [
    {
     "data": {
      "text/plain": [
       "(int, int)"
      ]
     },
     "execution_count": 24,
     "metadata": {},
     "output_type": "execute_result"
    }
   ],
   "source": [
    "a = 3\n",
    "b = 7\n",
    "type(a), type(b)"
   ]
  },
  {
   "cell_type": "code",
   "execution_count": 25,
   "id": "e282fc65-5f18-4274-b672-9cacfd1a4708",
   "metadata": {},
   "outputs": [
    {
     "data": {
      "text/plain": [
       "2.3333333333333335"
      ]
     },
     "execution_count": 25,
     "metadata": {},
     "output_type": "execute_result"
    }
   ],
   "source": [
    "c = b/a #c는 실수형으로 변환이 됨.\n",
    "c # 왜 2.3333333333 이 아닌 5가 될까?"
   ]
  },
  {
   "cell_type": "code",
   "execution_count": 27,
   "id": "5b91fd4b-0230-441c-96dc-58b65a2a7384",
   "metadata": {},
   "outputs": [
    {
     "data": {
      "text/plain": [
       "float"
      ]
     },
     "execution_count": 27,
     "metadata": {},
     "output_type": "execute_result"
    }
   ],
   "source": [
    "type(c)\n",
    "#float는 부동소수점 실수"
   ]
  },
  {
   "cell_type": "code",
   "execution_count": 29,
   "id": "0be78abc-d048-426e-af74-64c4fdf1bbfd",
   "metadata": {},
   "outputs": [
    {
     "name": "stdout",
     "output_type": "stream",
     "text": [
      "Help on class float in module builtins:\n",
      "\n",
      "class float(object)\n",
      " |  float(x=0, /)\n",
      " |  \n",
      " |  Convert a string or number to a floating point number, if possible.\n",
      " |  \n",
      " |  Methods defined here:\n",
      " |  \n",
      " |  __abs__(self, /)\n",
      " |      abs(self)\n",
      " |  \n",
      " |  __add__(self, value, /)\n",
      " |      Return self+value.\n",
      " |  \n",
      " |  __bool__(self, /)\n",
      " |      self != 0\n",
      " |  \n",
      " |  __ceil__(self, /)\n",
      " |      Return the ceiling as an Integral.\n",
      " |  \n",
      " |  __divmod__(self, value, /)\n",
      " |      Return divmod(self, value).\n",
      " |  \n",
      " |  __eq__(self, value, /)\n",
      " |      Return self==value.\n",
      " |  \n",
      " |  __float__(self, /)\n",
      " |      float(self)\n",
      " |  \n",
      " |  __floor__(self, /)\n",
      " |      Return the floor as an Integral.\n",
      " |  \n",
      " |  __floordiv__(self, value, /)\n",
      " |      Return self//value.\n",
      " |  \n",
      " |  __format__(self, format_spec, /)\n",
      " |      Formats the float according to format_spec.\n",
      " |  \n",
      " |  __ge__(self, value, /)\n",
      " |      Return self>=value.\n",
      " |  \n",
      " |  __getattribute__(self, name, /)\n",
      " |      Return getattr(self, name).\n",
      " |  \n",
      " |  __getnewargs__(self, /)\n",
      " |  \n",
      " |  __gt__(self, value, /)\n",
      " |      Return self>value.\n",
      " |  \n",
      " |  __hash__(self, /)\n",
      " |      Return hash(self).\n",
      " |  \n",
      " |  __int__(self, /)\n",
      " |      int(self)\n",
      " |  \n",
      " |  __le__(self, value, /)\n",
      " |      Return self<=value.\n",
      " |  \n",
      " |  __lt__(self, value, /)\n",
      " |      Return self<value.\n",
      " |  \n",
      " |  __mod__(self, value, /)\n",
      " |      Return self%value.\n",
      " |  \n",
      " |  __mul__(self, value, /)\n",
      " |      Return self*value.\n",
      " |  \n",
      " |  __ne__(self, value, /)\n",
      " |      Return self!=value.\n",
      " |  \n",
      " |  __neg__(self, /)\n",
      " |      -self\n",
      " |  \n",
      " |  __pos__(self, /)\n",
      " |      +self\n",
      " |  \n",
      " |  __pow__(self, value, mod=None, /)\n",
      " |      Return pow(self, value, mod).\n",
      " |  \n",
      " |  __radd__(self, value, /)\n",
      " |      Return value+self.\n",
      " |  \n",
      " |  __rdivmod__(self, value, /)\n",
      " |      Return divmod(value, self).\n",
      " |  \n",
      " |  __repr__(self, /)\n",
      " |      Return repr(self).\n",
      " |  \n",
      " |  __rfloordiv__(self, value, /)\n",
      " |      Return value//self.\n",
      " |  \n",
      " |  __rmod__(self, value, /)\n",
      " |      Return value%self.\n",
      " |  \n",
      " |  __rmul__(self, value, /)\n",
      " |      Return value*self.\n",
      " |  \n",
      " |  __round__(self, ndigits=None, /)\n",
      " |      Return the Integral closest to x, rounding half toward even.\n",
      " |      \n",
      " |      When an argument is passed, work like built-in round(x, ndigits).\n",
      " |  \n",
      " |  __rpow__(self, value, mod=None, /)\n",
      " |      Return pow(value, self, mod).\n",
      " |  \n",
      " |  __rsub__(self, value, /)\n",
      " |      Return value-self.\n",
      " |  \n",
      " |  __rtruediv__(self, value, /)\n",
      " |      Return value/self.\n",
      " |  \n",
      " |  __sub__(self, value, /)\n",
      " |      Return self-value.\n",
      " |  \n",
      " |  __truediv__(self, value, /)\n",
      " |      Return self/value.\n",
      " |  \n",
      " |  __trunc__(self, /)\n",
      " |      Return the Integral closest to x between 0 and x.\n",
      " |  \n",
      " |  as_integer_ratio(self, /)\n",
      " |      Return integer ratio.\n",
      " |      \n",
      " |      Return a pair of integers, whose ratio is exactly equal to the original float\n",
      " |      and with a positive denominator.\n",
      " |      \n",
      " |      Raise OverflowError on infinities and a ValueError on NaNs.\n",
      " |      \n",
      " |      >>> (10.0).as_integer_ratio()\n",
      " |      (10, 1)\n",
      " |      >>> (0.0).as_integer_ratio()\n",
      " |      (0, 1)\n",
      " |      >>> (-.25).as_integer_ratio()\n",
      " |      (-1, 4)\n",
      " |  \n",
      " |  conjugate(self, /)\n",
      " |      Return self, the complex conjugate of any float.\n",
      " |  \n",
      " |  hex(self, /)\n",
      " |      Return a hexadecimal representation of a floating-point number.\n",
      " |      \n",
      " |      >>> (-0.1).hex()\n",
      " |      '-0x1.999999999999ap-4'\n",
      " |      >>> 3.14159.hex()\n",
      " |      '0x1.921f9f01b866ep+1'\n",
      " |  \n",
      " |  is_integer(self, /)\n",
      " |      Return True if the float is an integer.\n",
      " |  \n",
      " |  ----------------------------------------------------------------------\n",
      " |  Class methods defined here:\n",
      " |  \n",
      " |  __getformat__(typestr, /) from builtins.type\n",
      " |      You probably don't want to use this function.\n",
      " |      \n",
      " |        typestr\n",
      " |          Must be 'double' or 'float'.\n",
      " |      \n",
      " |      It exists mainly to be used in Python's test suite.\n",
      " |      \n",
      " |      This function returns whichever of 'unknown', 'IEEE, big-endian' or 'IEEE,\n",
      " |      little-endian' best describes the format of floating point numbers used by the\n",
      " |      C type named by typestr.\n",
      " |  \n",
      " |  __set_format__(typestr, fmt, /) from builtins.type\n",
      " |      You probably don't want to use this function.\n",
      " |      \n",
      " |        typestr\n",
      " |          Must be 'double' or 'float'.\n",
      " |        fmt\n",
      " |          Must be one of 'unknown', 'IEEE, big-endian' or 'IEEE, little-endian',\n",
      " |          and in addition can only be one of the latter two if it appears to\n",
      " |          match the underlying C reality.\n",
      " |      \n",
      " |      It exists mainly to be used in Python's test suite.\n",
      " |      \n",
      " |      Override the automatic determination of C-level floating point type.\n",
      " |      This affects how floats are converted to and from binary strings.\n",
      " |  \n",
      " |  fromhex(string, /) from builtins.type\n",
      " |      Create a floating-point number from a hexadecimal string.\n",
      " |      \n",
      " |      >>> float.fromhex('0x1.ffffp10')\n",
      " |      2047.984375\n",
      " |      >>> float.fromhex('-0x1p-1074')\n",
      " |      -5e-324\n",
      " |  \n",
      " |  ----------------------------------------------------------------------\n",
      " |  Static methods defined here:\n",
      " |  \n",
      " |  __new__(*args, **kwargs) from builtins.type\n",
      " |      Create and return a new object.  See help(type) for accurate signature.\n",
      " |  \n",
      " |  ----------------------------------------------------------------------\n",
      " |  Data descriptors defined here:\n",
      " |  \n",
      " |  imag\n",
      " |      the imaginary part of a complex number\n",
      " |  \n",
      " |  real\n",
      " |      the real part of a complex number\n",
      "\n"
     ]
    }
   ],
   "source": [
    "help(float)"
   ]
  },
  {
   "cell_type": "code",
   "execution_count": 30,
   "id": "228b9966-277e-4032-bc24-b679a2a0fdba",
   "metadata": {},
   "outputs": [
    {
     "data": {
      "text/plain": [
       "6.3"
      ]
     },
     "execution_count": 30,
     "metadata": {},
     "output_type": "execute_result"
    }
   ],
   "source": [
    "d = 2\n",
    "e = 4.3\n",
    "f = d+e\n",
    "f"
   ]
  },
  {
   "cell_type": "code",
   "execution_count": 31,
   "id": "261a690e-d814-4742-a4ef-f77bec7d2e1e",
   "metadata": {},
   "outputs": [
    {
     "data": {
      "text/plain": [
       "(1606938044258990275541962092341162602522202993782792835301376, int)"
      ]
     },
     "execution_count": 31,
     "metadata": {},
     "output_type": "execute_result"
    }
   ],
   "source": [
    "g = pow(2, 200)\n",
    "g, type(g)"
   ]
  },
  {
   "cell_type": "code",
   "execution_count": 32,
   "id": "68b40974-53b4-47de-9ace-8bf47c0d21fe",
   "metadata": {},
   "outputs": [
    {
     "data": {
      "text/plain": [
       "(1606938044258990275541962092341162602522202993782792835301376, int)"
      ]
     },
     "execution_count": 32,
     "metadata": {},
     "output_type": "execute_result"
    }
   ],
   "source": [
    "h = 2**200\n",
    "h, type(h)"
   ]
  },
  {
   "cell_type": "markdown",
   "id": "7e5730b4-82f9-4fab-a31e-23e47fbcdb81",
   "metadata": {},
   "source": [
    "# 여러 변수에 동시에 동일한 값을 지정하는 방법."
   ]
  },
  {
   "cell_type": "code",
   "execution_count": 33,
   "id": "79633941-916f-4454-9f84-02c00febe08a",
   "metadata": {},
   "outputs": [
    {
     "name": "stdout",
     "output_type": "stream",
     "text": [
      "1.5 1.5 1.5\n"
     ]
    }
   ],
   "source": [
    "a = 1.5\n",
    "b = 1.5\n",
    "c = 1.5\n",
    "print(a,b,c)"
   ]
  },
  {
   "cell_type": "code",
   "execution_count": 35,
   "id": "a45687e3-f9a9-4250-9c16-4564b302507b",
   "metadata": {},
   "outputs": [
    {
     "name": "stdout",
     "output_type": "stream",
     "text": [
      "1.5 1.5 1.5\n"
     ]
    }
   ],
   "source": [
    "d = e = f = 1.5\n",
    "print(d,e,f)"
   ]
  },
  {
   "cell_type": "code",
   "execution_count": 36,
   "id": "769feceb-094d-4a9e-98e5-d007416ada63",
   "metadata": {},
   "outputs": [
    {
     "name": "stdout",
     "output_type": "stream",
     "text": [
      "Help on built-in function id in module builtins:\n",
      "\n",
      "id(obj, /)\n",
      "    Return the identity of an object.\n",
      "    \n",
      "    This is guaranteed to be unique among simultaneously existing objects.\n",
      "    (CPython uses the object's memory address.)\n",
      "\n"
     ]
    }
   ],
   "source": [
    "help(id)"
   ]
  },
  {
   "cell_type": "code",
   "execution_count": 37,
   "id": "296e7efb-112b-4661-b60e-88dcb305a1d9",
   "metadata": {},
   "outputs": [
    {
     "name": "stdout",
     "output_type": "stream",
     "text": [
      "140503417564624 140503417564720 140503417564592\n"
     ]
    }
   ],
   "source": [
    "print(id(a), id(b), id(c))\n",
    "# a,b,c는 모두 새로운 메모리를 만들고 3이라는 값을 바인딩 함."
   ]
  },
  {
   "cell_type": "code",
   "execution_count": 40,
   "id": "2ca8185b-5a36-43b8-82a6-db9eed081e66",
   "metadata": {},
   "outputs": [
    {
     "name": "stdout",
     "output_type": "stream",
     "text": [
      "140503417565136 140503417565136 140503417565136\n"
     ]
    }
   ],
   "source": [
    "print(id(d), id(e), id(f))\n",
    "# d e f는 1.5하나를 메모리에 생성후 모두 동일한 메모리 주소를 바인딩 함."
   ]
  },
  {
   "cell_type": "markdown",
   "id": "01e6834f-a8c0-45df-9aa7-82570b7dfefd",
   "metadata": {},
   "source": [
    "# 두 변수의 값 교환\n",
    "\n",
    "-> 파이썬의 Tuple 자료형을 잘 찾아보면 됨"
   ]
  },
  {
   "cell_type": "code",
   "execution_count": 42,
   "id": "6c8a418d-4c16-4f33-88da-a4d0abcdadd1",
   "metadata": {},
   "outputs": [],
   "source": [
    "a = 3\n",
    "b = 5"
   ]
  },
  {
   "cell_type": "code",
   "execution_count": 43,
   "id": "fcf6266e-3e28-468f-8b99-1735a0ae074d",
   "metadata": {},
   "outputs": [
    {
     "name": "stdout",
     "output_type": "stream",
     "text": [
      "5 3\n"
     ]
    }
   ],
   "source": [
    "tmp = a\n",
    "a = b\n",
    "b = tmp\n",
    "print(a,b)"
   ]
  },
  {
   "cell_type": "code",
   "execution_count": 44,
   "id": "f4d2101c-44d4-465f-a84c-88dd8227b850",
   "metadata": {},
   "outputs": [
    {
     "name": "stdout",
     "output_type": "stream",
     "text": [
      "5 3\n"
     ]
    }
   ],
   "source": [
    "a, b = 3,5\n",
    "b, a = a, b\n",
    "print(a,b)"
   ]
  },
  {
   "cell_type": "code",
   "execution_count": 45,
   "id": "e05c3b43-4ea9-44a1-92b2-f76fd285d5fe",
   "metadata": {},
   "outputs": [
    {
     "name": "stdout",
     "output_type": "stream",
     "text": [
      "140503949568368 140503949568432\n",
      "140503949568432 140503949568368\n"
     ]
    }
   ],
   "source": [
    "a,b = 3,5\n",
    "print(id(a), id(b))\n",
    "\n",
    "a,b = b,a\n",
    "print(id(a), id(b))"
   ]
  },
  {
   "cell_type": "markdown",
   "id": "c0be1bb7-01ad-4865-badd-02a4981286c0",
   "metadata": {},
   "source": [
    "# 대화형 모드에서 변수 _"
   ]
  },
  {
   "cell_type": "code",
   "execution_count": 46,
   "id": "7ac84b20-9362-4c6f-b4c9-bb8befcca108",
   "metadata": {},
   "outputs": [
    {
     "data": {
      "text/plain": [
       "15"
      ]
     },
     "execution_count": 46,
     "metadata": {},
     "output_type": "execute_result"
    }
   ],
   "source": [
    "a = 3\n",
    "b = 5\n",
    "a*b"
   ]
  },
  {
   "cell_type": "code",
   "execution_count": 47,
   "id": "707d0d2f-8db3-4d43-98b8-f4184866229b",
   "metadata": {},
   "outputs": [
    {
     "data": {
      "text/plain": [
       "45"
      ]
     },
     "execution_count": 47,
     "metadata": {},
     "output_type": "execute_result"
    }
   ],
   "source": [
    "c = _*3\n",
    "c"
   ]
  },
  {
   "cell_type": "markdown",
   "id": "fdc969e0-164c-41d9-92f2-707a62ac14ac",
   "metadata": {},
   "source": [
    "### 여기서 _는 이전 셀의 출력 결과"
   ]
  },
  {
   "cell_type": "code",
   "execution_count": 48,
   "id": "e8b44305-579b-44b0-ab3f-a9fadeb8339f",
   "metadata": {},
   "outputs": [
    {
     "data": {
      "text/plain": [
       "90"
      ]
     },
     "execution_count": 48,
     "metadata": {},
     "output_type": "execute_result"
    }
   ],
   "source": [
    "_ * 2"
   ]
  },
  {
   "cell_type": "markdown",
   "id": "dd5fbfe4-c0d9-4c9d-b568-4cc69153bef7",
   "metadata": {},
   "source": [
    "# 일반 변수 _"
   ]
  },
  {
   "cell_type": "code",
   "execution_count": 49,
   "id": "0218d6ee-1a2c-4c3e-95e1-3efdbb6ebf15",
   "metadata": {},
   "outputs": [
    {
     "data": {
      "text/plain": [
       "30"
      ]
     },
     "execution_count": 49,
     "metadata": {},
     "output_type": "execute_result"
    }
   ],
   "source": [
    "_ = 10\n",
    "3 * 10"
   ]
  },
  {
   "cell_type": "code",
   "execution_count": 50,
   "id": "94bb633e-d887-43ee-bdfe-4467a6dacf9b",
   "metadata": {},
   "outputs": [
    {
     "data": {
      "text/plain": [
       "30"
      ]
     },
     "execution_count": 50,
     "metadata": {},
     "output_type": "execute_result"
    }
   ],
   "source": [
    "_ * 3"
   ]
  },
  {
   "cell_type": "markdown",
   "id": "77cad044-6254-42e0-87b9-27b66cdedbba",
   "metadata": {},
   "source": [
    "### 대화형 모듈? 아무튼 이미 지정된 문자를 변수로 지정해버리면 그 문자가 가진 예약어? 명렁어? 사용 불가능해짐."
   ]
  },
  {
   "cell_type": "markdown",
   "id": "ab96b4a6-5335-4648-bb01-e31c2b09c1b1",
   "metadata": {},
   "source": [
    "# Walrus 연산자 (:=)\n",
    "- Python 3.8에서 추가.\n",
    "\n",
    "> x := 3\n",
    ">> x에 3을 할당 <br>\n",
    ">> `3을 반환` 반환기능 추가!\n",
    "\n",
    "> x = 3\n",
    ">> x에 3을 할당"
   ]
  },
  {
   "cell_type": "code",
   "execution_count": 51,
   "id": "fcaed40e-6c80-45c6-b44e-adc2e2e50cef",
   "metadata": {},
   "outputs": [],
   "source": [
    "x = 3"
   ]
  },
  {
   "cell_type": "code",
   "execution_count": 52,
   "id": "454abf30-32a4-4829-9145-bc5f746b1c6b",
   "metadata": {},
   "outputs": [
    {
     "data": {
      "text/plain": [
       "3"
      ]
     },
     "execution_count": 52,
     "metadata": {},
     "output_type": "execute_result"
    }
   ],
   "source": [
    "(x := 3)"
   ]
  },
  {
   "cell_type": "code",
   "execution_count": 53,
   "id": "eb5ca850-6402-4a23-b881-dd95143aab3c",
   "metadata": {},
   "outputs": [
    {
     "name": "stdout",
     "output_type": "stream",
     "text": [
      "이 프로그램은 숫자를 입력받아 더한 결과를 출력한다.\n"
     ]
    },
    {
     "name": "stdin",
     "output_type": "stream",
     "text": [
      "Enter a number to add. or 'q' to stop :  10\n",
      "Enter a number to add. or 'q' to stop :  20\n",
      "Enter a number to add. or 'q' to stop :  30\n",
      "Enter a number to add. or 'q' to stop :  q\n"
     ]
    },
    {
     "name": "stdout",
     "output_type": "stream",
     "text": [
      "sum =  60\n"
     ]
    }
   ],
   "source": [
    "total = 0\n",
    "print(\"이 프로그램은 숫자를 입력받아 더한 결과를 출력한다.\")\n",
    "\n",
    "while True:\n",
    "    number = input(\"Enter a number to add. or 'q' to stop : \")\n",
    "    \n",
    "    if number == 'q':\n",
    "        break;\n",
    "    \n",
    "    total = total + eval(number)\n",
    "\n",
    "print(\"sum = \", total)"
   ]
  },
  {
   "cell_type": "markdown",
   "id": "316d662e-04a9-49e1-bbde-a26c028026d8",
   "metadata": {
    "tags": []
   },
   "source": [
    "# walrus 연산자를 사용한다면?"
   ]
  },
  {
   "cell_type": "code",
   "execution_count": 57,
   "id": "f01366ac-137d-496d-8837-d1f45342a603",
   "metadata": {},
   "outputs": [
    {
     "name": "stdout",
     "output_type": "stream",
     "text": [
      "이 프로그램은 숫자를 입력받아 더한 결과를 출력한다.\n"
     ]
    },
    {
     "name": "stdin",
     "output_type": "stream",
     "text": [
      "Enter a number to add. or 'q' to stop :  10\n",
      "Enter a number to add. or 'q' to stop :  20\n",
      "Enter a number to add. or 'q' to stop :  q\n"
     ]
    },
    {
     "name": "stdout",
     "output_type": "stream",
     "text": [
      "sum =  30\n"
     ]
    }
   ],
   "source": [
    "## total = 0\n",
    "print(\"이 프로그램은 숫자를 입력받아 더한 결과를 출력한다.\")\n",
    "\n",
    "while (number := input(\"Enter a number to add. or 'q' to stop : \")) != 'q':\n",
    "    total = total + eval(number)\n",
    "\n",
    "print(\"sum = \", total)"
   ]
  },
  {
   "cell_type": "code",
   "execution_count": null,
   "id": "d20ab924-0fd5-4528-942b-cadcfe00d8f5",
   "metadata": {},
   "outputs": [],
   "source": []
  },
  {
   "cell_type": "code",
   "execution_count": null,
   "id": "eeb8b446-de0c-4e50-854a-28b426ab6270",
   "metadata": {},
   "outputs": [],
   "source": []
  },
  {
   "cell_type": "code",
   "execution_count": null,
   "id": "fd102a53-8ecf-4e6e-8488-e41312c5a0c9",
   "metadata": {},
   "outputs": [],
   "source": []
  },
  {
   "cell_type": "code",
   "execution_count": null,
   "id": "14be826f-f471-4a3e-beef-e54959f5441b",
   "metadata": {},
   "outputs": [],
   "source": []
  },
  {
   "cell_type": "code",
   "execution_count": null,
   "id": "c281eabd-a5b4-4f9d-86f0-0d1a470bac68",
   "metadata": {},
   "outputs": [],
   "source": []
  },
  {
   "cell_type": "code",
   "execution_count": null,
   "id": "14e44162-44f1-4dd8-9378-1a8d2efff7fe",
   "metadata": {},
   "outputs": [],
   "source": []
  },
  {
   "cell_type": "code",
   "execution_count": null,
   "id": "69bca864-52c3-46d0-b9ea-9ea465d84900",
   "metadata": {},
   "outputs": [],
   "source": []
  },
  {
   "cell_type": "code",
   "execution_count": null,
   "id": "ff5e7944-352e-4f18-924b-5505a744f847",
   "metadata": {},
   "outputs": [],
   "source": []
  },
  {
   "cell_type": "code",
   "execution_count": null,
   "id": "4cf5366b-1cfd-4e2f-955d-2dc45432020a",
   "metadata": {},
   "outputs": [],
   "source": []
  },
  {
   "cell_type": "code",
   "execution_count": null,
   "id": "26825ffc-b1a1-4ca4-9fa2-f7046ea64ff7",
   "metadata": {},
   "outputs": [],
   "source": []
  },
  {
   "cell_type": "code",
   "execution_count": null,
   "id": "a61b1dab-2e1b-4b65-b069-61e9f3f37df0",
   "metadata": {},
   "outputs": [],
   "source": []
  },
  {
   "cell_type": "code",
   "execution_count": null,
   "id": "b3b5b861-3440-4e3f-a731-a590b8142c20",
   "metadata": {},
   "outputs": [],
   "source": []
  },
  {
   "cell_type": "code",
   "execution_count": null,
   "id": "09602d3b-27d7-4fa9-bf54-a4095cf7c80b",
   "metadata": {},
   "outputs": [],
   "source": []
  },
  {
   "cell_type": "code",
   "execution_count": null,
   "id": "78a5f77f-a993-4950-a5e9-583031fbc198",
   "metadata": {},
   "outputs": [],
   "source": []
  },
  {
   "cell_type": "code",
   "execution_count": null,
   "id": "244368b6-8c2a-4396-82cd-bf2a479f0c29",
   "metadata": {},
   "outputs": [],
   "source": []
  },
  {
   "cell_type": "code",
   "execution_count": null,
   "id": "6b22eb4b-698f-419a-848a-7eb18b07e4bf",
   "metadata": {},
   "outputs": [],
   "source": []
  }
 ],
 "metadata": {
  "kernelspec": {
   "display_name": "Python 3 (ipykernel)",
   "language": "python",
   "name": "python3"
  },
  "language_info": {
   "codemirror_mode": {
    "name": "ipython",
    "version": 3
   },
   "file_extension": ".py",
   "mimetype": "text/x-python",
   "name": "python",
   "nbconvert_exporter": "python",
   "pygments_lexer": "ipython3",
   "version": "3.9.7"
  }
 },
 "nbformat": 4,
 "nbformat_minor": 5
}
