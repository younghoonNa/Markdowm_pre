{
 "cells": [
  {
   "cell_type": "markdown",
   "metadata": {},
   "source": [
    "<h1 align='center'> 파이썬과학프로그래밍기초 실습 5</h1>\n",
    "\n",
    "<p style=\"text-align: right\"> 2022.4.7.</p>"
   ]
  },
  {
   "cell_type": "markdown",
   "metadata": {},
   "source": [
    "\n",
    "<div class=\"alert alert-block alert-info\">\n",
    "    \n",
    "- 파일 이름에서 00000000을 자신의 학번으로, name을 자신의 이름으로 수정하세요.\n",
    "\n",
    "- 다음 줄에 자신의 이름, 학번, 학과(전공)을 적으세요.\n",
    "\n",
    "* 이름:   나영훈          학번:    20185124         학과(전공):  빅데이터 전공\n",
    "    \n",
    "</div>\n",
    "\n",
    "- JupyterLab 문서의 최신 버전은 [JupyterLab Documentation](https://jupyterlab.readthedocs.io/en/stable/index.html#/)을  참고하라\n",
    "\n",
    "- Markdown은 [Markdown Guide](https://www.markdownguide.org/)를 참고하라.\n",
    "- [Markdown Cheat Sheet](https://www.markdownguide.org/cheat-sheet/)\n",
    "\n",
    "* 제출 마감: 4월 13일 (수) 오후 6:00까지 최종본을 SmartLEAD에 제출\n"
   ]
  },
  {
   "cell_type": "code",
   "execution_count": 2,
   "metadata": {},
   "outputs": [
    {
     "data": {
      "text/plain": [
       "'3.9.7 (default, Sep 16 2021, 16:59:28) [MSC v.1916 64 bit (AMD64)]'"
      ]
     },
     "execution_count": 2,
     "metadata": {},
     "output_type": "execute_result"
    }
   ],
   "source": [
    "import sys\n",
    "sys.version"
   ]
  },
  {
   "cell_type": "markdown",
   "metadata": {},
   "source": [
    "## 지난 주 문제 1.\n",
    "'fake_student_records.csv' 파일에서 입학연도별 학생 수를 구하고 막대 그래프로 그려라. 단, 가로 축은 입학연도가 오름차순으로 정렬되어야 한다.\n",
    "\n",
    "다음과 같은 그래프가 나오면 된다.\n",
    "\n",
    "![studnets_per_school_year](students_per_school_year_graph.png)"
   ]
  },
  {
   "cell_type": "code",
   "execution_count": 3,
   "metadata": {},
   "outputs": [
    {
     "name": "stdout",
     "output_type": "stream",
     "text": [
      "{2026: 7, 2033: 4, 2031: 16, 2027: 9, 2030: 8, 2032: 7, 2028: 10, 2029: 9, 2025: 6}\n"
     ]
    },
    {
     "data": {
      "image/png": "[encoded data removed]",
      "text/plain": [
       "<Figure size 432x288 with 1 Axes>"
      ]
     },
     "metadata": {
      "needs_background": "light"
     },
     "output_type": "display_data"
    }
   ],
   "source": [
    "import csv\n",
    "import matplotlib.pyplot as plt\n",
    "\n",
    "\n",
    "students_per_admission_year = dict()\n",
    "\n",
    "\n",
    "with open('fake_student_records.csv', mode='r', encoding='utf-8') as csv_file:\n",
    "    csv_reader = csv.DictReader(csv_file)\n",
    "    for row in csv_reader:\n",
    "        admission_year = int(row['학번'][:4]) \n",
    "        # print(admission_year)\n",
    "        if admission_year in students_per_admission_year:\n",
    "            students_per_admission_year[admission_year] += 1\n",
    "\n",
    "        else:\n",
    "            students_per_admission_year[admission_year] = 1\n",
    "\n",
    "print(students_per_admission_year)\n",
    "\n",
    "sorted_students_per_admission_year = {}\n",
    "for year in sorted(students_per_admission_year): # sorted(students_per_admission_year) 는 키만 반환함.\n",
    "    sorted_students_per_admission_year[year] = students_per_admission_year[year]\n",
    "sorted_students_per_admission_year\n",
    "\n",
    "plt.rcParams[\"font.family\"] = 'gulim'\n",
    "plt.bar(range(len(sorted_students_per_admission_year)), sorted_students_per_admission_year.values())\n",
    "plt.xticks(range(len(sorted_students_per_admission_year)), sorted_students_per_admission_year.keys(), rotation=0)\n",
    "plt.xlabel('연도')\n",
    "plt.ylabel('명', rotation=0)\n",
    "plt.title('입학연도별 학생 수')\n",
    "plt.savefig('students_per_school_year_graph.png')\n",
    "plt.show()"
   ]
  },
  {
   "cell_type": "markdown",
   "metadata": {},
   "source": [
    "## 지난 주 문제 2.\n",
    "'fake_student_records.csv' 파일을 일고, 각 학생별로 과제 점수의 최소 점수를 제외한 7 번의 점수의 평균을 추가하여 출력하라. 단 평균 점수는 소숫점 세째 자리에서 반올림하여 둘째 자리까지만 기록한다.\n",
    " \n",
    "예를 들어서, 첫 학생의 기록을 보면 다음과 같다.\n",
    "\n",
    "```\n",
    "{'이름': '길은영', '학번': '20267377', '소속': '일본학과', '학년': '3', '과제1': 61, '과제2': 69, '과제3': 46, '과제4': 79, '과제5': 57, '과제6': 77, '과제7': 56, '과제8': 65}\n",
    "```\n",
    "8 번의 과제 점수의 최솟값은 과제3의 46이고, 과제3을 제외한 나머지 과제 7 개의 점수의 합은 464이다.\n",
    "464 / 7 = 66.28571428571429이고, 소숫점 세째 자리에서 반올림한 결과는 66/29이므로, 다음과 같이 출력되어야 한다.\n",
    "\n",
    "```\n",
    "{'이름': '길은영', '학번': '20267377', '소속': '일본학과', '학년': '3', '과제1': 61, '과제2': 69, '과제3': 46, '과제4': 79, '과제5': 57, '과제6': 77, '과제7': 56, '과제8': 65, '평균': 66.29}\n",
    "```\n",
    "\n",
    "참고로, 첫 다섯 학생의 기록은 다음과 출력되어야 한다.\n",
    "```\n",
    "{'이름': '길은영', '학번': '20267377', '소속': '일본학과', '학년': '3', '과제1': 61, '과제2': 69, '과제3': 46, '과제4': 79, '과제5': 57, '과제6': 77, '과제7': 56, '과제8': 65, '평균': 66.29}\n",
    "{'이름': '임희윤', '학번': '20337377', '소속': '심리학과', '학년': '2', '과제1': 76, '과제2': 62, '과제3': 62, '과제4': 64, '과제5': 77, '과제6': 100, '과제7': 51, '과제8': 94, '평균': 76.43}\n",
    "{'이름': '류준산', '학번': '20266173', '소속': '경제학과', '학년': '2', '과제1': 98, '과제2': 84, '과제3': 79, '과제4': 87, '과제5': 70, '과제6': 97, '과제7': 89, '과제8': 52, '평균': 86.29}\n",
    "{'이름': '한성빈', '학번': '20314864', '소속': '경제학과', '학년': '3', '과제1': 75, '과제2': 63, '과제3': 59, '과제4': 81, '과제5': 83, '과제6': 90, '과제7': 93, '과제8': 71, '평균': 79.43}\n",
    "{'이름': '김화원', '학번': '20277416', '소속': '경영학과', '학년': '3', '과제1': 45, '과제2': 90, '과제3': 86, '과제4': 94, '과제5': 94, '과제6': 52, '과제7': 76, '과제8': 84, '평균': 82.29}\n",
    "```\n"
   ]
  },
  {
   "cell_type": "code",
   "execution_count": 4,
   "metadata": {},
   "outputs": [
    {
     "name": "stdout",
     "output_type": "stream",
     "text": [
      "{'이름': '길은영', '학번': '20267377', '소속': '일본학과', '학년': '3', '과제1': 61, '과제2': 69, '과제3': 46, '과제4': 79, '과제5': 57, '과제6': 77, '과제7': 56, '과제8': 65, '평균': 66.29}\n",
      "{'이름': '임희윤', '학번': '20337377', '소속': '심리학과', '학년': '2', '과제1': 76, '과제2': 62, '과제3': 62, '과제4': 64, '과제5': 77, '과제6': 100, '과제7': 51, '과제8': 94, '평균': 76.43}\n",
      "{'이름': '류준산', '학번': '20266173', '소속': '경제학과', '학년': '2', '과제1': 98, '과제2': 84, '과제3': 79, '과제4': 87, '과제5': 70, '과제6': 97, '과제7': 89, '과제8': 52, '평균': 86.29}\n",
      "{'이름': '한성빈', '학번': '20314864', '소속': '경제학과', '학년': '3', '과제1': 75, '과제2': 63, '과제3': 59, '과제4': 81, '과제5': 83, '과제6': 90, '과제7': 93, '과제8': 71, '평균': 79.43}\n",
      "{'이름': '김화원', '학번': '20277416', '소속': '경영학과', '학년': '3', '과제1': 45, '과제2': 90, '과제3': 86, '과제4': 94, '과제5': 94, '과제6': 52, '과제7': 76, '과제8': 84, '평균': 82.29}\n",
      "{'이름': '강화윤', '학번': '20278703', '소속': '생명과학과', '학년': '3', '과제1': 77, '과제2': 60, '과제3': 73, '과제4': 87, '과제5': 56, '과제6': 88, '과제7': 93, '과제8': 75, '평균': 79.0}\n",
      "{'이름': '나동호', '학번': '20307508', '소속': '의과학융합전공', '학년': '3', '과제1': 71, '과제2': 69, '과제3': 66, '과제4': 49, '과제5': 87, '과제6': 90, '과제7': 78, '과제8': 88, '평균': 78.43}\n",
      "{'이름': '장아주', '학번': '20327422', '소속': '소프트웨어융합대학', '학년': '1', '과제1': 73, '과제2': 85, '과제3': 53, '과제4': 55, '과제5': 64, '과제6': 64, '과제7': 62, '과제8': 43, '평균': 65.14}\n",
      "{'이름': '한은윤', '학번': '20315261', '소속': '소프트웨어융합대학', '학년': '1', '과제1': 83, '과제2': 84, '과제3': 70, '과제4': 82, '과제5': 62, '과제6': 97, '과제7': 84, '과제8': 85, '평균': 83.57}\n",
      "{'이름': '구준찬', '학번': '20318889', '소속': '소프트웨어융합대학', '학년': '1', '과제1': 57, '과제2': 79, '과제3': 60, '과제4': 58, '과제5': 75, '과제6': 65, '과제7': 81, '과제8': 61, '평균': 68.43}\n",
      "{'이름': '김승윤', '학번': '20337402', '소속': '소프트웨어융합대학', '학년': '1', '과제1': 71, '과제2': 99, '과제3': 99, '과제4': 59, '과제5': 87, '과제6': 97, '과제7': 41, '과제8': 78, '평균': 84.29}\n",
      "{'이름': '윤영우', '학번': '20267343', '소속': '소프트웨어융합대학', '학년': '1', '과제1': 57, '과제2': 67, '과제3': 63, '과제4': 94, '과제5': 59, '과제6': 96, '과제7': 92, '과제8': 95, '평균': 80.86}\n",
      "{'이름': '김성혁', '학번': '20287422', '소속': '소프트웨어융합대학', '학년': '1', '과제1': 93, '과제2': 81, '과제3': 99, '과제4': 88, '과제5': 55, '과제6': 45, '과제7': 81, '과제8': 95, '평균': 84.57}\n",
      "{'이름': '안성우', '학번': '20305207', '소속': '소프트웨어융합대학', '학년': '1', '과제1': 91, '과제2': 66, '과제3': 64, '과제4': 65, '과제5': 47, '과제6': 61, '과제7': 81, '과제8': 95, '평균': 74.71}\n",
      "{'이름': '현상연', '학번': '20328616', '소속': '빅데이터전공', '학년': '2', '과제1': 96, '과제2': 91, '과제3': 85, '과제4': 78, '과제5': 77, '과제6': 57, '과제7': 65, '과제8': 59, '평균': 78.71}\n",
      "{'이름': '이진찬', '학번': '20307484', '소속': '스마트IoT전공', '학년': '2', '과제1': 93, '과제2': 89, '과제3': 87, '과제4': 99, '과제5': 60, '과제6': 59, '과제7': 50, '과제8': 75, '평균': 80.29}\n",
      "{'이름': '이지훈', '학번': '20327392', '소속': '빅데이터전공', '학년': '2', '과제1': 91, '과제2': 90, '과제3': 76, '과제4': 90, '과제5': 87, '과제6': 91, '과제7': 72, '과제8': 69, '평균': 85.29}\n",
      "{'이름': '이재지', '학번': '20297439', '소속': '스마트IoT전공', '학년': '2', '과제1': 74, '과제2': 55, '과제3': 99, '과제4': 100, '과제5': 89, '과제6': 83, '과제7': 60, '과제8': 73, '평균': 82.57}\n",
      "{'이름': '임여영', '학번': '20297379', '소속': '콘텐츠IT전공', '학년': '2', '과제1': 81, '과제2': 76, '과제3': 68, '과제4': 55, '과제5': 52, '과제6': 85, '과제7': 82, '과제8': 64, '평균': 73.0}\n",
      "{'이름': '김한욱', '학번': '20277338', '소속': '스마트IoT전공', '학년': '2', '과제1': 58, '과제2': 50, '과제3': 62, '과제4': 96, '과제5': 96, '과제6': 73, '과제7': 78, '과제8': 92, '평균': 79.29}\n",
      "{'이름': '이상우', '학번': '20257356', '소속': '스마트IoT전공', '학년': '2', '과제1': 49, '과제2': 65, '과제3': 53, '과제4': 73, '과제5': 58, '과제6': 72, '과제7': 61, '과제8': 83, '평균': 66.43}\n",
      "{'이름': '김소윤', '학번': '20287329', '소속': '빅데이터전공', '학년': '2', '과제1': 52, '과제2': 65, '과제3': 79, '과제4': 69, '과제5': 77, '과제6': 99, '과제7': 62, '과제8': 52, '평균': 71.86}\n",
      "{'이름': '함궁혁', '학번': '20325215', '소속': '빅데이터전공', '학년': '2', '과제1': 70, '과제2': 60, '과제3': 87, '과제4': 89, '과제5': 84, '과제6': 93, '과제7': 60, '과제8': 62, '평균': 77.86}\n",
      "{'이름': '김민우', '학번': '20274344', '소속': '빅데이터전공', '학년': '3', '과제1': 63, '과제2': 46, '과제3': 84, '과제4': 87, '과제5': 91, '과제6': 51, '과제7': 65, '과제8': 62, '평균': 71.86}\n",
      "{'이름': '이수연', '학번': '20315232', '소속': '빅데이터전공', '학년': '3', '과제1': 97, '과제2': 62, '과제3': 62, '과제4': 61, '과제5': 57, '과제6': 72, '과제7': 97, '과제8': 61, '평균': 73.14}\n",
      "{'이름': '임수우', '학번': '20275884', '소속': '스마트IoT전공', '학년': '3', '과제1': 66, '과제2': 59, '과제3': 89, '과제4': 52, '과제5': 91, '과제6': 86, '과제7': 83, '과제8': 96, '평균': 81.43}\n",
      "{'이름': '이은석', '학번': '20267518', '소속': '빅데이터전공', '학년': '3', '과제1': 64, '과제2': 88, '과제3': 59, '과제4': 99, '과제5': 52, '과제6': 42, '과제7': 84, '과제8': 57, '평균': 71.86}\n",
      "{'이름': '나동민', '학번': '20267452', '소속': '콘텐츠IT전공', '학년': '3', '과제1': 71, '과제2': 69, '과제3': 89, '과제4': 90, '과제5': 84, '과제6': 60, '과제7': 71, '과제8': 96, '평균': 81.43}\n",
      "{'이름': '윤원헌', '학번': '20287476', '소속': '빅데이터전공', '학년': '3', '과제1': 98, '과제2': 98, '과제3': 80, '과제4': 72, '과제5': 80, '과제6': 65, '과제7': 89, '과제8': 88, '평균': 86.43}\n",
      "{'이름': '한재혁', '학번': '20275473', '소속': '콘텐츠IT전공', '학년': '3', '과제1': 89, '과제2': 73, '과제3': 74, '과제4': 83, '과제5': 61, '과제6': 69, '과제7': 54, '과제8': 56, '평균': 72.14}\n",
      "{'이름': '박민용', '학번': '20297366', '소속': '빅데이터전공', '학년': '3', '과제1': 50, '과제2': 63, '과제3': 91, '과제4': 72, '과제5': 59, '과제6': 99, '과제7': 73, '과제8': 88, '평균': 77.86}\n",
      "{'이름': '김동원', '학번': '20315272', '소속': '빅데이터전공', '학년': '3', '과제1': 98, '과제2': 79, '과제3': 95, '과제4': 70, '과제5': 75, '과제6': 57, '과제7': 50, '과제8': 98, '평균': 81.71}\n",
      "{'이름': '김주성', '학번': '20257459', '소속': '빅데이터전공', '학년': '3', '과제1': 67, '과제2': 89, '과제3': 65, '과제4': 70, '과제5': 58, '과제6': 46, '과제7': 89, '과제8': 59, '평균': 71.0}\n",
      "{'이름': '김재성', '학번': '20308862', '소속': 'ICT융합전공', '학년': '3', '과제1': 85, '과제2': 92, '과제3': 92, '과제4': 45, '과제5': 81, '과제6': 67, '과제7': 78, '과제8': 58, '평균': 79.0}\n",
      "{'이름': '채소규', '학번': '20297366', '소속': '컴퓨터공학과', '학년': '2', '과제1': 95, '과제2': 76, '과제3': 93, '과제4': 66, '과제5': 90, '과제6': 59, '과제7': 86, '과제8': 49, '평균': 80.71}\n",
      "{'이름': '이소원', '학번': '20274870', '소속': '전자공학과', '학년': '2', '과제1': 61, '과제2': 69, '과제3': 52, '과제4': 66, '과제5': 62, '과제6': 65, '과제7': 67, '과제8': 70, '평균': 65.71}\n",
      "{'이름': '권태민', '학번': '20316593', '소속': '전자공학과', '학년': '3', '과제1': 98, '과제2': 72, '과제3': 84, '과제4': 59, '과제5': 89, '과제6': 73, '과제7': 59, '과제8': 71, '평균': 78.0}\n",
      "{'이름': '백동성', '학번': '20268613', '소속': '전자공학과', '학년': '4', '과제1': 92, '과제2': 55, '과제3': 67, '과제4': 85, '과제5': 69, '과제6': 57, '과제7': 53, '과제8': 99, '평균': 74.86}\n",
      "{'이름': '장민하', '학번': '20263847', '소속': '빅데이터전공', '학년': '3', '과제1': 60, '과제2': 79, '과제3': 84, '과제4': 81, '과제5': 87, '과제6': 49, '과제7': 61, '과제8': 93, '평균': 77.86}\n",
      "{'이름': '류성연', '학번': '20293832', '소속': '빅데이터전공', '학년': '3', '과제1': 78, '과제2': 68, '과제3': 75, '과제4': 88, '과제5': 82, '과제6': 48, '과제7': 98, '과제8': 79, '평균': 81.14}\n",
      "{'이름': '김태찬', '학번': '20327409', '소속': '콘텐츠IT전공', '학년': '2', '과제1': 76, '과제2': 78, '과제3': 85, '과제4': 95, '과제5': 76, '과제6': 64, '과제7': 91, '과제8': 96, '평균': 85.29}\n",
      "{'이름': '임상헌', '학번': '20307406', '소속': '콘텐츠IT전공', '학년': '2', '과제1': 76, '과제2': 63, '과제3': 55, '과제4': 90, '과제5': 70, '과제6': 78, '과제7': 95, '과제8': 79, '평균': 78.71}\n",
      "{'이름': '안주영', '학번': '20255886', '소속': '빅데이터전공', '학년': '3', '과제1': 52, '과제2': 80, '과제3': 96, '과제4': 48, '과제5': 66, '과제6': 57, '과제7': 93, '과제8': 56, '평균': 71.43}\n",
      "{'이름': '구영수', '학번': '20317381', '소속': '빅데이터전공', '학년': '2', '과제1': 59, '과제2': 64, '과제3': 60, '과제4': 70, '과제5': 74, '과제6': 100, '과제7': 58, '과제8': 86, '평균': 73.29}\n",
      "{'이름': '이재수', '학번': '20327371', '소속': '콘텐츠IT전공', '학년': '2', '과제1': 56, '과제2': 86, '과제3': 98, '과제4': 85, '과제5': 65, '과제6': 70, '과제7': 93, '과제8': 57, '평균': 79.14}\n",
      "{'이름': '류상수', '학번': '20317399', '소속': '스마트IoT전공', '학년': '2', '과제1': 95, '과제2': 67, '과제3': 49, '과제4': 99, '과제5': 43, '과제6': 53, '과제7': 100, '과제8': 78, '평균': 77.29}\n",
      "{'이름': '함재원', '학번': '20317303', '소속': '콘텐츠IT전공', '학년': '2', '과제1': 82, '과제2': 67, '과제3': 79, '과제4': 89, '과제5': 74, '과제6': 71, '과제7': 60, '과제8': 57, '평균': 74.57}\n",
      "{'이름': '남예기', '학번': '20317548', '소속': '광고홍보학과', '학년': '2', '과제1': 58, '과제2': 64, '과제3': 52, '과제4': 84, '과제5': 65, '과제6': 55, '과제7': 82, '과제8': 74, '평균': 68.86}\n",
      "{'이름': '조대욱', '학번': '20256200', '소속': '빅데이터전공', '학년': '3', '과제1': 95, '과제2': 60, '과제3': 69, '과제4': 60, '과제5': 56, '과제6': 86, '과제7': 66, '과제8': 67, '평균': 71.86}\n",
      "{'이름': '함민윤', '학번': '20287478', '소속': '빅데이터전공', '학년': '2', '과제1': 47, '과제2': 70, '과제3': 100, '과제4': 77, '과제5': 97, '과제6': 63, '과제7': 46, '과제8': 84, '평균': 76.86}\n",
      "{'이름': '한영용', '학번': '20327534', '소속': '콘텐츠IT전공', '학년': '2', '과제1': 46, '과제2': 98, '과제3': 81, '과제4': 48, '과제5': 72, '과제6': 46, '과제7': 62, '과제8': 79, '평균': 69.43}\n",
      "{'이름': '이강현', '학번': '20297381', '소속': '빅데이터전공', '학년': '2', '과제1': 55, '과제2': 91, '과제3': 90, '과제4': 59, '과제5': 59, '과제6': 94, '과제7': 66, '과제8': 94, '평균': 79.0}\n",
      "{'이름': '심성영', '학번': '20287540', '소속': '빅데이터전공', '학년': '2', '과제1': 56, '과제2': 96, '과제3': 80, '과제4': 79, '과제5': 95, '과제6': 92, '과제7': 71, '과제8': 65, '평균': 82.57}\n",
      "{'이름': '이재빈', '학번': '20297433', '소속': '빅데이터전공', '학년': '2', '과제1': 80, '과제2': 53, '과제3': 43, '과제4': 66, '과제5': 85, '과제6': 78, '과제7': 82, '과제8': 66, '평균': 72.86}\n",
      "{'이름': '안용석', '학번': '20307376', '소속': '콘텐츠IT전공', '학년': '2', '과제1': 83, '과제2': 65, '과제3': 97, '과제4': 99, '과제5': 75, '과제6': 79, '과제7': 84, '과제8': 99, '평균': 88.0}\n",
      "{'이름': '조승환', '학번': '20287374', '소속': '컴퓨터공학과', '학년': '4', '과제1': 66, '과제2': 66, '과제3': 74, '과제4': 52, '과제5': 93, '과제6': 48, '과제7': 100, '과제8': 83, '평균': 76.29}\n",
      "{'이름': '길대민', '학번': '20317391', '소속': '빅데이터전공', '학년': '2', '과제1': 86, '과제2': 74, '과제3': 94, '과제4': 79, '과제5': 84, '과제6': 46, '과제7': 79, '과제8': 84, '평균': 82.86}\n",
      "{'이름': '정동주', '학번': '20317381', '소속': '광고홍보학과', '학년': '4', '과제1': 66, '과제2': 76, '과제3': 93, '과제4': 86, '과제5': 98, '과제6': 43, '과제7': 68, '과제8': 88, '평균': 82.14}\n",
      "{'이름': '권윤하', '학번': '20307408', '소속': '스마트IoT전공', '학년': '2', '과제1': 94, '과제2': 81, '과제3': 55, '과제4': 100, '과제5': 73, '과제6': 88, '과제7': 51, '과제8': 90, '평균': 83.0}\n",
      "{'이름': '함성현', '학번': '20285865', '소속': '빅데이터전공', '학년': '2', '과제1': 68, '과제2': 74, '과제3': 91, '과제4': 67, '과제5': 53, '과제6': 57, '과제7': 62, '과제8': 77, '평균': 70.86}\n",
      "{'이름': '길영규', '학번': '20277461', '소속': '경영학과', '학년': '2', '과제1': 89, '과제2': 93, '과제3': 59, '과제4': 97, '과제5': 99, '과제6': 67, '과제7': 75, '과제8': 67, '평균': 83.86}\n",
      "{'이름': '김규하', '학번': '20287555', '소속': '콘텐츠IT전공', '학년': '4', '과제1': 82, '과제2': 67, '과제3': 97, '과제4': 96, '과제5': 87, '과제6': 55, '과제7': 62, '과제8': 99, '평균': 84.29}\n",
      "{'이름': '신영성', '학번': '20298671', '소속': '데이터테크전공', '학년': '4', '과제1': 100, '과제2': 42, '과제3': 41, '과제4': 80, '과제5': 55, '과제6': 78, '과제7': 71, '과제8': 90, '평균': 73.71}\n",
      "{'이름': '고병훈', '학번': '20255161', '소속': '콘텐츠IT전공', '학년': '2', '과제1': 99, '과제2': 92, '과제3': 72, '과제4': 47, '과제5': 69, '과제6': 73, '과제7': 48, '과제8': 82, '평균': 76.43}\n",
      "{'이름': '최용원', '학번': '20319045', '소속': '국어국문학전공', '학년': '4', '과제1': 57, '과제2': 42, '과제3': 75, '과제4': 65, '과제5': 60, '과제6': 48, '과제7': 43, '과제8': 94, '평균': 63.14}\n",
      "{'이름': '유승현', '학번': '20293372', '소속': '빅데이터전공', '학년': '2', '과제1': 70, '과제2': 75, '과제3': 61, '과제4': 63, '과제5': 100, '과제6': 57, '과제7': 79, '과제8': 59, '평균': 72.43}\n",
      "{'이름': '이진우', '학번': '20317443', '소속': 'AI의료융합전공', '학년': '4', '과제1': 64, '과제2': 93, '과제3': 58, '과제4': 95, '과제5': 96, '과제6': 72, '과제7': 90, '과제8': 51, '평균': 81.14}\n",
      "{'이름': '임강규', '학번': '20287373', '소속': '빅데이터전공', '학년': '2', '과제1': 70, '과제2': 88, '과제3': 71, '과제4': 94, '과제5': 85, '과제6': 100, '과제7': 94, '과제8': 67, '평균': 86.0}\n",
      "{'이름': '정서성', '학번': '20287480', '소속': '빅데이터전공', '학년': '4', '과제1': 54, '과제2': 42, '과제3': 49, '과제4': 69, '과제5': 60, '과제6': 41, '과제7': 49, '과제8': 100, '평균': 60.43}\n",
      "{'이름': '배상윤', '학번': '20337358', '소속': '빅데이터전공', '학년': '2', '과제1': 98, '과제2': 58, '과제3': 60, '과제4': 53, '과제5': 43, '과제6': 65, '과제7': 100, '과제8': 79, '평균': 73.29}\n",
      "{'이름': '윤소산', '학번': '20257354', '소속': '경영학과', '학년': '3', '과제1': 49, '과제2': 67, '과제3': 52, '과제4': 71, '과제5': 91, '과제6': 73, '과제7': 60, '과제8': 54, '평균': 66.86}\n",
      "{'이름': '신한산', '학번': '20308787', '소속': '콘텐츠IT전공', '학년': '2', '과제1': 91, '과제2': 78, '과제3': 59, '과제4': 53, '과제5': 68, '과제6': 97, '과제7': 41, '과제8': 82, '평균': 75.43}\n",
      "{'이름': '윤주인', '학번': '20337397', '소속': '빅데이터전공', '학년': '4', '과제1': 68, '과제2': 62, '과제3': 78, '과제4': 52, '과제5': 65, '과제6': 99, '과제7': 63, '과제8': 80, '평균': 73.57}\n",
      "{'이름': '김여환', '학번': '20277462', '소속': '빅데이터전공', '학년': '2', '과제1': 64, '과제2': 65, '과제3': 87, '과제4': 66, '과제5': 92, '과제6': 76, '과제7': 78, '과제8': 97, '평균': 80.14}\n",
      "{'이름': '남용원', '학번': '20317536', '소속': '콘텐츠IT전공', '학년': '2', '과제1': 60, '과제2': 82, '과제3': 85, '과제4': 55, '과제5': 79, '과제6': 75, '과제7': 68, '과제8': 67, '평균': 73.71}\n",
      "{'이름': '이은경', '학번': '20318996', '소속': '빅데이터전공', '학년': '2', '과제1': 67, '과제2': 62, '과제3': 53, '과제4': 55, '과제5': 61, '과제6': 94, '과제7': 95, '과제8': 76, '평균': 72.86}\n"
     ]
    }
   ],
   "source": [
    "import csv\n",
    "student_records = []\n",
    "with open('fake_student_records.csv', mode='r', encoding='utf-8') as csv_file:\n",
    "    csv_reader = csv.DictReader(csv_file)\n",
    "    for row in csv_reader:\n",
    "        total = 0\n",
    "        min_score = 100\n",
    "        score_count = 0\n",
    "        for key in row.keys():\n",
    "            if '과제' in key:\n",
    "                row[key] = int(row[key])\n",
    "                total += row[key]\n",
    "                min_score = min(min_score, row[key])\n",
    "                score_count += 1\n",
    "        total = total - min_score\n",
    "        row['평균'] = round(total/(score_count-1), 2)\n",
    "        print(row)\n",
    "        student_records.append(row)\n"
   ]
  },
  {
   "cell_type": "markdown",
   "metadata": {},
   "source": [
    "## 예제 1.\n",
    "아래 셀에 적힌 프로그램에서 글로벌 변수는 무엇인가?\n",
    "\n",
    "**답**: a,b,c 이다. 여기서 a는 func1(x)에서 선언된 지역변수가 아닌 main body에서 정의된 a이다. 둘의 id를 찍어보면 다른 것을 알 수 있다.\n",
    "\n",
    "- main body에서 정의가 되었기 때문."
   ]
  },
  {
   "cell_type": "code",
   "execution_count": 7,
   "metadata": {},
   "outputs": [
    {
     "name": "stdout",
     "output_type": "stream",
     "text": [
      "global variable a :  2972511201680\n",
      "local variable a :  2972511202032\n",
      "x 6\n",
      "a 15\n",
      "b 10\n"
     ]
    }
   ],
   "source": [
    "def func1(x):\n",
    "    x = x + 1\n",
    "    a = 15\n",
    "    print(\"local variable a : \", id(a))\n",
    "    print('x', x)\n",
    "    print('a', a)\n",
    "    print('b', b)\n",
    "    \n",
    "\n",
    "a = 4\n",
    "print(\"global variable a : \", id(a))\n",
    "b = 10\n",
    "c = 5\n",
    "func1(c)\n"
   ]
  },
  {
   "cell_type": "markdown",
   "metadata": {},
   "source": [
    "## 예제 2.\n",
    "아래 셀에 적힌 프로그램에서 마지막 출력이 16 16이 아닌 4 16이 되는 이유를 설명하라.\n",
    "\n",
    "**답**: \n",
    "``` python:\n",
    "square Function 내부의 ans는 Local variable, Main body에 정의된 ans는 Global variable이다.\n",
    "square 함수의 Argument로 들어가는 ans는 gloabal variable이므로 square 함수의 parameter x는 4가 된다. \n",
    "local variable인 ans는 4*4 의 값을 가진 지역변수로 새로 만들어진다. global variable ans와는 주소값이 다르기 때문에 헷갈리면 안된다.\n",
    "square의 반환값은 16이 되며 result에 전달된다.\n",
    "마지막 출력문에서는 global variable ans를 출력하므로출력은 4와 16이 된다.\n",
    "\n",
    "```"
   ]
  },
  {
   "cell_type": "code",
   "execution_count": 9,
   "metadata": {},
   "outputs": [
    {
     "name": "stdout",
     "output_type": "stream",
     "text": [
      "In square function:\n",
      "x = 4\n",
      "y = 5\n",
      "ans = 16\n",
      "In main body:\n",
      "4 16\n"
     ]
    }
   ],
   "source": [
    "def square(x):\n",
    "    ans = x*x\n",
    "    print(\"In square function:\")\n",
    "    print('x =', x)\n",
    "    print('y =', y)\n",
    "    print('ans =', ans)\n",
    "    return ans\n",
    "\n",
    "y = 5\n",
    "ans = 4\n",
    "result = square(ans)\n",
    "print(\"In main body:\")\n",
    "print(ans, result)"
   ]
  },
  {
   "cell_type": "markdown",
   "metadata": {},
   "source": [
    "## 예제 3.\n",
    "리스트를 입력받아 리스트의 원소 중에 정수와 실수의 합을 반환하는 함수를 작성하라. 리스트의 원소로 리스트나 튜플이 있는 경우는 합을 계산할 때 제외한다.\n",
    "\n",
    "작성된 함수를 이용해서 아래 리스트에 있는 숫자들의 합을 구하라.\n",
    "\n",
    "```\n",
    "x1 = [1, 3, 5, 7, 9]                     # 25\n",
    "x2 = [\"abc\", [3, 5], 3.5, 2+3j, 4.5, 10] # 18.0\n",
    "x3 = []                                  # 0\n",
    "```"
   ]
  },
  {
   "cell_type": "code",
   "execution_count": 12,
   "metadata": {},
   "outputs": [
    {
     "name": "stdout",
     "output_type": "stream",
     "text": [
      "25\n",
      "18.0\n",
      "0\n"
     ]
    }
   ],
   "source": [
    "def number_sum(lst):\n",
    "    total = 0\n",
    "    for e in lst:\n",
    "        if type(e) == int or type(e) == float:\n",
    "            total += e\n",
    "    return total\n",
    "\n",
    "x1 = [1, 3, 5, 7, 9]                     # 25\n",
    "x2 = [\"abc\", [3, 5], 3.5, 2+3j, 4.5, 10] # 18.0\n",
    "x3 = []                                  # 0\n",
    "\n",
    "print(number_sum(x1))\n",
    "print(number_sum(x2))\n",
    "print(number_sum(x3))"
   ]
  },
  {
   "cell_type": "markdown",
   "metadata": {},
   "source": [
    "## 예제 4.\n",
    "리스트 메쏘드 중에 append는 다음과 같은 기능을 한다.\n",
    "```\n",
    "Help on method_descriptor:\n",
    "\n",
    "append(self, object, /)\n",
    "    Append object to the end of the list.\n",
    "```"
   ]
  },
  {
   "cell_type": "code",
   "execution_count": 13,
   "metadata": {},
   "outputs": [
    {
     "data": {
      "text/plain": [
       "[1, 2, 3, 's']"
      ]
     },
     "execution_count": 13,
     "metadata": {},
     "output_type": "execute_result"
    }
   ],
   "source": [
    "lst = [1, 2, 3]\n",
    "lst.append('s')\n",
    "lst"
   ]
  },
  {
   "cell_type": "markdown",
   "metadata": {},
   "source": [
    "리스트 메쏘드를 사용하지 않고 이와 같은 기능을 하는 함수를 다음과 같이 만들 수 있다."
   ]
  },
  {
   "cell_type": "code",
   "execution_count": 14,
   "metadata": {},
   "outputs": [
    {
     "name": "stdout",
     "output_type": "stream",
     "text": [
      "2972631702464\n",
      "2972631702464\n"
     ]
    },
    {
     "data": {
      "text/plain": [
       "[1, 2, 3, 's']"
      ]
     },
     "execution_count": 14,
     "metadata": {},
     "output_type": "execute_result"
    }
   ],
   "source": [
    "def list_append(lst, obj):\n",
    "    print(id(lst))\n",
    "\n",
    "    lst += [obj]\n",
    "    \n",
    "lst = [1, 2, 3]\n",
    "print(id(lst))\n",
    "\n",
    "list_append(lst, 's')\n",
    "lst"
   ]
  },
  {
   "cell_type": "code",
   "execution_count": 15,
   "metadata": {},
   "outputs": [
    {
     "name": "stdout",
     "output_type": "stream",
     "text": [
      "2972631942912\n"
     ]
    },
    {
     "data": {
      "text/plain": [
       "True"
      ]
     },
     "execution_count": 15,
     "metadata": {},
     "output_type": "execute_result"
    }
   ],
   "source": [
    "lst1 = [1, 2, 3]\n",
    "lst2 = lst1.copy()\n",
    "\n",
    "lst1.append('a') == list_append(lst2, 'a')"
   ]
  },
  {
   "cell_type": "markdown",
   "metadata": {},
   "source": [
    "여기에서 list_append 함수에서 parameter인 lst의 값을 수정했는데도 global 변수인 lst의 내용이 변경되었다. 그 이유를 설명하라.\n",
    "\n",
    "**답**: \n",
    "``` python:\n",
    "파이썬은 함수에서 값을 전달할 때 객체를 전달하는 것이 아닌 객체의 ID를 전달을 한다. \n",
    "따라서 list_append의 Argument로 lst를 전달하면 lst의 id가 전달이 된다.\n",
    "list_append(lst, obj)에서 lst의 주소와 Argument로 전달받은 lst의 주소는 동일하다.\n",
    "그 아래줄의 lst +=[obj] 이므로, 새로운 local variable을 만드는 것이 아닌 동일한 주소에 obj 값을 list로 추가해주기 때문에 \n",
    "[1, 2, 3, 's'] 가 된다.\n",
    "```"
   ]
  },
  {
   "cell_type": "markdown",
   "metadata": {},
   "source": [
    "아래 셀의 프로그램이 위의 프로그램과 결과가 다른 이유를 생각해 보라.\n",
    "\n",
    "- 파이썬에서 Argument 가 주어지면 parameter로 주소가 전달이 된다.\n",
    "- lst = .. 을 만들어 버리면 local variable에 새로운 변수가 생성이 된다.\n",
    "- `함수에 mutable 객체가 전달이 되면 수정 된 것이 유지 될 수 있게 만들어야한다.`"
   ]
  },
  {
   "cell_type": "code",
   "execution_count": 16,
   "metadata": {},
   "outputs": [
    {
     "name": "stdout",
     "output_type": "stream",
     "text": [
      "2972616238592\n",
      "2972616238592\n",
      "[1, 2, 3, 's']\n"
     ]
    },
    {
     "data": {
      "text/plain": [
       "[1, 2, 3]"
      ]
     },
     "execution_count": 16,
     "metadata": {},
     "output_type": "execute_result"
    }
   ],
   "source": [
    "def list_append_2(lst, obj):\n",
    "    print(id(lst)) # 아싸 맞았당.\n",
    "    lst = lst + [obj]\n",
    "    print(lst)\n",
    "\n",
    "lst = [1, 2, 3]\n",
    "print(id(lst))\n",
    "\n",
    "list_append_2(lst, 's')\n",
    "lst"
   ]
  },
  {
   "cell_type": "markdown",
   "metadata": {
    "tags": []
   },
   "source": [
    "## 예제 5.\n",
    "다음 lst의 항목 중에서 iterable만을 항목으로 갖는 새로운 리스트 lst_with_iterables 를 만들어라.\n",
    "\n",
    "어떤 객체가 iterable 객체인지 확인하는 방법은 collections package의 Iterable class를 이용한다."
   ]
  },
  {
   "cell_type": "code",
   "execution_count": 21,
   "metadata": {},
   "outputs": [
    {
     "data": {
      "text/plain": [
       "True"
      ]
     },
     "execution_count": 21,
     "metadata": {},
     "output_type": "execute_result"
    }
   ],
   "source": [
    "# bool type은 정수형의 sub class? sub type? 이므로 True 반환.\n",
    "isinstance(True, int)"
   ]
  },
  {
   "cell_type": "code",
   "execution_count": 22,
   "metadata": {},
   "outputs": [
    {
     "data": {
      "text/plain": [
       "True"
      ]
     },
     "execution_count": 22,
     "metadata": {},
     "output_type": "execute_result"
    }
   ],
   "source": [
    "import collections\n",
    "isinstance('abc', collections.Iterable)"
   ]
  },
  {
   "cell_type": "code",
   "execution_count": 23,
   "metadata": {},
   "outputs": [
    {
     "data": {
      "text/plain": [
       "True"
      ]
     },
     "execution_count": 23,
     "metadata": {},
     "output_type": "execute_result"
    }
   ],
   "source": [
    "import collections\n",
    "isinstance((3,4), collections.Iterable)"
   ]
  },
  {
   "cell_type": "code",
   "execution_count": 24,
   "metadata": {},
   "outputs": [
    {
     "data": {
      "text/plain": [
       "False"
      ]
     },
     "execution_count": 24,
     "metadata": {},
     "output_type": "execute_result"
    }
   ],
   "source": [
    "import collections\n",
    "isinstance(3, collections.Iterable)"
   ]
  },
  {
   "cell_type": "code",
   "execution_count": 25,
   "metadata": {},
   "outputs": [
    {
     "name": "stdout",
     "output_type": "stream",
     "text": [
      "['abc', [1, 2, 3], ('abc', 3), {3, 5}, {'a': 1, 'b': 2}]\n"
     ]
    }
   ],
   "source": [
    "lst = ['abc', [1,2,3], ('abc', 3), {3, 5}, {'a':1, 'b':2}, 35]\n",
    "lst_with_iterables = [e for e in lst if (isinstance(e, collections.Iterable))]\n",
    "print(lst_with_iterables)"
   ]
  },
  {
   "cell_type": "markdown",
   "metadata": {},
   "source": [
    "## 예제 6.\n",
    "리스트 메쏘드 중에서 extend 메쏘드와 같은 기능을 하는 list_method 함수를 만들고 몇 가지 예를 시험하여 리스트 메쏘드와 기능이 같은지 검증하라. 단, 리스트 메쏘드는 사용하면 안된다."
   ]
  },
  {
   "cell_type": "code",
   "execution_count": 26,
   "metadata": {},
   "outputs": [
    {
     "name": "stdout",
     "output_type": "stream",
     "text": [
      "[1, 2, 3, 4, 5, 6]\n",
      "[1, 2, 3, 4, 5, 6, 'a', 'b', 'c']\n",
      "[1, 2, 3, 4, 5, 6, 'a', 'b', 'c', 3, 4]\n",
      "[1, 2, 3, 4, 5, 6, 'a', 'b', 'c', 3, 4, 3, 4]\n",
      "[1, 2, 3, 4, 5, 6, 'a', 'b', 'c', 3, 4, 3, 4, 'a', 'b']\n"
     ]
    }
   ],
   "source": [
    "# 참고\n",
    "a = [1, 2, 3]\n",
    "b = [4, 5, 6]\n",
    "a.extend(b)\n",
    "print(a)\n",
    "a.extend('abc')\n",
    "print(a)\n",
    "a.extend((3,4))\n",
    "print(a)\n",
    "a.extend({3,4})\n",
    "print(a)\n",
    "a.extend({'a':1, 'b':2})\n",
    "print(a)\n"
   ]
  },
  {
   "cell_type": "code",
   "execution_count": 27,
   "metadata": {},
   "outputs": [
    {
     "name": "stdout",
     "output_type": "stream",
     "text": [
      "[1, 2, 3, 4, 5, 6]\n",
      "[1, 2, 3, 4, 5, 6, 'a', 'b', 'c']\n",
      "[1, 2, 3, 4, 5, 6, 'a', 'b', 'c', 3, 4]\n",
      "[1, 2, 3, 4, 5, 6, 'a', 'b', 'c', 3, 4, 3, 4]\n",
      "[1, 2, 3, 4, 5, 6, 'a', 'b', 'c', 3, 4, 3, 4, 'a', 'b']\n",
      "[1, 2, 3, 4, 5, 6, 'a', 'b', 'c', 3, 4, 3, 4, 'a', 'b']\n"
     ]
    }
   ],
   "source": [
    "import collections\n",
    "def list_extend(lst, x, /):\n",
    "    if isinstance(x, collections.Iterable):\n",
    "        lst+=x\n",
    "    else:\n",
    "        # raise TypeError(\"'int' object is not iterable\")\n",
    "        pass\n",
    "    \n",
    "\n",
    "\n",
    "a = [1, 2, 3]\n",
    "b = [4, 5, 6]    \n",
    "list_extend(a, b)\n",
    "print(a)\n",
    "list_extend(a, 'abc')\n",
    "print(a)\n",
    "list_extend(a, (3,4))\n",
    "print(a)\n",
    "list_extend(a, {3,4})\n",
    "print(a)\n",
    "list_extend(a, {'a':1, 'b':2})\n",
    "print(a)\n",
    "list_extend(a, 3)\n",
    "print(a)"
   ]
  },
  {
   "cell_type": "code",
   "execution_count": 28,
   "metadata": {
    "scrolled": true
   },
   "outputs": [
    {
     "name": "stdout",
     "output_type": "stream",
     "text": [
      "Help on method_descriptor:\n",
      "\n",
      "extend(self, iterable, /)\n",
      "    Extend list by appending elements from the iterable.\n",
      "\n"
     ]
    }
   ],
   "source": [
    "help(list.extend)"
   ]
  },
  {
   "cell_type": "markdown",
   "metadata": {},
   "source": [
    "## 예제 7.\n",
    "collections 모듈의 Counter 클래스는 Dict의 subclass로 hashable 객체의 개수를 세어서 반환한다.\n",
    "- immutable 객체는 hashable\n",
    "\n",
    "다음은 Counter class의 most_common 함수의 도움말이다.\n",
    "\n",
    "```\n",
    "most_common(self, n=None)\n",
    "    List the n most common elements and their counts from the most\n",
    "    common to the least.  If n is None, then list all element counts.\n",
    "    \n",
    "    >>> Counter('abracadabra').most_common(3)\n",
    "    [('a', 5), ('b', 2), ('r', 2)]\n",
    "```\n",
    "위 도움말과 아래 프로그램 예제를 참조해서 이와 같은 기능을 하는 most_common_char_count 함수를 작성하고 테스트하는 프로그램을 작성하라.\n",
    "\n",
    "단, sorted 함수는 사용해도 된다."
   ]
  },
  {
   "cell_type": "code",
   "execution_count": 30,
   "metadata": {},
   "outputs": [
    {
     "name": "stdout",
     "output_type": "stream",
     "text": [
      "Given string:  dajklvkdafjkd;ajfeqipjjfdas;fjkdsal;\n",
      "Counter({'j': 6, 'd': 5, 'a': 5, 'k': 4, 'f': 4, ';': 3, 'l': 2, 's': 2, 'v': 1, 'e': 1, 'q': 1, 'i': 1, 'p': 1})\n",
      "Most common four characters of the given string:\n",
      "[('j', 6), ('d', 5), ('a', 5), ('k', 4)]\n"
     ]
    }
   ],
   "source": [
    "from collections import Counter\n",
    "s = 'dajklvkdafjkd;ajfeqipjjfdas;fjkdsal;'\n",
    "print(\"Given string: \", s)\n",
    "print(Counter(s))\n",
    "print(\"Most common four characters of the given string:\")\n",
    "print(Counter(s).most_common(4))"
   ]
  },
  {
   "cell_type": "markdown",
   "metadata": {
    "tags": []
   },
   "source": [
    "Algorithm\n",
    "1. 입력 문자열의 각 문자의 빈도 조사 --> dictionary로 만들기\n",
    "2. dictionay의 value를 기준으로 sorting\n",
    "3. if n == None:\n",
    "       전체 dictionay를 tuple의 리스트로 반환\n",
    "   else:\n",
    "       빈도가 가장 큰 n 개를 tuple의 리스트로 반환"
   ]
  },
  {
   "cell_type": "markdown",
   "metadata": {},
   "source": [
    "`sorted(d)` : 키 중심으로 Sortring\n",
    "`sorted(d, key=d.get, reverse = True)` : Value 중심으로 sorting, reverse는 True하면 반대로"
   ]
  },
  {
   "cell_type": "code",
   "execution_count": 31,
   "metadata": {
    "tags": []
   },
   "outputs": [
    {
     "name": "stdout",
     "output_type": "stream",
     "text": [
      "[('j', 6), ('d', 5), ('a', 5), ('k', 4)]\n",
      "[('j', 6), ('d', 5), ('a', 5), ('k', 4), ('f', 4), (';', 3), ('l', 2), ('s', 2), ('v', 1), ('e', 1), ('q', 1), ('i', 1), ('p', 1)]\n"
     ]
    }
   ],
   "source": [
    "def most_common_char_count(s, n=None):\n",
    "    counter = dict()\n",
    "    \n",
    "    for c in s:\n",
    "        if c in counter:\n",
    "            counter[c]+=1\n",
    "        else:\n",
    "            counter[c] = 1\n",
    "\n",
    "\n",
    "    counter_tmp = sorted(counter, key = counter.get, reverse = True)\n",
    "    result = [(k, counter[k]) for k in counter_tmp]\n",
    "    return result[:n]\n",
    "    \n",
    "s = 'dajklvkdafjkd;ajfeqipjjfdas;fjkdsal;'\n",
    "most_commons = most_common_char_count(s, 4)\n",
    "print(most_commons)\n",
    "print(most_common_char_count(s))"
   ]
  },
  {
   "cell_type": "markdown",
   "metadata": {},
   "source": [
    "## 예제 8.\n",
    "\n",
    "아래 함수는 password가 다음 조건을 만족하면  True를 그렇지 않으면 False를 반환한다.\n",
    "아래 함수를 완성하라.\n",
    "- 문자 수는 10 이상 15 이하여야 한다.\n",
    "- 특수 문자는 \"!\", \"@\", \"#\", \"^\", \"&\", \"\\*\" 중의 하나만 사용할 수 있다.\n",
    "- 영어 소문자 알파벳, 대문자, 알파벳, 숫자가 사용될 수 있으면, 이 세 종류의 최소한 한 글자가 포함되어야 한다."
   ]
  },
  {
   "cell_type": "code",
   "execution_count": 56,
   "metadata": {},
   "outputs": [
    {
     "name": "stdout",
     "output_type": "stream",
     "text": [
      "Password! is False\n",
      "Password10 is False\n",
      "password!11 is False\n",
      "PASSWORD!!12 is False\n",
      "PAssWORD!#@13 is False\n",
      "password1234 is False\n",
      "longlongPassword is False\n",
      "TruePassword1! is True\n"
     ]
    }
   ],
   "source": [
    "special_character = ['!', \"@\", \"#\", \"^\", \"&\", \"\\*\"]\n",
    "\n",
    "def is_passwd_valid(password):\n",
    "    special_character_count = 0\n",
    "    \n",
    "    if not(len(password) >= 10 and len(password) <= 15):\n",
    "        return False\n",
    "    \n",
    "    lower = False\n",
    "    upper = False\n",
    "    integer = False\n",
    "    sp_character = False\n",
    "    for i in range(len(password)):\n",
    "        if password[i] in special_character:\n",
    "            special_character_count+=1\n",
    "            sp_character = True\n",
    "            \n",
    "            if special_character_count >= 2:\n",
    "                return False\n",
    "        \n",
    "        elif password[i] >= 'a' and password[i] <= 'z': lower = True # 소문자가 하나 이상 들어오면 True로 바꿈\n",
    "        elif password[i] >= 'A' and password[i] <= 'Z': upper = True # 대문자가 하나 이상  들어오면 True로 바꿈\n",
    "        elif password[i] >= '1' and password[i] <= '9': integer = True # 숫자가 하나 이상 들어오면 True로 바꿈.\n",
    "\n",
    "    if sp_character and lower and upper and integer: return True\n",
    "    else: return False\n",
    "\n",
    "\n",
    "password_list = [\"Password!\", \"Password10\", \"password!11\", \"PASSWORD!!12\", \"PAssWORD!#@13\", \"password1234\",\n",
    "                \"longlongPassword\", \"TruePassword1!\"]\n",
    "                 \n",
    "for lst in password_list:\n",
    "    print(lst, \"is\", is_passwd_valid(lst))"
   ]
  },
  {
   "cell_type": "markdown",
   "metadata": {},
   "source": [
    "## 예제 9. \n",
    "List와 Set의 데이터구조 차이 때문에 각 객체 내의 원소를 검색하는데 소요되는 시간에 차이가 있다.\n",
    "\n",
    "아래의 세 셀을 실행하면 두 구조를 이용해서 데이터를 처리하는 속도 차이를 비교할 수 있다."
   ]
  },
  {
   "cell_type": "code",
   "execution_count": 57,
   "metadata": {},
   "outputs": [],
   "source": [
    "import random\n",
    "random.seed(0)\n",
    "N = 200\n",
    "lst = list(range(N+1))\n",
    "s = set(lst)"
   ]
  },
  {
   "cell_type": "code",
   "execution_count": 58,
   "metadata": {},
   "outputs": [
    {
     "name": "stdout",
     "output_type": "stream",
     "text": [
      "74.1 µs ± 174 ns per loop (mean ± std. dev. of 7 runs, 10000 loops each)\n"
     ]
    }
   ],
   "source": [
    "%%timeit\n",
    "\n",
    "for i_ in range(50):\n",
    "    n = random.randint(0, 2*N)\n",
    "    n in lst"
   ]
  },
  {
   "cell_type": "code",
   "execution_count": 62,
   "metadata": {
    "tags": []
   },
   "outputs": [
    {
     "name": "stdout",
     "output_type": "stream",
     "text": [
      "1\n",
      "3.070000093430281e-05\n",
      "2\n",
      "1.2099997547920793e-05\n",
      "3\n",
      "9.800001862458885e-06\n"
     ]
    }
   ],
   "source": [
    "from timeit import timeit\n",
    "for k in range(3):\n",
    "    a = \"\"\"\n",
    "print(k+1)\n",
    "    \"\"\"\n",
    "    avg_time = timeit(a,  globals=globals(), number=1)\n",
    "    print(avg_time)"
   ]
  },
  {
   "cell_type": "markdown",
   "metadata": {},
   "source": [
    "그러나 timeit 모듈을 사용해도 평균 사용시간을 구할 수 있다.\n",
    "\n",
    "timeit 모듈의 사용법은 [한글설명](https://docs.python.org/ko/3.9/library/timeit.html) 또는 [영문설명](https://docs.python.org/3.9/library/timeit.html)을 참조하라"
   ]
  },
  {
   "cell_type": "code",
   "execution_count": 137,
   "metadata": {},
   "outputs": [
    {
     "data": {
      "text/plain": [
       "({100: 0.0004603800000040792,\n",
       "  200: 0.0008957989999908022,\n",
       "  300: 0.001374606000026688,\n",
       "  400: 0.0017984629999409662,\n",
       "  500: 0.002219563000035123,\n",
       "  600: 0.0025997020000068007,\n",
       "  700: 0.0031385579999914626,\n",
       "  800: 0.0034168119999958436,\n",
       "  900: 0.004148100000020349,\n",
       "  1000: 0.004440270999984932},\n",
       " {100: 2.2800000006100164e-05,\n",
       "  200: 2.1983999977237546e-05,\n",
       "  300: 2.2395999985747038e-05,\n",
       "  400: 2.3025999980745836e-05,\n",
       "  500: 2.2108999983174725e-05,\n",
       "  600: 2.319100000022445e-05,\n",
       "  700: 2.1838000029674732e-05,\n",
       "  800: 2.2536999967996962e-05,\n",
       "  900: 2.2090999991632997e-05,\n",
       "  1000: 2.275899998494424e-05})"
      ]
     },
     "execution_count": 137,
     "metadata": {},
     "output_type": "execute_result"
    }
   ],
   "source": [
    "from timeit import timeit\n",
    "import matplotlib.pyplot as plt\n",
    "import random\n",
    "\n",
    "def search_in_an_iterable(lst, randoms, n):\n",
    "    for _ in range(n):\n",
    "        for e in randoms:\n",
    "            e in lst\n",
    "\n",
    "            \n",
    "reps = 100\n",
    "avg_time_list = {k:0 for k in range(100, 1001, 100)}\n",
    "avg_time_set = {k:0 for k in range(100, 1001, 100)}\n",
    "for N in range(100, 1001, 100):\n",
    "    # print(N)\n",
    "\n",
    "    lst = list(range(N+1))\n",
    "    s = set(lst)\n",
    "    randoms = [random.randint(0, 2*N) for _ in range(100)]\n",
    "    # print(randoms)\n",
    "\n",
    "\n",
    "    my_code_list = \"\"\"\n",
    "search_in_an_iterable(lst, randoms, 10)\n",
    "    \"\"\"\n",
    "    my_code_set = \"\"\"\n",
    "search_in_an_iterable(s, randoms, 10)\n",
    "    \"\"\"\n",
    "\n",
    "    \n",
    "    avg_time_list[N] = timeit(my_code_list,  globals=globals(), number=reps) / reps\n",
    "    avg_time_set[N]  = timeit(my_code_set,  globals=globals(), number=reps) / reps\n",
    "avg_time_list, avg_time_set"
   ]
  },
  {
   "cell_type": "markdown",
   "metadata": {},
   "source": [
    "### 같이 그렸을 때의 차이가 너무 심해 같이 그린 plt.plot 하나 , 따로 그린 plot 2개로 그려보았습니다."
   ]
  },
  {
   "cell_type": "code",
   "execution_count": 141,
   "metadata": {},
   "outputs": [
    {
     "data": {
      "image/png": "[encoded data removed]",
      "text/plain": [
       "<Figure size 1152x576 with 1 Axes>"
      ]
     },
     "metadata": {
      "needs_background": "light"
     },
     "output_type": "display_data"
    }
   ],
   "source": [
    "plt.figure(figsize=(16, 8))\n",
    "plt.rcParams[\"font.family\"] = \"gulim\"\n",
    "\n",
    "plt.plot(avg_time_set.keys(), avg_time_set.values(), color = \"blue\") \n",
    "plt.plot(avg_time_list.keys(), avg_time_list.values(), color = \"red\") \n",
    "# 같이 그리기엔 차이가 너무 심함\n",
    "\n",
    "plt.xticks(range(100, 1001, 100), fontsize = 12)\n",
    "plt.xlabel(\"100부터 1000까지 100 단위로 출력\", rotation=\"0\", fontsize=15)\n",
    "plt.ylabel(\"평균시간\", rotation=\"0\", fontsize=10)\n",
    "plt.show()"
   ]
  },
  {
   "cell_type": "markdown",
   "metadata": {},
   "source": [
    "#### 따로 그린 plt.plot"
   ]
  },
  {
   "cell_type": "code",
   "execution_count": 144,
   "metadata": {},
   "outputs": [
    {
     "data": {
      "image/png": "[encoded data removed]",
      "text/plain": [
       "<Figure size 1152x576 with 1 Axes>"
      ]
     },
     "metadata": {
      "needs_background": "light"
     },
     "output_type": "display_data"
    }
   ],
   "source": [
    "plt.figure(figsize=(16, 8))\n",
    "plt.rcParams[\"font.family\"] = \"gulim\"\n",
    "\n",
    "# plt.plot(avg_time_set.keys(), avg_time_set.values(), color = \"blue\") \n",
    "plt.plot(avg_time_list.keys(), avg_time_list.values(), color = \"red\") \n",
    "# 같이 그리기엔 차이가 너무 심함\n",
    "\n",
    "plt.xticks(range(100, 1001, 100), fontsize = 12)\n",
    "plt.title(\"100부터 1000까지 100단위로 출력, 자료형 : 리스트\")\n",
    "plt.xlabel(\"100부터 1000까지 100 단위로 출력\", rotation=\"0\", fontsize=15)\n",
    "plt.ylabel(\"평균시간\", rotation=\"0\", fontsize=10)\n",
    "plt.show()"
   ]
  },
  {
   "cell_type": "code",
   "execution_count": 145,
   "metadata": {},
   "outputs": [
    {
     "data": {
      "image/png": "[encoded data removed]",
      "text/plain": [
       "<Figure size 1152x576 with 1 Axes>"
      ]
     },
     "metadata": {
      "needs_background": "light"
     },
     "output_type": "display_data"
    }
   ],
   "source": [
    "plt.figure(figsize=(16, 8))\n",
    "plt.rcParams[\"font.family\"] = \"gulim\"\n",
    "\n",
    "plt.plot(avg_time_set.keys(), avg_time_set.values(), color = \"blue\") \n",
    "# plt.plot(avg_time_list.keys(), avg_time_list.values(), color = \"red\") \n",
    "# 같이 그리기엔 차이가 너무 심함\n",
    "\n",
    "plt.title(\"100부터 1000까지 100단위로 출력, 자료형 : set\")\n",
    "plt.xticks(range(100, 1001, 100), fontsize = 12)\n",
    "plt.xlabel(\"100부터 1000까지 100 단위로 출력\", rotation=\"0\", fontsize=15)\n",
    "plt.ylabel(\"평균시간\", rotation=\"0\", fontsize=10)\n",
    "plt.show()"
   ]
  },
  {
   "cell_type": "markdown",
   "metadata": {},
   "source": [
    "N이 100, 200, 300, ..., 1000 일 때 리스트와 세트 객체에서 원소를 검색하는데 소요되는 평균 시간을 비교하여 막대 그래프로 표시하라."
   ]
  },
  {
   "cell_type": "markdown",
   "metadata": {
    "tags": []
   },
   "source": [
    "## 문제 1.\n",
    "\n",
    "\n",
    "<ol>\n",
    "<li> 양의 정수를 parameter로 받아들여서 완전수이면 True를, 아니면 False를 반환하는 함수 is\\_a\\_perfect\\_number(n)을 작성하라. \n",
    "   parameter가 정수가 아니거나 0 또는 음의 정수이면 False를 반환해야 한다.\n",
    "\n",
    "    \n",
    "\n",
    "<li> 문제 1에서 작성한 함수를 이용해서 1과 10000 사이의 모든 완전수를 콘솔에 출력하는 프로그램을 작성하라.\n",
    "\n",
    "    답은 6, 28, 496, 8128\n",
    "\n",
    "<li> 문제 2에서 완전수를 찾으려고 하는 정수 (b번 문제에서는 10000)가 다음과 같을 때 각 정수에 대해서 문제 b)에서 작성한 프로그램이 실행되는 평균 시간을 측정해서 비교하는 막대 그래프를 그리는 프로그램을 작성하라.\n",
    "    \n",
    "  -  N = range(500, 10001, 500)\n",
    "</ol>\n",
    "\n",
    "참고: [위키피디아의 완전수 설명](https://ko.wikipedia.org/wiki/%EC%99%84%EC%A0%84%EC%88%98)을 참조하라."
   ]
  },
  {
   "cell_type": "code",
   "execution_count": 107,
   "metadata": {},
   "outputs": [
    {
     "name": "stdout",
     "output_type": "stream",
     "text": [
      "1.84 s ± 11.5 ms per loop (mean ± std. dev. of 7 runs, 1 loop each)\n"
     ]
    }
   ],
   "source": [
    "%%timeit\n",
    "import matplotlib.pyplot as plt\n",
    "\n",
    "\n",
    "def is_a_perfect_number(n):\n",
    "    \n",
    "    if type(n) != int or n<0:\n",
    "        return False\n",
    "    \n",
    "    \n",
    "    li = []\n",
    "    for i in range(1,n):\n",
    "        if (n%i == 0):\n",
    "            li.append(i)\n",
    "\n",
    "    if sum(li) == n:\n",
    "        return True\n",
    "    else:\n",
    "        return False\n",
    "    \n",
    "for n in range(1, 10001):\n",
    "    if is_a_perfect_number(n):\n",
    "        # print(n)\n",
    "        pass"
   ]
  },
  {
   "cell_type": "code",
   "execution_count": 60,
   "metadata": {},
   "outputs": [
    {
     "name": "stdout",
     "output_type": "stream",
     "text": [
      "6 28 496 8128 \n",
      "Problem2 END\n",
      "6 28 496 n =  500 time =  0.0038291999999273685\n",
      "6 28 496 n =  1000 time =  0.015622500000063155\n",
      "6 28 496 n =  1500 time =  0.037232399999993504\n",
      "6 28 496 n =  2000 time =  0.06677489999992758\n",
      "6 28 496 n =  2500 time =  0.10797370000000228\n",
      "6 28 496 n =  3000 time =  0.16686909999998534\n",
      "6 28 496 n =  3500 time =  0.2177438000003349\n",
      "6 28 496 n =  4000 time =  0.28615669999999227\n",
      "6 28 496 n =  4500 time =  0.36709520000022167\n",
      "6 28 496 n =  5000 time =  0.4527122999998028\n",
      "6 28 496 n =  5500 time =  0.5467375999996875\n",
      "6 28 496 n =  6000 time =  0.6474901999999929\n",
      "6 28 496 n =  6500 time =  0.761848099999952\n",
      "6 28 496 n =  7000 time =  0.8834160000001248\n",
      "6 28 496 n =  7500 time =  1.0196928000000298\n",
      "6 28 496 n =  8000 time =  1.170927600000141\n",
      "6 28 496 8128 n =  8500 time =  1.3134086000000025\n",
      "6 28 496 8128 n =  9000 time =  1.4854291999999987\n",
      "6 28 496 8128 n =  9500 time =  1.6522180000001754\n",
      "6 28 496 8128 n =  10000 time =  1.830247099999724\n",
      "{500: 0.0038291999999273685, 1000: 0.015622500000063155, 1500: 0.037232399999993504, 2000: 0.06677489999992758, 2500: 0.10797370000000228, 3000: 0.16686909999998534, 3500: 0.2177438000003349, 4000: 0.28615669999999227, 4500: 0.36709520000022167, 5000: 0.4527122999998028, 5500: 0.5467375999996875, 6000: 0.6474901999999929, 6500: 0.761848099999952, 7000: 0.8834160000001248, 7500: 1.0196928000000298, 8000: 1.170927600000141, 8500: 1.3134086000000025, 9000: 1.4854291999999987, 9500: 1.6522180000001754, 10000: 1.830247099999724}\n"
     ]
    },
    {
     "data": {
      "image/png": "[encoded data removed]",
      "text/plain": [
       "<Figure size 1152x576 with 1 Axes>"
      ]
     },
     "metadata": {
      "needs_background": "light"
     },
     "output_type": "display_data"
    }
   ],
   "source": [
    "# %%timeit\n",
    "\n",
    "from timeit import timeit\n",
    "import matplotlib.pyplot as plt\n",
    "\n",
    "\n",
    "def is_a_perfect_number(n):\n",
    "    \n",
    "    if type(n) != int or n<0:\n",
    "        return False\n",
    "    \n",
    "    \n",
    "    li = []\n",
    "    for i in range(1,n):\n",
    "        if (n%i == 0):\n",
    "            li.append(i)\n",
    "\n",
    "    if sum(li) == n: return True\n",
    "    else: return False\n",
    "    \n",
    "\n",
    "# print(\"Problem1\")\n",
    "# 문제 1 \n",
    "# print(is_a_perfect_number(28))\n",
    "# print(is_a_perfect_number(28.0))\n",
    "    \n",
    "for n in range(1, 10000):\n",
    "    if is_a_perfect_number(n):\n",
    "        print(n, end = \" \")\n",
    "\n",
    "        \n",
    "print(\"\\nProblem2 END\")\n",
    "\n",
    "limit = 10001\n",
    "time_dit = {n:0 for n in range(500, limit, 500)}\n",
    "for n in range(500, limit, 500):\n",
    "    time_check_list = \"\"\"\n",
    "for cnt in range(1 , n+1):\n",
    "    if is_a_perfect_number(cnt):\n",
    "        print(cnt, end = \" \")\n",
    "        \"\"\"\n",
    "    \n",
    "    time_check = timeit(time_check_list, globals=globals(), number=1)\n",
    "    print(\"n = \", n, \"time = \", time_check)\n",
    "    time_dit[n] = time_check\n",
    "    \n",
    "print(time_dit)\n",
    "    \n",
    "ㅍ"
   ]
  },
  {
   "cell_type": "markdown",
   "metadata": {},
   "source": [
    "#### 박주영 학생이 이 완전수 구하는 문제를 더 빠르게 실행하는 법을 물어봐서 같이 개선하였습니다.\n",
    "\n",
    "`[N = 10000][avg_time = 0.026966599994921125]` N이 10000 일 때. 평균 시간은 0.027초 정도가 나왔습니다.\n",
    "- 제가 시도한 가장 기본적인 방법은 N=10000 일 때 평균 시간은 1.82초 정도 소요되었습니다. \n",
    "- N이 10000일 때를 기준으로 대략 68배, 70배 정도 빠른 성능을 낼 수 있다는 것을 알았습니다."
   ]
  },
  {
   "cell_type": "code",
   "execution_count": 148,
   "metadata": {},
   "outputs": [
    {
     "name": "stdout",
     "output_type": "stream",
     "text": [
      "================================= 2번 =================================\n",
      "6\n",
      "28\n",
      "496\n",
      "8128\n",
      "[N = 500]\n",
      "[avg_time = 0.000538609999784967]\n",
      "\n",
      "[N = 1000]\n",
      "[avg_time = 0.0013283799999044277]\n",
      "\n",
      "[N = 1500]\n",
      "[avg_time = 0.0021692299997084774]\n",
      "\n",
      "[N = 2000]\n",
      "[avg_time = 0.003124210000532912]\n",
      "\n",
      "[N = 2500]\n",
      "[avg_time = 0.0041162500005157195]\n",
      "\n",
      "[N = 3000]\n",
      "[avg_time = 0.0052961400004278405]\n",
      "\n",
      "[N = 3500]\n",
      "[avg_time = 0.006635599999572151]\n",
      "\n",
      "[N = 4000]\n",
      "[avg_time = 0.007854480000241892]\n",
      "\n",
      "[N = 4500]\n",
      "[avg_time = 0.00912854000052903]\n",
      "\n",
      "[N = 5000]\n",
      "[avg_time = 0.01059536000029766]\n",
      "\n",
      "[N = 5500]\n",
      "[avg_time = 0.011985049999930197]\n",
      "\n",
      "[N = 6000]\n",
      "[avg_time = 0.013377790000231472]\n",
      "\n",
      "[N = 6500]\n",
      "[avg_time = 0.014988820000144187]\n",
      "\n",
      "[N = 7000]\n",
      "[avg_time = 0.016372730000148293]\n",
      "\n",
      "[N = 7500]\n",
      "[avg_time = 0.018137150000256952]\n",
      "\n",
      "[N = 8000]\n",
      "[avg_time = 0.01990561999991769]\n",
      "\n",
      "[N = 8500]\n",
      "[avg_time = 0.02154436999990139]\n",
      "\n",
      "[N = 9000]\n",
      "[avg_time = 0.023036180000053717]\n",
      "\n",
      "[N = 9500]\n",
      "[avg_time = 0.024819679999927756]\n",
      "\n",
      "[N = 10000]\n",
      "[avg_time = 0.02663213999985601]\n",
      "\n",
      "[N = 10500]\n",
      "[avg_time = 0.028399679999711224]\n",
      "\n",
      "[N = 11000]\n",
      "[avg_time = 0.0302555599999323]\n",
      "\n",
      "[N = 11500]\n",
      "[avg_time = 0.031768059999740215]\n",
      "\n",
      "[N = 12000]\n",
      "[avg_time = 0.03409353000024566]\n",
      "\n",
      "[N = 12500]\n",
      "[avg_time = 0.035992139999871144]\n",
      "\n",
      "[N = 13000]\n",
      "[avg_time = 0.0381298299995251]\n",
      "\n",
      "[N = 13500]\n",
      "[avg_time = 0.03997219999946537]\n",
      "\n",
      "[N = 14000]\n",
      "[avg_time = 0.04214771000042674]\n",
      "\n",
      "[N = 14500]\n",
      "[avg_time = 0.04441347000029054]\n",
      "\n",
      "[N = 15000]\n",
      "[avg_time = 0.04653496999962954]\n",
      "\n",
      "[N = 15500]\n",
      "[avg_time = 0.04875532999940333]\n",
      "\n",
      "[N = 16000]\n",
      "[avg_time = 0.050511009999900124]\n",
      "\n",
      "[N = 16500]\n",
      "[avg_time = 0.05270822000020416]\n",
      "\n",
      "[N = 17000]\n",
      "[avg_time = 0.055174889999761945]\n",
      "\n",
      "[N = 17500]\n",
      "[avg_time = 0.05673571000006632]\n",
      "\n",
      "[N = 18000]\n",
      "[avg_time = 0.059013459999550835]\n",
      "\n",
      "[N = 18500]\n",
      "[avg_time = 0.06164325999998255]\n",
      "\n",
      "[N = 19000]\n",
      "[avg_time = 0.06370728999972926]\n",
      "\n",
      "[N = 19500]\n",
      "[avg_time = 0.06584465999985696]\n",
      "\n",
      "[N = 20000]\n",
      "[avg_time = 0.06819083999944268]\n",
      "\n"
     ]
    },
    {
     "data": {
      "image/png": "[encoded data removed]",
      "text/plain": [
       "<Figure size 1008x432 with 1 Axes>"
      ]
     },
     "metadata": {
      "needs_background": "light"
     },
     "output_type": "display_data"
    }
   ],
   "source": [
    "from timeit import timeit\n",
    "import matplotlib.pyplot as plt, math\n",
    "\n",
    "# 1번\n",
    "def is_a_perfect_number(n):\n",
    "    \n",
    "    li = [1,] # 2부터 시작하기 때문에 리스트 초기화를 1로 해둠.\n",
    "    \n",
    "    # 약수를 구할 때 시간복잡도를 줄이기 위해서는 제곱근까지만 구하면 됨.\n",
    "    # 근데 파이썬은 반복문 안에 float형이 들어가면 안됨.\n",
    "    # -> round 후 + 1을 통해 \n",
    "    for i in range(2, round(math.sqrt(n))+1):\n",
    "        if n % i == 0:\n",
    "            li.append(i)\n",
    "            \n",
    "            if (n//i != i):\n",
    "                li.append(n//i)\n",
    "                \n",
    "    if sum(li) == n:\n",
    "        return True\n",
    "    else:\n",
    "        return False\n",
    "\n",
    "\n",
    "\n",
    "print(\"================================= 2번 =================================\")\n",
    "for n in range(2, 10000): # 1은 어짜피 완전수가 아니니까 1 제외하고 하기.\n",
    "    if is_a_perfect_number(n):\n",
    "        print(n)\n",
    "    \n",
    "\n",
    "# 3번\n",
    "times = []\n",
    "N = range(500, 20001, 500)\n",
    "for k in N:\n",
    "    print(f\"[N = {k}]\")\n",
    "    my_code_perfect_number = \"\"\"\n",
    "for n in range(2, k+1):\n",
    "    if is_a_perfect_number(n):\n",
    "        pass\n",
    "    \"\"\"\n",
    "    rep = 10\n",
    "    avg_time = timeit(my_code_perfect_number,  globals=globals(), number=rep) / rep\n",
    "    times.append(avg_time)\n",
    "    print(f'[avg_time = {avg_time}]', end= '\\n\\n')\n",
    "    \n",
    "plt.figure(figsize=(14, 6)) #도표의 사이즈를 조정하는 함수\n",
    "plt.rcParams[\"font.family\"] = \"gulim\"\n",
    "\n",
    "plt.bar(N, times ,100)\n",
    "\n",
    "plt.xticks(N, fontsize = 12, rotation = \"90\")\n",
    "\n",
    "plt.xlabel(\"N\", rotation=\"0\", fontsize=15)\n",
    "plt.ylabel(\"평균시간\", rotation=\"0\", fontsize=10)\n",
    "plt.show()"
   ]
  },
  {
   "cell_type": "code",
   "execution_count": null,
   "metadata": {},
   "outputs": [],
   "source": []
  }
 ],
 "metadata": {
  "kernelspec": {
   "display_name": "Python 3 (ipykernel)",
   "language": "python",
   "name": "python3"
  },
  "language_info": {
   "codemirror_mode": {
    "name": "ipython",
    "version": 3
   },
   "file_extension": ".py",
   "mimetype": "text/x-python",
   "name": "python",
   "nbconvert_exporter": "python",
   "pygments_lexer": "ipython3",
   "version": "3.9.7"
  },
  "latex_envs": {
   "LaTeX_envs_menu_present": true,
   "autoclose": false,
   "autocomplete": true,
   "bibliofile": "biblio.bib",
   "cite_by": "apalike",
   "current_citInitial": 1,
   "eqLabelWithNumbers": true,
   "eqNumInitial": 1,
   "hotkeys": {
    "equation": "Ctrl-E",
    "itemize": "Ctrl-I"
   },
   "labels_anchors": false,
   "latex_user_defs": false,
   "report_style_numbering": false,
   "user_envs_cfg": false
  },
  "toc": {
   "base_numbering": 1,
   "nav_menu": {},
   "number_sections": false,
   "sideBar": true,
   "skip_h1_title": false,
   "title_cell": "Table of Contents",
   "title_sidebar": "Contents",
   "toc_cell": false,
   "toc_position": {
    "height": "calc(100% - 180px)",
    "left": "10px",
    "top": "150px",
    "width": "270.5px"
   },
   "toc_section_display": true,
   "toc_window_display": false
  }
 },
 "nbformat": 4,
 "nbformat_minor": 4
}
