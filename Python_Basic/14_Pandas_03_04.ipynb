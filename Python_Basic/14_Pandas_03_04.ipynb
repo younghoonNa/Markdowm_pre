{
 "cells": [
  {
   "cell_type": "code",
   "execution_count": 1,
   "id": "b5e611c0-7ada-4b78-9101-14e7111e05ae",
   "metadata": {},
   "outputs": [
    {
     "data": {
      "text/plain": [
       "'1.3.4'"
      ]
     },
     "execution_count": 1,
     "metadata": {},
     "output_type": "execute_result"
    }
   ],
   "source": [
    "import numpy as np\n",
    "import pandas as pd\n",
    "pd.__version__"
   ]
  },
  {
   "cell_type": "code",
   "execution_count": 3,
   "id": "08f41f67-36e7-49e0-8068-4a0c6745aa2f",
   "metadata": {},
   "outputs": [
    {
     "data": {
      "text/html": [
       "<div>\n",
       "<style scoped>\n",
       "    .dataframe tbody tr th:only-of-type {\n",
       "        vertical-align: middle;\n",
       "    }\n",
       "\n",
       "    .dataframe tbody tr th {\n",
       "        vertical-align: top;\n",
       "    }\n",
       "\n",
       "    .dataframe thead th {\n",
       "        text-align: right;\n",
       "    }\n",
       "</style>\n",
       "<table border=\"1\" class=\"dataframe\">\n",
       "  <thead>\n",
       "    <tr style=\"text-align: right;\">\n",
       "      <th></th>\n",
       "      <th>이름</th>\n",
       "      <th>학번</th>\n",
       "      <th>소속</th>\n",
       "      <th>학년</th>\n",
       "      <th>과제1</th>\n",
       "      <th>과제2</th>\n",
       "      <th>과제3</th>\n",
       "      <th>과제4</th>\n",
       "      <th>과제5</th>\n",
       "      <th>과제6</th>\n",
       "      <th>과제7</th>\n",
       "      <th>과제8</th>\n",
       "    </tr>\n",
       "  </thead>\n",
       "  <tbody>\n",
       "    <tr>\n",
       "      <th>0</th>\n",
       "      <td>길은영</td>\n",
       "      <td>20267377</td>\n",
       "      <td>일본학과</td>\n",
       "      <td>3</td>\n",
       "      <td>61</td>\n",
       "      <td>69</td>\n",
       "      <td>46</td>\n",
       "      <td>79</td>\n",
       "      <td>57</td>\n",
       "      <td>77</td>\n",
       "      <td>56</td>\n",
       "      <td>65</td>\n",
       "    </tr>\n",
       "    <tr>\n",
       "      <th>1</th>\n",
       "      <td>임희윤</td>\n",
       "      <td>20337377</td>\n",
       "      <td>심리학과</td>\n",
       "      <td>2</td>\n",
       "      <td>76</td>\n",
       "      <td>62</td>\n",
       "      <td>62</td>\n",
       "      <td>64</td>\n",
       "      <td>77</td>\n",
       "      <td>100</td>\n",
       "      <td>51</td>\n",
       "      <td>94</td>\n",
       "    </tr>\n",
       "    <tr>\n",
       "      <th>2</th>\n",
       "      <td>류준산</td>\n",
       "      <td>20266173</td>\n",
       "      <td>경제학과</td>\n",
       "      <td>2</td>\n",
       "      <td>98</td>\n",
       "      <td>84</td>\n",
       "      <td>79</td>\n",
       "      <td>87</td>\n",
       "      <td>70</td>\n",
       "      <td>97</td>\n",
       "      <td>89</td>\n",
       "      <td>52</td>\n",
       "    </tr>\n",
       "    <tr>\n",
       "      <th>3</th>\n",
       "      <td>한성빈</td>\n",
       "      <td>20314864</td>\n",
       "      <td>경제학과</td>\n",
       "      <td>3</td>\n",
       "      <td>75</td>\n",
       "      <td>63</td>\n",
       "      <td>59</td>\n",
       "      <td>81</td>\n",
       "      <td>83</td>\n",
       "      <td>90</td>\n",
       "      <td>93</td>\n",
       "      <td>71</td>\n",
       "    </tr>\n",
       "    <tr>\n",
       "      <th>4</th>\n",
       "      <td>김화원</td>\n",
       "      <td>20277416</td>\n",
       "      <td>경영학과</td>\n",
       "      <td>3</td>\n",
       "      <td>45</td>\n",
       "      <td>90</td>\n",
       "      <td>86</td>\n",
       "      <td>94</td>\n",
       "      <td>94</td>\n",
       "      <td>52</td>\n",
       "      <td>76</td>\n",
       "      <td>84</td>\n",
       "    </tr>\n",
       "  </tbody>\n",
       "</table>\n",
       "</div>"
      ],
      "text/plain": [
       "    이름        학번    소속  학년  과제1  과제2  과제3  과제4  과제5  과제6  과제7  과제8\n",
       "0  길은영  20267377  일본학과   3   61   69   46   79   57   77   56   65\n",
       "1  임희윤  20337377  심리학과   2   76   62   62   64   77  100   51   94\n",
       "2  류준산  20266173  경제학과   2   98   84   79   87   70   97   89   52\n",
       "3  한성빈  20314864  경제학과   3   75   63   59   81   83   90   93   71\n",
       "4  김화원  20277416  경영학과   3   45   90   86   94   94   52   76   84"
      ]
     },
     "execution_count": 3,
     "metadata": {},
     "output_type": "execute_result"
    }
   ],
   "source": [
    "student_record_file_name = \"fake_student_records.csv\"\n",
    "scores = pd.read_csv(student_record_file_name)\n",
    "scores.head()"
   ]
  },
  {
   "cell_type": "code",
   "execution_count": 5,
   "id": "d5ba7da9-4696-4e68-b433-329285fd7124",
   "metadata": {},
   "outputs": [
    {
     "data": {
      "text/plain": [
       "0     61\n",
       "1     76\n",
       "2     98\n",
       "3     75\n",
       "4     45\n",
       "      ..\n",
       "71    91\n",
       "72    68\n",
       "73    64\n",
       "74    60\n",
       "75    67\n",
       "Name: 과제1, Length: 76, dtype: int64"
      ]
     },
     "execution_count": 5,
     "metadata": {},
     "output_type": "execute_result"
    }
   ],
   "source": [
    "scores['과제1']"
   ]
  },
  {
   "cell_type": "code",
   "execution_count": 9,
   "id": "a5275e78-7fe1-452e-9dc3-9ec84e482d8b",
   "metadata": {},
   "outputs": [
    {
     "data": {
      "text/html": [
       "<div>\n",
       "<style scoped>\n",
       "    .dataframe tbody tr th:only-of-type {\n",
       "        vertical-align: middle;\n",
       "    }\n",
       "\n",
       "    .dataframe tbody tr th {\n",
       "        vertical-align: top;\n",
       "    }\n",
       "\n",
       "    .dataframe thead th {\n",
       "        text-align: right;\n",
       "    }\n",
       "</style>\n",
       "<table border=\"1\" class=\"dataframe\">\n",
       "  <thead>\n",
       "    <tr style=\"text-align: right;\">\n",
       "      <th></th>\n",
       "      <th>과제1</th>\n",
       "      <th>과제2</th>\n",
       "    </tr>\n",
       "  </thead>\n",
       "  <tbody>\n",
       "    <tr>\n",
       "      <th>0</th>\n",
       "      <td>61</td>\n",
       "      <td>69</td>\n",
       "    </tr>\n",
       "    <tr>\n",
       "      <th>1</th>\n",
       "      <td>76</td>\n",
       "      <td>62</td>\n",
       "    </tr>\n",
       "    <tr>\n",
       "      <th>2</th>\n",
       "      <td>98</td>\n",
       "      <td>84</td>\n",
       "    </tr>\n",
       "    <tr>\n",
       "      <th>3</th>\n",
       "      <td>75</td>\n",
       "      <td>63</td>\n",
       "    </tr>\n",
       "    <tr>\n",
       "      <th>4</th>\n",
       "      <td>45</td>\n",
       "      <td>90</td>\n",
       "    </tr>\n",
       "    <tr>\n",
       "      <th>...</th>\n",
       "      <td>...</td>\n",
       "      <td>...</td>\n",
       "    </tr>\n",
       "    <tr>\n",
       "      <th>71</th>\n",
       "      <td>91</td>\n",
       "      <td>78</td>\n",
       "    </tr>\n",
       "    <tr>\n",
       "      <th>72</th>\n",
       "      <td>68</td>\n",
       "      <td>62</td>\n",
       "    </tr>\n",
       "    <tr>\n",
       "      <th>73</th>\n",
       "      <td>64</td>\n",
       "      <td>65</td>\n",
       "    </tr>\n",
       "    <tr>\n",
       "      <th>74</th>\n",
       "      <td>60</td>\n",
       "      <td>82</td>\n",
       "    </tr>\n",
       "    <tr>\n",
       "      <th>75</th>\n",
       "      <td>67</td>\n",
       "      <td>62</td>\n",
       "    </tr>\n",
       "  </tbody>\n",
       "</table>\n",
       "<p>76 rows × 2 columns</p>\n",
       "</div>"
      ],
      "text/plain": [
       "    과제1  과제2\n",
       "0    61   69\n",
       "1    76   62\n",
       "2    98   84\n",
       "3    75   63\n",
       "4    45   90\n",
       "..  ...  ...\n",
       "71   91   78\n",
       "72   68   62\n",
       "73   64   65\n",
       "74   60   82\n",
       "75   67   62\n",
       "\n",
       "[76 rows x 2 columns]"
      ]
     },
     "execution_count": 9,
     "metadata": {},
     "output_type": "execute_result"
    }
   ],
   "source": [
    "scores[['과제1','과제2']]"
   ]
  },
  {
   "cell_type": "code",
   "execution_count": 10,
   "id": "4bf4722f-3de2-49a1-bb4a-b1a4c24137a5",
   "metadata": {},
   "outputs": [
    {
     "data": {
      "text/plain": [
       "이름          한성빈\n",
       "학번     20314864\n",
       "소속         경제학과\n",
       "학년            3\n",
       "과제1          75\n",
       "과제2          63\n",
       "과제3          59\n",
       "과제4          81\n",
       "과제5          83\n",
       "과제6          90\n",
       "과제7          93\n",
       "과제8          71\n",
       "Name: 3, dtype: object"
      ]
     },
     "execution_count": 10,
     "metadata": {},
     "output_type": "execute_result"
    }
   ],
   "source": [
    "# 특정 행에 접근하기 위해서는 loc 사용\n",
    "scores.loc[3]"
   ]
  },
  {
   "cell_type": "code",
   "execution_count": 11,
   "id": "2d568d11-abdb-4f9a-b5c3-2060a9fb2916",
   "metadata": {},
   "outputs": [
    {
     "data": {
      "text/html": [
       "<div>\n",
       "<style scoped>\n",
       "    .dataframe tbody tr th:only-of-type {\n",
       "        vertical-align: middle;\n",
       "    }\n",
       "\n",
       "    .dataframe tbody tr th {\n",
       "        vertical-align: top;\n",
       "    }\n",
       "\n",
       "    .dataframe thead th {\n",
       "        text-align: right;\n",
       "    }\n",
       "</style>\n",
       "<table border=\"1\" class=\"dataframe\">\n",
       "  <thead>\n",
       "    <tr style=\"text-align: right;\">\n",
       "      <th></th>\n",
       "      <th>이름</th>\n",
       "      <th>학번</th>\n",
       "      <th>소속</th>\n",
       "      <th>학년</th>\n",
       "      <th>과제1</th>\n",
       "      <th>과제2</th>\n",
       "      <th>과제3</th>\n",
       "      <th>과제4</th>\n",
       "      <th>과제5</th>\n",
       "      <th>과제6</th>\n",
       "      <th>과제7</th>\n",
       "      <th>과제8</th>\n",
       "    </tr>\n",
       "  </thead>\n",
       "  <tbody>\n",
       "    <tr>\n",
       "      <th>3</th>\n",
       "      <td>한성빈</td>\n",
       "      <td>20314864</td>\n",
       "      <td>경제학과</td>\n",
       "      <td>3</td>\n",
       "      <td>75</td>\n",
       "      <td>63</td>\n",
       "      <td>59</td>\n",
       "      <td>81</td>\n",
       "      <td>83</td>\n",
       "      <td>90</td>\n",
       "      <td>93</td>\n",
       "      <td>71</td>\n",
       "    </tr>\n",
       "    <tr>\n",
       "      <th>5</th>\n",
       "      <td>강화윤</td>\n",
       "      <td>20278703</td>\n",
       "      <td>생명과학과</td>\n",
       "      <td>3</td>\n",
       "      <td>77</td>\n",
       "      <td>60</td>\n",
       "      <td>73</td>\n",
       "      <td>87</td>\n",
       "      <td>56</td>\n",
       "      <td>88</td>\n",
       "      <td>93</td>\n",
       "      <td>75</td>\n",
       "    </tr>\n",
       "  </tbody>\n",
       "</table>\n",
       "</div>"
      ],
      "text/plain": [
       "    이름        학번     소속  학년  과제1  과제2  과제3  과제4  과제5  과제6  과제7  과제8\n",
       "3  한성빈  20314864   경제학과   3   75   63   59   81   83   90   93   71\n",
       "5  강화윤  20278703  생명과학과   3   77   60   73   87   56   88   93   75"
      ]
     },
     "execution_count": 11,
     "metadata": {},
     "output_type": "execute_result"
    }
   ],
   "source": [
    "scores.loc[[3,5]]"
   ]
  },
  {
   "cell_type": "code",
   "execution_count": 13,
   "id": "3b233d86-8742-4f6c-bee6-8c93e210b9ec",
   "metadata": {},
   "outputs": [
    {
     "data": {
      "text/plain": [
       "75"
      ]
     },
     "execution_count": 13,
     "metadata": {},
     "output_type": "execute_result"
    }
   ],
   "source": [
    "scores.loc[3, '과제1']"
   ]
  },
  {
   "cell_type": "code",
   "execution_count": 14,
   "id": "3211753e-d9b1-489d-aedf-50e2bd81c76f",
   "metadata": {},
   "outputs": [
    {
     "data": {
      "text/html": [
       "<div>\n",
       "<style scoped>\n",
       "    .dataframe tbody tr th:only-of-type {\n",
       "        vertical-align: middle;\n",
       "    }\n",
       "\n",
       "    .dataframe tbody tr th {\n",
       "        vertical-align: top;\n",
       "    }\n",
       "\n",
       "    .dataframe thead th {\n",
       "        text-align: right;\n",
       "    }\n",
       "</style>\n",
       "<table border=\"1\" class=\"dataframe\">\n",
       "  <thead>\n",
       "    <tr style=\"text-align: right;\">\n",
       "      <th></th>\n",
       "      <th>과제1</th>\n",
       "      <th>과제2</th>\n",
       "    </tr>\n",
       "  </thead>\n",
       "  <tbody>\n",
       "    <tr>\n",
       "      <th>3</th>\n",
       "      <td>75</td>\n",
       "      <td>63</td>\n",
       "    </tr>\n",
       "    <tr>\n",
       "      <th>5</th>\n",
       "      <td>77</td>\n",
       "      <td>60</td>\n",
       "    </tr>\n",
       "  </tbody>\n",
       "</table>\n",
       "</div>"
      ],
      "text/plain": [
       "   과제1  과제2\n",
       "3   75   63\n",
       "5   77   60"
      ]
     },
     "execution_count": 14,
     "metadata": {},
     "output_type": "execute_result"
    }
   ],
   "source": [
    "scores.loc[[3,5], ['과제1', '과제2']]"
   ]
  },
  {
   "cell_type": "code",
   "execution_count": 15,
   "id": "faa021ca-4642-4ac2-8482-3fd52a85e56c",
   "metadata": {},
   "outputs": [
    {
     "data": {
      "text/html": [
       "<div>\n",
       "<style scoped>\n",
       "    .dataframe tbody tr th:only-of-type {\n",
       "        vertical-align: middle;\n",
       "    }\n",
       "\n",
       "    .dataframe tbody tr th {\n",
       "        vertical-align: top;\n",
       "    }\n",
       "\n",
       "    .dataframe thead th {\n",
       "        text-align: right;\n",
       "    }\n",
       "</style>\n",
       "<table border=\"1\" class=\"dataframe\">\n",
       "  <thead>\n",
       "    <tr style=\"text-align: right;\">\n",
       "      <th></th>\n",
       "      <th>과제1</th>\n",
       "      <th>과제2</th>\n",
       "    </tr>\n",
       "  </thead>\n",
       "  <tbody>\n",
       "    <tr>\n",
       "      <th>3</th>\n",
       "      <td>75</td>\n",
       "      <td>63</td>\n",
       "    </tr>\n",
       "    <tr>\n",
       "      <th>4</th>\n",
       "      <td>45</td>\n",
       "      <td>90</td>\n",
       "    </tr>\n",
       "    <tr>\n",
       "      <th>5</th>\n",
       "      <td>77</td>\n",
       "      <td>60</td>\n",
       "    </tr>\n",
       "    <tr>\n",
       "      <th>6</th>\n",
       "      <td>71</td>\n",
       "      <td>69</td>\n",
       "    </tr>\n",
       "  </tbody>\n",
       "</table>\n",
       "</div>"
      ],
      "text/plain": [
       "   과제1  과제2\n",
       "3   75   63\n",
       "4   45   90\n",
       "5   77   60\n",
       "6   71   69"
      ]
     },
     "execution_count": 15,
     "metadata": {},
     "output_type": "execute_result"
    }
   ],
   "source": [
    "scores.loc[3:6, ['과제1', '과제2']]"
   ]
  },
  {
   "cell_type": "markdown",
   "id": "de334a5d-cc75-4dd4-9cce-35f9e3619f45",
   "metadata": {},
   "source": [
    "## Looping over Serias"
   ]
  },
  {
   "cell_type": "code",
   "execution_count": 17,
   "id": "9ae6a30e-dee9-47c6-8722-de1cf610d1b7",
   "metadata": {},
   "outputs": [
    {
     "data": {
      "text/plain": [
       "pandas.core.series.Series"
      ]
     },
     "execution_count": 17,
     "metadata": {},
     "output_type": "execute_result"
    }
   ],
   "source": [
    "s = scores.loc[3]\n",
    "type(s)"
   ]
  },
  {
   "cell_type": "code",
   "execution_count": 18,
   "id": "a224d7bb-d303-432e-8239-c5b2b2afa43f",
   "metadata": {},
   "outputs": [
    {
     "data": {
      "text/plain": [
       "pandas.core.series.Series"
      ]
     },
     "execution_count": 18,
     "metadata": {},
     "output_type": "execute_result"
    }
   ],
   "source": [
    "c = scores['과제1']\n",
    "type(c)"
   ]
  },
  {
   "cell_type": "code",
   "execution_count": 20,
   "id": "f1436da6-cf5c-4baa-86f6-8e319c3f966c",
   "metadata": {},
   "outputs": [
    {
     "name": "stdout",
     "output_type": "stream",
     "text": [
      "한성빈\n",
      "20314864\n",
      "경제학과\n",
      "3\n",
      "75\n",
      "63\n",
      "59\n",
      "81\n",
      "83\n",
      "90\n",
      "93\n",
      "71\n"
     ]
    }
   ],
   "source": [
    "for e in s: # 판다스에서 반환형은 시리즈이기 때문에 다음과 같은 for문 적용이 가능함.\n",
    "    print(e)"
   ]
  },
  {
   "cell_type": "code",
   "execution_count": 22,
   "id": "ff88e91e-9cb4-45d4-b952-d2574d3b530f",
   "metadata": {},
   "outputs": [
    {
     "name": "stdout",
     "output_type": "stream",
     "text": [
      "한성빈\n",
      "20314864\n",
      "경제학과\n",
      "3\n",
      "75\n",
      "63\n",
      "59\n",
      "81\n",
      "83\n",
      "90\n",
      "93\n",
      "71\n"
     ]
    }
   ],
   "source": [
    "for i in s.index:\n",
    "    print(s[i])"
   ]
  },
  {
   "cell_type": "markdown",
   "id": "bfac9848-fdb6-4f88-971f-f0db1d2948e9",
   "metadata": {},
   "source": [
    "## Pandas Serias 함수 "
   ]
  },
  {
   "cell_type": "code",
   "execution_count": 24,
   "id": "da8d33c3-61bd-48e5-815a-50bf758df107",
   "metadata": {},
   "outputs": [
    {
     "data": {
      "text/html": [
       "<div>\n",
       "<style scoped>\n",
       "    .dataframe tbody tr th:only-of-type {\n",
       "        vertical-align: middle;\n",
       "    }\n",
       "\n",
       "    .dataframe tbody tr th {\n",
       "        vertical-align: top;\n",
       "    }\n",
       "\n",
       "    .dataframe thead th {\n",
       "        text-align: right;\n",
       "    }\n",
       "</style>\n",
       "<table border=\"1\" class=\"dataframe\">\n",
       "  <thead>\n",
       "    <tr style=\"text-align: right;\">\n",
       "      <th></th>\n",
       "      <th>학번</th>\n",
       "      <th>소속</th>\n",
       "      <th>학년</th>\n",
       "      <th>과제1</th>\n",
       "      <th>과제2</th>\n",
       "      <th>과제3</th>\n",
       "      <th>과제4</th>\n",
       "      <th>과제5</th>\n",
       "      <th>과제6</th>\n",
       "      <th>과제7</th>\n",
       "      <th>과제8</th>\n",
       "    </tr>\n",
       "    <tr>\n",
       "      <th>이름</th>\n",
       "      <th></th>\n",
       "      <th></th>\n",
       "      <th></th>\n",
       "      <th></th>\n",
       "      <th></th>\n",
       "      <th></th>\n",
       "      <th></th>\n",
       "      <th></th>\n",
       "      <th></th>\n",
       "      <th></th>\n",
       "      <th></th>\n",
       "    </tr>\n",
       "  </thead>\n",
       "  <tbody>\n",
       "    <tr>\n",
       "      <th>길은영</th>\n",
       "      <td>20267377</td>\n",
       "      <td>일본학과</td>\n",
       "      <td>3</td>\n",
       "      <td>61</td>\n",
       "      <td>69</td>\n",
       "      <td>46</td>\n",
       "      <td>79</td>\n",
       "      <td>57</td>\n",
       "      <td>77</td>\n",
       "      <td>56</td>\n",
       "      <td>65</td>\n",
       "    </tr>\n",
       "    <tr>\n",
       "      <th>임희윤</th>\n",
       "      <td>20337377</td>\n",
       "      <td>심리학과</td>\n",
       "      <td>2</td>\n",
       "      <td>76</td>\n",
       "      <td>62</td>\n",
       "      <td>62</td>\n",
       "      <td>64</td>\n",
       "      <td>77</td>\n",
       "      <td>100</td>\n",
       "      <td>51</td>\n",
       "      <td>94</td>\n",
       "    </tr>\n",
       "    <tr>\n",
       "      <th>류준산</th>\n",
       "      <td>20266173</td>\n",
       "      <td>경제학과</td>\n",
       "      <td>2</td>\n",
       "      <td>98</td>\n",
       "      <td>84</td>\n",
       "      <td>79</td>\n",
       "      <td>87</td>\n",
       "      <td>70</td>\n",
       "      <td>97</td>\n",
       "      <td>89</td>\n",
       "      <td>52</td>\n",
       "    </tr>\n",
       "    <tr>\n",
       "      <th>한성빈</th>\n",
       "      <td>20314864</td>\n",
       "      <td>경제학과</td>\n",
       "      <td>3</td>\n",
       "      <td>75</td>\n",
       "      <td>63</td>\n",
       "      <td>59</td>\n",
       "      <td>81</td>\n",
       "      <td>83</td>\n",
       "      <td>90</td>\n",
       "      <td>93</td>\n",
       "      <td>71</td>\n",
       "    </tr>\n",
       "    <tr>\n",
       "      <th>김화원</th>\n",
       "      <td>20277416</td>\n",
       "      <td>경영학과</td>\n",
       "      <td>3</td>\n",
       "      <td>45</td>\n",
       "      <td>90</td>\n",
       "      <td>86</td>\n",
       "      <td>94</td>\n",
       "      <td>94</td>\n",
       "      <td>52</td>\n",
       "      <td>76</td>\n",
       "      <td>84</td>\n",
       "    </tr>\n",
       "  </tbody>\n",
       "</table>\n",
       "</div>"
      ],
      "text/plain": [
       "           학번    소속  학년  과제1  과제2  과제3  과제4  과제5  과제6  과제7  과제8\n",
       "이름                                                             \n",
       "길은영  20267377  일본학과   3   61   69   46   79   57   77   56   65\n",
       "임희윤  20337377  심리학과   2   76   62   62   64   77  100   51   94\n",
       "류준산  20266173  경제학과   2   98   84   79   87   70   97   89   52\n",
       "한성빈  20314864  경제학과   3   75   63   59   81   83   90   93   71\n",
       "김화원  20277416  경영학과   3   45   90   86   94   94   52   76   84"
      ]
     },
     "execution_count": 24,
     "metadata": {},
     "output_type": "execute_result"
    }
   ],
   "source": [
    "scores.set_index('이름', inplace = True)\n",
    "scores.head()"
   ]
  },
  {
   "cell_type": "code",
   "execution_count": 30,
   "id": "3d7e964d-b30d-40ff-abc6-c29797bdee44",
   "metadata": {},
   "outputs": [
    {
     "data": {
      "text/plain": [
       "학번     20267377\n",
       "소속         일본학과\n",
       "학년            3\n",
       "과제1          61\n",
       "과제2          69\n",
       "과제3          46\n",
       "과제4          79\n",
       "과제5          57\n",
       "과제6          77\n",
       "과제7          56\n",
       "과제8          65\n",
       "Name: 길은영, dtype: object"
      ]
     },
     "execution_count": 30,
     "metadata": {},
     "output_type": "execute_result"
    }
   ],
   "source": [
    "s = scores.loc['길은영']\n",
    "s\n",
    "\n",
    "# 판다스에서 하나의 행이나 열을 뽑았을 경우에 Serias 형으로 타입을 반환한다.\n",
    "# 이 때 이 시리즈의 원소들이 여러개의 복합형일 경우 dtype이 object형으로 뜨게 된다."
   ]
  },
  {
   "cell_type": "code",
   "execution_count": 31,
   "id": "2c1b5a9a-e163-48cc-b7f8-098db57573f2",
   "metadata": {},
   "outputs": [
    {
     "data": {
      "text/plain": [
       "이름\n",
       "길은영    61\n",
       "임희윤    76\n",
       "류준산    98\n",
       "한성빈    75\n",
       "김화원    45\n",
       "       ..\n",
       "신한산    91\n",
       "윤주인    68\n",
       "김여환    64\n",
       "남용원    60\n",
       "이은경    67\n",
       "Name: 과제1, Length: 76, dtype: int64"
      ]
     },
     "execution_count": 31,
     "metadata": {},
     "output_type": "execute_result"
    }
   ],
   "source": [
    "c = scores['과제1']\n",
    "c"
   ]
  },
  {
   "cell_type": "code",
   "execution_count": 32,
   "id": "2d0410b9-58ed-4741-b75f-52ec5288643d",
   "metadata": {},
   "outputs": [
    {
     "data": {
      "text/plain": [
       "numpy.int64"
      ]
     },
     "execution_count": 32,
     "metadata": {},
     "output_type": "execute_result"
    }
   ],
   "source": [
    "type(s.loc['과제1'])"
   ]
  },
  {
   "cell_type": "code",
   "execution_count": 33,
   "id": "ab610a78-30ab-427b-985b-9902bceb292b",
   "metadata": {},
   "outputs": [
    {
     "data": {
      "text/plain": [
       "str"
      ]
     },
     "execution_count": 33,
     "metadata": {},
     "output_type": "execute_result"
    }
   ],
   "source": [
    "type(s.loc['소속'])"
   ]
  },
  {
   "cell_type": "markdown",
   "id": "2acda332-73d9-4547-8f2e-ccc5173ebe6c",
   "metadata": {},
   "source": [
    "## min(), max(), mean()"
   ]
  },
  {
   "cell_type": "code",
   "execution_count": 34,
   "id": "806fe7d4-a970-4939-b9d6-3bc2d624a929",
   "metadata": {},
   "outputs": [
    {
     "data": {
      "text/plain": [
       "(45, 100, 73.71052631578948)"
      ]
     },
     "execution_count": 34,
     "metadata": {},
     "output_type": "execute_result"
    }
   ],
   "source": [
    "c.min(), c.max(), c.mean()"
   ]
  },
  {
   "cell_type": "code",
   "execution_count": 36,
   "id": "5c6de016-220a-4484-b0d5-872c880651c7",
   "metadata": {},
   "outputs": [],
   "source": [
    "# s.mean()\n",
    "# 문자형 데이터가 포함이 되어있기 때문."
   ]
  },
  {
   "cell_type": "code",
   "execution_count": 37,
   "id": "50abeedf-f0f3-4a2d-9ef0-f00290d79a6c",
   "metadata": {},
   "outputs": [
    {
     "data": {
      "text/plain": [
       "학번     20255161\n",
       "소속     AI의료융합전공\n",
       "학년            1\n",
       "과제1          45\n",
       "과제2          42\n",
       "과제3          41\n",
       "과제4          45\n",
       "과제5          43\n",
       "과제6          41\n",
       "과제7          41\n",
       "과제8          43\n",
       "dtype: object"
      ]
     },
     "execution_count": 37,
     "metadata": {},
     "output_type": "execute_result"
    }
   ],
   "source": [
    "scores.min() # 각 컬럼별 최솟값을 가지는 인덱스를 반환함."
   ]
  },
  {
   "cell_type": "code",
   "execution_count": 38,
   "id": "260da7f6-6d9f-4858-9d19-76f7576de032",
   "metadata": {},
   "outputs": [
    {
     "data": {
      "text/plain": [
       "20255161"
      ]
     },
     "execution_count": 38,
     "metadata": {},
     "output_type": "execute_result"
    }
   ],
   "source": [
    "scores['학번'].min()"
   ]
  },
  {
   "cell_type": "code",
   "execution_count": 39,
   "id": "f0d36735-d296-403a-9898-90b157588078",
   "metadata": {},
   "outputs": [
    {
     "data": {
      "text/plain": [
       "'AI의료융합전공'"
      ]
     },
     "execution_count": 39,
     "metadata": {},
     "output_type": "execute_result"
    }
   ],
   "source": [
    "scores['소속'].min()"
   ]
  },
  {
   "cell_type": "code",
   "execution_count": 40,
   "id": "57828a72-a024-4933-bb01-8b6e43145a24",
   "metadata": {},
   "outputs": [
    {
     "data": {
      "text/plain": [
       "45"
      ]
     },
     "execution_count": 40,
     "metadata": {},
     "output_type": "execute_result"
    }
   ],
   "source": [
    "scores['과제1'].min()"
   ]
  },
  {
   "cell_type": "markdown",
   "id": "7e11f59d-7512-4662-95ec-3df46c9237bb",
   "metadata": {},
   "source": [
    "## add(), sub(), substract(), mul(), multiply(), div(), divide(), mod()"
   ]
  },
  {
   "cell_type": "code",
   "execution_count": 42,
   "id": "53f7234f-c3fc-4e52-9585-02dee5b9462d",
   "metadata": {},
   "outputs": [
    {
     "data": {
      "text/html": [
       "<div>\n",
       "<style scoped>\n",
       "    .dataframe tbody tr th:only-of-type {\n",
       "        vertical-align: middle;\n",
       "    }\n",
       "\n",
       "    .dataframe tbody tr th {\n",
       "        vertical-align: top;\n",
       "    }\n",
       "\n",
       "    .dataframe thead th {\n",
       "        text-align: right;\n",
       "    }\n",
       "</style>\n",
       "<table border=\"1\" class=\"dataframe\">\n",
       "  <thead>\n",
       "    <tr style=\"text-align: right;\">\n",
       "      <th></th>\n",
       "      <th>a</th>\n",
       "      <th>b</th>\n",
       "    </tr>\n",
       "  </thead>\n",
       "  <tbody>\n",
       "    <tr>\n",
       "      <th>0</th>\n",
       "      <td>1</td>\n",
       "      <td>2.0</td>\n",
       "    </tr>\n",
       "    <tr>\n",
       "      <th>1</th>\n",
       "      <td>3</td>\n",
       "      <td>4.0</td>\n",
       "    </tr>\n",
       "    <tr>\n",
       "      <th>2</th>\n",
       "      <td>5</td>\n",
       "      <td>NaN</td>\n",
       "    </tr>\n",
       "  </tbody>\n",
       "</table>\n",
       "</div>"
      ],
      "text/plain": [
       "   a    b\n",
       "0  1  2.0\n",
       "1  3  4.0\n",
       "2  5  NaN"
      ]
     },
     "execution_count": 42,
     "metadata": {},
     "output_type": "execute_result"
    }
   ],
   "source": [
    "d = {'a':[1,3,5], 'b':[2,4,np.NaN]}\n",
    "df1 = pd.DataFrame(d)\n",
    "df1"
   ]
  },
  {
   "cell_type": "code",
   "execution_count": 44,
   "id": "6a167d1a-a51a-410b-bbd0-c7dbdd68782b",
   "metadata": {},
   "outputs": [
    {
     "data": {
      "text/plain": [
       "a      int64\n",
       "b    float64\n",
       "dtype: object"
      ]
     },
     "execution_count": 44,
     "metadata": {},
     "output_type": "execute_result"
    }
   ],
   "source": [
    "df1.dtypes"
   ]
  },
  {
   "cell_type": "code",
   "execution_count": 45,
   "id": "f541f382-f57d-4b9c-80ec-a8661083258a",
   "metadata": {},
   "outputs": [],
   "source": [
    "c1 = df1['a']\n",
    "c2 = df1['b']"
   ]
  },
  {
   "cell_type": "code",
   "execution_count": 46,
   "id": "7e4f1c6c-f5b8-4c74-a617-4f468ad6620b",
   "metadata": {},
   "outputs": [
    {
     "data": {
      "text/plain": [
       "0    4\n",
       "1    6\n",
       "2    8\n",
       "Name: a, dtype: int64"
      ]
     },
     "execution_count": 46,
     "metadata": {},
     "output_type": "execute_result"
    }
   ],
   "source": [
    "c1 + 3 "
   ]
  },
  {
   "cell_type": "code",
   "execution_count": 47,
   "id": "2e0882a5-0de7-44e6-aab3-6d458ce97689",
   "metadata": {},
   "outputs": [
    {
     "data": {
      "text/plain": [
       "0    4\n",
       "1    6\n",
       "2    8\n",
       "Name: a, dtype: int64"
      ]
     },
     "execution_count": 47,
     "metadata": {},
     "output_type": "execute_result"
    }
   ],
   "source": [
    "c1.add(3)"
   ]
  },
  {
   "cell_type": "code",
   "execution_count": 49,
   "id": "72211471-7293-4b29-9aa1-f9935b4acb75",
   "metadata": {},
   "outputs": [
    {
     "data": {
      "text/plain": [
       "0    22.0\n",
       "1    24.0\n",
       "2     NaN\n",
       "Name: b, dtype: float64"
      ]
     },
     "execution_count": 49,
     "metadata": {},
     "output_type": "execute_result"
    }
   ],
   "source": [
    "c2.add(20)"
   ]
  },
  {
   "cell_type": "code",
   "execution_count": 51,
   "id": "ceb48c49-57d1-4187-99cd-ba72bf1a0fa5",
   "metadata": {},
   "outputs": [
    {
     "data": {
      "text/plain": [
       "0    4.0\n",
       "1    6.0\n",
       "2    2.0\n",
       "Name: b, dtype: float64"
      ]
     },
     "execution_count": 51,
     "metadata": {},
     "output_type": "execute_result"
    }
   ],
   "source": [
    "c2.add(2, fill_value = 0) # fill_value 의 경우 NaN 값을 먼저 해당 값으로 바꾼 후 연산을 진행함."
   ]
  },
  {
   "cell_type": "code",
   "execution_count": 52,
   "id": "2f963382-0090-4e6e-ad27-dd6909afcb2a",
   "metadata": {},
   "outputs": [
    {
     "data": {
      "text/plain": [
       "0    3.0\n",
       "1    7.0\n",
       "2    5.0\n",
       "dtype: float64"
      ]
     },
     "execution_count": 52,
     "metadata": {},
     "output_type": "execute_result"
    }
   ],
   "source": [
    "c1.add(c2, fill_value = 0)"
   ]
  },
  {
   "cell_type": "code",
   "execution_count": 71,
   "id": "d115d482-cfdd-49d8-8fcf-757a32436bc4",
   "metadata": {},
   "outputs": [
    {
     "data": {
      "text/plain": [
       "0    4.0\n",
       "1    8.0\n",
       "2    NaN\n",
       "Name: b, dtype: float64"
      ]
     },
     "execution_count": 71,
     "metadata": {},
     "output_type": "execute_result"
    }
   ],
   "source": [
    "c3 = c2.copy()\n",
    "c3.add(c2, fill_value = 0) # 여전히 NaN이 포함되어있음. "
   ]
  },
  {
   "cell_type": "code",
   "execution_count": 72,
   "id": "745c3865-fd1a-4220-aa9d-2ba3bd7e3908",
   "metadata": {},
   "outputs": [
    {
     "data": {
      "text/plain": [
       "(0    2.0\n",
       " 1    4.0\n",
       " 2    NaN\n",
       " Name: b, dtype: float64,\n",
       " 0    2.0\n",
       " 1    4.0\n",
       " 2    NaN\n",
       " Name: b, dtype: float64)"
      ]
     },
     "execution_count": 72,
     "metadata": {},
     "output_type": "execute_result"
    }
   ],
   "source": [
    "c3, c2"
   ]
  },
  {
   "cell_type": "code",
   "execution_count": 58,
   "id": "90d35ca2-c169-4771-a060-523f6241c74e",
   "metadata": {},
   "outputs": [
    {
     "data": {
      "text/html": [
       "<div>\n",
       "<style scoped>\n",
       "    .dataframe tbody tr th:only-of-type {\n",
       "        vertical-align: middle;\n",
       "    }\n",
       "\n",
       "    .dataframe tbody tr th {\n",
       "        vertical-align: top;\n",
       "    }\n",
       "\n",
       "    .dataframe thead th {\n",
       "        text-align: right;\n",
       "    }\n",
       "</style>\n",
       "<table border=\"1\" class=\"dataframe\">\n",
       "  <thead>\n",
       "    <tr style=\"text-align: right;\">\n",
       "      <th></th>\n",
       "      <th>a</th>\n",
       "      <th>b</th>\n",
       "    </tr>\n",
       "  </thead>\n",
       "  <tbody>\n",
       "    <tr>\n",
       "      <th>0</th>\n",
       "      <td>1.0</td>\n",
       "      <td>2.0</td>\n",
       "    </tr>\n",
       "    <tr>\n",
       "      <th>1</th>\n",
       "      <td>NaN</td>\n",
       "      <td>4.0</td>\n",
       "    </tr>\n",
       "    <tr>\n",
       "      <th>2</th>\n",
       "      <td>5.0</td>\n",
       "      <td>NaN</td>\n",
       "    </tr>\n",
       "  </tbody>\n",
       "</table>\n",
       "</div>"
      ],
      "text/plain": [
       "     a    b\n",
       "0  1.0  2.0\n",
       "1  NaN  4.0\n",
       "2  5.0  NaN"
      ]
     },
     "execution_count": 58,
     "metadata": {},
     "output_type": "execute_result"
    }
   ],
   "source": [
    "d2 = {'a' : [1, np.NaN, 5], 'b':[2,4,np.NaN]}\n",
    "df2 = pd.DataFrame(d2)\n",
    "df2"
   ]
  },
  {
   "cell_type": "code",
   "execution_count": 63,
   "id": "e9bff049-f310-40b3-9bbc-674b48c02f23",
   "metadata": {},
   "outputs": [],
   "source": [
    "c3 = df2['a']\n",
    "c4 = df2['b']"
   ]
  },
  {
   "cell_type": "code",
   "execution_count": 64,
   "id": "0ba55447-0c59-425b-b153-98057d7c8b9c",
   "metadata": {},
   "outputs": [
    {
     "data": {
      "text/plain": [
       "0    3.0\n",
       "1    4.0\n",
       "2    5.0\n",
       "dtype: float64"
      ]
     },
     "execution_count": 64,
     "metadata": {},
     "output_type": "execute_result"
    }
   ],
   "source": [
    "c3.add(c4, fill_value = 0)"
   ]
  },
  {
   "cell_type": "code",
   "execution_count": 65,
   "id": "83a6ed9d-a9b0-4c17-8b87-d938057ac687",
   "metadata": {},
   "outputs": [
    {
     "data": {
      "text/plain": [
       "0    3.0\n",
       "1    4.0\n",
       "2    5.0\n",
       "dtype: float64"
      ]
     },
     "execution_count": 65,
     "metadata": {},
     "output_type": "execute_result"
    }
   ],
   "source": [
    "c4.add(c3, fill_value = 0)"
   ]
  },
  {
   "cell_type": "code",
   "execution_count": 66,
   "id": "d2f1212b-5e0d-4c1f-9f9e-f168d409d0ec",
   "metadata": {},
   "outputs": [
    {
     "data": {
      "text/plain": [
       "0   -1.0\n",
       "1    NaN\n",
       "2    NaN\n",
       "dtype: float64"
      ]
     },
     "execution_count": 66,
     "metadata": {},
     "output_type": "execute_result"
    }
   ],
   "source": [
    "c3 - c4"
   ]
  },
  {
   "cell_type": "code",
   "execution_count": 67,
   "id": "e21bbf7b-afc1-4736-a804-59f5ca9e6ccd",
   "metadata": {},
   "outputs": [
    {
     "data": {
      "text/plain": [
       "0   -1.0\n",
       "1   -4.0\n",
       "2    5.0\n",
       "dtype: float64"
      ]
     },
     "execution_count": 67,
     "metadata": {},
     "output_type": "execute_result"
    }
   ],
   "source": [
    "c3.sub(c4, fill_value= 0)"
   ]
  },
  {
   "cell_type": "code",
   "execution_count": 68,
   "id": "20eb60d5-e83a-496e-b03b-a81f41f6e423",
   "metadata": {},
   "outputs": [
    {
     "data": {
      "text/plain": [
       "0    2.0\n",
       "1    0.0\n",
       "2    0.0\n",
       "dtype: float64"
      ]
     },
     "execution_count": 68,
     "metadata": {},
     "output_type": "execute_result"
    }
   ],
   "source": [
    "c3.mul(c4, fill_value = 0)"
   ]
  },
  {
   "cell_type": "code",
   "execution_count": 69,
   "id": "aa818e91-2628-44dd-8419-0b717787f630",
   "metadata": {},
   "outputs": [
    {
     "data": {
      "text/plain": [
       "0    0.5\n",
       "1    0.0\n",
       "2    inf\n",
       "dtype: float64"
      ]
     },
     "execution_count": 69,
     "metadata": {},
     "output_type": "execute_result"
    }
   ],
   "source": [
    "c3.div(c4, fill_value = 0) # 0으로 나눴을 때 몫은 inf"
   ]
  },
  {
   "cell_type": "code",
   "execution_count": 70,
   "id": "ae634360-f0a8-45b1-b386-8f0b197cbe7a",
   "metadata": {},
   "outputs": [
    {
     "data": {
      "text/plain": [
       "0    1.0\n",
       "1    0.0\n",
       "2    NaN\n",
       "dtype: float64"
      ]
     },
     "execution_count": 70,
     "metadata": {},
     "output_type": "execute_result"
    }
   ],
   "source": [
    "c3.mod(c4, fill_value = 0)"
   ]
  },
  {
   "cell_type": "code",
   "execution_count": 73,
   "id": "45bc2cb9-295e-486b-940f-6b714ca0e866",
   "metadata": {},
   "outputs": [],
   "source": [
    "tdf1 = pd.DataFrame([[1, 2], [3, 4]],\n",
    "    index=['idx1', 'idx2'],\n",
    "    columns=['col1', 'col2'])\n"
   ]
  },
  {
   "cell_type": "code",
   "execution_count": 74,
   "id": "37555c05-3059-426d-8fdf-2f51afc4d25c",
   "metadata": {},
   "outputs": [
    {
     "data": {
      "text/html": [
       "<div>\n",
       "<style scoped>\n",
       "    .dataframe tbody tr th:only-of-type {\n",
       "        vertical-align: middle;\n",
       "    }\n",
       "\n",
       "    .dataframe tbody tr th {\n",
       "        vertical-align: top;\n",
       "    }\n",
       "\n",
       "    .dataframe thead th {\n",
       "        text-align: right;\n",
       "    }\n",
       "</style>\n",
       "<table border=\"1\" class=\"dataframe\">\n",
       "  <thead>\n",
       "    <tr style=\"text-align: right;\">\n",
       "      <th></th>\n",
       "      <th>col1</th>\n",
       "      <th>col2</th>\n",
       "    </tr>\n",
       "  </thead>\n",
       "  <tbody>\n",
       "    <tr>\n",
       "      <th>idx1</th>\n",
       "      <td>1</td>\n",
       "      <td>2</td>\n",
       "    </tr>\n",
       "    <tr>\n",
       "      <th>idx2</th>\n",
       "      <td>3</td>\n",
       "      <td>4</td>\n",
       "    </tr>\n",
       "  </tbody>\n",
       "</table>\n",
       "</div>"
      ],
      "text/plain": [
       "      col1  col2\n",
       "idx1     1     2\n",
       "idx2     3     4"
      ]
     },
     "execution_count": 74,
     "metadata": {},
     "output_type": "execute_result"
    }
   ],
   "source": [
    "tdf1"
   ]
  },
  {
   "cell_type": "code",
   "execution_count": 75,
   "id": "9f648905-1353-4e0f-b790-2a52dc01af17",
   "metadata": {},
   "outputs": [
    {
     "data": {
      "text/html": [
       "<div>\n",
       "<style scoped>\n",
       "    .dataframe tbody tr th:only-of-type {\n",
       "        vertical-align: middle;\n",
       "    }\n",
       "\n",
       "    .dataframe tbody tr th {\n",
       "        vertical-align: top;\n",
       "    }\n",
       "\n",
       "    .dataframe thead th {\n",
       "        text-align: right;\n",
       "    }\n",
       "</style>\n",
       "<table border=\"1\" class=\"dataframe\">\n",
       "  <thead>\n",
       "    <tr style=\"text-align: right;\">\n",
       "      <th></th>\n",
       "      <th>col1</th>\n",
       "      <th>col2</th>\n",
       "    </tr>\n",
       "  </thead>\n",
       "  <tbody>\n",
       "    <tr>\n",
       "      <th>idx2</th>\n",
       "      <td>1</td>\n",
       "      <td>2</td>\n",
       "    </tr>\n",
       "    <tr>\n",
       "      <th>idx3</th>\n",
       "      <td>3</td>\n",
       "      <td>4</td>\n",
       "    </tr>\n",
       "  </tbody>\n",
       "</table>\n",
       "</div>"
      ],
      "text/plain": [
       "      col1  col2\n",
       "idx2     1     2\n",
       "idx3     3     4"
      ]
     },
     "execution_count": 75,
     "metadata": {},
     "output_type": "execute_result"
    }
   ],
   "source": [
    "tdf2 = tdf1.copy()\n",
    "tdf2.index = ['idx2', 'idx3']\n",
    "tdf2"
   ]
  },
  {
   "cell_type": "code",
   "execution_count": 76,
   "id": "57c55ac1-9375-44b3-a23e-f8f3fae008ce",
   "metadata": {},
   "outputs": [
    {
     "data": {
      "text/html": [
       "<div>\n",
       "<style scoped>\n",
       "    .dataframe tbody tr th:only-of-type {\n",
       "        vertical-align: middle;\n",
       "    }\n",
       "\n",
       "    .dataframe tbody tr th {\n",
       "        vertical-align: top;\n",
       "    }\n",
       "\n",
       "    .dataframe thead th {\n",
       "        text-align: right;\n",
       "    }\n",
       "</style>\n",
       "<table border=\"1\" class=\"dataframe\">\n",
       "  <thead>\n",
       "    <tr style=\"text-align: right;\">\n",
       "      <th></th>\n",
       "      <th>col1</th>\n",
       "      <th>col2</th>\n",
       "    </tr>\n",
       "  </thead>\n",
       "  <tbody>\n",
       "    <tr>\n",
       "      <th>idx1</th>\n",
       "      <td>NaN</td>\n",
       "      <td>NaN</td>\n",
       "    </tr>\n",
       "    <tr>\n",
       "      <th>idx2</th>\n",
       "      <td>4.0</td>\n",
       "      <td>6.0</td>\n",
       "    </tr>\n",
       "    <tr>\n",
       "      <th>idx3</th>\n",
       "      <td>NaN</td>\n",
       "      <td>NaN</td>\n",
       "    </tr>\n",
       "  </tbody>\n",
       "</table>\n",
       "</div>"
      ],
      "text/plain": [
       "      col1  col2\n",
       "idx1   NaN   NaN\n",
       "idx2   4.0   6.0\n",
       "idx3   NaN   NaN"
      ]
     },
     "execution_count": 76,
     "metadata": {},
     "output_type": "execute_result"
    }
   ],
   "source": [
    "tdf1 + tdf2"
   ]
  },
  {
   "cell_type": "code",
   "execution_count": 77,
   "id": "5b60c9f5-0cb8-48c1-a360-7a557a403baa",
   "metadata": {},
   "outputs": [
    {
     "data": {
      "text/html": [
       "<div>\n",
       "<style scoped>\n",
       "    .dataframe tbody tr th:only-of-type {\n",
       "        vertical-align: middle;\n",
       "    }\n",
       "\n",
       "    .dataframe tbody tr th {\n",
       "        vertical-align: top;\n",
       "    }\n",
       "\n",
       "    .dataframe thead th {\n",
       "        text-align: right;\n",
       "    }\n",
       "</style>\n",
       "<table border=\"1\" class=\"dataframe\">\n",
       "  <thead>\n",
       "    <tr style=\"text-align: right;\">\n",
       "      <th></th>\n",
       "      <th>col1</th>\n",
       "      <th>col2</th>\n",
       "    </tr>\n",
       "  </thead>\n",
       "  <tbody>\n",
       "    <tr>\n",
       "      <th>idx1</th>\n",
       "      <td>NaN</td>\n",
       "      <td>NaN</td>\n",
       "    </tr>\n",
       "    <tr>\n",
       "      <th>idx2</th>\n",
       "      <td>4.0</td>\n",
       "      <td>6.0</td>\n",
       "    </tr>\n",
       "    <tr>\n",
       "      <th>idx3</th>\n",
       "      <td>NaN</td>\n",
       "      <td>NaN</td>\n",
       "    </tr>\n",
       "  </tbody>\n",
       "</table>\n",
       "</div>"
      ],
      "text/plain": [
       "      col1  col2\n",
       "idx1   NaN   NaN\n",
       "idx2   4.0   6.0\n",
       "idx3   NaN   NaN"
      ]
     },
     "execution_count": 77,
     "metadata": {},
     "output_type": "execute_result"
    }
   ],
   "source": [
    "tdf1.add(tdf2)"
   ]
  },
  {
   "cell_type": "code",
   "execution_count": 78,
   "id": "3f592feb-8707-440c-a98d-8e7eee35832d",
   "metadata": {},
   "outputs": [
    {
     "data": {
      "text/html": [
       "<div>\n",
       "<style scoped>\n",
       "    .dataframe tbody tr th:only-of-type {\n",
       "        vertical-align: middle;\n",
       "    }\n",
       "\n",
       "    .dataframe tbody tr th {\n",
       "        vertical-align: top;\n",
       "    }\n",
       "\n",
       "    .dataframe thead th {\n",
       "        text-align: right;\n",
       "    }\n",
       "</style>\n",
       "<table border=\"1\" class=\"dataframe\">\n",
       "  <thead>\n",
       "    <tr style=\"text-align: right;\">\n",
       "      <th></th>\n",
       "      <th>col2</th>\n",
       "      <th>col3</th>\n",
       "    </tr>\n",
       "  </thead>\n",
       "  <tbody>\n",
       "    <tr>\n",
       "      <th>idx1</th>\n",
       "      <td>1</td>\n",
       "      <td>2</td>\n",
       "    </tr>\n",
       "    <tr>\n",
       "      <th>idx2</th>\n",
       "      <td>3</td>\n",
       "      <td>4</td>\n",
       "    </tr>\n",
       "  </tbody>\n",
       "</table>\n",
       "</div>"
      ],
      "text/plain": [
       "      col2  col3\n",
       "idx1     1     2\n",
       "idx2     3     4"
      ]
     },
     "execution_count": 78,
     "metadata": {},
     "output_type": "execute_result"
    }
   ],
   "source": [
    "tdf3 = tdf1.copy()\n",
    "tdf3.columns = ['col2', 'col3']\n",
    "tdf3"
   ]
  },
  {
   "cell_type": "code",
   "execution_count": 79,
   "id": "3e0defed-a114-4cde-b277-91f7cede74d6",
   "metadata": {},
   "outputs": [
    {
     "data": {
      "text/html": [
       "<div>\n",
       "<style scoped>\n",
       "    .dataframe tbody tr th:only-of-type {\n",
       "        vertical-align: middle;\n",
       "    }\n",
       "\n",
       "    .dataframe tbody tr th {\n",
       "        vertical-align: top;\n",
       "    }\n",
       "\n",
       "    .dataframe thead th {\n",
       "        text-align: right;\n",
       "    }\n",
       "</style>\n",
       "<table border=\"1\" class=\"dataframe\">\n",
       "  <thead>\n",
       "    <tr style=\"text-align: right;\">\n",
       "      <th></th>\n",
       "      <th>col1</th>\n",
       "      <th>col2</th>\n",
       "      <th>col3</th>\n",
       "    </tr>\n",
       "  </thead>\n",
       "  <tbody>\n",
       "    <tr>\n",
       "      <th>idx1</th>\n",
       "      <td>NaN</td>\n",
       "      <td>3</td>\n",
       "      <td>NaN</td>\n",
       "    </tr>\n",
       "    <tr>\n",
       "      <th>idx2</th>\n",
       "      <td>NaN</td>\n",
       "      <td>7</td>\n",
       "      <td>NaN</td>\n",
       "    </tr>\n",
       "  </tbody>\n",
       "</table>\n",
       "</div>"
      ],
      "text/plain": [
       "      col1  col2  col3\n",
       "idx1   NaN     3   NaN\n",
       "idx2   NaN     7   NaN"
      ]
     },
     "execution_count": 79,
     "metadata": {},
     "output_type": "execute_result"
    }
   ],
   "source": [
    "tdf1 + tdf3"
   ]
  },
  {
   "cell_type": "code",
   "execution_count": 80,
   "id": "46224323-63d8-42d8-a3dc-1123637d2269",
   "metadata": {},
   "outputs": [
    {
     "data": {
      "text/html": [
       "<div>\n",
       "<style scoped>\n",
       "    .dataframe tbody tr th:only-of-type {\n",
       "        vertical-align: middle;\n",
       "    }\n",
       "\n",
       "    .dataframe tbody tr th {\n",
       "        vertical-align: top;\n",
       "    }\n",
       "\n",
       "    .dataframe thead th {\n",
       "        text-align: right;\n",
       "    }\n",
       "</style>\n",
       "<table border=\"1\" class=\"dataframe\">\n",
       "  <thead>\n",
       "    <tr style=\"text-align: right;\">\n",
       "      <th></th>\n",
       "      <th>col1</th>\n",
       "      <th>col2</th>\n",
       "      <th>col3</th>\n",
       "    </tr>\n",
       "  </thead>\n",
       "  <tbody>\n",
       "    <tr>\n",
       "      <th>idx1</th>\n",
       "      <td>NaN</td>\n",
       "      <td>3</td>\n",
       "      <td>NaN</td>\n",
       "    </tr>\n",
       "    <tr>\n",
       "      <th>idx2</th>\n",
       "      <td>NaN</td>\n",
       "      <td>7</td>\n",
       "      <td>NaN</td>\n",
       "    </tr>\n",
       "  </tbody>\n",
       "</table>\n",
       "</div>"
      ],
      "text/plain": [
       "      col1  col2  col3\n",
       "idx1   NaN     3   NaN\n",
       "idx2   NaN     7   NaN"
      ]
     },
     "execution_count": 80,
     "metadata": {},
     "output_type": "execute_result"
    }
   ],
   "source": [
    "tdf1.add(tdf3)"
   ]
  },
  {
   "cell_type": "code",
   "execution_count": 82,
   "id": "056a8bf0-c917-4883-9caa-860238c2b6f7",
   "metadata": {},
   "outputs": [
    {
     "data": {
      "text/plain": [
       "(0    2.0\n",
       " 1    4.0\n",
       " 2    NaN\n",
       " Name: b, dtype: float64,\n",
       " 0    2.0\n",
       " 1    4.0\n",
       " 2    NaN\n",
       " Name: b, dtype: float64)"
      ]
     },
     "execution_count": 82,
     "metadata": {},
     "output_type": "execute_result"
    }
   ],
   "source": [
    "c3, c4"
   ]
  },
  {
   "cell_type": "code",
   "execution_count": 81,
   "id": "2f4d9725-5aeb-49fe-ac72-b314e51cddf0",
   "metadata": {},
   "outputs": [
    {
     "data": {
      "text/plain": [
       "0    False\n",
       "1    False\n",
       "2    False\n",
       "Name: b, dtype: bool"
      ]
     },
     "execution_count": 81,
     "metadata": {},
     "output_type": "execute_result"
    }
   ],
   "source": [
    "c3 < c4"
   ]
  },
  {
   "cell_type": "code",
   "execution_count": 83,
   "id": "676312f3-1859-4c92-9248-ffd99f41e89c",
   "metadata": {},
   "outputs": [
    {
     "data": {
      "text/plain": [
       "0    False\n",
       "1    False\n",
       "2    False\n",
       "Name: b, dtype: bool"
      ]
     },
     "execution_count": 83,
     "metadata": {},
     "output_type": "execute_result"
    }
   ],
   "source": [
    "c3.lt(c4, fill_value = 0)"
   ]
  },
  {
   "cell_type": "markdown",
   "id": "01247a33-fe25-4205-9bbd-2a31f67ba3d3",
   "metadata": {},
   "source": [
    "## gt(), ge(), lt(), le(), eq(), equals(), ne()\n",
    "\n",
    "- gt() : greater then\n",
    "- ge() : greater then equal to 크거나 같음\n",
    "- ... ect"
   ]
  },
  {
   "cell_type": "code",
   "execution_count": 86,
   "id": "5fff8dd5-e032-4b65-b521-4ed8ff3e76d0",
   "metadata": {},
   "outputs": [
    {
     "data": {
      "text/plain": [
       "0     True\n",
       "1     True\n",
       "2    False\n",
       "Name: b, dtype: bool"
      ]
     },
     "execution_count": 86,
     "metadata": {},
     "output_type": "execute_result"
    }
   ],
   "source": [
    "c3 <= c4"
   ]
  },
  {
   "cell_type": "code",
   "execution_count": 87,
   "id": "2ee8000c-8682-47e0-85b8-35ada6fcb689",
   "metadata": {},
   "outputs": [
    {
     "data": {
      "text/html": [
       "<div>\n",
       "<style scoped>\n",
       "    .dataframe tbody tr th:only-of-type {\n",
       "        vertical-align: middle;\n",
       "    }\n",
       "\n",
       "    .dataframe tbody tr th {\n",
       "        vertical-align: top;\n",
       "    }\n",
       "\n",
       "    .dataframe thead th {\n",
       "        text-align: right;\n",
       "    }\n",
       "</style>\n",
       "<table border=\"1\" class=\"dataframe\">\n",
       "  <thead>\n",
       "    <tr style=\"text-align: right;\">\n",
       "      <th></th>\n",
       "      <th>a</th>\n",
       "      <th>b</th>\n",
       "    </tr>\n",
       "  </thead>\n",
       "  <tbody>\n",
       "    <tr>\n",
       "      <th>0</th>\n",
       "      <td>0</td>\n",
       "      <td>1.0</td>\n",
       "    </tr>\n",
       "    <tr>\n",
       "      <th>1</th>\n",
       "      <td>5</td>\n",
       "      <td>10.0</td>\n",
       "    </tr>\n",
       "    <tr>\n",
       "      <th>2</th>\n",
       "      <td>2</td>\n",
       "      <td>NaN</td>\n",
       "    </tr>\n",
       "  </tbody>\n",
       "</table>\n",
       "</div>"
      ],
      "text/plain": [
       "   a     b\n",
       "0  0   1.0\n",
       "1  5  10.0\n",
       "2  2   NaN"
      ]
     },
     "execution_count": 87,
     "metadata": {},
     "output_type": "execute_result"
    }
   ],
   "source": [
    "d3 = {'a': [0, 5, 2], 'b': [1, 10, np.NaN]}\n",
    "df3 = pd.DataFrame(d3)\n",
    "df3"
   ]
  },
  {
   "cell_type": "code",
   "execution_count": 88,
   "id": "56ed0883-bb8b-477c-8190-97cc25aac4c2",
   "metadata": {},
   "outputs": [
    {
     "data": {
      "text/html": [
       "<div>\n",
       "<style scoped>\n",
       "    .dataframe tbody tr th:only-of-type {\n",
       "        vertical-align: middle;\n",
       "    }\n",
       "\n",
       "    .dataframe tbody tr th {\n",
       "        vertical-align: top;\n",
       "    }\n",
       "\n",
       "    .dataframe thead th {\n",
       "        text-align: right;\n",
       "    }\n",
       "</style>\n",
       "<table border=\"1\" class=\"dataframe\">\n",
       "  <thead>\n",
       "    <tr style=\"text-align: right;\">\n",
       "      <th></th>\n",
       "      <th>a</th>\n",
       "      <th>b</th>\n",
       "    </tr>\n",
       "  </thead>\n",
       "  <tbody>\n",
       "    <tr>\n",
       "      <th>0</th>\n",
       "      <td>1.0</td>\n",
       "      <td>1.0</td>\n",
       "    </tr>\n",
       "    <tr>\n",
       "      <th>1</th>\n",
       "      <td>NaN</td>\n",
       "      <td>-6.0</td>\n",
       "    </tr>\n",
       "    <tr>\n",
       "      <th>2</th>\n",
       "      <td>3.0</td>\n",
       "      <td>NaN</td>\n",
       "    </tr>\n",
       "  </tbody>\n",
       "</table>\n",
       "</div>"
      ],
      "text/plain": [
       "     a    b\n",
       "0  1.0  1.0\n",
       "1  NaN -6.0\n",
       "2  3.0  NaN"
      ]
     },
     "execution_count": 88,
     "metadata": {},
     "output_type": "execute_result"
    }
   ],
   "source": [
    "df2 - df3"
   ]
  },
  {
   "cell_type": "code",
   "execution_count": 89,
   "id": "a49e2792-af8e-41b3-bd9c-f33c72cf0d74",
   "metadata": {},
   "outputs": [
    {
     "data": {
      "text/html": [
       "<div>\n",
       "<style scoped>\n",
       "    .dataframe tbody tr th:only-of-type {\n",
       "        vertical-align: middle;\n",
       "    }\n",
       "\n",
       "    .dataframe tbody tr th {\n",
       "        vertical-align: top;\n",
       "    }\n",
       "\n",
       "    .dataframe thead th {\n",
       "        text-align: right;\n",
       "    }\n",
       "</style>\n",
       "<table border=\"1\" class=\"dataframe\">\n",
       "  <thead>\n",
       "    <tr style=\"text-align: right;\">\n",
       "      <th></th>\n",
       "      <th>a</th>\n",
       "      <th>b</th>\n",
       "    </tr>\n",
       "  </thead>\n",
       "  <tbody>\n",
       "    <tr>\n",
       "      <th>0</th>\n",
       "      <td>1.0</td>\n",
       "      <td>1.0</td>\n",
       "    </tr>\n",
       "    <tr>\n",
       "      <th>1</th>\n",
       "      <td>-5.0</td>\n",
       "      <td>-6.0</td>\n",
       "    </tr>\n",
       "    <tr>\n",
       "      <th>2</th>\n",
       "      <td>3.0</td>\n",
       "      <td>NaN</td>\n",
       "    </tr>\n",
       "  </tbody>\n",
       "</table>\n",
       "</div>"
      ],
      "text/plain": [
       "     a    b\n",
       "0  1.0  1.0\n",
       "1 -5.0 -6.0\n",
       "2  3.0  NaN"
      ]
     },
     "execution_count": 89,
     "metadata": {},
     "output_type": "execute_result"
    }
   ],
   "source": [
    "df2.sub(df3, fill_value = 0)"
   ]
  },
  {
   "cell_type": "code",
   "execution_count": 92,
   "id": "079cf49a-f09e-403e-8622-c42977fde719",
   "metadata": {},
   "outputs": [
    {
     "data": {
      "text/plain": [
       "(     a    b\n",
       " 0  1.0  2.0\n",
       " 1  NaN  4.0\n",
       " 2  5.0  NaN,\n",
       "    a     b\n",
       " 0  0   1.0\n",
       " 1  5  10.0\n",
       " 2  2   NaN)"
      ]
     },
     "execution_count": 92,
     "metadata": {},
     "output_type": "execute_result"
    }
   ],
   "source": [
    "df2, df3 # 적용이 됐다고 하더라도 0 + NaN은 NaN 이기 때문에"
   ]
  },
  {
   "cell_type": "markdown",
   "id": "8c5bd145-8672-4468-b976-6790bf53686f",
   "metadata": {},
   "source": [
    "##  Pandas.Serias.add_suffix(), pandas.Serias.add_prefix()\n",
    "\n",
    "- suffix : 접미사\n",
    "- prefix : 접두사\n",
    "\n",
    "-> 기존의 레이블 뒤에 적용하는 역할을 함."
   ]
  },
  {
   "cell_type": "code",
   "execution_count": 97,
   "id": "f9cf6943-ee81-430d-a5be-984fae0b5a1f",
   "metadata": {},
   "outputs": [
    {
     "data": {
      "text/plain": [
       "학번     20267377\n",
       "소속         일본학과\n",
       "학년            3\n",
       "과제1          61\n",
       "과제2          69\n",
       "과제3          46\n",
       "과제4          79\n",
       "과제5          57\n",
       "과제6          77\n",
       "과제7          56\n",
       "과제8          65\n",
       "Name: 길은영, dtype: object"
      ]
     },
     "execution_count": 97,
     "metadata": {},
     "output_type": "execute_result"
    }
   ],
   "source": [
    "s"
   ]
  },
  {
   "cell_type": "code",
   "execution_count": 99,
   "id": "372c836b-e835-4089-a11f-fef740dfd862",
   "metadata": {},
   "outputs": [
    {
     "data": {
      "text/plain": [
       "학번_2026     20267377\n",
       "소속_2026         일본학과\n",
       "학년_2026            3\n",
       "과제1_2026          61\n",
       "과제2_2026          69\n",
       "과제3_2026          46\n",
       "과제4_2026          79\n",
       "과제5_2026          57\n",
       "과제6_2026          77\n",
       "과제7_2026          56\n",
       "과제8_2026          65\n",
       "Name: 길은영, dtype: object"
      ]
     },
     "execution_count": 99,
     "metadata": {},
     "output_type": "execute_result"
    }
   ],
   "source": [
    "s.add_suffix('_2026')\n",
    "# 변환 내용이 바뀌는 것이 아님! 반환형이 있기 때문에 무언가 받아주어야 함."
   ]
  },
  {
   "cell_type": "code",
   "execution_count": 100,
   "id": "cbecca5b-ac36-4c0f-ba7e-2f12acab2af0",
   "metadata": {},
   "outputs": [
    {
     "data": {
      "text/plain": [
       "학번     20267377\n",
       "소속         일본학과\n",
       "학년            3\n",
       "과제1          61\n",
       "과제2          69\n",
       "과제3          46\n",
       "과제4          79\n",
       "과제5          57\n",
       "과제6          77\n",
       "과제7          56\n",
       "과제8          65\n",
       "Name: 길은영, dtype: object"
      ]
     },
     "execution_count": 100,
     "metadata": {},
     "output_type": "execute_result"
    }
   ],
   "source": [
    "s"
   ]
  },
  {
   "cell_type": "code",
   "execution_count": 101,
   "id": "f888b4c2-2408-442f-a157-871917fec4f3",
   "metadata": {},
   "outputs": [
    {
     "data": {
      "text/html": [
       "<div>\n",
       "<style scoped>\n",
       "    .dataframe tbody tr th:only-of-type {\n",
       "        vertical-align: middle;\n",
       "    }\n",
       "\n",
       "    .dataframe tbody tr th {\n",
       "        vertical-align: top;\n",
       "    }\n",
       "\n",
       "    .dataframe thead th {\n",
       "        text-align: right;\n",
       "    }\n",
       "</style>\n",
       "<table border=\"1\" class=\"dataframe\">\n",
       "  <thead>\n",
       "    <tr style=\"text-align: right;\">\n",
       "      <th></th>\n",
       "      <th>a</th>\n",
       "      <th>b</th>\n",
       "    </tr>\n",
       "  </thead>\n",
       "  <tbody>\n",
       "    <tr>\n",
       "      <th>0</th>\n",
       "      <td>1.0</td>\n",
       "      <td>2.0</td>\n",
       "    </tr>\n",
       "    <tr>\n",
       "      <th>1</th>\n",
       "      <td>NaN</td>\n",
       "      <td>4.0</td>\n",
       "    </tr>\n",
       "    <tr>\n",
       "      <th>2</th>\n",
       "      <td>5.0</td>\n",
       "      <td>NaN</td>\n",
       "    </tr>\n",
       "  </tbody>\n",
       "</table>\n",
       "</div>"
      ],
      "text/plain": [
       "     a    b\n",
       "0  1.0  2.0\n",
       "1  NaN  4.0\n",
       "2  5.0  NaN"
      ]
     },
     "execution_count": 101,
     "metadata": {},
     "output_type": "execute_result"
    }
   ],
   "source": [
    "df2"
   ]
  },
  {
   "cell_type": "code",
   "execution_count": 102,
   "id": "64ba17a9-bc41-47f0-8fd3-d46ce2d4bbde",
   "metadata": {},
   "outputs": [
    {
     "data": {
      "text/html": [
       "<div>\n",
       "<style scoped>\n",
       "    .dataframe tbody tr th:only-of-type {\n",
       "        vertical-align: middle;\n",
       "    }\n",
       "\n",
       "    .dataframe tbody tr th {\n",
       "        vertical-align: top;\n",
       "    }\n",
       "\n",
       "    .dataframe thead th {\n",
       "        text-align: right;\n",
       "    }\n",
       "</style>\n",
       "<table border=\"1\" class=\"dataframe\">\n",
       "  <thead>\n",
       "    <tr style=\"text-align: right;\">\n",
       "      <th></th>\n",
       "      <th>a_col</th>\n",
       "      <th>b_col</th>\n",
       "    </tr>\n",
       "  </thead>\n",
       "  <tbody>\n",
       "    <tr>\n",
       "      <th>0</th>\n",
       "      <td>1.0</td>\n",
       "      <td>2.0</td>\n",
       "    </tr>\n",
       "    <tr>\n",
       "      <th>1</th>\n",
       "      <td>NaN</td>\n",
       "      <td>4.0</td>\n",
       "    </tr>\n",
       "    <tr>\n",
       "      <th>2</th>\n",
       "      <td>5.0</td>\n",
       "      <td>NaN</td>\n",
       "    </tr>\n",
       "  </tbody>\n",
       "</table>\n",
       "</div>"
      ],
      "text/plain": [
       "   a_col  b_col\n",
       "0    1.0    2.0\n",
       "1    NaN    4.0\n",
       "2    5.0    NaN"
      ]
     },
     "execution_count": 102,
     "metadata": {},
     "output_type": "execute_result"
    }
   ],
   "source": [
    "df2.add_suffix('_col')"
   ]
  },
  {
   "cell_type": "code",
   "execution_count": 103,
   "id": "c3131bf5-4b37-43a4-8c47-22f909cbfce3",
   "metadata": {},
   "outputs": [
    {
     "data": {
      "text/html": [
       "<div>\n",
       "<style scoped>\n",
       "    .dataframe tbody tr th:only-of-type {\n",
       "        vertical-align: middle;\n",
       "    }\n",
       "\n",
       "    .dataframe tbody tr th {\n",
       "        vertical-align: top;\n",
       "    }\n",
       "\n",
       "    .dataframe thead th {\n",
       "        text-align: right;\n",
       "    }\n",
       "</style>\n",
       "<table border=\"1\" class=\"dataframe\">\n",
       "  <thead>\n",
       "    <tr style=\"text-align: right;\">\n",
       "      <th></th>\n",
       "      <th>pre_a</th>\n",
       "      <th>pre_b</th>\n",
       "    </tr>\n",
       "  </thead>\n",
       "  <tbody>\n",
       "    <tr>\n",
       "      <th>0</th>\n",
       "      <td>1.0</td>\n",
       "      <td>2.0</td>\n",
       "    </tr>\n",
       "    <tr>\n",
       "      <th>1</th>\n",
       "      <td>NaN</td>\n",
       "      <td>4.0</td>\n",
       "    </tr>\n",
       "    <tr>\n",
       "      <th>2</th>\n",
       "      <td>5.0</td>\n",
       "      <td>NaN</td>\n",
       "    </tr>\n",
       "  </tbody>\n",
       "</table>\n",
       "</div>"
      ],
      "text/plain": [
       "   pre_a  pre_b\n",
       "0    1.0    2.0\n",
       "1    NaN    4.0\n",
       "2    5.0    NaN"
      ]
     },
     "execution_count": 103,
     "metadata": {},
     "output_type": "execute_result"
    }
   ],
   "source": [
    "df2.add_prefix('pre_')"
   ]
  },
  {
   "cell_type": "code",
   "execution_count": 104,
   "id": "6c9b41c6-521d-46cc-8b84-01505b1976aa",
   "metadata": {},
   "outputs": [
    {
     "data": {
      "text/plain": [
       "학번aaa     20267377\n",
       "소속aaa         일본학과\n",
       "학년aaa            3\n",
       "과제1aaa          61\n",
       "과제2aaa          69\n",
       "과제3aaa          46\n",
       "과제4aaa          79\n",
       "과제5aaa          57\n",
       "과제6aaa          77\n",
       "과제7aaa          56\n",
       "과제8aaa          65\n",
       "Name: 길은영, dtype: object"
      ]
     },
     "execution_count": 104,
     "metadata": {},
     "output_type": "execute_result"
    }
   ],
   "source": [
    "s.add_suffix('aaa')"
   ]
  },
  {
   "cell_type": "markdown",
   "id": "0c0922cd-6dd0-4f37-9216-684131f23ea8",
   "metadata": {},
   "source": [
    "## 데이터 정제에 필요한 Missing value 처리 함수"
   ]
  },
  {
   "cell_type": "markdown",
   "id": "9700abb3-08f8-4b3a-8ba0-42e2992ef7a8",
   "metadata": {},
   "source": [
    "- pandas.DataFrame.dropna\n",
    "- pandas.DataFrame.fillna\n",
    "- pandas.DataFrame.interpolate"
   ]
  },
  {
   "cell_type": "markdown",
   "id": "bc3f2978-0c44-4375-8127-1e47e97a72ac",
   "metadata": {},
   "source": [
    "## NaN : Missing Value(Not a Number), 누락된 데이터 처리\n",
    "\n",
    "- Pandas가 NaN을 표시할 때는 넘파이의 NaN을 사용함.\n",
    "- 넘파이의 NaN 객체는 일반적으로 값이 정의되지 않은 형태를 뜻함\n",
    "- 파이썬과 넘파이 모두 실수 데이터를 표시할 때 IEEE 754를 사용하는데 여기서 NaN은 정의되지 않은 숫자 즉 숫자로 표현할 수 없는 것을 의미"
   ]
  },
  {
   "cell_type": "code",
   "execution_count": 105,
   "id": "576db650-cd6f-4e58-9bde-b0a1bc15b467",
   "metadata": {},
   "outputs": [
    {
     "data": {
      "text/plain": [
       "True"
      ]
     },
     "execution_count": 105,
     "metadata": {},
     "output_type": "execute_result"
    }
   ],
   "source": [
    "np.inf > 10"
   ]
  },
  {
   "cell_type": "code",
   "execution_count": 111,
   "id": "fe5c132d-4da6-4712-a14e-5190241846bf",
   "metadata": {},
   "outputs": [
    {
     "data": {
      "text/plain": [
       "False"
      ]
     },
     "execution_count": 111,
     "metadata": {},
     "output_type": "execute_result"
    }
   ],
   "source": [
    "np.inf < 10"
   ]
  },
  {
   "cell_type": "code",
   "execution_count": 107,
   "id": "9367fb31-3906-4d4f-b078-c04bb3fb7c24",
   "metadata": {},
   "outputs": [
    {
     "data": {
      "text/plain": [
       "inf"
      ]
     },
     "execution_count": 107,
     "metadata": {},
     "output_type": "execute_result"
    }
   ],
   "source": [
    "np.inf + 10"
   ]
  },
  {
   "cell_type": "code",
   "execution_count": 108,
   "id": "6afd3c71-4e84-4840-9b10-ed9b33cd5f80",
   "metadata": {},
   "outputs": [
    {
     "data": {
      "text/plain": [
       "False"
      ]
     },
     "execution_count": 108,
     "metadata": {},
     "output_type": "execute_result"
    }
   ],
   "source": [
    "np.inf > np.nan"
   ]
  },
  {
   "cell_type": "code",
   "execution_count": 109,
   "id": "555ebb75-6b86-4ace-af86-662fea6c78d2",
   "metadata": {},
   "outputs": [
    {
     "data": {
      "text/plain": [
       "False"
      ]
     },
     "execution_count": 109,
     "metadata": {},
     "output_type": "execute_result"
    }
   ],
   "source": [
    "np.nan > 10"
   ]
  },
  {
   "cell_type": "markdown",
   "id": "8d737b85-c708-4fca-9496-efe0bd8d16bc",
   "metadata": {},
   "source": [
    "## dropna : Na가 포함되어있는 행 전체 제거"
   ]
  },
  {
   "cell_type": "code",
   "execution_count": 112,
   "id": "de409c0a-7427-4bb7-813b-74d8fd3e90ff",
   "metadata": {},
   "outputs": [
    {
     "data": {
      "text/html": [
       "<div>\n",
       "<style scoped>\n",
       "    .dataframe tbody tr th:only-of-type {\n",
       "        vertical-align: middle;\n",
       "    }\n",
       "\n",
       "    .dataframe tbody tr th {\n",
       "        vertical-align: top;\n",
       "    }\n",
       "\n",
       "    .dataframe thead th {\n",
       "        text-align: right;\n",
       "    }\n",
       "</style>\n",
       "<table border=\"1\" class=\"dataframe\">\n",
       "  <thead>\n",
       "    <tr style=\"text-align: right;\">\n",
       "      <th></th>\n",
       "      <th>a</th>\n",
       "      <th>b</th>\n",
       "    </tr>\n",
       "  </thead>\n",
       "  <tbody>\n",
       "    <tr>\n",
       "      <th>0</th>\n",
       "      <td>1.0</td>\n",
       "      <td>2.0</td>\n",
       "    </tr>\n",
       "    <tr>\n",
       "      <th>1</th>\n",
       "      <td>NaN</td>\n",
       "      <td>4.0</td>\n",
       "    </tr>\n",
       "    <tr>\n",
       "      <th>2</th>\n",
       "      <td>5.0</td>\n",
       "      <td>NaN</td>\n",
       "    </tr>\n",
       "  </tbody>\n",
       "</table>\n",
       "</div>"
      ],
      "text/plain": [
       "     a    b\n",
       "0  1.0  2.0\n",
       "1  NaN  4.0\n",
       "2  5.0  NaN"
      ]
     },
     "execution_count": 112,
     "metadata": {},
     "output_type": "execute_result"
    }
   ],
   "source": [
    "df2"
   ]
  },
  {
   "cell_type": "code",
   "execution_count": 110,
   "id": "ebf59fa1-2214-49de-8618-9baa6fa9c919",
   "metadata": {},
   "outputs": [
    {
     "data": {
      "text/html": [
       "<div>\n",
       "<style scoped>\n",
       "    .dataframe tbody tr th:only-of-type {\n",
       "        vertical-align: middle;\n",
       "    }\n",
       "\n",
       "    .dataframe tbody tr th {\n",
       "        vertical-align: top;\n",
       "    }\n",
       "\n",
       "    .dataframe thead th {\n",
       "        text-align: right;\n",
       "    }\n",
       "</style>\n",
       "<table border=\"1\" class=\"dataframe\">\n",
       "  <thead>\n",
       "    <tr style=\"text-align: right;\">\n",
       "      <th></th>\n",
       "      <th>a</th>\n",
       "      <th>b</th>\n",
       "    </tr>\n",
       "  </thead>\n",
       "  <tbody>\n",
       "    <tr>\n",
       "      <th>0</th>\n",
       "      <td>1.0</td>\n",
       "      <td>2.0</td>\n",
       "    </tr>\n",
       "  </tbody>\n",
       "</table>\n",
       "</div>"
      ],
      "text/plain": [
       "     a    b\n",
       "0  1.0  2.0"
      ]
     },
     "execution_count": 110,
     "metadata": {},
     "output_type": "execute_result"
    }
   ],
   "source": [
    "df2.dropna()"
   ]
  },
  {
   "cell_type": "code",
   "execution_count": 117,
   "id": "869f8dc4-8dbc-4b67-9342-b73efe3f7237",
   "metadata": {},
   "outputs": [
    {
     "data": {
      "text/html": [
       "<div>\n",
       "<style scoped>\n",
       "    .dataframe tbody tr th:only-of-type {\n",
       "        vertical-align: middle;\n",
       "    }\n",
       "\n",
       "    .dataframe tbody tr th {\n",
       "        vertical-align: top;\n",
       "    }\n",
       "\n",
       "    .dataframe thead th {\n",
       "        text-align: right;\n",
       "    }\n",
       "</style>\n",
       "<table border=\"1\" class=\"dataframe\">\n",
       "  <thead>\n",
       "    <tr style=\"text-align: right;\">\n",
       "      <th></th>\n",
       "      <th>a</th>\n",
       "      <th>b</th>\n",
       "    </tr>\n",
       "  </thead>\n",
       "  <tbody>\n",
       "    <tr>\n",
       "      <th>0</th>\n",
       "      <td>1.0</td>\n",
       "      <td>2.0</td>\n",
       "    </tr>\n",
       "  </tbody>\n",
       "</table>\n",
       "</div>"
      ],
      "text/plain": [
       "     a    b\n",
       "0  1.0  2.0"
      ]
     },
     "execution_count": 117,
     "metadata": {},
     "output_type": "execute_result"
    }
   ],
   "source": [
    "df_tmp = df2.copy()\n",
    "df_tmp.dropna(inplace = True)\n",
    "df_tmp"
   ]
  },
  {
   "cell_type": "markdown",
   "id": "782f4b79-6ac5-45b9-b749-2da9403dbea4",
   "metadata": {},
   "source": [
    "## Fillna는 NaN값에 특정값으로 대체하는 함수"
   ]
  },
  {
   "cell_type": "code",
   "execution_count": 118,
   "id": "240fd7d2-ee41-4f19-8ab4-b359ea268a19",
   "metadata": {},
   "outputs": [
    {
     "data": {
      "text/html": [
       "<div>\n",
       "<style scoped>\n",
       "    .dataframe tbody tr th:only-of-type {\n",
       "        vertical-align: middle;\n",
       "    }\n",
       "\n",
       "    .dataframe tbody tr th {\n",
       "        vertical-align: top;\n",
       "    }\n",
       "\n",
       "    .dataframe thead th {\n",
       "        text-align: right;\n",
       "    }\n",
       "</style>\n",
       "<table border=\"1\" class=\"dataframe\">\n",
       "  <thead>\n",
       "    <tr style=\"text-align: right;\">\n",
       "      <th></th>\n",
       "      <th>a</th>\n",
       "      <th>b</th>\n",
       "    </tr>\n",
       "  </thead>\n",
       "  <tbody>\n",
       "    <tr>\n",
       "      <th>0</th>\n",
       "      <td>1.0</td>\n",
       "      <td>2.0</td>\n",
       "    </tr>\n",
       "    <tr>\n",
       "      <th>1</th>\n",
       "      <td>0.0</td>\n",
       "      <td>4.0</td>\n",
       "    </tr>\n",
       "    <tr>\n",
       "      <th>2</th>\n",
       "      <td>5.0</td>\n",
       "      <td>0.0</td>\n",
       "    </tr>\n",
       "  </tbody>\n",
       "</table>\n",
       "</div>"
      ],
      "text/plain": [
       "     a    b\n",
       "0  1.0  2.0\n",
       "1  0.0  4.0\n",
       "2  5.0  0.0"
      ]
     },
     "execution_count": 118,
     "metadata": {},
     "output_type": "execute_result"
    }
   ],
   "source": [
    "df2.fillna(0)"
   ]
  },
  {
   "cell_type": "code",
   "execution_count": 119,
   "id": "3fd8ed7a-fba5-4561-a9ef-31bbfc46533d",
   "metadata": {},
   "outputs": [
    {
     "data": {
      "text/html": [
       "<div>\n",
       "<style scoped>\n",
       "    .dataframe tbody tr th:only-of-type {\n",
       "        vertical-align: middle;\n",
       "    }\n",
       "\n",
       "    .dataframe tbody tr th {\n",
       "        vertical-align: top;\n",
       "    }\n",
       "\n",
       "    .dataframe thead th {\n",
       "        text-align: right;\n",
       "    }\n",
       "</style>\n",
       "<table border=\"1\" class=\"dataframe\">\n",
       "  <thead>\n",
       "    <tr style=\"text-align: right;\">\n",
       "      <th></th>\n",
       "      <th>a</th>\n",
       "      <th>b</th>\n",
       "    </tr>\n",
       "  </thead>\n",
       "  <tbody>\n",
       "    <tr>\n",
       "      <th>0</th>\n",
       "      <td>1.0</td>\n",
       "      <td>2.0</td>\n",
       "    </tr>\n",
       "    <tr>\n",
       "      <th>1</th>\n",
       "      <td>0.0</td>\n",
       "      <td>4.0</td>\n",
       "    </tr>\n",
       "    <tr>\n",
       "      <th>2</th>\n",
       "      <td>5.0</td>\n",
       "      <td>0.0</td>\n",
       "    </tr>\n",
       "  </tbody>\n",
       "</table>\n",
       "</div>"
      ],
      "text/plain": [
       "     a    b\n",
       "0  1.0  2.0\n",
       "1  0.0  4.0\n",
       "2  5.0  0.0"
      ]
     },
     "execution_count": 119,
     "metadata": {},
     "output_type": "execute_result"
    }
   ],
   "source": [
    "df_tmp = df2.copy()\n",
    "df_tmp.fillna(0, inplace = True)\n",
    "df_tmp"
   ]
  },
  {
   "cell_type": "code",
   "execution_count": 122,
   "id": "721f4631-154f-4f11-aa3e-23915f2625b7",
   "metadata": {},
   "outputs": [
    {
     "data": {
      "text/html": [
       "<div>\n",
       "<style scoped>\n",
       "    .dataframe tbody tr th:only-of-type {\n",
       "        vertical-align: middle;\n",
       "    }\n",
       "\n",
       "    .dataframe tbody tr th {\n",
       "        vertical-align: top;\n",
       "    }\n",
       "\n",
       "    .dataframe thead th {\n",
       "        text-align: right;\n",
       "    }\n",
       "</style>\n",
       "<table border=\"1\" class=\"dataframe\">\n",
       "  <thead>\n",
       "    <tr style=\"text-align: right;\">\n",
       "      <th></th>\n",
       "      <th>a</th>\n",
       "      <th>b</th>\n",
       "    </tr>\n",
       "  </thead>\n",
       "  <tbody>\n",
       "    <tr>\n",
       "      <th>0</th>\n",
       "      <td>1.0</td>\n",
       "      <td>2.0</td>\n",
       "    </tr>\n",
       "    <tr>\n",
       "      <th>1</th>\n",
       "      <td>3.0</td>\n",
       "      <td>4.0</td>\n",
       "    </tr>\n",
       "    <tr>\n",
       "      <th>2</th>\n",
       "      <td>5.0</td>\n",
       "      <td>4.0</td>\n",
       "    </tr>\n",
       "  </tbody>\n",
       "</table>\n",
       "</div>"
      ],
      "text/plain": [
       "     a    b\n",
       "0  1.0  2.0\n",
       "1  3.0  4.0\n",
       "2  5.0  4.0"
      ]
     },
     "execution_count": 122,
     "metadata": {},
     "output_type": "execute_result"
    }
   ],
   "source": [
    "df_tmp = df2.copy()\n",
    "# 선형보간을 사용하여 자동으로 보간을 적용.\n",
    "# 3.0은 1.0과 5.0 사이의 평균이 적용된 것!, \n",
    "# 4.0은 4.0은 위에 있는데 밑이 없으므로 그냥 4.0 같이 넣어줌\n",
    "df_tmp.interpolate()"
   ]
  },
  {
   "cell_type": "markdown",
   "id": "42995808-e447-409d-a56f-92eb8b4e530a",
   "metadata": {},
   "source": [
    "## pandas.DataFrame.replace\n",
    "\n",
    "- Na값을 대체하는 것이 아닌 특정 값 대체 가능"
   ]
  },
  {
   "cell_type": "code",
   "execution_count": 126,
   "id": "77fca5ff-1a46-4158-9828-f33b79648d02",
   "metadata": {},
   "outputs": [
    {
     "data": {
      "text/html": [
       "<div>\n",
       "<style scoped>\n",
       "    .dataframe tbody tr th:only-of-type {\n",
       "        vertical-align: middle;\n",
       "    }\n",
       "\n",
       "    .dataframe tbody tr th {\n",
       "        vertical-align: top;\n",
       "    }\n",
       "\n",
       "    .dataframe thead th {\n",
       "        text-align: right;\n",
       "    }\n",
       "</style>\n",
       "<table border=\"1\" class=\"dataframe\">\n",
       "  <thead>\n",
       "    <tr style=\"text-align: right;\">\n",
       "      <th></th>\n",
       "      <th>col1</th>\n",
       "      <th>col2</th>\n",
       "      <th>col3</th>\n",
       "    </tr>\n",
       "  </thead>\n",
       "  <tbody>\n",
       "    <tr>\n",
       "      <th>0</th>\n",
       "      <td>0</td>\n",
       "      <td>2</td>\n",
       "      <td>1</td>\n",
       "    </tr>\n",
       "    <tr>\n",
       "      <th>1</th>\n",
       "      <td>2</td>\n",
       "      <td>3</td>\n",
       "      <td>3</td>\n",
       "    </tr>\n",
       "    <tr>\n",
       "      <th>2</th>\n",
       "      <td>4</td>\n",
       "      <td>4</td>\n",
       "      <td>2</td>\n",
       "    </tr>\n",
       "    <tr>\n",
       "      <th>3</th>\n",
       "      <td>2</td>\n",
       "      <td>5</td>\n",
       "      <td>4</td>\n",
       "    </tr>\n",
       "    <tr>\n",
       "      <th>4</th>\n",
       "      <td>4</td>\n",
       "      <td>6</td>\n",
       "      <td>9</td>\n",
       "    </tr>\n",
       "  </tbody>\n",
       "</table>\n",
       "</div>"
      ],
      "text/plain": [
       "   col1  col2  col3\n",
       "0     0     2     1\n",
       "1     2     3     3\n",
       "2     4     4     2\n",
       "3     2     5     4\n",
       "4     4     6     9"
      ]
     },
     "execution_count": 126,
     "metadata": {},
     "output_type": "execute_result"
    }
   ],
   "source": [
    " df = pd.DataFrame({'col1': [0, 2, 4, 2, 4],\n",
    "                    'col2': [2, 3, 4, 5, 6],\n",
    "                    'col3': [1, 3, 2, 4, 9]})\n",
    "df"
   ]
  },
  {
   "cell_type": "code",
   "execution_count": 127,
   "id": "ae37f4e8-86d5-42eb-8268-e558a5ccc854",
   "metadata": {},
   "outputs": [
    {
     "data": {
      "text/html": [
       "<div>\n",
       "<style scoped>\n",
       "    .dataframe tbody tr th:only-of-type {\n",
       "        vertical-align: middle;\n",
       "    }\n",
       "\n",
       "    .dataframe tbody tr th {\n",
       "        vertical-align: top;\n",
       "    }\n",
       "\n",
       "    .dataframe thead th {\n",
       "        text-align: right;\n",
       "    }\n",
       "</style>\n",
       "<table border=\"1\" class=\"dataframe\">\n",
       "  <thead>\n",
       "    <tr style=\"text-align: right;\">\n",
       "      <th></th>\n",
       "      <th>col1</th>\n",
       "      <th>col2</th>\n",
       "      <th>col3</th>\n",
       "    </tr>\n",
       "  </thead>\n",
       "  <tbody>\n",
       "    <tr>\n",
       "      <th>0</th>\n",
       "      <td>False</td>\n",
       "      <td>False</td>\n",
       "      <td>False</td>\n",
       "    </tr>\n",
       "    <tr>\n",
       "      <th>1</th>\n",
       "      <td>False</td>\n",
       "      <td>False</td>\n",
       "      <td>False</td>\n",
       "    </tr>\n",
       "    <tr>\n",
       "      <th>2</th>\n",
       "      <td>True</td>\n",
       "      <td>True</td>\n",
       "      <td>False</td>\n",
       "    </tr>\n",
       "    <tr>\n",
       "      <th>3</th>\n",
       "      <td>False</td>\n",
       "      <td>False</td>\n",
       "      <td>True</td>\n",
       "    </tr>\n",
       "    <tr>\n",
       "      <th>4</th>\n",
       "      <td>True</td>\n",
       "      <td>False</td>\n",
       "      <td>False</td>\n",
       "    </tr>\n",
       "  </tbody>\n",
       "</table>\n",
       "</div>"
      ],
      "text/plain": [
       "    col1   col2   col3\n",
       "0  False  False  False\n",
       "1  False  False  False\n",
       "2   True   True  False\n",
       "3  False  False   True\n",
       "4   True  False  False"
      ]
     },
     "execution_count": 127,
     "metadata": {},
     "output_type": "execute_result"
    }
   ],
   "source": [
    "df == 4"
   ]
  },
  {
   "cell_type": "code",
   "execution_count": 129,
   "id": "615a0382-d6e2-45b3-aa81-b256f7734d24",
   "metadata": {},
   "outputs": [
    {
     "data": {
      "text/html": [
       "<div>\n",
       "<style scoped>\n",
       "    .dataframe tbody tr th:only-of-type {\n",
       "        vertical-align: middle;\n",
       "    }\n",
       "\n",
       "    .dataframe tbody tr th {\n",
       "        vertical-align: top;\n",
       "    }\n",
       "\n",
       "    .dataframe thead th {\n",
       "        text-align: right;\n",
       "    }\n",
       "</style>\n",
       "<table border=\"1\" class=\"dataframe\">\n",
       "  <thead>\n",
       "    <tr style=\"text-align: right;\">\n",
       "      <th></th>\n",
       "      <th>col1</th>\n",
       "      <th>col2</th>\n",
       "      <th>col3</th>\n",
       "    </tr>\n",
       "  </thead>\n",
       "  <tbody>\n",
       "    <tr>\n",
       "      <th>0</th>\n",
       "      <td>0</td>\n",
       "      <td>2</td>\n",
       "      <td>1</td>\n",
       "    </tr>\n",
       "    <tr>\n",
       "      <th>1</th>\n",
       "      <td>2</td>\n",
       "      <td>3</td>\n",
       "      <td>3</td>\n",
       "    </tr>\n",
       "    <tr>\n",
       "      <th>2</th>\n",
       "      <td>14</td>\n",
       "      <td>14</td>\n",
       "      <td>2</td>\n",
       "    </tr>\n",
       "    <tr>\n",
       "      <th>3</th>\n",
       "      <td>2</td>\n",
       "      <td>5</td>\n",
       "      <td>14</td>\n",
       "    </tr>\n",
       "    <tr>\n",
       "      <th>4</th>\n",
       "      <td>14</td>\n",
       "      <td>6</td>\n",
       "      <td>9</td>\n",
       "    </tr>\n",
       "  </tbody>\n",
       "</table>\n",
       "</div>"
      ],
      "text/plain": [
       "   col1  col2  col3\n",
       "0     0     2     1\n",
       "1     2     3     3\n",
       "2    14    14     2\n",
       "3     2     5    14\n",
       "4    14     6     9"
      ]
     },
     "execution_count": 129,
     "metadata": {},
     "output_type": "execute_result"
    }
   ],
   "source": [
    "# bool 연산을 통해 인덱스를 변경 가능\n",
    "df[df==4] = 14\n",
    "df"
   ]
  },
  {
   "cell_type": "code",
   "execution_count": 130,
   "id": "5effb54e-1d46-4150-b4cd-91c714e4432c",
   "metadata": {},
   "outputs": [
    {
     "data": {
      "text/html": [
       "<div>\n",
       "<style scoped>\n",
       "    .dataframe tbody tr th:only-of-type {\n",
       "        vertical-align: middle;\n",
       "    }\n",
       "\n",
       "    .dataframe tbody tr th {\n",
       "        vertical-align: top;\n",
       "    }\n",
       "\n",
       "    .dataframe thead th {\n",
       "        text-align: right;\n",
       "    }\n",
       "</style>\n",
       "<table border=\"1\" class=\"dataframe\">\n",
       "  <thead>\n",
       "    <tr style=\"text-align: right;\">\n",
       "      <th></th>\n",
       "      <th>col1</th>\n",
       "      <th>col2</th>\n",
       "      <th>col3</th>\n",
       "    </tr>\n",
       "  </thead>\n",
       "  <tbody>\n",
       "    <tr>\n",
       "      <th>0</th>\n",
       "      <td>0</td>\n",
       "      <td>a</td>\n",
       "      <td>1</td>\n",
       "    </tr>\n",
       "    <tr>\n",
       "      <th>1</th>\n",
       "      <td>2</td>\n",
       "      <td>b</td>\n",
       "      <td>3</td>\n",
       "    </tr>\n",
       "    <tr>\n",
       "      <th>2</th>\n",
       "      <td>4</td>\n",
       "      <td>c</td>\n",
       "      <td>2</td>\n",
       "    </tr>\n",
       "    <tr>\n",
       "      <th>3</th>\n",
       "      <td>2</td>\n",
       "      <td>d</td>\n",
       "      <td>4</td>\n",
       "    </tr>\n",
       "    <tr>\n",
       "      <th>4</th>\n",
       "      <td>4</td>\n",
       "      <td>e</td>\n",
       "      <td>9</td>\n",
       "    </tr>\n",
       "  </tbody>\n",
       "</table>\n",
       "</div>"
      ],
      "text/plain": [
       "   col1 col2  col3\n",
       "0     0    a     1\n",
       "1     2    b     3\n",
       "2     4    c     2\n",
       "3     2    d     4\n",
       "4     4    e     9"
      ]
     },
     "execution_count": 130,
     "metadata": {},
     "output_type": "execute_result"
    }
   ],
   "source": [
    "df2 = pd.DataFrame({'col1': [0, 2, 4, 2, 4],\n",
    "                    'col2': list('abcde'),\n",
    "                    'col3': [1, 3, 2, 4, 9]})\n",
    "df2"
   ]
  },
  {
   "cell_type": "code",
   "execution_count": 132,
   "id": "3f95753c-aa48-4436-8fe2-94ea36659e56",
   "metadata": {},
   "outputs": [],
   "source": [
    "# df2[df2 == 4] = 14 -> 데이터 프레임의 자료형이 다를 경우 오류 발생."
   ]
  },
  {
   "cell_type": "code",
   "execution_count": 134,
   "id": "01603ac2-baeb-4705-b7c0-cbd5b78512b5",
   "metadata": {},
   "outputs": [
    {
     "data": {
      "text/html": [
       "<div>\n",
       "<style scoped>\n",
       "    .dataframe tbody tr th:only-of-type {\n",
       "        vertical-align: middle;\n",
       "    }\n",
       "\n",
       "    .dataframe tbody tr th {\n",
       "        vertical-align: top;\n",
       "    }\n",
       "\n",
       "    .dataframe thead th {\n",
       "        text-align: right;\n",
       "    }\n",
       "</style>\n",
       "<table border=\"1\" class=\"dataframe\">\n",
       "  <thead>\n",
       "    <tr style=\"text-align: right;\">\n",
       "      <th></th>\n",
       "      <th>col1</th>\n",
       "      <th>col2</th>\n",
       "      <th>col3</th>\n",
       "    </tr>\n",
       "  </thead>\n",
       "  <tbody>\n",
       "    <tr>\n",
       "      <th>0</th>\n",
       "      <td>0</td>\n",
       "      <td>a</td>\n",
       "      <td>1</td>\n",
       "    </tr>\n",
       "    <tr>\n",
       "      <th>1</th>\n",
       "      <td>2</td>\n",
       "      <td>b</td>\n",
       "      <td>3</td>\n",
       "    </tr>\n",
       "    <tr>\n",
       "      <th>2</th>\n",
       "      <td>4</td>\n",
       "      <td>c</td>\n",
       "      <td>2</td>\n",
       "    </tr>\n",
       "    <tr>\n",
       "      <th>3</th>\n",
       "      <td>2</td>\n",
       "      <td>d</td>\n",
       "      <td>4</td>\n",
       "    </tr>\n",
       "    <tr>\n",
       "      <th>4</th>\n",
       "      <td>4</td>\n",
       "      <td>e</td>\n",
       "      <td>9</td>\n",
       "    </tr>\n",
       "  </tbody>\n",
       "</table>\n",
       "</div>"
      ],
      "text/plain": [
       "   col1 col2  col3\n",
       "0     0    a     1\n",
       "1     2    b     3\n",
       "2     4    c     2\n",
       "3     2    d     4\n",
       "4     4    e     9"
      ]
     },
     "execution_count": 134,
     "metadata": {},
     "output_type": "execute_result"
    }
   ],
   "source": [
    "# 다음과 같이 replace를 통해 수정 가능\n",
    "df2.replace(14,4)"
   ]
  },
  {
   "cell_type": "code",
   "execution_count": 137,
   "id": "4a51f619-780c-4292-a665-2415e947fab9",
   "metadata": {},
   "outputs": [
    {
     "data": {
      "text/html": [
       "<div>\n",
       "<style scoped>\n",
       "    .dataframe tbody tr th:only-of-type {\n",
       "        vertical-align: middle;\n",
       "    }\n",
       "\n",
       "    .dataframe tbody tr th {\n",
       "        vertical-align: top;\n",
       "    }\n",
       "\n",
       "    .dataframe thead th {\n",
       "        text-align: right;\n",
       "    }\n",
       "</style>\n",
       "<table border=\"1\" class=\"dataframe\">\n",
       "  <thead>\n",
       "    <tr style=\"text-align: right;\">\n",
       "      <th></th>\n",
       "      <th>col1</th>\n",
       "      <th>col2</th>\n",
       "      <th>col3</th>\n",
       "    </tr>\n",
       "  </thead>\n",
       "  <tbody>\n",
       "    <tr>\n",
       "      <th>0</th>\n",
       "      <td>0</td>\n",
       "      <td>a</td>\n",
       "      <td>1</td>\n",
       "    </tr>\n",
       "    <tr>\n",
       "      <th>1</th>\n",
       "      <td>2</td>\n",
       "      <td>b</td>\n",
       "      <td>3</td>\n",
       "    </tr>\n",
       "    <tr>\n",
       "      <th>2</th>\n",
       "      <td>14</td>\n",
       "      <td>c</td>\n",
       "      <td>2</td>\n",
       "    </tr>\n",
       "    <tr>\n",
       "      <th>3</th>\n",
       "      <td>2</td>\n",
       "      <td>d</td>\n",
       "      <td>14</td>\n",
       "    </tr>\n",
       "    <tr>\n",
       "      <th>4</th>\n",
       "      <td>14</td>\n",
       "      <td>e</td>\n",
       "      <td>9</td>\n",
       "    </tr>\n",
       "  </tbody>\n",
       "</table>\n",
       "</div>"
      ],
      "text/plain": [
       "   col1 col2  col3\n",
       "0     0    a     1\n",
       "1     2    b     3\n",
       "2    14    c     2\n",
       "3     2    d    14\n",
       "4    14    e     9"
      ]
     },
     "execution_count": 137,
     "metadata": {},
     "output_type": "execute_result"
    }
   ],
   "source": [
    "# 혼합된 자료형을 가진 데이터 프레임에서도 사용이 가능함.\n",
    "df2.replace(4,14)\n",
    "\n",
    "# 다음과 같은 대화형 셀에서 밑의 출력결과가 나온다는 것은 해당 문법이 반환을 한다는 것을 말함."
   ]
  },
  {
   "cell_type": "code",
   "execution_count": 139,
   "id": "b87eaff5-91bf-4927-b1ae-65f3531dec22",
   "metadata": {},
   "outputs": [
    {
     "data": {
      "text/html": [
       "<div>\n",
       "<style scoped>\n",
       "    .dataframe tbody tr th:only-of-type {\n",
       "        vertical-align: middle;\n",
       "    }\n",
       "\n",
       "    .dataframe tbody tr th {\n",
       "        vertical-align: top;\n",
       "    }\n",
       "\n",
       "    .dataframe thead th {\n",
       "        text-align: right;\n",
       "    }\n",
       "</style>\n",
       "<table border=\"1\" class=\"dataframe\">\n",
       "  <thead>\n",
       "    <tr style=\"text-align: right;\">\n",
       "      <th></th>\n",
       "      <th>col1</th>\n",
       "      <th>col2</th>\n",
       "      <th>col3</th>\n",
       "    </tr>\n",
       "  </thead>\n",
       "  <tbody>\n",
       "    <tr>\n",
       "      <th>0</th>\n",
       "      <td>0</td>\n",
       "      <td>a</td>\n",
       "      <td>1</td>\n",
       "    </tr>\n",
       "    <tr>\n",
       "      <th>1</th>\n",
       "      <td>2</td>\n",
       "      <td>b</td>\n",
       "      <td>3</td>\n",
       "    </tr>\n",
       "    <tr>\n",
       "      <th>2</th>\n",
       "      <td>4</td>\n",
       "      <td>c</td>\n",
       "      <td>2</td>\n",
       "    </tr>\n",
       "    <tr>\n",
       "      <th>3</th>\n",
       "      <td>2</td>\n",
       "      <td>d</td>\n",
       "      <td>4</td>\n",
       "    </tr>\n",
       "    <tr>\n",
       "      <th>4</th>\n",
       "      <td>4</td>\n",
       "      <td>e</td>\n",
       "      <td>9</td>\n",
       "    </tr>\n",
       "  </tbody>\n",
       "</table>\n",
       "</div>"
      ],
      "text/plain": [
       "   col1 col2  col3\n",
       "0     0    a     1\n",
       "1     2    b     3\n",
       "2     4    c     2\n",
       "3     2    d     4\n",
       "4     4    e     9"
      ]
     },
     "execution_count": 139,
     "metadata": {},
     "output_type": "execute_result"
    }
   ],
   "source": [
    "df2"
   ]
  },
  {
   "cell_type": "code",
   "execution_count": 140,
   "id": "a9fc15c0-d5a7-4643-819a-fcf4c453f292",
   "metadata": {},
   "outputs": [],
   "source": [
    "df2.replace(4,14, inplace = True)"
   ]
  },
  {
   "cell_type": "code",
   "execution_count": 141,
   "id": "71ec30e1-7604-4a45-85e9-31db7480a5c9",
   "metadata": {},
   "outputs": [
    {
     "data": {
      "text/html": [
       "<div>\n",
       "<style scoped>\n",
       "    .dataframe tbody tr th:only-of-type {\n",
       "        vertical-align: middle;\n",
       "    }\n",
       "\n",
       "    .dataframe tbody tr th {\n",
       "        vertical-align: top;\n",
       "    }\n",
       "\n",
       "    .dataframe thead th {\n",
       "        text-align: right;\n",
       "    }\n",
       "</style>\n",
       "<table border=\"1\" class=\"dataframe\">\n",
       "  <thead>\n",
       "    <tr style=\"text-align: right;\">\n",
       "      <th></th>\n",
       "      <th>col1</th>\n",
       "      <th>col2</th>\n",
       "      <th>col3</th>\n",
       "    </tr>\n",
       "  </thead>\n",
       "  <tbody>\n",
       "    <tr>\n",
       "      <th>0</th>\n",
       "      <td>0</td>\n",
       "      <td>a</td>\n",
       "      <td>1</td>\n",
       "    </tr>\n",
       "    <tr>\n",
       "      <th>1</th>\n",
       "      <td>2</td>\n",
       "      <td>b</td>\n",
       "      <td>3</td>\n",
       "    </tr>\n",
       "    <tr>\n",
       "      <th>2</th>\n",
       "      <td>14</td>\n",
       "      <td>c</td>\n",
       "      <td>2</td>\n",
       "    </tr>\n",
       "    <tr>\n",
       "      <th>3</th>\n",
       "      <td>2</td>\n",
       "      <td>d</td>\n",
       "      <td>14</td>\n",
       "    </tr>\n",
       "    <tr>\n",
       "      <th>4</th>\n",
       "      <td>14</td>\n",
       "      <td>e</td>\n",
       "      <td>9</td>\n",
       "    </tr>\n",
       "  </tbody>\n",
       "</table>\n",
       "</div>"
      ],
      "text/plain": [
       "   col1 col2  col3\n",
       "0     0    a     1\n",
       "1     2    b     3\n",
       "2    14    c     2\n",
       "3     2    d    14\n",
       "4    14    e     9"
      ]
     },
     "execution_count": 141,
     "metadata": {},
     "output_type": "execute_result"
    }
   ],
   "source": [
    "df2"
   ]
  },
  {
   "cell_type": "markdown",
   "id": "132f2042-eb32-4f2c-9704-35f31e9dc163",
   "metadata": {},
   "source": [
    "## pandas 함수 적용 \n",
    "\n",
    "- map() : Serias에만 함수 적용\n",
    "- apply() : 행 또는 열에 함수 적용\n",
    "- applymap() : 원소 단위에 함수 적용\n",
    "- pipe() : DataFrame 전체에 함수 적용"
   ]
  },
  {
   "cell_type": "code",
   "execution_count": 142,
   "id": "8fd77512-2ed9-49c2-a4db-10a3dfc1000f",
   "metadata": {},
   "outputs": [
    {
     "data": {
      "text/plain": [
       "[1, 9, 25]"
      ]
     },
     "execution_count": 142,
     "metadata": {},
     "output_type": "execute_result"
    }
   ],
   "source": [
    "lst = [1,3,5]\n",
    "list(map(lambda x: x**2, lst))"
   ]
  },
  {
   "cell_type": "code",
   "execution_count": 144,
   "id": "1562ecbd-202b-424c-87a8-ecfe4923becf",
   "metadata": {},
   "outputs": [
    {
     "data": {
      "text/plain": [
       "array([ 1,  9, 25], dtype=int32)"
      ]
     },
     "execution_count": 144,
     "metadata": {},
     "output_type": "execute_result"
    }
   ],
   "source": [
    "arr = np.array([1,3,5])\n",
    "arr ** 2"
   ]
  },
  {
   "cell_type": "code",
   "execution_count": 145,
   "id": "4ce46394-0d8f-44d6-afca-bbb26adcaa5d",
   "metadata": {},
   "outputs": [
    {
     "data": {
      "text/plain": [
       "0    1\n",
       "1    3\n",
       "2    5\n",
       "Name: a, dtype: int64"
      ]
     },
     "execution_count": 145,
     "metadata": {},
     "output_type": "execute_result"
    }
   ],
   "source": [
    "c1"
   ]
  },
  {
   "cell_type": "code",
   "execution_count": 146,
   "id": "8bb0c0b0-0eb3-4c84-a273-55546d018c84",
   "metadata": {},
   "outputs": [
    {
     "data": {
      "text/plain": [
       "0     1\n",
       "1     9\n",
       "2    25\n",
       "Name: a, dtype: int64"
      ]
     },
     "execution_count": 146,
     "metadata": {},
     "output_type": "execute_result"
    }
   ],
   "source": [
    "c1.map(lambda x: x**2 )"
   ]
  },
  {
   "cell_type": "code",
   "execution_count": 147,
   "id": "cec7ac74-a03e-4a90-82be-d9c57c62740c",
   "metadata": {},
   "outputs": [
    {
     "data": {
      "text/html": [
       "<div>\n",
       "<style scoped>\n",
       "    .dataframe tbody tr th:only-of-type {\n",
       "        vertical-align: middle;\n",
       "    }\n",
       "\n",
       "    .dataframe tbody tr th {\n",
       "        vertical-align: top;\n",
       "    }\n",
       "\n",
       "    .dataframe thead th {\n",
       "        text-align: right;\n",
       "    }\n",
       "</style>\n",
       "<table border=\"1\" class=\"dataframe\">\n",
       "  <thead>\n",
       "    <tr style=\"text-align: right;\">\n",
       "      <th></th>\n",
       "      <th>col1</th>\n",
       "      <th>col2</th>\n",
       "      <th>col3</th>\n",
       "    </tr>\n",
       "  </thead>\n",
       "  <tbody>\n",
       "    <tr>\n",
       "      <th>0</th>\n",
       "      <td>0</td>\n",
       "      <td>a</td>\n",
       "      <td>1</td>\n",
       "    </tr>\n",
       "    <tr>\n",
       "      <th>1</th>\n",
       "      <td>2</td>\n",
       "      <td>b</td>\n",
       "      <td>3</td>\n",
       "    </tr>\n",
       "    <tr>\n",
       "      <th>2</th>\n",
       "      <td>14</td>\n",
       "      <td>c</td>\n",
       "      <td>2</td>\n",
       "    </tr>\n",
       "    <tr>\n",
       "      <th>3</th>\n",
       "      <td>2</td>\n",
       "      <td>d</td>\n",
       "      <td>14</td>\n",
       "    </tr>\n",
       "    <tr>\n",
       "      <th>4</th>\n",
       "      <td>14</td>\n",
       "      <td>e</td>\n",
       "      <td>9</td>\n",
       "    </tr>\n",
       "  </tbody>\n",
       "</table>\n",
       "</div>"
      ],
      "text/plain": [
       "   col1 col2  col3\n",
       "0     0    a     1\n",
       "1     2    b     3\n",
       "2    14    c     2\n",
       "3     2    d    14\n",
       "4    14    e     9"
      ]
     },
     "execution_count": 147,
     "metadata": {},
     "output_type": "execute_result"
    }
   ],
   "source": [
    "df2"
   ]
  },
  {
   "cell_type": "code",
   "execution_count": 149,
   "id": "15a3da39-a095-4e77-a4f0-5b7ce08339f0",
   "metadata": {},
   "outputs": [],
   "source": [
    "# df2.map(lambda x : x**2) \n",
    "# map 은 Serias 데이터에만 적용이 가능!"
   ]
  },
  {
   "cell_type": "code",
   "execution_count": 150,
   "id": "e241ca24-f60a-4d46-bca6-abd334b36cd4",
   "metadata": {},
   "outputs": [],
   "source": [
    "# apply : 행 또는 열에 함수 적용"
   ]
  },
  {
   "cell_type": "code",
   "execution_count": 152,
   "id": "491298cb-6282-4859-b501-25f285bdbb5f",
   "metadata": {},
   "outputs": [
    {
     "data": {
      "text/html": [
       "<div>\n",
       "<style scoped>\n",
       "    .dataframe tbody tr th:only-of-type {\n",
       "        vertical-align: middle;\n",
       "    }\n",
       "\n",
       "    .dataframe tbody tr th {\n",
       "        vertical-align: top;\n",
       "    }\n",
       "\n",
       "    .dataframe thead th {\n",
       "        text-align: right;\n",
       "    }\n",
       "</style>\n",
       "<table border=\"1\" class=\"dataframe\">\n",
       "  <thead>\n",
       "    <tr style=\"text-align: right;\">\n",
       "      <th></th>\n",
       "      <th>col1</th>\n",
       "      <th>col2</th>\n",
       "      <th>col3</th>\n",
       "    </tr>\n",
       "  </thead>\n",
       "  <tbody>\n",
       "    <tr>\n",
       "      <th>0</th>\n",
       "      <td>0</td>\n",
       "      <td>2</td>\n",
       "      <td>1</td>\n",
       "    </tr>\n",
       "    <tr>\n",
       "      <th>1</th>\n",
       "      <td>2</td>\n",
       "      <td>3</td>\n",
       "      <td>3</td>\n",
       "    </tr>\n",
       "    <tr>\n",
       "      <th>2</th>\n",
       "      <td>4</td>\n",
       "      <td>4</td>\n",
       "      <td>2</td>\n",
       "    </tr>\n",
       "    <tr>\n",
       "      <th>3</th>\n",
       "      <td>2</td>\n",
       "      <td>5</td>\n",
       "      <td>4</td>\n",
       "    </tr>\n",
       "    <tr>\n",
       "      <th>4</th>\n",
       "      <td>4</td>\n",
       "      <td>6</td>\n",
       "      <td>9</td>\n",
       "    </tr>\n",
       "  </tbody>\n",
       "</table>\n",
       "</div>"
      ],
      "text/plain": [
       "   col1  col2  col3\n",
       "0     0     2     1\n",
       "1     2     3     3\n",
       "2     4     4     2\n",
       "3     2     5     4\n",
       "4     4     6     9"
      ]
     },
     "execution_count": 152,
     "metadata": {},
     "output_type": "execute_result"
    }
   ],
   "source": [
    "df = pd.DataFrame({'col1': [0, 2, 4, 2, 4],\n",
    "                    'col2': [2, 3, 4, 5, 6],\n",
    "                    'col3': [1, 3, 2, 4, 9]})\n",
    "df"
   ]
  },
  {
   "cell_type": "code",
   "execution_count": 153,
   "id": "effbc4f8-93ba-47fc-beff-140641a73755",
   "metadata": {},
   "outputs": [
    {
     "data": {
      "text/plain": [
       "col1    12\n",
       "col2    20\n",
       "col3    19\n",
       "dtype: int64"
      ]
     },
     "execution_count": 153,
     "metadata": {},
     "output_type": "execute_result"
    }
   ],
   "source": [
    "df.apply(np.sum, axis = 0)"
   ]
  },
  {
   "cell_type": "code",
   "execution_count": 154,
   "id": "78d4454d-bb16-4947-8303-0e6c88e94c40",
   "metadata": {},
   "outputs": [
    {
     "data": {
      "text/plain": [
       "col1    12\n",
       "col2    20\n",
       "col3    19\n",
       "dtype: int64"
      ]
     },
     "execution_count": 154,
     "metadata": {},
     "output_type": "execute_result"
    }
   ],
   "source": [
    "np.sum(df, axis =  0)"
   ]
  },
  {
   "cell_type": "code",
   "execution_count": 155,
   "id": "5fd7fb8f-9fd7-4ced-a4ef-1ccd66166aa6",
   "metadata": {},
   "outputs": [
    {
     "data": {
      "text/plain": [
       "0     3\n",
       "1     8\n",
       "2    10\n",
       "3    11\n",
       "4    19\n",
       "dtype: int64"
      ]
     },
     "execution_count": 155,
     "metadata": {},
     "output_type": "execute_result"
    }
   ],
   "source": [
    "df.apply(np.sum, axis = 1)"
   ]
  },
  {
   "cell_type": "code",
   "execution_count": 156,
   "id": "9fc1b59a-7c03-4e58-8bd5-06866372d55a",
   "metadata": {},
   "outputs": [
    {
     "data": {
      "text/plain": [
       "0     3\n",
       "1     8\n",
       "2    10\n",
       "3    11\n",
       "4    19\n",
       "dtype: int64"
      ]
     },
     "execution_count": 156,
     "metadata": {},
     "output_type": "execute_result"
    }
   ],
   "source": [
    "np.sum(df, axis = 1)"
   ]
  },
  {
   "cell_type": "code",
   "execution_count": 158,
   "id": "1eb91fa6-370b-4ad3-b147-76d618d366e0",
   "metadata": {},
   "outputs": [
    {
     "data": {
      "text/html": [
       "<div>\n",
       "<style scoped>\n",
       "    .dataframe tbody tr th:only-of-type {\n",
       "        vertical-align: middle;\n",
       "    }\n",
       "\n",
       "    .dataframe tbody tr th {\n",
       "        vertical-align: top;\n",
       "    }\n",
       "\n",
       "    .dataframe thead th {\n",
       "        text-align: right;\n",
       "    }\n",
       "</style>\n",
       "<table border=\"1\" class=\"dataframe\">\n",
       "  <thead>\n",
       "    <tr style=\"text-align: right;\">\n",
       "      <th></th>\n",
       "      <th>col1</th>\n",
       "      <th>col2</th>\n",
       "      <th>col3</th>\n",
       "    </tr>\n",
       "  </thead>\n",
       "  <tbody>\n",
       "    <tr>\n",
       "      <th>0</th>\n",
       "      <td>12</td>\n",
       "      <td>20</td>\n",
       "      <td>19</td>\n",
       "    </tr>\n",
       "    <tr>\n",
       "      <th>1</th>\n",
       "      <td>12</td>\n",
       "      <td>20</td>\n",
       "      <td>19</td>\n",
       "    </tr>\n",
       "    <tr>\n",
       "      <th>2</th>\n",
       "      <td>12</td>\n",
       "      <td>20</td>\n",
       "      <td>19</td>\n",
       "    </tr>\n",
       "    <tr>\n",
       "      <th>3</th>\n",
       "      <td>12</td>\n",
       "      <td>20</td>\n",
       "      <td>19</td>\n",
       "    </tr>\n",
       "    <tr>\n",
       "      <th>4</th>\n",
       "      <td>12</td>\n",
       "      <td>20</td>\n",
       "      <td>19</td>\n",
       "    </tr>\n",
       "  </tbody>\n",
       "</table>\n",
       "</div>"
      ],
      "text/plain": [
       "   col1  col2  col3\n",
       "0    12    20    19\n",
       "1    12    20    19\n",
       "2    12    20    19\n",
       "3    12    20    19\n",
       "4    12    20    19"
      ]
     },
     "execution_count": 158,
     "metadata": {},
     "output_type": "execute_result"
    }
   ],
   "source": [
    "# 반환되는 타입의 shape을 원래 data shape 과 동일하게 하고 싶은경우 result_type을 broadcast로 적용\n",
    "df.apply(np.sum, axis = 0 , result_type='broadcast') "
   ]
  },
  {
   "cell_type": "markdown",
   "id": "e0994e50-62a6-48fb-be6b-5c2f6567eaa5",
   "metadata": {},
   "source": [
    "## applymap() : 원소 단위에 함수 적용"
   ]
  },
  {
   "cell_type": "code",
   "execution_count": 160,
   "id": "b21fccf0-af31-4f4e-9d4d-1df56f8f073e",
   "metadata": {},
   "outputs": [
    {
     "data": {
      "text/html": [
       "<div>\n",
       "<style scoped>\n",
       "    .dataframe tbody tr th:only-of-type {\n",
       "        vertical-align: middle;\n",
       "    }\n",
       "\n",
       "    .dataframe tbody tr th {\n",
       "        vertical-align: top;\n",
       "    }\n",
       "\n",
       "    .dataframe thead th {\n",
       "        text-align: right;\n",
       "    }\n",
       "</style>\n",
       "<table border=\"1\" class=\"dataframe\">\n",
       "  <thead>\n",
       "    <tr style=\"text-align: right;\">\n",
       "      <th></th>\n",
       "      <th>col1</th>\n",
       "      <th>col2</th>\n",
       "      <th>col3</th>\n",
       "    </tr>\n",
       "  </thead>\n",
       "  <tbody>\n",
       "    <tr>\n",
       "      <th>0</th>\n",
       "      <td>0</td>\n",
       "      <td>2</td>\n",
       "      <td>1</td>\n",
       "    </tr>\n",
       "    <tr>\n",
       "      <th>1</th>\n",
       "      <td>2</td>\n",
       "      <td>3</td>\n",
       "      <td>3</td>\n",
       "    </tr>\n",
       "    <tr>\n",
       "      <th>2</th>\n",
       "      <td>4</td>\n",
       "      <td>4</td>\n",
       "      <td>2</td>\n",
       "    </tr>\n",
       "    <tr>\n",
       "      <th>3</th>\n",
       "      <td>2</td>\n",
       "      <td>5</td>\n",
       "      <td>4</td>\n",
       "    </tr>\n",
       "    <tr>\n",
       "      <th>4</th>\n",
       "      <td>4</td>\n",
       "      <td>6</td>\n",
       "      <td>9</td>\n",
       "    </tr>\n",
       "  </tbody>\n",
       "</table>\n",
       "</div>"
      ],
      "text/plain": [
       "   col1  col2  col3\n",
       "0     0     2     1\n",
       "1     2     3     3\n",
       "2     4     4     2\n",
       "3     2     5     4\n",
       "4     4     6     9"
      ]
     },
     "execution_count": 160,
     "metadata": {},
     "output_type": "execute_result"
    }
   ],
   "source": [
    "df"
   ]
  },
  {
   "cell_type": "code",
   "execution_count": 161,
   "id": "44d57298-687f-4ed8-9501-66c73878cca6",
   "metadata": {},
   "outputs": [
    {
     "data": {
      "text/html": [
       "<div>\n",
       "<style scoped>\n",
       "    .dataframe tbody tr th:only-of-type {\n",
       "        vertical-align: middle;\n",
       "    }\n",
       "\n",
       "    .dataframe tbody tr th {\n",
       "        vertical-align: top;\n",
       "    }\n",
       "\n",
       "    .dataframe thead th {\n",
       "        text-align: right;\n",
       "    }\n",
       "</style>\n",
       "<table border=\"1\" class=\"dataframe\">\n",
       "  <thead>\n",
       "    <tr style=\"text-align: right;\">\n",
       "      <th></th>\n",
       "      <th>col1</th>\n",
       "      <th>col2</th>\n",
       "      <th>col3</th>\n",
       "    </tr>\n",
       "  </thead>\n",
       "  <tbody>\n",
       "    <tr>\n",
       "      <th>0</th>\n",
       "      <td>1</td>\n",
       "      <td>5</td>\n",
       "      <td>2</td>\n",
       "    </tr>\n",
       "    <tr>\n",
       "      <th>1</th>\n",
       "      <td>5</td>\n",
       "      <td>10</td>\n",
       "      <td>10</td>\n",
       "    </tr>\n",
       "    <tr>\n",
       "      <th>2</th>\n",
       "      <td>17</td>\n",
       "      <td>17</td>\n",
       "      <td>5</td>\n",
       "    </tr>\n",
       "    <tr>\n",
       "      <th>3</th>\n",
       "      <td>5</td>\n",
       "      <td>26</td>\n",
       "      <td>17</td>\n",
       "    </tr>\n",
       "    <tr>\n",
       "      <th>4</th>\n",
       "      <td>17</td>\n",
       "      <td>37</td>\n",
       "      <td>82</td>\n",
       "    </tr>\n",
       "  </tbody>\n",
       "</table>\n",
       "</div>"
      ],
      "text/plain": [
       "   col1  col2  col3\n",
       "0     1     5     2\n",
       "1     5    10    10\n",
       "2    17    17     5\n",
       "3     5    26    17\n",
       "4    17    37    82"
      ]
     },
     "execution_count": 161,
     "metadata": {},
     "output_type": "execute_result"
    }
   ],
   "source": [
    "f1 = lambda x: x**2 + 1\n",
    "df.applymap(f1)"
   ]
  },
  {
   "cell_type": "code",
   "execution_count": 162,
   "id": "59c24f3c-fe3e-411f-9784-420e6cfae4c9",
   "metadata": {},
   "outputs": [
    {
     "data": {
      "text/html": [
       "<div>\n",
       "<style scoped>\n",
       "    .dataframe tbody tr th:only-of-type {\n",
       "        vertical-align: middle;\n",
       "    }\n",
       "\n",
       "    .dataframe tbody tr th {\n",
       "        vertical-align: top;\n",
       "    }\n",
       "\n",
       "    .dataframe thead th {\n",
       "        text-align: right;\n",
       "    }\n",
       "</style>\n",
       "<table border=\"1\" class=\"dataframe\">\n",
       "  <thead>\n",
       "    <tr style=\"text-align: right;\">\n",
       "      <th></th>\n",
       "      <th>col1</th>\n",
       "      <th>col2</th>\n",
       "      <th>col3</th>\n",
       "    </tr>\n",
       "  </thead>\n",
       "  <tbody>\n",
       "    <tr>\n",
       "      <th>0</th>\n",
       "      <td>1</td>\n",
       "      <td>5</td>\n",
       "      <td>2</td>\n",
       "    </tr>\n",
       "    <tr>\n",
       "      <th>1</th>\n",
       "      <td>5</td>\n",
       "      <td>10</td>\n",
       "      <td>10</td>\n",
       "    </tr>\n",
       "    <tr>\n",
       "      <th>2</th>\n",
       "      <td>17</td>\n",
       "      <td>17</td>\n",
       "      <td>5</td>\n",
       "    </tr>\n",
       "    <tr>\n",
       "      <th>3</th>\n",
       "      <td>5</td>\n",
       "      <td>26</td>\n",
       "      <td>17</td>\n",
       "    </tr>\n",
       "    <tr>\n",
       "      <th>4</th>\n",
       "      <td>17</td>\n",
       "      <td>37</td>\n",
       "      <td>82</td>\n",
       "    </tr>\n",
       "  </tbody>\n",
       "</table>\n",
       "</div>"
      ],
      "text/plain": [
       "   col1  col2  col3\n",
       "0     1     5     2\n",
       "1     5    10    10\n",
       "2    17    17     5\n",
       "3     5    26    17\n",
       "4    17    37    82"
      ]
     },
     "execution_count": 162,
     "metadata": {},
     "output_type": "execute_result"
    }
   ],
   "source": [
    "df ** 2 + 1"
   ]
  },
  {
   "cell_type": "code",
   "execution_count": 172,
   "id": "bae8b6bb-11c6-4544-8f9d-6bdd26ba3c06",
   "metadata": {},
   "outputs": [
    {
     "data": {
      "text/html": [
       "<div>\n",
       "<style scoped>\n",
       "    .dataframe tbody tr th:only-of-type {\n",
       "        vertical-align: middle;\n",
       "    }\n",
       "\n",
       "    .dataframe tbody tr th {\n",
       "        vertical-align: top;\n",
       "    }\n",
       "\n",
       "    .dataframe thead th {\n",
       "        text-align: right;\n",
       "    }\n",
       "</style>\n",
       "<table border=\"1\" class=\"dataframe\">\n",
       "  <thead>\n",
       "    <tr style=\"text-align: right;\">\n",
       "      <th></th>\n",
       "      <th>col1</th>\n",
       "      <th>col2</th>\n",
       "      <th>col3</th>\n",
       "    </tr>\n",
       "  </thead>\n",
       "  <tbody>\n",
       "    <tr>\n",
       "      <th>0</th>\n",
       "      <td>0</td>\n",
       "      <td>4</td>\n",
       "      <td>2</td>\n",
       "    </tr>\n",
       "    <tr>\n",
       "      <th>1</th>\n",
       "      <td>4</td>\n",
       "      <td>10</td>\n",
       "      <td>10</td>\n",
       "    </tr>\n",
       "    <tr>\n",
       "      <th>2</th>\n",
       "      <td>16</td>\n",
       "      <td>16</td>\n",
       "      <td>4</td>\n",
       "    </tr>\n",
       "    <tr>\n",
       "      <th>3</th>\n",
       "      <td>4</td>\n",
       "      <td>26</td>\n",
       "      <td>16</td>\n",
       "    </tr>\n",
       "    <tr>\n",
       "      <th>4</th>\n",
       "      <td>16</td>\n",
       "      <td>36</td>\n",
       "      <td>82</td>\n",
       "    </tr>\n",
       "  </tbody>\n",
       "</table>\n",
       "</div>"
      ],
      "text/plain": [
       "   col1  col2  col3\n",
       "0     0     4     2\n",
       "1     4    10    10\n",
       "2    16    16     4\n",
       "3     4    26    16\n",
       "4    16    36    82"
      ]
     },
     "execution_count": 172,
     "metadata": {},
     "output_type": "execute_result"
    }
   ],
   "source": [
    "f2 = lambda x : x**2 + 1 if x % 2 else x ** 2\n",
    "df.applymap(f2)"
   ]
  },
  {
   "cell_type": "code",
   "execution_count": null,
   "id": "92827402-277a-47b3-b633-02cda9e7fa4d",
   "metadata": {},
   "outputs": [],
   "source": [
    "#df.apply(f2) -> Value 에러가 남"
   ]
  },
  {
   "cell_type": "code",
   "execution_count": 173,
   "id": "0a8b9ff5-cb88-4d31-84d5-3a1a7553c99b",
   "metadata": {},
   "outputs": [
    {
     "data": {
      "text/html": [
       "<div>\n",
       "<style scoped>\n",
       "    .dataframe tbody tr th:only-of-type {\n",
       "        vertical-align: middle;\n",
       "    }\n",
       "\n",
       "    .dataframe tbody tr th {\n",
       "        vertical-align: top;\n",
       "    }\n",
       "\n",
       "    .dataframe thead th {\n",
       "        text-align: right;\n",
       "    }\n",
       "</style>\n",
       "<table border=\"1\" class=\"dataframe\">\n",
       "  <thead>\n",
       "    <tr style=\"text-align: right;\">\n",
       "      <th></th>\n",
       "      <th>col1</th>\n",
       "      <th>col2</th>\n",
       "      <th>col3</th>\n",
       "    </tr>\n",
       "  </thead>\n",
       "  <tbody>\n",
       "    <tr>\n",
       "      <th>0</th>\n",
       "      <td>0.000000</td>\n",
       "      <td>1.414214</td>\n",
       "      <td>1.000000</td>\n",
       "    </tr>\n",
       "    <tr>\n",
       "      <th>1</th>\n",
       "      <td>1.414214</td>\n",
       "      <td>1.732051</td>\n",
       "      <td>1.732051</td>\n",
       "    </tr>\n",
       "    <tr>\n",
       "      <th>2</th>\n",
       "      <td>2.000000</td>\n",
       "      <td>2.000000</td>\n",
       "      <td>1.414214</td>\n",
       "    </tr>\n",
       "    <tr>\n",
       "      <th>3</th>\n",
       "      <td>1.414214</td>\n",
       "      <td>2.236068</td>\n",
       "      <td>2.000000</td>\n",
       "    </tr>\n",
       "    <tr>\n",
       "      <th>4</th>\n",
       "      <td>2.000000</td>\n",
       "      <td>2.449490</td>\n",
       "      <td>3.000000</td>\n",
       "    </tr>\n",
       "  </tbody>\n",
       "</table>\n",
       "</div>"
      ],
      "text/plain": [
       "       col1      col2      col3\n",
       "0  0.000000  1.414214  1.000000\n",
       "1  1.414214  1.732051  1.732051\n",
       "2  2.000000  2.000000  1.414214\n",
       "3  1.414214  2.236068  2.000000\n",
       "4  2.000000  2.449490  3.000000"
      ]
     },
     "execution_count": 173,
     "metadata": {},
     "output_type": "execute_result"
    }
   ],
   "source": [
    "# numpy 함수는 사용가능.\n",
    "# f2는 스칼라를 입력받아 스칼라를 반환함.\n",
    "# numpy의 sqrt는 벡터화 되어있는 함수라서 가능함.\n",
    "df.applymap(np.sqrt)"
   ]
  },
  {
   "cell_type": "code",
   "execution_count": 174,
   "id": "913d8e67-b618-4d9a-94dd-cbb2772b42f4",
   "metadata": {},
   "outputs": [
    {
     "data": {
      "text/html": [
       "<div>\n",
       "<style scoped>\n",
       "    .dataframe tbody tr th:only-of-type {\n",
       "        vertical-align: middle;\n",
       "    }\n",
       "\n",
       "    .dataframe tbody tr th {\n",
       "        vertical-align: top;\n",
       "    }\n",
       "\n",
       "    .dataframe thead th {\n",
       "        text-align: right;\n",
       "    }\n",
       "</style>\n",
       "<table border=\"1\" class=\"dataframe\">\n",
       "  <thead>\n",
       "    <tr style=\"text-align: right;\">\n",
       "      <th></th>\n",
       "      <th>col1</th>\n",
       "      <th>col2</th>\n",
       "      <th>col3</th>\n",
       "    </tr>\n",
       "  </thead>\n",
       "  <tbody>\n",
       "    <tr>\n",
       "      <th>0</th>\n",
       "      <td>0.000000</td>\n",
       "      <td>1.414214</td>\n",
       "      <td>1.000000</td>\n",
       "    </tr>\n",
       "    <tr>\n",
       "      <th>1</th>\n",
       "      <td>1.414214</td>\n",
       "      <td>1.732051</td>\n",
       "      <td>1.732051</td>\n",
       "    </tr>\n",
       "    <tr>\n",
       "      <th>2</th>\n",
       "      <td>2.000000</td>\n",
       "      <td>2.000000</td>\n",
       "      <td>1.414214</td>\n",
       "    </tr>\n",
       "    <tr>\n",
       "      <th>3</th>\n",
       "      <td>1.414214</td>\n",
       "      <td>2.236068</td>\n",
       "      <td>2.000000</td>\n",
       "    </tr>\n",
       "    <tr>\n",
       "      <th>4</th>\n",
       "      <td>2.000000</td>\n",
       "      <td>2.449490</td>\n",
       "      <td>3.000000</td>\n",
       "    </tr>\n",
       "  </tbody>\n",
       "</table>\n",
       "</div>"
      ],
      "text/plain": [
       "       col1      col2      col3\n",
       "0  0.000000  1.414214  1.000000\n",
       "1  1.414214  1.732051  1.732051\n",
       "2  2.000000  2.000000  1.414214\n",
       "3  1.414214  2.236068  2.000000\n",
       "4  2.000000  2.449490  3.000000"
      ]
     },
     "execution_count": 174,
     "metadata": {},
     "output_type": "execute_result"
    }
   ],
   "source": [
    "df.apply(np.sqrt)"
   ]
  },
  {
   "cell_type": "code",
   "execution_count": 175,
   "id": "0cac770b-12e1-41c0-9ad2-cadb67e6e7ff",
   "metadata": {},
   "outputs": [
    {
     "name": "stdout",
     "output_type": "stream",
     "text": [
      "354 µs ± 3.01 µs per loop (mean ± std. dev. of 7 runs, 1000 loops each)\n"
     ]
    }
   ],
   "source": [
    "%%timeit\n",
    "df.applymap(np.sqrt)"
   ]
  },
  {
   "cell_type": "code",
   "execution_count": 176,
   "id": "481ad261-cca0-447d-8e83-13a9c6cf2188",
   "metadata": {},
   "outputs": [
    {
     "name": "stdout",
     "output_type": "stream",
     "text": [
      "22.2 µs ± 275 ns per loop (mean ± std. dev. of 7 runs, 10000 loops each)\n"
     ]
    }
   ],
   "source": [
    "%%timeit\n",
    "df.apply(np.sqrt)"
   ]
  },
  {
   "cell_type": "code",
   "execution_count": 177,
   "id": "92237c0b-2ff7-488a-a9c6-41949acbf772",
   "metadata": {},
   "outputs": [],
   "source": [
    "# apply 함수가 10배 이상 빠름!"
   ]
  },
  {
   "cell_type": "markdown",
   "id": "56d80ecb-46c6-46eb-8034-30ef47a9591c",
   "metadata": {},
   "source": [
    "## pipe : DataFrame 전체에 함수 적용"
   ]
  },
  {
   "cell_type": "code",
   "execution_count": 179,
   "id": "e89b53ed-7e06-4562-bead-9598152e0443",
   "metadata": {},
   "outputs": [],
   "source": [
    "# df.pipe(f2) value Error 발생"
   ]
  },
  {
   "cell_type": "code",
   "execution_count": 180,
   "id": "f0aefd62-9ee3-46ab-b611-9853dd8a3339",
   "metadata": {},
   "outputs": [
    {
     "data": {
      "text/html": [
       "<div>\n",
       "<style scoped>\n",
       "    .dataframe tbody tr th:only-of-type {\n",
       "        vertical-align: middle;\n",
       "    }\n",
       "\n",
       "    .dataframe tbody tr th {\n",
       "        vertical-align: top;\n",
       "    }\n",
       "\n",
       "    .dataframe thead th {\n",
       "        text-align: right;\n",
       "    }\n",
       "</style>\n",
       "<table border=\"1\" class=\"dataframe\">\n",
       "  <thead>\n",
       "    <tr style=\"text-align: right;\">\n",
       "      <th></th>\n",
       "      <th>col1</th>\n",
       "      <th>col2</th>\n",
       "      <th>col3</th>\n",
       "    </tr>\n",
       "  </thead>\n",
       "  <tbody>\n",
       "    <tr>\n",
       "      <th>0</th>\n",
       "      <td>0.000000</td>\n",
       "      <td>1.414214</td>\n",
       "      <td>1.000000</td>\n",
       "    </tr>\n",
       "    <tr>\n",
       "      <th>1</th>\n",
       "      <td>1.414214</td>\n",
       "      <td>1.732051</td>\n",
       "      <td>1.732051</td>\n",
       "    </tr>\n",
       "    <tr>\n",
       "      <th>2</th>\n",
       "      <td>2.000000</td>\n",
       "      <td>2.000000</td>\n",
       "      <td>1.414214</td>\n",
       "    </tr>\n",
       "    <tr>\n",
       "      <th>3</th>\n",
       "      <td>1.414214</td>\n",
       "      <td>2.236068</td>\n",
       "      <td>2.000000</td>\n",
       "    </tr>\n",
       "    <tr>\n",
       "      <th>4</th>\n",
       "      <td>2.000000</td>\n",
       "      <td>2.449490</td>\n",
       "      <td>3.000000</td>\n",
       "    </tr>\n",
       "  </tbody>\n",
       "</table>\n",
       "</div>"
      ],
      "text/plain": [
       "       col1      col2      col3\n",
       "0  0.000000  1.414214  1.000000\n",
       "1  1.414214  1.732051  1.732051\n",
       "2  2.000000  2.000000  1.414214\n",
       "3  1.414214  2.236068  2.000000\n",
       "4  2.000000  2.449490  3.000000"
      ]
     },
     "execution_count": 180,
     "metadata": {},
     "output_type": "execute_result"
    }
   ],
   "source": [
    "df.pipe(np.sqrt)  #numpy 함수는 벡터화 되어있어서 2차원 배열을 입력으로 받아 반환할 수 있기 때문."
   ]
  },
  {
   "cell_type": "code",
   "execution_count": 181,
   "id": "b2344f28-5e4a-40b8-93b7-2874dd1712d3",
   "metadata": {},
   "outputs": [
    {
     "data": {
      "text/html": [
       "<div>\n",
       "<style scoped>\n",
       "    .dataframe tbody tr th:only-of-type {\n",
       "        vertical-align: middle;\n",
       "    }\n",
       "\n",
       "    .dataframe tbody tr th {\n",
       "        vertical-align: top;\n",
       "    }\n",
       "\n",
       "    .dataframe thead th {\n",
       "        text-align: right;\n",
       "    }\n",
       "</style>\n",
       "<table border=\"1\" class=\"dataframe\">\n",
       "  <thead>\n",
       "    <tr style=\"text-align: right;\">\n",
       "      <th></th>\n",
       "      <th>col1</th>\n",
       "      <th>col2</th>\n",
       "      <th>col3</th>\n",
       "    </tr>\n",
       "  </thead>\n",
       "  <tbody>\n",
       "    <tr>\n",
       "      <th>0</th>\n",
       "      <td>0</td>\n",
       "      <td>2</td>\n",
       "      <td>1</td>\n",
       "    </tr>\n",
       "    <tr>\n",
       "      <th>1</th>\n",
       "      <td>2</td>\n",
       "      <td>3</td>\n",
       "      <td>3</td>\n",
       "    </tr>\n",
       "    <tr>\n",
       "      <th>2</th>\n",
       "      <td>4</td>\n",
       "      <td>4</td>\n",
       "      <td>2</td>\n",
       "    </tr>\n",
       "    <tr>\n",
       "      <th>3</th>\n",
       "      <td>2</td>\n",
       "      <td>5</td>\n",
       "      <td>4</td>\n",
       "    </tr>\n",
       "    <tr>\n",
       "      <th>4</th>\n",
       "      <td>4</td>\n",
       "      <td>6</td>\n",
       "      <td>9</td>\n",
       "    </tr>\n",
       "  </tbody>\n",
       "</table>\n",
       "</div>"
      ],
      "text/plain": [
       "   col1  col2  col3\n",
       "0     0     2     1\n",
       "1     2     3     3\n",
       "2     4     4     2\n",
       "3     2     5     4\n",
       "4     4     6     9"
      ]
     },
     "execution_count": 181,
     "metadata": {},
     "output_type": "execute_result"
    }
   ],
   "source": [
    "df"
   ]
  },
  {
   "cell_type": "code",
   "execution_count": 182,
   "id": "3d9ece56-844a-41db-b20f-bbee49242937",
   "metadata": {},
   "outputs": [],
   "source": [
    "f3 = lambda x : x['col1'] * x['col2']"
   ]
  },
  {
   "cell_type": "code",
   "execution_count": 183,
   "id": "a3af1f36-5369-4325-92ac-19cd5e05a66e",
   "metadata": {},
   "outputs": [
    {
     "data": {
      "text/plain": [
       "0     0\n",
       "1     6\n",
       "2    16\n",
       "3    10\n",
       "4    24\n",
       "dtype: int64"
      ]
     },
     "execution_count": 183,
     "metadata": {},
     "output_type": "execute_result"
    }
   ],
   "source": [
    "df.pipe(f3)"
   ]
  },
  {
   "cell_type": "code",
   "execution_count": 184,
   "id": "f2c61b2f-75b5-4e12-8ba8-f1ab816e7e91",
   "metadata": {},
   "outputs": [
    {
     "data": {
      "text/plain": [
       "0     0\n",
       "1     6\n",
       "2    16\n",
       "3    10\n",
       "4    24\n",
       "dtype: int64"
      ]
     },
     "execution_count": 184,
     "metadata": {},
     "output_type": "execute_result"
    }
   ],
   "source": [
    "df['col1'] * df['col2']"
   ]
  },
  {
   "cell_type": "code",
   "execution_count": 185,
   "id": "5ac17d94-b425-4a6f-a5d8-a971abc958bb",
   "metadata": {},
   "outputs": [
    {
     "name": "stdout",
     "output_type": "stream",
     "text": [
      "44.6 µs ± 265 ns per loop (mean ± std. dev. of 7 runs, 10000 loops each)\n"
     ]
    }
   ],
   "source": [
    "%%timeit\n",
    "df.pipe(f3)"
   ]
  },
  {
   "cell_type": "code",
   "execution_count": 186,
   "id": "9cc62e37-463a-4b92-807b-628f1623721a",
   "metadata": {},
   "outputs": [
    {
     "name": "stdout",
     "output_type": "stream",
     "text": [
      "43.9 µs ± 747 ns per loop (mean ± std. dev. of 7 runs, 10000 loops each)\n"
     ]
    }
   ],
   "source": [
    "%%timeit\n",
    "df['col1'] * df['col2']"
   ]
  },
  {
   "cell_type": "markdown",
   "id": "e6473ad7-e235-4888-aa60-000d93ff7685",
   "metadata": {},
   "source": [
    "## Dataset에서 임의의 샘플 추출하기\n",
    "- pandas.DataFrame.sample"
   ]
  },
  {
   "cell_type": "code",
   "execution_count": 189,
   "id": "11b3e11e-3dd4-4796-9b09-5a7bdf188c6d",
   "metadata": {},
   "outputs": [
    {
     "data": {
      "text/html": [
       "<div>\n",
       "<style scoped>\n",
       "    .dataframe tbody tr th:only-of-type {\n",
       "        vertical-align: middle;\n",
       "    }\n",
       "\n",
       "    .dataframe tbody tr th {\n",
       "        vertical-align: top;\n",
       "    }\n",
       "\n",
       "    .dataframe thead th {\n",
       "        text-align: right;\n",
       "    }\n",
       "</style>\n",
       "<table border=\"1\" class=\"dataframe\">\n",
       "  <thead>\n",
       "    <tr style=\"text-align: right;\">\n",
       "      <th></th>\n",
       "      <th>학번</th>\n",
       "      <th>소속</th>\n",
       "      <th>학년</th>\n",
       "      <th>과제1</th>\n",
       "      <th>과제2</th>\n",
       "      <th>과제3</th>\n",
       "      <th>과제4</th>\n",
       "      <th>과제5</th>\n",
       "      <th>과제6</th>\n",
       "      <th>과제7</th>\n",
       "      <th>과제8</th>\n",
       "    </tr>\n",
       "    <tr>\n",
       "      <th>이름</th>\n",
       "      <th></th>\n",
       "      <th></th>\n",
       "      <th></th>\n",
       "      <th></th>\n",
       "      <th></th>\n",
       "      <th></th>\n",
       "      <th></th>\n",
       "      <th></th>\n",
       "      <th></th>\n",
       "      <th></th>\n",
       "      <th></th>\n",
       "    </tr>\n",
       "  </thead>\n",
       "  <tbody>\n",
       "    <tr>\n",
       "      <th>길은영</th>\n",
       "      <td>20267377</td>\n",
       "      <td>일본학과</td>\n",
       "      <td>3</td>\n",
       "      <td>61</td>\n",
       "      <td>69</td>\n",
       "      <td>46</td>\n",
       "      <td>79</td>\n",
       "      <td>57</td>\n",
       "      <td>77</td>\n",
       "      <td>56</td>\n",
       "      <td>65</td>\n",
       "    </tr>\n",
       "    <tr>\n",
       "      <th>임희윤</th>\n",
       "      <td>20337377</td>\n",
       "      <td>심리학과</td>\n",
       "      <td>2</td>\n",
       "      <td>76</td>\n",
       "      <td>62</td>\n",
       "      <td>62</td>\n",
       "      <td>64</td>\n",
       "      <td>77</td>\n",
       "      <td>100</td>\n",
       "      <td>51</td>\n",
       "      <td>94</td>\n",
       "    </tr>\n",
       "    <tr>\n",
       "      <th>류준산</th>\n",
       "      <td>20266173</td>\n",
       "      <td>경제학과</td>\n",
       "      <td>2</td>\n",
       "      <td>98</td>\n",
       "      <td>84</td>\n",
       "      <td>79</td>\n",
       "      <td>87</td>\n",
       "      <td>70</td>\n",
       "      <td>97</td>\n",
       "      <td>89</td>\n",
       "      <td>52</td>\n",
       "    </tr>\n",
       "    <tr>\n",
       "      <th>한성빈</th>\n",
       "      <td>20314864</td>\n",
       "      <td>경제학과</td>\n",
       "      <td>3</td>\n",
       "      <td>75</td>\n",
       "      <td>63</td>\n",
       "      <td>59</td>\n",
       "      <td>81</td>\n",
       "      <td>83</td>\n",
       "      <td>90</td>\n",
       "      <td>93</td>\n",
       "      <td>71</td>\n",
       "    </tr>\n",
       "    <tr>\n",
       "      <th>김화원</th>\n",
       "      <td>20277416</td>\n",
       "      <td>경영학과</td>\n",
       "      <td>3</td>\n",
       "      <td>45</td>\n",
       "      <td>90</td>\n",
       "      <td>86</td>\n",
       "      <td>94</td>\n",
       "      <td>94</td>\n",
       "      <td>52</td>\n",
       "      <td>76</td>\n",
       "      <td>84</td>\n",
       "    </tr>\n",
       "  </tbody>\n",
       "</table>\n",
       "</div>"
      ],
      "text/plain": [
       "           학번    소속  학년  과제1  과제2  과제3  과제4  과제5  과제6  과제7  과제8\n",
       "이름                                                             \n",
       "길은영  20267377  일본학과   3   61   69   46   79   57   77   56   65\n",
       "임희윤  20337377  심리학과   2   76   62   62   64   77  100   51   94\n",
       "류준산  20266173  경제학과   2   98   84   79   87   70   97   89   52\n",
       "한성빈  20314864  경제학과   3   75   63   59   81   83   90   93   71\n",
       "김화원  20277416  경영학과   3   45   90   86   94   94   52   76   84"
      ]
     },
     "execution_count": 189,
     "metadata": {},
     "output_type": "execute_result"
    }
   ],
   "source": [
    "scores.head()"
   ]
  },
  {
   "cell_type": "code",
   "execution_count": 191,
   "id": "5ada80a2-72cb-4610-9e3d-8026eb47b73b",
   "metadata": {},
   "outputs": [
    {
     "data": {
      "text/html": [
       "<div>\n",
       "<style scoped>\n",
       "    .dataframe tbody tr th:only-of-type {\n",
       "        vertical-align: middle;\n",
       "    }\n",
       "\n",
       "    .dataframe tbody tr th {\n",
       "        vertical-align: top;\n",
       "    }\n",
       "\n",
       "    .dataframe thead th {\n",
       "        text-align: right;\n",
       "    }\n",
       "</style>\n",
       "<table border=\"1\" class=\"dataframe\">\n",
       "  <thead>\n",
       "    <tr style=\"text-align: right;\">\n",
       "      <th></th>\n",
       "      <th>학번</th>\n",
       "      <th>소속</th>\n",
       "      <th>학년</th>\n",
       "      <th>과제1</th>\n",
       "      <th>과제2</th>\n",
       "      <th>과제3</th>\n",
       "      <th>과제4</th>\n",
       "      <th>과제5</th>\n",
       "      <th>과제6</th>\n",
       "      <th>과제7</th>\n",
       "      <th>과제8</th>\n",
       "    </tr>\n",
       "    <tr>\n",
       "      <th>이름</th>\n",
       "      <th></th>\n",
       "      <th></th>\n",
       "      <th></th>\n",
       "      <th></th>\n",
       "      <th></th>\n",
       "      <th></th>\n",
       "      <th></th>\n",
       "      <th></th>\n",
       "      <th></th>\n",
       "      <th></th>\n",
       "      <th></th>\n",
       "    </tr>\n",
       "  </thead>\n",
       "  <tbody>\n",
       "    <tr>\n",
       "      <th>김주성</th>\n",
       "      <td>20257459</td>\n",
       "      <td>빅데이터전공</td>\n",
       "      <td>3</td>\n",
       "      <td>67</td>\n",
       "      <td>89</td>\n",
       "      <td>65</td>\n",
       "      <td>70</td>\n",
       "      <td>58</td>\n",
       "      <td>46</td>\n",
       "      <td>89</td>\n",
       "      <td>59</td>\n",
       "    </tr>\n",
       "    <tr>\n",
       "      <th>김화원</th>\n",
       "      <td>20277416</td>\n",
       "      <td>경영학과</td>\n",
       "      <td>3</td>\n",
       "      <td>45</td>\n",
       "      <td>90</td>\n",
       "      <td>86</td>\n",
       "      <td>94</td>\n",
       "      <td>94</td>\n",
       "      <td>52</td>\n",
       "      <td>76</td>\n",
       "      <td>84</td>\n",
       "    </tr>\n",
       "    <tr>\n",
       "      <th>현상연</th>\n",
       "      <td>20328616</td>\n",
       "      <td>빅데이터전공</td>\n",
       "      <td>2</td>\n",
       "      <td>96</td>\n",
       "      <td>91</td>\n",
       "      <td>85</td>\n",
       "      <td>78</td>\n",
       "      <td>77</td>\n",
       "      <td>57</td>\n",
       "      <td>65</td>\n",
       "      <td>59</td>\n",
       "    </tr>\n",
       "    <tr>\n",
       "      <th>권태민</th>\n",
       "      <td>20316593</td>\n",
       "      <td>전자공학과</td>\n",
       "      <td>3</td>\n",
       "      <td>98</td>\n",
       "      <td>72</td>\n",
       "      <td>84</td>\n",
       "      <td>59</td>\n",
       "      <td>89</td>\n",
       "      <td>73</td>\n",
       "      <td>59</td>\n",
       "      <td>71</td>\n",
       "    </tr>\n",
       "    <tr>\n",
       "      <th>이소원</th>\n",
       "      <td>20274870</td>\n",
       "      <td>전자공학과</td>\n",
       "      <td>2</td>\n",
       "      <td>61</td>\n",
       "      <td>69</td>\n",
       "      <td>52</td>\n",
       "      <td>66</td>\n",
       "      <td>62</td>\n",
       "      <td>65</td>\n",
       "      <td>67</td>\n",
       "      <td>70</td>\n",
       "    </tr>\n",
       "    <tr>\n",
       "      <th>구준찬</th>\n",
       "      <td>20318889</td>\n",
       "      <td>소프트웨어융합대학</td>\n",
       "      <td>1</td>\n",
       "      <td>57</td>\n",
       "      <td>79</td>\n",
       "      <td>60</td>\n",
       "      <td>58</td>\n",
       "      <td>75</td>\n",
       "      <td>65</td>\n",
       "      <td>81</td>\n",
       "      <td>61</td>\n",
       "    </tr>\n",
       "    <tr>\n",
       "      <th>나동민</th>\n",
       "      <td>20267452</td>\n",
       "      <td>콘텐츠IT전공</td>\n",
       "      <td>3</td>\n",
       "      <td>71</td>\n",
       "      <td>69</td>\n",
       "      <td>89</td>\n",
       "      <td>90</td>\n",
       "      <td>84</td>\n",
       "      <td>60</td>\n",
       "      <td>71</td>\n",
       "      <td>96</td>\n",
       "    </tr>\n",
       "    <tr>\n",
       "      <th>류상수</th>\n",
       "      <td>20317399</td>\n",
       "      <td>스마트IoT전공</td>\n",
       "      <td>2</td>\n",
       "      <td>95</td>\n",
       "      <td>67</td>\n",
       "      <td>49</td>\n",
       "      <td>99</td>\n",
       "      <td>43</td>\n",
       "      <td>53</td>\n",
       "      <td>100</td>\n",
       "      <td>78</td>\n",
       "    </tr>\n",
       "    <tr>\n",
       "      <th>윤원헌</th>\n",
       "      <td>20287476</td>\n",
       "      <td>빅데이터전공</td>\n",
       "      <td>3</td>\n",
       "      <td>98</td>\n",
       "      <td>98</td>\n",
       "      <td>80</td>\n",
       "      <td>72</td>\n",
       "      <td>80</td>\n",
       "      <td>65</td>\n",
       "      <td>89</td>\n",
       "      <td>88</td>\n",
       "    </tr>\n",
       "    <tr>\n",
       "      <th>김성혁</th>\n",
       "      <td>20287422</td>\n",
       "      <td>소프트웨어융합대학</td>\n",
       "      <td>1</td>\n",
       "      <td>93</td>\n",
       "      <td>81</td>\n",
       "      <td>99</td>\n",
       "      <td>88</td>\n",
       "      <td>55</td>\n",
       "      <td>45</td>\n",
       "      <td>81</td>\n",
       "      <td>95</td>\n",
       "    </tr>\n",
       "  </tbody>\n",
       "</table>\n",
       "</div>"
      ],
      "text/plain": [
       "           학번         소속  학년  과제1  과제2  과제3  과제4  과제5  과제6  과제7  과제8\n",
       "이름                                                                  \n",
       "김주성  20257459     빅데이터전공   3   67   89   65   70   58   46   89   59\n",
       "김화원  20277416       경영학과   3   45   90   86   94   94   52   76   84\n",
       "현상연  20328616     빅데이터전공   2   96   91   85   78   77   57   65   59\n",
       "권태민  20316593      전자공학과   3   98   72   84   59   89   73   59   71\n",
       "이소원  20274870      전자공학과   2   61   69   52   66   62   65   67   70\n",
       "구준찬  20318889  소프트웨어융합대학   1   57   79   60   58   75   65   81   61\n",
       "나동민  20267452    콘텐츠IT전공   3   71   69   89   90   84   60   71   96\n",
       "류상수  20317399   스마트IoT전공   2   95   67   49   99   43   53  100   78\n",
       "윤원헌  20287476     빅데이터전공   3   98   98   80   72   80   65   89   88\n",
       "김성혁  20287422  소프트웨어융합대학   1   93   81   99   88   55   45   81   95"
      ]
     },
     "execution_count": 191,
     "metadata": {},
     "output_type": "execute_result"
    }
   ],
   "source": [
    "# 실행할 때 마다 무작위의 n개의 행 반환\n",
    "scores.sample(10)"
   ]
  },
  {
   "cell_type": "code",
   "execution_count": 196,
   "id": "5b2b28c5-8868-4484-a976-52a0c2434363",
   "metadata": {},
   "outputs": [
    {
     "data": {
      "text/html": [
       "<div>\n",
       "<style scoped>\n",
       "    .dataframe tbody tr th:only-of-type {\n",
       "        vertical-align: middle;\n",
       "    }\n",
       "\n",
       "    .dataframe tbody tr th {\n",
       "        vertical-align: top;\n",
       "    }\n",
       "\n",
       "    .dataframe thead th {\n",
       "        text-align: right;\n",
       "    }\n",
       "</style>\n",
       "<table border=\"1\" class=\"dataframe\">\n",
       "  <thead>\n",
       "    <tr style=\"text-align: right;\">\n",
       "      <th></th>\n",
       "      <th>학번</th>\n",
       "      <th>소속</th>\n",
       "      <th>학년</th>\n",
       "      <th>과제1</th>\n",
       "      <th>과제2</th>\n",
       "      <th>과제3</th>\n",
       "      <th>과제4</th>\n",
       "      <th>과제5</th>\n",
       "      <th>과제6</th>\n",
       "      <th>과제7</th>\n",
       "      <th>과제8</th>\n",
       "    </tr>\n",
       "    <tr>\n",
       "      <th>이름</th>\n",
       "      <th></th>\n",
       "      <th></th>\n",
       "      <th></th>\n",
       "      <th></th>\n",
       "      <th></th>\n",
       "      <th></th>\n",
       "      <th></th>\n",
       "      <th></th>\n",
       "      <th></th>\n",
       "      <th></th>\n",
       "      <th></th>\n",
       "    </tr>\n",
       "  </thead>\n",
       "  <tbody>\n",
       "    <tr>\n",
       "      <th>길은영</th>\n",
       "      <td>20267377</td>\n",
       "      <td>일본학과</td>\n",
       "      <td>3</td>\n",
       "      <td>61</td>\n",
       "      <td>69</td>\n",
       "      <td>46</td>\n",
       "      <td>79</td>\n",
       "      <td>57</td>\n",
       "      <td>77</td>\n",
       "      <td>56</td>\n",
       "      <td>65</td>\n",
       "    </tr>\n",
       "    <tr>\n",
       "      <th>조대욱</th>\n",
       "      <td>20256200</td>\n",
       "      <td>빅데이터전공</td>\n",
       "      <td>3</td>\n",
       "      <td>95</td>\n",
       "      <td>60</td>\n",
       "      <td>69</td>\n",
       "      <td>60</td>\n",
       "      <td>56</td>\n",
       "      <td>86</td>\n",
       "      <td>66</td>\n",
       "      <td>67</td>\n",
       "    </tr>\n",
       "    <tr>\n",
       "      <th>이재지</th>\n",
       "      <td>20297439</td>\n",
       "      <td>스마트IoT전공</td>\n",
       "      <td>2</td>\n",
       "      <td>74</td>\n",
       "      <td>55</td>\n",
       "      <td>99</td>\n",
       "      <td>100</td>\n",
       "      <td>89</td>\n",
       "      <td>83</td>\n",
       "      <td>60</td>\n",
       "      <td>73</td>\n",
       "    </tr>\n",
       "    <tr>\n",
       "      <th>함재원</th>\n",
       "      <td>20317303</td>\n",
       "      <td>콘텐츠IT전공</td>\n",
       "      <td>2</td>\n",
       "      <td>82</td>\n",
       "      <td>67</td>\n",
       "      <td>79</td>\n",
       "      <td>89</td>\n",
       "      <td>74</td>\n",
       "      <td>71</td>\n",
       "      <td>60</td>\n",
       "      <td>57</td>\n",
       "    </tr>\n",
       "    <tr>\n",
       "      <th>안주영</th>\n",
       "      <td>20255886</td>\n",
       "      <td>빅데이터전공</td>\n",
       "      <td>3</td>\n",
       "      <td>52</td>\n",
       "      <td>80</td>\n",
       "      <td>96</td>\n",
       "      <td>48</td>\n",
       "      <td>66</td>\n",
       "      <td>57</td>\n",
       "      <td>93</td>\n",
       "      <td>56</td>\n",
       "    </tr>\n",
       "    <tr>\n",
       "      <th>이지훈</th>\n",
       "      <td>20327392</td>\n",
       "      <td>빅데이터전공</td>\n",
       "      <td>2</td>\n",
       "      <td>91</td>\n",
       "      <td>90</td>\n",
       "      <td>76</td>\n",
       "      <td>90</td>\n",
       "      <td>87</td>\n",
       "      <td>91</td>\n",
       "      <td>72</td>\n",
       "      <td>69</td>\n",
       "    </tr>\n",
       "    <tr>\n",
       "      <th>김재성</th>\n",
       "      <td>20308862</td>\n",
       "      <td>ICT융합전공</td>\n",
       "      <td>3</td>\n",
       "      <td>85</td>\n",
       "      <td>92</td>\n",
       "      <td>92</td>\n",
       "      <td>45</td>\n",
       "      <td>81</td>\n",
       "      <td>67</td>\n",
       "      <td>78</td>\n",
       "      <td>58</td>\n",
       "    </tr>\n",
       "    <tr>\n",
       "      <th>김주성</th>\n",
       "      <td>20257459</td>\n",
       "      <td>빅데이터전공</td>\n",
       "      <td>3</td>\n",
       "      <td>67</td>\n",
       "      <td>89</td>\n",
       "      <td>65</td>\n",
       "      <td>70</td>\n",
       "      <td>58</td>\n",
       "      <td>46</td>\n",
       "      <td>89</td>\n",
       "      <td>59</td>\n",
       "    </tr>\n",
       "    <tr>\n",
       "      <th>강화윤</th>\n",
       "      <td>20278703</td>\n",
       "      <td>생명과학과</td>\n",
       "      <td>3</td>\n",
       "      <td>77</td>\n",
       "      <td>60</td>\n",
       "      <td>73</td>\n",
       "      <td>87</td>\n",
       "      <td>56</td>\n",
       "      <td>88</td>\n",
       "      <td>93</td>\n",
       "      <td>75</td>\n",
       "    </tr>\n",
       "    <tr>\n",
       "      <th>이재수</th>\n",
       "      <td>20327371</td>\n",
       "      <td>콘텐츠IT전공</td>\n",
       "      <td>2</td>\n",
       "      <td>56</td>\n",
       "      <td>86</td>\n",
       "      <td>98</td>\n",
       "      <td>85</td>\n",
       "      <td>65</td>\n",
       "      <td>70</td>\n",
       "      <td>93</td>\n",
       "      <td>57</td>\n",
       "    </tr>\n",
       "    <tr>\n",
       "      <th>함민윤</th>\n",
       "      <td>20287478</td>\n",
       "      <td>빅데이터전공</td>\n",
       "      <td>2</td>\n",
       "      <td>47</td>\n",
       "      <td>70</td>\n",
       "      <td>100</td>\n",
       "      <td>77</td>\n",
       "      <td>97</td>\n",
       "      <td>63</td>\n",
       "      <td>46</td>\n",
       "      <td>84</td>\n",
       "    </tr>\n",
       "    <tr>\n",
       "      <th>김태찬</th>\n",
       "      <td>20327409</td>\n",
       "      <td>콘텐츠IT전공</td>\n",
       "      <td>2</td>\n",
       "      <td>76</td>\n",
       "      <td>78</td>\n",
       "      <td>85</td>\n",
       "      <td>95</td>\n",
       "      <td>76</td>\n",
       "      <td>64</td>\n",
       "      <td>91</td>\n",
       "      <td>96</td>\n",
       "    </tr>\n",
       "    <tr>\n",
       "      <th>이강현</th>\n",
       "      <td>20297381</td>\n",
       "      <td>빅데이터전공</td>\n",
       "      <td>2</td>\n",
       "      <td>55</td>\n",
       "      <td>91</td>\n",
       "      <td>90</td>\n",
       "      <td>59</td>\n",
       "      <td>59</td>\n",
       "      <td>94</td>\n",
       "      <td>66</td>\n",
       "      <td>94</td>\n",
       "    </tr>\n",
       "    <tr>\n",
       "      <th>구영수</th>\n",
       "      <td>20317381</td>\n",
       "      <td>빅데이터전공</td>\n",
       "      <td>2</td>\n",
       "      <td>59</td>\n",
       "      <td>64</td>\n",
       "      <td>60</td>\n",
       "      <td>70</td>\n",
       "      <td>74</td>\n",
       "      <td>100</td>\n",
       "      <td>58</td>\n",
       "      <td>86</td>\n",
       "    </tr>\n",
       "    <tr>\n",
       "      <th>김여환</th>\n",
       "      <td>20277462</td>\n",
       "      <td>빅데이터전공</td>\n",
       "      <td>2</td>\n",
       "      <td>64</td>\n",
       "      <td>65</td>\n",
       "      <td>87</td>\n",
       "      <td>66</td>\n",
       "      <td>92</td>\n",
       "      <td>76</td>\n",
       "      <td>78</td>\n",
       "      <td>97</td>\n",
       "    </tr>\n",
       "    <tr>\n",
       "      <th>류성연</th>\n",
       "      <td>20293832</td>\n",
       "      <td>빅데이터전공</td>\n",
       "      <td>3</td>\n",
       "      <td>78</td>\n",
       "      <td>68</td>\n",
       "      <td>75</td>\n",
       "      <td>88</td>\n",
       "      <td>82</td>\n",
       "      <td>48</td>\n",
       "      <td>98</td>\n",
       "      <td>79</td>\n",
       "    </tr>\n",
       "    <tr>\n",
       "      <th>고병훈</th>\n",
       "      <td>20255161</td>\n",
       "      <td>콘텐츠IT전공</td>\n",
       "      <td>2</td>\n",
       "      <td>99</td>\n",
       "      <td>92</td>\n",
       "      <td>72</td>\n",
       "      <td>47</td>\n",
       "      <td>69</td>\n",
       "      <td>73</td>\n",
       "      <td>48</td>\n",
       "      <td>82</td>\n",
       "    </tr>\n",
       "    <tr>\n",
       "      <th>김소윤</th>\n",
       "      <td>20287329</td>\n",
       "      <td>빅데이터전공</td>\n",
       "      <td>2</td>\n",
       "      <td>52</td>\n",
       "      <td>65</td>\n",
       "      <td>79</td>\n",
       "      <td>69</td>\n",
       "      <td>77</td>\n",
       "      <td>99</td>\n",
       "      <td>62</td>\n",
       "      <td>52</td>\n",
       "    </tr>\n",
       "    <tr>\n",
       "      <th>조승환</th>\n",
       "      <td>20287374</td>\n",
       "      <td>컴퓨터공학과</td>\n",
       "      <td>4</td>\n",
       "      <td>66</td>\n",
       "      <td>66</td>\n",
       "      <td>74</td>\n",
       "      <td>52</td>\n",
       "      <td>93</td>\n",
       "      <td>48</td>\n",
       "      <td>100</td>\n",
       "      <td>83</td>\n",
       "    </tr>\n",
       "  </tbody>\n",
       "</table>\n",
       "</div>"
      ],
      "text/plain": [
       "           학번        소속  학년  과제1  과제2  과제3  과제4  과제5  과제6  과제7  과제8\n",
       "이름                                                                 \n",
       "길은영  20267377      일본학과   3   61   69   46   79   57   77   56   65\n",
       "조대욱  20256200    빅데이터전공   3   95   60   69   60   56   86   66   67\n",
       "이재지  20297439  스마트IoT전공   2   74   55   99  100   89   83   60   73\n",
       "함재원  20317303   콘텐츠IT전공   2   82   67   79   89   74   71   60   57\n",
       "안주영  20255886    빅데이터전공   3   52   80   96   48   66   57   93   56\n",
       "이지훈  20327392    빅데이터전공   2   91   90   76   90   87   91   72   69\n",
       "김재성  20308862   ICT융합전공   3   85   92   92   45   81   67   78   58\n",
       "김주성  20257459    빅데이터전공   3   67   89   65   70   58   46   89   59\n",
       "강화윤  20278703     생명과학과   3   77   60   73   87   56   88   93   75\n",
       "이재수  20327371   콘텐츠IT전공   2   56   86   98   85   65   70   93   57\n",
       "함민윤  20287478    빅데이터전공   2   47   70  100   77   97   63   46   84\n",
       "김태찬  20327409   콘텐츠IT전공   2   76   78   85   95   76   64   91   96\n",
       "이강현  20297381    빅데이터전공   2   55   91   90   59   59   94   66   94\n",
       "구영수  20317381    빅데이터전공   2   59   64   60   70   74  100   58   86\n",
       "김여환  20277462    빅데이터전공   2   64   65   87   66   92   76   78   97\n",
       "류성연  20293832    빅데이터전공   3   78   68   75   88   82   48   98   79\n",
       "고병훈  20255161   콘텐츠IT전공   2   99   92   72   47   69   73   48   82\n",
       "김소윤  20287329    빅데이터전공   2   52   65   79   69   77   99   62   52\n",
       "조승환  20287374    컴퓨터공학과   4   66   66   74   52   93   48  100   83"
      ]
     },
     "execution_count": 196,
     "metadata": {},
     "output_type": "execute_result"
    }
   ],
   "source": [
    "scores.sample(frac = 0.25) # 76 * 0.25 인 19행 반환"
   ]
  },
  {
   "cell_type": "markdown",
   "id": "bea1bfc5-8ae9-461a-8af4-fd97cdf6ef5a",
   "metadata": {},
   "source": [
    "## 데이터 정규화"
   ]
  },
  {
   "cell_type": "code",
   "execution_count": 197,
   "id": "f682f5e4-3a98-459a-b1cb-c1fd0d61f107",
   "metadata": {},
   "outputs": [
    {
     "data": {
      "text/html": [
       "<div>\n",
       "<style scoped>\n",
       "    .dataframe tbody tr th:only-of-type {\n",
       "        vertical-align: middle;\n",
       "    }\n",
       "\n",
       "    .dataframe tbody tr th {\n",
       "        vertical-align: top;\n",
       "    }\n",
       "\n",
       "    .dataframe thead th {\n",
       "        text-align: right;\n",
       "    }\n",
       "</style>\n",
       "<table border=\"1\" class=\"dataframe\">\n",
       "  <thead>\n",
       "    <tr style=\"text-align: right;\">\n",
       "      <th></th>\n",
       "      <th>학번</th>\n",
       "      <th>학년</th>\n",
       "      <th>과제1</th>\n",
       "      <th>과제2</th>\n",
       "      <th>과제3</th>\n",
       "      <th>과제4</th>\n",
       "      <th>과제5</th>\n",
       "      <th>과제6</th>\n",
       "      <th>과제7</th>\n",
       "      <th>과제8</th>\n",
       "    </tr>\n",
       "  </thead>\n",
       "  <tbody>\n",
       "    <tr>\n",
       "      <th>count</th>\n",
       "      <td>7.600000e+01</td>\n",
       "      <td>76.000000</td>\n",
       "      <td>76.000000</td>\n",
       "      <td>76.000000</td>\n",
       "      <td>76.000000</td>\n",
       "      <td>76.000000</td>\n",
       "      <td>76.000000</td>\n",
       "      <td>76.00000</td>\n",
       "      <td>76.000000</td>\n",
       "      <td>76.000000</td>\n",
       "    </tr>\n",
       "    <tr>\n",
       "      <th>mean</th>\n",
       "      <td>2.029755e+07</td>\n",
       "      <td>2.434211</td>\n",
       "      <td>73.710526</td>\n",
       "      <td>72.592105</td>\n",
       "      <td>73.789474</td>\n",
       "      <td>74.736842</td>\n",
       "      <td>73.736842</td>\n",
       "      <td>71.50000</td>\n",
       "      <td>72.763158</td>\n",
       "      <td>76.223684</td>\n",
       "    </tr>\n",
       "    <tr>\n",
       "      <th>std</th>\n",
       "      <td>2.344483e+04</td>\n",
       "      <td>0.821957</td>\n",
       "      <td>16.207666</td>\n",
       "      <td>14.072363</td>\n",
       "      <td>16.248336</td>\n",
       "      <td>16.246738</td>\n",
       "      <td>15.092045</td>\n",
       "      <td>17.79026</td>\n",
       "      <td>16.229905</td>\n",
       "      <td>15.236446</td>\n",
       "    </tr>\n",
       "    <tr>\n",
       "      <th>min</th>\n",
       "      <td>2.025516e+07</td>\n",
       "      <td>1.000000</td>\n",
       "      <td>45.000000</td>\n",
       "      <td>42.000000</td>\n",
       "      <td>41.000000</td>\n",
       "      <td>45.000000</td>\n",
       "      <td>43.000000</td>\n",
       "      <td>41.00000</td>\n",
       "      <td>41.000000</td>\n",
       "      <td>43.000000</td>\n",
       "    </tr>\n",
       "    <tr>\n",
       "      <th>25%</th>\n",
       "      <td>2.027745e+07</td>\n",
       "      <td>2.000000</td>\n",
       "      <td>60.000000</td>\n",
       "      <td>63.000000</td>\n",
       "      <td>60.000000</td>\n",
       "      <td>60.750000</td>\n",
       "      <td>60.000000</td>\n",
       "      <td>57.00000</td>\n",
       "      <td>60.750000</td>\n",
       "      <td>63.500000</td>\n",
       "    </tr>\n",
       "    <tr>\n",
       "      <th>50%</th>\n",
       "      <td>2.029741e+07</td>\n",
       "      <td>2.000000</td>\n",
       "      <td>71.000000</td>\n",
       "      <td>69.500000</td>\n",
       "      <td>74.500000</td>\n",
       "      <td>75.000000</td>\n",
       "      <td>74.500000</td>\n",
       "      <td>71.50000</td>\n",
       "      <td>72.500000</td>\n",
       "      <td>78.000000</td>\n",
       "    </tr>\n",
       "    <tr>\n",
       "      <th>75%</th>\n",
       "      <td>2.031738e+07</td>\n",
       "      <td>3.000000</td>\n",
       "      <td>89.500000</td>\n",
       "      <td>84.000000</td>\n",
       "      <td>87.000000</td>\n",
       "      <td>88.250000</td>\n",
       "      <td>87.000000</td>\n",
       "      <td>88.00000</td>\n",
       "      <td>84.500000</td>\n",
       "      <td>88.500000</td>\n",
       "    </tr>\n",
       "    <tr>\n",
       "      <th>max</th>\n",
       "      <td>2.033740e+07</td>\n",
       "      <td>4.000000</td>\n",
       "      <td>100.000000</td>\n",
       "      <td>99.000000</td>\n",
       "      <td>100.000000</td>\n",
       "      <td>100.000000</td>\n",
       "      <td>100.000000</td>\n",
       "      <td>100.00000</td>\n",
       "      <td>100.000000</td>\n",
       "      <td>100.000000</td>\n",
       "    </tr>\n",
       "  </tbody>\n",
       "</table>\n",
       "</div>"
      ],
      "text/plain": [
       "                 학번         학년         과제1        과제2         과제3         과제4  \\\n",
       "count  7.600000e+01  76.000000   76.000000  76.000000   76.000000   76.000000   \n",
       "mean   2.029755e+07   2.434211   73.710526  72.592105   73.789474   74.736842   \n",
       "std    2.344483e+04   0.821957   16.207666  14.072363   16.248336   16.246738   \n",
       "min    2.025516e+07   1.000000   45.000000  42.000000   41.000000   45.000000   \n",
       "25%    2.027745e+07   2.000000   60.000000  63.000000   60.000000   60.750000   \n",
       "50%    2.029741e+07   2.000000   71.000000  69.500000   74.500000   75.000000   \n",
       "75%    2.031738e+07   3.000000   89.500000  84.000000   87.000000   88.250000   \n",
       "max    2.033740e+07   4.000000  100.000000  99.000000  100.000000  100.000000   \n",
       "\n",
       "              과제5        과제6         과제7         과제8  \n",
       "count   76.000000   76.00000   76.000000   76.000000  \n",
       "mean    73.736842   71.50000   72.763158   76.223684  \n",
       "std     15.092045   17.79026   16.229905   15.236446  \n",
       "min     43.000000   41.00000   41.000000   43.000000  \n",
       "25%     60.000000   57.00000   60.750000   63.500000  \n",
       "50%     74.500000   71.50000   72.500000   78.000000  \n",
       "75%     87.000000   88.00000   84.500000   88.500000  \n",
       "max    100.000000  100.00000  100.000000  100.000000  "
      ]
     },
     "execution_count": 197,
     "metadata": {},
     "output_type": "execute_result"
    }
   ],
   "source": [
    "scores.describe()"
   ]
  },
  {
   "cell_type": "markdown",
   "id": "ab478e57-13df-43f0-b9d0-3f8537f50e4f",
   "metadata": {},
   "source": [
    "## maximum absolute scaling"
   ]
  },
  {
   "cell_type": "code",
   "execution_count": 198,
   "id": "63d71ea9-83bf-4b37-bacf-357ef7ddf596",
   "metadata": {},
   "outputs": [
    {
     "data": {
      "text/html": [
       "<div>\n",
       "<style scoped>\n",
       "    .dataframe tbody tr th:only-of-type {\n",
       "        vertical-align: middle;\n",
       "    }\n",
       "\n",
       "    .dataframe tbody tr th {\n",
       "        vertical-align: top;\n",
       "    }\n",
       "\n",
       "    .dataframe thead th {\n",
       "        text-align: right;\n",
       "    }\n",
       "</style>\n",
       "<table border=\"1\" class=\"dataframe\">\n",
       "  <thead>\n",
       "    <tr style=\"text-align: right;\">\n",
       "      <th></th>\n",
       "      <th>학번</th>\n",
       "      <th>학년</th>\n",
       "      <th>과제1</th>\n",
       "      <th>과제2</th>\n",
       "      <th>과제3</th>\n",
       "      <th>과제4</th>\n",
       "      <th>과제5</th>\n",
       "      <th>과제6</th>\n",
       "      <th>과제7</th>\n",
       "      <th>과제8</th>\n",
       "    </tr>\n",
       "  </thead>\n",
       "  <tbody>\n",
       "    <tr>\n",
       "      <th>count</th>\n",
       "      <td>7.600000e+01</td>\n",
       "      <td>76.000000</td>\n",
       "      <td>76.000000</td>\n",
       "      <td>76.000000</td>\n",
       "      <td>76.000000</td>\n",
       "      <td>76.000000</td>\n",
       "      <td>76.000000</td>\n",
       "      <td>76.000000</td>\n",
       "      <td>76.000000</td>\n",
       "      <td>76.000000</td>\n",
       "    </tr>\n",
       "    <tr>\n",
       "      <th>mean</th>\n",
       "      <td>2.029755e+07</td>\n",
       "      <td>2.434211</td>\n",
       "      <td>0.737105</td>\n",
       "      <td>0.733254</td>\n",
       "      <td>0.737895</td>\n",
       "      <td>0.747368</td>\n",
       "      <td>0.737368</td>\n",
       "      <td>0.715000</td>\n",
       "      <td>0.727632</td>\n",
       "      <td>0.762237</td>\n",
       "    </tr>\n",
       "    <tr>\n",
       "      <th>std</th>\n",
       "      <td>2.344483e+04</td>\n",
       "      <td>0.821957</td>\n",
       "      <td>0.162077</td>\n",
       "      <td>0.142145</td>\n",
       "      <td>0.162483</td>\n",
       "      <td>0.162467</td>\n",
       "      <td>0.150920</td>\n",
       "      <td>0.177903</td>\n",
       "      <td>0.162299</td>\n",
       "      <td>0.152364</td>\n",
       "    </tr>\n",
       "    <tr>\n",
       "      <th>min</th>\n",
       "      <td>2.025516e+07</td>\n",
       "      <td>1.000000</td>\n",
       "      <td>0.450000</td>\n",
       "      <td>0.424242</td>\n",
       "      <td>0.410000</td>\n",
       "      <td>0.450000</td>\n",
       "      <td>0.430000</td>\n",
       "      <td>0.410000</td>\n",
       "      <td>0.410000</td>\n",
       "      <td>0.430000</td>\n",
       "    </tr>\n",
       "    <tr>\n",
       "      <th>25%</th>\n",
       "      <td>2.027745e+07</td>\n",
       "      <td>2.000000</td>\n",
       "      <td>0.600000</td>\n",
       "      <td>0.636364</td>\n",
       "      <td>0.600000</td>\n",
       "      <td>0.607500</td>\n",
       "      <td>0.600000</td>\n",
       "      <td>0.570000</td>\n",
       "      <td>0.607500</td>\n",
       "      <td>0.635000</td>\n",
       "    </tr>\n",
       "    <tr>\n",
       "      <th>50%</th>\n",
       "      <td>2.029741e+07</td>\n",
       "      <td>2.000000</td>\n",
       "      <td>0.710000</td>\n",
       "      <td>0.702020</td>\n",
       "      <td>0.745000</td>\n",
       "      <td>0.750000</td>\n",
       "      <td>0.745000</td>\n",
       "      <td>0.715000</td>\n",
       "      <td>0.725000</td>\n",
       "      <td>0.780000</td>\n",
       "    </tr>\n",
       "    <tr>\n",
       "      <th>75%</th>\n",
       "      <td>2.031738e+07</td>\n",
       "      <td>3.000000</td>\n",
       "      <td>0.895000</td>\n",
       "      <td>0.848485</td>\n",
       "      <td>0.870000</td>\n",
       "      <td>0.882500</td>\n",
       "      <td>0.870000</td>\n",
       "      <td>0.880000</td>\n",
       "      <td>0.845000</td>\n",
       "      <td>0.885000</td>\n",
       "    </tr>\n",
       "    <tr>\n",
       "      <th>max</th>\n",
       "      <td>2.033740e+07</td>\n",
       "      <td>4.000000</td>\n",
       "      <td>1.000000</td>\n",
       "      <td>1.000000</td>\n",
       "      <td>1.000000</td>\n",
       "      <td>1.000000</td>\n",
       "      <td>1.000000</td>\n",
       "      <td>1.000000</td>\n",
       "      <td>1.000000</td>\n",
       "      <td>1.000000</td>\n",
       "    </tr>\n",
       "  </tbody>\n",
       "</table>\n",
       "</div>"
      ],
      "text/plain": [
       "                 학번         학년        과제1        과제2        과제3        과제4  \\\n",
       "count  7.600000e+01  76.000000  76.000000  76.000000  76.000000  76.000000   \n",
       "mean   2.029755e+07   2.434211   0.737105   0.733254   0.737895   0.747368   \n",
       "std    2.344483e+04   0.821957   0.162077   0.142145   0.162483   0.162467   \n",
       "min    2.025516e+07   1.000000   0.450000   0.424242   0.410000   0.450000   \n",
       "25%    2.027745e+07   2.000000   0.600000   0.636364   0.600000   0.607500   \n",
       "50%    2.029741e+07   2.000000   0.710000   0.702020   0.745000   0.750000   \n",
       "75%    2.031738e+07   3.000000   0.895000   0.848485   0.870000   0.882500   \n",
       "max    2.033740e+07   4.000000   1.000000   1.000000   1.000000   1.000000   \n",
       "\n",
       "             과제5        과제6        과제7        과제8  \n",
       "count  76.000000  76.000000  76.000000  76.000000  \n",
       "mean    0.737368   0.715000   0.727632   0.762237  \n",
       "std     0.150920   0.177903   0.162299   0.152364  \n",
       "min     0.430000   0.410000   0.410000   0.430000  \n",
       "25%     0.600000   0.570000   0.607500   0.635000  \n",
       "50%     0.745000   0.715000   0.725000   0.780000  \n",
       "75%     0.870000   0.880000   0.845000   0.885000  \n",
       "max     1.000000   1.000000   1.000000   1.000000  "
      ]
     },
     "execution_count": 198,
     "metadata": {},
     "output_type": "execute_result"
    }
   ],
   "source": [
    "scores_max_scaled = scores.copy()\n",
    "columns = ['과제1', '과제2', '과제3', '과제4', '과제5', '과제6', '과제7', '과제8']\n",
    "\n",
    "for column in columns:\n",
    "    _max = scores_max_scaled[column].abs().max()\n",
    "    scores_max_scaled[column] = scores_max_scaled[column] / _max\n",
    "    \n",
    "scores_max_scaled.describe()"
   ]
  },
  {
   "cell_type": "code",
   "execution_count": 199,
   "id": "5e2584b1-eb46-4d91-93c8-26316f339615",
   "metadata": {},
   "outputs": [
    {
     "data": {
      "text/html": [
       "<div>\n",
       "<style scoped>\n",
       "    .dataframe tbody tr th:only-of-type {\n",
       "        vertical-align: middle;\n",
       "    }\n",
       "\n",
       "    .dataframe tbody tr th {\n",
       "        vertical-align: top;\n",
       "    }\n",
       "\n",
       "    .dataframe thead th {\n",
       "        text-align: right;\n",
       "    }\n",
       "</style>\n",
       "<table border=\"1\" class=\"dataframe\">\n",
       "  <thead>\n",
       "    <tr style=\"text-align: right;\">\n",
       "      <th></th>\n",
       "      <th>학번</th>\n",
       "      <th>학년</th>\n",
       "      <th>과제1</th>\n",
       "      <th>과제2</th>\n",
       "      <th>과제3</th>\n",
       "      <th>과제4</th>\n",
       "      <th>과제5</th>\n",
       "      <th>과제6</th>\n",
       "      <th>과제7</th>\n",
       "      <th>과제8</th>\n",
       "    </tr>\n",
       "  </thead>\n",
       "  <tbody>\n",
       "    <tr>\n",
       "      <th>count</th>\n",
       "      <td>7.600000e+01</td>\n",
       "      <td>76.000000</td>\n",
       "      <td>76.000000</td>\n",
       "      <td>76.000000</td>\n",
       "      <td>76.000000</td>\n",
       "      <td>76.000000</td>\n",
       "      <td>76.000000</td>\n",
       "      <td>76.000000</td>\n",
       "      <td>76.000000</td>\n",
       "      <td>76.000000</td>\n",
       "    </tr>\n",
       "    <tr>\n",
       "      <th>mean</th>\n",
       "      <td>2.029755e+07</td>\n",
       "      <td>2.434211</td>\n",
       "      <td>0.737105</td>\n",
       "      <td>0.733254</td>\n",
       "      <td>0.737895</td>\n",
       "      <td>0.747368</td>\n",
       "      <td>0.737368</td>\n",
       "      <td>0.715000</td>\n",
       "      <td>0.727632</td>\n",
       "      <td>0.762237</td>\n",
       "    </tr>\n",
       "    <tr>\n",
       "      <th>std</th>\n",
       "      <td>2.344483e+04</td>\n",
       "      <td>0.821957</td>\n",
       "      <td>0.162077</td>\n",
       "      <td>0.142145</td>\n",
       "      <td>0.162483</td>\n",
       "      <td>0.162467</td>\n",
       "      <td>0.150920</td>\n",
       "      <td>0.177903</td>\n",
       "      <td>0.162299</td>\n",
       "      <td>0.152364</td>\n",
       "    </tr>\n",
       "    <tr>\n",
       "      <th>min</th>\n",
       "      <td>2.025516e+07</td>\n",
       "      <td>1.000000</td>\n",
       "      <td>0.450000</td>\n",
       "      <td>0.424242</td>\n",
       "      <td>0.410000</td>\n",
       "      <td>0.450000</td>\n",
       "      <td>0.430000</td>\n",
       "      <td>0.410000</td>\n",
       "      <td>0.410000</td>\n",
       "      <td>0.430000</td>\n",
       "    </tr>\n",
       "    <tr>\n",
       "      <th>25%</th>\n",
       "      <td>2.027745e+07</td>\n",
       "      <td>2.000000</td>\n",
       "      <td>0.600000</td>\n",
       "      <td>0.636364</td>\n",
       "      <td>0.600000</td>\n",
       "      <td>0.607500</td>\n",
       "      <td>0.600000</td>\n",
       "      <td>0.570000</td>\n",
       "      <td>0.607500</td>\n",
       "      <td>0.635000</td>\n",
       "    </tr>\n",
       "    <tr>\n",
       "      <th>50%</th>\n",
       "      <td>2.029741e+07</td>\n",
       "      <td>2.000000</td>\n",
       "      <td>0.710000</td>\n",
       "      <td>0.702020</td>\n",
       "      <td>0.745000</td>\n",
       "      <td>0.750000</td>\n",
       "      <td>0.745000</td>\n",
       "      <td>0.715000</td>\n",
       "      <td>0.725000</td>\n",
       "      <td>0.780000</td>\n",
       "    </tr>\n",
       "    <tr>\n",
       "      <th>75%</th>\n",
       "      <td>2.031738e+07</td>\n",
       "      <td>3.000000</td>\n",
       "      <td>0.895000</td>\n",
       "      <td>0.848485</td>\n",
       "      <td>0.870000</td>\n",
       "      <td>0.882500</td>\n",
       "      <td>0.870000</td>\n",
       "      <td>0.880000</td>\n",
       "      <td>0.845000</td>\n",
       "      <td>0.885000</td>\n",
       "    </tr>\n",
       "    <tr>\n",
       "      <th>max</th>\n",
       "      <td>2.033740e+07</td>\n",
       "      <td>4.000000</td>\n",
       "      <td>1.000000</td>\n",
       "      <td>1.000000</td>\n",
       "      <td>1.000000</td>\n",
       "      <td>1.000000</td>\n",
       "      <td>1.000000</td>\n",
       "      <td>1.000000</td>\n",
       "      <td>1.000000</td>\n",
       "      <td>1.000000</td>\n",
       "    </tr>\n",
       "  </tbody>\n",
       "</table>\n",
       "</div>"
      ],
      "text/plain": [
       "                 학번         학년        과제1        과제2        과제3        과제4  \\\n",
       "count  7.600000e+01  76.000000  76.000000  76.000000  76.000000  76.000000   \n",
       "mean   2.029755e+07   2.434211   0.737105   0.733254   0.737895   0.747368   \n",
       "std    2.344483e+04   0.821957   0.162077   0.142145   0.162483   0.162467   \n",
       "min    2.025516e+07   1.000000   0.450000   0.424242   0.410000   0.450000   \n",
       "25%    2.027745e+07   2.000000   0.600000   0.636364   0.600000   0.607500   \n",
       "50%    2.029741e+07   2.000000   0.710000   0.702020   0.745000   0.750000   \n",
       "75%    2.031738e+07   3.000000   0.895000   0.848485   0.870000   0.882500   \n",
       "max    2.033740e+07   4.000000   1.000000   1.000000   1.000000   1.000000   \n",
       "\n",
       "             과제5        과제6        과제7        과제8  \n",
       "count  76.000000  76.000000  76.000000  76.000000  \n",
       "mean    0.737368   0.715000   0.727632   0.762237  \n",
       "std     0.150920   0.177903   0.162299   0.152364  \n",
       "min     0.430000   0.410000   0.410000   0.430000  \n",
       "25%     0.600000   0.570000   0.607500   0.635000  \n",
       "50%     0.745000   0.715000   0.725000   0.780000  \n",
       "75%     0.870000   0.880000   0.845000   0.885000  \n",
       "max     1.000000   1.000000   1.000000   1.000000  "
      ]
     },
     "execution_count": 199,
     "metadata": {},
     "output_type": "execute_result"
    }
   ],
   "source": [
    "scores_max_scaled = scores.copy()\n",
    "columns = ['과제1', '과제2', '과제3', '과제4', '과제5', '과제6', '과제7', '과제8']\n",
    "\n",
    "for column in columns:\n",
    "    _max = scores_max_scaled[column].max()\n",
    "    scores_max_scaled[column] = scores_max_scaled[column] / _max\n",
    "    \n",
    "scores_max_scaled.describe()"
   ]
  },
  {
   "cell_type": "markdown",
   "id": "35a1d75c-ce92-4939-bc05-b3c1c5129808",
   "metadata": {},
   "source": [
    "## Min_max_scaling"
   ]
  },
  {
   "cell_type": "code",
   "execution_count": 200,
   "id": "bd298b29-4268-4131-a28e-51bed538f5f6",
   "metadata": {},
   "outputs": [
    {
     "data": {
      "text/html": [
       "<div>\n",
       "<style scoped>\n",
       "    .dataframe tbody tr th:only-of-type {\n",
       "        vertical-align: middle;\n",
       "    }\n",
       "\n",
       "    .dataframe tbody tr th {\n",
       "        vertical-align: top;\n",
       "    }\n",
       "\n",
       "    .dataframe thead th {\n",
       "        text-align: right;\n",
       "    }\n",
       "</style>\n",
       "<table border=\"1\" class=\"dataframe\">\n",
       "  <thead>\n",
       "    <tr style=\"text-align: right;\">\n",
       "      <th></th>\n",
       "      <th>학번</th>\n",
       "      <th>학년</th>\n",
       "      <th>과제1</th>\n",
       "      <th>과제2</th>\n",
       "      <th>과제3</th>\n",
       "      <th>과제4</th>\n",
       "      <th>과제5</th>\n",
       "      <th>과제6</th>\n",
       "      <th>과제7</th>\n",
       "      <th>과제8</th>\n",
       "    </tr>\n",
       "  </thead>\n",
       "  <tbody>\n",
       "    <tr>\n",
       "      <th>count</th>\n",
       "      <td>7.600000e+01</td>\n",
       "      <td>76.000000</td>\n",
       "      <td>76.000000</td>\n",
       "      <td>76.000000</td>\n",
       "      <td>76.000000</td>\n",
       "      <td>76.000000</td>\n",
       "      <td>76.000000</td>\n",
       "      <td>76.000000</td>\n",
       "      <td>76.000000</td>\n",
       "      <td>76.000000</td>\n",
       "    </tr>\n",
       "    <tr>\n",
       "      <th>mean</th>\n",
       "      <td>2.029755e+07</td>\n",
       "      <td>2.434211</td>\n",
       "      <td>0.522010</td>\n",
       "      <td>0.536704</td>\n",
       "      <td>0.555754</td>\n",
       "      <td>0.540670</td>\n",
       "      <td>0.539243</td>\n",
       "      <td>0.516949</td>\n",
       "      <td>0.538359</td>\n",
       "      <td>0.582872</td>\n",
       "    </tr>\n",
       "    <tr>\n",
       "      <th>std</th>\n",
       "      <td>2.344483e+04</td>\n",
       "      <td>0.821957</td>\n",
       "      <td>0.294685</td>\n",
       "      <td>0.246884</td>\n",
       "      <td>0.275396</td>\n",
       "      <td>0.295395</td>\n",
       "      <td>0.264773</td>\n",
       "      <td>0.301530</td>\n",
       "      <td>0.275083</td>\n",
       "      <td>0.267306</td>\n",
       "    </tr>\n",
       "    <tr>\n",
       "      <th>min</th>\n",
       "      <td>2.025516e+07</td>\n",
       "      <td>1.000000</td>\n",
       "      <td>0.000000</td>\n",
       "      <td>0.000000</td>\n",
       "      <td>0.000000</td>\n",
       "      <td>0.000000</td>\n",
       "      <td>0.000000</td>\n",
       "      <td>0.000000</td>\n",
       "      <td>0.000000</td>\n",
       "      <td>0.000000</td>\n",
       "    </tr>\n",
       "    <tr>\n",
       "      <th>25%</th>\n",
       "      <td>2.027745e+07</td>\n",
       "      <td>2.000000</td>\n",
       "      <td>0.272727</td>\n",
       "      <td>0.368421</td>\n",
       "      <td>0.322034</td>\n",
       "      <td>0.286364</td>\n",
       "      <td>0.298246</td>\n",
       "      <td>0.271186</td>\n",
       "      <td>0.334746</td>\n",
       "      <td>0.359649</td>\n",
       "    </tr>\n",
       "    <tr>\n",
       "      <th>50%</th>\n",
       "      <td>2.029741e+07</td>\n",
       "      <td>2.000000</td>\n",
       "      <td>0.472727</td>\n",
       "      <td>0.482456</td>\n",
       "      <td>0.567797</td>\n",
       "      <td>0.545455</td>\n",
       "      <td>0.552632</td>\n",
       "      <td>0.516949</td>\n",
       "      <td>0.533898</td>\n",
       "      <td>0.614035</td>\n",
       "    </tr>\n",
       "    <tr>\n",
       "      <th>75%</th>\n",
       "      <td>2.031738e+07</td>\n",
       "      <td>3.000000</td>\n",
       "      <td>0.809091</td>\n",
       "      <td>0.736842</td>\n",
       "      <td>0.779661</td>\n",
       "      <td>0.786364</td>\n",
       "      <td>0.771930</td>\n",
       "      <td>0.796610</td>\n",
       "      <td>0.737288</td>\n",
       "      <td>0.798246</td>\n",
       "    </tr>\n",
       "    <tr>\n",
       "      <th>max</th>\n",
       "      <td>2.033740e+07</td>\n",
       "      <td>4.000000</td>\n",
       "      <td>1.000000</td>\n",
       "      <td>1.000000</td>\n",
       "      <td>1.000000</td>\n",
       "      <td>1.000000</td>\n",
       "      <td>1.000000</td>\n",
       "      <td>1.000000</td>\n",
       "      <td>1.000000</td>\n",
       "      <td>1.000000</td>\n",
       "    </tr>\n",
       "  </tbody>\n",
       "</table>\n",
       "</div>"
      ],
      "text/plain": [
       "                 학번         학년        과제1        과제2        과제3        과제4  \\\n",
       "count  7.600000e+01  76.000000  76.000000  76.000000  76.000000  76.000000   \n",
       "mean   2.029755e+07   2.434211   0.522010   0.536704   0.555754   0.540670   \n",
       "std    2.344483e+04   0.821957   0.294685   0.246884   0.275396   0.295395   \n",
       "min    2.025516e+07   1.000000   0.000000   0.000000   0.000000   0.000000   \n",
       "25%    2.027745e+07   2.000000   0.272727   0.368421   0.322034   0.286364   \n",
       "50%    2.029741e+07   2.000000   0.472727   0.482456   0.567797   0.545455   \n",
       "75%    2.031738e+07   3.000000   0.809091   0.736842   0.779661   0.786364   \n",
       "max    2.033740e+07   4.000000   1.000000   1.000000   1.000000   1.000000   \n",
       "\n",
       "             과제5        과제6        과제7        과제8  \n",
       "count  76.000000  76.000000  76.000000  76.000000  \n",
       "mean    0.539243   0.516949   0.538359   0.582872  \n",
       "std     0.264773   0.301530   0.275083   0.267306  \n",
       "min     0.000000   0.000000   0.000000   0.000000  \n",
       "25%     0.298246   0.271186   0.334746   0.359649  \n",
       "50%     0.552632   0.516949   0.533898   0.614035  \n",
       "75%     0.771930   0.796610   0.737288   0.798246  \n",
       "max     1.000000   1.000000   1.000000   1.000000  "
      ]
     },
     "execution_count": 200,
     "metadata": {},
     "output_type": "execute_result"
    }
   ],
   "source": [
    "scores_max_scaled = scores.copy()\n",
    "columns = ['과제1', '과제2', '과제3', '과제4', '과제5', '과제6', '과제7', '과제8']\n",
    "\n",
    "for column in columns:\n",
    "    _max = scores_max_scaled[column].max()\n",
    "    _min = scores_max_scaled[column].min()\n",
    "    scores_max_scaled[column] = (scores_max_scaled[column] - _min) / (_max - _min)\n",
    "    \n",
    "scores_max_scaled.describe()"
   ]
  },
  {
   "cell_type": "markdown",
   "id": "9a19e153-c3a9-475d-900c-bf1b7727ac86",
   "metadata": {},
   "source": [
    "## Z-score method"
   ]
  },
  {
   "cell_type": "code",
   "execution_count": 201,
   "id": "e07ff8f1-2200-4535-aa8e-74baf2b3daf4",
   "metadata": {},
   "outputs": [
    {
     "data": {
      "text/html": [
       "<div>\n",
       "<style scoped>\n",
       "    .dataframe tbody tr th:only-of-type {\n",
       "        vertical-align: middle;\n",
       "    }\n",
       "\n",
       "    .dataframe tbody tr th {\n",
       "        vertical-align: top;\n",
       "    }\n",
       "\n",
       "    .dataframe thead th {\n",
       "        text-align: right;\n",
       "    }\n",
       "</style>\n",
       "<table border=\"1\" class=\"dataframe\">\n",
       "  <thead>\n",
       "    <tr style=\"text-align: right;\">\n",
       "      <th></th>\n",
       "      <th>학번</th>\n",
       "      <th>학년</th>\n",
       "      <th>과제1</th>\n",
       "      <th>과제2</th>\n",
       "      <th>과제3</th>\n",
       "      <th>과제4</th>\n",
       "      <th>과제5</th>\n",
       "      <th>과제6</th>\n",
       "      <th>과제7</th>\n",
       "      <th>과제8</th>\n",
       "    </tr>\n",
       "  </thead>\n",
       "  <tbody>\n",
       "    <tr>\n",
       "      <th>count</th>\n",
       "      <td>7.600000e+01</td>\n",
       "      <td>76.000000</td>\n",
       "      <td>7.600000e+01</td>\n",
       "      <td>7.600000e+01</td>\n",
       "      <td>7.600000e+01</td>\n",
       "      <td>7.600000e+01</td>\n",
       "      <td>7.600000e+01</td>\n",
       "      <td>7.600000e+01</td>\n",
       "      <td>7.600000e+01</td>\n",
       "      <td>7.600000e+01</td>\n",
       "    </tr>\n",
       "    <tr>\n",
       "      <th>mean</th>\n",
       "      <td>2.029755e+07</td>\n",
       "      <td>2.434211</td>\n",
       "      <td>-3.812740e-16</td>\n",
       "      <td>3.257628e-16</td>\n",
       "      <td>3.418318e-16</td>\n",
       "      <td>-3.798131e-16</td>\n",
       "      <td>-4.309418e-16</td>\n",
       "      <td>5.258951e-17</td>\n",
       "      <td>4.207161e-16</td>\n",
       "      <td>5.224713e-17</td>\n",
       "    </tr>\n",
       "    <tr>\n",
       "      <th>std</th>\n",
       "      <td>2.344483e+04</td>\n",
       "      <td>0.821957</td>\n",
       "      <td>1.000000e+00</td>\n",
       "      <td>1.000000e+00</td>\n",
       "      <td>1.000000e+00</td>\n",
       "      <td>1.000000e+00</td>\n",
       "      <td>1.000000e+00</td>\n",
       "      <td>1.000000e+00</td>\n",
       "      <td>1.000000e+00</td>\n",
       "      <td>1.000000e+00</td>\n",
       "    </tr>\n",
       "    <tr>\n",
       "      <th>min</th>\n",
       "      <td>2.025516e+07</td>\n",
       "      <td>1.000000</td>\n",
       "      <td>-1.771417e+00</td>\n",
       "      <td>-2.173914e+00</td>\n",
       "      <td>-2.018020e+00</td>\n",
       "      <td>-1.830327e+00</td>\n",
       "      <td>-2.036625e+00</td>\n",
       "      <td>-1.714421e+00</td>\n",
       "      <td>-1.957076e+00</td>\n",
       "      <td>-2.180540e+00</td>\n",
       "    </tr>\n",
       "    <tr>\n",
       "      <th>25%</th>\n",
       "      <td>2.027745e+07</td>\n",
       "      <td>2.000000</td>\n",
       "      <td>-8.459285e-01</td>\n",
       "      <td>-6.816272e-01</td>\n",
       "      <td>-8.486699e-01</td>\n",
       "      <td>-8.609016e-01</td>\n",
       "      <td>-9.102042e-01</td>\n",
       "      <td>-8.150528e-01</td>\n",
       "      <td>-7.401866e-01</td>\n",
       "      <td>-8.350821e-01</td>\n",
       "    </tr>\n",
       "    <tr>\n",
       "      <th>50%</th>\n",
       "      <td>2.029741e+07</td>\n",
       "      <td>2.000000</td>\n",
       "      <td>-1.672373e-01</td>\n",
       "      <td>-2.197289e-01</td>\n",
       "      <td>4.372917e-02</td>\n",
       "      <td>1.619758e-02</td>\n",
       "      <td>5.056690e-02</td>\n",
       "      <td>0.000000e+00</td>\n",
       "      <td>-1.621438e-02</td>\n",
       "      <td>1.165833e-01</td>\n",
       "    </tr>\n",
       "    <tr>\n",
       "      <th>75%</th>\n",
       "      <td>2.031738e+07</td>\n",
       "      <td>3.000000</td>\n",
       "      <td>9.741979e-01</td>\n",
       "      <td>8.106595e-01</td>\n",
       "      <td>8.130387e-01</td>\n",
       "      <td>8.317459e-01</td>\n",
       "      <td>8.788178e-01</td>\n",
       "      <td>9.274738e-01</td>\n",
       "      <td>7.231615e-01</td>\n",
       "      <td>8.057204e-01</td>\n",
       "    </tr>\n",
       "    <tr>\n",
       "      <th>max</th>\n",
       "      <td>2.033740e+07</td>\n",
       "      <td>4.000000</td>\n",
       "      <td>1.622040e+00</td>\n",
       "      <td>1.876579e+00</td>\n",
       "      <td>1.613121e+00</td>\n",
       "      <td>1.554968e+00</td>\n",
       "      <td>1.740199e+00</td>\n",
       "      <td>1.602000e+00</td>\n",
       "      <td>1.678189e+00</td>\n",
       "      <td>1.560490e+00</td>\n",
       "    </tr>\n",
       "  </tbody>\n",
       "</table>\n",
       "</div>"
      ],
      "text/plain": [
       "                 학번         학년           과제1           과제2           과제3  \\\n",
       "count  7.600000e+01  76.000000  7.600000e+01  7.600000e+01  7.600000e+01   \n",
       "mean   2.029755e+07   2.434211 -3.812740e-16  3.257628e-16  3.418318e-16   \n",
       "std    2.344483e+04   0.821957  1.000000e+00  1.000000e+00  1.000000e+00   \n",
       "min    2.025516e+07   1.000000 -1.771417e+00 -2.173914e+00 -2.018020e+00   \n",
       "25%    2.027745e+07   2.000000 -8.459285e-01 -6.816272e-01 -8.486699e-01   \n",
       "50%    2.029741e+07   2.000000 -1.672373e-01 -2.197289e-01  4.372917e-02   \n",
       "75%    2.031738e+07   3.000000  9.741979e-01  8.106595e-01  8.130387e-01   \n",
       "max    2.033740e+07   4.000000  1.622040e+00  1.876579e+00  1.613121e+00   \n",
       "\n",
       "                과제4           과제5           과제6           과제7           과제8  \n",
       "count  7.600000e+01  7.600000e+01  7.600000e+01  7.600000e+01  7.600000e+01  \n",
       "mean  -3.798131e-16 -4.309418e-16  5.258951e-17  4.207161e-16  5.224713e-17  \n",
       "std    1.000000e+00  1.000000e+00  1.000000e+00  1.000000e+00  1.000000e+00  \n",
       "min   -1.830327e+00 -2.036625e+00 -1.714421e+00 -1.957076e+00 -2.180540e+00  \n",
       "25%   -8.609016e-01 -9.102042e-01 -8.150528e-01 -7.401866e-01 -8.350821e-01  \n",
       "50%    1.619758e-02  5.056690e-02  0.000000e+00 -1.621438e-02  1.165833e-01  \n",
       "75%    8.317459e-01  8.788178e-01  9.274738e-01  7.231615e-01  8.057204e-01  \n",
       "max    1.554968e+00  1.740199e+00  1.602000e+00  1.678189e+00  1.560490e+00  "
      ]
     },
     "execution_count": 201,
     "metadata": {},
     "output_type": "execute_result"
    }
   ],
   "source": [
    "scores_max_scaled = scores.copy()\n",
    "columns = ['과제1', '과제2', '과제3', '과제4', '과제5', '과제6', '과제7', '과제8']\n",
    "\n",
    "for column in columns:\n",
    "    _mean = scores_max_scaled[column].mean()\n",
    "    _std = scores_max_scaled[column].std()\n",
    "    scores_max_scaled[column] = (scores_max_scaled[column] - _mean) / _std\n",
    "    \n",
    "scores_max_scaled.describe()"
   ]
  },
  {
   "cell_type": "markdown",
   "id": "c60b0e97-f6e6-4e22-bcbc-3c39c618c18c",
   "metadata": {},
   "source": [
    "## pandas.DataFrame.isin을 이용한 데이터 필터링"
   ]
  },
  {
   "cell_type": "code",
   "execution_count": 202,
   "id": "3d065941-c315-4817-a2b4-5bc8f4e011ce",
   "metadata": {},
   "outputs": [
    {
     "data": {
      "text/html": [
       "<div>\n",
       "<style scoped>\n",
       "    .dataframe tbody tr th:only-of-type {\n",
       "        vertical-align: middle;\n",
       "    }\n",
       "\n",
       "    .dataframe tbody tr th {\n",
       "        vertical-align: top;\n",
       "    }\n",
       "\n",
       "    .dataframe thead th {\n",
       "        text-align: right;\n",
       "    }\n",
       "</style>\n",
       "<table border=\"1\" class=\"dataframe\">\n",
       "  <thead>\n",
       "    <tr style=\"text-align: right;\">\n",
       "      <th></th>\n",
       "      <th>학번</th>\n",
       "      <th>소속</th>\n",
       "      <th>학년</th>\n",
       "      <th>과제1</th>\n",
       "      <th>과제2</th>\n",
       "      <th>과제3</th>\n",
       "      <th>과제4</th>\n",
       "      <th>과제5</th>\n",
       "      <th>과제6</th>\n",
       "      <th>과제7</th>\n",
       "      <th>과제8</th>\n",
       "    </tr>\n",
       "    <tr>\n",
       "      <th>이름</th>\n",
       "      <th></th>\n",
       "      <th></th>\n",
       "      <th></th>\n",
       "      <th></th>\n",
       "      <th></th>\n",
       "      <th></th>\n",
       "      <th></th>\n",
       "      <th></th>\n",
       "      <th></th>\n",
       "      <th></th>\n",
       "      <th></th>\n",
       "    </tr>\n",
       "  </thead>\n",
       "  <tbody>\n",
       "    <tr>\n",
       "      <th>이소원</th>\n",
       "      <td>20274870</td>\n",
       "      <td>전자공학과</td>\n",
       "      <td>2</td>\n",
       "      <td>61</td>\n",
       "      <td>69</td>\n",
       "      <td>52</td>\n",
       "      <td>66</td>\n",
       "      <td>62</td>\n",
       "      <td>65</td>\n",
       "      <td>67</td>\n",
       "      <td>70</td>\n",
       "    </tr>\n",
       "    <tr>\n",
       "      <th>권태민</th>\n",
       "      <td>20316593</td>\n",
       "      <td>전자공학과</td>\n",
       "      <td>3</td>\n",
       "      <td>98</td>\n",
       "      <td>72</td>\n",
       "      <td>84</td>\n",
       "      <td>59</td>\n",
       "      <td>89</td>\n",
       "      <td>73</td>\n",
       "      <td>59</td>\n",
       "      <td>71</td>\n",
       "    </tr>\n",
       "    <tr>\n",
       "      <th>백동성</th>\n",
       "      <td>20268613</td>\n",
       "      <td>전자공학과</td>\n",
       "      <td>4</td>\n",
       "      <td>92</td>\n",
       "      <td>55</td>\n",
       "      <td>67</td>\n",
       "      <td>85</td>\n",
       "      <td>69</td>\n",
       "      <td>57</td>\n",
       "      <td>53</td>\n",
       "      <td>99</td>\n",
       "    </tr>\n",
       "  </tbody>\n",
       "</table>\n",
       "</div>"
      ],
      "text/plain": [
       "           학번     소속  학년  과제1  과제2  과제3  과제4  과제5  과제6  과제7  과제8\n",
       "이름                                                              \n",
       "이소원  20274870  전자공학과   2   61   69   52   66   62   65   67   70\n",
       "권태민  20316593  전자공학과   3   98   72   84   59   89   73   59   71\n",
       "백동성  20268613  전자공학과   4   92   55   67   85   69   57   53   99"
      ]
     },
     "execution_count": 202,
     "metadata": {},
     "output_type": "execute_result"
    }
   ],
   "source": [
    "scores[scores['소속'] == '전자공학과']"
   ]
  },
  {
   "cell_type": "code",
   "execution_count": 203,
   "id": "e71c9d70-d896-4da2-b813-03919bd4e711",
   "metadata": {},
   "outputs": [
    {
     "data": {
      "text/html": [
       "<div>\n",
       "<style scoped>\n",
       "    .dataframe tbody tr th:only-of-type {\n",
       "        vertical-align: middle;\n",
       "    }\n",
       "\n",
       "    .dataframe tbody tr th {\n",
       "        vertical-align: top;\n",
       "    }\n",
       "\n",
       "    .dataframe thead th {\n",
       "        text-align: right;\n",
       "    }\n",
       "</style>\n",
       "<table border=\"1\" class=\"dataframe\">\n",
       "  <thead>\n",
       "    <tr style=\"text-align: right;\">\n",
       "      <th></th>\n",
       "      <th>학번</th>\n",
       "      <th>소속</th>\n",
       "      <th>학년</th>\n",
       "      <th>과제1</th>\n",
       "      <th>과제2</th>\n",
       "      <th>과제3</th>\n",
       "      <th>과제4</th>\n",
       "      <th>과제5</th>\n",
       "      <th>과제6</th>\n",
       "      <th>과제7</th>\n",
       "      <th>과제8</th>\n",
       "    </tr>\n",
       "    <tr>\n",
       "      <th>이름</th>\n",
       "      <th></th>\n",
       "      <th></th>\n",
       "      <th></th>\n",
       "      <th></th>\n",
       "      <th></th>\n",
       "      <th></th>\n",
       "      <th></th>\n",
       "      <th></th>\n",
       "      <th></th>\n",
       "      <th></th>\n",
       "      <th></th>\n",
       "    </tr>\n",
       "  </thead>\n",
       "  <tbody>\n",
       "    <tr>\n",
       "      <th>현상연</th>\n",
       "      <td>20328616</td>\n",
       "      <td>빅데이터전공</td>\n",
       "      <td>2</td>\n",
       "      <td>96</td>\n",
       "      <td>91</td>\n",
       "      <td>85</td>\n",
       "      <td>78</td>\n",
       "      <td>77</td>\n",
       "      <td>57</td>\n",
       "      <td>65</td>\n",
       "      <td>59</td>\n",
       "    </tr>\n",
       "    <tr>\n",
       "      <th>이지훈</th>\n",
       "      <td>20327392</td>\n",
       "      <td>빅데이터전공</td>\n",
       "      <td>2</td>\n",
       "      <td>91</td>\n",
       "      <td>90</td>\n",
       "      <td>76</td>\n",
       "      <td>90</td>\n",
       "      <td>87</td>\n",
       "      <td>91</td>\n",
       "      <td>72</td>\n",
       "      <td>69</td>\n",
       "    </tr>\n",
       "    <tr>\n",
       "      <th>김소윤</th>\n",
       "      <td>20287329</td>\n",
       "      <td>빅데이터전공</td>\n",
       "      <td>2</td>\n",
       "      <td>52</td>\n",
       "      <td>65</td>\n",
       "      <td>79</td>\n",
       "      <td>69</td>\n",
       "      <td>77</td>\n",
       "      <td>99</td>\n",
       "      <td>62</td>\n",
       "      <td>52</td>\n",
       "    </tr>\n",
       "    <tr>\n",
       "      <th>함궁혁</th>\n",
       "      <td>20325215</td>\n",
       "      <td>빅데이터전공</td>\n",
       "      <td>2</td>\n",
       "      <td>70</td>\n",
       "      <td>60</td>\n",
       "      <td>87</td>\n",
       "      <td>89</td>\n",
       "      <td>84</td>\n",
       "      <td>93</td>\n",
       "      <td>60</td>\n",
       "      <td>62</td>\n",
       "    </tr>\n",
       "    <tr>\n",
       "      <th>김민우</th>\n",
       "      <td>20274344</td>\n",
       "      <td>빅데이터전공</td>\n",
       "      <td>3</td>\n",
       "      <td>63</td>\n",
       "      <td>46</td>\n",
       "      <td>84</td>\n",
       "      <td>87</td>\n",
       "      <td>91</td>\n",
       "      <td>51</td>\n",
       "      <td>65</td>\n",
       "      <td>62</td>\n",
       "    </tr>\n",
       "    <tr>\n",
       "      <th>이수연</th>\n",
       "      <td>20315232</td>\n",
       "      <td>빅데이터전공</td>\n",
       "      <td>3</td>\n",
       "      <td>97</td>\n",
       "      <td>62</td>\n",
       "      <td>62</td>\n",
       "      <td>61</td>\n",
       "      <td>57</td>\n",
       "      <td>72</td>\n",
       "      <td>97</td>\n",
       "      <td>61</td>\n",
       "    </tr>\n",
       "    <tr>\n",
       "      <th>이은석</th>\n",
       "      <td>20267518</td>\n",
       "      <td>빅데이터전공</td>\n",
       "      <td>3</td>\n",
       "      <td>64</td>\n",
       "      <td>88</td>\n",
       "      <td>59</td>\n",
       "      <td>99</td>\n",
       "      <td>52</td>\n",
       "      <td>42</td>\n",
       "      <td>84</td>\n",
       "      <td>57</td>\n",
       "    </tr>\n",
       "    <tr>\n",
       "      <th>윤원헌</th>\n",
       "      <td>20287476</td>\n",
       "      <td>빅데이터전공</td>\n",
       "      <td>3</td>\n",
       "      <td>98</td>\n",
       "      <td>98</td>\n",
       "      <td>80</td>\n",
       "      <td>72</td>\n",
       "      <td>80</td>\n",
       "      <td>65</td>\n",
       "      <td>89</td>\n",
       "      <td>88</td>\n",
       "    </tr>\n",
       "    <tr>\n",
       "      <th>박민용</th>\n",
       "      <td>20297366</td>\n",
       "      <td>빅데이터전공</td>\n",
       "      <td>3</td>\n",
       "      <td>50</td>\n",
       "      <td>63</td>\n",
       "      <td>91</td>\n",
       "      <td>72</td>\n",
       "      <td>59</td>\n",
       "      <td>99</td>\n",
       "      <td>73</td>\n",
       "      <td>88</td>\n",
       "    </tr>\n",
       "    <tr>\n",
       "      <th>김동원</th>\n",
       "      <td>20315272</td>\n",
       "      <td>빅데이터전공</td>\n",
       "      <td>3</td>\n",
       "      <td>98</td>\n",
       "      <td>79</td>\n",
       "      <td>95</td>\n",
       "      <td>70</td>\n",
       "      <td>75</td>\n",
       "      <td>57</td>\n",
       "      <td>50</td>\n",
       "      <td>98</td>\n",
       "    </tr>\n",
       "    <tr>\n",
       "      <th>김주성</th>\n",
       "      <td>20257459</td>\n",
       "      <td>빅데이터전공</td>\n",
       "      <td>3</td>\n",
       "      <td>67</td>\n",
       "      <td>89</td>\n",
       "      <td>65</td>\n",
       "      <td>70</td>\n",
       "      <td>58</td>\n",
       "      <td>46</td>\n",
       "      <td>89</td>\n",
       "      <td>59</td>\n",
       "    </tr>\n",
       "    <tr>\n",
       "      <th>이소원</th>\n",
       "      <td>20274870</td>\n",
       "      <td>전자공학과</td>\n",
       "      <td>2</td>\n",
       "      <td>61</td>\n",
       "      <td>69</td>\n",
       "      <td>52</td>\n",
       "      <td>66</td>\n",
       "      <td>62</td>\n",
       "      <td>65</td>\n",
       "      <td>67</td>\n",
       "      <td>70</td>\n",
       "    </tr>\n",
       "    <tr>\n",
       "      <th>권태민</th>\n",
       "      <td>20316593</td>\n",
       "      <td>전자공학과</td>\n",
       "      <td>3</td>\n",
       "      <td>98</td>\n",
       "      <td>72</td>\n",
       "      <td>84</td>\n",
       "      <td>59</td>\n",
       "      <td>89</td>\n",
       "      <td>73</td>\n",
       "      <td>59</td>\n",
       "      <td>71</td>\n",
       "    </tr>\n",
       "    <tr>\n",
       "      <th>백동성</th>\n",
       "      <td>20268613</td>\n",
       "      <td>전자공학과</td>\n",
       "      <td>4</td>\n",
       "      <td>92</td>\n",
       "      <td>55</td>\n",
       "      <td>67</td>\n",
       "      <td>85</td>\n",
       "      <td>69</td>\n",
       "      <td>57</td>\n",
       "      <td>53</td>\n",
       "      <td>99</td>\n",
       "    </tr>\n",
       "    <tr>\n",
       "      <th>장민하</th>\n",
       "      <td>20263847</td>\n",
       "      <td>빅데이터전공</td>\n",
       "      <td>3</td>\n",
       "      <td>60</td>\n",
       "      <td>79</td>\n",
       "      <td>84</td>\n",
       "      <td>81</td>\n",
       "      <td>87</td>\n",
       "      <td>49</td>\n",
       "      <td>61</td>\n",
       "      <td>93</td>\n",
       "    </tr>\n",
       "    <tr>\n",
       "      <th>류성연</th>\n",
       "      <td>20293832</td>\n",
       "      <td>빅데이터전공</td>\n",
       "      <td>3</td>\n",
       "      <td>78</td>\n",
       "      <td>68</td>\n",
       "      <td>75</td>\n",
       "      <td>88</td>\n",
       "      <td>82</td>\n",
       "      <td>48</td>\n",
       "      <td>98</td>\n",
       "      <td>79</td>\n",
       "    </tr>\n",
       "    <tr>\n",
       "      <th>안주영</th>\n",
       "      <td>20255886</td>\n",
       "      <td>빅데이터전공</td>\n",
       "      <td>3</td>\n",
       "      <td>52</td>\n",
       "      <td>80</td>\n",
       "      <td>96</td>\n",
       "      <td>48</td>\n",
       "      <td>66</td>\n",
       "      <td>57</td>\n",
       "      <td>93</td>\n",
       "      <td>56</td>\n",
       "    </tr>\n",
       "    <tr>\n",
       "      <th>구영수</th>\n",
       "      <td>20317381</td>\n",
       "      <td>빅데이터전공</td>\n",
       "      <td>2</td>\n",
       "      <td>59</td>\n",
       "      <td>64</td>\n",
       "      <td>60</td>\n",
       "      <td>70</td>\n",
       "      <td>74</td>\n",
       "      <td>100</td>\n",
       "      <td>58</td>\n",
       "      <td>86</td>\n",
       "    </tr>\n",
       "    <tr>\n",
       "      <th>조대욱</th>\n",
       "      <td>20256200</td>\n",
       "      <td>빅데이터전공</td>\n",
       "      <td>3</td>\n",
       "      <td>95</td>\n",
       "      <td>60</td>\n",
       "      <td>69</td>\n",
       "      <td>60</td>\n",
       "      <td>56</td>\n",
       "      <td>86</td>\n",
       "      <td>66</td>\n",
       "      <td>67</td>\n",
       "    </tr>\n",
       "    <tr>\n",
       "      <th>함민윤</th>\n",
       "      <td>20287478</td>\n",
       "      <td>빅데이터전공</td>\n",
       "      <td>2</td>\n",
       "      <td>47</td>\n",
       "      <td>70</td>\n",
       "      <td>100</td>\n",
       "      <td>77</td>\n",
       "      <td>97</td>\n",
       "      <td>63</td>\n",
       "      <td>46</td>\n",
       "      <td>84</td>\n",
       "    </tr>\n",
       "    <tr>\n",
       "      <th>이강현</th>\n",
       "      <td>20297381</td>\n",
       "      <td>빅데이터전공</td>\n",
       "      <td>2</td>\n",
       "      <td>55</td>\n",
       "      <td>91</td>\n",
       "      <td>90</td>\n",
       "      <td>59</td>\n",
       "      <td>59</td>\n",
       "      <td>94</td>\n",
       "      <td>66</td>\n",
       "      <td>94</td>\n",
       "    </tr>\n",
       "    <tr>\n",
       "      <th>심성영</th>\n",
       "      <td>20287540</td>\n",
       "      <td>빅데이터전공</td>\n",
       "      <td>2</td>\n",
       "      <td>56</td>\n",
       "      <td>96</td>\n",
       "      <td>80</td>\n",
       "      <td>79</td>\n",
       "      <td>95</td>\n",
       "      <td>92</td>\n",
       "      <td>71</td>\n",
       "      <td>65</td>\n",
       "    </tr>\n",
       "    <tr>\n",
       "      <th>이재빈</th>\n",
       "      <td>20297433</td>\n",
       "      <td>빅데이터전공</td>\n",
       "      <td>2</td>\n",
       "      <td>80</td>\n",
       "      <td>53</td>\n",
       "      <td>43</td>\n",
       "      <td>66</td>\n",
       "      <td>85</td>\n",
       "      <td>78</td>\n",
       "      <td>82</td>\n",
       "      <td>66</td>\n",
       "    </tr>\n",
       "    <tr>\n",
       "      <th>길대민</th>\n",
       "      <td>20317391</td>\n",
       "      <td>빅데이터전공</td>\n",
       "      <td>2</td>\n",
       "      <td>86</td>\n",
       "      <td>74</td>\n",
       "      <td>94</td>\n",
       "      <td>79</td>\n",
       "      <td>84</td>\n",
       "      <td>46</td>\n",
       "      <td>79</td>\n",
       "      <td>84</td>\n",
       "    </tr>\n",
       "    <tr>\n",
       "      <th>함성현</th>\n",
       "      <td>20285865</td>\n",
       "      <td>빅데이터전공</td>\n",
       "      <td>2</td>\n",
       "      <td>68</td>\n",
       "      <td>74</td>\n",
       "      <td>91</td>\n",
       "      <td>67</td>\n",
       "      <td>53</td>\n",
       "      <td>57</td>\n",
       "      <td>62</td>\n",
       "      <td>77</td>\n",
       "    </tr>\n",
       "    <tr>\n",
       "      <th>유승현</th>\n",
       "      <td>20293372</td>\n",
       "      <td>빅데이터전공</td>\n",
       "      <td>2</td>\n",
       "      <td>70</td>\n",
       "      <td>75</td>\n",
       "      <td>61</td>\n",
       "      <td>63</td>\n",
       "      <td>100</td>\n",
       "      <td>57</td>\n",
       "      <td>79</td>\n",
       "      <td>59</td>\n",
       "    </tr>\n",
       "    <tr>\n",
       "      <th>임강규</th>\n",
       "      <td>20287373</td>\n",
       "      <td>빅데이터전공</td>\n",
       "      <td>2</td>\n",
       "      <td>70</td>\n",
       "      <td>88</td>\n",
       "      <td>71</td>\n",
       "      <td>94</td>\n",
       "      <td>85</td>\n",
       "      <td>100</td>\n",
       "      <td>94</td>\n",
       "      <td>67</td>\n",
       "    </tr>\n",
       "    <tr>\n",
       "      <th>정서성</th>\n",
       "      <td>20287480</td>\n",
       "      <td>빅데이터전공</td>\n",
       "      <td>4</td>\n",
       "      <td>54</td>\n",
       "      <td>42</td>\n",
       "      <td>49</td>\n",
       "      <td>69</td>\n",
       "      <td>60</td>\n",
       "      <td>41</td>\n",
       "      <td>49</td>\n",
       "      <td>100</td>\n",
       "    </tr>\n",
       "    <tr>\n",
       "      <th>배상윤</th>\n",
       "      <td>20337358</td>\n",
       "      <td>빅데이터전공</td>\n",
       "      <td>2</td>\n",
       "      <td>98</td>\n",
       "      <td>58</td>\n",
       "      <td>60</td>\n",
       "      <td>53</td>\n",
       "      <td>43</td>\n",
       "      <td>65</td>\n",
       "      <td>100</td>\n",
       "      <td>79</td>\n",
       "    </tr>\n",
       "    <tr>\n",
       "      <th>윤주인</th>\n",
       "      <td>20337397</td>\n",
       "      <td>빅데이터전공</td>\n",
       "      <td>4</td>\n",
       "      <td>68</td>\n",
       "      <td>62</td>\n",
       "      <td>78</td>\n",
       "      <td>52</td>\n",
       "      <td>65</td>\n",
       "      <td>99</td>\n",
       "      <td>63</td>\n",
       "      <td>80</td>\n",
       "    </tr>\n",
       "    <tr>\n",
       "      <th>김여환</th>\n",
       "      <td>20277462</td>\n",
       "      <td>빅데이터전공</td>\n",
       "      <td>2</td>\n",
       "      <td>64</td>\n",
       "      <td>65</td>\n",
       "      <td>87</td>\n",
       "      <td>66</td>\n",
       "      <td>92</td>\n",
       "      <td>76</td>\n",
       "      <td>78</td>\n",
       "      <td>97</td>\n",
       "    </tr>\n",
       "    <tr>\n",
       "      <th>이은경</th>\n",
       "      <td>20318996</td>\n",
       "      <td>빅데이터전공</td>\n",
       "      <td>2</td>\n",
       "      <td>67</td>\n",
       "      <td>62</td>\n",
       "      <td>53</td>\n",
       "      <td>55</td>\n",
       "      <td>61</td>\n",
       "      <td>94</td>\n",
       "      <td>95</td>\n",
       "      <td>76</td>\n",
       "    </tr>\n",
       "  </tbody>\n",
       "</table>\n",
       "</div>"
      ],
      "text/plain": [
       "           학번      소속  학년  과제1  과제2  과제3  과제4  과제5  과제6  과제7  과제8\n",
       "이름                                                               \n",
       "현상연  20328616  빅데이터전공   2   96   91   85   78   77   57   65   59\n",
       "이지훈  20327392  빅데이터전공   2   91   90   76   90   87   91   72   69\n",
       "김소윤  20287329  빅데이터전공   2   52   65   79   69   77   99   62   52\n",
       "함궁혁  20325215  빅데이터전공   2   70   60   87   89   84   93   60   62\n",
       "김민우  20274344  빅데이터전공   3   63   46   84   87   91   51   65   62\n",
       "이수연  20315232  빅데이터전공   3   97   62   62   61   57   72   97   61\n",
       "이은석  20267518  빅데이터전공   3   64   88   59   99   52   42   84   57\n",
       "윤원헌  20287476  빅데이터전공   3   98   98   80   72   80   65   89   88\n",
       "박민용  20297366  빅데이터전공   3   50   63   91   72   59   99   73   88\n",
       "김동원  20315272  빅데이터전공   3   98   79   95   70   75   57   50   98\n",
       "김주성  20257459  빅데이터전공   3   67   89   65   70   58   46   89   59\n",
       "이소원  20274870   전자공학과   2   61   69   52   66   62   65   67   70\n",
       "권태민  20316593   전자공학과   3   98   72   84   59   89   73   59   71\n",
       "백동성  20268613   전자공학과   4   92   55   67   85   69   57   53   99\n",
       "장민하  20263847  빅데이터전공   3   60   79   84   81   87   49   61   93\n",
       "류성연  20293832  빅데이터전공   3   78   68   75   88   82   48   98   79\n",
       "안주영  20255886  빅데이터전공   3   52   80   96   48   66   57   93   56\n",
       "구영수  20317381  빅데이터전공   2   59   64   60   70   74  100   58   86\n",
       "조대욱  20256200  빅데이터전공   3   95   60   69   60   56   86   66   67\n",
       "함민윤  20287478  빅데이터전공   2   47   70  100   77   97   63   46   84\n",
       "이강현  20297381  빅데이터전공   2   55   91   90   59   59   94   66   94\n",
       "심성영  20287540  빅데이터전공   2   56   96   80   79   95   92   71   65\n",
       "이재빈  20297433  빅데이터전공   2   80   53   43   66   85   78   82   66\n",
       "길대민  20317391  빅데이터전공   2   86   74   94   79   84   46   79   84\n",
       "함성현  20285865  빅데이터전공   2   68   74   91   67   53   57   62   77\n",
       "유승현  20293372  빅데이터전공   2   70   75   61   63  100   57   79   59\n",
       "임강규  20287373  빅데이터전공   2   70   88   71   94   85  100   94   67\n",
       "정서성  20287480  빅데이터전공   4   54   42   49   69   60   41   49  100\n",
       "배상윤  20337358  빅데이터전공   2   98   58   60   53   43   65  100   79\n",
       "윤주인  20337397  빅데이터전공   4   68   62   78   52   65   99   63   80\n",
       "김여환  20277462  빅데이터전공   2   64   65   87   66   92   76   78   97\n",
       "이은경  20318996  빅데이터전공   2   67   62   53   55   61   94   95   76"
      ]
     },
     "execution_count": 203,
     "metadata": {},
     "output_type": "execute_result"
    }
   ],
   "source": [
    "scores[(scores['소속'] == '전자공학과') | (scores['소속'] == '빅데이터전공')]"
   ]
  },
  {
   "cell_type": "code",
   "execution_count": 205,
   "id": "10e80249-400b-491c-a349-774a8265730a",
   "metadata": {
    "tags": []
   },
   "outputs": [
    {
     "data": {
      "text/plain": [
       "이름\n",
       "길은영    False\n",
       "임희윤    False\n",
       "류준산    False\n",
       "한성빈    False\n",
       "김화원    False\n",
       "       ...  \n",
       "신한산    False\n",
       "윤주인     True\n",
       "김여환     True\n",
       "남용원    False\n",
       "이은경     True\n",
       "Name: 소속, Length: 76, dtype: bool"
      ]
     },
     "execution_count": 205,
     "metadata": {},
     "output_type": "execute_result"
    }
   ],
   "source": [
    "scores['소속'].isin(['전자공학과', '빅데이터전공'])"
   ]
  },
  {
   "cell_type": "code",
   "execution_count": null,
   "id": "fb45c0af-4e88-48b2-9a99-8fb7117e46a3",
   "metadata": {},
   "outputs": [],
   "source": []
  }
 ],
 "metadata": {
  "kernelspec": {
   "display_name": "Python 3 (ipykernel)",
   "language": "python",
   "name": "python3"
  },
  "language_info": {
   "codemirror_mode": {
    "name": "ipython",
    "version": 3
   },
   "file_extension": ".py",
   "mimetype": "text/x-python",
   "name": "python",
   "nbconvert_exporter": "python",
   "pygments_lexer": "ipython3",
   "version": "3.9.7"
  }
 },
 "nbformat": 4,
 "nbformat_minor": 5
}
