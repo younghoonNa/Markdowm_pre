{
 "cells": [
  {
   "cell_type": "markdown",
   "metadata": {},
   "source": [
    "<h1 align='center'> 파이썬과학프로그래밍기초 실습 2</h1>\n",
    "\n",
    "<p style=\"text-align: right\"> 2022.3.17</p>"
   ]
  },
  {
   "cell_type": "markdown",
   "metadata": {},
   "source": [
    "<div class=\"alert alert-block alert-info\">\n",
    "    \n",
    "- 파일 이름에서 20185124을 자신의 학번으로, name을 자신의 이름으로 수정하세요.\n",
    "\n",
    "- 다음 줄에 자신의 이름, 학번, 학과(전공)을 적으세요.\n",
    "\n",
    "* 이름:   나영훈          학번:   20185124         학과(전공):  빅데이터 전공\n",
    "    \n",
    "</div>\n",
    "\n",
    "- JupyterLab 문서의 최신 버전은 [JupyterLab Documentation](https://jupyterlab.readthedocs.io/en/stable/index.html#/)을  참고하라\n",
    "\n",
    "- Markdown은 [Markdown Guide](https://www.markdownguide.org/)를 참고하라.\n",
    "- [Markdown Cheat Sheet](https://www.markdownguide.org/cheat-sheet/)\n",
    "\n",
    "* 제출 마감: 3월 23일 (수) 오후 6:00까지 최종본 SmartLEAD에 제출"
   ]
  },
  {
   "cell_type": "code",
   "execution_count": null,
   "metadata": {},
   "outputs": [],
   "source": [
    "import sys\n",
    "sys.version"
   ]
  },
  {
   "cell_type": "markdown",
   "metadata": {},
   "source": [
    "## 객체들의 비교 연산\n",
    "\n",
    "### 예제 1. \n",
    "다음 연산 결과가 나온 이유를 설명하라."
   ]
  },
  {
   "cell_type": "code",
   "execution_count": 1,
   "metadata": {},
   "outputs": [
    {
     "data": {
      "text/plain": [
       "True"
      ]
     },
     "execution_count": 1,
     "metadata": {},
     "output_type": "execute_result"
    }
   ],
   "source": [
    "45 > 5"
   ]
  },
  {
   "cell_type": "markdown",
   "metadata": {},
   "source": [
    "**설명**: 45라는 값이 5보다 크기 때문"
   ]
  },
  {
   "cell_type": "code",
   "execution_count": 2,
   "metadata": {},
   "outputs": [
    {
     "ename": "TypeError",
     "evalue": "'>' not supported between instances of 'int' and 'complex'",
     "output_type": "error",
     "traceback": [
      "\u001b[0;31m---------------------------------------------------------------------------\u001b[0m",
      "\u001b[0;31mTypeError\u001b[0m                                 Traceback (most recent call last)",
      "\u001b[0;32m/var/folders/hp/zz_v74bx3912w8s2fz07537r0000gn/T/ipykernel_34392/16931590.py\u001b[0m in \u001b[0;36m<module>\u001b[0;34m\u001b[0m\n\u001b[0;32m----> 1\u001b[0;31m \u001b[0;36m3\u001b[0m \u001b[0;34m>\u001b[0m \u001b[0;36m3\u001b[0m\u001b[0;34m+\u001b[0m \u001b[0;36m3j\u001b[0m\u001b[0;34m\u001b[0m\u001b[0;34m\u001b[0m\u001b[0m\n\u001b[0m",
      "\u001b[0;31mTypeError\u001b[0m: '>' not supported between instances of 'int' and 'complex'"
     ]
    }
   ],
   "source": [
    "3 > 3+ 3j"
   ]
  },
  {
   "cell_type": "markdown",
   "metadata": {},
   "source": [
    "**설명**: 복소수 연산 (complex 자료형)은 비교가 불가능."
   ]
  },
  {
   "cell_type": "code",
   "execution_count": 3,
   "metadata": {},
   "outputs": [
    {
     "data": {
      "text/plain": [
       "False"
      ]
     },
     "execution_count": 3,
     "metadata": {},
     "output_type": "execute_result"
    }
   ],
   "source": [
    "'a' > 'b'"
   ]
  },
  {
   "cell_type": "code",
   "execution_count": 7,
   "metadata": {},
   "outputs": [
    {
     "data": {
      "text/plain": [
       "(97, 98)"
      ]
     },
     "execution_count": 7,
     "metadata": {},
     "output_type": "execute_result"
    }
   ],
   "source": [
    "ord('a'), ord('b')"
   ]
  },
  {
   "cell_type": "markdown",
   "metadata": {},
   "source": [
    "**설명**: 유니코드 상에서 'a'는 97, 'b'는 98이기 때문"
   ]
  },
  {
   "cell_type": "code",
   "execution_count": 14,
   "metadata": {},
   "outputs": [
    {
     "data": {
      "text/plain": [
       "True"
      ]
     },
     "execution_count": 14,
     "metadata": {},
     "output_type": "execute_result"
    }
   ],
   "source": [
    "'가' > 'abc'"
   ]
  },
  {
   "cell_type": "code",
   "execution_count": 13,
   "metadata": {},
   "outputs": [
    {
     "data": {
      "text/plain": [
       "(44032, 97)"
      ]
     },
     "execution_count": 13,
     "metadata": {},
     "output_type": "execute_result"
    }
   ],
   "source": [
    "ord('가'), ord('a')"
   ]
  },
  {
   "cell_type": "markdown",
   "metadata": {},
   "source": [
    "**설명**: 가와 a는 유니코드 상에서 44032, 97이다. 따라서 `가` 가 더 크기 때문에 True 를 반환한다."
   ]
  },
  {
   "cell_type": "code",
   "execution_count": 9,
   "metadata": {},
   "outputs": [
    {
     "data": {
      "text/plain": [
       "True"
      ]
     },
     "execution_count": 9,
     "metadata": {},
     "output_type": "execute_result"
    }
   ],
   "source": [
    "[1, 5, 'tabc'] > [1, 5, 'str']"
   ]
  },
  {
   "cell_type": "code",
   "execution_count": 12,
   "metadata": {},
   "outputs": [
    {
     "data": {
      "text/plain": [
       "(116, 115)"
      ]
     },
     "execution_count": 12,
     "metadata": {},
     "output_type": "execute_result"
    }
   ],
   "source": [
    "ord('t'), ord('s')"
   ]
  },
  {
   "cell_type": "markdown",
   "metadata": {},
   "source": [
    "**설명**: 앞의 1이 같으므로 뒤인 5로, 5도 같으므로 뒤로 넘김. 뒤에서는 \n",
    "'t'와, 's' 의 값이 차이가 나기 떄문에 T/F중 하나를 반환해야함. 유니코드 상에서 t와 s는 각각 116, 115이므로 True를 반환."
   ]
  },
  {
   "cell_type": "code",
   "execution_count": 15,
   "metadata": {},
   "outputs": [
    {
     "data": {
      "text/plain": [
       "True"
      ]
     },
     "execution_count": 15,
     "metadata": {},
     "output_type": "execute_result"
    }
   ],
   "source": [
    "(2, 2) > (1, 1, 5)"
   ]
  },
  {
   "cell_type": "markdown",
   "metadata": {},
   "source": [
    "**설명**: 처음 값 2와 1을 비교했을 때 왼쪽이 더 크기 때문. 연산의 결과가 나왔으므로 뒤는 비교하지 않는다."
   ]
  },
  {
   "cell_type": "markdown",
   "metadata": {},
   "source": [
    "## 정수의 비트 단위 연산\n",
    "\n",
    "### 예제 2. \n",
    "다음 연산 과정을 설명하라"
   ]
  },
  {
   "cell_type": "code",
   "execution_count": 16,
   "metadata": {},
   "outputs": [
    {
     "data": {
      "text/plain": [
       "(4, 7, 3)"
      ]
     },
     "execution_count": 16,
     "metadata": {},
     "output_type": "execute_result"
    }
   ],
   "source": [
    "5&6, 5|6, 5^6 "
   ]
  },
  {
   "cell_type": "code",
   "execution_count": 25,
   "metadata": {},
   "outputs": [
    {
     "data": {
      "text/plain": [
       "('101', '110')"
      ]
     },
     "execution_count": 25,
     "metadata": {},
     "output_type": "execute_result"
    }
   ],
   "source": [
    "bin(5)[2:], bin(6)[2:]\n",
    "\n",
    "#101\n",
    "#110 \n",
    "\n",
    "#100 (and) -> 4\n",
    "#111 (or)  -> 7\n",
    "#011 (xor) -> 3"
   ]
  },
  {
   "cell_type": "markdown",
   "metadata": {},
   "source": [
    "**설명**: bin()을 통해 5와 6을 2진수로 변환후 And, or, xor 연산을 하였습니다.\n",
    "\n",
    "- `&` : and 연산자로 피연산자값 값이 모두 1이여야 1이 됨, 1이 하나만 있다면 0을 출력. 따라서 $ 100_{(2)} \\rightarrow 4_{(10)} $  을 출력\n",
    "- `|` : or 연산자로 피연산자값이 하나만 1이여도 1을 출력, 모두 0일 때만 0을 출력.  따라서 $ 111_{(2)} \\rightarrow 7_{(10)} $ 을 출력\n",
    "- `^` : xor 연산자로 피연산자 값이 다르면 1을 출력, 같으면 0을 출력.  따라서 $ 011_{(2)} \\rightarrow 3_{(10)} $ 을 출력"
   ]
  },
  {
   "cell_type": "code",
   "execution_count": 22,
   "metadata": {},
   "outputs": [
    {
     "data": {
      "text/plain": [
       "(11, -1, -12)"
      ]
     },
     "execution_count": 22,
     "metadata": {},
     "output_type": "execute_result"
    }
   ],
   "source": [
    "-5&15, -5|15, -5^15"
   ]
  },
  {
   "cell_type": "code",
   "execution_count": 26,
   "metadata": {},
   "outputs": [
    {
     "data": {
      "text/plain": [
       "('-0b101', '0b1111')"
      ]
     },
     "execution_count": 26,
     "metadata": {},
     "output_type": "execute_result"
    }
   ],
   "source": [
    "bin(-5), bin(15)"
   ]
  },
  {
   "cell_type": "markdown",
   "metadata": {},
   "source": [
    "5  -> 0 0101 <br>\n",
    "-5 -> 1 1011 (1의 보수를 한 후 1을 더함 == 2의 보수) <br> \n",
    "15 -> 0 1111\n",
    "\n",
    "**설명**: \n",
    "\n",
    "- `&` : and 연산자로 피연산자값 값이 모두 1이여야 1이 됨, 1이 하나만 있다면 0을 출력\n",
    "- `|` : or 연산자로 피연산자값이 하나만 1이여도 1을 출력, 모두 0일 때만 0을 출력\n",
    "- `^` : xor 연산자로 피연산자 값이 다르면 1을 출력, 같으면 0을 출력.\n",
    "\n",
    "<br>\n",
    "\n",
    "- `&`연산의 결과는 0 1011. 따라서 $ 1011_{(2)} \\rightarrow 11_{(10)} $ 을 출력\n",
    "- `|`연산의 결과는 1 1111. 따라서 $ 1 1111_{(2)} \\rightarrow  (-16 + 15) \\rightarrow -1_{(10)} $ 을 출력\n",
    "- `^` 연산의 결과는 0 1011. 따라서 $ 1 0100_{(2)} \\rightarrow -12_{(10)}  $ 을 출력"
   ]
  },
  {
   "cell_type": "markdown",
   "metadata": {
    "tags": []
   },
   "source": [
    "## Markdown에서 LaTeX 수식 관련\n",
    "\n",
    "### 예제 3. \n",
    "아래 문장을 새로운 셀에 그대로 적어 보라.\n",
    "\n",
    "행렬은 수 또는 다항식들을 직사각형 형태로 배열한 것이다.\n",
    "\n",
    "$$ A = \\begin{bmatrix}\n",
    "            3 & 5 & 7\\\\\n",
    "            1 & 3 & 4\\\\\n",
    "\\end{bmatrix}\n",
    "\\begin{bmatrix} 1 & 2 \\\\ 2 & 3 \\\\ 1 & -1\\end{bmatrix}\n",
    "= \\begin{bmatrix} \n",
    "(3)(1) + (5)(2) + (7)(1) &  (3)(2) + (5)(3) + (7)(-1) \\\\\n",
    "(1)(1) + (3)(2) + (4)(1) &  (1)(2) + (3)(3) + (4)(-1)\n",
    "\\end{bmatrix}\n",
    "= \\begin{bmatrix} \n",
    "20 &  14 \\\\\n",
    "11 &  7\n",
    "\\end{bmatrix}\n",
    "$$"
   ]
  },
  {
   "cell_type": "markdown",
   "metadata": {},
   "source": [
    "**여기에 위의 식을 다시 작성하라**\n",
    "\n",
    "- `bmatrix` : 대괄호 \n",
    "- `pmatrix` : 소괄호\n",
    "\n",
    " \n",
    "\n",
    "$$\\\n",
    "    A = \\begin{bmatrix} 3 & 5 & 7\\\\ 1 & 3 & 4\\\\ \\end{bmatrix} \\begin{bmatrix} 1 & 2\\\\ 2 & 3\\\\ 1 & -1\\\\ \\end{bmatrix}\\\n",
    "    = \\begin{bmatrix} (3)(1) + (5)(2) + (7)(1) & (3)(2) + (5)(3) + (7)(-1)\\\\ \\\n",
    "    (1)(1) + (3)(2) + (4)(1) & (1)(2) + (3)(3) + (4)(-1) \\end{bmatrix}\\\n",
    "    = \\begin{bmatrix} 20 & 14\\\\ 11 & 7 \\end{bmatrix} \\\n",
    "   $$\n",
    "\n",
    "\n",
    "\n"
   ]
  },
  {
   "cell_type": "code",
   "execution_count": null,
   "metadata": {},
   "outputs": [],
   "source": [
    "# **여기에 위의 식을 다시 작성하라**\n",
    "\n",
    "# - `bmatrix` : 대괄호 \n",
    "# - `pmatrix` : 소괄호\n",
    "\n",
    " \n",
    "\n",
    "# $$\\\n",
    "#     A = \\begin{bmatrix} 3 & 5 & 7\\\\ 1 & 3 & 4\\\\ \\end{bmatrix} \\begin{bmatrix} 1 & 2\\\\ 2 & 3\\\\ 1 & -1\\\\ \\end{bmatrix}\\\n",
    "#     = \\begin{bmatrix} (3)(1) + (5)(2) + (7)(1) & (3)(2) + (5)(3) + (7)(-1)\\\\ \\\n",
    "#     (1)(1) + (3)(2) + (4)(1) & (1)(2) + (3)(3) + (4)(-1) \\end{bmatrix}\\\n",
    "#     = \\begin{bmatrix} 20 & 14\\\\ 11 & 7 \\end{bmatrix} \\\n",
    "#    $$\n",
    "\n",
    "\n",
    "\n"
   ]
  },
  {
   "cell_type": "markdown",
   "metadata": {},
   "source": [
    "- NumPy의 다차원 배열을 이용하면 위의 행렬 곱 연산을 다음과 같이 구할 수 있다."
   ]
  },
  {
   "cell_type": "code",
   "execution_count": 28,
   "metadata": {},
   "outputs": [
    {
     "data": {
      "text/plain": [
       "array([[20, 14],\n",
       "       [11,  7]])"
      ]
     },
     "execution_count": 28,
     "metadata": {},
     "output_type": "execute_result"
    }
   ],
   "source": [
    "import numpy as np\n",
    "a = np.array([[3,5,7],[1,3,4]])\n",
    "b = np.array([[1,2],[2,3],[1,-1]])\n",
    "a@b"
   ]
  },
  {
   "cell_type": "markdown",
   "metadata": {},
   "source": [
    "`@` 는 행렬의 곱"
   ]
  },
  {
   "cell_type": "markdown",
   "metadata": {
    "tags": []
   },
   "source": [
    "### 예제 4. while loop의 break와 continue\n",
    "\n",
    "다음 예제 프로그램을 실행하라"
   ]
  },
  {
   "cell_type": "code",
   "execution_count": 29,
   "metadata": {},
   "outputs": [
    {
     "name": "stdout",
     "output_type": "stream",
     "text": [
      "1\n",
      "2\n",
      "3\n",
      "4\n",
      "5\n",
      "6\n",
      "End of program.\n"
     ]
    }
   ],
   "source": [
    "n = 1\n",
    "while n < 7:\n",
    "    print(n)\n",
    "    n = n + 1\n",
    "print('End of program.')"
   ]
  },
  {
   "cell_type": "markdown",
   "metadata": {},
   "source": [
    "#### While loop 안에서  break 사용"
   ]
  },
  {
   "cell_type": "code",
   "execution_count": 30,
   "metadata": {},
   "outputs": [
    {
     "name": "stdout",
     "output_type": "stream",
     "text": [
      "1\n",
      "2\n",
      "3\n",
      "End of program.\n"
     ]
    }
   ],
   "source": [
    "n = 1\n",
    "while n < 7:\n",
    "    if (n % 4 == 0):\n",
    "        break\n",
    "    print(n)\n",
    "    n = n+1\n",
    "print('End of program.')"
   ]
  },
  {
   "cell_type": "markdown",
   "metadata": {},
   "source": [
    "##### While loop 안에서  continue 사용"
   ]
  },
  {
   "cell_type": "code",
   "execution_count": 31,
   "metadata": {},
   "outputs": [
    {
     "name": "stdout",
     "output_type": "stream",
     "text": [
      "1\n",
      "2\n",
      "3\n",
      "5\n",
      "6\n",
      "End of program.\n"
     ]
    }
   ],
   "source": [
    "n = 1\n",
    "while n < 7:\n",
    "    if (n % 4 == 0):\n",
    "        n = n + 1\n",
    "        continue\n",
    "    print(n)\n",
    "    n = n+1\n",
    "print('End of program.')"
   ]
  },
  {
   "cell_type": "markdown",
   "metadata": {},
   "source": [
    "### 예제 5. \n",
    "예제 4에 있는 세 개의 프로그램을 for loop을 이용해서 각각 다시 작성하라."
   ]
  },
  {
   "cell_type": "code",
   "execution_count": 117,
   "metadata": {},
   "outputs": [
    {
     "name": "stdout",
     "output_type": "stream",
     "text": [
      "1\n",
      "2\n",
      "3\n",
      "4\n",
      "5\n",
      "6\n",
      "End of Program\n"
     ]
    }
   ],
   "source": [
    "# n = 1\n",
    "# while n < 7:\n",
    "#     print(n)\n",
    "#     n = n + 1\n",
    "# print('End of program.')\n",
    "\n",
    "\n",
    "for i in range(1,7,1):\n",
    "    print(i)\n",
    "    \n",
    "print(\"End of Program\")"
   ]
  },
  {
   "cell_type": "code",
   "execution_count": 121,
   "metadata": {},
   "outputs": [
    {
     "name": "stdout",
     "output_type": "stream",
     "text": [
      "1\n",
      "2\n",
      "3\n",
      "End of program\n"
     ]
    }
   ],
   "source": [
    "# n = 1\n",
    "# while n < 7:\n",
    "#     if (n % 4 == 0):\n",
    "#         break\n",
    "#     print(n)\n",
    "#     n = n+1\n",
    "# print('End of program.')\n",
    "\n",
    "for n in range(1,7):\n",
    "    if(n%4==0):\n",
    "        break\n",
    "    print(n)\n",
    "    \n",
    "print(\"End of program\")"
   ]
  },
  {
   "cell_type": "code",
   "execution_count": 120,
   "metadata": {},
   "outputs": [
    {
     "name": "stdout",
     "output_type": "stream",
     "text": [
      "1\n",
      "2\n",
      "3\n",
      "5\n",
      "6\n",
      "End of program.\n"
     ]
    }
   ],
   "source": [
    "# n = 1\n",
    "# while n < 7:\n",
    "#     if (n % 4 == 0):\n",
    "#         n = n + 1\n",
    "#         continue\n",
    "#     print(n)\n",
    "#     n = n+1\n",
    "# print('End of program.')\n",
    "\n",
    "for n in range(1,7):\n",
    "    if (n % 4 == 0):\n",
    "        continue\n",
    "    print(n)\n",
    "print('End of program.')"
   ]
  },
  {
   "cell_type": "markdown",
   "metadata": {},
   "source": [
    "### 예제 6. \n",
    "다음 리스트 또는 튜플 안의 수의 합을 구하는 프로그램을 작성하라."
   ]
  },
  {
   "cell_type": "code",
   "execution_count": 37,
   "metadata": {},
   "outputs": [
    {
     "data": {
      "text/plain": [
       "23"
      ]
     },
     "execution_count": 37,
     "metadata": {},
     "output_type": "execute_result"
    }
   ],
   "source": [
    "numbers = [1, 5, 3, 6, 8]\n",
    "sum(numbers)"
   ]
  },
  {
   "cell_type": "code",
   "execution_count": 126,
   "metadata": {},
   "outputs": [
    {
     "name": "stdout",
     "output_type": "stream",
     "text": [
      "23\n"
     ]
    }
   ],
   "source": [
    "numbers = (1, 5, 3, 6, 8)\n",
    "\n",
    "s1 = 0\n",
    "for i in range(5):\n",
    "    s1 += numbers[i]\n",
    "print(s1)"
   ]
  },
  {
   "cell_type": "code",
   "execution_count": 127,
   "metadata": {},
   "outputs": [
    {
     "name": "stdout",
     "output_type": "stream",
     "text": [
      "23\n"
     ]
    }
   ],
   "source": [
    "numbers = [1, 5, 3, 6, 8]\n",
    "\n",
    "s2 = 0\n",
    "for i in range(len(numbers)):\n",
    "    s2 += numbers[i]\n",
    "    \n",
    "print(s2)"
   ]
  },
  {
   "cell_type": "code",
   "execution_count": 128,
   "metadata": {},
   "outputs": [
    {
     "name": "stdout",
     "output_type": "stream",
     "text": [
      "23\n"
     ]
    }
   ],
   "source": [
    "numbers = (1, 5, 3, 6, 8)\n",
    "\n",
    "s3=0\n",
    "for i in numbers:\n",
    "    s3 += i\n",
    "    \n",
    "print(s3)"
   ]
  },
  {
   "cell_type": "markdown",
   "metadata": {},
   "source": [
    "### 예제 7. \n",
    "예제 6의 프로그램을 튜플의 모든 수를 곱한 결과를 출력하도록 수정하라."
   ]
  },
  {
   "cell_type": "code",
   "execution_count": 53,
   "metadata": {},
   "outputs": [
    {
     "name": "stdout",
     "output_type": "stream",
     "text": [
      "720\n"
     ]
    }
   ],
   "source": [
    "numbers = (1, 5, 3, 6, 8)\n",
    "\n",
    "mul = 1\n",
    "for i in numbers:\n",
    "    # print(i)\n",
    "    mul *= i\n",
    "\n",
    "print(mul)"
   ]
  },
  {
   "cell_type": "markdown",
   "metadata": {},
   "source": [
    "### 예제 8. \n",
    "예제 6의 프로그램에서 튜플에 숫자가 아닌 객체가 있는 경우를 생각해 보자. 다음 셀의 프로그램은 실행 중에 오류가 발생한다. numbers라는 리스트의 숫자만 더해서 합을 계산하도록 수정하라."
   ]
  },
  {
   "cell_type": "code",
   "execution_count": 2,
   "metadata": {},
   "outputs": [],
   "source": [
    "numbs = (1, 5.5, 3.2, 'a', 8)"
   ]
  },
  {
   "cell_type": "code",
   "execution_count": 5,
   "metadata": {
    "scrolled": true
   },
   "outputs": [
    {
     "name": "stdout",
     "output_type": "stream",
     "text": [
      "17.7\n"
     ]
    }
   ],
   "source": [
    "sum_of_num = 0\n",
    "\n",
    "for e in numbs:    \n",
    "    if(type(e) != str):  # 내가 쓴 답. if(type(e) != type('a'):\n",
    "        sum_of_num += e\n",
    "        \n",
    "print(sum_of_num)"
   ]
  },
  {
   "cell_type": "code",
   "execution_count": 137,
   "metadata": {},
   "outputs": [
    {
     "name": "stdout",
     "output_type": "stream",
     "text": [
      "17.7\n"
     ]
    }
   ],
   "source": [
    "numbs = (1, 5.5, 3.2, [1,3], 8)\n",
    "\n",
    "sum_of_num = 0\n",
    "\n",
    "for e in numbs:    \n",
    "    if(type(e) == type(1) or type(e) == float):\n",
    "        sum_of_num += e\n",
    "        \n",
    "print(sum_of_num)"
   ]
  },
  {
   "cell_type": "code",
   "execution_count": 138,
   "metadata": {},
   "outputs": [
    {
     "data": {
      "text/plain": [
       "True"
      ]
     },
     "execution_count": 138,
     "metadata": {},
     "output_type": "execute_result"
    }
   ],
   "source": [
    "import numbers\n",
    "isinstance(3+4.5j, numbers.Number)\n",
    "isinstance(3+4.5j, complex)"
   ]
  },
  {
   "cell_type": "code",
   "execution_count": 82,
   "metadata": {},
   "outputs": [
    {
     "data": {
      "text/plain": [
       "True"
      ]
     },
     "execution_count": 82,
     "metadata": {},
     "output_type": "execute_result"
    }
   ],
   "source": [
    "isinstance(True, numbers.Number)"
   ]
  },
  {
   "cell_type": "code",
   "execution_count": 141,
   "metadata": {},
   "outputs": [],
   "source": [
    "numbs = (1, 5.5, 3.2, 'a', 8, 3+4.5j, True)"
   ]
  },
  {
   "cell_type": "code",
   "execution_count": 142,
   "metadata": {},
   "outputs": [
    {
     "name": "stdout",
     "output_type": "stream",
     "text": [
      "(21.7+4.5j)\n"
     ]
    }
   ],
   "source": [
    "sum_of_num = 0\n",
    "\n",
    "for e in numbs:    \n",
    "    if(type(e) == type(1) or type(e) == float or type(e) == complex or type(e) == bool):\n",
    "        sum_of_num += e\n",
    "        \n",
    "print(sum_of_num)"
   ]
  },
  {
   "cell_type": "code",
   "execution_count": 153,
   "metadata": {},
   "outputs": [
    {
     "name": "stdout",
     "output_type": "stream",
     "text": [
      "(21.7+4.5j)\n"
     ]
    }
   ],
   "source": [
    "import numbers\n",
    "\n",
    "sum_of_num = 0\n",
    "\n",
    "for e in numbs:    \n",
    "    if(isinstance(e, numbers.Number)):\n",
    "        sum_of_num += e\n",
    "        \n",
    "print(sum_of_num)"
   ]
  },
  {
   "cell_type": "code",
   "execution_count": 143,
   "metadata": {},
   "outputs": [
    {
     "data": {
      "text/plain": [
       "True"
      ]
     },
     "execution_count": 143,
     "metadata": {},
     "output_type": "execute_result"
    }
   ],
   "source": [
    "type(4) == int"
   ]
  },
  {
   "cell_type": "code",
   "execution_count": 147,
   "metadata": {},
   "outputs": [
    {
     "data": {
      "text/plain": [
       "False"
      ]
     },
     "execution_count": 147,
     "metadata": {},
     "output_type": "execute_result"
    }
   ],
   "source": [
    "isinstance('str', int)"
   ]
  },
  {
   "cell_type": "code",
   "execution_count": 148,
   "metadata": {},
   "outputs": [
    {
     "data": {
      "text/plain": [
       "True"
      ]
     },
     "execution_count": 148,
     "metadata": {},
     "output_type": "execute_result"
    }
   ],
   "source": [
    "isinstance(4, int)"
   ]
  },
  {
   "cell_type": "code",
   "execution_count": 150,
   "metadata": {},
   "outputs": [
    {
     "data": {
      "text/plain": [
       "False"
      ]
     },
     "execution_count": 150,
     "metadata": {},
     "output_type": "execute_result"
    }
   ],
   "source": [
    "isinstance(3+3j, int)"
   ]
  },
  {
   "cell_type": "markdown",
   "metadata": {},
   "source": [
    "### 예제 10. \n",
    "다음 셀을 실행해 보라."
   ]
  },
  {
   "cell_type": "code",
   "execution_count": 175,
   "metadata": {},
   "outputs": [
    {
     "name": "stdout",
     "output_type": "stream",
     "text": [
      "[10, 2, 8, 4, 5]\n"
     ]
    }
   ],
   "source": [
    "import random\n",
    "random_samples = random.sample(range(1, 11), 5)\n",
    "print(random_samples)"
   ]
  },
  {
   "cell_type": "code",
   "execution_count": 176,
   "metadata": {
    "scrolled": true
   },
   "outputs": [
    {
     "name": "stdout",
     "output_type": "stream",
     "text": [
      "Help on method sample in module random:\n",
      "\n",
      "sample(population, k, *, counts=None) method of random.Random instance\n",
      "    Chooses k unique random elements from a population sequence or set.\n",
      "    \n",
      "    Returns a new list containing elements from the population while\n",
      "    leaving the original population unchanged.  The resulting list is\n",
      "    in selection order so that all sub-slices will also be valid random\n",
      "    samples.  This allows raffle winners (the sample) to be partitioned\n",
      "    into grand prize and second place winners (the subslices).\n",
      "    \n",
      "    Members of the population need not be hashable or unique.  If the\n",
      "    population contains repeats, then each occurrence is a possible\n",
      "    selection in the sample.\n",
      "    \n",
      "    Repeated elements can be specified one at a time or with the optional\n",
      "    counts parameter.  For example:\n",
      "    \n",
      "        sample(['red', 'blue'], counts=[4, 2], k=5)\n",
      "    \n",
      "    is equivalent to:\n",
      "    \n",
      "        sample(['red', 'red', 'red', 'red', 'blue', 'blue'], k=5)\n",
      "    \n",
      "    To choose a sample from a range of integers, use range() for the\n",
      "    population argument.  This is especially fast and space efficient\n",
      "    for sampling from a large population:\n",
      "    \n",
      "        sample(range(10000000), 60)\n",
      "\n"
     ]
    }
   ],
   "source": [
    "help(random.sample)"
   ]
  },
  {
   "cell_type": "markdown",
   "metadata": {},
   "source": [
    "### 예제 11. \n",
    "다음 프로그램이 무엇을 하는 프로그램인지 이해해 보자."
   ]
  },
  {
   "cell_type": "code",
   "execution_count": 177,
   "metadata": {},
   "outputs": [
    {
     "name": "stdout",
     "output_type": "stream",
     "text": [
      "1과 10 사이의 정수를 입력하시오:  100\n"
     ]
    },
    {
     "name": "stdout",
     "output_type": "stream",
     "text": [
      "100는(은) 리스트에 포함되어 있지 않다.\n",
      "<module 'numbers' from '/Users/younghoonna/opt/anaconda3/lib/python3.9/numbers.py'>\n"
     ]
    }
   ],
   "source": [
    "numbs = random.sample(range(1, 11), 5)\n",
    "in_numb = int(input(\"1과 10 사이의 정수를 입력하시오: \"))\n",
    "\n",
    "found = False #sentinel\n",
    "for num in numbs:\n",
    "    if num == in_numb:\n",
    "        found = True\n",
    "        break\n",
    "\n",
    "if found:\n",
    "    print(f\"{in_numb}는(은) 리스트에 포함되어 있다.\")\n",
    "else:\n",
    "    print(f\"{in_numb}는(은) 리스트에 포함되어 있지 않다.\")\n",
    "print(numbers)          "
   ]
  },
  {
   "cell_type": "markdown",
   "metadata": {},
   "source": [
    "**설명**: 1부터 11보다 작은, 즉 1부터 10까지의 수 중 5개의 랜덤 수(난수)를 생성하여 리스트에 집어 넣는다. <br>\n",
    "만약 내가 고른 수가 리스트에 있다면 found = True가 되어 반복문을 탈출, 그리고 내가 입력한 수가 포함되어있다는 문장을, <br>\n",
    "반복문을 다 돌았는데 False가 유지되어 있다면 포함되어 있지 않다는 명령어를 출력한다."
   ]
  },
  {
   "cell_type": "markdown",
   "metadata": {},
   "source": [
    "### 예제 12. \n",
    "예제 11을 다음과 같이 수정할 수 있다. 이 예제의 for-else 구문에서 else의 블록이 언제 실행되는지 설명하라."
   ]
  },
  {
   "cell_type": "code",
   "execution_count": 190,
   "metadata": {},
   "outputs": [
    {
     "name": "stdout",
     "output_type": "stream",
     "text": [
      "1과 10 사이의 정수를 입력하시오:  10\n"
     ]
    },
    {
     "name": "stdout",
     "output_type": "stream",
     "text": [
      "10는 리스트에 포함되어 있다.\n",
      "[2, 10, 4, 5, 8]\n"
     ]
    }
   ],
   "source": [
    "numbers = random.sample(range(1, 11), 5)\n",
    "in_num = int(input(\"1과 10 사이의 정수를 입력하시오: \"))\n",
    "\n",
    "for num in numbers:\n",
    "    if num == in_num:\n",
    "        print(f\"{in_num}는 리스트에 포함되어 있다.\")\n",
    "        break\n",
    "else:\n",
    "    print(f\"{in_num}는 리스트에 포함되어 있지 않다.\")\n",
    "print(numbers)          "
   ]
  },
  {
   "cell_type": "markdown",
   "metadata": {},
   "source": [
    "**설명**: sentinal flag를 사용하지 않고 바로 출력문을 출력 후 반복문을 출력한다. break를 통해 반복문을 빠져나가면 else를 실행 안함. for 문이 끝난 후에 실행 되는 것이 else 구문."
   ]
  },
  {
   "cell_type": "markdown",
   "metadata": {},
   "source": [
    "###  예제 13. \n",
    "예제 11의 프로그램을 in 연산자를 사용해서 for loop을 사용하지 않는 프로그램으로 수정하라."
   ]
  },
  {
   "cell_type": "code",
   "execution_count": 195,
   "metadata": {
    "scrolled": true
   },
   "outputs": [
    {
     "name": "stdout",
     "output_type": "stream",
     "text": [
      "1과 10 사이의 정수를 입력하시오:  10\n"
     ]
    },
    {
     "name": "stdout",
     "output_type": "stream",
     "text": [
      "10는 리스트에 포함되어 있지 않다.\n",
      "[6, 9, 5, 8, 7]\n"
     ]
    }
   ],
   "source": [
    "numbers = random.sample(range(1, 11), 5)\n",
    "in_num = int(input(\"1과 10 사이의 정수를 입력하시오: \"))\n",
    "\n",
    "if in_num in numbers:\n",
    "    print(f\"{in_num}는 리스트에 포함되어 있다.\")\n",
    "else:\n",
    "    print(f\"{in_num}는 리스트에 포함되어 있지 않다.\")\n",
    "print(numbers)          "
   ]
  },
  {
   "cell_type": "markdown",
   "metadata": {},
   "source": [
    "### 예제 14. \n",
    "예제 12에서 다른 부분은 그대로 두고  for loop만 while loop으로 수정하라."
   ]
  },
  {
   "cell_type": "code",
   "execution_count": 17,
   "metadata": {
    "scrolled": true
   },
   "outputs": [
    {
     "name": "stdout",
     "output_type": "stream",
     "text": [
      "1과 10 사이의 정수를 입력하시오:  10\n"
     ]
    },
    {
     "name": "stdout",
     "output_type": "stream",
     "text": [
      "1\n",
      "2\n",
      "3\n",
      "4\n",
      "10는 리스트에 포함되어 있다.\n"
     ]
    }
   ],
   "source": [
    "import random \n",
    "numbers = random.sample(range(1, 11), 5)\n",
    "in_num = int(input(\"1과 10 사이의 정수를 입력하시오: \"))\n",
    "\n",
    "i=0\n",
    "while i<len(numbers):\n",
    "    num = numbers[i]\n",
    "    i+=1\n",
    "    \n",
    "    if num == in_num:\n",
    "        print(f\"{in_num}는 리스트에 포함되어 있다.\")\n",
    "        break\n",
    "        \n",
    "    print(i)\n",
    "\n",
    "\n",
    "# else:\n",
    "#     print(f\"{in_num}는 리스트에 포함되어 있지 않다.\")\n",
    "       "
   ]
  },
  {
   "cell_type": "markdown",
   "metadata": {},
   "source": [
    "### 예제 15. \n",
    "예제 14에서 while 부분을 whlle-else 구문을 이용해서 수정하라. 참고로 while-else 구문에서 else의 역할은 for-else 구문에서 else 역할과 같다."
   ]
  },
  {
   "cell_type": "code",
   "execution_count": 20,
   "metadata": {},
   "outputs": [
    {
     "name": "stdout",
     "output_type": "stream",
     "text": [
      "1과 10 사이의 정수를 입력하시오:  11\n"
     ]
    },
    {
     "name": "stdout",
     "output_type": "stream",
     "text": [
      "11는 리스트에 포함되어 있지 않다.\n"
     ]
    }
   ],
   "source": [
    "import random \n",
    "numbers = random.sample(range(1, 11), 5)\n",
    "in_num = int(input(\"1과 10 사이의 정수를 입력하시오: \"))\n",
    "\n",
    "i=0\n",
    "while i<len(numbers):\n",
    "    num = numbers[i]\n",
    "    i+=1\n",
    "    \n",
    "    if num == in_num:\n",
    "        print(f\"{in_num}는 리스트에 포함되어 있다.\")\n",
    "        break\n",
    "        \n",
    "    # print(i)\n",
    "    \n",
    "else:\n",
    "    print(f\"{in_num}는 리스트에 포함되어 있지 않다.\")"
   ]
  },
  {
   "cell_type": "markdown",
   "metadata": {},
   "source": [
    "### 예제 16. \n",
    "\n",
    "사용자가 키보드로 입력한 문자열이 숫자로만 구성된 것이면 문자열과 True를, 아니면 문자열과 False를 출력하는 과정을 무한 반복하는 프로그램을 작성하라. 단, 사용자가 'q'를 입력하면 프로그램이 종료되어야 한다."
   ]
  },
  {
   "cell_type": "code",
   "execution_count": 31,
   "metadata": {},
   "outputs": [
    {
     "name": "stdout",
     "output_type": "stream",
     "text": [
      "키보드로 무언가 입력 :  1\n"
     ]
    },
    {
     "name": "stdout",
     "output_type": "stream",
     "text": [
      "True\n"
     ]
    },
    {
     "name": "stdout",
     "output_type": "stream",
     "text": [
      "키보드로 무언가 입력 :  2s\n"
     ]
    },
    {
     "name": "stdout",
     "output_type": "stream",
     "text": [
      "False\n"
     ]
    },
    {
     "name": "stdout",
     "output_type": "stream",
     "text": [
      "키보드로 무언가 입력 :  s\n"
     ]
    },
    {
     "name": "stdout",
     "output_type": "stream",
     "text": [
      "False\n"
     ]
    },
    {
     "name": "stdout",
     "output_type": "stream",
     "text": [
      "키보드로 무언가 입력 :  120d\n"
     ]
    },
    {
     "name": "stdout",
     "output_type": "stream",
     "text": [
      "False\n"
     ]
    },
    {
     "name": "stdout",
     "output_type": "stream",
     "text": [
      "키보드로 무언가 입력 :  21ed9\n"
     ]
    },
    {
     "name": "stdout",
     "output_type": "stream",
     "text": [
      "False\n"
     ]
    },
    {
     "name": "stdout",
     "output_type": "stream",
     "text": [
      "키보드로 무언가 입력 :  29148828158218523910001\n"
     ]
    },
    {
     "name": "stdout",
     "output_type": "stream",
     "text": [
      "True\n"
     ]
    },
    {
     "name": "stdout",
     "output_type": "stream",
     "text": [
      "키보드로 무언가 입력 :  0078\n"
     ]
    },
    {
     "name": "stdout",
     "output_type": "stream",
     "text": [
      "True\n"
     ]
    },
    {
     "name": "stdout",
     "output_type": "stream",
     "text": [
      "키보드로 무언가 입력 :  q\n"
     ]
    }
   ],
   "source": [
    "while True:\n",
    "    string = input(\"키보드로 무언가 입력 : \")\n",
    "\n",
    "    if string == 'q':\n",
    "        break;\n",
    "    \n",
    "    for n in range(len(string)):\n",
    "        if not(string[n] >= '0' and string[n] <= '9'):\n",
    "            print(\"False\")\n",
    "            break\n",
    "    else:\n",
    "        print(\"True\")"
   ]
  },
  {
   "cell_type": "markdown",
   "metadata": {},
   "source": [
    "### 예제 17. 소수 구하는 함수 만들기\n",
    "\n"
   ]
  },
  {
   "cell_type": "code",
   "execution_count": 32,
   "metadata": {},
   "outputs": [
    {
     "name": "stdout",
     "output_type": "stream",
     "text": [
      "2 3 5 7 11 13 17 19 23 29 31 37 41 43 47 "
     ]
    }
   ],
   "source": [
    "numb = 52\n",
    "for n in range(2, numb+1):\n",
    "    n_is_a_prime = True\n",
    "    for k in range(2, n//2+1):\n",
    "        if n % k == 0:\n",
    "            n_is_a_prime = False\n",
    "            break\n",
    "    if n_is_a_prime:\n",
    "        print(n, end=\" \")"
   ]
  },
  {
   "cell_type": "code",
   "execution_count": 33,
   "metadata": {},
   "outputs": [],
   "source": [
    "numb = 52\n",
    "\n",
    "def get_primes(numb):\n",
    "    # parameter : numb (int)\n",
    "    # return    : primes\n",
    "    \n",
    "    primes = [] # 빈 리스트.\n",
    "    for n in range(2, numb+1):\n",
    "        n_is_a_prime = True\n",
    "        for k in range(2, n//2+1):\n",
    "            if n % k == 0:\n",
    "                n_is_a_prime = False\n",
    "                break\n",
    "        if n_is_a_prime:\n",
    "            primes.append(n)\n",
    "            \n",
    "    return primes"
   ]
  },
  {
   "cell_type": "code",
   "execution_count": 209,
   "metadata": {},
   "outputs": [
    {
     "data": {
      "text/plain": [
       "[]"
      ]
     },
     "execution_count": 209,
     "metadata": {},
     "output_type": "execute_result"
    }
   ],
   "source": [
    "a = []\n",
    "a"
   ]
  },
  {
   "cell_type": "code",
   "execution_count": 210,
   "metadata": {},
   "outputs": [
    {
     "data": {
      "text/plain": [
       "[5]"
      ]
     },
     "execution_count": 210,
     "metadata": {},
     "output_type": "execute_result"
    }
   ],
   "source": [
    "a.append(5)\n",
    "a"
   ]
  },
  {
   "cell_type": "markdown",
   "metadata": {},
   "source": [
    "### 문제 1. \n",
    "임의의 십진수을 키보드로 입력받아서 이진수 문자열로 변환하여 콘솔에 출력하는 Python 프로그램을 작성하라. 출력 포맷은 bin() 함수를 참조하고, bin() 함수를 사용하면 안된다."
   ]
  },
  {
   "cell_type": "code",
   "execution_count": 39,
   "metadata": {},
   "outputs": [
    {
     "name": "stdout",
     "output_type": "stream",
     "text": [
      "Num :  110\n"
     ]
    },
    {
     "name": "stdout",
     "output_type": "stream",
     "text": [
      "\n",
      "1101110"
     ]
    }
   ],
   "source": [
    "n = int(input(\"Num : \"))\n",
    "\n",
    "string = ''\n",
    "while (n > 1):\n",
    "    string += str(n%2)\n",
    "    n //= 2\n",
    "    \n",
    "string += str(n%2)\n",
    "\n",
    "print()\n",
    "for i in range(len(string)-1, -1, -1):\n",
    "    print(string[i], end='')\n",
    "    \n",
    "    # print(i)"
   ]
  },
  {
   "cell_type": "code",
   "execution_count": null,
   "metadata": {},
   "outputs": [],
   "source": [
    "n = int(input(\"10진수 입력 :\"))\n",
    "print(n)\n",
    "string = \"\"\n",
    "while n > 1:\n",
    "    string+=str(n%2)        \n",
    "    n//=2\n",
    "    \n",
    "\n",
    "string+=str(n%2)        \n",
    "\n",
    "reverse = \"0b\"\n",
    "for s in range(len(string)-1, -1, -1):\n",
    "    reverse+= string[s]\n",
    "    \n",
    "reverse"
   ]
  },
  {
   "cell_type": "markdown",
   "metadata": {},
   "source": [
    "### bin() 함수와 출력문을 똑같이 적용."
   ]
  },
  {
   "cell_type": "code",
   "execution_count": 41,
   "metadata": {},
   "outputs": [
    {
     "name": "stdout",
     "output_type": "stream",
     "text": [
      "Num :  110\n"
     ]
    },
    {
     "name": "stdout",
     "output_type": "stream",
     "text": [
      "'0b1101110'\n"
     ]
    }
   ],
   "source": [
    "n = int(input(\"Num : \"))\n",
    "\n",
    "string = ''\n",
    "while (n > 1):\n",
    "    string += str(n%2)\n",
    "    n //= 2\n",
    "    \n",
    "string += str(n%2)\n",
    "\n",
    "result = '\\'0b'\n",
    "for i in range(len(string)-1, -1, -1):\n",
    "    result += string[i]    \n",
    "\n",
    "result += '\\''\n",
    "print(result)"
   ]
  },
  {
   "cell_type": "code",
   "execution_count": 40,
   "metadata": {},
   "outputs": [
    {
     "data": {
      "text/plain": [
       "'0b1101110'"
      ]
     },
     "execution_count": 40,
     "metadata": {},
     "output_type": "execute_result"
    }
   ],
   "source": [
    "bin(110)"
   ]
  },
  {
   "cell_type": "markdown",
   "metadata": {},
   "source": [
    "# 문제 2. Goldbach의 추측\n",
    "\n",
    "- 2보다 큰 모든 짝수는 소수 2 개의 합으로 표현될 수 있다\n",
    "- 예\n",
    "  - $4 = 2 + 2$\n",
    "  - $6 = 3 + 3$\n",
    "  - $8 = 3 + 5$\n",
    "  - $10 = 3 + 7$ 또는 $5 + 5$\n",
    "  - $12 = 5 + 7$\n",
    "  - $14 = 3 + 11$\n",
    "  - $16 = 3 + 13$ 또는 $5 +7$\n",
    "  - $18 = 5 + 13$ 또는 $7 + 11$\n",
    "\n",
    "사용자가 2보다 큰 짝수를 입력하면 이 짝수를 두 개의 소수의 합으로 표현하는 프로그램을 작성하라. \n",
    "- 사용자의 입력이 2보다 큰 짝수가 아니면 2보다 큰 짝수를 입력하라는 메시지를 출력하고 다시 입력을 기다린다.\n",
    "- 두 소수를 구하면 사용자가 입력한 정수를 두 수의 합으로 표현하는 문자열을 출력하고 다시 사용자의 입력을 기다린다.\n",
    "- 사용자의 입력이 'q'이면 프로그램을 종료한다."
   ]
  },
  {
   "cell_type": "code",
   "execution_count": 88,
   "metadata": {},
   "outputs": [
    {
     "name": "stdout",
     "output_type": "stream",
     "text": [
      "Num :  10\n"
     ]
    },
    {
     "name": "stdout",
     "output_type": "stream",
     "text": [
      "10 = 3 + 7 또는 5 + 5"
     ]
    },
    {
     "name": "stdout",
     "output_type": "stream",
     "text": [
      "Num :  4\n"
     ]
    },
    {
     "name": "stdout",
     "output_type": "stream",
     "text": [
      "4 = 2 + 2"
     ]
    },
    {
     "name": "stdout",
     "output_type": "stream",
     "text": [
      "Num :  6\n"
     ]
    },
    {
     "name": "stdout",
     "output_type": "stream",
     "text": [
      "6 = 3 + 3"
     ]
    },
    {
     "name": "stdout",
     "output_type": "stream",
     "text": [
      "Num :  8\n"
     ]
    },
    {
     "name": "stdout",
     "output_type": "stream",
     "text": [
      "8 = 3 + 5"
     ]
    },
    {
     "name": "stdout",
     "output_type": "stream",
     "text": [
      "Num :  10\n"
     ]
    },
    {
     "name": "stdout",
     "output_type": "stream",
     "text": [
      "10 = 3 + 7 또는 5 + 5"
     ]
    },
    {
     "name": "stdout",
     "output_type": "stream",
     "text": [
      "Num :  12\n"
     ]
    },
    {
     "name": "stdout",
     "output_type": "stream",
     "text": [
      "12 = 5 + 7"
     ]
    },
    {
     "name": "stdout",
     "output_type": "stream",
     "text": [
      "Num :  14\n"
     ]
    },
    {
     "name": "stdout",
     "output_type": "stream",
     "text": [
      "14 = 3 + 11 또는 7 + 7"
     ]
    },
    {
     "name": "stdout",
     "output_type": "stream",
     "text": [
      "Num :  16\n"
     ]
    },
    {
     "name": "stdout",
     "output_type": "stream",
     "text": [
      "16 = 3 + 13 또는 5 + 11"
     ]
    },
    {
     "name": "stdout",
     "output_type": "stream",
     "text": [
      "Num :  18\n"
     ]
    },
    {
     "name": "stdout",
     "output_type": "stream",
     "text": [
      "18 = 5 + 13 또는 7 + 11"
     ]
    },
    {
     "name": "stdout",
     "output_type": "stream",
     "text": [
      "Num :  20\n"
     ]
    },
    {
     "name": "stdout",
     "output_type": "stream",
     "text": [
      "20 = 3 + 17 또는 7 + 13"
     ]
    },
    {
     "name": "stdout",
     "output_type": "stream",
     "text": [
      "Num :  22\n"
     ]
    },
    {
     "name": "stdout",
     "output_type": "stream",
     "text": [
      "22 = 3 + 19 또는 5 + 17 또는 11 + 11"
     ]
    },
    {
     "name": "stdout",
     "output_type": "stream",
     "text": [
      "Num :  q\n"
     ]
    }
   ],
   "source": [
    "import math\n",
    "\n",
    "while(True):\n",
    "    n = input(\"Num : \")\n",
    "    \n",
    "    if(n == 'q'):\n",
    "        break  \n",
    "    else:\n",
    "        if(int(n)%2 ==0 and int(n) > 2):\n",
    "            n = int(n)\n",
    "        else:\n",
    "            print(\" 2보다 큰 짝수가 아닙니다. 다시 입력하세요\")\n",
    "\n",
    "    num = get_primes(n)\n",
    "    \n",
    "    print(n, end= \" = \")\n",
    "    b = False\n",
    "\n",
    "    for t in num:\n",
    "        for j in range(len(num)-1, -1, -1):\n",
    "            if t > n/2:\n",
    "                break\n",
    "                \n",
    "            if b and (t+num[j] == n):\n",
    "                print(\" 또는 \", end = '')\n",
    "            \n",
    "            if (t+num[j] == n):\n",
    "                b = True\n",
    "                print(t, \"+\", num[j], end = '')\n",
    "    "
   ]
  },
  {
   "cell_type": "markdown",
   "metadata": {},
   "source": [
    "## 시간복잡도를 줄여보기 위해 약수 구하는 법으로 에라토스테네스의 체를 사용해 보았습니다.\n",
    "- 그 외에도 이번에는 다르게 한번에 여러개를 입력받고 그 후에 한번에 출력하는 형식으로 도전해 보았습니다."
   ]
  },
  {
   "cell_type": "code",
   "execution_count": 89,
   "metadata": {},
   "outputs": [
    {
     "name": "stdout",
     "output_type": "stream",
     "text": [
      "Num :  10\n",
      "Num :  20\n",
      "Num :  30\n",
      "Num :  40\n",
      "Num :  50\n",
      "Num :  60\n",
      "Num :  q\n"
     ]
    },
    {
     "name": "stdout",
     "output_type": "stream",
     "text": [
      "======= 입력으로 들어온 2보다 큰 짝수 ========\n",
      "[10, 20, 30, 40, 50, 60]\n",
      "에라토스테네스의 체로 알아낸 소수 :  [2, 3, 5, 7, 11, 13, 17, 19, 23, 29, 31, 37, 41, 43, 47, 53, 59]\n",
      "======= 출력 ========\n",
      "10 = 3 + 7 또는 5 + 5\n",
      "======= 출력 ========\n",
      "20 = 3 + 17 또는 7 + 13\n",
      "======= 출력 ========\n",
      "30 = 7 + 23 또는 11 + 19 또는 13 + 17\n",
      "======= 출력 ========\n",
      "40 = 3 + 37 또는 11 + 29 또는 17 + 23\n",
      "======= 출력 ========\n",
      "50 = 3 + 47 또는 7 + 43 또는 13 + 37 또는 19 + 31\n",
      "======= 출력 ========\n",
      "60 = 7 + 53 또는 13 + 47 또는 17 + 43 또는 19 + 41 또는 23 + 37\n"
     ]
    }
   ],
   "source": [
    "## import math\n",
    "\n",
    "num = []\n",
    "while(True):\n",
    "    n = input(\"Num : \")\n",
    "    \n",
    "    if(n == 'q'):\n",
    "        break  \n",
    "    else:\n",
    "        n = int(n)\n",
    "    \n",
    "    # 일단 2보다 큰 짝수라면 list로 넣기.\n",
    "    if(int(n)%2 ==0 and int(n) > 2):\n",
    "        num.append(int(n))\n",
    "    \n",
    "    else:\n",
    "         print(\" 2보다 큰 짝수가 아닙니다. 다시 입력하세요\")\n",
    "\n",
    "          \n",
    "max_num = max(num)\n",
    "\n",
    "print(\"======= 입력으로 들어온 2보다 큰 짝수 ========\")\n",
    "print(num)\n",
    "\n",
    "\n",
    "li = []; li.append(1); li.append(1)\n",
    "\n",
    "for i in range(2, max_num+1):\n",
    "    li.append(0)\n",
    "\n",
    "#에라토스테네스의 체. 매번 실행하는 것이 아닌 제일 큰 숫자 하나만 구하기.\n",
    "for i in range(2, round(math.sqrt(max_num))+1):\n",
    "    for j in range(2, max_num//i+1):\n",
    "        li[i*j] += 1\n",
    "        \n",
    "\n",
    "eratos = []\n",
    "#에라토스테네스의 체로 걸러낸 결과\n",
    "for i in range(0, max_num+1):\n",
    "    if(li[i] == 0):\n",
    "        eratos.append(i)\n",
    "\n",
    "# 출력이 잘 되었는지 확인.\n",
    "print(\"에라토스테네스의 체로 알아낸 소수 : \", eratos)\n",
    "\n",
    "for n in num:\n",
    "    result = []\n",
    "    for i in range(0, round(len(eratos)/2)+1):\n",
    "        for j in eratos:\n",
    "\n",
    "            if(eratos[i] > n/2 or j > n):\n",
    "                break\n",
    "\n",
    "            if eratos[i]+j == n:\n",
    "                result.append([eratos[i], j])\n",
    "\n",
    "    #출력문.\n",
    "\n",
    "    print(\"======= 출력 ========\")\n",
    "    print(n, end = \" = \")\n",
    "    for a,b in result:    \n",
    "        if( [a,b] != result[len(result)-1]):\n",
    "            print(a, \"+\", b, end = \" 또는 \")\n",
    "        else:\n",
    "            print(a, \"+\", b)"
   ]
  },
  {
   "cell_type": "code",
   "execution_count": null,
   "metadata": {},
   "outputs": [],
   "source": []
  }
 ],
 "metadata": {
  "kernelspec": {
   "display_name": "Python 3 (ipykernel)",
   "language": "python",
   "name": "python3"
  },
  "language_info": {
   "codemirror_mode": {
    "name": "ipython",
    "version": 3
   },
   "file_extension": ".py",
   "mimetype": "text/x-python",
   "name": "python",
   "nbconvert_exporter": "python",
   "pygments_lexer": "ipython3",
   "version": "3.9.7"
  },
  "latex_envs": {
   "LaTeX_envs_menu_present": true,
   "autoclose": false,
   "autocomplete": true,
   "bibliofile": "biblio.bib",
   "cite_by": "apalike",
   "current_citInitial": 1,
   "eqLabelWithNumbers": true,
   "eqNumInitial": 1,
   "hotkeys": {
    "equation": "Ctrl-E",
    "itemize": "Ctrl-I"
   },
   "labels_anchors": false,
   "latex_user_defs": false,
   "report_style_numbering": false,
   "user_envs_cfg": false
  },
  "toc": {
   "base_numbering": 1,
   "nav_menu": {},
   "number_sections": false,
   "sideBar": true,
   "skip_h1_title": false,
   "title_cell": "Table of Contents",
   "title_sidebar": "Contents",
   "toc_cell": false,
   "toc_position": {
    "height": "calc(100% - 180px)",
    "left": "10px",
    "top": "150px",
    "width": "270.5px"
   },
   "toc_section_display": true,
   "toc_window_display": false
  }
 },
 "nbformat": 4,
 "nbformat_minor": 4
}
