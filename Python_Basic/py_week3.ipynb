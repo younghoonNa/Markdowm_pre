{
 "cells": [
  {
   "cell_type": "markdown",
   "id": "a7e79b3c-b1cf-4200-a84c-09c2bcb40a83",
   "metadata": {},
   "source": [
    "# 3주차 파이썬 바인딩(Binding)\n",
    "- 어느 `name`이 객체를 참조하도록 만드는 과정\n",
    "- Python에서 다루는 모든 것은 객체"
   ]
  },
  {
   "cell_type": "code",
   "execution_count": 1,
   "id": "8c431608-3476-456b-a0cd-a3fdf9012137",
   "metadata": {},
   "outputs": [
    {
     "name": "stdout",
     "output_type": "stream",
     "text": [
      "140644341442992\n",
      "140644341442992\n",
      "<class 'int'>\n",
      "<class 'int'>\n"
     ]
    }
   ],
   "source": [
    "x = 5\n",
    "print(id(5))\n",
    "print(id(x))\n",
    "print(type(5))\n",
    "print(type(x))"
   ]
  },
  {
   "cell_type": "code",
   "execution_count": 3,
   "id": "8df0067f-8daf-4cec-8cba-08c68d50c376",
   "metadata": {},
   "outputs": [
    {
     "name": "stdout",
     "output_type": "stream",
     "text": [
      "140644341442992\n",
      "140644341442992\n",
      "True\n",
      "True\n"
     ]
    }
   ],
   "source": [
    "x = 5\n",
    "y = 5\n",
    "\n",
    "print(id(x))\n",
    "print(id(y))\n",
    "print(x==y)\n",
    "print(x is y)\n",
    "\n",
    "#둘이 같은 객체를 참조하고 있음.\n",
    "# is 연산자는 둘의 객체가 같은지 물어보는 역할."
   ]
  },
  {
   "cell_type": "code",
   "execution_count": 5,
   "id": "13ee68f1-e930-46ae-a74f-b1f9cf0ad6d9",
   "metadata": {},
   "outputs": [
    {
     "name": "stdout",
     "output_type": "stream",
     "text": [
      "140643826155024\n",
      "140643826154256\n",
      "True\n",
      "False\n"
     ]
    }
   ],
   "source": [
    "x = 5.\n",
    "y = 5.\n",
    "\n",
    "print(id(x))\n",
    "print(id(y))\n",
    "print(x==y)\n",
    "print(x is y)\n",
    " \n",
    "#둘 다 모두 실수 5. 객체를 참조 했지만 주소가 다름.\n",
    "# 내용물은 같으나 참조 객체는 다름"
   ]
  },
  {
   "cell_type": "markdown",
   "id": "06a3663f-40f2-4a5a-9d6b-5d8e6c62489b",
   "metadata": {},
   "source": [
    "# 2.3 표현(Expression)과 구문(Statement)\n",
    "\n",
    "## 표현이란 : print 할 수 있거나, 변수에 할당할 수있는 것.\n",
    "- 2+1\n",
    "- x+1\n",
    "- min(2,3) + 1\n",
    "- None\n",
    "- True\n",
    "\n",
    "## 구문 : 결과를 만들기 위해 실행되는 것.\n",
    "- x = 1\n",
    "- y = (x if x>0 else -x)\n",
    "- if x>5:"
   ]
  },
  {
   "cell_type": "markdown",
   "id": "203f29ed-10ff-4531-80dd-8ba4b5cceb26",
   "metadata": {},
   "source": [
    "#### Numeric Types\n",
    "- int : 정수형. 메모리가 허락하는 한 무제한의 자리수로 정수를 계산할 수 있음.\n",
    "- float : 부동 소수점 형식의 실수형. \n",
    "- complex : 복소수형.\n",
    "- bool : int의 subclass로 True, False 두 object만 존재.\n",
    "\n",
    "#### NoneType : None이 유일한 object로, 아무것도 없다는 것을 의미\n",
    "\n",
    "#### 시퀀스 형 \n",
    "- list : 변경 가능 (mutable) 자료형.\n",
    "- tuple : 변경 불가능 (immutable) 자료형.\n",
    "- string : 유니코드 문자열. 변경 불가능\n",
    "    - character : utf-8 인코딩\n",
    "- bytes\n",
    "    - 0과 255 사이의 숫자들의 시퀀스로 변경 불가능.\n",
    "    - 화면에 나타날 때는 ASCII 문자열\n",
    "- bytearray : bytes 의 변경 가능 버전\n",
    "- range : range() 함수가 생성하는 변경 불가능 자료형.\n"
   ]
  },
  {
   "cell_type": "code",
   "execution_count": 6,
   "id": "5750d664-66d9-488a-96f9-2de3821e94e6",
   "metadata": {},
   "outputs": [
    {
     "name": "stdout",
     "output_type": "stream",
     "text": [
      "[1, 2, 3] 140643826200832\n"
     ]
    }
   ],
   "source": [
    "# 리스트 : 변경 가능\n",
    "a = [1,2,3]\n",
    "print(a, id(a))"
   ]
  },
  {
   "cell_type": "code",
   "execution_count": null,
   "id": "7be0d62c-4c3d-4735-8cd8-92f86d092f7f",
   "metadata": {},
   "outputs": [
    {
     "name": "stdout",
     "output_type": "stream",
     "text": [
      "1\n"
     ]
    }
   ],
   "source": [
    "print(a[0])"
   ]
  },
  {
   "cell_type": "code",
   "execution_count": null,
   "id": "62b79c71-ceda-423a-ac00-12be633e648b",
   "metadata": {},
   "outputs": [
    {
     "name": "stdout",
     "output_type": "stream",
     "text": [
      "[10, 2, 3] 140643826200832\n"
     ]
    }
   ],
   "source": [
    "a[0] = 10\n",
    "print(a, id(a))"
   ]
  },
  {
   "cell_type": "code",
   "execution_count": 9,
   "id": "fbeed9d2-c6ae-40cd-868c-45df39523511",
   "metadata": {},
   "outputs": [
    {
     "name": "stdout",
     "output_type": "stream",
     "text": [
      "1\n"
     ]
    }
   ],
   "source": [
    "# 튜플 : 변경 불가능.\n",
    "b = (1,2,3)\n",
    "print(b[0])"
   ]
  },
  {
   "cell_type": "code",
   "execution_count": 11,
   "id": "36588bb4-1735-4213-8cb8-174453d5216a",
   "metadata": {},
   "outputs": [
    {
     "ename": "TypeError",
     "evalue": "'tuple' object does not support item assignment",
     "output_type": "error",
     "traceback": [
      "\u001b[0;31m---------------------------------------------------------------------------\u001b[0m",
      "\u001b[0;31mTypeError\u001b[0m                                 Traceback (most recent call last)",
      "\u001b[0;32m/var/folders/hp/zz_v74bx3912w8s2fz07537r0000gn/T/ipykernel_4868/1714621962.py\u001b[0m in \u001b[0;36m<module>\u001b[0;34m\u001b[0m\n\u001b[0;32m----> 1\u001b[0;31m \u001b[0mb\u001b[0m\u001b[0;34m[\u001b[0m\u001b[0;36m0\u001b[0m\u001b[0;34m]\u001b[0m \u001b[0;34m=\u001b[0m \u001b[0;36m10\u001b[0m\u001b[0;34m\u001b[0m\u001b[0;34m\u001b[0m\u001b[0m\n\u001b[0m\u001b[1;32m      2\u001b[0m \u001b[0;31m# 튜플은 개별 아이템 변경 불가능!\u001b[0m\u001b[0;34m\u001b[0m\u001b[0;34m\u001b[0m\u001b[0m\n",
      "\u001b[0;31mTypeError\u001b[0m: 'tuple' object does not support item assignment"
     ]
    }
   ],
   "source": [
    "b[0] = 10\n",
    "# 튜플은 개별 아이템 변경 불가능!"
   ]
  },
  {
   "cell_type": "code",
   "execution_count": 16,
   "id": "f6c02b40-e439-4fb0-980d-754e205e3ee5",
   "metadata": {},
   "outputs": [
    {
     "name": "stdout",
     "output_type": "stream",
     "text": [
      "b 경\n"
     ]
    }
   ],
   "source": [
    "# 문자열 : 변경 불가능.\n",
    "s = \"ab변경불가능\"\n",
    "\n",
    "print(s[1], s[3])"
   ]
  },
  {
   "cell_type": "code",
   "execution_count": 18,
   "id": "73c8c29d-7373-416c-8fbf-586445ab8f34",
   "metadata": {},
   "outputs": [
    {
     "ename": "TypeError",
     "evalue": "'str' object does not support item assignment",
     "output_type": "error",
     "traceback": [
      "\u001b[0;31m---------------------------------------------------------------------------\u001b[0m",
      "\u001b[0;31mTypeError\u001b[0m                                 Traceback (most recent call last)",
      "\u001b[0;32m/var/folders/hp/zz_v74bx3912w8s2fz07537r0000gn/T/ipykernel_4868/2799656806.py\u001b[0m in \u001b[0;36m<module>\u001b[0;34m\u001b[0m\n\u001b[0;32m----> 1\u001b[0;31m \u001b[0ms\u001b[0m\u001b[0;34m[\u001b[0m\u001b[0;36m1\u001b[0m\u001b[0;34m]\u001b[0m \u001b[0;34m=\u001b[0m \u001b[0;34m\"B\"\u001b[0m\u001b[0;34m\u001b[0m\u001b[0;34m\u001b[0m\u001b[0m\n\u001b[0m\u001b[1;32m      2\u001b[0m \u001b[0;31m#역시 변경 불가능.\u001b[0m\u001b[0;34m\u001b[0m\u001b[0;34m\u001b[0m\u001b[0m\n",
      "\u001b[0;31mTypeError\u001b[0m: 'str' object does not support item assignment"
     ]
    }
   ],
   "source": [
    "s[1] = \"B\"\n",
    "#역시 변경 불가능."
   ]
  },
  {
   "cell_type": "code",
   "execution_count": 20,
   "id": "1e3429f3-3c70-46f1-8110-828c89fa5d7d",
   "metadata": {},
   "outputs": [
    {
     "name": "stdout",
     "output_type": "stream",
     "text": [
      "The glyph of code point 0x31 (in decimal 49) is 1. \n",
      "The glyph of code point 0x61 (in decimal 97) is a. \n",
      "The glyph of code point 0x41 (in decimal 65) is A. \n",
      "The glyph of code point 0x2161 (in decimal 8545) is Ⅱ. \n",
      "The glyph of code point 0x2164 (in decimal 8548) is Ⅴ. \n",
      "The glyph of code point 0x265e (in decimal 9822) is ♞. \n",
      "The glyph of code point 0x265f (in decimal 9823) is ♟. \n",
      "The glyph of code point 0x1f600 (in decimal 128512) is 😀. \n",
      "The glyph of code point 0x1f609 (in decimal 128521) is 😉. \n",
      "The glyph of code point 0xd55c (in decimal 54620) is 한. \n",
      "The glyph of code point 0xae00 (in decimal 44544) is 글. \n"
     ]
    }
   ],
   "source": [
    "code_points = (0x31, 0x61, 0x41, 0x2161, 0x2164, 0x265e, 0x265f, 0x1f600, 0x1f609, 0xd55c, 0xae00)\n",
    "\n",
    "for cp in code_points:\n",
    "    print(f\"The glyph of code point 0x{cp:x} (in decimal {cp}) is {chr(cp)}. \")"
   ]
  },
  {
   "cell_type": "markdown",
   "id": "6a03a036-062d-4bf2-84f9-ca2b463ad8cb",
   "metadata": {},
   "source": [
    "### 키보드로 입력할 수 없는 문자는 \\를 사용하여 16진수로 표현."
   ]
  },
  {
   "cell_type": "code",
   "execution_count": 25,
   "id": "3ef8cbcf-3bb9-46bd-b3a7-2c752604b4b6",
   "metadata": {},
   "outputs": [
    {
     "name": "stdout",
     "output_type": "stream",
     "text": [
      "Unicode string 한글\n",
      "Unicode string 한글\n"
     ]
    }
   ],
   "source": [
    "ex_str = \"Unicode string 한글\"\n",
    "print(ex_str)\n",
    "\n",
    "alt_str = \"Unicode string \\ud55c\\uae00\"\n",
    "print(alt_str)\n"
   ]
  },
  {
   "cell_type": "code",
   "execution_count": 26,
   "id": "d402aded-e62b-42e6-b38a-0b0f278ad12f",
   "metadata": {},
   "outputs": [
    {
     "name": "stdout",
     "output_type": "stream",
     "text": [
      "8\n"
     ]
    }
   ],
   "source": [
    "변수a = 3\n",
    "변수b = 5\n",
    "print(변수a + 변수b)"
   ]
  },
  {
   "cell_type": "code",
   "execution_count": 28,
   "id": "713dfdc1-6734-4c4c-9a49-3c2bbd72a5e2",
   "metadata": {},
   "outputs": [
    {
     "name": "stdout",
     "output_type": "stream",
     "text": [
      "b'Unicode string \\xed\\x95\\x9c\\xea\\xb8\\x80'\n",
      "<class 'bytes'>\n"
     ]
    }
   ],
   "source": [
    "ex_str = \"Unicode string 한글\"\n",
    "ex_bytes = ex_str.encode(\"utf-8\")\n",
    "#128보다 작은 친구들은 그대로 출력, 큰 친구들은 1byte씩 구분되어 16진수로 출력.\n",
    "print(ex_bytes)\n",
    "print(type(ex_bytes))\n"
   ]
  },
  {
   "cell_type": "markdown",
   "id": "646998f3-3bbb-4c70-9830-a41b6fc2f1d4",
   "metadata": {},
   "source": [
    "## 유니코드 문자열을 만드는 방법."
   ]
  },
  {
   "cell_type": "code",
   "execution_count": 29,
   "id": "1e91a8b1-5c2f-432a-938b-2ea8f1deac23",
   "metadata": {},
   "outputs": [
    {
     "name": "stdout",
     "output_type": "stream",
     "text": [
      "b'Unicode string \\xed\\x95\\x9c\\xea\\xb8\\x80'\n"
     ]
    }
   ],
   "source": [
    "ex_bytes_2 = bytes(ex_str, 'utf-8')\n",
    "print(ex_bytes_2)"
   ]
  },
  {
   "cell_type": "markdown",
   "id": "9a15f482-adf0-4dce-94ca-61ca635f47f4",
   "metadata": {},
   "source": [
    "### 유니코드 문자열을 다시 문자열로 만드는 방법!"
   ]
  },
  {
   "cell_type": "code",
   "execution_count": null,
   "id": "cda20589-8e87-42c8-a0c4-d9e546d3fb04",
   "metadata": {},
   "outputs": [
    {
     "name": "stdout",
     "output_type": "stream",
     "text": [
      "Unicode string 한글\n"
     ]
    }
   ],
   "source": [
    "decoded_ex_bytes = ex_bytes.decode('utf-8')\n",
    "print(decoded_ex_bytes)"
   ]
  },
  {
   "cell_type": "code",
   "execution_count": 31,
   "id": "4c7ecdb8-fe69-4873-abed-2dfdeb0a164a",
   "metadata": {},
   "outputs": [
    {
     "name": "stdout",
     "output_type": "stream",
     "text": [
      "Unicode string 한글\n"
     ]
    }
   ],
   "source": [
    "decoded_ex_bytes2 = str(ex_bytes_2, 'utf-8')\n",
    "print(decoded_ex_bytes2)"
   ]
  },
  {
   "cell_type": "markdown",
   "id": "3ef98407-c5ad-4620-aa24-cdfcc16f4a06",
   "metadata": {},
   "source": [
    "- 집합형\n",
    "    - set : 집합형, 중복을 허락하지 않는다. mutable\n",
    "    - frozenset : immutable, hashable\n",
    "- dict 사전형.\n",
    "    - key-value 쌍\n"
   ]
  },
  {
   "cell_type": "markdown",
   "id": "581816d9-954c-4d14-a084-e83aecd6d05e",
   "metadata": {},
   "source": [
    "## 정수 자료형\n",
    "- 메모리가 허락하는 한 무제한의정밀도로 표현 가능\n",
    "- 10진수, 2진수, 8진수, 16진수 표현도 가능."
   ]
  },
  {
   "cell_type": "code",
   "execution_count": 33,
   "id": "ac1951b3-b3aa-434e-9ff8-6bf6f1f2f6f7",
   "metadata": {},
   "outputs": [
    {
     "data": {
      "text/plain": [
       "35"
      ]
     },
     "execution_count": 33,
     "metadata": {},
     "output_type": "execute_result"
    }
   ],
   "source": [
    "x = 111    #10진수\n",
    "z = 0b111  #2진수\n",
    "w = 0o11   # 8진수\n",
    "y = 0x11   # 16진수\n",
    "\n",
    "11+ 0x11 + 0b111"
   ]
  },
  {
   "cell_type": "code",
   "execution_count": 34,
   "id": "00c8abe0-b7d7-44df-ae9c-ee0990c3fbe5",
   "metadata": {},
   "outputs": [
    {
     "data": {
      "text/plain": [
       "(111, 17, 7, 9)"
      ]
     },
     "execution_count": 34,
     "metadata": {},
     "output_type": "execute_result"
    }
   ],
   "source": [
    "x,y,z,w"
   ]
  },
  {
   "cell_type": "markdown",
   "id": "9fc2a9a9-c953-4de2-be4c-9083dc5326af",
   "metadata": {},
   "source": [
    "# 비교연산자.\n",
    "\n",
    "- 복소수는 비교 불가능."
   ]
  },
  {
   "cell_type": "code",
   "execution_count": 35,
   "id": "e68937e7-a951-4178-8d98-898bea221b05",
   "metadata": {},
   "outputs": [
    {
     "data": {
      "text/plain": [
       "(True, True, False, False, False, True)"
      ]
     },
     "execution_count": 35,
     "metadata": {},
     "output_type": "execute_result"
    }
   ],
   "source": [
    "3>2, 3>=2, 3<2, 3<= 2, 3==2, 3!=2"
   ]
  },
  {
   "cell_type": "code",
   "execution_count": 36,
   "id": "b388163f-76bc-4177-88ba-01858fd44954",
   "metadata": {},
   "outputs": [
    {
     "data": {
      "text/plain": [
       "(True, False)"
      ]
     },
     "execution_count": 36,
     "metadata": {},
     "output_type": "execute_result"
    }
   ],
   "source": [
    "3<=4<5, 5<5<8"
   ]
  },
  {
   "cell_type": "code",
   "execution_count": 38,
   "id": "614b3a8f-2e4b-43df-9110-710028cadd70",
   "metadata": {},
   "outputs": [
    {
     "ename": "TypeError",
     "evalue": "'>' not supported between instances of 'complex' and 'complex'",
     "output_type": "error",
     "traceback": [
      "\u001b[0;31m---------------------------------------------------------------------------\u001b[0m",
      "\u001b[0;31mTypeError\u001b[0m                                 Traceback (most recent call last)",
      "\u001b[0;32m/var/folders/hp/zz_v74bx3912w8s2fz07537r0000gn/T/ipykernel_4868/1001044968.py\u001b[0m in \u001b[0;36m<module>\u001b[0;34m\u001b[0m\n\u001b[1;32m      1\u001b[0m \u001b[0;31m# 복소수는 안됨.\u001b[0m\u001b[0;34m\u001b[0m\u001b[0;34m\u001b[0m\u001b[0m\n\u001b[0;32m----> 2\u001b[0;31m \u001b[0;36m3\u001b[0m \u001b[0;34m+\u001b[0m \u001b[0;36m2j\u001b[0m \u001b[0;34m>\u001b[0m \u001b[0;36m2\u001b[0m \u001b[0;34m+\u001b[0m \u001b[0;36m2j\u001b[0m\u001b[0;34m\u001b[0m\u001b[0;34m\u001b[0m\u001b[0m\n\u001b[0m",
      "\u001b[0;31mTypeError\u001b[0m: '>' not supported between instances of 'complex' and 'complex'"
     ]
    }
   ],
   "source": [
    "# 복소수는 안됨.\n",
    "3 + 2j > 2 + 2j"
   ]
  },
  {
   "cell_type": "markdown",
   "id": "9b74c0b8-02f9-448c-8aa2-e0142eba3016",
   "metadata": {},
   "source": [
    "# 논리 연산자.\n",
    "- and : 연산자의 좌우 항이 모두 True 일 때\n",
    "- or : 연산자의 좌우 항 중에 하나라도 True 일 때\n",
    "- not : 피연산자 (Operand)의 부정."
   ]
  },
  {
   "cell_type": "markdown",
   "id": "e05c96b0-591f-4609-9063-987906314a2a",
   "metadata": {},
   "source": [
    "#### bool() 값이 False인 객체들."
   ]
  },
  {
   "cell_type": "code",
   "execution_count": 40,
   "id": "9fd9aa05-4b87-4970-bbf4-372658866ca1",
   "metadata": {},
   "outputs": [
    {
     "data": {
      "text/plain": [
       "(False, False, False, False, False, False, False)"
      ]
     },
     "execution_count": 40,
     "metadata": {},
     "output_type": "execute_result"
    }
   ],
   "source": [
    "bool(0), bool(0.0), bool(\"\"), bool([]), bool(tuple()), bool({}), bool(dict())"
   ]
  },
  {
   "cell_type": "markdown",
   "id": "275c3624-ce07-40a0-97a4-3d0a6a064c88",
   "metadata": {},
   "source": [
    "#### not 연산자는 모든 객체에 적용할 수 있다."
   ]
  },
  {
   "cell_type": "code",
   "execution_count": 42,
   "id": "17f034db-5a4e-437e-917d-ef4c6b5cab49",
   "metadata": {},
   "outputs": [
    {
     "name": "stdout",
     "output_type": "stream",
     "text": [
      "True False False False False True\n"
     ]
    }
   ],
   "source": [
    "print(not 0, not 1, not 2.0, not 1+1j, not 2**3, not -2+2)"
   ]
  },
  {
   "cell_type": "markdown",
   "id": "be01a6f5-acf5-4295-b416-fae456ea57b6",
   "metadata": {},
   "source": [
    "# and 와 or는 True와 False만을 반환하는 것이 아니라 연산에 사용된 피연산자 중의 하나를 반환"
   ]
  },
  {
   "cell_type": "code",
   "execution_count": 43,
   "id": "5399e4ba-76c6-44d4-94e0-7f20dc1b0839",
   "metadata": {},
   "outputs": [
    {
     "data": {
      "text/plain": [
       "False"
      ]
     },
     "execution_count": 43,
     "metadata": {},
     "output_type": "execute_result"
    }
   ],
   "source": [
    "True and False"
   ]
  },
  {
   "cell_type": "code",
   "execution_count": 44,
   "id": "02250d73-dbb7-46a6-89fc-34ec3ea21021",
   "metadata": {
    "tags": []
   },
   "outputs": [
    {
     "data": {
      "text/plain": [
       "4"
      ]
     },
     "execution_count": 46,
     "metadata": {},
     "output_type": "execute_result"
    }
   ],
   "source": [
    "3 and 4\n",
    "# 3도 True, 4도 True, \n",
    "# 둘 다 True이기 때문에 뒤에 있는 '4' 반환"
   ]
  },
  {
   "cell_type": "code",
   "execution_count": 48,
   "id": "25e86456-606d-4728-a591-41c21f0e996f",
   "metadata": {},
   "outputs": [
    {
     "data": {
      "text/plain": [
       "3"
      ]
     },
     "execution_count": 48,
     "metadata": {},
     "output_type": "execute_result"
    }
   ],
   "source": [
    "4 and 3"
   ]
  },
  {
   "cell_type": "code",
   "execution_count": 50,
   "id": "085d82c8-38e7-4cba-b418-b2d62c877d55",
   "metadata": {},
   "outputs": [
    {
     "data": {
      "text/plain": [
       "0"
      ]
     },
     "execution_count": 50,
     "metadata": {},
     "output_type": "execute_result"
    }
   ],
   "source": [
    "0 and 4\n",
    "#하나가 False이기 때문에 0 출력"
   ]
  },
  {
   "cell_type": "code",
   "execution_count": 51,
   "id": "78217353-23e7-4b5f-8034-a89a1bbcad0c",
   "metadata": {},
   "outputs": [
    {
     "data": {
      "text/plain": [
       "''"
      ]
     },
     "execution_count": 51,
     "metadata": {},
     "output_type": "execute_result"
    }
   ],
   "source": [
    "\"\" and 4"
   ]
  },
  {
   "cell_type": "code",
   "execution_count": 52,
   "id": "69141b16-0ebc-495c-a684-0e107576d44a",
   "metadata": {},
   "outputs": [
    {
     "data": {
      "text/plain": [
       "'str'"
      ]
     },
     "execution_count": 52,
     "metadata": {},
     "output_type": "execute_result"
    }
   ],
   "source": [
    "0 or \"str\""
   ]
  },
  {
   "cell_type": "code",
   "execution_count": 54,
   "id": "e5f0e948-0dda-465f-babb-024a445366f4",
   "metadata": {},
   "outputs": [
    {
     "data": {
      "text/plain": [
       "4"
      ]
     },
     "execution_count": 54,
     "metadata": {},
     "output_type": "execute_result"
    }
   ],
   "source": [
    "0 or 4"
   ]
  },
  {
   "cell_type": "markdown",
   "id": "57fad5c8-6e94-4426-8f6a-cffa9d7a48e9",
   "metadata": {},
   "source": [
    "## Lazy Evaluation \n",
    "- python 해석기는 and와 or 평가 중간 단계에서 최종 값이 결정되면 더 이상 평가를 진행하지 않는다."
   ]
  },
  {
   "cell_type": "markdown",
   "id": "9dd5a07d-12fb-4d53-9950-1d7d1b2cf598",
   "metadata": {},
   "source": [
    "- A1 and A2 and ... An\n",
    "    - Ai, 1 <= i <= n , 이 모두 True이면 An의 값을 반환 \n",
    "    - 그렇지 않으면 첫번째 False 피연산자를 반환."
   ]
  },
  {
   "cell_type": "code",
   "execution_count": 55,
   "id": "31318a38-4067-4542-b7c0-2e33614f9772",
   "metadata": {},
   "outputs": [
    {
     "data": {
      "text/plain": [
       "'[1,2,3]'"
      ]
     },
     "execution_count": 55,
     "metadata": {},
     "output_type": "execute_result"
    }
   ],
   "source": [
    "1 and 4 and 5 and 7 and \"str\" and \"[1,2,3]\""
   ]
  },
  {
   "cell_type": "code",
   "execution_count": 56,
   "id": "0cf6e848-bda3-4bd6-b1e9-ec9499817fec",
   "metadata": {},
   "outputs": [
    {
     "data": {
      "text/plain": [
       "[]"
      ]
     },
     "execution_count": 56,
     "metadata": {},
     "output_type": "execute_result"
    }
   ],
   "source": [
    "1 and 4 and 5 and [] and \"str\" and {'a':1, 'b':5}"
   ]
  },
  {
   "cell_type": "markdown",
   "id": "10343f68-802e-46a5-b34e-88be6a578b05",
   "metadata": {},
   "source": [
    "- A1 or A2 or .. An\n",
    "    - Ai , 1<= i <= n , 이 모두 False 이면 An 의 값을 반환한다.\n",
    "    - 그렇지 않으면, 첫번째 True 피연산자를 반환한다."
   ]
  },
  {
   "cell_type": "code",
   "execution_count": 57,
   "id": "d757911c-a4a1-43c6-82d9-579a907d106b",
   "metadata": {},
   "outputs": [
    {
     "data": {
      "text/plain": [
       "{}"
      ]
     },
     "execution_count": 57,
     "metadata": {},
     "output_type": "execute_result"
    }
   ],
   "source": [
    "0 or [] or '' or {}"
   ]
  },
  {
   "cell_type": "code",
   "execution_count": 58,
   "id": "02022016-6abd-46de-a0a4-6ced9b8ec84e",
   "metadata": {},
   "outputs": [
    {
     "data": {
      "text/plain": [
       "'str'"
      ]
     },
     "execution_count": 58,
     "metadata": {},
     "output_type": "execute_result"
    }
   ],
   "source": [
    "0 or [] or 'str' or {}"
   ]
  },
  {
   "cell_type": "code",
   "execution_count": 59,
   "id": "b720a137-84fb-489a-aee5-d4176a260103",
   "metadata": {},
   "outputs": [
    {
     "data": {
      "text/plain": [
       "'str'"
      ]
     },
     "execution_count": 59,
     "metadata": {},
     "output_type": "execute_result"
    }
   ],
   "source": [
    "0 or [] or 'str' or {0, 0,}"
   ]
  },
  {
   "cell_type": "markdown",
   "id": "e0e66ad0-5f9d-4ddb-9d22-f649bd76fb4e",
   "metadata": {},
   "source": [
    "- and와 or가 섞여 있으면 and를 먼저 평가한다."
   ]
  },
  {
   "cell_type": "code",
   "execution_count": 60,
   "id": "1efc514d-3ab0-4174-a10b-34168be41491",
   "metadata": {},
   "outputs": [
    {
     "data": {
      "text/plain": [
       "8"
      ]
     },
     "execution_count": 60,
     "metadata": {},
     "output_type": "execute_result"
    }
   ],
   "source": [
    "1 and 4 and 8 or 0 and 5"
   ]
  },
  {
   "cell_type": "markdown",
   "id": "4cef5c52-5397-46b7-8615-e51ae53e0b1d",
   "metadata": {},
   "source": [
    "# 연산자 우선순위\n",
    "\n",
    "1. ()\n",
    "2. **\n",
    "3. +x , ~x, -x\n",
    "4. *, /, //, %\n",
    "5. +,-\n",
    "6. <<, >>\n",
    "7. &\n",
    "8. ^\n",
    "9. |\n",
    "10. ==, != , >, >=, <, <=, is, is not, in, not in\n",
    "11. not\n",
    "12. and\n",
    "13. or"
   ]
  }
 ],
 "metadata": {
  "kernelspec": {
   "display_name": "Python 3 (ipykernel)",
   "language": "python",
   "name": "python3"
  },
  "language_info": {
   "codemirror_mode": {
    "name": "ipython",
    "version": 3
   },
   "file_extension": ".py",
   "mimetype": "text/x-python",
   "name": "python",
   "nbconvert_exporter": "python",
   "pygments_lexer": "ipython3",
   "version": "3.9.7"
  }
 },
 "nbformat": 4,
 "nbformat_minor": 5
}
