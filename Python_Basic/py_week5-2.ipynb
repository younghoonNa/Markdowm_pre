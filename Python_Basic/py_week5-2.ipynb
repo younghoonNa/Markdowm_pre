{
 "cells": [
  {
   "cell_type": "markdown",
   "id": "e974a7d5-9ddb-446b-976e-4ccdac71992a",
   "metadata": {},
   "source": [
    "# Set\n",
    "\n",
    "- `set_name` = {element, element, ... }"
   ]
  },
  {
   "cell_type": "markdown",
   "id": "045da773-4105-4771-94f5-e4f05f61ab1c",
   "metadata": {},
   "source": [
    "## set의 특징\n",
    "\n",
    "- 순서가 없는 (unordered) 데이터 모음\n",
    "- 중복된 원소가 없음\n",
    "- Iterable\n",
    "- set 자체는 mutable 이지만 원소는 immutable"
   ]
  },
  {
   "cell_type": "markdown",
   "id": "e95085af-723c-4290-a645-e9a11674de94",
   "metadata": {},
   "source": [
    "## Set의 생성\n",
    "### Empty set 생성"
   ]
  },
  {
   "cell_type": "code",
   "execution_count": 1,
   "id": "b63ccfd5-d697-415e-8b56-d81ae281ad4d",
   "metadata": {},
   "outputs": [
    {
     "name": "stdout",
     "output_type": "stream",
     "text": [
      "set()\n",
      "원소의 갯수 :  0\n"
     ]
    }
   ],
   "source": [
    "set_1 = set()\n",
    "print(set_1)\n",
    "print(\"원소의 갯수 : \", len(set_1))"
   ]
  },
  {
   "cell_type": "markdown",
   "id": "6047183d-4716-466f-8a82-ed7aa3c63c90",
   "metadata": {},
   "source": [
    "### Non-empty set 생성"
   ]
  },
  {
   "cell_type": "code",
   "execution_count": 2,
   "id": "2a50d58f-55a8-4d0a-9930-149f2adbfea4",
   "metadata": {},
   "outputs": [
    {
     "name": "stdout",
     "output_type": "stream",
     "text": [
      "{1, 3, 5, 7, 9}\n",
      "{1, 3, 5, 7, 14}\n",
      "{5, 3, 4, 21}\n"
     ]
    }
   ],
   "source": [
    "s1 = set([1,3,5,7,9])\n",
    "s2 = set([1,3,5,7,3,5,3,5,14])\n",
    "s3 = {5,21, 4,3,5}\n",
    "\n",
    "print(s1)\n",
    "print(s2)\n",
    "print(s3)"
   ]
  },
  {
   "cell_type": "code",
   "execution_count": 3,
   "id": "b4b28f10-ea2a-4e3c-9839-fa1183610965",
   "metadata": {},
   "outputs": [
    {
     "name": "stdout",
     "output_type": "stream",
     "text": [
      "{'abc'}\n"
     ]
    }
   ],
   "source": [
    "s4 = {'abc'}\n",
    "print(s4)"
   ]
  },
  {
   "cell_type": "markdown",
   "id": "bfe620ed-a712-438f-93fd-6ad3df60c515",
   "metadata": {},
   "source": [
    "## set의 원소로 hashable 객체만 사용가능\n",
    "- python의 튜플, 정수, 실수, 문자열 등과 같은 모든 immutable 데이터 유형들은 hashable\n",
    "- Python의 리스트, 딕셔너리, set 등과 같은 모든 mutable 데이터 유형들은 unhashable"
   ]
  },
  {
   "cell_type": "code",
   "execution_count": 5,
   "id": "66f6c9b8-35a1-4e46-be74-2ae5a72555c1",
   "metadata": {},
   "outputs": [],
   "source": [
    "s4 = {1,3,5,'abc'}\n",
    "s5 = {1,3,5,'abc', (12,3)}"
   ]
  },
  {
   "cell_type": "code",
   "execution_count": 6,
   "id": "5547e074-7a55-44bd-bb78-cd437201f8d1",
   "metadata": {},
   "outputs": [
    {
     "ename": "TypeError",
     "evalue": "unhashable type: 'list'",
     "output_type": "error",
     "traceback": [
      "\u001b[0;31m---------------------------------------------------------------------------\u001b[0m",
      "\u001b[0;31mTypeError\u001b[0m                                 Traceback (most recent call last)",
      "\u001b[0;32m/var/folders/hp/zz_v74bx3912w8s2fz07537r0000gn/T/ipykernel_13755/1977556239.py\u001b[0m in \u001b[0;36m<module>\u001b[0;34m\u001b[0m\n\u001b[0;32m----> 1\u001b[0;31m \u001b[0ms6\u001b[0m \u001b[0;34m=\u001b[0m \u001b[0;34m{\u001b[0m\u001b[0;36m1\u001b[0m\u001b[0;34m,\u001b[0m\u001b[0;36m3\u001b[0m\u001b[0;34m,\u001b[0m\u001b[0;36m5\u001b[0m\u001b[0;34m,\u001b[0m\u001b[0;34m'abc'\u001b[0m\u001b[0;34m,\u001b[0m \u001b[0;34m[\u001b[0m\u001b[0;36m12\u001b[0m\u001b[0;34m,\u001b[0m\u001b[0;36m3\u001b[0m\u001b[0;34m]\u001b[0m\u001b[0;34m}\u001b[0m\u001b[0;34m\u001b[0m\u001b[0;34m\u001b[0m\u001b[0m\n\u001b[0m",
      "\u001b[0;31mTypeError\u001b[0m: unhashable type: 'list'"
     ]
    }
   ],
   "source": [
    "s6 = {1,3,5,'abc', [12,3]}"
   ]
  },
  {
   "cell_type": "code",
   "execution_count": 7,
   "id": "eccaeb56-5f1e-4db9-993c-9523fc404c8c",
   "metadata": {},
   "outputs": [
    {
     "ename": "TypeError",
     "evalue": "unhashable type: 'set'",
     "output_type": "error",
     "traceback": [
      "\u001b[0;31m---------------------------------------------------------------------------\u001b[0m",
      "\u001b[0;31mTypeError\u001b[0m                                 Traceback (most recent call last)",
      "\u001b[0;32m/var/folders/hp/zz_v74bx3912w8s2fz07537r0000gn/T/ipykernel_13755/1082327172.py\u001b[0m in \u001b[0;36m<module>\u001b[0;34m\u001b[0m\n\u001b[0;32m----> 1\u001b[0;31m \u001b[0ms7\u001b[0m \u001b[0;34m=\u001b[0m \u001b[0;34m{\u001b[0m\u001b[0;36m1\u001b[0m\u001b[0;34m,\u001b[0m\u001b[0;36m3\u001b[0m\u001b[0;34m,\u001b[0m\u001b[0;36m5\u001b[0m\u001b[0;34m,\u001b[0m\u001b[0;34m'abc'\u001b[0m\u001b[0;34m,\u001b[0m \u001b[0;34m{\u001b[0m\u001b[0;36m12\u001b[0m\u001b[0;34m,\u001b[0m\u001b[0;36m3\u001b[0m\u001b[0;34m}\u001b[0m\u001b[0;34m}\u001b[0m\u001b[0;34m\u001b[0m\u001b[0;34m\u001b[0m\u001b[0m\n\u001b[0m",
      "\u001b[0;31mTypeError\u001b[0m: unhashable type: 'set'"
     ]
    }
   ],
   "source": [
    "s7 = {1,3,5,'abc', {12,3}}"
   ]
  },
  {
   "cell_type": "code",
   "execution_count": 8,
   "id": "8e42d87a-ea7c-41a0-aa51-d5510d936844",
   "metadata": {},
   "outputs": [
    {
     "ename": "TypeError",
     "evalue": "unhashable type: 'dict'",
     "output_type": "error",
     "traceback": [
      "\u001b[0;31m---------------------------------------------------------------------------\u001b[0m",
      "\u001b[0;31mTypeError\u001b[0m                                 Traceback (most recent call last)",
      "\u001b[0;32m/var/folders/hp/zz_v74bx3912w8s2fz07537r0000gn/T/ipykernel_13755/3086167945.py\u001b[0m in \u001b[0;36m<module>\u001b[0;34m\u001b[0m\n\u001b[0;32m----> 1\u001b[0;31m \u001b[0ms8\u001b[0m \u001b[0;34m=\u001b[0m \u001b[0;34m{\u001b[0m\u001b[0;36m1\u001b[0m\u001b[0;34m,\u001b[0m\u001b[0;36m3\u001b[0m\u001b[0;34m,\u001b[0m\u001b[0;36m5\u001b[0m\u001b[0;34m,\u001b[0m\u001b[0;34m'abc'\u001b[0m\u001b[0;34m,\u001b[0m \u001b[0;34m{\u001b[0m\u001b[0;34m'a'\u001b[0m\u001b[0;34m:\u001b[0m\u001b[0;36m12\u001b[0m\u001b[0;34m,\u001b[0m \u001b[0;34m'b'\u001b[0m\u001b[0;34m:\u001b[0m\u001b[0;36m13\u001b[0m\u001b[0;34m}\u001b[0m\u001b[0;34m}\u001b[0m\u001b[0;34m\u001b[0m\u001b[0;34m\u001b[0m\u001b[0m\n\u001b[0m",
      "\u001b[0;31mTypeError\u001b[0m: unhashable type: 'dict'"
     ]
    }
   ],
   "source": [
    "s8 = {1,3,5,'abc', {'a':12, 'b':13}}"
   ]
  },
  {
   "cell_type": "markdown",
   "id": "8263f693-3ed6-420c-95b7-c9d683d5edc8",
   "metadata": {},
   "source": [
    "## Set Comprehension"
   ]
  },
  {
   "cell_type": "code",
   "execution_count": 9,
   "id": "d407e656-af44-4ed9-861c-6f985bddf7d5",
   "metadata": {},
   "outputs": [
    {
     "data": {
      "text/plain": [
       "{1, 2, 3, 4, 5}"
      ]
     },
     "execution_count": 9,
     "metadata": {},
     "output_type": "execute_result"
    }
   ],
   "source": [
    "{ n for n in range(1,6) }"
   ]
  },
  {
   "cell_type": "code",
   "execution_count": 10,
   "id": "4a71dada-8b71-4154-98b5-8f5baf71658c",
   "metadata": {},
   "outputs": [
    {
     "data": {
      "text/plain": [
       "{1, 3, 5, 7, 9}"
      ]
     },
     "execution_count": 10,
     "metadata": {},
     "output_type": "execute_result"
    }
   ],
   "source": [
    "{2*n+1 for n in range(5) }"
   ]
  },
  {
   "cell_type": "code",
   "execution_count": 11,
   "id": "76316d22-1a81-4ebb-8d4e-67a6df6e5b77",
   "metadata": {},
   "outputs": [
    {
     "data": {
      "text/plain": [
       "{(1, 0), (1, 1), (1, 2), (5, 0), (5, 1), (5, 2)}"
      ]
     },
     "execution_count": 11,
     "metadata": {},
     "output_type": "execute_result"
    }
   ],
   "source": [
    "{ (m,n) for m in [1,5] for n in range(3) }"
   ]
  },
  {
   "cell_type": "code",
   "execution_count": 12,
   "id": "448f9a9a-bbac-46e4-89f1-4ab318da3ce1",
   "metadata": {},
   "outputs": [
    {
     "data": {
      "text/plain": [
       "{1, 9, 25}"
      ]
     },
     "execution_count": 12,
     "metadata": {},
     "output_type": "execute_result"
    }
   ],
   "source": [
    "ss = {1,5,'abc', (1,2), 3}\n",
    "{n**2 for n in ss if(type(n)) == int }"
   ]
  },
  {
   "cell_type": "code",
   "execution_count": 13,
   "id": "37132a95-b549-4dd8-a241-807efed86e98",
   "metadata": {},
   "outputs": [
    {
     "ename": "TypeError",
     "evalue": "unsupported operand type(s) for ** or pow(): 'tuple' and 'int'",
     "output_type": "error",
     "traceback": [
      "\u001b[0;31m---------------------------------------------------------------------------\u001b[0m",
      "\u001b[0;31mTypeError\u001b[0m                                 Traceback (most recent call last)",
      "\u001b[0;32m/var/folders/hp/zz_v74bx3912w8s2fz07537r0000gn/T/ipykernel_13755/2510787017.py\u001b[0m in \u001b[0;36m<module>\u001b[0;34m\u001b[0m\n\u001b[1;32m      1\u001b[0m \u001b[0mss\u001b[0m \u001b[0;34m=\u001b[0m \u001b[0;34m{\u001b[0m\u001b[0;36m1\u001b[0m\u001b[0;34m,\u001b[0m\u001b[0;36m5\u001b[0m\u001b[0;34m,\u001b[0m\u001b[0;34m'abc'\u001b[0m\u001b[0;34m,\u001b[0m \u001b[0;34m(\u001b[0m\u001b[0;36m1\u001b[0m\u001b[0;34m,\u001b[0m\u001b[0;36m2\u001b[0m\u001b[0;34m)\u001b[0m\u001b[0;34m,\u001b[0m \u001b[0;36m3\u001b[0m\u001b[0;34m}\u001b[0m\u001b[0;34m\u001b[0m\u001b[0;34m\u001b[0m\u001b[0m\n\u001b[0;32m----> 2\u001b[0;31m \u001b[0;34m{\u001b[0m\u001b[0mn\u001b[0m\u001b[0;34m**\u001b[0m\u001b[0;36m2\u001b[0m \u001b[0;32mfor\u001b[0m \u001b[0mn\u001b[0m \u001b[0;32min\u001b[0m \u001b[0mss\u001b[0m\u001b[0;34m}\u001b[0m\u001b[0;34m\u001b[0m\u001b[0;34m\u001b[0m\u001b[0m\n\u001b[0m",
      "\u001b[0;32m/var/folders/hp/zz_v74bx3912w8s2fz07537r0000gn/T/ipykernel_13755/2510787017.py\u001b[0m in \u001b[0;36m<setcomp>\u001b[0;34m(.0)\u001b[0m\n\u001b[1;32m      1\u001b[0m \u001b[0mss\u001b[0m \u001b[0;34m=\u001b[0m \u001b[0;34m{\u001b[0m\u001b[0;36m1\u001b[0m\u001b[0;34m,\u001b[0m\u001b[0;36m5\u001b[0m\u001b[0;34m,\u001b[0m\u001b[0;34m'abc'\u001b[0m\u001b[0;34m,\u001b[0m \u001b[0;34m(\u001b[0m\u001b[0;36m1\u001b[0m\u001b[0;34m,\u001b[0m\u001b[0;36m2\u001b[0m\u001b[0;34m)\u001b[0m\u001b[0;34m,\u001b[0m \u001b[0;36m3\u001b[0m\u001b[0;34m}\u001b[0m\u001b[0;34m\u001b[0m\u001b[0;34m\u001b[0m\u001b[0m\n\u001b[0;32m----> 2\u001b[0;31m \u001b[0;34m{\u001b[0m\u001b[0mn\u001b[0m\u001b[0;34m**\u001b[0m\u001b[0;36m2\u001b[0m \u001b[0;32mfor\u001b[0m \u001b[0mn\u001b[0m \u001b[0;32min\u001b[0m \u001b[0mss\u001b[0m\u001b[0;34m}\u001b[0m\u001b[0;34m\u001b[0m\u001b[0;34m\u001b[0m\u001b[0m\n\u001b[0m",
      "\u001b[0;31mTypeError\u001b[0m: unsupported operand type(s) for ** or pow(): 'tuple' and 'int'"
     ]
    }
   ],
   "source": [
    "ss = {1,5,'abc', (1,2), 3}\n",
    "{n**2 for n in ss}"
   ]
  },
  {
   "cell_type": "markdown",
   "id": "bd8f165f-61db-407b-b1d4-3ebb38de8dc7",
   "metadata": {},
   "source": [
    "## Set은 List에 비해서 처리 속도가 빠르다."
   ]
  },
  {
   "cell_type": "code",
   "execution_count": 14,
   "id": "62b79666-9111-4aa0-adea-fb8ca23be626",
   "metadata": {},
   "outputs": [],
   "source": [
    "import random\n",
    "random.seed(0)"
   ]
  },
  {
   "cell_type": "code",
   "execution_count": 15,
   "id": "49e52408-ba2d-48a9-a94c-453bdfa0d676",
   "metadata": {},
   "outputs": [],
   "source": [
    "N = 100\n",
    "lst = list(range(N+1))\n",
    "s = set(lst)"
   ]
  },
  {
   "cell_type": "code",
   "execution_count": 16,
   "id": "08821cbb-987b-4aef-921d-6962278cd309",
   "metadata": {},
   "outputs": [
    {
     "name": "stdout",
     "output_type": "stream",
     "text": [
      "69.5 µs ± 312 ns per loop (mean ± std. dev. of 7 runs, 10000 loops each)\n"
     ]
    }
   ],
   "source": [
    "%%timeit\n",
    "\n",
    "for i in range(50):\n",
    "    n = random.randint(0, 2*N)\n",
    "    n in lst"
   ]
  },
  {
   "cell_type": "code",
   "execution_count": 17,
   "id": "4b83cb4a-6084-47f2-8d47-faae47b62bcb",
   "metadata": {},
   "outputs": [
    {
     "name": "stdout",
     "output_type": "stream",
     "text": [
      "31.9 µs ± 113 ns per loop (mean ± std. dev. of 7 runs, 10000 loops each)\n"
     ]
    }
   ],
   "source": [
    "%%timeit\n",
    "\n",
    "for i in range(50):\n",
    "    n = random.randint(0, 2*N)\n",
    "    n in s"
   ]
  },
  {
   "cell_type": "code",
   "execution_count": 20,
   "id": "8b33c0dc-c3f1-4ad6-ab37-7f8852889b16",
   "metadata": {},
   "outputs": [
    {
     "name": "stdout",
     "output_type": "stream",
     "text": [
      "168 ms ± 1.03 ms per loop (mean ± std. dev. of 7 runs, 10 loops each)\n"
     ]
    }
   ],
   "source": [
    "%%timeit\n",
    "\n",
    "N = 100000\n",
    "\n",
    "for i in range(N+1):\n",
    "    n = random.randint(0, 2*N)\n",
    "    n in lst"
   ]
  },
  {
   "cell_type": "code",
   "execution_count": 19,
   "id": "6ce24981-86b0-4c7b-99e4-2157bab5e994",
   "metadata": {},
   "outputs": [
    {
     "name": "stdout",
     "output_type": "stream",
     "text": [
      "67.4 ms ± 497 µs per loop (mean ± std. dev. of 7 runs, 10 loops each)\n"
     ]
    }
   ],
   "source": [
    "%%timeit\n",
    "\n",
    "N = 100000\n",
    "\n",
    "for i in range(N+1):\n",
    "    n = random.randint(0, 2*N)\n",
    "    n in s"
   ]
  },
  {
   "cell_type": "code",
   "execution_count": 21,
   "id": "940f10d0-3a16-45b9-b77c-cd13fc722397",
   "metadata": {},
   "outputs": [
    {
     "data": {
      "text/plain": [
       "(2.1786833855799372, 2.492581602373887)"
      ]
     },
     "execution_count": 21,
     "metadata": {},
     "output_type": "execute_result"
    }
   ],
   "source": [
    "69.5/ 31.9 , 168/67.4"
   ]
  },
  {
   "cell_type": "markdown",
   "id": "0e537bcd-4fe1-41d1-aa36-4e4369b00e53",
   "metadata": {},
   "source": [
    "### Set 연산과 메소드 \n",
    "#### 멤버쉽 학인"
   ]
  },
  {
   "cell_type": "code",
   "execution_count": 23,
   "id": "4f02d243-07c8-4b4e-9af9-4213639b6b80",
   "metadata": {},
   "outputs": [
    {
     "data": {
      "text/plain": [
       "(True, False, True)"
      ]
     },
     "execution_count": 23,
     "metadata": {},
     "output_type": "execute_result"
    }
   ],
   "source": [
    "s1 = {1,2,3,4,5}\n",
    "s2 = {3,5,7,9}\n",
    "\n",
    "4 in s1, 4 in s2, 4 not in s2"
   ]
  },
  {
   "cell_type": "markdown",
   "id": "d3f0b7d9-8f01-4460-ad98-5089aa650007",
   "metadata": {},
   "source": [
    "### ADD\n",
    "`set.add(element)` : 세트에 새로운 element 추가. element가 이미 존재한다면 아무일도 일어나지 않음 왜냐면 셋은 중복 허용 안하니까."
   ]
  },
  {
   "cell_type": "code",
   "execution_count": 26,
   "id": "b642a6af-0ab6-4100-9f7c-4f715f3f6b88",
   "metadata": {},
   "outputs": [
    {
     "name": "stdout",
     "output_type": "stream",
     "text": [
      "{1, 3}\n",
      "{1, 3, 6}\n",
      "{1, 3, 6}\n",
      "{1, 3, 'abc', 6}\n"
     ]
    }
   ],
   "source": [
    "set_1 = {1, 3}\n",
    "print(set_1)\n",
    "set_1.add(6)\n",
    "print(set_1)\n",
    "set_1.add(6)\n",
    "print(set_1)\n",
    "set_1.add(\"abc\")\n",
    "print(set_1)\n",
    "# set_1.add({1,3}) -> unhashable type : set\n",
    "# print(set_1)"
   ]
  },
  {
   "cell_type": "markdown",
   "id": "6f44d89d-7415-44b9-8587-98b010e495f3",
   "metadata": {},
   "source": [
    "### POP\n",
    "\n",
    "`set.pop()` : 세트에서 임의의 원소를 제거하고 제거된 원소를 반환함."
   ]
  },
  {
   "cell_type": "code",
   "execution_count": 28,
   "id": "ce96eed2-021b-41dc-93ae-fb7a7134b987",
   "metadata": {},
   "outputs": [
    {
     "name": "stdout",
     "output_type": "stream",
     "text": [
      "{3, 'abc', 6}\n",
      "3\n",
      "{'abc', 6}\n"
     ]
    }
   ],
   "source": [
    "print(set_1)\n",
    "element = set_1.pop()\n",
    "print(element)\n",
    "print(set_1)"
   ]
  },
  {
   "cell_type": "markdown",
   "id": "5b6edfca-475a-4b7a-aa9f-1a87119740b8",
   "metadata": {},
   "source": [
    "### Discard\n",
    "\n",
    "`set.discard(element)` : 세트에서 element를 제거, element가 세트의 원소가 아니면 아무일도 일어나지 않음."
   ]
  },
  {
   "cell_type": "code",
   "execution_count": 29,
   "id": "fae51701-a442-4c26-88f2-8c5cd328dca2",
   "metadata": {},
   "outputs": [
    {
     "data": {
      "text/plain": [
       "{'b', 'g', 'r'}"
      ]
     },
     "execution_count": 29,
     "metadata": {},
     "output_type": "execute_result"
    }
   ],
   "source": [
    "color = {'r', 'g', 'b'}\n",
    "color"
   ]
  },
  {
   "cell_type": "code",
   "execution_count": 30,
   "id": "78e4ae67-dd9b-4dab-8b36-36ff5958400b",
   "metadata": {},
   "outputs": [
    {
     "data": {
      "text/plain": [
       "{'b', 'g', 'r'}"
      ]
     },
     "execution_count": 30,
     "metadata": {},
     "output_type": "execute_result"
    }
   ],
   "source": [
    "color.discard('m')\n",
    "color"
   ]
  },
  {
   "cell_type": "code",
   "execution_count": 31,
   "id": "6c57a62a-3b9e-4bdb-abad-7eebca9e2c5d",
   "metadata": {},
   "outputs": [
    {
     "data": {
      "text/plain": [
       "{'b', 'g'}"
      ]
     },
     "execution_count": 31,
     "metadata": {},
     "output_type": "execute_result"
    }
   ],
   "source": [
    "color.discard('r')\n",
    "color"
   ]
  },
  {
   "cell_type": "markdown",
   "id": "27c2f641-1172-4b31-a84e-12202ad5b940",
   "metadata": {},
   "source": [
    "### Remove\n",
    "`set.remove` : 세트에서 element제거, element가 세트의 원소가 아니면 Error 발생."
   ]
  },
  {
   "cell_type": "code",
   "execution_count": 34,
   "id": "528bba11-7d8c-414f-b4f7-3c2eab3cbd04",
   "metadata": {},
   "outputs": [
    {
     "data": {
      "text/plain": [
       "{'b', 'g', 'r'}"
      ]
     },
     "execution_count": 34,
     "metadata": {},
     "output_type": "execute_result"
    }
   ],
   "source": [
    "color = {'r', 'g', 'b'}\n",
    "color"
   ]
  },
  {
   "cell_type": "code",
   "execution_count": 35,
   "id": "42b19931-c842-4d69-b78d-24bd8426a42a",
   "metadata": {},
   "outputs": [
    {
     "data": {
      "text/plain": [
       "{'b', 'g'}"
      ]
     },
     "execution_count": 35,
     "metadata": {},
     "output_type": "execute_result"
    }
   ],
   "source": [
    "color.remove('r')\n",
    "color"
   ]
  },
  {
   "cell_type": "code",
   "execution_count": 36,
   "id": "a7087677-08eb-481f-9ecb-97fc7951379b",
   "metadata": {},
   "outputs": [
    {
     "ename": "KeyError",
     "evalue": "'m'",
     "output_type": "error",
     "traceback": [
      "\u001b[0;31m---------------------------------------------------------------------------\u001b[0m",
      "\u001b[0;31mKeyError\u001b[0m                                  Traceback (most recent call last)",
      "\u001b[0;32m/var/folders/hp/zz_v74bx3912w8s2fz07537r0000gn/T/ipykernel_13755/1760891637.py\u001b[0m in \u001b[0;36m<module>\u001b[0;34m\u001b[0m\n\u001b[0;32m----> 1\u001b[0;31m \u001b[0mcolor\u001b[0m\u001b[0;34m.\u001b[0m\u001b[0mremove\u001b[0m\u001b[0;34m(\u001b[0m\u001b[0;34m'm'\u001b[0m\u001b[0;34m)\u001b[0m\u001b[0;34m\u001b[0m\u001b[0;34m\u001b[0m\u001b[0m\n\u001b[0m\u001b[1;32m      2\u001b[0m \u001b[0mcolor\u001b[0m\u001b[0;34m\u001b[0m\u001b[0;34m\u001b[0m\u001b[0m\n",
      "\u001b[0;31mKeyError\u001b[0m: 'm'"
     ]
    }
   ],
   "source": [
    "color.remove('m')\n",
    "color"
   ]
  },
  {
   "cell_type": "markdown",
   "id": "edd195f0-86e3-40c9-96ad-66bd57bd83ee",
   "metadata": {},
   "source": [
    "### clear\n",
    "`set.clear()` : 세트에서 모든 원소를 제거"
   ]
  },
  {
   "cell_type": "code",
   "execution_count": 37,
   "id": "5a4ebcd8-614d-42d3-9840-ed9aaecae385",
   "metadata": {},
   "outputs": [
    {
     "data": {
      "text/plain": [
       "{'b', 'g'}"
      ]
     },
     "execution_count": 37,
     "metadata": {},
     "output_type": "execute_result"
    }
   ],
   "source": [
    "color"
   ]
  },
  {
   "cell_type": "code",
   "execution_count": 39,
   "id": "99430922-90a1-43f3-b247-c4ea07447ed9",
   "metadata": {},
   "outputs": [
    {
     "data": {
      "text/plain": [
       "set()"
      ]
     },
     "execution_count": 39,
     "metadata": {},
     "output_type": "execute_result"
    }
   ],
   "source": [
    "color.clear()\n",
    "color"
   ]
  },
  {
   "cell_type": "markdown",
   "id": "f24795d3-f89b-4957-b473-a92c424a1fd3",
   "metadata": {},
   "source": [
    "### Copy\n",
    "`set.copy()` : 셋에서 shallow copy를 반환.\n",
    "\n",
    "- shallow copy란 : 주소 참조하는 객체를 만드는 것이 아닌 또 다른 객체를 가지는 set반환"
   ]
  },
  {
   "cell_type": "code",
   "execution_count": 40,
   "id": "d24ed2a2-c6ed-405b-90bb-1268fdc5417e",
   "metadata": {},
   "outputs": [
    {
     "name": "stdout",
     "output_type": "stream",
     "text": [
      "{1, 3, 5}\n",
      "{1, 3, 5}\n",
      "{1, 3, 5}\n"
     ]
    }
   ],
   "source": [
    "set_2 = {1,3,5}\n",
    "set_3 = set_2\n",
    "set_4 = set_2.copy()\n",
    "print(set_2)\n",
    "print(set_3)\n",
    "print(set_4)"
   ]
  },
  {
   "cell_type": "code",
   "execution_count": 41,
   "id": "e0d650b8-dd99-41de-b858-01c6598551d3",
   "metadata": {},
   "outputs": [
    {
     "name": "stdout",
     "output_type": "stream",
     "text": [
      "140390669855424\n",
      "140390669855424\n",
      "140390669853856\n"
     ]
    },
    {
     "data": {
      "text/plain": [
       "(None, None, None)"
      ]
     },
     "execution_count": 41,
     "metadata": {},
     "output_type": "execute_result"
    }
   ],
   "source": [
    "print(id(set_2)), print(id(set_3)), print(id(set_4))"
   ]
  },
  {
   "cell_type": "code",
   "execution_count": 42,
   "id": "d3b05378-d86b-4126-a66c-bbb1d64112b0",
   "metadata": {},
   "outputs": [
    {
     "name": "stdout",
     "output_type": "stream",
     "text": [
      "{1, 2, 3, 5}\n",
      "{1, 2, 3, 5}\n",
      "{1, 3, 5}\n"
     ]
    }
   ],
   "source": [
    "set_2.add(2)\n",
    "\n",
    "print(set_2)\n",
    "print(set_3)\n",
    "print(set_4)"
   ]
  },
  {
   "cell_type": "markdown",
   "id": "5e1b9238-5546-4d9e-b7f1-60d75946a620",
   "metadata": {},
   "source": [
    "### 교집합 연산: intersection( ), &, intersection_update( )\n",
    "- `set1.intersection(set2)` : 두 세트 set1과 set2의 교집합을 반환. 두 세트는 변화 없음.\n",
    "- `set1.intersection_update(set2)` : set2는 변화가 없고, set1이 두 세트의 교집합이 됨"
   ]
  },
  {
   "cell_type": "code",
   "execution_count": 43,
   "id": "8dd77525-a759-4d4c-ab5b-a22a84a54551",
   "metadata": {},
   "outputs": [
    {
     "name": "stdout",
     "output_type": "stream",
     "text": [
      "Before intersection operation\n",
      "s1 =  {1, 3, 5, 7, 9}\n",
      "s2 =  {9, 11, 13, 7}\n",
      "After s1.intersection(s2)\n",
      "s1 =  {1, 3, 5, 7, 9}\n",
      "s2 =  {9, 11, 13, 7}\n",
      "s3 =  {9, 7}\n",
      "s4 =  {9, 7}\n",
      "After s1.intersection_update(s2)\n",
      "s1 =  {9, 7}\n",
      "s2 =  {9, 11, 13, 7}\n",
      "s3 =  {9, 7}\n",
      "s4 =  {9, 7}\n"
     ]
    }
   ],
   "source": [
    "s1 = {1, 3, 5, 7, 9}\n",
    "s2 = {7, 9, 11, 13}\n",
    "# pspmisc.plot_venn_diagram(s1, s2)\n",
    "print(\"Before intersection operation\")\n",
    "print(\"s1 = \", s1)\n",
    "print(\"s2 = \", s2)\n",
    "s3 = s1.intersection(s2)\n",
    "s4 = s1 & s2\n",
    "print(\"After s1.intersection(s2)\")\n",
    "print(\"s1 = \", s1)\n",
    "print(\"s2 = \", s2)\n",
    "print(\"s3 = \", s3)\n",
    "print(\"s4 = \", s4)\n",
    "s1.intersection_update(s2)\n",
    "print(\"After s1.intersection_update(s2)\")\n",
    "print(\"s1 = \", s1)\n",
    "print(\"s2 = \", s2)\n",
    "print(\"s3 = \", s3)\n",
    "print(\"s4 = \", s4)"
   ]
  },
  {
   "cell_type": "markdown",
   "id": "8cadaf48-e4c0-4ea7-bb6f-4d88277ceaa2",
   "metadata": {},
   "source": [
    "### 합집합 연산: union( ), |, update( )\n",
    "- `set1.union(set2)` : 두 세트 set1과 set2의 합집합을 반환. 두 세트는 변화 없음.\n",
    "- `set1.update(set2)` : set2는 변화가 없고, set1이 두 세트의 합집합이 됨"
   ]
  },
  {
   "cell_type": "code",
   "execution_count": 45,
   "id": "b00761f9-55e8-40c3-8578-4356843ef1be",
   "metadata": {},
   "outputs": [
    {
     "name": "stdout",
     "output_type": "stream",
     "text": [
      "Before union operation\n",
      "s1 =  {1, 3, 5, 7, 9}\n",
      "s2 =  {9, 11, 13, 7}\n",
      "After s1.union(s2)\n",
      "s1 =  {1, 3, 5, 7, 9}\n",
      "s2 =  {9, 11, 13, 7}\n",
      "s5 =  {1, 3, 5, 7, 9, 11, 13}\n",
      "s6 =  {1, 3, 5, 7, 9, 11, 13}\n",
      "After s1.update(s2)\n",
      "s1 =  {1, 3, 5, 7, 9, 11, 13}\n",
      "s2 =  {9, 11, 13, 7}\n",
      "s5 =  {1, 3, 5, 7, 9, 11, 13}\n",
      "s6 =  {1, 3, 5, 7, 9, 11, 13}\n"
     ]
    }
   ],
   "source": [
    "s1 = {1, 3, 5, 7, 9}\n",
    "s2 = {7, 9, 11, 13}\n",
    "# pspmisc.plot_venn_diagram(s1, s2)\n",
    "print(\"Before union operation\")\n",
    "print(\"s1 = \", s1)\n",
    "print(\"s2 = \", s2)\n",
    "s5 = s1.union(s2)\n",
    "s6 = s1 | s2\n",
    "print(\"After s1.union(s2)\")\n",
    "print(\"s1 = \", s1)\n",
    "print(\"s2 = \", s2)\n",
    "print(\"s5 = \", s5)\n",
    "print(\"s6 = \", s6)\n",
    "s3 = s1.update(s2)\n",
    "print(\"After s1.update(s2)\")\n",
    "print(\"s1 = \", s1)\n",
    "print(\"s2 = \", s2)\n",
    "print(\"s5 = \", s5)\n",
    "print(\"s6 = \", s6)"
   ]
  },
  {
   "cell_type": "markdown",
   "id": "4d3d1ece-0f4b-4d6f-a063-32a99bdbf0d1",
   "metadata": {},
   "source": [
    "### 차집합 연산 (Difference Set): difference( ), -, difference_update\n",
    "- `set1.difference(set2)` : set1에서 set2을 뺀 차집합을 반환. 두 세트는 변화 없음.\n",
    "- `set1.difference_update(set2)` : set2는 변화가 없고, set1이 두 세트의 차집합이 됨"
   ]
  },
  {
   "cell_type": "code",
   "execution_count": 47,
   "id": "08b7ec64-4a38-4223-b33c-78671d545748",
   "metadata": {},
   "outputs": [
    {
     "name": "stdout",
     "output_type": "stream",
     "text": [
      "Before difference operation\n",
      "s1 =  {1, 3, 5, 7, 9}\n",
      "s2 =  {9, 11, 13, 7}\n",
      "After s1.difference(s2)\n",
      "s1 =  {1, 3, 5, 7, 9}\n",
      "s2 =  {9, 11, 13, 7}\n",
      "s7 =  {1, 3, 5}\n",
      "s8 =  {1, 3, 5}\n",
      "After s1.difference_update(s2)\n",
      "s1 =  {1, 3, 5}\n",
      "s2 =  {9, 11, 13, 7}\n",
      "s7 =  {1, 3, 5}\n",
      "s8 =  {1, 3, 5}\n"
     ]
    }
   ],
   "source": [
    "s1 = {1, 3, 5, 7, 9}\n",
    "s2 = {7, 9, 11, 13}\n",
    "print(\"Before difference operation\")\n",
    "print(\"s1 = \", s1)\n",
    "print(\"s2 = \", s2)\n",
    "# pspmisc.plot_venn_diagram(s1, s2)\n",
    "s7 = s1.difference(s2)\n",
    "s8 = s1 - s2\n",
    "print(\"After s1.difference(s2)\")\n",
    "print(\"s1 = \", s1)\n",
    "print(\"s2 = \", s2)\n",
    "print(\"s7 = \", s7)\n",
    "print(\"s8 = \", s8)\n",
    "s1.difference_update(s2)\n",
    "print(\"After s1.difference_update(s2)\")\n",
    "print(\"s1 = \", s1)\n",
    "print(\"s2 = \", s2)\n",
    "print(\"s7 = \", s7)\n",
    "print(\"s8 = \", s8)"
   ]
  },
  {
   "cell_type": "code",
   "execution_count": 48,
   "id": "74358c81-2e32-4bef-9783-844da997141a",
   "metadata": {},
   "outputs": [
    {
     "data": {
      "text/plain": [
       "True"
      ]
     },
     "execution_count": 48,
     "metadata": {},
     "output_type": "execute_result"
    }
   ],
   "source": [
    "s1 - s2 == s1 - (s1 & s2)"
   ]
  },
  {
   "cell_type": "markdown",
   "id": "5e745a8b-e6b1-4131-9406-18fde4f8fdb1",
   "metadata": {},
   "source": [
    "### 대칭차집합 (Symmetric Difference Set): symmetric_difference(), ^, symmetric_difference_update\n",
    "- `set1.symmetric_difference(set2)` : set1에서 set2을 뺀 대칭차집합을 반환. 두 세트는 변화 없음.\n",
    "- `set1.symmetric_difference_update(set2) `: set2는 변화가 없고, set1이 두 세트의 대칭차집합이 됨"
   ]
  },
  {
   "cell_type": "code",
   "execution_count": 49,
   "id": "eb050ac9-38ef-4ef6-8cb8-8b8105108ef2",
   "metadata": {},
   "outputs": [
    {
     "name": "stdout",
     "output_type": "stream",
     "text": [
      "Before symmetric_difference operation\n",
      "s1 =  {1, 3, 5, 7, 9}\n",
      "s2 =  {9, 11, 13, 7}\n",
      "After s1.difference(s2)\n",
      "s1 =  {1, 3, 5, 7, 9}\n",
      "s2 =  {9, 11, 13, 7}\n",
      "s9 =  {1, 3, 5, 11, 13}\n",
      "s10 =  {1, 3, 5, 11, 13}\n",
      "After s1.symmetric_difference_update(s2)\n",
      "s1 =  {1, 3, 5, 11, 13}\n",
      "s2 =  {9, 11, 13, 7}\n",
      "s9 =  {1, 3, 5, 11, 13}\n",
      "s10 =  {1, 3, 5, 11, 13}\n"
     ]
    }
   ],
   "source": [
    "s1 = {1, 3, 5, 7, 9}\n",
    "s2 = {7, 9, 11, 13}\n",
    "print(\"Before symmetric_difference operation\")\n",
    "print(\"s1 = \", s1)\n",
    "print(\"s2 = \", s2)\n",
    "# pspmisc.plot_venn_diagram(s1, s2)\n",
    "s9 = s1.symmetric_difference(s2)\n",
    "s10 = s1 ^ s2\n",
    "print(\"After s1.difference(s2)\")\n",
    "print(\"s1 = \", s1)\n",
    "print(\"s2 = \", s2)\n",
    "print(\"s9 = \", s9)\n",
    "print(\"s10 = \", s10)\n",
    "s1.symmetric_difference_update(s2)\n",
    "print(\"After s1.symmetric_difference_update(s2)\")\n",
    "print(\"s1 = \", s1)\n",
    "print(\"s2 = \", s2)\n",
    "print(\"s9 = \", s9)\n",
    "print(\"s10 = \", s10)"
   ]
  },
  {
   "cell_type": "markdown",
   "id": "818529a2-f098-4fce-ac98-f33fad23dc32",
   "metadata": {},
   "source": [
    "### 부분집합과 진부분집합 확인\n",
    "- 부분집합 (subset) 확인: `issubset()`, `<=`\n",
    "- 진부분집합 (proper subset) 확인: `<`"
   ]
  },
  {
   "cell_type": "code",
   "execution_count": 50,
   "id": "8420ef19-2948-4cd6-bddc-26b458ca9ba2",
   "metadata": {},
   "outputs": [
    {
     "name": "stdout",
     "output_type": "stream",
     "text": [
      "ss1 < ss2 :  False\n",
      "ss1 <= ss2 :  True\n",
      "ss1 < ss3 :  True\n",
      "ss1 <= ss3 :  True\n",
      "ss1.issubset(ss2) : True\n",
      "ss1.issubset(ss3) : True\n"
     ]
    }
   ],
   "source": [
    "ss1 = {1, 3, 5, 7}\n",
    "ss2 = {1, 3, 5, 7}\n",
    "ss3 = {1, 3, 5, 7, 9, 11, 13}\n",
    "print(\"ss1 < ss2 : \", ss1 < ss2)\n",
    "print(\"ss1 <= ss2 : \", ss1 <= ss2)\n",
    "print(\"ss1 < ss3 : \", ss1 < ss3)\n",
    "print(\"ss1 <= ss3 : \", ss1 <= ss3)\n",
    "print(\"ss1.issubset(ss2) :\", ss1.issubset(ss2))\n",
    "print(\"ss1.issubset(ss3) :\", ss1.issubset(ss3))"
   ]
  },
  {
   "cell_type": "markdown",
   "id": "61275f2c-466e-4b50-9239-cb81ae1ab856",
   "metadata": {},
   "source": [
    "### 상위집합과 진상위집합 확인\n",
    "- 상위집합 (superset) 확인: `issuperset()` , `>=`\n",
    "- 진상위집합 (proper superset) 확인: `>`"
   ]
  },
  {
   "cell_type": "code",
   "execution_count": 51,
   "id": "960c8921-e2ce-403e-b691-e69a57bbd484",
   "metadata": {},
   "outputs": [
    {
     "name": "stdout",
     "output_type": "stream",
     "text": [
      "ss2 > ss1 :  False\n",
      "ss3 > ss1 :  True\n",
      "ss2 >= ss1 :  True\n",
      "ss3 >= ss1 :  True\n",
      "ss2.issuperset(ss1) : True\n",
      "ss3.issuperset(ss1) : True\n"
     ]
    }
   ],
   "source": [
    "ss1 = {1, 3, 5, 7}\n",
    "ss2 = {1, 3, 5, 7}\n",
    "ss3 = {1, 3, 5, 7, 9, 11, 13}\n",
    "print(\"ss2 > ss1 : \", ss2 > ss1)\n",
    "print(\"ss3 > ss1 : \", ss3 > ss1)\n",
    "print(\"ss2 >= ss1 : \", ss2 >= ss1)\n",
    "print(\"ss3 >= ss1 : \", ss3 >= ss1)\n",
    "print(\"ss2.issuperset(ss1) :\", ss2.issuperset(ss1))\n",
    "print(\"ss3.issuperset(ss1) :\", ss3.issuperset(ss1))"
   ]
  },
  {
   "cell_type": "markdown",
   "id": "86da3cfa-58e1-4a17-a1b2-7f025e07b61b",
   "metadata": {},
   "source": [
    "### 서로소집합 확인: isdisjoint()\n",
    "`set1.isdisjoint(set2)`: set1과 set2가 공통원소가 없는 서로소집합이면 True 반환, 그렇지 않으면 False 반환"
   ]
  },
  {
   "cell_type": "code",
   "execution_count": 52,
   "id": "48e36b37-0f49-46a6-bced-e0e90fd98b53",
   "metadata": {},
   "outputs": [
    {
     "name": "stdout",
     "output_type": "stream",
     "text": [
      "False\n",
      "False\n",
      "True\n",
      "True\n"
     ]
    }
   ],
   "source": [
    "a = {1, 3, 5}\n",
    "b = {3, 5, 7}\n",
    "c = {10, 11}\n",
    "print(a.isdisjoint(b))\n",
    "print(b.isdisjoint(a))\n",
    "print(a.isdisjoint(c))\n",
    "print(c.isdisjoint(a))"
   ]
  },
  {
   "cell_type": "markdown",
   "id": "35c3e07f-4ff1-43be-8a97-8085d73fecfe",
   "metadata": {},
   "source": [
    "### Set 관련 메쏘드\n",
    "- len(object): 컨테이너 내의 항목의 개수 반환\n",
    "- sum(iterable, start=0): iterable의 합과 start의 합을 반환\n",
    "- min(iterable): iterable 내의 최솟값을 반환\n",
    "- max(iterable): iterable 내의 최댓값을 반환\n",
    "- any(iterable): iterable 내의 어떤 x가 True이면 True를 반환\n",
    "- all(iterable): iterable 내의 모든 x가 True이면 True를 반환\n",
    "- sorted(sequence, key=None, reverse=False): sequence의 모든 값을 정렬하여 만든 리스트를 반환\n",
    "- enumerate(iterable, start=0): start로 시작하는 카운트와 iterable 내의 value의 쌍을 가진 enumerate 객체를 반환\n",
    "- filter(function, iterable): iterable의 항목 x 중에서 function(x)의 결과가 True인 x를 iterable로 반환"
   ]
  },
  {
   "cell_type": "code",
   "execution_count": 53,
   "id": "cfc7092a-95c5-4478-a59c-2dc25a6279f5",
   "metadata": {},
   "outputs": [
    {
     "name": "stdout",
     "output_type": "stream",
     "text": [
      "4\n",
      "18\n",
      "28\n",
      "1\n",
      "9\n",
      "True\n",
      "True\n",
      "[1, 3, 5, 9]\n",
      "[9, 5, 3, 1]\n"
     ]
    }
   ],
   "source": [
    "s = {1, 3, 9, 5}\n",
    "print(len(s))\n",
    "print(sum(s))\n",
    "print(sum(s, 10))\n",
    "print(min(s))\n",
    "print(max(s))\n",
    "print(any(s))\n",
    "print(all(s))\n",
    "print(sorted(s))\n",
    "print(sorted(s, reverse=True))"
   ]
  },
  {
   "cell_type": "code",
   "execution_count": 55,
   "id": "1ea9e732-08cb-4ec5-ad73-2106ab703e14",
   "metadata": {},
   "outputs": [
    {
     "name": "stdout",
     "output_type": "stream",
     "text": [
      "0 0\n",
      "1 1\n",
      "2 3\n",
      "3 5\n",
      "10 0\n",
      "11 1\n",
      "12 3\n",
      "13 5\n"
     ]
    }
   ],
   "source": [
    "a = {1, 5, 0, 3}\n",
    "for n, v in enumerate(a):\n",
    "    print(n, v)\n",
    "for n, v in enumerate(a, 10):\n",
    "    print(n, v)"
   ]
  },
  {
   "cell_type": "code",
   "execution_count": 56,
   "id": "68100b6f-19a6-4e87-b301-d04a1d7727ba",
   "metadata": {},
   "outputs": [
    {
     "name": "stdout",
     "output_type": "stream",
     "text": [
      "{1, 5, 9}\n"
     ]
    }
   ],
   "source": [
    "a = {1, -3, 5, -7, 9}\n",
    "y = filter(lambda x: x>0, a)\n",
    "print(set(y))"
   ]
  },
  {
   "cell_type": "markdown",
   "id": "ec08b277-d56c-476a-9e15-067a1a009fee",
   "metadata": {},
   "source": [
    "### Frozen Sets\n",
    "- Immutable 객체\n",
    "- Set 메쏘드 중에서 연산 결과가 set에 영향을 미치지 않는 연산만 적용 가능"
   ]
  },
  {
   "cell_type": "code",
   "execution_count": 57,
   "id": "726176c6-1b2f-4fc9-b7ea-4bfdb7a685a4",
   "metadata": {},
   "outputs": [
    {
     "name": "stdout",
     "output_type": "stream",
     "text": [
      "frozenset({1, 3, 5, 7, 9})\n",
      "frozenset({3, 5, 14, 7})\n"
     ]
    }
   ],
   "source": [
    "fs1 = frozenset([1, 5, 7, 3, 9])\n",
    "fs2 = frozenset([7, 3, 5, 3, 5, 7, 14]) # 중복된 원소는 제거된다\n",
    "print(fs1)\n",
    "print(fs2)"
   ]
  },
  {
   "cell_type": "code",
   "execution_count": 58,
   "id": "99df0c47-95ef-47e2-96f3-6cc3d0747cfa",
   "metadata": {},
   "outputs": [
    {
     "data": {
      "text/plain": [
       "frozenset({1, 3, 5, 7, 9, 14})"
      ]
     },
     "execution_count": 58,
     "metadata": {},
     "output_type": "execute_result"
    }
   ],
   "source": [
    "fs1.union(fs2)"
   ]
  },
  {
   "cell_type": "code",
   "execution_count": 59,
   "id": "20381ae2-c20f-425f-8f00-bd71caef81b0",
   "metadata": {},
   "outputs": [
    {
     "ename": "AttributeError",
     "evalue": "'frozenset' object has no attribute 'update'",
     "output_type": "error",
     "traceback": [
      "\u001b[0;31m---------------------------------------------------------------------------\u001b[0m",
      "\u001b[0;31mAttributeError\u001b[0m                            Traceback (most recent call last)",
      "\u001b[0;32m/var/folders/hp/zz_v74bx3912w8s2fz07537r0000gn/T/ipykernel_13755/3545644146.py\u001b[0m in \u001b[0;36m<module>\u001b[0;34m\u001b[0m\n\u001b[0;32m----> 1\u001b[0;31m \u001b[0mfs1\u001b[0m\u001b[0;34m.\u001b[0m\u001b[0mupdate\u001b[0m\u001b[0;34m(\u001b[0m\u001b[0mfs2\u001b[0m\u001b[0;34m)\u001b[0m\u001b[0;34m\u001b[0m\u001b[0;34m\u001b[0m\u001b[0m\n\u001b[0m",
      "\u001b[0;31mAttributeError\u001b[0m: 'frozenset' object has no attribute 'update'"
     ]
    }
   ],
   "source": [
    "fs1.update(fs2)"
   ]
  },
  {
   "cell_type": "code",
   "execution_count": 60,
   "id": "d15d72e1-23ed-42a0-9b19-4a9e7ae79aa8",
   "metadata": {},
   "outputs": [
    {
     "name": "stdout",
     "output_type": "stream",
     "text": [
      "frozenset({'c', 'b', 'a'})\n"
     ]
    }
   ],
   "source": [
    "fs3 = frozenset(\"abc\")\n",
    "print(fs3)"
   ]
  },
  {
   "cell_type": "code",
   "execution_count": 61,
   "id": "50aa9520-76b8-4083-b8ed-f9cd8ce00b45",
   "metadata": {},
   "outputs": [
    {
     "data": {
      "text/plain": [
       "{'abc'}"
      ]
     },
     "execution_count": 61,
     "metadata": {},
     "output_type": "execute_result"
    }
   ],
   "source": [
    "s5 = {'abc'}\n",
    "s5"
   ]
  },
  {
   "cell_type": "markdown",
   "id": "379165d1-84e6-46ae-b2ae-13f3c65b7176",
   "metadata": {},
   "source": [
    "### 1. List vs Set\n",
    "- List는 동정 배열 dynamic array 구조로 구현되어 있음."
   ]
  },
  {
   "cell_type": "code",
   "execution_count": 64,
   "id": "927dd809-6e66-4412-b322-d03f0bdf4f49",
   "metadata": {},
   "outputs": [
    {
     "name": "stdout",
     "output_type": "stream",
     "text": [
      "140390669836800 40\n",
      "140390669836800 72\n",
      "140390669836800 72\n",
      "140390669836800 72\n",
      "140390669836800 72\n",
      "140390669836800 104\n",
      "140390669836800 104\n",
      "140390669836800 104\n",
      "140390669836800 104\n",
      "140390669836800 168\n",
      "140390669836800 168\n",
      "140390669836800 168\n",
      "140390669836800 168\n",
      "140390669836800 168\n",
      "140390669836800 168\n",
      "140390669836800 168\n",
      "140390669836800 168\n",
      "140390669836800 232\n",
      "140390669836800 232\n",
      "140390669836800 232\n",
      "140390669836800 232\n",
      "140390669836800 232\n",
      "140390669836800 232\n",
      "140390669836800 232\n",
      "140390669836800 232\n",
      "140390669836800 296\n",
      "140390669836800 296\n",
      "140390669836800 296\n",
      "140390669836800 296\n",
      "140390669836800 296\n",
      "140390669836800 296\n",
      "140390669836800 296\n",
      "140390669836800 296\n",
      "140390669836800 360\n",
      "140390669836800 360\n",
      "140390669836800 360\n",
      "140390669836800 360\n",
      "140390669836800 360\n",
      "140390669836800 360\n",
      "140390669836800 360\n",
      "140390669836800 360\n",
      "140390669836800 456\n",
      "140390669836800 456\n",
      "140390669836800 456\n",
      "140390669836800 456\n",
      "140390669836800 456\n",
      "140390669836800 456\n",
      "140390669836800 456\n",
      "140390669836800 456\n",
      "140390669836800 456\n",
      "140390669836800 456\n",
      "140390669836800 456\n",
      "140390669836800 456\n",
      "140390669836800 552\n",
      "140390669836800 552\n",
      "140390669836800 552\n",
      "140390669836800 552\n",
      "140390669836800 552\n",
      "140390669836800 552\n",
      "140390669836800 552\n",
      "140390669836800 552\n",
      "140390669836800 552\n",
      "140390669836800 552\n",
      "140390669836800 552\n",
      "140390669836800 552\n",
      "140390669836800 648\n",
      "140390669836800 648\n",
      "140390669836800 648\n",
      "140390669836800 648\n",
      "140390669836800 648\n",
      "140390669836800 648\n",
      "140390669836800 648\n",
      "140390669836800 648\n",
      "140390669836800 648\n",
      "140390669836800 648\n",
      "140390669836800 648\n",
      "140390669836800 648\n",
      "140390669836800 776\n",
      "140390669836800 776\n",
      "140390669836800 776\n",
      "140390669836800 776\n",
      "140390669836800 776\n",
      "140390669836800 776\n",
      "140390669836800 776\n",
      "140390669836800 776\n",
      "140390669836800 776\n",
      "140390669836800 776\n",
      "140390669836800 776\n",
      "140390669836800 776\n",
      "140390669836800 776\n",
      "140390669836800 776\n",
      "140390669836800 776\n",
      "140390669836800 776\n",
      "140390669836800 904\n",
      "140390669836800 904\n",
      "140390669836800 904\n",
      "140390669836800 904\n",
      "140390669836800 904\n",
      "140390669836800 904\n",
      "140390669836800 904\n",
      "140390669836800 904\n"
     ]
    }
   ],
   "source": [
    "lst = []\n",
    "print(id(lst), lst.__sizeof__())\n",
    "for n in range(100):\n",
    "    lst.append(n)\n",
    "    print(id(lst), lst.__sizeof__())"
   ]
  },
  {
   "cell_type": "markdown",
   "id": "a1f9c909-0d8c-4128-a1e5-721b1d18c36a",
   "metadata": {},
   "source": [
    "### Set응용 예\n",
    "\n",
    "- 리스트에 중복된 원소가 있는지 확인하는 방법."
   ]
  },
  {
   "cell_type": "code",
   "execution_count": 174,
   "id": "380230f6-81d7-44dd-8e0f-f23bb175f8f3",
   "metadata": {},
   "outputs": [
    {
     "name": "stdout",
     "output_type": "stream",
     "text": [
      "60 89 71 92 82 21 43 63 72 88 80 52 70 14 18 33 13 46 97 17 94 67 16 58 11 62 98 100 96 47 중복원소 없음 30 길이 30\n"
     ]
    }
   ],
   "source": [
    "import random\n",
    "lst = [random.randint(0, 100) for _ in range(30)]\n",
    "\n",
    "for e in lst:\n",
    "    print(e, end = \" \")\n",
    "    \n",
    "if len(lst) == len(set(lst)):\n",
    "    print(\"중복원소 없음\", len(lst), \"길이\", len(set(lst)))\n",
    "else:\n",
    "    print(\"중복원소 있음\", len(lst), \"길이\", len(set(lst)))\n"
   ]
  },
  {
   "cell_type": "code",
   "execution_count": 158,
   "id": "10bd40a4-5f81-4598-867f-5f3cb769892a",
   "metadata": {},
   "outputs": [
    {
     "name": "stdout",
     "output_type": "stream",
     "text": [
      "중복원소 있음 30 길이 28\n"
     ]
    }
   ],
   "source": []
  },
  {
   "cell_type": "code",
   "execution_count": null,
   "id": "98cb1201-a6bf-4abe-9c68-89421716e9e3",
   "metadata": {},
   "outputs": [],
   "source": []
  }
 ],
 "metadata": {
  "kernelspec": {
   "display_name": "Python 3 (ipykernel)",
   "language": "python",
   "name": "python3"
  },
  "language_info": {
   "codemirror_mode": {
    "name": "ipython",
    "version": 3
   },
   "file_extension": ".py",
   "mimetype": "text/x-python",
   "name": "python",
   "nbconvert_exporter": "python",
   "pygments_lexer": "ipython3",
   "version": "3.9.7"
  }
 },
 "nbformat": 4,
 "nbformat_minor": 5
}
